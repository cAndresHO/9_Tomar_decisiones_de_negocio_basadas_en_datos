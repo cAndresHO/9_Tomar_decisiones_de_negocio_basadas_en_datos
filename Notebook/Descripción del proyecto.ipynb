{
 "cells": [
  {
   "cell_type": "markdown",
   "metadata": {},
   "source": [
    "# Descripción del proyecto\n",
    "## Contexto\n",
    "Análisis para una tienda en línea. Junto con el departamento de marketing se ha recopilado una lista de hipótesis que pueden ayudar a aumentar los ingresos. \n",
    "\n",
    "Se tiene que priorizar estas hipótesis, lanzar un test A/B y analizar los resultados."
   ]
  },
  {
   "cell_type": "markdown",
   "metadata": {},
   "source": [
    "# Descripción de los datos\n",
    "## Datos utilizados en la primera parte del proyecto\n",
    "\n",
    "/datasets/hypotheses_us.csv \n",
    "- Hypotheses: breves descripciones de las hipótesis\n",
    "- Reach: alcance del usuario, en una escala del uno a diez\n",
    "- Impact: impacto en los usuarios, en una escala del uno al diez\n",
    "- Confidence: confianza en la hipótesis, en una escala del uno al diez\n",
    "- Effort: los recursos necesarios para probar una hipótesis, en una escala del uno al diez. Cuanto mayor sea el valor Effort, más recursos requiere la prueba.\n",
    "\n",
    "## Datos utilizados en la segunda parte del proyecto\n",
    "\n",
    " /datasets/orders_us.csv \n",
    "- transactionId: identificador de pedido\n",
    "- visitorId: identificador del usuario que realizó el pedido\n",
    "- date: fecha del pedido\n",
    "- revenue: ingresos del pedido\n",
    "- group: el grupo del test A/B al que pertenece el usuario\n",
    "\n",
    "/datasets/visits_us.csv \n",
    "- date: la fecha\n",
    "- group: grupo del test A/B\n",
    "- visits: el número de visitas en la fecha especificada para el grupo de test A/B especificado"
   ]
  },
  {
   "cell_type": "markdown",
   "metadata": {},
   "source": []
  }
 ],
 "metadata": {
  "language_info": {
   "name": "python"
  }
 },
 "nbformat": 4,
 "nbformat_minor": 2
}
