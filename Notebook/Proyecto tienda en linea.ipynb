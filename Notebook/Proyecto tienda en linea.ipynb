{
 "cells": [
  {
   "cell_type": "markdown",
   "metadata": {},
   "source": [
    "----"
   ]
  },
  {
   "cell_type": "markdown",
   "metadata": {
    "toc": true
   },
   "source": [
    "<h1>Table of Contents<span class=\"tocSkip\"></span></h1>\n",
    "<div class=\"toc\"><ul class=\"toc-item\"><li><span><a href=\"#Librerías\" data-toc-modified-id=\"Librerías-1\">Librerías</a></span></li><li><span><a href=\"#Descargando-los-datos-y-prepáralos-para-el-análisis\" data-toc-modified-id=\"Descargando-los-datos-y-prepáralos-para-el-análisis-2\">Descargando los datos y prepáralos para el análisis</a></span><ul class=\"toc-item\"><li><span><a href=\"#Para-el-DF-de-hipotesis:\" data-toc-modified-id=\"Para-el-DF-de-hipotesis:-2.1\">Para el DF de hipotesis:</a></span><ul class=\"toc-item\"><li><span><a href=\"#Problemas-en-el-DF-de-hipótesis:\" data-toc-modified-id=\"Problemas-en-el-DF-de-hipótesis:-2.1.1\">Problemas en el DF de hipótesis:</a></span></li><li><span><a href=\"#Conclusiones-pre-procesamiento-DF-hipos:\" data-toc-modified-id=\"Conclusiones-pre-procesamiento-DF-hipos:-2.1.2\">Conclusiones pre-procesamiento DF hipos:</a></span></li></ul></li><li><span><a href=\"#Para-el-DF-de-órdenes:\" data-toc-modified-id=\"Para-el-DF-de-órdenes:-2.2\">Para el DF de órdenes:</a></span><ul class=\"toc-item\"><li><span><a href=\"#Problemas-en-el-DF-de-orders:\" data-toc-modified-id=\"Problemas-en-el-DF-de-orders:-2.2.1\">Problemas en el DF de orders:</a></span></li><li><span><a href=\"#Conclusiones-pre-procesamiento-DF-orders:\" data-toc-modified-id=\"Conclusiones-pre-procesamiento-DF-orders:-2.2.2\">Conclusiones pre-procesamiento DF orders:</a></span></li></ul></li><li><span><a href=\"#Para-el-DF-de-visits:\" data-toc-modified-id=\"Para-el-DF-de-visits:-2.3\">Para el DF de visits:</a></span><ul class=\"toc-item\"><li><span><a href=\"#Problemas-en-el-DF-de-visits:\" data-toc-modified-id=\"Problemas-en-el-DF-de-visits:-2.3.1\">Problemas en el DF de visits:</a></span></li><li><span><a href=\"#Conclusiones-pre-procesamiento-DF-visits:\" data-toc-modified-id=\"Conclusiones-pre-procesamiento-DF-visits:-2.3.2\">Conclusiones pre-procesamiento DF visits:</a></span></li></ul></li></ul></li><li><span><a href=\"#Parte-1.-Priorizar-hipótesis\" data-toc-modified-id=\"Parte-1.-Priorizar-hipótesis-3\">Parte 1. Priorizar hipótesis</a></span><ul class=\"toc-item\"><li><span><a href=\"#ICE\" data-toc-modified-id=\"ICE-3.1\">ICE</a></span><ul class=\"toc-item\"><li><span><a href=\"#Para-el-ice_score:\" data-toc-modified-id=\"Para-el-ice_score:-3.1.1\">Para el ice_score:</a></span></li></ul></li><li><span><a href=\"#RICE\" data-toc-modified-id=\"RICE-3.2\">RICE</a></span><ul class=\"toc-item\"><li><span><a href=\"#Para-el-rice_score:\" data-toc-modified-id=\"Para-el-rice_score:-3.2.1\">Para el rice_score:</a></span></li></ul></li></ul></li><li><span><a href=\"#Cambios-en-la-priorización-de-la-hipótesis\" data-toc-modified-id=\"Cambios-en-la-priorización-de-la-hipótesis-4\">Cambios en la priorización de la hipótesis</a></span></li><li><span><a href=\"#Parte-2.-Análisis-de-test-A/B\" data-toc-modified-id=\"Parte-2.-Análisis-de-test-A/B-5\">Parte 2. Análisis de test A/B</a></span><ul class=\"toc-item\"><li><span><a href=\"#1.-Representa-gráficamente-el-ingreso-acumulado-por-grupo.-Haz-conclusiones-y-conjeturas.\" data-toc-modified-id=\"1.-Representa-gráficamente-el-ingreso-acumulado-por-grupo.-Haz-conclusiones-y-conjeturas.-5.1\">1. Representa gráficamente el ingreso acumulado por grupo. Haz conclusiones y conjeturas.</a></span></li><li><span><a href=\"#2.-Representa-gráficamente-el-tamaño-de-pedido-promedio-acumulado-por-grupo.-Haz-conclusiones-y-conjeturas.\" data-toc-modified-id=\"2.-Representa-gráficamente-el-tamaño-de-pedido-promedio-acumulado-por-grupo.-Haz-conclusiones-y-conjeturas.-5.2\">2. Representa gráficamente el tamaño de pedido promedio acumulado por grupo. Haz conclusiones y conjeturas.</a></span></li><li><span><a href=\"#3.-Representa-gráficamente-la-diferencia-relativa-en-el-tamaño-de-pedido-promedio-acumulado-para-el-grupo-B-en-comparación-con-el-grupo-A.-Haz-conclusiones-y-conjeturas.\" data-toc-modified-id=\"3.-Representa-gráficamente-la-diferencia-relativa-en-el-tamaño-de-pedido-promedio-acumulado-para-el-grupo-B-en-comparación-con-el-grupo-A.-Haz-conclusiones-y-conjeturas.-5.3\">3. Representa gráficamente la diferencia relativa en el tamaño de pedido promedio acumulado para el grupo B en comparación con el grupo A. Haz conclusiones y conjeturas.</a></span></li><li><span><a href=\"#4.-Calcula-la-tasa-de-conversión-de-cada-grupo-como-la-relación-entre-los-pedidos-y-el-número-de-visitas-de-cada-día.-Representa-gráficamente-las-tasas-de-conversión-diarias-de-los-dos-grupos-y-describe-la-diferencia.-Saca-conclusiones-y-haz-conjeturas.\" data-toc-modified-id=\"4.-Calcula-la-tasa-de-conversión-de-cada-grupo-como-la-relación-entre-los-pedidos-y-el-número-de-visitas-de-cada-día.-Representa-gráficamente-las-tasas-de-conversión-diarias-de-los-dos-grupos-y-describe-la-diferencia.-Saca-conclusiones-y-haz-conjeturas.-5.4\">4. Calcula la tasa de conversión de cada grupo como la relación entre los pedidos y el número de visitas de cada día. Representa gráficamente las tasas de conversión diarias de los dos grupos y describe la diferencia. Saca conclusiones y haz conjeturas.</a></span><ul class=\"toc-item\"><li><span><a href=\"#4.1-Diferencia-relativa-para-las-tasas-de-conversión-acumuladas\" data-toc-modified-id=\"4.1-Diferencia-relativa-para-las-tasas-de-conversión-acumuladas-5.4.1\">4.1 Diferencia relativa para las tasas de conversión acumuladas</a></span></li></ul></li><li><span><a href=\"#5.-Traza-un-gráfico-de-dispersión-del-número-de-pedidos-por-usuario.-Haz-conclusiones-y-conjeturas.\" data-toc-modified-id=\"5.-Traza-un-gráfico-de-dispersión-del-número-de-pedidos-por-usuario.-Haz-conclusiones-y-conjeturas.-5.5\">5. Traza un gráfico de dispersión del número de pedidos por usuario. Haz conclusiones y conjeturas.</a></span></li><li><span><a href=\"#6.-Calcula-los-percentiles-95-y-99-para-el-número-de-pedidos-por-usuario.-Define-el-punto-en-el-cual-un-punto-de-datos-se-convierte-en-una-anomalía.\" data-toc-modified-id=\"6.-Calcula-los-percentiles-95-y-99-para-el-número-de-pedidos-por-usuario.-Define-el-punto-en-el-cual-un-punto-de-datos-se-convierte-en-una-anomalía.-5.6\">6. Calcula los percentiles 95 y 99 para el número de pedidos por usuario. Define el punto en el cual un punto de datos se convierte en una anomalía.</a></span></li><li><span><a href=\"#7.-Traza-un-gráfico-de-dispersión-de-los-precios-de-los-pedidos.-Haz-conclusiones-y-conjeturas.\" data-toc-modified-id=\"7.-Traza-un-gráfico-de-dispersión-de-los-precios-de-los-pedidos.-Haz-conclusiones-y-conjeturas.-5.7\">7. Traza un gráfico de dispersión de los precios de los pedidos. Haz conclusiones y conjeturas.</a></span></li><li><span><a href=\"#8.-Calcula-los-percentiles-95-y-99-de-los-precios-de-los-pedidos.-Define-el-punto-en-el-cual-un-punto-de-datos-se-convierte-en-una-anomalía.\" data-toc-modified-id=\"8.-Calcula-los-percentiles-95-y-99-de-los-precios-de-los-pedidos.-Define-el-punto-en-el-cual-un-punto-de-datos-se-convierte-en-una-anomalía.-5.8\">8. Calcula los percentiles 95 y 99 de los precios de los pedidos. Define el punto en el cual un punto de datos se convierte en una anomalía.</a></span></li><li><span><a href=\"#9.-Encuentra-la-significancia-estadística-de-la-diferencia-en-la-conversión-entre-los-grupos-utilizando-los-datos-en-bruto.-Haz-conclusiones-y-conjeturas.\" data-toc-modified-id=\"9.-Encuentra-la-significancia-estadística-de-la-diferencia-en-la-conversión-entre-los-grupos-utilizando-los-datos-en-bruto.-Haz-conclusiones-y-conjeturas.-5.9\">9. Encuentra la significancia estadística de la diferencia en la conversión entre los grupos utilizando los datos en bruto. Haz conclusiones y conjeturas.</a></span></li><li><span><a href=\"#10.-Encuentra-la-significancia-estadística-de-la-diferencia-en-el-tamaño-promedio-de-pedido-entre-los-grupos-utilizando-los-datos-en-bruto.-Haz-conclusiones-y-conjeturas.\" data-toc-modified-id=\"10.-Encuentra-la-significancia-estadística-de-la-diferencia-en-el-tamaño-promedio-de-pedido-entre-los-grupos-utilizando-los-datos-en-bruto.-Haz-conclusiones-y-conjeturas.-5.10\">10. Encuentra la significancia estadística de la diferencia en el tamaño promedio de pedido entre los grupos utilizando los datos en bruto. Haz conclusiones y conjeturas.</a></span></li><li><span><a href=\"#11.-Encuentra-la-significancia-estadística-de-la-diferencia-en-la-conversión-entre-los-grupos-utilizando-los-datos-filtrados.-Haz-conclusiones-y-conjeturas.\" data-toc-modified-id=\"11.-Encuentra-la-significancia-estadística-de-la-diferencia-en-la-conversión-entre-los-grupos-utilizando-los-datos-filtrados.-Haz-conclusiones-y-conjeturas.-5.11\">11. Encuentra la significancia estadística de la diferencia en la conversión entre los grupos utilizando los datos filtrados. Haz conclusiones y conjeturas.</a></span></li><li><span><a href=\"#12.-Encuentra-la-significancia-estadística-de-la-diferencia-en-el-tamaño-promedio-de-pedido-entre-los-grupos-utilizando-los-datos-filtrados.-Haz-conclusiones-y-conjeturas.\" data-toc-modified-id=\"12.-Encuentra-la-significancia-estadística-de-la-diferencia-en-el-tamaño-promedio-de-pedido-entre-los-grupos-utilizando-los-datos-filtrados.-Haz-conclusiones-y-conjeturas.-5.12\">12. Encuentra la significancia estadística de la diferencia en el tamaño promedio de pedido entre los grupos utilizando los datos filtrados. Haz conclusiones y conjeturas.</a></span></li><li><span><a href=\"#Conclusiones\" data-toc-modified-id=\"Conclusiones-5.13\">Conclusiones</a></span></li><li><span><a href=\"#13.-Toma-una-decisión-basada-en-los-resultados-de-la-prueba.-Las-decisiones-posibles-son:-1.-Para-la-prueba,-considera-a-uno-de-los-grupos-como-líder.-2.-Para-la-prueba,-concluye-que-no-hay-diferencia-entre-los-grupos.-3.-Continúa-la-prueba.\" data-toc-modified-id=\"13.-Toma-una-decisión-basada-en-los-resultados-de-la-prueba.-Las-decisiones-posibles-son:-1.-Para-la-prueba,-considera-a-uno-de-los-grupos-como-líder.-2.-Para-la-prueba,-concluye-que-no-hay-diferencia-entre-los-grupos.-3.-Continúa-la-prueba.-5.14\">13. Toma una decisión basada en los resultados de la prueba. Las decisiones posibles son: 1. Para la prueba, considera a uno de los grupos como líder. 2. Para la prueba, concluye que no hay diferencia entre los grupos. 3. Continúa la prueba.</a></span></li></ul></li></ul></div>"
   ]
  },
  {
   "cell_type": "markdown",
   "metadata": {},
   "source": [
    "## Librerías"
   ]
  },
  {
   "cell_type": "code",
   "execution_count": 9,
   "metadata": {},
   "outputs": [],
   "source": [
    "#Importando librerías \n",
    "import pandas as pd\n",
    "import plotly.express as px\n",
    "import numpy as np\n",
    "import seaborn as sns\n",
    "from matplotlib import pyplot as plt\n",
    "import plotly.graph_objects as go\n",
    "from plotly.subplots import make_subplots\n",
    "import scipy.stats as stats\n",
    "from scipy import stats as st"
   ]
  },
  {
   "cell_type": "markdown",
   "metadata": {},
   "source": [
    "## Descargando los datos y prepáralos para el análisis"
   ]
  },
  {
   "cell_type": "code",
   "execution_count": 10,
   "metadata": {},
   "outputs": [
    {
     "name": "stderr",
     "output_type": "stream",
     "text": [
      "<>:2: SyntaxWarning:\n",
      "\n",
      "invalid escape sequence '\\T'\n",
      "\n",
      "<>:2: SyntaxWarning:\n",
      "\n",
      "invalid escape sequence '\\T'\n",
      "\n",
      "C:\\Users\\Win10Pro\\AppData\\Local\\Temp\\ipykernel_53836\\3041405317.py:2: SyntaxWarning:\n",
      "\n",
      "invalid escape sequence '\\T'\n",
      "\n"
     ]
    }
   ],
   "source": [
    "#Importando archivos\n",
    "path= 'D:\\TripleTen\\\\Sprint 9_ Tomar decisiones de negocio basadas en datos\\\\Repositorio\\\\Data\\\\'\n",
    "hipos = pd.read_csv(path + 'hypotheses_us.csv')\n",
    "orders = pd.read_csv(path + 'orders_us.csv')\n",
    "visits = pd.read_csv(path + 'visits_us.csv')"
   ]
  },
  {
   "cell_type": "code",
   "execution_count": 11,
   "metadata": {},
   "outputs": [],
   "source": [
    "pd.set_option('display.max_colwidth', None) #Para ver las filas completas"
   ]
  },
  {
   "cell_type": "code",
   "execution_count": 12,
   "metadata": {},
   "outputs": [],
   "source": [
    "# Para las gráficas de plotly en github\n",
    "import plotly.io as pio\n",
    "pio.renderers.default = \"svg\""
   ]
  },
  {
   "cell_type": "markdown",
   "metadata": {},
   "source": [
    "### Para el DF de hipotesis:"
   ]
  },
  {
   "cell_type": "code",
   "execution_count": 13,
   "metadata": {},
   "outputs": [
    {
     "data": {
      "text/html": [
       "<div>\n",
       "<style scoped>\n",
       "    .dataframe tbody tr th:only-of-type {\n",
       "        vertical-align: middle;\n",
       "    }\n",
       "\n",
       "    .dataframe tbody tr th {\n",
       "        vertical-align: top;\n",
       "    }\n",
       "\n",
       "    .dataframe thead th {\n",
       "        text-align: right;\n",
       "    }\n",
       "</style>\n",
       "<table border=\"1\" class=\"dataframe\">\n",
       "  <thead>\n",
       "    <tr style=\"text-align: right;\">\n",
       "      <th></th>\n",
       "      <th>Hypothesis;Reach;Impact;Confidence;Effort</th>\n",
       "    </tr>\n",
       "  </thead>\n",
       "  <tbody>\n",
       "    <tr>\n",
       "      <th>0</th>\n",
       "      <td>Add two new channels for attracting traffic. This will bring 30% more users;3;10;8;6</td>\n",
       "    </tr>\n",
       "    <tr>\n",
       "      <th>1</th>\n",
       "      <td>Launch your own delivery service. This will shorten delivery time;2;5;4;10</td>\n",
       "    </tr>\n",
       "    <tr>\n",
       "      <th>2</th>\n",
       "      <td>Add product recommendation blocks to the store's site. This will increase conversion and average purchase size;8;3;7;3</td>\n",
       "    </tr>\n",
       "    <tr>\n",
       "      <th>3</th>\n",
       "      <td>Change the category structure. This will increase conversion since users will find the products they want more quickly;8;3;3;8</td>\n",
       "    </tr>\n",
       "    <tr>\n",
       "      <th>4</th>\n",
       "      <td>Change the background color on the main page. This will increase user engagement;3;1;1;1</td>\n",
       "    </tr>\n",
       "  </tbody>\n",
       "</table>\n",
       "</div>"
      ],
      "text/plain": [
       "                                                                                        Hypothesis;Reach;Impact;Confidence;Effort\n",
       "0                                            Add two new channels for attracting traffic. This will bring 30% more users;3;10;8;6\n",
       "1                                                      Launch your own delivery service. This will shorten delivery time;2;5;4;10\n",
       "2          Add product recommendation blocks to the store's site. This will increase conversion and average purchase size;8;3;7;3\n",
       "3  Change the category structure. This will increase conversion since users will find the products they want more quickly;8;3;3;8\n",
       "4                                        Change the background color on the main page. This will increase user engagement;3;1;1;1"
      ]
     },
     "execution_count": 13,
     "metadata": {},
     "output_type": "execute_result"
    }
   ],
   "source": [
    "hipos.head()"
   ]
  },
  {
   "cell_type": "code",
   "execution_count": 14,
   "metadata": {},
   "outputs": [
    {
     "name": "stdout",
     "output_type": "stream",
     "text": [
      "<class 'pandas.core.frame.DataFrame'>\n",
      "RangeIndex: 9 entries, 0 to 8\n",
      "Data columns (total 1 columns):\n",
      " #   Column                                     Non-Null Count  Dtype \n",
      "---  ------                                     --------------  ----- \n",
      " 0   Hypothesis;Reach;Impact;Confidence;Effort  9 non-null      object\n",
      "dtypes: object(1)\n",
      "memory usage: 204.0+ bytes\n"
     ]
    }
   ],
   "source": [
    "hipos.info()"
   ]
  },
  {
   "cell_type": "markdown",
   "metadata": {},
   "source": [
    "#### Problemas en el DF de hipótesis:\n",
    "1. Separadores\n",
    "2. Nombre de columnas con mayúsculas"
   ]
  },
  {
   "cell_type": "code",
   "execution_count": 15,
   "metadata": {},
   "outputs": [
    {
     "data": {
      "text/html": [
       "<div>\n",
       "<style scoped>\n",
       "    .dataframe tbody tr th:only-of-type {\n",
       "        vertical-align: middle;\n",
       "    }\n",
       "\n",
       "    .dataframe tbody tr th {\n",
       "        vertical-align: top;\n",
       "    }\n",
       "\n",
       "    .dataframe thead th {\n",
       "        text-align: right;\n",
       "    }\n",
       "</style>\n",
       "<table border=\"1\" class=\"dataframe\">\n",
       "  <thead>\n",
       "    <tr style=\"text-align: right;\">\n",
       "      <th></th>\n",
       "      <th>Hypothesis</th>\n",
       "      <th>Reach</th>\n",
       "      <th>Impact</th>\n",
       "      <th>Confidence</th>\n",
       "      <th>Effort</th>\n",
       "    </tr>\n",
       "  </thead>\n",
       "  <tbody>\n",
       "    <tr>\n",
       "      <th>0</th>\n",
       "      <td>Add two new channels for attracting traffic. This will bring 30% more users</td>\n",
       "      <td>3</td>\n",
       "      <td>10</td>\n",
       "      <td>8</td>\n",
       "      <td>6</td>\n",
       "    </tr>\n",
       "    <tr>\n",
       "      <th>1</th>\n",
       "      <td>Launch your own delivery service. This will shorten delivery time</td>\n",
       "      <td>2</td>\n",
       "      <td>5</td>\n",
       "      <td>4</td>\n",
       "      <td>10</td>\n",
       "    </tr>\n",
       "    <tr>\n",
       "      <th>2</th>\n",
       "      <td>Add product recommendation blocks to the store's site. This will increase conversion and average purchase size</td>\n",
       "      <td>8</td>\n",
       "      <td>3</td>\n",
       "      <td>7</td>\n",
       "      <td>3</td>\n",
       "    </tr>\n",
       "    <tr>\n",
       "      <th>3</th>\n",
       "      <td>Change the category structure. This will increase conversion since users will find the products they want more quickly</td>\n",
       "      <td>8</td>\n",
       "      <td>3</td>\n",
       "      <td>3</td>\n",
       "      <td>8</td>\n",
       "    </tr>\n",
       "    <tr>\n",
       "      <th>4</th>\n",
       "      <td>Change the background color on the main page. This will increase user engagement</td>\n",
       "      <td>3</td>\n",
       "      <td>1</td>\n",
       "      <td>1</td>\n",
       "      <td>1</td>\n",
       "    </tr>\n",
       "  </tbody>\n",
       "</table>\n",
       "</div>"
      ],
      "text/plain": [
       "                                                                                                               Hypothesis  \\\n",
       "0                                             Add two new channels for attracting traffic. This will bring 30% more users   \n",
       "1                                                       Launch your own delivery service. This will shorten delivery time   \n",
       "2          Add product recommendation blocks to the store's site. This will increase conversion and average purchase size   \n",
       "3  Change the category structure. This will increase conversion since users will find the products they want more quickly   \n",
       "4                                        Change the background color on the main page. This will increase user engagement   \n",
       "\n",
       "   Reach  Impact  Confidence  Effort  \n",
       "0      3      10           8       6  \n",
       "1      2       5           4      10  \n",
       "2      8       3           7       3  \n",
       "3      8       3           3       8  \n",
       "4      3       1           1       1  "
      ]
     },
     "execution_count": 15,
     "metadata": {},
     "output_type": "execute_result"
    }
   ],
   "source": [
    "# Corrigiendo los separadores del DF\n",
    "hipos = pd.read_csv(path + 'hypotheses_us.csv', sep=';')\n",
    "hipos.head()"
   ]
  },
  {
   "cell_type": "code",
   "execution_count": 16,
   "metadata": {},
   "outputs": [
    {
     "data": {
      "text/plain": [
       "Index(['Hypothesis', 'Reach', 'Impact', 'Confidence', 'Effort'], dtype='object')"
      ]
     },
     "execution_count": 16,
     "metadata": {},
     "output_type": "execute_result"
    }
   ],
   "source": [
    "hipos.columns"
   ]
  },
  {
   "cell_type": "code",
   "execution_count": 17,
   "metadata": {},
   "outputs": [
    {
     "name": "stdout",
     "output_type": "stream",
     "text": [
      "<class 'pandas.core.frame.DataFrame'>\n",
      "RangeIndex: 9 entries, 0 to 8\n",
      "Data columns (total 5 columns):\n",
      " #   Column      Non-Null Count  Dtype \n",
      "---  ------      --------------  ----- \n",
      " 0   Hypothesis  9 non-null      object\n",
      " 1   Reach       9 non-null      int64 \n",
      " 2   Impact      9 non-null      int64 \n",
      " 3   Confidence  9 non-null      int64 \n",
      " 4   Effort      9 non-null      int64 \n",
      "dtypes: int64(4), object(1)\n",
      "memory usage: 492.0+ bytes\n"
     ]
    }
   ],
   "source": [
    "hipos.info()"
   ]
  },
  {
   "cell_type": "code",
   "execution_count": 18,
   "metadata": {},
   "outputs": [
    {
     "data": {
      "text/plain": [
       "Index(['hypothesis', 'reach', 'impact', 'confidence', 'effort'], dtype='object')"
      ]
     },
     "execution_count": 18,
     "metadata": {},
     "output_type": "execute_result"
    }
   ],
   "source": [
    "# Cambiando el nombre del las columnas a minusculas\n",
    "new_col_names= []\n",
    "for old_name in hipos:\n",
    "    name_lowered = old_name.lower()\n",
    "    new_col_names.append(name_lowered)\n",
    "    \n",
    "hipos.columns = new_col_names\n",
    "\n",
    "hipos.columns"
   ]
  },
  {
   "cell_type": "code",
   "execution_count": 19,
   "metadata": {},
   "outputs": [
    {
     "data": {
      "text/plain": [
       "hypothesis    0\n",
       "reach         0\n",
       "impact        0\n",
       "confidence    0\n",
       "effort        0\n",
       "dtype: int64"
      ]
     },
     "execution_count": 19,
     "metadata": {},
     "output_type": "execute_result"
    }
   ],
   "source": [
    "# Verificando valores ausentes:\n",
    "hipos.isna().sum()"
   ]
  },
  {
   "cell_type": "code",
   "execution_count": 20,
   "metadata": {},
   "outputs": [
    {
     "data": {
      "text/plain": [
       "0"
      ]
     },
     "execution_count": 20,
     "metadata": {},
     "output_type": "execute_result"
    }
   ],
   "source": [
    "# Verificando valores duplicados:\n",
    "hipos.duplicated().sum()"
   ]
  },
  {
   "cell_type": "markdown",
   "metadata": {},
   "source": [
    "#### Conclusiones pre-procesamiento DF hipos:\n",
    "- Se cambió el separador del DataFrame para las columnas.\n",
    "- Se modificó en nombre de las columnas para que estén en minúsculas.\n",
    "- El DF no tiene valores ausentes.\n",
    "- Por su naturaleza, Este DF no debería tener valores duplicados. Sin embargo, se confirmó con una prueba."
   ]
  },
  {
   "cell_type": "markdown",
   "metadata": {},
   "source": [
    "### Para el DF de órdenes:"
   ]
  },
  {
   "cell_type": "code",
   "execution_count": 21,
   "metadata": {},
   "outputs": [
    {
     "data": {
      "text/html": [
       "<div>\n",
       "<style scoped>\n",
       "    .dataframe tbody tr th:only-of-type {\n",
       "        vertical-align: middle;\n",
       "    }\n",
       "\n",
       "    .dataframe tbody tr th {\n",
       "        vertical-align: top;\n",
       "    }\n",
       "\n",
       "    .dataframe thead th {\n",
       "        text-align: right;\n",
       "    }\n",
       "</style>\n",
       "<table border=\"1\" class=\"dataframe\">\n",
       "  <thead>\n",
       "    <tr style=\"text-align: right;\">\n",
       "      <th></th>\n",
       "      <th>transactionId</th>\n",
       "      <th>visitorId</th>\n",
       "      <th>date</th>\n",
       "      <th>revenue</th>\n",
       "      <th>group</th>\n",
       "    </tr>\n",
       "  </thead>\n",
       "  <tbody>\n",
       "    <tr>\n",
       "      <th>0</th>\n",
       "      <td>3667963787</td>\n",
       "      <td>3312258926</td>\n",
       "      <td>2019-08-15</td>\n",
       "      <td>30.4</td>\n",
       "      <td>B</td>\n",
       "    </tr>\n",
       "    <tr>\n",
       "      <th>1</th>\n",
       "      <td>2804400009</td>\n",
       "      <td>3642806036</td>\n",
       "      <td>2019-08-15</td>\n",
       "      <td>15.2</td>\n",
       "      <td>B</td>\n",
       "    </tr>\n",
       "    <tr>\n",
       "      <th>2</th>\n",
       "      <td>2961555356</td>\n",
       "      <td>4069496402</td>\n",
       "      <td>2019-08-15</td>\n",
       "      <td>10.2</td>\n",
       "      <td>A</td>\n",
       "    </tr>\n",
       "    <tr>\n",
       "      <th>3</th>\n",
       "      <td>3797467345</td>\n",
       "      <td>1196621759</td>\n",
       "      <td>2019-08-15</td>\n",
       "      <td>155.1</td>\n",
       "      <td>B</td>\n",
       "    </tr>\n",
       "    <tr>\n",
       "      <th>4</th>\n",
       "      <td>2282983706</td>\n",
       "      <td>2322279887</td>\n",
       "      <td>2019-08-15</td>\n",
       "      <td>40.5</td>\n",
       "      <td>B</td>\n",
       "    </tr>\n",
       "    <tr>\n",
       "      <th>...</th>\n",
       "      <td>...</td>\n",
       "      <td>...</td>\n",
       "      <td>...</td>\n",
       "      <td>...</td>\n",
       "      <td>...</td>\n",
       "    </tr>\n",
       "    <tr>\n",
       "      <th>1192</th>\n",
       "      <td>2662137336</td>\n",
       "      <td>3733762160</td>\n",
       "      <td>2019-08-14</td>\n",
       "      <td>100.8</td>\n",
       "      <td>B</td>\n",
       "    </tr>\n",
       "    <tr>\n",
       "      <th>1193</th>\n",
       "      <td>2203539145</td>\n",
       "      <td>370388673</td>\n",
       "      <td>2019-08-14</td>\n",
       "      <td>50.1</td>\n",
       "      <td>A</td>\n",
       "    </tr>\n",
       "    <tr>\n",
       "      <th>1194</th>\n",
       "      <td>1807773912</td>\n",
       "      <td>573423106</td>\n",
       "      <td>2019-08-14</td>\n",
       "      <td>165.3</td>\n",
       "      <td>A</td>\n",
       "    </tr>\n",
       "    <tr>\n",
       "      <th>1195</th>\n",
       "      <td>1947021204</td>\n",
       "      <td>1614305549</td>\n",
       "      <td>2019-08-14</td>\n",
       "      <td>5.5</td>\n",
       "      <td>A</td>\n",
       "    </tr>\n",
       "    <tr>\n",
       "      <th>1196</th>\n",
       "      <td>3936777065</td>\n",
       "      <td>2108080724</td>\n",
       "      <td>2019-08-15</td>\n",
       "      <td>3120.1</td>\n",
       "      <td>B</td>\n",
       "    </tr>\n",
       "  </tbody>\n",
       "</table>\n",
       "<p>1197 rows × 5 columns</p>\n",
       "</div>"
      ],
      "text/plain": [
       "      transactionId   visitorId        date  revenue group\n",
       "0        3667963787  3312258926  2019-08-15     30.4     B\n",
       "1        2804400009  3642806036  2019-08-15     15.2     B\n",
       "2        2961555356  4069496402  2019-08-15     10.2     A\n",
       "3        3797467345  1196621759  2019-08-15    155.1     B\n",
       "4        2282983706  2322279887  2019-08-15     40.5     B\n",
       "...             ...         ...         ...      ...   ...\n",
       "1192     2662137336  3733762160  2019-08-14    100.8     B\n",
       "1193     2203539145   370388673  2019-08-14     50.1     A\n",
       "1194     1807773912   573423106  2019-08-14    165.3     A\n",
       "1195     1947021204  1614305549  2019-08-14      5.5     A\n",
       "1196     3936777065  2108080724  2019-08-15   3120.1     B\n",
       "\n",
       "[1197 rows x 5 columns]"
      ]
     },
     "execution_count": 21,
     "metadata": {},
     "output_type": "execute_result"
    }
   ],
   "source": [
    "orders"
   ]
  },
  {
   "cell_type": "code",
   "execution_count": 22,
   "metadata": {},
   "outputs": [
    {
     "data": {
      "text/plain": [
       "Index(['transactionId', 'visitorId', 'date', 'revenue', 'group'], dtype='object')"
      ]
     },
     "execution_count": 22,
     "metadata": {},
     "output_type": "execute_result"
    }
   ],
   "source": [
    "orders.columns"
   ]
  },
  {
   "cell_type": "code",
   "execution_count": 23,
   "metadata": {},
   "outputs": [
    {
     "name": "stdout",
     "output_type": "stream",
     "text": [
      "<class 'pandas.core.frame.DataFrame'>\n",
      "RangeIndex: 1197 entries, 0 to 1196\n",
      "Data columns (total 5 columns):\n",
      " #   Column         Non-Null Count  Dtype  \n",
      "---  ------         --------------  -----  \n",
      " 0   transactionId  1197 non-null   int64  \n",
      " 1   visitorId      1197 non-null   int64  \n",
      " 2   date           1197 non-null   object \n",
      " 3   revenue        1197 non-null   float64\n",
      " 4   group          1197 non-null   object \n",
      "dtypes: float64(1), int64(2), object(2)\n",
      "memory usage: 46.9+ KB\n"
     ]
    }
   ],
   "source": [
    "orders.info()"
   ]
  },
  {
   "cell_type": "markdown",
   "metadata": {},
   "source": [
    "#### Problemas en el DF de orders:\n",
    "1. Nombre de columnas no muy claros y con algunas mayúsculas.\n",
    "2. Existen valores duplicados para visitors_id, de los cuales algunos usuarios están en ambos grupos. "
   ]
  },
  {
   "cell_type": "code",
   "execution_count": 24,
   "metadata": {},
   "outputs": [
    {
     "data": {
      "text/plain": [
       "Index(['transaction_id', 'visitor_id', 'date', 'revenue', 'group'], dtype='object')"
      ]
     },
     "execution_count": 24,
     "metadata": {},
     "output_type": "execute_result"
    }
   ],
   "source": [
    "# Cambiando el nombre del las columnas:\n",
    "columns_orders ={\n",
    "    'transactionId': 'transaction_id',\n",
    "    'visitorId': 'visitor_id',\n",
    "    }\n",
    "orders= orders.rename(columns= columns_orders)\n",
    "\n",
    "orders.columns"
   ]
  },
  {
   "cell_type": "code",
   "execution_count": 25,
   "metadata": {},
   "outputs": [
    {
     "data": {
      "text/plain": [
       "transaction_id    0\n",
       "visitor_id        0\n",
       "date              0\n",
       "revenue           0\n",
       "group             0\n",
       "dtype: int64"
      ]
     },
     "execution_count": 25,
     "metadata": {},
     "output_type": "execute_result"
    }
   ],
   "source": [
    "# Verificando valores ausentes:\n",
    "orders.isna().sum()"
   ]
  },
  {
   "cell_type": "code",
   "execution_count": 26,
   "metadata": {},
   "outputs": [
    {
     "data": {
      "text/plain": [
       "0"
      ]
     },
     "execution_count": 26,
     "metadata": {},
     "output_type": "execute_result"
    }
   ],
   "source": [
    "#Verificando valores duplicados:\n",
    "orders.duplicated().sum()"
   ]
  },
  {
   "cell_type": "code",
   "execution_count": 27,
   "metadata": {},
   "outputs": [
    {
     "data": {
      "text/html": [
       "<div>\n",
       "<style scoped>\n",
       "    .dataframe tbody tr th:only-of-type {\n",
       "        vertical-align: middle;\n",
       "    }\n",
       "\n",
       "    .dataframe tbody tr th {\n",
       "        vertical-align: top;\n",
       "    }\n",
       "\n",
       "    .dataframe thead th {\n",
       "        text-align: right;\n",
       "    }\n",
       "</style>\n",
       "<table border=\"1\" class=\"dataframe\">\n",
       "  <thead>\n",
       "    <tr style=\"text-align: right;\">\n",
       "      <th></th>\n",
       "      <th>transaction_id</th>\n",
       "      <th>visitor_id</th>\n",
       "      <th>date</th>\n",
       "      <th>revenue</th>\n",
       "      <th>group</th>\n",
       "    </tr>\n",
       "  </thead>\n",
       "  <tbody>\n",
       "    <tr>\n",
       "      <th>703</th>\n",
       "      <td>4293855558</td>\n",
       "      <td>8300375</td>\n",
       "      <td>2019-08-07</td>\n",
       "      <td>30.5</td>\n",
       "      <td>A</td>\n",
       "    </tr>\n",
       "    <tr>\n",
       "      <th>823</th>\n",
       "      <td>2971973105</td>\n",
       "      <td>199603092</td>\n",
       "      <td>2019-08-27</td>\n",
       "      <td>45.9</td>\n",
       "      <td>A</td>\n",
       "    </tr>\n",
       "    <tr>\n",
       "      <th>246</th>\n",
       "      <td>437656952</td>\n",
       "      <td>199603092</td>\n",
       "      <td>2019-08-02</td>\n",
       "      <td>55.7</td>\n",
       "      <td>B</td>\n",
       "    </tr>\n",
       "    <tr>\n",
       "      <th>1102</th>\n",
       "      <td>1941707234</td>\n",
       "      <td>199603092</td>\n",
       "      <td>2019-08-12</td>\n",
       "      <td>100.0</td>\n",
       "      <td>A</td>\n",
       "    </tr>\n",
       "    <tr>\n",
       "      <th>134</th>\n",
       "      <td>62794304</td>\n",
       "      <td>199603092</td>\n",
       "      <td>2019-08-22</td>\n",
       "      <td>110.3</td>\n",
       "      <td>A</td>\n",
       "    </tr>\n",
       "    <tr>\n",
       "      <th>...</th>\n",
       "      <td>...</td>\n",
       "      <td>...</td>\n",
       "      <td>...</td>\n",
       "      <td>...</td>\n",
       "      <td>...</td>\n",
       "    </tr>\n",
       "    <tr>\n",
       "      <th>873</th>\n",
       "      <td>2519737434</td>\n",
       "      <td>4256040402</td>\n",
       "      <td>2019-08-08</td>\n",
       "      <td>900.7</td>\n",
       "      <td>B</td>\n",
       "    </tr>\n",
       "    <tr>\n",
       "      <th>901</th>\n",
       "      <td>3402467119</td>\n",
       "      <td>4256040402</td>\n",
       "      <td>2019-08-27</td>\n",
       "      <td>30.1</td>\n",
       "      <td>A</td>\n",
       "    </tr>\n",
       "    <tr>\n",
       "      <th>187</th>\n",
       "      <td>2048878902</td>\n",
       "      <td>4256040402</td>\n",
       "      <td>2019-08-17</td>\n",
       "      <td>25.8</td>\n",
       "      <td>A</td>\n",
       "    </tr>\n",
       "    <tr>\n",
       "      <th>114</th>\n",
       "      <td>1120327437</td>\n",
       "      <td>4256040402</td>\n",
       "      <td>2019-08-01</td>\n",
       "      <td>90.2</td>\n",
       "      <td>A</td>\n",
       "    </tr>\n",
       "    <tr>\n",
       "      <th>682</th>\n",
       "      <td>1216533772</td>\n",
       "      <td>4266935830</td>\n",
       "      <td>2019-08-29</td>\n",
       "      <td>1220.2</td>\n",
       "      <td>B</td>\n",
       "    </tr>\n",
       "  </tbody>\n",
       "</table>\n",
       "<p>166 rows × 5 columns</p>\n",
       "</div>"
      ],
      "text/plain": [
       "      transaction_id  visitor_id        date  revenue group\n",
       "703       4293855558     8300375  2019-08-07     30.5     A\n",
       "823       2971973105   199603092  2019-08-27     45.9     A\n",
       "246        437656952   199603092  2019-08-02     55.7     B\n",
       "1102      1941707234   199603092  2019-08-12    100.0     A\n",
       "134         62794304   199603092  2019-08-22    110.3     A\n",
       "...              ...         ...         ...      ...   ...\n",
       "873       2519737434  4256040402  2019-08-08    900.7     B\n",
       "901       3402467119  4256040402  2019-08-27     30.1     A\n",
       "187       2048878902  4256040402  2019-08-17     25.8     A\n",
       "114       1120327437  4256040402  2019-08-01     90.2     A\n",
       "682       1216533772  4266935830  2019-08-29   1220.2     B\n",
       "\n",
       "[166 rows x 5 columns]"
      ]
     },
     "execution_count": 27,
     "metadata": {},
     "output_type": "execute_result"
    }
   ],
   "source": [
    "# Verificando valores duplicados en la columna visitors_id (Si algunos usuarios aparecen en ambos grupos)\n",
    "orders[orders['visitor_id'].duplicated()].sort_values(by='visitor_id')"
   ]
  },
  {
   "cell_type": "code",
   "execution_count": 28,
   "metadata": {},
   "outputs": [
    {
     "data": {
      "text/plain": [
       "166"
      ]
     },
     "execution_count": 28,
     "metadata": {},
     "output_type": "execute_result"
    }
   ],
   "source": [
    "orders['visitor_id'].duplicated().sum()"
   ]
  },
  {
   "cell_type": "code",
   "execution_count": 29,
   "metadata": {
    "scrolled": true
   },
   "outputs": [
    {
     "data": {
      "text/plain": [
       "{8300375,\n",
       " 11685486,\n",
       " 54447517,\n",
       " 66685450,\n",
       " 78758296,\n",
       " 85103373,\n",
       " 87885904,\n",
       " 109615108,\n",
       " 130417038,\n",
       " 132143192,\n",
       " 138252163,\n",
       " 148427295,\n",
       " 151496413,\n",
       " 178249104,\n",
       " 181166394,\n",
       " 182753106,\n",
       " 184835319,\n",
       " 187589092,\n",
       " 199603092,\n",
       " 199874245,\n",
       " 232979603,\n",
       " 235366767,\n",
       " 236764260,\n",
       " 237748145,\n",
       " 238992583,\n",
       " 248503091,\n",
       " 252987601,\n",
       " 274717519,\n",
       " 276558944,\n",
       " 277405052,\n",
       " 281523083,\n",
       " 285030828,\n",
       " 295230930,\n",
       " 296565978,\n",
       " 300249313,\n",
       " 321150727,\n",
       " 329473477,\n",
       " 329726006,\n",
       " 343208965,\n",
       " 351125977,\n",
       " 352377175,\n",
       " 358944393,\n",
       " 366673373,\n",
       " 370388673,\n",
       " 381340408,\n",
       " 382846391,\n",
       " 387170777,\n",
       " 393266494,\n",
       " 399216493,\n",
       " 399408949,\n",
       " 417213830,\n",
       " 430948481,\n",
       " 442260868,\n",
       " 457167155,\n",
       " 467022501,\n",
       " 467975735,\n",
       " 471551937,\n",
       " 477780734,\n",
       " 492739583,\n",
       " 495712671,\n",
       " 517094627,\n",
       " 537599508,\n",
       " 551106609,\n",
       " 572335325,\n",
       " 573423106,\n",
       " 583902904,\n",
       " 589808731,\n",
       " 600964629,\n",
       " 611059232,\n",
       " 612505725,\n",
       " 622980798,\n",
       " 627176112,\n",
       " 635956745,\n",
       " 645425477,\n",
       " 678354126,\n",
       " 705680638,\n",
       " 721509856,\n",
       " 732900740,\n",
       " 737242975,\n",
       " 749770631,\n",
       " 749837663,\n",
       " 755881835,\n",
       " 759473111,\n",
       " 787824685,\n",
       " 789265206,\n",
       " 793112967,\n",
       " 803709563,\n",
       " 818047933,\n",
       " 821846484,\n",
       " 834683205,\n",
       " 858552794,\n",
       " 865916592,\n",
       " 866305447,\n",
       " 869044563,\n",
       " 876081193,\n",
       " 879864040,\n",
       " 887812064,\n",
       " 887908475,\n",
       " 888420622,\n",
       " 895233158,\n",
       " 906523562,\n",
       " 906754117,\n",
       " 907970812,\n",
       " 910107897,\n",
       " 926057494,\n",
       " 947532470,\n",
       " 949750571,\n",
       " 950626008,\n",
       " 960782649,\n",
       " 963407295,\n",
       " 980818195,\n",
       " 982374313,\n",
       " 983496389,\n",
       " 991436984,\n",
       " 994339272,\n",
       " 996668426,\n",
       " 997945223,\n",
       " 1002877908,\n",
       " 1009464434,\n",
       " 1011231197,\n",
       " 1022829655,\n",
       " 1028756448,\n",
       " 1046398313,\n",
       " 1049627981,\n",
       " 1052142804,\n",
       " 1064078146,\n",
       " 1069983096,\n",
       " 1070130208,\n",
       " 1110543778,\n",
       " 1122598516,\n",
       " 1129369369,\n",
       " 1143609305,\n",
       " 1148665946,\n",
       " 1154728414,\n",
       " 1159489312,\n",
       " 1164614297,\n",
       " 1174537443,\n",
       " 1178217086,\n",
       " 1184607010,\n",
       " 1211585711,\n",
       " 1212176445,\n",
       " 1219079053,\n",
       " 1224575308,\n",
       " 1224903511,\n",
       " 1229532929,\n",
       " 1229866403,\n",
       " 1230306981,\n",
       " 1247895435,\n",
       " 1255412427,\n",
       " 1294108251,\n",
       " 1294878855,\n",
       " 1306302251,\n",
       " 1307669133,\n",
       " 1316129916,\n",
       " 1333886533,\n",
       " 1349865791,\n",
       " 1351898488,\n",
       " 1357170471,\n",
       " 1367935136,\n",
       " 1378148355,\n",
       " 1388079388,\n",
       " 1398592185,\n",
       " 1402025725,\n",
       " 1404934699,\n",
       " 1414758703,\n",
       " 1422476412,\n",
       " 1422773200,\n",
       " 1426761187,\n",
       " 1430210707,\n",
       " 1452540367,\n",
       " 1460891116,\n",
       " 1471496742,\n",
       " 1476256851,\n",
       " 1484903144,\n",
       " 1485964287,\n",
       " 1495112755,\n",
       " 1500448895,\n",
       " 1507665514,\n",
       " 1508900659,\n",
       " 1539796403,\n",
       " 1544467991,\n",
       " 1555770826,\n",
       " 1565034404,\n",
       " 1576289054,\n",
       " 1581167209,\n",
       " 1596446524,\n",
       " 1602967004,\n",
       " 1604176421,\n",
       " 1604853044,\n",
       " 1614305549,\n",
       " 1617417821,\n",
       " 1648269707,\n",
       " 1658204305,\n",
       " 1668030113,\n",
       " 1677041464,\n",
       " 1687231984,\n",
       " 1698039057,\n",
       " 1722579998,\n",
       " 1732269954,\n",
       " 1737494355,\n",
       " 1738359350,\n",
       " 1744796792,\n",
       " 1772171838,\n",
       " 1781647073,\n",
       " 1801183820,\n",
       " 1823887377,\n",
       " 1830791924,\n",
       " 1831140265,\n",
       " 1831375989,\n",
       " 1831956319,\n",
       " 1832798996,\n",
       " 1850778479,\n",
       " 1859207151,\n",
       " 1869662856,\n",
       " 1890645762,\n",
       " 1900893596,\n",
       " 1909539331,\n",
       " 1917506191,\n",
       " 1935367901,\n",
       " 1937307986,\n",
       " 1938138695,\n",
       " 1948974149,\n",
       " 1957949546,\n",
       " 1959144690,\n",
       " 1979878245,\n",
       " 1981624632,\n",
       " 2016864191,\n",
       " 2038680547,\n",
       " 2041539477,\n",
       " 2044997962,\n",
       " 2046011647,\n",
       " 2054014923,\n",
       " 2065143173,\n",
       " 2067508917,\n",
       " 2069923923,\n",
       " 2082081961,\n",
       " 2084876480,\n",
       " 2108163459,\n",
       " 2114962460,\n",
       " 2115669947,\n",
       " 2125253600,\n",
       " 2134820861,\n",
       " 2138044356,\n",
       " 2147998719,\n",
       " 2152549680,\n",
       " 2153871238,\n",
       " 2158146269,\n",
       " 2162698752,\n",
       " 2168467118,\n",
       " 2188683977,\n",
       " 2217984702,\n",
       " 2219162270,\n",
       " 2231749745,\n",
       " 2232111114,\n",
       " 2248249182,\n",
       " 2254456485,\n",
       " 2254586615,\n",
       " 2254875182,\n",
       " 2261934787,\n",
       " 2274825520,\n",
       " 2283224496,\n",
       " 2288159513,\n",
       " 2301937222,\n",
       " 2303470071,\n",
       " 2304039735,\n",
       " 2306096143,\n",
       " 2308309101,\n",
       " 2357168171,\n",
       " 2358787737,\n",
       " 2378935119,\n",
       " 2393492379,\n",
       " 2396121427,\n",
       " 2412305169,\n",
       " 2416662824,\n",
       " 2429822128,\n",
       " 2430786771,\n",
       " 2440451175,\n",
       " 2445531802,\n",
       " 2458001652,\n",
       " 2486521341,\n",
       " 2492519473,\n",
       " 2507107988,\n",
       " 2522140192,\n",
       " 2546716293,\n",
       " 2561350211,\n",
       " 2579882178,\n",
       " 2580341989,\n",
       " 2583793022,\n",
       " 2587333274,\n",
       " 2587526707,\n",
       " 2592727107,\n",
       " 2600415354,\n",
       " 2605843205,\n",
       " 2606208134,\n",
       " 2618159035,\n",
       " 2629148010,\n",
       " 2633052872,\n",
       " 2643391466,\n",
       " 2650211599,\n",
       " 2652835245,\n",
       " 2654030115,\n",
       " 2661240577,\n",
       " 2663297422,\n",
       " 2666068032,\n",
       " 2668501323,\n",
       " 2686716486,\n",
       " 2695379936,\n",
       " 2696599598,\n",
       " 2698944478,\n",
       " 2700670803,\n",
       " 2703178540,\n",
       " 2705308997,\n",
       " 2706377257,\n",
       " 2710193528,\n",
       " 2710478747,\n",
       " 2712142231,\n",
       " 2716752286,\n",
       " 2733145037,\n",
       " 2735494018,\n",
       " 2736682487,\n",
       " 2743474511,\n",
       " 2744017357,\n",
       " 2749453459,\n",
       " 2761566146,\n",
       " 2771749575,\n",
       " 2772153338,\n",
       " 2776274025,\n",
       " 2780786433,\n",
       " 2785040378,\n",
       " 2801638130,\n",
       " 2803209166,\n",
       " 2840985286,\n",
       " 2845785181,\n",
       " 2871453277,\n",
       " 2874956069,\n",
       " 2880866577,\n",
       " 2882903413,\n",
       " 2888793654,\n",
       " 2892265953,\n",
       " 2902041511,\n",
       " 2912540959,\n",
       " 2924874435,\n",
       " 2927087541,\n",
       " 2947100995,\n",
       " 2949041841,\n",
       " 2951649436,\n",
       " 2954449915,\n",
       " 2971471657,\n",
       " 2978730290,\n",
       " 2988190573,\n",
       " 2993711540,\n",
       " 3012531415,\n",
       " 3017378493,\n",
       " 3020644940,\n",
       " 3028866828,\n",
       " 3033962131,\n",
       " 3043080596,\n",
       " 3044645888,\n",
       " 3055165772,\n",
       " 3062433592,\n",
       " 3072399624,\n",
       " 3086835579,\n",
       " 3101956850,\n",
       " 3102053760,\n",
       " 3104896602,\n",
       " 3112126740,\n",
       " 3115684948,\n",
       " 3116161138,\n",
       " 3116822707,\n",
       " 3117119809,\n",
       " 3118528100,\n",
       " 3123255051,\n",
       " 3127757912,\n",
       " 3133484003,\n",
       " 3146597820,\n",
       " 3149228032,\n",
       " 3160565905,\n",
       " 3160828523,\n",
       " 3161387566,\n",
       " 3177606451,\n",
       " 3199637546,\n",
       " 3202540741,\n",
       " 3207734412,\n",
       " 3212572194,\n",
       " 3213223594,\n",
       " 3213691396,\n",
       " 3221887237,\n",
       " 3229395114,\n",
       " 3234906277,\n",
       " 3237158392,\n",
       " 3251102545,\n",
       " 3263046761,\n",
       " 3265039507,\n",
       " 3279802827,\n",
       " 3281496343,\n",
       " 3282099314,\n",
       " 3283584911,\n",
       " 3289144202,\n",
       " 3290315626,\n",
       " 3294921142,\n",
       " 3295038680,\n",
       " 3301980586,\n",
       " 3321013705,\n",
       " 3323129950,\n",
       " 3340403042,\n",
       " 3353177029,\n",
       " 3359518621,\n",
       " 3359706893,\n",
       " 3371539723,\n",
       " 3379886002,\n",
       " 3386452937,\n",
       " 3396460792,\n",
       " 3409596883,\n",
       " 3430457488,\n",
       " 3451176495,\n",
       " 3462462738,\n",
       " 3469608676,\n",
       " 3476822370,\n",
       " 3504688413,\n",
       " 3511496907,\n",
       " 3528043184,\n",
       " 3540744920,\n",
       " 3572819427,\n",
       " 3587733103,\n",
       " 3598591418,\n",
       " 3607649875,\n",
       " 3612778094,\n",
       " 3613900590,\n",
       " 3616659553,\n",
       " 3622537133,\n",
       " 3636615199,\n",
       " 3637027427,\n",
       " 3640080856,\n",
       " 3656415546,\n",
       " 3659263677,\n",
       " 3660046170,\n",
       " 3660225571,\n",
       " 3673190339,\n",
       " 3693438260,\n",
       " 3717692402,\n",
       " 3719891787,\n",
       " 3720590235,\n",
       " 3722682546,\n",
       " 3736064128,\n",
       " 3766097110,\n",
       " 3778207363,\n",
       " 3788724847,\n",
       " 3792964032,\n",
       " 3803269165,\n",
       " 3819243527,\n",
       " 3826874025,\n",
       " 3857916904,\n",
       " 3877129255,\n",
       " 3891384992,\n",
       " 3891541246,\n",
       " 3896738923,\n",
       " 3908431265,\n",
       " 3928949490,\n",
       " 3937582421,\n",
       " 3941600282,\n",
       " 3941795274,\n",
       " 3950493862,\n",
       " 3950806039,\n",
       " 3951559397,\n",
       " 3956892867,\n",
       " 3957174400,\n",
       " 3963646447,\n",
       " 3967698036,\n",
       " 3972127743,\n",
       " 3979054828,\n",
       " 3984495233,\n",
       " 3985807412,\n",
       " 4002369227,\n",
       " 4014197579,\n",
       " 4017075195,\n",
       " 4027578749,\n",
       " 4038883307,\n",
       " 4062055840,\n",
       " 4069496402,\n",
       " 4076480073,\n",
       " 4079050915,\n",
       " 4087542339,\n",
       " 4095180727,\n",
       " 4099262874,\n",
       " 4109358064,\n",
       " 4120364173,\n",
       " 4133034833,\n",
       " 4134011281,\n",
       " 4142693015,\n",
       " 4144343220,\n",
       " 4144979507,\n",
       " 4163850406,\n",
       " 4174346527,\n",
       " 4186807279,\n",
       " 4213333413,\n",
       " 4223733735,\n",
       " 4227830084,\n",
       " 4237561104,\n",
       " 4243832526,\n",
       " 4256040402,\n",
       " 4259830713,\n",
       " 4266935830,\n",
       " 4278982564}"
      ]
     },
     "execution_count": 29,
     "metadata": {},
     "output_type": "execute_result"
    }
   ],
   "source": [
    "#Tratando los duplicados:\n",
    "grupo_a = set(orders.query(\"group == 'A'\")['visitor_id'])\n",
    "grupo_a"
   ]
  },
  {
   "cell_type": "code",
   "execution_count": 30,
   "metadata": {},
   "outputs": [
    {
     "data": {
      "text/plain": [
       "{5114589,\n",
       " 6958315,\n",
       " 8300375,\n",
       " 39475350,\n",
       " 47206413,\n",
       " 48147722,\n",
       " 56960363,\n",
       " 71018815,\n",
       " 78678012,\n",
       " 91069833,\n",
       " 102981183,\n",
       " 104602633,\n",
       " 113298937,\n",
       " 114507418,\n",
       " 117599621,\n",
       " 134926050,\n",
       " 152397976,\n",
       " 154576532,\n",
       " 154825609,\n",
       " 157579733,\n",
       " 162423694,\n",
       " 171459513,\n",
       " 172218683,\n",
       " 179951984,\n",
       " 191870721,\n",
       " 194969263,\n",
       " 195530970,\n",
       " 199603092,\n",
       " 201615765,\n",
       " 204675465,\n",
       " 206724078,\n",
       " 222718357,\n",
       " 228221722,\n",
       " 232979603,\n",
       " 233773277,\n",
       " 237748145,\n",
       " 243620413,\n",
       " 249864742,\n",
       " 258610743,\n",
       " 259989552,\n",
       " 264456202,\n",
       " 266115224,\n",
       " 276558944,\n",
       " 280073872,\n",
       " 282188993,\n",
       " 284094220,\n",
       " 290022471,\n",
       " 309675944,\n",
       " 318152663,\n",
       " 325179089,\n",
       " 351125977,\n",
       " 363280180,\n",
       " 367176526,\n",
       " 368204224,\n",
       " 368679516,\n",
       " 392419518,\n",
       " 393266494,\n",
       " 400358405,\n",
       " 406208401,\n",
       " 407706407,\n",
       " 410113592,\n",
       " 414545763,\n",
       " 427004138,\n",
       " 428219747,\n",
       " 433951253,\n",
       " 447836349,\n",
       " 451104171,\n",
       " 456417264,\n",
       " 457167155,\n",
       " 458253749,\n",
       " 470091460,\n",
       " 471551937,\n",
       " 471842048,\n",
       " 473299164,\n",
       " 477780734,\n",
       " 509080881,\n",
       " 518847692,\n",
       " 522292794,\n",
       " 530257481,\n",
       " 535857429,\n",
       " 544632063,\n",
       " 544963298,\n",
       " 567175747,\n",
       " 570540961,\n",
       " 582460750,\n",
       " 583433650,\n",
       " 586100578,\n",
       " 600572117,\n",
       " 600884435,\n",
       " 608641596,\n",
       " 619764962,\n",
       " 621427706,\n",
       " 623318263,\n",
       " 625115313,\n",
       " 634450378,\n",
       " 642826102,\n",
       " 643335272,\n",
       " 650280576,\n",
       " 654930236,\n",
       " 656974993,\n",
       " 659580242,\n",
       " 666694713,\n",
       " 671625855,\n",
       " 680119828,\n",
       " 683554837,\n",
       " 683753316,\n",
       " 689129267,\n",
       " 702994395,\n",
       " 707833925,\n",
       " 709955468,\n",
       " 710690947,\n",
       " 716514914,\n",
       " 723038324,\n",
       " 728063420,\n",
       " 816783716,\n",
       " 818047933,\n",
       " 834731816,\n",
       " 835561402,\n",
       " 835577924,\n",
       " 850320739,\n",
       " 854695158,\n",
       " 856264494,\n",
       " 856349446,\n",
       " 862992587,\n",
       " 872679699,\n",
       " 888512513,\n",
       " 916684595,\n",
       " 916720205,\n",
       " 927791387,\n",
       " 930356060,\n",
       " 930758570,\n",
       " 931669455,\n",
       " 935349363,\n",
       " 935554773,\n",
       " 938079215,\n",
       " 943674707,\n",
       " 954785863,\n",
       " 962484204,\n",
       " 963407295,\n",
       " 975516572,\n",
       " 978473912,\n",
       " 990849616,\n",
       " 990904712,\n",
       " 993094131,\n",
       " 1010866419,\n",
       " 1016890234,\n",
       " 1035424004,\n",
       " 1060341621,\n",
       " 1075551409,\n",
       " 1097629811,\n",
       " 1100237501,\n",
       " 1110007955,\n",
       " 1111826046,\n",
       " 1117202045,\n",
       " 1147554328,\n",
       " 1151477821,\n",
       " 1172166732,\n",
       " 1196621759,\n",
       " 1197745035,\n",
       " 1197773061,\n",
       " 1206072200,\n",
       " 1215602524,\n",
       " 1217561296,\n",
       " 1221478247,\n",
       " 1225835168,\n",
       " 1230306981,\n",
       " 1236388112,\n",
       " 1253370069,\n",
       " 1253818784,\n",
       " 1261629107,\n",
       " 1263373242,\n",
       " 1270030113,\n",
       " 1274716998,\n",
       " 1285103033,\n",
       " 1294878855,\n",
       " 1303698307,\n",
       " 1310081088,\n",
       " 1316129916,\n",
       " 1333058479,\n",
       " 1333886533,\n",
       " 1335154194,\n",
       " 1341752722,\n",
       " 1354599463,\n",
       " 1373713654,\n",
       " 1377447894,\n",
       " 1379151787,\n",
       " 1387624577,\n",
       " 1388838483,\n",
       " 1390677121,\n",
       " 1395236619,\n",
       " 1396482013,\n",
       " 1397211727,\n",
       " 1404560065,\n",
       " 1404934699,\n",
       " 1420364840,\n",
       " 1421513677,\n",
       " 1438226485,\n",
       " 1455323168,\n",
       " 1455861274,\n",
       " 1463715810,\n",
       " 1471458381,\n",
       " 1474473704,\n",
       " 1476741193,\n",
       " 1494664757,\n",
       " 1501480579,\n",
       " 1516351054,\n",
       " 1554533732,\n",
       " 1555048873,\n",
       " 1557781683,\n",
       " 1562205279,\n",
       " 1565607587,\n",
       " 1571986409,\n",
       " 1577719542,\n",
       " 1579036099,\n",
       " 1588775363,\n",
       " 1596819047,\n",
       " 1596970166,\n",
       " 1602967004,\n",
       " 1605520752,\n",
       " 1606766439,\n",
       " 1611907877,\n",
       " 1612349123,\n",
       " 1614305549,\n",
       " 1622301731,\n",
       " 1627549308,\n",
       " 1630618580,\n",
       " 1634934899,\n",
       " 1637811943,\n",
       " 1638583360,\n",
       " 1643342931,\n",
       " 1648269707,\n",
       " 1667068825,\n",
       " 1667360450,\n",
       " 1668030113,\n",
       " 1669393038,\n",
       " 1687240555,\n",
       " 1690383497,\n",
       " 1692957755,\n",
       " 1700445283,\n",
       " 1703949673,\n",
       " 1713857373,\n",
       " 1722729964,\n",
       " 1728743776,\n",
       " 1738359350,\n",
       " 1738775963,\n",
       " 1741803981,\n",
       " 1762249948,\n",
       " 1766557988,\n",
       " 1768898981,\n",
       " 1774856294,\n",
       " 1775276630,\n",
       " 1782658204,\n",
       " 1786280350,\n",
       " 1795951456,\n",
       " 1801183820,\n",
       " 1802957007,\n",
       " 1807547430,\n",
       " 1810540789,\n",
       " 1826088570,\n",
       " 1826431635,\n",
       " 1830803815,\n",
       " 1831227158,\n",
       " 1835372109,\n",
       " 1858007013,\n",
       " 1879028067,\n",
       " 1882260405,\n",
       " 1893387602,\n",
       " 1918801743,\n",
       " 1920142716,\n",
       " 1959144690,\n",
       " 1964413493,\n",
       " 1964799739,\n",
       " 1967247027,\n",
       " 1967724198,\n",
       " 1985475298,\n",
       " 1995481842,\n",
       " 2008082479,\n",
       " 2010516786,\n",
       " 2019205281,\n",
       " 2019355024,\n",
       " 2025197455,\n",
       " 2030837847,\n",
       " 2036584322,\n",
       " 2038023866,\n",
       " 2038680547,\n",
       " 2042457747,\n",
       " 2044161277,\n",
       " 2044997962,\n",
       " 2075769885,\n",
       " 2075883701,\n",
       " 2091902649,\n",
       " 2096506107,\n",
       " 2108080724,\n",
       " 2115666868,\n",
       " 2128962954,\n",
       " 2138109167,\n",
       " 2139465532,\n",
       " 2146711261,\n",
       " 2156256996,\n",
       " 2162167602,\n",
       " 2171487014,\n",
       " 2195309755,\n",
       " 2201480904,\n",
       " 2210805728,\n",
       " 2213855729,\n",
       " 2223522147,\n",
       " 2230225652,\n",
       " 2231389472,\n",
       " 2245562049,\n",
       " 2247666522,\n",
       " 2247745159,\n",
       " 2261102418,\n",
       " 2273809679,\n",
       " 2278620397,\n",
       " 2279926127,\n",
       " 2295217812,\n",
       " 2307676173,\n",
       " 2316833558,\n",
       " 2322279887,\n",
       " 2328378067,\n",
       " 2328791559,\n",
       " 2361350105,\n",
       " 2366521417,\n",
       " 2370420350,\n",
       " 2373765141,\n",
       " 2378092656,\n",
       " 2378935119,\n",
       " 2395035985,\n",
       " 2396134342,\n",
       " 2397025226,\n",
       " 2397843657,\n",
       " 2399568665,\n",
       " 2406897935,\n",
       " 2406916810,\n",
       " 2412366830,\n",
       " 2413071759,\n",
       " 2421265884,\n",
       " 2445878741,\n",
       " 2452603128,\n",
       " 2456230425,\n",
       " 2458001652,\n",
       " 2461709734,\n",
       " 2463259495,\n",
       " 2467439671,\n",
       " 2468974761,\n",
       " 2476105225,\n",
       " 2488182306,\n",
       " 2517115269,\n",
       " 2517777104,\n",
       " 2524310328,\n",
       " 2531836666,\n",
       " 2536252163,\n",
       " 2552584164,\n",
       " 2570444314,\n",
       " 2572275626,\n",
       " 2572433473,\n",
       " 2578486380,\n",
       " 2579882178,\n",
       " 2580397131,\n",
       " 2582702340,\n",
       " 2587333274,\n",
       " 2600415354,\n",
       " 2604012846,\n",
       " 2604694259,\n",
       " 2606908679,\n",
       " 2614516882,\n",
       " 2617784228,\n",
       " 2626290177,\n",
       " 2634105098,\n",
       " 2637462286,\n",
       " 2654030115,\n",
       " 2663148288,\n",
       " 2663984869,\n",
       " 2666467773,\n",
       " 2669052850,\n",
       " 2686716486,\n",
       " 2696039803,\n",
       " 2700013943,\n",
       " 2710492161,\n",
       " 2712142231,\n",
       " 2716752286,\n",
       " 2738601405,\n",
       " 2742574263,\n",
       " 2758621772,\n",
       " 2763027084,\n",
       " 2780786433,\n",
       " 2785527055,\n",
       " 2805132315,\n",
       " 2819072957,\n",
       " 2819363575,\n",
       " 2830871062,\n",
       " 2837914161,\n",
       " 2846507753,\n",
       " 2849720983,\n",
       " 2853587382,\n",
       " 2868887864,\n",
       " 2870367609,\n",
       " 2873491771,\n",
       " 2895396501,\n",
       " 2900797465,\n",
       " 2903830376,\n",
       " 2908466434,\n",
       " 2913441496,\n",
       " 2914239125,\n",
       " 2927087541,\n",
       " 2928315504,\n",
       " 2941133924,\n",
       " 2944179391,\n",
       " 2949041841,\n",
       " 2953427180,\n",
       " 2954449915,\n",
       " 2968526225,\n",
       " 2973109265,\n",
       " 2973964255,\n",
       " 2986402114,\n",
       " 2987864213,\n",
       " 2999642019,\n",
       " 2999778091,\n",
       " 3013339133,\n",
       " 3016218652,\n",
       " 3024988998,\n",
       " 3042692891,\n",
       " 3054940424,\n",
       " 3062077384,\n",
       " 3062433592,\n",
       " 3062605572,\n",
       " 3074968175,\n",
       " 3075705514,\n",
       " 3077396270,\n",
       " 3077470899,\n",
       " 3085290658,\n",
       " 3097512534,\n",
       " 3103718471,\n",
       " 3118156181,\n",
       " 3131127734,\n",
       " 3141507731,\n",
       " 3148168974,\n",
       " 3166175118,\n",
       " 3170292896,\n",
       " 3170813781,\n",
       " 3177790019,\n",
       " 3185203440,\n",
       " 3187581794,\n",
       " 3202540741,\n",
       " 3218863961,\n",
       " 3234906277,\n",
       " 3239199975,\n",
       " 3245907439,\n",
       " 3254689071,\n",
       " 3255082731,\n",
       " 3260527149,\n",
       " 3261022559,\n",
       " 3288820196,\n",
       " 3294452564,\n",
       " 3304571422,\n",
       " 3309365614,\n",
       " 3310105714,\n",
       " 3312258926,\n",
       " 3319676739,\n",
       " 3320079367,\n",
       " 3332057097,\n",
       " 3342201840,\n",
       " 3357398384,\n",
       " 3362039251,\n",
       " 3367493247,\n",
       " 3371277047,\n",
       " 3372131337,\n",
       " 3379260072,\n",
       " 3391919803,\n",
       " 3419266314,\n",
       " 3423937755,\n",
       " 3427397479,\n",
       " 3429232516,\n",
       " 3455264956,\n",
       " 3463388890,\n",
       " 3499733621,\n",
       " 3508047169,\n",
       " 3511617963,\n",
       " 3524303171,\n",
       " 3552142259,\n",
       " 3573155649,\n",
       " 3577042875,\n",
       " 3577713868,\n",
       " 3584855583,\n",
       " 3590655705,\n",
       " 3591136796,\n",
       " 3595021912,\n",
       " 3600436937,\n",
       " 3628338328,\n",
       " 3636663279,\n",
       " 3642806036,\n",
       " 3647477940,\n",
       " 3647934575,\n",
       " 3656415546,\n",
       " 3661375494,\n",
       " 3663170795,\n",
       " 3686264987,\n",
       " 3694317332,\n",
       " 3704174715,\n",
       " 3704741858,\n",
       " 3713138051,\n",
       " 3717692402,\n",
       " 3722970464,\n",
       " 3724732821,\n",
       " 3733762160,\n",
       " 3735525502,\n",
       " 3736558232,\n",
       " 3741503045,\n",
       " 3752369942,\n",
       " 3766097110,\n",
       " 3770394574,\n",
       " 3785537730,\n",
       " 3791892006,\n",
       " 3796654595,\n",
       " 3803269165,\n",
       " 3812442168,\n",
       " 3815257471,\n",
       " 3836897869,\n",
       " 3857804666,\n",
       " 3860669668,\n",
       " 3866069709,\n",
       " 3870317023,\n",
       " 3873846164,\n",
       " 3874092616,\n",
       " 3891541246,\n",
       " 3893674369,\n",
       " 3906435972,\n",
       " 3907107900,\n",
       " 3909304777,\n",
       " 3910723394,\n",
       " 3917749921,\n",
       " 3927376365,\n",
       " 3931967268,\n",
       " 3935952912,\n",
       " 3938001975,\n",
       " 3940815455,\n",
       " 3941503500,\n",
       " 3941795274,\n",
       " 3942804483,\n",
       " 3951559397,\n",
       " 3953983768,\n",
       " 3957174400,\n",
       " 3963646447,\n",
       " 3972127743,\n",
       " 3977396102,\n",
       " 3984495233,\n",
       " 3993040832,\n",
       " 3994425631,\n",
       " 4003628586,\n",
       " 4006260374,\n",
       " 4009017467,\n",
       " 4012829377,\n",
       " 4018812886,\n",
       " 4027395615,\n",
       " 4033511429,\n",
       " 4037043590,\n",
       " 4037118491,\n",
       " 4038181899,\n",
       " 4062713576,\n",
       " 4069496402,\n",
       " 4100747010,\n",
       " 4120364173,\n",
       " 4134830387,\n",
       " 4157461730,\n",
       " 4166660304,\n",
       " 4169666863,\n",
       " 4171878080,\n",
       " 4176813035,\n",
       " 4178309188,\n",
       " 4181076848,\n",
       " 4186744110,\n",
       " 4186807279,\n",
       " 4194288377,\n",
       " 4205543768,\n",
       " 4216089391,\n",
       " 4224378620,\n",
       " 4228915420,\n",
       " 4231233292,\n",
       " 4251087345,\n",
       " 4251115836,\n",
       " 4256040402,\n",
       " 4258103007,\n",
       " 4266935830,\n",
       " 4279090005,\n",
       " 4281247801,\n",
       " 4283872382}"
      ]
     },
     "execution_count": 30,
     "metadata": {},
     "output_type": "execute_result"
    }
   ],
   "source": [
    "grupo_b = set(orders.query(\"group == 'B'\")['visitor_id'])\n",
    "grupo_b\n",
    "#SET estructura de datos, 1los datos estan ordenados y no se repiten. VENTAJA=operacioens de conjuntos"
   ]
  },
  {
   "cell_type": "code",
   "execution_count": 31,
   "metadata": {
    "scrolled": true
   },
   "outputs": [
    {
     "data": {
      "text/plain": [
       "[3957174400,\n",
       " 3984495233,\n",
       " 2780786433,\n",
       " 1294878855,\n",
       " 1648269707,\n",
       " 1614305549,\n",
       " 4120364173,\n",
       " 232979603,\n",
       " 199603092,\n",
       " 4266935830,\n",
       " 2712142231,\n",
       " 2587333274,\n",
       " 2716752286,\n",
       " 3891541246,\n",
       " 1668030113,\n",
       " 2654030115,\n",
       " 3234906277,\n",
       " 1230306981,\n",
       " 1404934699,\n",
       " 3803269165,\n",
       " 2949041841,\n",
       " 237748145,\n",
       " 457167155,\n",
       " 2927087541,\n",
       " 1738359350,\n",
       " 3062433592,\n",
       " 3656415546,\n",
       " 818047933,\n",
       " 393266494,\n",
       " 963407295,\n",
       " 471551937,\n",
       " 2579882178,\n",
       " 3202540741,\n",
       " 2686716486,\n",
       " 1333886533,\n",
       " 2044997962,\n",
       " 3941795274,\n",
       " 1801183820,\n",
       " 2378935119,\n",
       " 4256040402,\n",
       " 4069496402,\n",
       " 3766097110,\n",
       " 8300375,\n",
       " 351125977,\n",
       " 1602967004,\n",
       " 276558944,\n",
       " 2038680547,\n",
       " 3951559397,\n",
       " 3963646447,\n",
       " 4186807279,\n",
       " 3717692402,\n",
       " 1959144690,\n",
       " 2458001652,\n",
       " 2600415354,\n",
       " 2954449915,\n",
       " 1316129916,\n",
       " 477780734,\n",
       " 3972127743]"
      ]
     },
     "execution_count": 31,
     "metadata": {},
     "output_type": "execute_result"
    }
   ],
   "source": [
    "#La interseccion\n",
    "inter= list(grupo_a.intersection(grupo_b))\n",
    "inter\n",
    "#$Stos están enambos grupos, eliminar"
   ]
  },
  {
   "cell_type": "code",
   "execution_count": 32,
   "metadata": {},
   "outputs": [
    {
     "data": {
      "text/html": [
       "<div>\n",
       "<style scoped>\n",
       "    .dataframe tbody tr th:only-of-type {\n",
       "        vertical-align: middle;\n",
       "    }\n",
       "\n",
       "    .dataframe tbody tr th {\n",
       "        vertical-align: top;\n",
       "    }\n",
       "\n",
       "    .dataframe thead th {\n",
       "        text-align: right;\n",
       "    }\n",
       "</style>\n",
       "<table border=\"1\" class=\"dataframe\">\n",
       "  <thead>\n",
       "    <tr style=\"text-align: right;\">\n",
       "      <th></th>\n",
       "      <th>transaction_id</th>\n",
       "      <th>visitor_id</th>\n",
       "      <th>date</th>\n",
       "      <th>revenue</th>\n",
       "      <th>group</th>\n",
       "    </tr>\n",
       "  </thead>\n",
       "  <tbody>\n",
       "    <tr>\n",
       "      <th>0</th>\n",
       "      <td>3667963787</td>\n",
       "      <td>3312258926</td>\n",
       "      <td>2019-08-15</td>\n",
       "      <td>30.4</td>\n",
       "      <td>B</td>\n",
       "    </tr>\n",
       "    <tr>\n",
       "      <th>1</th>\n",
       "      <td>2804400009</td>\n",
       "      <td>3642806036</td>\n",
       "      <td>2019-08-15</td>\n",
       "      <td>15.2</td>\n",
       "      <td>B</td>\n",
       "    </tr>\n",
       "    <tr>\n",
       "      <th>2</th>\n",
       "      <td>3797467345</td>\n",
       "      <td>1196621759</td>\n",
       "      <td>2019-08-15</td>\n",
       "      <td>155.1</td>\n",
       "      <td>B</td>\n",
       "    </tr>\n",
       "    <tr>\n",
       "      <th>3</th>\n",
       "      <td>2282983706</td>\n",
       "      <td>2322279887</td>\n",
       "      <td>2019-08-15</td>\n",
       "      <td>40.5</td>\n",
       "      <td>B</td>\n",
       "    </tr>\n",
       "    <tr>\n",
       "      <th>4</th>\n",
       "      <td>182168103</td>\n",
       "      <td>935554773</td>\n",
       "      <td>2019-08-15</td>\n",
       "      <td>35.0</td>\n",
       "      <td>B</td>\n",
       "    </tr>\n",
       "    <tr>\n",
       "      <th>...</th>\n",
       "      <td>...</td>\n",
       "      <td>...</td>\n",
       "      <td>...</td>\n",
       "      <td>...</td>\n",
       "      <td>...</td>\n",
       "    </tr>\n",
       "    <tr>\n",
       "      <th>1011</th>\n",
       "      <td>3592955527</td>\n",
       "      <td>608641596</td>\n",
       "      <td>2019-08-14</td>\n",
       "      <td>255.7</td>\n",
       "      <td>B</td>\n",
       "    </tr>\n",
       "    <tr>\n",
       "      <th>1012</th>\n",
       "      <td>2662137336</td>\n",
       "      <td>3733762160</td>\n",
       "      <td>2019-08-14</td>\n",
       "      <td>100.8</td>\n",
       "      <td>B</td>\n",
       "    </tr>\n",
       "    <tr>\n",
       "      <th>1013</th>\n",
       "      <td>2203539145</td>\n",
       "      <td>370388673</td>\n",
       "      <td>2019-08-14</td>\n",
       "      <td>50.1</td>\n",
       "      <td>A</td>\n",
       "    </tr>\n",
       "    <tr>\n",
       "      <th>1014</th>\n",
       "      <td>1807773912</td>\n",
       "      <td>573423106</td>\n",
       "      <td>2019-08-14</td>\n",
       "      <td>165.3</td>\n",
       "      <td>A</td>\n",
       "    </tr>\n",
       "    <tr>\n",
       "      <th>1015</th>\n",
       "      <td>3936777065</td>\n",
       "      <td>2108080724</td>\n",
       "      <td>2019-08-15</td>\n",
       "      <td>3120.1</td>\n",
       "      <td>B</td>\n",
       "    </tr>\n",
       "  </tbody>\n",
       "</table>\n",
       "<p>1016 rows × 5 columns</p>\n",
       "</div>"
      ],
      "text/plain": [
       "      transaction_id  visitor_id        date  revenue group\n",
       "0         3667963787  3312258926  2019-08-15     30.4     B\n",
       "1         2804400009  3642806036  2019-08-15     15.2     B\n",
       "2         3797467345  1196621759  2019-08-15    155.1     B\n",
       "3         2282983706  2322279887  2019-08-15     40.5     B\n",
       "4          182168103   935554773  2019-08-15     35.0     B\n",
       "...              ...         ...         ...      ...   ...\n",
       "1011      3592955527   608641596  2019-08-14    255.7     B\n",
       "1012      2662137336  3733762160  2019-08-14    100.8     B\n",
       "1013      2203539145   370388673  2019-08-14     50.1     A\n",
       "1014      1807773912   573423106  2019-08-14    165.3     A\n",
       "1015      3936777065  2108080724  2019-08-15   3120.1     B\n",
       "\n",
       "[1016 rows x 5 columns]"
      ]
     },
     "execution_count": 32,
     "metadata": {},
     "output_type": "execute_result"
    }
   ],
   "source": [
    "#Aplicando filtro\n",
    "orders = orders[~orders['visitor_id'].isin(inter)].reset_index(drop=True)\n",
    "orders\n",
    "#Datos limpios"
   ]
  },
  {
   "cell_type": "code",
   "execution_count": 33,
   "metadata": {},
   "outputs": [],
   "source": [
    "#a = grupo_a[False == grupo_a['visitor_id'].isin(grupo_b['visitor_id'])]"
   ]
  },
  {
   "cell_type": "code",
   "execution_count": 34,
   "metadata": {},
   "outputs": [],
   "source": [
    "#b = grupo_b[~grupo_b['visitor_id'].isin(grupo_a['visitor_id'])]\n"
   ]
  },
  {
   "cell_type": "code",
   "execution_count": 35,
   "metadata": {},
   "outputs": [
    {
     "data": {
      "text/html": [
       "<div>\n",
       "<style scoped>\n",
       "    .dataframe tbody tr th:only-of-type {\n",
       "        vertical-align: middle;\n",
       "    }\n",
       "\n",
       "    .dataframe tbody tr th {\n",
       "        vertical-align: top;\n",
       "    }\n",
       "\n",
       "    .dataframe thead th {\n",
       "        text-align: right;\n",
       "    }\n",
       "</style>\n",
       "<table border=\"1\" class=\"dataframe\">\n",
       "  <thead>\n",
       "    <tr style=\"text-align: right;\">\n",
       "      <th></th>\n",
       "      <th>transaction_id</th>\n",
       "      <th>visitor_id</th>\n",
       "      <th>date</th>\n",
       "      <th>revenue</th>\n",
       "      <th>group</th>\n",
       "    </tr>\n",
       "  </thead>\n",
       "  <tbody>\n",
       "  </tbody>\n",
       "</table>\n",
       "</div>"
      ],
      "text/plain": [
       "Empty DataFrame\n",
       "Columns: [transaction_id, visitor_id, date, revenue, group]\n",
       "Index: []"
      ]
     },
     "execution_count": 35,
     "metadata": {},
     "output_type": "execute_result"
    }
   ],
   "source": [
    "orders[orders['visitor_id'] == 8300375]"
   ]
  },
  {
   "cell_type": "code",
   "execution_count": 36,
   "metadata": {},
   "outputs": [
    {
     "data": {
      "text/html": [
       "<div>\n",
       "<style scoped>\n",
       "    .dataframe tbody tr th:only-of-type {\n",
       "        vertical-align: middle;\n",
       "    }\n",
       "\n",
       "    .dataframe tbody tr th {\n",
       "        vertical-align: top;\n",
       "    }\n",
       "\n",
       "    .dataframe thead th {\n",
       "        text-align: right;\n",
       "    }\n",
       "</style>\n",
       "<table border=\"1\" class=\"dataframe\">\n",
       "  <thead>\n",
       "    <tr style=\"text-align: right;\">\n",
       "      <th></th>\n",
       "      <th>transaction_id</th>\n",
       "      <th>visitor_id</th>\n",
       "      <th>date</th>\n",
       "      <th>revenue</th>\n",
       "      <th>group</th>\n",
       "    </tr>\n",
       "  </thead>\n",
       "  <tbody>\n",
       "    <tr>\n",
       "      <th>0</th>\n",
       "      <td>3667963787</td>\n",
       "      <td>3312258926</td>\n",
       "      <td>2019-08-15</td>\n",
       "      <td>30.4</td>\n",
       "      <td>B</td>\n",
       "    </tr>\n",
       "    <tr>\n",
       "      <th>1</th>\n",
       "      <td>2804400009</td>\n",
       "      <td>3642806036</td>\n",
       "      <td>2019-08-15</td>\n",
       "      <td>15.2</td>\n",
       "      <td>B</td>\n",
       "    </tr>\n",
       "    <tr>\n",
       "      <th>2</th>\n",
       "      <td>3797467345</td>\n",
       "      <td>1196621759</td>\n",
       "      <td>2019-08-15</td>\n",
       "      <td>155.1</td>\n",
       "      <td>B</td>\n",
       "    </tr>\n",
       "    <tr>\n",
       "      <th>3</th>\n",
       "      <td>2282983706</td>\n",
       "      <td>2322279887</td>\n",
       "      <td>2019-08-15</td>\n",
       "      <td>40.5</td>\n",
       "      <td>B</td>\n",
       "    </tr>\n",
       "    <tr>\n",
       "      <th>4</th>\n",
       "      <td>182168103</td>\n",
       "      <td>935554773</td>\n",
       "      <td>2019-08-15</td>\n",
       "      <td>35.0</td>\n",
       "      <td>B</td>\n",
       "    </tr>\n",
       "    <tr>\n",
       "      <th>...</th>\n",
       "      <td>...</td>\n",
       "      <td>...</td>\n",
       "      <td>...</td>\n",
       "      <td>...</td>\n",
       "      <td>...</td>\n",
       "    </tr>\n",
       "    <tr>\n",
       "      <th>1011</th>\n",
       "      <td>3592955527</td>\n",
       "      <td>608641596</td>\n",
       "      <td>2019-08-14</td>\n",
       "      <td>255.7</td>\n",
       "      <td>B</td>\n",
       "    </tr>\n",
       "    <tr>\n",
       "      <th>1012</th>\n",
       "      <td>2662137336</td>\n",
       "      <td>3733762160</td>\n",
       "      <td>2019-08-14</td>\n",
       "      <td>100.8</td>\n",
       "      <td>B</td>\n",
       "    </tr>\n",
       "    <tr>\n",
       "      <th>1013</th>\n",
       "      <td>2203539145</td>\n",
       "      <td>370388673</td>\n",
       "      <td>2019-08-14</td>\n",
       "      <td>50.1</td>\n",
       "      <td>A</td>\n",
       "    </tr>\n",
       "    <tr>\n",
       "      <th>1014</th>\n",
       "      <td>1807773912</td>\n",
       "      <td>573423106</td>\n",
       "      <td>2019-08-14</td>\n",
       "      <td>165.3</td>\n",
       "      <td>A</td>\n",
       "    </tr>\n",
       "    <tr>\n",
       "      <th>1015</th>\n",
       "      <td>3936777065</td>\n",
       "      <td>2108080724</td>\n",
       "      <td>2019-08-15</td>\n",
       "      <td>3120.1</td>\n",
       "      <td>B</td>\n",
       "    </tr>\n",
       "  </tbody>\n",
       "</table>\n",
       "<p>1016 rows × 5 columns</p>\n",
       "</div>"
      ],
      "text/plain": [
       "      transaction_id  visitor_id        date  revenue group\n",
       "0         3667963787  3312258926  2019-08-15     30.4     B\n",
       "1         2804400009  3642806036  2019-08-15     15.2     B\n",
       "2         3797467345  1196621759  2019-08-15    155.1     B\n",
       "3         2282983706  2322279887  2019-08-15     40.5     B\n",
       "4          182168103   935554773  2019-08-15     35.0     B\n",
       "...              ...         ...         ...      ...   ...\n",
       "1011      3592955527   608641596  2019-08-14    255.7     B\n",
       "1012      2662137336  3733762160  2019-08-14    100.8     B\n",
       "1013      2203539145   370388673  2019-08-14     50.1     A\n",
       "1014      1807773912   573423106  2019-08-14    165.3     A\n",
       "1015      3936777065  2108080724  2019-08-15   3120.1     B\n",
       "\n",
       "[1016 rows x 5 columns]"
      ]
     },
     "execution_count": 36,
     "metadata": {},
     "output_type": "execute_result"
    }
   ],
   "source": [
    "orders"
   ]
  },
  {
   "cell_type": "markdown",
   "metadata": {},
   "source": [
    "#### Conclusiones pre-procesamiento DF orders:\n",
    "- Se modificó en nombre de las columnas, aplicando el estilo snake_case y poniendo en minúsculas.\n",
    "- El DF no tiene valores ausentes.\n",
    "- El DF tiene valores de visitors_id duplicados. En algunos casos los usuarios aparecen en ambos grupos del test A/B."
   ]
  },
  {
   "cell_type": "markdown",
   "metadata": {},
   "source": [
    "### Para el DF de visits:"
   ]
  },
  {
   "cell_type": "code",
   "execution_count": 37,
   "metadata": {},
   "outputs": [
    {
     "data": {
      "text/html": [
       "<div>\n",
       "<style scoped>\n",
       "    .dataframe tbody tr th:only-of-type {\n",
       "        vertical-align: middle;\n",
       "    }\n",
       "\n",
       "    .dataframe tbody tr th {\n",
       "        vertical-align: top;\n",
       "    }\n",
       "\n",
       "    .dataframe thead th {\n",
       "        text-align: right;\n",
       "    }\n",
       "</style>\n",
       "<table border=\"1\" class=\"dataframe\">\n",
       "  <thead>\n",
       "    <tr style=\"text-align: right;\">\n",
       "      <th></th>\n",
       "      <th>date</th>\n",
       "      <th>group</th>\n",
       "      <th>visits</th>\n",
       "    </tr>\n",
       "  </thead>\n",
       "  <tbody>\n",
       "    <tr>\n",
       "      <th>0</th>\n",
       "      <td>2019-08-01</td>\n",
       "      <td>A</td>\n",
       "      <td>719</td>\n",
       "    </tr>\n",
       "    <tr>\n",
       "      <th>1</th>\n",
       "      <td>2019-08-02</td>\n",
       "      <td>A</td>\n",
       "      <td>619</td>\n",
       "    </tr>\n",
       "    <tr>\n",
       "      <th>2</th>\n",
       "      <td>2019-08-03</td>\n",
       "      <td>A</td>\n",
       "      <td>507</td>\n",
       "    </tr>\n",
       "    <tr>\n",
       "      <th>3</th>\n",
       "      <td>2019-08-04</td>\n",
       "      <td>A</td>\n",
       "      <td>717</td>\n",
       "    </tr>\n",
       "    <tr>\n",
       "      <th>4</th>\n",
       "      <td>2019-08-05</td>\n",
       "      <td>A</td>\n",
       "      <td>756</td>\n",
       "    </tr>\n",
       "  </tbody>\n",
       "</table>\n",
       "</div>"
      ],
      "text/plain": [
       "         date group  visits\n",
       "0  2019-08-01     A     719\n",
       "1  2019-08-02     A     619\n",
       "2  2019-08-03     A     507\n",
       "3  2019-08-04     A     717\n",
       "4  2019-08-05     A     756"
      ]
     },
     "execution_count": 37,
     "metadata": {},
     "output_type": "execute_result"
    }
   ],
   "source": [
    "visits.head()"
   ]
  },
  {
   "cell_type": "code",
   "execution_count": 38,
   "metadata": {},
   "outputs": [
    {
     "name": "stdout",
     "output_type": "stream",
     "text": [
      "<class 'pandas.core.frame.DataFrame'>\n",
      "RangeIndex: 62 entries, 0 to 61\n",
      "Data columns (total 3 columns):\n",
      " #   Column  Non-Null Count  Dtype \n",
      "---  ------  --------------  ----- \n",
      " 0   date    62 non-null     object\n",
      " 1   group   62 non-null     object\n",
      " 2   visits  62 non-null     int64 \n",
      "dtypes: int64(1), object(2)\n",
      "memory usage: 1.6+ KB\n"
     ]
    }
   ],
   "source": [
    "visits.info()"
   ]
  },
  {
   "cell_type": "code",
   "execution_count": 39,
   "metadata": {},
   "outputs": [
    {
     "data": {
      "text/plain": [
       "0"
      ]
     },
     "execution_count": 39,
     "metadata": {},
     "output_type": "execute_result"
    }
   ],
   "source": [
    "visits.duplicated().sum()"
   ]
  },
  {
   "cell_type": "markdown",
   "metadata": {},
   "source": [
    "#### Conclusiones pre-procesamiento DF visits:\n",
    "- El DF no tiene valores ausentes.\n",
    "- El DF no tiene valores duplicados. "
   ]
  },
  {
   "cell_type": "markdown",
   "metadata": {},
   "source": [
    "## Parte 1. Priorizar hipótesis\n",
    "\n",
    "- Aplicar el framework ICE para priorizar hipótesis. Ordenarlas en orden descendente de prioridad.\n",
    "- Aplicar el framework RICE para priorizar hipótesis. Ordenarlas en orden descendente de prioridad.\n",
    "- Mostrar cómo cambia la priorización de hipótesis cuando utilizas RICE en lugar de ICE. Proporcionar una explicación de los cambios."
   ]
  },
  {
   "cell_type": "markdown",
   "metadata": {},
   "source": [
    "### ICE"
   ]
  },
  {
   "cell_type": "code",
   "execution_count": 40,
   "metadata": {},
   "outputs": [
    {
     "data": {
      "text/html": [
       "<div>\n",
       "<style scoped>\n",
       "    .dataframe tbody tr th:only-of-type {\n",
       "        vertical-align: middle;\n",
       "    }\n",
       "\n",
       "    .dataframe tbody tr th {\n",
       "        vertical-align: top;\n",
       "    }\n",
       "\n",
       "    .dataframe thead th {\n",
       "        text-align: right;\n",
       "    }\n",
       "</style>\n",
       "<table border=\"1\" class=\"dataframe\">\n",
       "  <thead>\n",
       "    <tr style=\"text-align: right;\">\n",
       "      <th></th>\n",
       "      <th>hypothesis</th>\n",
       "      <th>reach</th>\n",
       "      <th>impact</th>\n",
       "      <th>confidence</th>\n",
       "      <th>effort</th>\n",
       "    </tr>\n",
       "  </thead>\n",
       "  <tbody>\n",
       "    <tr>\n",
       "      <th>0</th>\n",
       "      <td>Add two new channels for attracting traffic. This will bring 30% more users</td>\n",
       "      <td>3</td>\n",
       "      <td>10</td>\n",
       "      <td>8</td>\n",
       "      <td>6</td>\n",
       "    </tr>\n",
       "    <tr>\n",
       "      <th>1</th>\n",
       "      <td>Launch your own delivery service. This will shorten delivery time</td>\n",
       "      <td>2</td>\n",
       "      <td>5</td>\n",
       "      <td>4</td>\n",
       "      <td>10</td>\n",
       "    </tr>\n",
       "    <tr>\n",
       "      <th>2</th>\n",
       "      <td>Add product recommendation blocks to the store's site. This will increase conversion and average purchase size</td>\n",
       "      <td>8</td>\n",
       "      <td>3</td>\n",
       "      <td>7</td>\n",
       "      <td>3</td>\n",
       "    </tr>\n",
       "    <tr>\n",
       "      <th>3</th>\n",
       "      <td>Change the category structure. This will increase conversion since users will find the products they want more quickly</td>\n",
       "      <td>8</td>\n",
       "      <td>3</td>\n",
       "      <td>3</td>\n",
       "      <td>8</td>\n",
       "    </tr>\n",
       "    <tr>\n",
       "      <th>4</th>\n",
       "      <td>Change the background color on the main page. This will increase user engagement</td>\n",
       "      <td>3</td>\n",
       "      <td>1</td>\n",
       "      <td>1</td>\n",
       "      <td>1</td>\n",
       "    </tr>\n",
       "    <tr>\n",
       "      <th>5</th>\n",
       "      <td>Add a customer review page. This will increase the number of orders</td>\n",
       "      <td>3</td>\n",
       "      <td>2</td>\n",
       "      <td>2</td>\n",
       "      <td>3</td>\n",
       "    </tr>\n",
       "    <tr>\n",
       "      <th>6</th>\n",
       "      <td>Show banners with current offers and sales on the main page. This will boost conversion</td>\n",
       "      <td>5</td>\n",
       "      <td>3</td>\n",
       "      <td>8</td>\n",
       "      <td>3</td>\n",
       "    </tr>\n",
       "    <tr>\n",
       "      <th>7</th>\n",
       "      <td>Add a subscription form to all the main pages. This will help you compile a mailing list</td>\n",
       "      <td>10</td>\n",
       "      <td>7</td>\n",
       "      <td>8</td>\n",
       "      <td>5</td>\n",
       "    </tr>\n",
       "    <tr>\n",
       "      <th>8</th>\n",
       "      <td>Launch a promotion that gives users discounts on their birthdays</td>\n",
       "      <td>1</td>\n",
       "      <td>9</td>\n",
       "      <td>9</td>\n",
       "      <td>5</td>\n",
       "    </tr>\n",
       "  </tbody>\n",
       "</table>\n",
       "</div>"
      ],
      "text/plain": [
       "                                                                                                               hypothesis  \\\n",
       "0                                             Add two new channels for attracting traffic. This will bring 30% more users   \n",
       "1                                                       Launch your own delivery service. This will shorten delivery time   \n",
       "2          Add product recommendation blocks to the store's site. This will increase conversion and average purchase size   \n",
       "3  Change the category structure. This will increase conversion since users will find the products they want more quickly   \n",
       "4                                        Change the background color on the main page. This will increase user engagement   \n",
       "5                                                     Add a customer review page. This will increase the number of orders   \n",
       "6                                 Show banners with current offers and sales on the main page. This will boost conversion   \n",
       "7                                Add a subscription form to all the main pages. This will help you compile a mailing list   \n",
       "8                                                        Launch a promotion that gives users discounts on their birthdays   \n",
       "\n",
       "   reach  impact  confidence  effort  \n",
       "0      3      10           8       6  \n",
       "1      2       5           4      10  \n",
       "2      8       3           7       3  \n",
       "3      8       3           3       8  \n",
       "4      3       1           1       1  \n",
       "5      3       2           2       3  \n",
       "6      5       3           8       3  \n",
       "7     10       7           8       5  \n",
       "8      1       9           9       5  "
      ]
     },
     "execution_count": 40,
     "metadata": {},
     "output_type": "execute_result"
    }
   ],
   "source": [
    "hipos"
   ]
  },
  {
   "cell_type": "code",
   "execution_count": 41,
   "metadata": {},
   "outputs": [
    {
     "data": {
      "text/html": [
       "<div>\n",
       "<style scoped>\n",
       "    .dataframe tbody tr th:only-of-type {\n",
       "        vertical-align: middle;\n",
       "    }\n",
       "\n",
       "    .dataframe tbody tr th {\n",
       "        vertical-align: top;\n",
       "    }\n",
       "\n",
       "    .dataframe thead th {\n",
       "        text-align: right;\n",
       "    }\n",
       "</style>\n",
       "<table border=\"1\" class=\"dataframe\">\n",
       "  <thead>\n",
       "    <tr style=\"text-align: right;\">\n",
       "      <th></th>\n",
       "      <th>hypothesis</th>\n",
       "      <th>reach</th>\n",
       "      <th>impact</th>\n",
       "      <th>confidence</th>\n",
       "      <th>effort</th>\n",
       "      <th>ice_score</th>\n",
       "    </tr>\n",
       "  </thead>\n",
       "  <tbody>\n",
       "    <tr>\n",
       "      <th>8</th>\n",
       "      <td>Launch a promotion that gives users discounts on their birthdays</td>\n",
       "      <td>1</td>\n",
       "      <td>9</td>\n",
       "      <td>9</td>\n",
       "      <td>5</td>\n",
       "      <td>16.200000</td>\n",
       "    </tr>\n",
       "    <tr>\n",
       "      <th>0</th>\n",
       "      <td>Add two new channels for attracting traffic. This will bring 30% more users</td>\n",
       "      <td>3</td>\n",
       "      <td>10</td>\n",
       "      <td>8</td>\n",
       "      <td>6</td>\n",
       "      <td>13.333333</td>\n",
       "    </tr>\n",
       "    <tr>\n",
       "      <th>7</th>\n",
       "      <td>Add a subscription form to all the main pages. This will help you compile a mailing list</td>\n",
       "      <td>10</td>\n",
       "      <td>7</td>\n",
       "      <td>8</td>\n",
       "      <td>5</td>\n",
       "      <td>11.200000</td>\n",
       "    </tr>\n",
       "    <tr>\n",
       "      <th>6</th>\n",
       "      <td>Show banners with current offers and sales on the main page. This will boost conversion</td>\n",
       "      <td>5</td>\n",
       "      <td>3</td>\n",
       "      <td>8</td>\n",
       "      <td>3</td>\n",
       "      <td>8.000000</td>\n",
       "    </tr>\n",
       "    <tr>\n",
       "      <th>2</th>\n",
       "      <td>Add product recommendation blocks to the store's site. This will increase conversion and average purchase size</td>\n",
       "      <td>8</td>\n",
       "      <td>3</td>\n",
       "      <td>7</td>\n",
       "      <td>3</td>\n",
       "      <td>7.000000</td>\n",
       "    </tr>\n",
       "    <tr>\n",
       "      <th>1</th>\n",
       "      <td>Launch your own delivery service. This will shorten delivery time</td>\n",
       "      <td>2</td>\n",
       "      <td>5</td>\n",
       "      <td>4</td>\n",
       "      <td>10</td>\n",
       "      <td>2.000000</td>\n",
       "    </tr>\n",
       "    <tr>\n",
       "      <th>5</th>\n",
       "      <td>Add a customer review page. This will increase the number of orders</td>\n",
       "      <td>3</td>\n",
       "      <td>2</td>\n",
       "      <td>2</td>\n",
       "      <td>3</td>\n",
       "      <td>1.333333</td>\n",
       "    </tr>\n",
       "    <tr>\n",
       "      <th>3</th>\n",
       "      <td>Change the category structure. This will increase conversion since users will find the products they want more quickly</td>\n",
       "      <td>8</td>\n",
       "      <td>3</td>\n",
       "      <td>3</td>\n",
       "      <td>8</td>\n",
       "      <td>1.125000</td>\n",
       "    </tr>\n",
       "    <tr>\n",
       "      <th>4</th>\n",
       "      <td>Change the background color on the main page. This will increase user engagement</td>\n",
       "      <td>3</td>\n",
       "      <td>1</td>\n",
       "      <td>1</td>\n",
       "      <td>1</td>\n",
       "      <td>1.000000</td>\n",
       "    </tr>\n",
       "  </tbody>\n",
       "</table>\n",
       "</div>"
      ],
      "text/plain": [
       "                                                                                                               hypothesis  \\\n",
       "8                                                        Launch a promotion that gives users discounts on their birthdays   \n",
       "0                                             Add two new channels for attracting traffic. This will bring 30% more users   \n",
       "7                                Add a subscription form to all the main pages. This will help you compile a mailing list   \n",
       "6                                 Show banners with current offers and sales on the main page. This will boost conversion   \n",
       "2          Add product recommendation blocks to the store's site. This will increase conversion and average purchase size   \n",
       "1                                                       Launch your own delivery service. This will shorten delivery time   \n",
       "5                                                     Add a customer review page. This will increase the number of orders   \n",
       "3  Change the category structure. This will increase conversion since users will find the products they want more quickly   \n",
       "4                                        Change the background color on the main page. This will increase user engagement   \n",
       "\n",
       "   reach  impact  confidence  effort  ice_score  \n",
       "8      1       9           9       5  16.200000  \n",
       "0      3      10           8       6  13.333333  \n",
       "7     10       7           8       5  11.200000  \n",
       "6      5       3           8       3   8.000000  \n",
       "2      8       3           7       3   7.000000  \n",
       "1      2       5           4      10   2.000000  \n",
       "5      3       2           2       3   1.333333  \n",
       "3      8       3           3       8   1.125000  \n",
       "4      3       1           1       1   1.000000  "
      ]
     },
     "execution_count": 41,
     "metadata": {},
     "output_type": "execute_result"
    }
   ],
   "source": [
    "hipos['ice_score'] = hipos['impact'] * hipos['confidence'] / hipos['effort']\n",
    "hipos.sort_values(by='ice_score', ascending=False)"
   ]
  },
  {
   "cell_type": "code",
   "execution_count": 42,
   "metadata": {},
   "outputs": [
    {
     "data": {
      "text/html": [
       "<div>\n",
       "<style scoped>\n",
       "    .dataframe tbody tr th:only-of-type {\n",
       "        vertical-align: middle;\n",
       "    }\n",
       "\n",
       "    .dataframe tbody tr th {\n",
       "        vertical-align: top;\n",
       "    }\n",
       "\n",
       "    .dataframe thead th {\n",
       "        text-align: right;\n",
       "    }\n",
       "</style>\n",
       "<table border=\"1\" class=\"dataframe\">\n",
       "  <thead>\n",
       "    <tr style=\"text-align: right;\">\n",
       "      <th></th>\n",
       "      <th>hypothesis</th>\n",
       "      <th>reach</th>\n",
       "      <th>impact</th>\n",
       "      <th>confidence</th>\n",
       "      <th>effort</th>\n",
       "      <th>ice_score</th>\n",
       "      <th>hips</th>\n",
       "    </tr>\n",
       "  </thead>\n",
       "  <tbody>\n",
       "    <tr>\n",
       "      <th>0</th>\n",
       "      <td>Add two new channels for attracting traffic. This will bring 30% more users</td>\n",
       "      <td>3</td>\n",
       "      <td>10</td>\n",
       "      <td>8</td>\n",
       "      <td>6</td>\n",
       "      <td>13.333333</td>\n",
       "      <td>hip_0</td>\n",
       "    </tr>\n",
       "    <tr>\n",
       "      <th>1</th>\n",
       "      <td>Launch your own delivery service. This will shorten delivery time</td>\n",
       "      <td>2</td>\n",
       "      <td>5</td>\n",
       "      <td>4</td>\n",
       "      <td>10</td>\n",
       "      <td>2.000000</td>\n",
       "      <td>hip_1</td>\n",
       "    </tr>\n",
       "    <tr>\n",
       "      <th>2</th>\n",
       "      <td>Add product recommendation blocks to the store's site. This will increase conversion and average purchase size</td>\n",
       "      <td>8</td>\n",
       "      <td>3</td>\n",
       "      <td>7</td>\n",
       "      <td>3</td>\n",
       "      <td>7.000000</td>\n",
       "      <td>hip_2</td>\n",
       "    </tr>\n",
       "    <tr>\n",
       "      <th>3</th>\n",
       "      <td>Change the category structure. This will increase conversion since users will find the products they want more quickly</td>\n",
       "      <td>8</td>\n",
       "      <td>3</td>\n",
       "      <td>3</td>\n",
       "      <td>8</td>\n",
       "      <td>1.125000</td>\n",
       "      <td>hip_3</td>\n",
       "    </tr>\n",
       "    <tr>\n",
       "      <th>4</th>\n",
       "      <td>Change the background color on the main page. This will increase user engagement</td>\n",
       "      <td>3</td>\n",
       "      <td>1</td>\n",
       "      <td>1</td>\n",
       "      <td>1</td>\n",
       "      <td>1.000000</td>\n",
       "      <td>hip_4</td>\n",
       "    </tr>\n",
       "    <tr>\n",
       "      <th>5</th>\n",
       "      <td>Add a customer review page. This will increase the number of orders</td>\n",
       "      <td>3</td>\n",
       "      <td>2</td>\n",
       "      <td>2</td>\n",
       "      <td>3</td>\n",
       "      <td>1.333333</td>\n",
       "      <td>hip_5</td>\n",
       "    </tr>\n",
       "    <tr>\n",
       "      <th>6</th>\n",
       "      <td>Show banners with current offers and sales on the main page. This will boost conversion</td>\n",
       "      <td>5</td>\n",
       "      <td>3</td>\n",
       "      <td>8</td>\n",
       "      <td>3</td>\n",
       "      <td>8.000000</td>\n",
       "      <td>hip_6</td>\n",
       "    </tr>\n",
       "    <tr>\n",
       "      <th>7</th>\n",
       "      <td>Add a subscription form to all the main pages. This will help you compile a mailing list</td>\n",
       "      <td>10</td>\n",
       "      <td>7</td>\n",
       "      <td>8</td>\n",
       "      <td>5</td>\n",
       "      <td>11.200000</td>\n",
       "      <td>hip_7</td>\n",
       "    </tr>\n",
       "    <tr>\n",
       "      <th>8</th>\n",
       "      <td>Launch a promotion that gives users discounts on their birthdays</td>\n",
       "      <td>1</td>\n",
       "      <td>9</td>\n",
       "      <td>9</td>\n",
       "      <td>5</td>\n",
       "      <td>16.200000</td>\n",
       "      <td>hip_8</td>\n",
       "    </tr>\n",
       "  </tbody>\n",
       "</table>\n",
       "</div>"
      ],
      "text/plain": [
       "                                                                                                               hypothesis  \\\n",
       "0                                             Add two new channels for attracting traffic. This will bring 30% more users   \n",
       "1                                                       Launch your own delivery service. This will shorten delivery time   \n",
       "2          Add product recommendation blocks to the store's site. This will increase conversion and average purchase size   \n",
       "3  Change the category structure. This will increase conversion since users will find the products they want more quickly   \n",
       "4                                        Change the background color on the main page. This will increase user engagement   \n",
       "5                                                     Add a customer review page. This will increase the number of orders   \n",
       "6                                 Show banners with current offers and sales on the main page. This will boost conversion   \n",
       "7                                Add a subscription form to all the main pages. This will help you compile a mailing list   \n",
       "8                                                        Launch a promotion that gives users discounts on their birthdays   \n",
       "\n",
       "   reach  impact  confidence  effort  ice_score   hips  \n",
       "0      3      10           8       6  13.333333  hip_0  \n",
       "1      2       5           4      10   2.000000  hip_1  \n",
       "2      8       3           7       3   7.000000  hip_2  \n",
       "3      8       3           3       8   1.125000  hip_3  \n",
       "4      3       1           1       1   1.000000  hip_4  \n",
       "5      3       2           2       3   1.333333  hip_5  \n",
       "6      5       3           8       3   8.000000  hip_6  \n",
       "7     10       7           8       5  11.200000  hip_7  \n",
       "8      1       9           9       5  16.200000  hip_8  "
      ]
     },
     "execution_count": 42,
     "metadata": {},
     "output_type": "execute_result"
    }
   ],
   "source": [
    "hipos['hips']=[f'hip_{i}' for i in hipos.index]\n",
    "hipos"
   ]
  },
  {
   "cell_type": "code",
   "execution_count": 43,
   "metadata": {},
   "outputs": [
    {
     "data": {
      "image/svg+xml": [
       "<svg class=\"main-svg\" xmlns=\"http://www.w3.org/2000/svg\" xmlns:xlink=\"http://www.w3.org/1999/xlink\" width=\"700\" height=\"500\" style=\"\" viewBox=\"0 0 700 500\"><rect x=\"0\" y=\"0\" width=\"700\" height=\"500\" style=\"fill: rgb(255, 255, 255); fill-opacity: 1;\"/><defs id=\"defs-e22296\"><g class=\"clips\"><clipPath id=\"clipe22296xyplot\" class=\"plotclip\"><rect width=\"540\" height=\"320\"/></clipPath><clipPath class=\"axesclip\" id=\"clipe22296x\"><rect x=\"80\" y=\"0\" width=\"540\" height=\"500\"/></clipPath><clipPath class=\"axesclip\" id=\"clipe22296y\"><rect x=\"0\" y=\"100\" width=\"700\" height=\"320\"/></clipPath><clipPath class=\"axesclip\" id=\"clipe22296xy\"><rect x=\"80\" y=\"100\" width=\"540\" height=\"320\"/></clipPath></g><g class=\"gradients\"/><g class=\"patterns\"/></defs><g class=\"bglayer\"><rect class=\"bg\" x=\"80\" y=\"100\" width=\"540\" height=\"320\" style=\"fill: rgb(229, 236, 246); fill-opacity: 1; stroke-width: 0;\"/></g><g class=\"layer-below\"><g class=\"imagelayer\"/><g class=\"shapelayer\"/></g><g class=\"cartesianlayer\"><g class=\"subplot xy\"><g class=\"layer-subplot\"><g class=\"shapelayer\"/><g class=\"imagelayer\"/></g><g class=\"minor-gridlayer\"><g class=\"x\"/><g class=\"y\"/></g><g class=\"gridlayer\"><g class=\"x\"/><g class=\"y\"><path class=\"ygrid crisp\" transform=\"translate(0,382.47)\" d=\"M80,0h540\" style=\"stroke: rgb(255, 255, 255); stroke-opacity: 1; stroke-width: 1px;\"/><path class=\"ygrid crisp\" transform=\"translate(0,344.94)\" d=\"M80,0h540\" style=\"stroke: rgb(255, 255, 255); stroke-opacity: 1; stroke-width: 1px;\"/><path class=\"ygrid crisp\" transform=\"translate(0,307.40999999999997)\" d=\"M80,0h540\" style=\"stroke: rgb(255, 255, 255); stroke-opacity: 1; stroke-width: 1px;\"/><path class=\"ygrid crisp\" transform=\"translate(0,269.88)\" d=\"M80,0h540\" style=\"stroke: rgb(255, 255, 255); stroke-opacity: 1; stroke-width: 1px;\"/><path class=\"ygrid crisp\" transform=\"translate(0,232.35)\" d=\"M80,0h540\" style=\"stroke: rgb(255, 255, 255); stroke-opacity: 1; stroke-width: 1px;\"/><path class=\"ygrid crisp\" transform=\"translate(0,194.81)\" d=\"M80,0h540\" style=\"stroke: rgb(255, 255, 255); stroke-opacity: 1; stroke-width: 1px;\"/><path class=\"ygrid crisp\" transform=\"translate(0,157.28)\" d=\"M80,0h540\" style=\"stroke: rgb(255, 255, 255); stroke-opacity: 1; stroke-width: 1px;\"/><path class=\"ygrid crisp\" transform=\"translate(0,119.75)\" d=\"M80,0h540\" style=\"stroke: rgb(255, 255, 255); stroke-opacity: 1; stroke-width: 1px;\"/></g></g><g class=\"zerolinelayer\"><path class=\"yzl zl crisp\" transform=\"translate(0,420)\" d=\"M80,0h540\" style=\"stroke: rgb(255, 255, 255); stroke-opacity: 1; stroke-width: 2px;\"/></g><g class=\"layer-between\"><g class=\"shapelayer\"/><g class=\"imagelayer\"/></g><path class=\"xlines-below\"/><path class=\"ylines-below\"/><g class=\"overlines-below\"/><g class=\"xaxislayer-below\"/><g class=\"yaxislayer-below\"/><g class=\"overaxes-below\"/><g class=\"plot\" transform=\"translate(80,100)\" clip-path=\"url(#clipe22296xyplot)\"><g class=\"barlayer mlayer\"><g class=\"trace bars\" style=\"opacity: 1;\"><g class=\"points\"><g class=\"point\"><path d=\"M6,320V16H54V320Z\" style=\"vector-effect: none; opacity: 1; stroke-width: 0.5px; fill: rgb(99, 110, 250); fill-opacity: 1; stroke: rgb(229, 236, 246); stroke-opacity: 1;\"/><text class=\"bartext bartext-inside\" text-anchor=\"middle\" data-notex=\"1\" x=\"0\" y=\"0\" style=\"font-family: 'Open Sans', verdana, arial, sans-serif; font-size: 12px; fill: rgb(255, 255, 255); fill-opacity: 1; white-space: pre;\" transform=\"translate(29.8203125,31)\">16.2</text></g><g class=\"point\"><path d=\"M66,320V69.79H114V320Z\" style=\"vector-effect: none; opacity: 1; stroke-width: 0.5px; fill: rgb(99, 110, 250); fill-opacity: 1; stroke: rgb(229, 236, 246); stroke-opacity: 1;\"/><text class=\"bartext bartext-inside\" text-anchor=\"middle\" data-notex=\"1\" x=\"0\" y=\"0\" style=\"font-family: 'Open Sans', verdana, arial, sans-serif; font-size: 12px; fill: rgb(255, 255, 255); fill-opacity: 1; white-space: pre;\" transform=\"translate(89.8125,144.50875000000002)rotate(90 0.1875 -4.5)\">13.333333333333334</text></g><g class=\"point\"><path d=\"M126,320V109.83H174V320Z\" style=\"vector-effect: none; opacity: 1; stroke-width: 0.5px; fill: rgb(99, 110, 250); fill-opacity: 1; stroke: rgb(229, 236, 246); stroke-opacity: 1;\"/><text class=\"bartext bartext-inside\" text-anchor=\"middle\" data-notex=\"1\" x=\"0\" y=\"0\" style=\"font-family: 'Open Sans', verdana, arial, sans-serif; font-size: 12px; fill: rgb(255, 255, 255); fill-opacity: 1; white-space: pre;\" transform=\"translate(149.8203125,124.83)\">11.2</text></g><g class=\"point\"><path d=\"M186,320V169.88H234V320Z\" style=\"vector-effect: none; opacity: 1; stroke-width: 0.5px; fill: rgb(99, 110, 250); fill-opacity: 1; stroke: rgb(229, 236, 246); stroke-opacity: 1;\"/><text class=\"bartext bartext-inside\" text-anchor=\"middle\" data-notex=\"1\" x=\"0\" y=\"0\" style=\"font-family: 'Open Sans', verdana, arial, sans-serif; font-size: 12px; fill: rgb(255, 255, 255); fill-opacity: 1; white-space: pre;\" transform=\"translate(209.8203125,184.88)\">8</text></g><g class=\"point\"><path d=\"M246,320V188.64H294V320Z\" style=\"vector-effect: none; opacity: 1; stroke-width: 0.5px; fill: rgb(99, 110, 250); fill-opacity: 1; stroke: rgb(229, 236, 246); stroke-opacity: 1;\"/><text class=\"bartext bartext-inside\" text-anchor=\"middle\" data-notex=\"1\" x=\"0\" y=\"0\" style=\"font-family: 'Open Sans', verdana, arial, sans-serif; font-size: 12px; fill: rgb(255, 255, 255); fill-opacity: 1; white-space: pre;\" transform=\"translate(269.8203125,203.64)\">7</text></g><g class=\"point\"><path d=\"M306,320V282.47H354V320Z\" style=\"vector-effect: none; opacity: 1; stroke-width: 0.5px; fill: rgb(99, 110, 250); fill-opacity: 1; stroke: rgb(229, 236, 246); stroke-opacity: 1;\"/><text class=\"bartext bartext-inside\" text-anchor=\"middle\" data-notex=\"1\" x=\"0\" y=\"0\" style=\"font-family: 'Open Sans', verdana, arial, sans-serif; font-size: 12px; fill: rgb(255, 255, 255); fill-opacity: 1; white-space: pre;\" transform=\"translate(329.8203125,297.47)\">2</text></g><g class=\"point\"><path d=\"M366,320V294.98H414V320Z\" style=\"vector-effect: none; opacity: 1; stroke-width: 0.5px; fill: rgb(99, 110, 250); fill-opacity: 1; stroke: rgb(229, 236, 246); stroke-opacity: 1;\"/><text class=\"bartext bartext-inside\" text-anchor=\"middle\" data-notex=\"1\" x=\"0\" y=\"0\" style=\"font-family: 'Open Sans', verdana, arial, sans-serif; font-size: 12px; fill: rgb(255, 255, 255); fill-opacity: 1; white-space: pre;\" transform=\"translate(390,301.7394405594406)scale(0.3132867132867133)\">1.3333333333333333</text></g><g class=\"point\"><path d=\"M426,320V298.89H474V320Z\" style=\"vector-effect: none; opacity: 1; stroke-width: 0.5px; fill: rgb(99, 110, 250); fill-opacity: 1; stroke: rgb(229, 236, 246); stroke-opacity: 1;\"/><text class=\"bartext bartext-inside\" text-anchor=\"middle\" data-notex=\"1\" x=\"0\" y=\"0\" style=\"font-family: 'Open Sans', verdana, arial, sans-serif; font-size: 12px; fill: rgb(255, 255, 255); fill-opacity: 1; white-space: pre;\" transform=\"translate(449.8203125,313.89)\">1.125</text></g><g class=\"point\"><path d=\"M486,320V301.23H534V320Z\" style=\"vector-effect: none; opacity: 1; stroke-width: 0.5px; fill: rgb(99, 110, 250); fill-opacity: 1; stroke: rgb(229, 236, 246); stroke-opacity: 1;\"/><text class=\"bartext bartext-inside\" text-anchor=\"middle\" data-notex=\"1\" x=\"0\" y=\"0\" style=\"font-family: 'Open Sans', verdana, arial, sans-serif; font-size: 12px; fill: rgb(255, 255, 255); fill-opacity: 1; white-space: pre;\" transform=\"translate(510,312.558125)rotate(90 0 -4.5)\">1</text></g></g></g></g></g><g class=\"overplot\"/><path class=\"xlines-above crisp\" d=\"M0,0\" style=\"fill: none;\"/><path class=\"ylines-above crisp\" d=\"M0,0\" style=\"fill: none;\"/><g class=\"overlines-above\"/><g class=\"xaxislayer-above\"><g class=\"xtick\"><text text-anchor=\"middle\" x=\"0\" y=\"433\" transform=\"translate(110,0)\" style=\"font-family: 'Open Sans', verdana, arial, sans-serif; font-size: 12px; fill: rgb(42, 63, 95); fill-opacity: 1; white-space: pre; opacity: 1;\">hip_8</text></g><g class=\"xtick\"><text text-anchor=\"middle\" x=\"0\" y=\"433\" transform=\"translate(170,0)\" style=\"font-family: 'Open Sans', verdana, arial, sans-serif; font-size: 12px; fill: rgb(42, 63, 95); fill-opacity: 1; white-space: pre; opacity: 1;\">hip_0</text></g><g class=\"xtick\"><text text-anchor=\"middle\" x=\"0\" y=\"433\" transform=\"translate(230,0)\" style=\"font-family: 'Open Sans', verdana, arial, sans-serif; font-size: 12px; fill: rgb(42, 63, 95); fill-opacity: 1; white-space: pre; opacity: 1;\">hip_7</text></g><g class=\"xtick\"><text text-anchor=\"middle\" x=\"0\" y=\"433\" transform=\"translate(290,0)\" style=\"font-family: 'Open Sans', verdana, arial, sans-serif; font-size: 12px; fill: rgb(42, 63, 95); fill-opacity: 1; white-space: pre; opacity: 1;\">hip_6</text></g><g class=\"xtick\"><text text-anchor=\"middle\" x=\"0\" y=\"433\" transform=\"translate(350,0)\" style=\"font-family: 'Open Sans', verdana, arial, sans-serif; font-size: 12px; fill: rgb(42, 63, 95); fill-opacity: 1; white-space: pre; opacity: 1;\">hip_2</text></g><g class=\"xtick\"><text text-anchor=\"middle\" x=\"0\" y=\"433\" transform=\"translate(410,0)\" style=\"font-family: 'Open Sans', verdana, arial, sans-serif; font-size: 12px; fill: rgb(42, 63, 95); fill-opacity: 1; white-space: pre; opacity: 1;\">hip_1</text></g><g class=\"xtick\"><text text-anchor=\"middle\" x=\"0\" y=\"433\" transform=\"translate(470,0)\" style=\"font-family: 'Open Sans', verdana, arial, sans-serif; font-size: 12px; fill: rgb(42, 63, 95); fill-opacity: 1; white-space: pre; opacity: 1;\">hip_5</text></g><g class=\"xtick\"><text text-anchor=\"middle\" x=\"0\" y=\"433\" transform=\"translate(530,0)\" style=\"font-family: 'Open Sans', verdana, arial, sans-serif; font-size: 12px; fill: rgb(42, 63, 95); fill-opacity: 1; white-space: pre; opacity: 1;\">hip_3</text></g><g class=\"xtick\"><text text-anchor=\"middle\" x=\"0\" y=\"433\" transform=\"translate(590,0)\" style=\"font-family: 'Open Sans', verdana, arial, sans-serif; font-size: 12px; fill: rgb(42, 63, 95); fill-opacity: 1; white-space: pre; opacity: 1;\">hip_4</text></g></g><g class=\"yaxislayer-above\"><g class=\"ytick\"><text text-anchor=\"end\" x=\"79\" y=\"4.199999999999999\" transform=\"translate(0,420)\" style=\"font-family: 'Open Sans', verdana, arial, sans-serif; font-size: 12px; fill: rgb(42, 63, 95); fill-opacity: 1; white-space: pre; opacity: 1;\">0</text></g><g class=\"ytick\"><text text-anchor=\"end\" x=\"79\" y=\"4.199999999999999\" style=\"font-family: 'Open Sans', verdana, arial, sans-serif; font-size: 12px; fill: rgb(42, 63, 95); fill-opacity: 1; white-space: pre; opacity: 1;\" transform=\"translate(0,382.47)\">2</text></g><g class=\"ytick\"><text text-anchor=\"end\" x=\"79\" y=\"4.199999999999999\" style=\"font-family: 'Open Sans', verdana, arial, sans-serif; font-size: 12px; fill: rgb(42, 63, 95); fill-opacity: 1; white-space: pre; opacity: 1;\" transform=\"translate(0,344.94)\">4</text></g><g class=\"ytick\"><text text-anchor=\"end\" x=\"79\" y=\"4.199999999999999\" style=\"font-family: 'Open Sans', verdana, arial, sans-serif; font-size: 12px; fill: rgb(42, 63, 95); fill-opacity: 1; white-space: pre; opacity: 1;\" transform=\"translate(0,307.40999999999997)\">6</text></g><g class=\"ytick\"><text text-anchor=\"end\" x=\"79\" y=\"4.199999999999999\" style=\"font-family: 'Open Sans', verdana, arial, sans-serif; font-size: 12px; fill: rgb(42, 63, 95); fill-opacity: 1; white-space: pre; opacity: 1;\" transform=\"translate(0,269.88)\">8</text></g><g class=\"ytick\"><text text-anchor=\"end\" x=\"79\" y=\"4.199999999999999\" style=\"font-family: 'Open Sans', verdana, arial, sans-serif; font-size: 12px; fill: rgb(42, 63, 95); fill-opacity: 1; white-space: pre; opacity: 1;\" transform=\"translate(0,232.35)\">10</text></g><g class=\"ytick\"><text text-anchor=\"end\" x=\"79\" y=\"4.199999999999999\" style=\"font-family: 'Open Sans', verdana, arial, sans-serif; font-size: 12px; fill: rgb(42, 63, 95); fill-opacity: 1; white-space: pre; opacity: 1;\" transform=\"translate(0,194.81)\">12</text></g><g class=\"ytick\"><text text-anchor=\"end\" x=\"79\" y=\"4.199999999999999\" style=\"font-family: 'Open Sans', verdana, arial, sans-serif; font-size: 12px; fill: rgb(42, 63, 95); fill-opacity: 1; white-space: pre; opacity: 1;\" transform=\"translate(0,157.28)\">14</text></g><g class=\"ytick\"><text text-anchor=\"end\" x=\"79\" y=\"4.199999999999999\" style=\"font-family: 'Open Sans', verdana, arial, sans-serif; font-size: 12px; fill: rgb(42, 63, 95); fill-opacity: 1; white-space: pre; opacity: 1;\" transform=\"translate(0,119.75)\">16</text></g></g><g class=\"overaxes-above\"/></g></g><g class=\"polarlayer\"/><g class=\"smithlayer\"/><g class=\"ternarylayer\"/><g class=\"geolayer\"/><g class=\"funnelarealayer\"/><g class=\"pielayer\"/><g class=\"iciclelayer\"/><g class=\"treemaplayer\"/><g class=\"sunburstlayer\"/><g class=\"glimages\"/><defs id=\"topdefs-e22296\"><g class=\"clips\"/></defs><g class=\"layer-above\"><g class=\"imagelayer\"/><g class=\"shapelayer\"/></g><g class=\"infolayer\"><g class=\"g-gtitle\"><text class=\"gtitle\" x=\"35\" y=\"50\" text-anchor=\"start\" dy=\"0em\" style=\"font-family: 'Open Sans', verdana, arial, sans-serif; font-size: 17px; fill: rgb(42, 63, 95); opacity: 1; white-space: pre;\">ICE Score Para Cada Hipótesis</text></g><g class=\"g-xtitle\"><text class=\"xtitle\" x=\"350\" y=\"460.3\" text-anchor=\"middle\" style=\"font-family: 'Open Sans', verdana, arial, sans-serif; font-size: 14px; fill: rgb(42, 63, 95); opacity: 1; white-space: pre;\">hips</text></g><g class=\"g-ytitle\"><text class=\"ytitle\" transform=\"rotate(-90,44.334375,260)\" x=\"44.334375\" y=\"260\" text-anchor=\"middle\" style=\"font-family: 'Open Sans', verdana, arial, sans-serif; font-size: 14px; fill: rgb(42, 63, 95); opacity: 1; white-space: pre;\">ice_score</text></g></g></svg>"
      ]
     },
     "metadata": {},
     "output_type": "display_data"
    }
   ],
   "source": [
    "fig1 = px.bar(hipos.sort_values(by=['ice_score'], ascending=False), x='hips', y='ice_score',\n",
    "                 #text_auto=True, \n",
    "                 title='ICE Score Para Cada Hipótesis',\n",
    "                 labels= {'index': 'Hipótesis'},\n",
    "                 text='ice_score'\n",
    "                 )\n",
    "fig1.show()\n",
    "\n"
   ]
  },
  {
   "cell_type": "markdown",
   "metadata": {},
   "source": [
    "**Gráfico 1.** Muestra el ICE Score para cada una de las hipótesis.\n",
    "> Podemos observar que la hipótesis 8 (Launch a promotion that gives users discounts on their birthdays) Es la que tiene el ICE Score más alto. Mientras que, la hipótesis 4 (Change the background color on the main page. This will increase user engagement) es la que tiene el ICE Score más bajo.\t"
   ]
  },
  {
   "cell_type": "markdown",
   "metadata": {},
   "source": [
    "#### Para el ice_score:\n",
    "- La hipótesis con el ice_score más alto es la hipótesis 8. Esto porque es la que tiene el impacto y la confianza más altos y un valor de esfuerzo intermedio, no tan alto.\n",
    "- La hipótesis con menor ice_score es la 4. Porque, aunque tenga un nivel de esfuerzo bajo, sus valores de impacto y confianza también son muy bajos "
   ]
  },
  {
   "cell_type": "markdown",
   "metadata": {},
   "source": [
    "### RICE"
   ]
  },
  {
   "cell_type": "code",
   "execution_count": 44,
   "metadata": {},
   "outputs": [
    {
     "data": {
      "text/html": [
       "<div>\n",
       "<style scoped>\n",
       "    .dataframe tbody tr th:only-of-type {\n",
       "        vertical-align: middle;\n",
       "    }\n",
       "\n",
       "    .dataframe tbody tr th {\n",
       "        vertical-align: top;\n",
       "    }\n",
       "\n",
       "    .dataframe thead th {\n",
       "        text-align: right;\n",
       "    }\n",
       "</style>\n",
       "<table border=\"1\" class=\"dataframe\">\n",
       "  <thead>\n",
       "    <tr style=\"text-align: right;\">\n",
       "      <th></th>\n",
       "      <th>hypothesis</th>\n",
       "      <th>reach</th>\n",
       "      <th>impact</th>\n",
       "      <th>confidence</th>\n",
       "      <th>effort</th>\n",
       "      <th>ice_score</th>\n",
       "      <th>hips</th>\n",
       "      <th>rice_score</th>\n",
       "    </tr>\n",
       "  </thead>\n",
       "  <tbody>\n",
       "    <tr>\n",
       "      <th>7</th>\n",
       "      <td>Add a subscription form to all the main pages. This will help you compile a mailing list</td>\n",
       "      <td>10</td>\n",
       "      <td>7</td>\n",
       "      <td>8</td>\n",
       "      <td>5</td>\n",
       "      <td>11.200000</td>\n",
       "      <td>hip_7</td>\n",
       "      <td>112.0</td>\n",
       "    </tr>\n",
       "    <tr>\n",
       "      <th>2</th>\n",
       "      <td>Add product recommendation blocks to the store's site. This will increase conversion and average purchase size</td>\n",
       "      <td>8</td>\n",
       "      <td>3</td>\n",
       "      <td>7</td>\n",
       "      <td>3</td>\n",
       "      <td>7.000000</td>\n",
       "      <td>hip_2</td>\n",
       "      <td>56.0</td>\n",
       "    </tr>\n",
       "    <tr>\n",
       "      <th>0</th>\n",
       "      <td>Add two new channels for attracting traffic. This will bring 30% more users</td>\n",
       "      <td>3</td>\n",
       "      <td>10</td>\n",
       "      <td>8</td>\n",
       "      <td>6</td>\n",
       "      <td>13.333333</td>\n",
       "      <td>hip_0</td>\n",
       "      <td>40.0</td>\n",
       "    </tr>\n",
       "    <tr>\n",
       "      <th>6</th>\n",
       "      <td>Show banners with current offers and sales on the main page. This will boost conversion</td>\n",
       "      <td>5</td>\n",
       "      <td>3</td>\n",
       "      <td>8</td>\n",
       "      <td>3</td>\n",
       "      <td>8.000000</td>\n",
       "      <td>hip_6</td>\n",
       "      <td>40.0</td>\n",
       "    </tr>\n",
       "    <tr>\n",
       "      <th>8</th>\n",
       "      <td>Launch a promotion that gives users discounts on their birthdays</td>\n",
       "      <td>1</td>\n",
       "      <td>9</td>\n",
       "      <td>9</td>\n",
       "      <td>5</td>\n",
       "      <td>16.200000</td>\n",
       "      <td>hip_8</td>\n",
       "      <td>16.2</td>\n",
       "    </tr>\n",
       "    <tr>\n",
       "      <th>3</th>\n",
       "      <td>Change the category structure. This will increase conversion since users will find the products they want more quickly</td>\n",
       "      <td>8</td>\n",
       "      <td>3</td>\n",
       "      <td>3</td>\n",
       "      <td>8</td>\n",
       "      <td>1.125000</td>\n",
       "      <td>hip_3</td>\n",
       "      <td>9.0</td>\n",
       "    </tr>\n",
       "    <tr>\n",
       "      <th>1</th>\n",
       "      <td>Launch your own delivery service. This will shorten delivery time</td>\n",
       "      <td>2</td>\n",
       "      <td>5</td>\n",
       "      <td>4</td>\n",
       "      <td>10</td>\n",
       "      <td>2.000000</td>\n",
       "      <td>hip_1</td>\n",
       "      <td>4.0</td>\n",
       "    </tr>\n",
       "    <tr>\n",
       "      <th>5</th>\n",
       "      <td>Add a customer review page. This will increase the number of orders</td>\n",
       "      <td>3</td>\n",
       "      <td>2</td>\n",
       "      <td>2</td>\n",
       "      <td>3</td>\n",
       "      <td>1.333333</td>\n",
       "      <td>hip_5</td>\n",
       "      <td>4.0</td>\n",
       "    </tr>\n",
       "    <tr>\n",
       "      <th>4</th>\n",
       "      <td>Change the background color on the main page. This will increase user engagement</td>\n",
       "      <td>3</td>\n",
       "      <td>1</td>\n",
       "      <td>1</td>\n",
       "      <td>1</td>\n",
       "      <td>1.000000</td>\n",
       "      <td>hip_4</td>\n",
       "      <td>3.0</td>\n",
       "    </tr>\n",
       "  </tbody>\n",
       "</table>\n",
       "</div>"
      ],
      "text/plain": [
       "                                                                                                               hypothesis  \\\n",
       "7                                Add a subscription form to all the main pages. This will help you compile a mailing list   \n",
       "2          Add product recommendation blocks to the store's site. This will increase conversion and average purchase size   \n",
       "0                                             Add two new channels for attracting traffic. This will bring 30% more users   \n",
       "6                                 Show banners with current offers and sales on the main page. This will boost conversion   \n",
       "8                                                        Launch a promotion that gives users discounts on their birthdays   \n",
       "3  Change the category structure. This will increase conversion since users will find the products they want more quickly   \n",
       "1                                                       Launch your own delivery service. This will shorten delivery time   \n",
       "5                                                     Add a customer review page. This will increase the number of orders   \n",
       "4                                        Change the background color on the main page. This will increase user engagement   \n",
       "\n",
       "   reach  impact  confidence  effort  ice_score   hips  rice_score  \n",
       "7     10       7           8       5  11.200000  hip_7       112.0  \n",
       "2      8       3           7       3   7.000000  hip_2        56.0  \n",
       "0      3      10           8       6  13.333333  hip_0        40.0  \n",
       "6      5       3           8       3   8.000000  hip_6        40.0  \n",
       "8      1       9           9       5  16.200000  hip_8        16.2  \n",
       "3      8       3           3       8   1.125000  hip_3         9.0  \n",
       "1      2       5           4      10   2.000000  hip_1         4.0  \n",
       "5      3       2           2       3   1.333333  hip_5         4.0  \n",
       "4      3       1           1       1   1.000000  hip_4         3.0  "
      ]
     },
     "execution_count": 44,
     "metadata": {},
     "output_type": "execute_result"
    }
   ],
   "source": [
    "hipos['rice_score'] = hipos['reach'] * hipos['impact'] * hipos['confidence'] / hipos['effort']\n",
    "hipos.sort_values(by='rice_score', ascending=False)"
   ]
  },
  {
   "cell_type": "code",
   "execution_count": 45,
   "metadata": {},
   "outputs": [
    {
     "data": {
      "image/svg+xml": [
       "<svg class=\"main-svg\" xmlns=\"http://www.w3.org/2000/svg\" xmlns:xlink=\"http://www.w3.org/1999/xlink\" width=\"700\" height=\"500\" style=\"\" viewBox=\"0 0 700 500\"><rect x=\"0\" y=\"0\" width=\"700\" height=\"500\" style=\"fill: rgb(255, 255, 255); fill-opacity: 1;\"/><defs id=\"defs-cba368\"><g class=\"clips\"><clipPath id=\"clipcba368xyplot\" class=\"plotclip\"><rect width=\"540\" height=\"320\"/></clipPath><clipPath class=\"axesclip\" id=\"clipcba368x\"><rect x=\"80\" y=\"0\" width=\"540\" height=\"500\"/></clipPath><clipPath class=\"axesclip\" id=\"clipcba368y\"><rect x=\"0\" y=\"100\" width=\"700\" height=\"320\"/></clipPath><clipPath class=\"axesclip\" id=\"clipcba368xy\"><rect x=\"80\" y=\"100\" width=\"540\" height=\"320\"/></clipPath></g><g class=\"gradients\"/><g class=\"patterns\"/></defs><g class=\"bglayer\"><rect class=\"bg\" x=\"80\" y=\"100\" width=\"540\" height=\"320\" style=\"fill: rgb(229, 236, 246); fill-opacity: 1; stroke-width: 0;\"/></g><g class=\"layer-below\"><g class=\"imagelayer\"/><g class=\"shapelayer\"/></g><g class=\"cartesianlayer\"><g class=\"subplot xy\"><g class=\"layer-subplot\"><g class=\"shapelayer\"/><g class=\"imagelayer\"/></g><g class=\"minor-gridlayer\"><g class=\"x\"/><g class=\"y\"/></g><g class=\"gridlayer\"><g class=\"x\"/><g class=\"y\"><path class=\"ygrid crisp\" transform=\"translate(0,365.71)\" d=\"M80,0h540\" style=\"stroke: rgb(255, 255, 255); stroke-opacity: 1; stroke-width: 1px;\"/><path class=\"ygrid crisp\" transform=\"translate(0,311.43)\" d=\"M80,0h540\" style=\"stroke: rgb(255, 255, 255); stroke-opacity: 1; stroke-width: 1px;\"/><path class=\"ygrid crisp\" transform=\"translate(0,257.14)\" d=\"M80,0h540\" style=\"stroke: rgb(255, 255, 255); stroke-opacity: 1; stroke-width: 1px;\"/><path class=\"ygrid crisp\" transform=\"translate(0,202.86)\" d=\"M80,0h540\" style=\"stroke: rgb(255, 255, 255); stroke-opacity: 1; stroke-width: 1px;\"/><path class=\"ygrid crisp\" transform=\"translate(0,148.57)\" d=\"M80,0h540\" style=\"stroke: rgb(255, 255, 255); stroke-opacity: 1; stroke-width: 1px;\"/></g></g><g class=\"zerolinelayer\"><path class=\"yzl zl crisp\" transform=\"translate(0,420)\" d=\"M80,0h540\" style=\"stroke: rgb(255, 255, 255); stroke-opacity: 1; stroke-width: 2px;\"/></g><g class=\"layer-between\"><g class=\"shapelayer\"/><g class=\"imagelayer\"/></g><path class=\"xlines-below\"/><path class=\"ylines-below\"/><g class=\"overlines-below\"/><g class=\"xaxislayer-below\"/><g class=\"yaxislayer-below\"/><g class=\"overaxes-below\"/><g class=\"plot\" transform=\"translate(80,100)\" clip-path=\"url(#clipcba368xyplot)\"><g class=\"barlayer mlayer\"><g class=\"trace bars\" style=\"opacity: 1;\"><g class=\"points\"><g class=\"point\"><path d=\"M6,320V16H54V320Z\" style=\"vector-effect: none; opacity: 1; stroke-width: 0.5px; fill: rgb(99, 110, 250); fill-opacity: 1; stroke: rgb(229, 236, 246); stroke-opacity: 1;\"/><text class=\"bartext bartext-inside\" text-anchor=\"middle\" data-notex=\"1\" x=\"0\" y=\"0\" style=\"font-family: 'Open Sans', verdana, arial, sans-serif; font-size: 12px; fill: rgb(255, 255, 255); fill-opacity: 1; white-space: pre;\" transform=\"translate(29.8125,31)\">112</text></g><g class=\"point\"><path d=\"M66,320V168H114V320Z\" style=\"vector-effect: none; opacity: 1; stroke-width: 0.5px; fill: rgb(99, 110, 250); fill-opacity: 1; stroke: rgb(229, 236, 246); stroke-opacity: 1;\"/><text class=\"bartext bartext-inside\" text-anchor=\"middle\" data-notex=\"1\" x=\"0\" y=\"0\" style=\"font-family: 'Open Sans', verdana, arial, sans-serif; font-size: 12px; fill: rgb(255, 255, 255); fill-opacity: 1; white-space: pre;\" transform=\"translate(89.8203125,183)\">56</text></g><g class=\"point\"><path d=\"M126,320V211.43H174V320Z\" style=\"vector-effect: none; opacity: 1; stroke-width: 0.5px; fill: rgb(99, 110, 250); fill-opacity: 1; stroke: rgb(229, 236, 246); stroke-opacity: 1;\"/><text class=\"bartext bartext-inside\" text-anchor=\"middle\" data-notex=\"1\" x=\"0\" y=\"0\" style=\"font-family: 'Open Sans', verdana, arial, sans-serif; font-size: 12px; fill: rgb(255, 255, 255); fill-opacity: 1; white-space: pre;\" transform=\"translate(149.8203125,226.43)\">40</text></g><g class=\"point\"><path d=\"M186,320V211.43H234V320Z\" style=\"vector-effect: none; opacity: 1; stroke-width: 0.5px; fill: rgb(99, 110, 250); fill-opacity: 1; stroke: rgb(229, 236, 246); stroke-opacity: 1;\"/><text class=\"bartext bartext-inside\" text-anchor=\"middle\" data-notex=\"1\" x=\"0\" y=\"0\" style=\"font-family: 'Open Sans', verdana, arial, sans-serif; font-size: 12px; fill: rgb(255, 255, 255); fill-opacity: 1; white-space: pre;\" transform=\"translate(209.8203125,226.43)\">40</text></g><g class=\"point\"><path d=\"M246,320V276.03H294V320Z\" style=\"vector-effect: none; opacity: 1; stroke-width: 0.5px; fill: rgb(99, 110, 250); fill-opacity: 1; stroke: rgb(229, 236, 246); stroke-opacity: 1;\"/><text class=\"bartext bartext-inside\" text-anchor=\"middle\" data-notex=\"1\" x=\"0\" y=\"0\" style=\"font-family: 'Open Sans', verdana, arial, sans-serif; font-size: 12px; fill: rgb(255, 255, 255); fill-opacity: 1; white-space: pre;\" transform=\"translate(269.8203125,291.03)\">16.2</text></g><g class=\"point\"><path d=\"M306,320V295.57H354V320Z\" style=\"vector-effect: none; opacity: 1; stroke-width: 0.5px; fill: rgb(99, 110, 250); fill-opacity: 1; stroke: rgb(229, 236, 246); stroke-opacity: 1;\"/><text class=\"bartext bartext-inside\" text-anchor=\"middle\" data-notex=\"1\" x=\"0\" y=\"0\" style=\"font-family: 'Open Sans', verdana, arial, sans-serif; font-size: 12px; fill: rgb(255, 255, 255); fill-opacity: 1; white-space: pre;\" transform=\"translate(329.8203125,310.57)\">9</text></g><g class=\"point\"><path d=\"M366,320V309.14H414V320Z\" style=\"vector-effect: none; opacity: 1; stroke-width: 0.5px; fill: rgb(99, 110, 250); fill-opacity: 1; stroke: rgb(229, 236, 246); stroke-opacity: 1;\"/><text class=\"bartext bartext-outside\" text-anchor=\"middle\" data-notex=\"1\" x=\"0\" y=\"0\" style=\"font-family: 'Open Sans', verdana, arial, sans-serif; font-size: 12px; fill: rgb(42, 63, 95); fill-opacity: 1; white-space: pre;\" transform=\"translate(389.8203125,303.14)\">4</text></g><g class=\"point\"><path d=\"M426,320V309.14H474V320Z\" style=\"vector-effect: none; opacity: 1; stroke-width: 0.5px; fill: rgb(99, 110, 250); fill-opacity: 1; stroke: rgb(229, 236, 246); stroke-opacity: 1;\"/><text class=\"bartext bartext-outside\" text-anchor=\"middle\" data-notex=\"1\" x=\"0\" y=\"0\" style=\"font-family: 'Open Sans', verdana, arial, sans-serif; font-size: 12px; fill: rgb(42, 63, 95); fill-opacity: 1; white-space: pre;\" transform=\"translate(449.8203125,303.14)\">4</text></g><g class=\"point\"><path d=\"M486,320V311.86H534V320Z\" style=\"vector-effect: none; opacity: 1; stroke-width: 0.5px; fill: rgb(99, 110, 250); fill-opacity: 1; stroke: rgb(229, 236, 246); stroke-opacity: 1;\"/><text class=\"bartext bartext-outside\" text-anchor=\"middle\" data-notex=\"1\" x=\"0\" y=\"0\" style=\"font-family: 'Open Sans', verdana, arial, sans-serif; font-size: 12px; fill: rgb(42, 63, 95); fill-opacity: 1; white-space: pre;\" transform=\"translate(510,305.86)\">3</text></g></g></g></g></g><g class=\"overplot\"/><path class=\"xlines-above crisp\" d=\"M0,0\" style=\"fill: none;\"/><path class=\"ylines-above crisp\" d=\"M0,0\" style=\"fill: none;\"/><g class=\"overlines-above\"/><g class=\"xaxislayer-above\"><g class=\"xtick\"><text text-anchor=\"middle\" x=\"0\" y=\"433\" transform=\"translate(110,0)\" style=\"font-family: 'Open Sans', verdana, arial, sans-serif; font-size: 12px; fill: rgb(42, 63, 95); fill-opacity: 1; white-space: pre; opacity: 1;\">hip_7</text></g><g class=\"xtick\"><text text-anchor=\"middle\" x=\"0\" y=\"433\" transform=\"translate(170,0)\" style=\"font-family: 'Open Sans', verdana, arial, sans-serif; font-size: 12px; fill: rgb(42, 63, 95); fill-opacity: 1; white-space: pre; opacity: 1;\">hip_2</text></g><g class=\"xtick\"><text text-anchor=\"middle\" x=\"0\" y=\"433\" transform=\"translate(230,0)\" style=\"font-family: 'Open Sans', verdana, arial, sans-serif; font-size: 12px; fill: rgb(42, 63, 95); fill-opacity: 1; white-space: pre; opacity: 1;\">hip_0</text></g><g class=\"xtick\"><text text-anchor=\"middle\" x=\"0\" y=\"433\" transform=\"translate(290,0)\" style=\"font-family: 'Open Sans', verdana, arial, sans-serif; font-size: 12px; fill: rgb(42, 63, 95); fill-opacity: 1; white-space: pre; opacity: 1;\">hip_6</text></g><g class=\"xtick\"><text text-anchor=\"middle\" x=\"0\" y=\"433\" transform=\"translate(350,0)\" style=\"font-family: 'Open Sans', verdana, arial, sans-serif; font-size: 12px; fill: rgb(42, 63, 95); fill-opacity: 1; white-space: pre; opacity: 1;\">hip_8</text></g><g class=\"xtick\"><text text-anchor=\"middle\" x=\"0\" y=\"433\" transform=\"translate(410,0)\" style=\"font-family: 'Open Sans', verdana, arial, sans-serif; font-size: 12px; fill: rgb(42, 63, 95); fill-opacity: 1; white-space: pre; opacity: 1;\">hip_3</text></g><g class=\"xtick\"><text text-anchor=\"middle\" x=\"0\" y=\"433\" transform=\"translate(470,0)\" style=\"font-family: 'Open Sans', verdana, arial, sans-serif; font-size: 12px; fill: rgb(42, 63, 95); fill-opacity: 1; white-space: pre; opacity: 1;\">hip_1</text></g><g class=\"xtick\"><text text-anchor=\"middle\" x=\"0\" y=\"433\" transform=\"translate(530,0)\" style=\"font-family: 'Open Sans', verdana, arial, sans-serif; font-size: 12px; fill: rgb(42, 63, 95); fill-opacity: 1; white-space: pre; opacity: 1;\">hip_5</text></g><g class=\"xtick\"><text text-anchor=\"middle\" x=\"0\" y=\"433\" transform=\"translate(590,0)\" style=\"font-family: 'Open Sans', verdana, arial, sans-serif; font-size: 12px; fill: rgb(42, 63, 95); fill-opacity: 1; white-space: pre; opacity: 1;\">hip_4</text></g></g><g class=\"yaxislayer-above\"><g class=\"ytick\"><text text-anchor=\"end\" x=\"79\" y=\"4.199999999999999\" transform=\"translate(0,420)\" style=\"font-family: 'Open Sans', verdana, arial, sans-serif; font-size: 12px; fill: rgb(42, 63, 95); fill-opacity: 1; white-space: pre; opacity: 1;\">0</text></g><g class=\"ytick\"><text text-anchor=\"end\" x=\"79\" y=\"4.199999999999999\" style=\"font-family: 'Open Sans', verdana, arial, sans-serif; font-size: 12px; fill: rgb(42, 63, 95); fill-opacity: 1; white-space: pre; opacity: 1;\" transform=\"translate(0,365.71)\">20</text></g><g class=\"ytick\"><text text-anchor=\"end\" x=\"79\" y=\"4.199999999999999\" style=\"font-family: 'Open Sans', verdana, arial, sans-serif; font-size: 12px; fill: rgb(42, 63, 95); fill-opacity: 1; white-space: pre; opacity: 1;\" transform=\"translate(0,311.43)\">40</text></g><g class=\"ytick\"><text text-anchor=\"end\" x=\"79\" y=\"4.199999999999999\" style=\"font-family: 'Open Sans', verdana, arial, sans-serif; font-size: 12px; fill: rgb(42, 63, 95); fill-opacity: 1; white-space: pre; opacity: 1;\" transform=\"translate(0,257.14)\">60</text></g><g class=\"ytick\"><text text-anchor=\"end\" x=\"79\" y=\"4.199999999999999\" style=\"font-family: 'Open Sans', verdana, arial, sans-serif; font-size: 12px; fill: rgb(42, 63, 95); fill-opacity: 1; white-space: pre; opacity: 1;\" transform=\"translate(0,202.86)\">80</text></g><g class=\"ytick\"><text text-anchor=\"end\" x=\"79\" y=\"4.199999999999999\" style=\"font-family: 'Open Sans', verdana, arial, sans-serif; font-size: 12px; fill: rgb(42, 63, 95); fill-opacity: 1; white-space: pre; opacity: 1;\" transform=\"translate(0,148.57)\">100</text></g></g><g class=\"overaxes-above\"/></g></g><g class=\"polarlayer\"/><g class=\"smithlayer\"/><g class=\"ternarylayer\"/><g class=\"geolayer\"/><g class=\"funnelarealayer\"/><g class=\"pielayer\"/><g class=\"iciclelayer\"/><g class=\"treemaplayer\"/><g class=\"sunburstlayer\"/><g class=\"glimages\"/><defs id=\"topdefs-cba368\"><g class=\"clips\"/></defs><g class=\"layer-above\"><g class=\"imagelayer\"/><g class=\"shapelayer\"/></g><g class=\"infolayer\"><g class=\"g-gtitle\"><text class=\"gtitle\" x=\"35\" y=\"50\" text-anchor=\"start\" dy=\"0em\" style=\"font-family: 'Open Sans', verdana, arial, sans-serif; font-size: 17px; fill: rgb(42, 63, 95); opacity: 1; white-space: pre;\">RICE Score Para Cada Hipótesis</text></g><g class=\"g-xtitle\"><text class=\"xtitle\" x=\"350\" y=\"460.3\" text-anchor=\"middle\" style=\"font-family: 'Open Sans', verdana, arial, sans-serif; font-size: 14px; fill: rgb(42, 63, 95); opacity: 1; white-space: pre;\">hips</text></g><g class=\"g-ytitle\"><text class=\"ytitle\" transform=\"rotate(-90,36.709375,260)\" x=\"36.709375\" y=\"260\" text-anchor=\"middle\" style=\"font-family: 'Open Sans', verdana, arial, sans-serif; font-size: 14px; fill: rgb(42, 63, 95); opacity: 1; white-space: pre;\">rice_score</text></g></g></svg>"
      ]
     },
     "metadata": {},
     "output_type": "display_data"
    }
   ],
   "source": [
    "fig2 = px.bar(hipos.sort_values(by=['rice_score'], ascending=False), x='hips', y='rice_score',\n",
    "                 #text_auto=True, \n",
    "                 title='RICE Score Para Cada Hipótesis',\n",
    "                 labels= {'index': 'Hipótesis'},\n",
    "                 text='rice_score'\n",
    "                 )\n",
    "fig2.show()"
   ]
  },
  {
   "cell_type": "markdown",
   "metadata": {},
   "source": [
    "**Gráfico 2.** Muestra el RICE Score para cada una de las hipótesis.\n",
    "> Podemos observar que la hipótesis 7 (Add a subscription form to all the main pages. This will help you compile a mailing list\t) Es la que tiene el RICE Score más alto. Mientras que, la hipótesis 4 (Change the background color on the main page. This will increase user engagement) es la que tiene el RICE Score más bajo.\t"
   ]
  },
  {
   "cell_type": "markdown",
   "metadata": {},
   "source": [
    "#### Para el rice_score:\n",
    "Al introducir el alcance (reach):\n",
    "\n",
    "- La hipótesis con el rice_score más alto es la hipótesis 7. Esto porque es la que tiene valores de impacto y confianza relativamente altos, con un valor de esfuerzo intermedio, no tan alto y adicionalmente su nivel de alcance es muy alto.\n",
    "- La hipótesis con menor rice_score es también la 4. Porque, aunque tenga un nivel de esfuerzo bajo, sus valores de impacto y confianza también son muy bajos. Adicionalmente, su nivel de alcance es bajo."
   ]
  },
  {
   "cell_type": "markdown",
   "metadata": {},
   "source": [
    "## Cambios en la priorización de la hipótesis"
   ]
  },
  {
   "cell_type": "markdown",
   "metadata": {},
   "source": [
    "- Cuando se utilizaba **ICE** se prorizaba la hipótesis 8 (Launch a promotion that gives users discounts on their birthdays)  \n",
    "- Al utilizar **RICE** cambia la priorización de la hipótesis, priorizando la hipótesis 7 (Add a subscription form to all the main pages. This will help you compile a mailing list)"
   ]
  },
  {
   "cell_type": "code",
   "execution_count": 46,
   "metadata": {},
   "outputs": [
    {
     "data": {
      "image/svg+xml": [
       "<svg class=\"main-svg\" xmlns=\"http://www.w3.org/2000/svg\" xmlns:xlink=\"http://www.w3.org/1999/xlink\" width=\"700\" height=\"500\" style=\"\" viewBox=\"0 0 700 500\"><rect x=\"0\" y=\"0\" width=\"700\" height=\"500\" style=\"fill: rgb(255, 255, 255); fill-opacity: 1;\"/><defs id=\"defs-5400bd\"><g class=\"clips\"><clipPath id=\"clip5400bdxyplot\" class=\"plotclip\"><rect width=\"540\" height=\"360\"/></clipPath><clipPath class=\"axesclip\" id=\"clip5400bdx\"><rect x=\"80\" y=\"0\" width=\"540\" height=\"500\"/></clipPath><clipPath class=\"axesclip\" id=\"clip5400bdy\"><rect x=\"0\" y=\"60\" width=\"700\" height=\"360\"/></clipPath><clipPath class=\"axesclip\" id=\"clip5400bdxy\"><rect x=\"80\" y=\"60\" width=\"540\" height=\"360\"/></clipPath></g><g class=\"gradients\"/><g class=\"patterns\"/></defs><g class=\"bglayer\"><rect class=\"bg\" x=\"80\" y=\"60\" width=\"540\" height=\"360\" style=\"fill: rgb(229, 236, 246); fill-opacity: 1; stroke-width: 0;\"/></g><g class=\"layer-below\"><g class=\"imagelayer\"/><g class=\"shapelayer\"/></g><g class=\"cartesianlayer\"><g class=\"subplot xy\"><g class=\"layer-subplot\"><g class=\"shapelayer\"/><g class=\"imagelayer\"/></g><g class=\"minor-gridlayer\"><g class=\"x\"/><g class=\"y\"/></g><g class=\"gridlayer\"><g class=\"x\"><path class=\"xgrid crisp\" transform=\"translate(236.67,0)\" d=\"M0,60v360\" style=\"stroke: rgb(255, 255, 255); stroke-opacity: 1; stroke-width: 1px;\"/><path class=\"xgrid crisp\" transform=\"translate(394.07,0)\" d=\"M0,60v360\" style=\"stroke: rgb(255, 255, 255); stroke-opacity: 1; stroke-width: 1px;\"/><path class=\"xgrid crisp\" transform=\"translate(551.47,0)\" d=\"M0,60v360\" style=\"stroke: rgb(255, 255, 255); stroke-opacity: 1; stroke-width: 1px;\"/></g><g class=\"y\"><path class=\"ygrid crisp\" transform=\"translate(0,348.89)\" d=\"M80,0h540\" style=\"stroke: rgb(255, 255, 255); stroke-opacity: 1; stroke-width: 1px;\"/><path class=\"ygrid crisp\" transform=\"translate(0,290.81)\" d=\"M80,0h540\" style=\"stroke: rgb(255, 255, 255); stroke-opacity: 1; stroke-width: 1px;\"/><path class=\"ygrid crisp\" transform=\"translate(0,232.74)\" d=\"M80,0h540\" style=\"stroke: rgb(255, 255, 255); stroke-opacity: 1; stroke-width: 1px;\"/><path class=\"ygrid crisp\" transform=\"translate(0,174.67000000000002)\" d=\"M80,0h540\" style=\"stroke: rgb(255, 255, 255); stroke-opacity: 1; stroke-width: 1px;\"/><path class=\"ygrid crisp\" transform=\"translate(0,116.59)\" d=\"M80,0h540\" style=\"stroke: rgb(255, 255, 255); stroke-opacity: 1; stroke-width: 1px;\"/></g></g><g class=\"zerolinelayer\"><path class=\"yzl zl crisp\" transform=\"translate(0,406.96)\" d=\"M80,0h540\" style=\"stroke: rgb(255, 255, 255); stroke-opacity: 1; stroke-width: 2px;\"/></g><g class=\"layer-between\"><g class=\"shapelayer\"/><g class=\"imagelayer\"/></g><path class=\"xlines-below\"/><path class=\"ylines-below\"/><g class=\"overlines-below\"/><g class=\"xaxislayer-below\"/><g class=\"yaxislayer-below\"/><g class=\"overaxes-below\"/><g class=\"plot\" transform=\"translate(80,60)\" clip-path=\"url(#clip5400bdxyplot)\"><g class=\"scatterlayer mlayer\"><g class=\"trace scatter trace025d91\" style=\"stroke-miterlimit: 2; opacity: 1;\"><g class=\"fills\"/><g class=\"errorbars\"/><g class=\"lines\"/><g class=\"points\"><path class=\"point plotly-customdata\" transform=\"translate(419.01,230.81)\" d=\"M3,0A3,3 0 1,1 0,-3A3,3 0 0,1 3,0Z\" style=\"opacity: 1; stroke-width: 0px; fill: rgb(99, 110, 250); fill-opacity: 1;\"/><path class=\"point plotly-customdata\" transform=\"translate(62.23,335.35)\" d=\"M3,0A3,3 0 1,1 0,-3A3,3 0 0,1 3,0Z\" style=\"opacity: 1; stroke-width: 0px; fill: rgb(99, 110, 250); fill-opacity: 1;\"/><path class=\"point plotly-customdata\" transform=\"translate(219.63,184.36)\" d=\"M3,0A3,3 0 1,1 0,-3A3,3 0 0,1 3,0Z\" style=\"opacity: 1; stroke-width: 0px; fill: rgb(99, 110, 250); fill-opacity: 1;\"/><path class=\"point plotly-customdata\" transform=\"translate(34.69,320.83)\" d=\"M3,0A3,3 0 1,1 0,-3A3,3 0 0,1 3,0Z\" style=\"opacity: 1; stroke-width: 0px; fill: rgb(99, 110, 250); fill-opacity: 1;\"/><path class=\"point plotly-customdata\" transform=\"translate(30.75,338.25)\" d=\"M3,0A3,3 0 1,1 0,-3A3,3 0 0,1 3,0Z\" style=\"opacity: 1; stroke-width: 0px; fill: rgb(99, 110, 250); fill-opacity: 1;\"/><path class=\"point plotly-customdata\" transform=\"translate(41.24,335.35)\" d=\"M3,0A3,3 0 1,1 0,-3A3,3 0 0,1 3,0Z\" style=\"opacity: 1; stroke-width: 0px; fill: rgb(99, 110, 250); fill-opacity: 1;\"/><path class=\"point plotly-customdata\" transform=\"translate(251.11,230.81)\" d=\"M3,0A3,3 0 1,1 0,-3A3,3 0 0,1 3,0Z\" style=\"opacity: 1; stroke-width: 0px; fill: rgb(99, 110, 250); fill-opacity: 1;\"/><path class=\"point plotly-customdata\" transform=\"translate(351.85,21.75)\" d=\"M3,0A3,3 0 1,1 0,-3A3,3 0 0,1 3,0Z\" style=\"opacity: 1; stroke-width: 0px; fill: rgb(99, 110, 250); fill-opacity: 1;\"/><path class=\"point plotly-customdata\" transform=\"translate(509.25,299.92)\" d=\"M3,0A3,3 0 1,1 0,-3A3,3 0 0,1 3,0Z\" style=\"opacity: 1; stroke-width: 0px; fill: rgb(99, 110, 250); fill-opacity: 1;\"/></g><g class=\"text\"><g class=\"textpoint\" transform=\"translate(4.75,13.75)\"><text x=\"419.01\" y=\"230.81\" text-anchor=\"start\" style=\"font-family: 'Open Sans', verdana, arial, sans-serif; font-size: 12px; fill: rgb(42, 63, 95); fill-opacity: 1; white-space: pre;\">hip_0</text></g><g class=\"textpoint\" transform=\"translate(4.75,13.75)\"><text x=\"62.23\" y=\"335.35\" text-anchor=\"start\" style=\"font-family: 'Open Sans', verdana, arial, sans-serif; font-size: 12px; fill: rgb(42, 63, 95); fill-opacity: 1; white-space: pre;\">hip_1</text></g><g class=\"textpoint\" transform=\"translate(4.75,13.75)\"><text x=\"219.63\" y=\"184.36\" text-anchor=\"start\" style=\"font-family: 'Open Sans', verdana, arial, sans-serif; font-size: 12px; fill: rgb(42, 63, 95); fill-opacity: 1; white-space: pre;\">hip_2</text></g><g class=\"textpoint\" transform=\"translate(4.75,13.75)\"><text x=\"34.69\" y=\"320.83\" text-anchor=\"start\" style=\"font-family: 'Open Sans', verdana, arial, sans-serif; font-size: 12px; fill: rgb(42, 63, 95); fill-opacity: 1; white-space: pre;\">hip_3</text></g><g class=\"textpoint\" transform=\"translate(4.75,13.75)\"><text x=\"30.75\" y=\"338.25\" text-anchor=\"start\" style=\"font-family: 'Open Sans', verdana, arial, sans-serif; font-size: 12px; fill: rgb(42, 63, 95); fill-opacity: 1; white-space: pre;\">hip_4</text></g><g class=\"textpoint\" transform=\"translate(4.75,13.75)\"><text x=\"41.24\" y=\"335.35\" text-anchor=\"start\" style=\"font-family: 'Open Sans', verdana, arial, sans-serif; font-size: 12px; fill: rgb(42, 63, 95); fill-opacity: 1; white-space: pre;\">hip_5</text></g><g class=\"textpoint\" transform=\"translate(4.75,13.75)\"><text x=\"251.11\" y=\"230.81\" text-anchor=\"start\" style=\"font-family: 'Open Sans', verdana, arial, sans-serif; font-size: 12px; fill: rgb(42, 63, 95); fill-opacity: 1; white-space: pre;\">hip_6</text></g><g class=\"textpoint\" transform=\"translate(4.75,13.75)\"><text x=\"351.85\" y=\"21.75\" text-anchor=\"start\" style=\"font-family: 'Open Sans', verdana, arial, sans-serif; font-size: 12px; fill: rgb(42, 63, 95); fill-opacity: 1; white-space: pre;\">hip_7</text></g><g class=\"textpoint\" transform=\"translate(4.75,13.75)\"><text x=\"509.25\" y=\"299.92\" text-anchor=\"start\" style=\"font-family: 'Open Sans', verdana, arial, sans-serif; font-size: 12px; fill: rgb(42, 63, 95); fill-opacity: 1; white-space: pre;\">hip_8</text></g></g></g></g></g><g class=\"overplot\"/><path class=\"xlines-above crisp\" d=\"M0,0\" style=\"fill: none;\"/><path class=\"ylines-above crisp\" d=\"M0,0\" style=\"fill: none;\"/><g class=\"overlines-above\"/><g class=\"xaxislayer-above\"><g class=\"xtick\"><text text-anchor=\"middle\" x=\"0\" y=\"433\" transform=\"translate(236.67,0)\" style=\"font-family: 'Open Sans', verdana, arial, sans-serif; font-size: 12px; fill: rgb(42, 63, 95); fill-opacity: 1; white-space: pre; opacity: 1;\">5</text></g><g class=\"xtick\"><text text-anchor=\"middle\" x=\"0\" y=\"433\" style=\"font-family: 'Open Sans', verdana, arial, sans-serif; font-size: 12px; fill: rgb(42, 63, 95); fill-opacity: 1; white-space: pre; opacity: 1;\" transform=\"translate(394.07,0)\">10</text></g><g class=\"xtick\"><text text-anchor=\"middle\" x=\"0\" y=\"433\" style=\"font-family: 'Open Sans', verdana, arial, sans-serif; font-size: 12px; fill: rgb(42, 63, 95); fill-opacity: 1; white-space: pre; opacity: 1;\" transform=\"translate(551.47,0)\">15</text></g></g><g class=\"yaxislayer-above\"><g class=\"ytick\"><text text-anchor=\"end\" x=\"79\" y=\"4.199999999999999\" transform=\"translate(0,406.96)\" style=\"font-family: 'Open Sans', verdana, arial, sans-serif; font-size: 12px; fill: rgb(42, 63, 95); fill-opacity: 1; white-space: pre; opacity: 1;\">0</text></g><g class=\"ytick\"><text text-anchor=\"end\" x=\"79\" y=\"4.199999999999999\" style=\"font-family: 'Open Sans', verdana, arial, sans-serif; font-size: 12px; fill: rgb(42, 63, 95); fill-opacity: 1; white-space: pre; opacity: 1;\" transform=\"translate(0,348.89)\">20</text></g><g class=\"ytick\"><text text-anchor=\"end\" x=\"79\" y=\"4.199999999999999\" style=\"font-family: 'Open Sans', verdana, arial, sans-serif; font-size: 12px; fill: rgb(42, 63, 95); fill-opacity: 1; white-space: pre; opacity: 1;\" transform=\"translate(0,290.81)\">40</text></g><g class=\"ytick\"><text text-anchor=\"end\" x=\"79\" y=\"4.199999999999999\" style=\"font-family: 'Open Sans', verdana, arial, sans-serif; font-size: 12px; fill: rgb(42, 63, 95); fill-opacity: 1; white-space: pre; opacity: 1;\" transform=\"translate(0,232.74)\">60</text></g><g class=\"ytick\"><text text-anchor=\"end\" x=\"79\" y=\"4.199999999999999\" style=\"font-family: 'Open Sans', verdana, arial, sans-serif; font-size: 12px; fill: rgb(42, 63, 95); fill-opacity: 1; white-space: pre; opacity: 1;\" transform=\"translate(0,174.67000000000002)\">80</text></g><g class=\"ytick\"><text text-anchor=\"end\" x=\"79\" y=\"4.199999999999999\" style=\"font-family: 'Open Sans', verdana, arial, sans-serif; font-size: 12px; fill: rgb(42, 63, 95); fill-opacity: 1; white-space: pre; opacity: 1;\" transform=\"translate(0,116.59)\">100</text></g></g><g class=\"overaxes-above\"/></g></g><g class=\"polarlayer\"/><g class=\"smithlayer\"/><g class=\"ternarylayer\"/><g class=\"geolayer\"/><g class=\"funnelarealayer\"/><g class=\"pielayer\"/><g class=\"iciclelayer\"/><g class=\"treemaplayer\"/><g class=\"sunburstlayer\"/><g class=\"glimages\"/><defs id=\"topdefs-5400bd\"><g class=\"clips\"/></defs><g class=\"layer-above\"><g class=\"imagelayer\"/><g class=\"shapelayer\"/></g><g class=\"infolayer\"><g class=\"g-gtitle\"/><g class=\"g-xtitle\"><text class=\"xtitle\" x=\"350\" y=\"460.3\" text-anchor=\"middle\" style=\"font-family: 'Open Sans', verdana, arial, sans-serif; font-size: 14px; fill: rgb(42, 63, 95); opacity: 1; white-space: pre;\">ice_score</text></g><g class=\"g-ytitle\"><text class=\"ytitle\" transform=\"rotate(-90,36.709375,240)\" x=\"36.709375\" y=\"240\" text-anchor=\"middle\" style=\"font-family: 'Open Sans', verdana, arial, sans-serif; font-size: 14px; fill: rgb(42, 63, 95); opacity: 1; white-space: pre;\">rice_score</text></g></g></svg>"
      ]
     },
     "metadata": {},
     "output_type": "display_data"
    }
   ],
   "source": [
    "fig3=px.scatter(hipos, x='ice_score', y='rice_score', hover_data=['hypothesis'], text='hips')\n",
    "fig3.update_traces(textposition='bottom right')\n",
    "fig3.show()"
   ]
  },
  {
   "cell_type": "markdown",
   "metadata": {},
   "source": [
    "**Gráfico 3.** Muestra la combinación del ICE y RICE Score para cada una de las hipótesis.\n",
    "> Podemos observar que la hipótesis 7 (Add a subscription form to all the main pages. This will help you compile a mailing list\t) Es la que tiene, en conjunto, el ICE y RICE Score más alto. Mientras que, las hipótesis 1, 3, 4 y 5 son las que tienen la combinación de ICE y RICE Score más bajo.\t"
   ]
  },
  {
   "cell_type": "markdown",
   "metadata": {},
   "source": [
    "## Parte 2. Análisis de test A/B\n",
    "\n",
    "- Analiza el test A/B:"
   ]
  },
  {
   "cell_type": "markdown",
   "metadata": {},
   "source": [
    "### 1. Representa gráficamente el ingreso acumulado por grupo. Haz conclusiones y conjeturas."
   ]
  },
  {
   "cell_type": "code",
   "execution_count": 47,
   "metadata": {},
   "outputs": [],
   "source": [
    "#Crear una matriz con valores únicos de parejas fecha-grupo:\n",
    "dates_groups = orders[['date', 'group']].drop_duplicates() ## OJO AQUI con el drop_duplicates, es necesario??? ya se han limpiado los datos \n",
    "#dates_groups"
   ]
  },
  {
   "cell_type": "markdown",
   "metadata": {},
   "source": [
    "Vamos a recopilar en varios pasos los datos diarios acumulados agregados sobre pedidos.\n",
    ">- En la primera parte del código, obtendremos las filas de la tabla orders donde la fecha es menor o igual que la fecha del elemento datesGroups y el grupo de prueba es el mismo que en datesGroups.\n",
    ">- En la segunda parte agregaremos los valores. Encontraremos la fecha máxima. También encontraremos el valor máximo para el grupo para tener la columna 'group' en la salida final. Encontramos el número de pedidos únicos e identificadores de usuarios y calculamos la suma de los tamaños de compra promedio:\n"
   ]
  },
  {
   "cell_type": "code",
   "execution_count": 48,
   "metadata": {},
   "outputs": [
    {
     "data": {
      "text/html": [
       "<div>\n",
       "<style scoped>\n",
       "    .dataframe tbody tr th:only-of-type {\n",
       "        vertical-align: middle;\n",
       "    }\n",
       "\n",
       "    .dataframe tbody tr th {\n",
       "        vertical-align: top;\n",
       "    }\n",
       "\n",
       "    .dataframe thead th {\n",
       "        text-align: right;\n",
       "    }\n",
       "</style>\n",
       "<table border=\"1\" class=\"dataframe\">\n",
       "  <thead>\n",
       "    <tr style=\"text-align: right;\">\n",
       "      <th></th>\n",
       "      <th>date</th>\n",
       "      <th>group</th>\n",
       "      <th>orders</th>\n",
       "      <th>buyers</th>\n",
       "      <th>revenue</th>\n",
       "      <th>visitors</th>\n",
       "    </tr>\n",
       "  </thead>\n",
       "  <tbody>\n",
       "    <tr>\n",
       "      <th>0</th>\n",
       "      <td>2019-08-01</td>\n",
       "      <td>A</td>\n",
       "      <td>23</td>\n",
       "      <td>19</td>\n",
       "      <td>2266.6</td>\n",
       "      <td>719</td>\n",
       "    </tr>\n",
       "    <tr>\n",
       "      <th>1</th>\n",
       "      <td>2019-08-01</td>\n",
       "      <td>B</td>\n",
       "      <td>17</td>\n",
       "      <td>17</td>\n",
       "      <td>967.2</td>\n",
       "      <td>713</td>\n",
       "    </tr>\n",
       "    <tr>\n",
       "      <th>2</th>\n",
       "      <td>2019-08-02</td>\n",
       "      <td>A</td>\n",
       "      <td>42</td>\n",
       "      <td>36</td>\n",
       "      <td>3734.9</td>\n",
       "      <td>1338</td>\n",
       "    </tr>\n",
       "    <tr>\n",
       "      <th>3</th>\n",
       "      <td>2019-08-02</td>\n",
       "      <td>B</td>\n",
       "      <td>40</td>\n",
       "      <td>39</td>\n",
       "      <td>3535.3</td>\n",
       "      <td>1294</td>\n",
       "    </tr>\n",
       "    <tr>\n",
       "      <th>4</th>\n",
       "      <td>2019-08-03</td>\n",
       "      <td>A</td>\n",
       "      <td>66</td>\n",
       "      <td>60</td>\n",
       "      <td>5550.1</td>\n",
       "      <td>1845</td>\n",
       "    </tr>\n",
       "    <tr>\n",
       "      <th>...</th>\n",
       "      <td>...</td>\n",
       "      <td>...</td>\n",
       "      <td>...</td>\n",
       "      <td>...</td>\n",
       "      <td>...</td>\n",
       "      <td>...</td>\n",
       "    </tr>\n",
       "    <tr>\n",
       "      <th>57</th>\n",
       "      <td>2019-08-29</td>\n",
       "      <td>B</td>\n",
       "      <td>510</td>\n",
       "      <td>490</td>\n",
       "      <td>74576.7</td>\n",
       "      <td>17708</td>\n",
       "    </tr>\n",
       "    <tr>\n",
       "      <th>58</th>\n",
       "      <td>2019-08-30</td>\n",
       "      <td>A</td>\n",
       "      <td>460</td>\n",
       "      <td>437</td>\n",
       "      <td>52363.7</td>\n",
       "      <td>18037</td>\n",
       "    </tr>\n",
       "    <tr>\n",
       "      <th>59</th>\n",
       "      <td>2019-08-30</td>\n",
       "      <td>B</td>\n",
       "      <td>531</td>\n",
       "      <td>511</td>\n",
       "      <td>77863.5</td>\n",
       "      <td>18198</td>\n",
       "    </tr>\n",
       "    <tr>\n",
       "      <th>60</th>\n",
       "      <td>2019-08-31</td>\n",
       "      <td>A</td>\n",
       "      <td>468</td>\n",
       "      <td>445</td>\n",
       "      <td>53212.0</td>\n",
       "      <td>18736</td>\n",
       "    </tr>\n",
       "    <tr>\n",
       "      <th>61</th>\n",
       "      <td>2019-08-31</td>\n",
       "      <td>B</td>\n",
       "      <td>548</td>\n",
       "      <td>528</td>\n",
       "      <td>79651.2</td>\n",
       "      <td>18916</td>\n",
       "    </tr>\n",
       "  </tbody>\n",
       "</table>\n",
       "<p>62 rows × 6 columns</p>\n",
       "</div>"
      ],
      "text/plain": [
       "          date group  orders  buyers  revenue  visitors\n",
       "0   2019-08-01     A      23      19   2266.6       719\n",
       "1   2019-08-01     B      17      17    967.2       713\n",
       "2   2019-08-02     A      42      36   3734.9      1338\n",
       "3   2019-08-02     B      40      39   3535.3      1294\n",
       "4   2019-08-03     A      66      60   5550.1      1845\n",
       "..         ...   ...     ...     ...      ...       ...\n",
       "57  2019-08-29     B     510     490  74576.7     17708\n",
       "58  2019-08-30     A     460     437  52363.7     18037\n",
       "59  2019-08-30     B     531     511  77863.5     18198\n",
       "60  2019-08-31     A     468     445  53212.0     18736\n",
       "61  2019-08-31     B     548     528  79651.2     18916\n",
       "\n",
       "[62 rows x 6 columns]"
      ]
     },
     "execution_count": 48,
     "metadata": {},
     "output_type": "execute_result"
    }
   ],
   "source": [
    "#Obtén los datos diarios acumulados agregados sobre los pedidos:\n",
    "orders_aggregated = dates_groups.apply(\n",
    "    lambda x: orders[\n",
    "        np.logical_and(\n",
    "            orders['date'] <= x['date'], orders['group'] == x['group']\n",
    "        )\n",
    "    ].agg(\n",
    "        {\n",
    "            'date': 'max',\n",
    "            'group': 'max',\n",
    "            'transaction_id': pd.Series.nunique,\n",
    "            'visitor_id': pd.Series.nunique,\n",
    "            'revenue': 'sum',\n",
    "        }\n",
    "    ),\n",
    "    axis=1,\n",
    ").sort_values(by=['date', 'group'])\n",
    "\n",
    "#Obtén los datos diarios acumulados agregados sobre las visitas:\n",
    "visits_aggregated = dates_groups.apply(\n",
    "    lambda x: visits[\n",
    "        np.logical_and(\n",
    "            visits['date'] <= x['date'], visits['group'] == x['group']\n",
    "        )\n",
    "    ].agg(\n",
    "        {\n",
    "            'date': 'max',\n",
    "            'group': 'max',\n",
    "            'visits': 'sum',\n",
    "        }\n",
    "    ),\n",
    "    axis=1,\n",
    ").sort_values(by=['date', 'group'])\n",
    "\n",
    "#Fusiona las dos tablas en una y da a sus columnas nombres descriptivos:\n",
    "cumulative_data = orders_aggregated.merge(visits_aggregated, left_on=['date', 'group'], right_on=['date', 'group'])\n",
    "cumulative_data.columns = ['date', 'group', 'orders', 'buyers', 'revenue', 'visitors']\n",
    "cumulative_data\n"
   ]
  },
  {
   "cell_type": "code",
   "execution_count": 49,
   "metadata": {},
   "outputs": [
    {
     "data": {
      "image/svg+xml": [
       "<svg class=\"main-svg\" xmlns=\"http://www.w3.org/2000/svg\" xmlns:xlink=\"http://www.w3.org/1999/xlink\" width=\"700\" height=\"500\" style=\"\" viewBox=\"0 0 700 500\"><rect x=\"0\" y=\"0\" width=\"700\" height=\"500\" style=\"fill: rgb(255, 255, 255); fill-opacity: 1;\"/><defs id=\"defs-2cd08d\"><g class=\"clips\"><clipPath id=\"clip2cd08dxyplot\" class=\"plotclip\"><rect width=\"503\" height=\"320\"/></clipPath><clipPath class=\"axesclip\" id=\"clip2cd08dx\"><rect x=\"80\" y=\"0\" width=\"503\" height=\"500\"/></clipPath><clipPath class=\"axesclip\" id=\"clip2cd08dy\"><rect x=\"0\" y=\"100\" width=\"700\" height=\"320\"/></clipPath><clipPath class=\"axesclip\" id=\"clip2cd08dxy\"><rect x=\"80\" y=\"100\" width=\"503\" height=\"320\"/></clipPath></g><g class=\"gradients\"/><g class=\"patterns\"/></defs><g class=\"bglayer\"><rect class=\"bg\" x=\"80\" y=\"100\" width=\"503\" height=\"320\" style=\"fill: rgb(229, 236, 246); fill-opacity: 1; stroke-width: 0;\"/></g><g class=\"layer-below\"><g class=\"imagelayer\"/><g class=\"shapelayer\"/></g><g class=\"cartesianlayer\"><g class=\"subplot xy\"><g class=\"layer-subplot\"><g class=\"shapelayer\"/><g class=\"imagelayer\"/></g><g class=\"minor-gridlayer\"><g class=\"x\"/><g class=\"y\"/></g><g class=\"gridlayer\"><g class=\"x\"><path class=\"xgrid crisp\" transform=\"translate(130.3,0)\" d=\"M0,100v320\" style=\"stroke: rgb(255, 255, 255); stroke-opacity: 1; stroke-width: 1px;\"/><path class=\"xgrid crisp\" transform=\"translate(247.67,0)\" d=\"M0,100v320\" style=\"stroke: rgb(255, 255, 255); stroke-opacity: 1; stroke-width: 1px;\"/><path class=\"xgrid crisp\" transform=\"translate(365.03,0)\" d=\"M0,100v320\" style=\"stroke: rgb(255, 255, 255); stroke-opacity: 1; stroke-width: 1px;\"/><path class=\"xgrid crisp\" transform=\"translate(482.4,0)\" d=\"M0,100v320\" style=\"stroke: rgb(255, 255, 255); stroke-opacity: 1; stroke-width: 1px;\"/></g><g class=\"y\"><path class=\"ygrid crisp\" transform=\"translate(0,370.94)\" d=\"M80,0h503\" style=\"stroke: rgb(255, 255, 255); stroke-opacity: 1; stroke-width: 1px;\"/><path class=\"ygrid crisp\" transform=\"translate(0,334.34000000000003)\" d=\"M80,0h503\" style=\"stroke: rgb(255, 255, 255); stroke-opacity: 1; stroke-width: 1px;\"/><path class=\"ygrid crisp\" transform=\"translate(0,297.73)\" d=\"M80,0h503\" style=\"stroke: rgb(255, 255, 255); stroke-opacity: 1; stroke-width: 1px;\"/><path class=\"ygrid crisp\" transform=\"translate(0,261.13)\" d=\"M80,0h503\" style=\"stroke: rgb(255, 255, 255); stroke-opacity: 1; stroke-width: 1px;\"/><path class=\"ygrid crisp\" transform=\"translate(0,224.53)\" d=\"M80,0h503\" style=\"stroke: rgb(255, 255, 255); stroke-opacity: 1; stroke-width: 1px;\"/><path class=\"ygrid crisp\" transform=\"translate(0,187.93)\" d=\"M80,0h503\" style=\"stroke: rgb(255, 255, 255); stroke-opacity: 1; stroke-width: 1px;\"/><path class=\"ygrid crisp\" transform=\"translate(0,151.32999999999998)\" d=\"M80,0h503\" style=\"stroke: rgb(255, 255, 255); stroke-opacity: 1; stroke-width: 1px;\"/><path class=\"ygrid crisp\" transform=\"translate(0,114.72)\" d=\"M80,0h503\" style=\"stroke: rgb(255, 255, 255); stroke-opacity: 1; stroke-width: 1px;\"/></g></g><g class=\"zerolinelayer\"><path class=\"yzl zl crisp\" transform=\"translate(0,407.54)\" d=\"M80,0h503\" style=\"stroke: rgb(255, 255, 255); stroke-opacity: 1; stroke-width: 2px;\"/></g><g class=\"layer-between\"><g class=\"shapelayer\"/><g class=\"imagelayer\"/></g><path class=\"xlines-below\"/><path class=\"ylines-below\"/><g class=\"overlines-below\"/><g class=\"xaxislayer-below\"/><g class=\"yaxislayer-below\"/><g class=\"overaxes-below\"/><g class=\"plot\" transform=\"translate(80,100)\" clip-path=\"url(#clip2cd08dxyplot)\"><g class=\"scatterlayer mlayer\"><g class=\"trace scatter traceb1af1f\" style=\"stroke-miterlimit: 2; opacity: 1;\"><g class=\"fills\"/><g class=\"errorbars\"/><g class=\"lines\"><path class=\"js-line\" d=\"M0,299.24L16.77,293.87L33.53,287.23L50.3,284.75L67.07,279.64L83.83,277.19L100.6,270.08L117.37,264.94L134.13,257.27L150.9,248.53L167.67,245.01L184.43,232.38L201.2,217.39L217.97,214.76L234.73,210.1L251.5,204.24L268.27,202.24L285.03,198.7L301.8,188.99L318.57,185.56L335.33,175.76L352.1,170.45L368.87,166.95L385.63,159.96L402.4,156.96L419.17,147.94L435.93,137.2L452.7,131.61L469.47,120.38L486.23,115.88L503,112.77\" style=\"vector-effect: none; fill: none; stroke: rgb(99, 110, 250); stroke-opacity: 1; stroke-width: 2px; opacity: 1;\"/></g><g class=\"points\"/><g class=\"text\"/></g><g class=\"trace scatter trace497a6c\" style=\"stroke-miterlimit: 2; opacity: 1;\"><g class=\"fills\"/><g class=\"errorbars\"/><g class=\"lines\"><path class=\"js-line\" d=\"M0,304L16.77,294.6L33.53,290.68L67.07,279.77L83.83,267.43L100.6,254.86L117.37,246.15L150.9,233.96L167.67,230.83L201.2,217.9L217.97,211.7L234.73,193.95L251.5,187.34L268.27,182.67L285.03,180.59L301.8,99.82L318.57,91.32L352.1,75.1L368.87,70.6L402.4,60.86L419.17,50.82L435.93,44.43L452.7,40.73L469.47,34.57L486.23,22.54L503,16\" style=\"vector-effect: none; fill: none; stroke: rgb(239, 85, 59); stroke-opacity: 1; stroke-width: 2px; opacity: 1;\"/></g><g class=\"points\"/><g class=\"text\"/></g></g></g><g class=\"overplot\"/><path class=\"xlines-above crisp\" d=\"M0,0\" style=\"fill: none;\"/><path class=\"ylines-above crisp\" d=\"M0,0\" style=\"fill: none;\"/><g class=\"overlines-above\"/><g class=\"xaxislayer-above\"><g class=\"xtick\"><text text-anchor=\"middle\" x=\"0\" y=\"433\" transform=\"translate(130.3,0)\" style=\"font-family: 'Open Sans', verdana, arial, sans-serif; font-size: 12px; fill: rgb(42, 63, 95); fill-opacity: 1; white-space: pre; opacity: 1;\"><tspan class=\"line\" dy=\"0em\" x=\"0\" y=\"433\">Aug 4</tspan><tspan class=\"line\" dy=\"1.3em\" x=\"0\" y=\"433\">2019</tspan></text></g><g class=\"xtick\"><text text-anchor=\"middle\" x=\"0\" y=\"433\" style=\"font-family: 'Open Sans', verdana, arial, sans-serif; font-size: 12px; fill: rgb(42, 63, 95); fill-opacity: 1; white-space: pre; opacity: 1;\" transform=\"translate(247.67,0)\">Aug 11</text></g><g class=\"xtick\"><text text-anchor=\"middle\" x=\"0\" y=\"433\" style=\"font-family: 'Open Sans', verdana, arial, sans-serif; font-size: 12px; fill: rgb(42, 63, 95); fill-opacity: 1; white-space: pre; opacity: 1;\" transform=\"translate(365.03,0)\">Aug 18</text></g><g class=\"xtick\"><text text-anchor=\"middle\" x=\"0\" y=\"433\" style=\"font-family: 'Open Sans', verdana, arial, sans-serif; font-size: 12px; fill: rgb(42, 63, 95); fill-opacity: 1; white-space: pre; opacity: 1;\" transform=\"translate(482.4,0)\">Aug 25</text></g></g><g class=\"yaxislayer-above\"><g class=\"ytick\"><text text-anchor=\"end\" x=\"79\" y=\"4.199999999999999\" transform=\"translate(0,407.54)\" style=\"font-family: 'Open Sans', verdana, arial, sans-serif; font-size: 12px; fill: rgb(42, 63, 95); fill-opacity: 1; white-space: pre; opacity: 1;\">0</text></g><g class=\"ytick\"><text text-anchor=\"end\" x=\"79\" y=\"4.199999999999999\" style=\"font-family: 'Open Sans', verdana, arial, sans-serif; font-size: 12px; fill: rgb(42, 63, 95); fill-opacity: 1; white-space: pre; opacity: 1;\" transform=\"translate(0,370.94)\">10k</text></g><g class=\"ytick\"><text text-anchor=\"end\" x=\"79\" y=\"4.199999999999999\" style=\"font-family: 'Open Sans', verdana, arial, sans-serif; font-size: 12px; fill: rgb(42, 63, 95); fill-opacity: 1; white-space: pre; opacity: 1;\" transform=\"translate(0,334.34000000000003)\">20k</text></g><g class=\"ytick\"><text text-anchor=\"end\" x=\"79\" y=\"4.199999999999999\" style=\"font-family: 'Open Sans', verdana, arial, sans-serif; font-size: 12px; fill: rgb(42, 63, 95); fill-opacity: 1; white-space: pre; opacity: 1;\" transform=\"translate(0,297.73)\">30k</text></g><g class=\"ytick\"><text text-anchor=\"end\" x=\"79\" y=\"4.199999999999999\" style=\"font-family: 'Open Sans', verdana, arial, sans-serif; font-size: 12px; fill: rgb(42, 63, 95); fill-opacity: 1; white-space: pre; opacity: 1;\" transform=\"translate(0,261.13)\">40k</text></g><g class=\"ytick\"><text text-anchor=\"end\" x=\"79\" y=\"4.199999999999999\" style=\"font-family: 'Open Sans', verdana, arial, sans-serif; font-size: 12px; fill: rgb(42, 63, 95); fill-opacity: 1; white-space: pre; opacity: 1;\" transform=\"translate(0,224.53)\">50k</text></g><g class=\"ytick\"><text text-anchor=\"end\" x=\"79\" y=\"4.199999999999999\" style=\"font-family: 'Open Sans', verdana, arial, sans-serif; font-size: 12px; fill: rgb(42, 63, 95); fill-opacity: 1; white-space: pre; opacity: 1;\" transform=\"translate(0,187.93)\">60k</text></g><g class=\"ytick\"><text text-anchor=\"end\" x=\"79\" y=\"4.199999999999999\" style=\"font-family: 'Open Sans', verdana, arial, sans-serif; font-size: 12px; fill: rgb(42, 63, 95); fill-opacity: 1; white-space: pre; opacity: 1;\" transform=\"translate(0,151.32999999999998)\">70k</text></g><g class=\"ytick\"><text text-anchor=\"end\" x=\"79\" y=\"4.199999999999999\" style=\"font-family: 'Open Sans', verdana, arial, sans-serif; font-size: 12px; fill: rgb(42, 63, 95); fill-opacity: 1; white-space: pre; opacity: 1;\" transform=\"translate(0,114.72)\">80k</text></g></g><g class=\"overaxes-above\"/></g></g><g class=\"polarlayer\"/><g class=\"smithlayer\"/><g class=\"ternarylayer\"/><g class=\"geolayer\"/><g class=\"funnelarealayer\"/><g class=\"pielayer\"/><g class=\"iciclelayer\"/><g class=\"treemaplayer\"/><g class=\"sunburstlayer\"/><g class=\"glimages\"/><defs id=\"topdefs-2cd08d\"><g class=\"clips\"/><clipPath id=\"legend2cd08d\"><rect width=\"95\" height=\"48\" x=\"0\" y=\"0\"/></clipPath></defs><g class=\"layer-above\"><g class=\"imagelayer\"/><g class=\"shapelayer\"/></g><g class=\"infolayer\"><g class=\"legend\" pointer-events=\"all\" transform=\"translate(593.0600000000001,100)\"><rect class=\"bg\" shape-rendering=\"crispEdges\" style=\"stroke: rgb(68, 68, 68); stroke-opacity: 1; fill: rgb(255, 255, 255); fill-opacity: 1; stroke-width: 0px;\" width=\"95\" height=\"48\" x=\"0\" y=\"0\"/><g class=\"scrollbox\" transform=\"\" clip-path=\"url(#legend2cd08d)\"><g class=\"groups\"><g class=\"traces\" transform=\"translate(0,14.5)\" style=\"opacity: 1;\"><text class=\"legendtext\" text-anchor=\"start\" x=\"40\" y=\"4.680000000000001\" style=\"font-family: 'Open Sans', verdana, arial, sans-serif; font-size: 12px; fill: rgb(42, 63, 95); fill-opacity: 1; white-space: pre;\">Grupo A</text><g class=\"layers\" style=\"opacity: 1;\"><g class=\"legendfill\"/><g class=\"legendlines\"><path class=\"js-line\" d=\"M5,0h30\" style=\"fill: none; stroke: rgb(99, 110, 250); stroke-opacity: 1; stroke-width: 2px;\"/></g><g class=\"legendsymbols\"><g class=\"legendpoints\"/></g></g><rect class=\"legendtoggle\" x=\"0\" y=\"-9.5\" width=\"90\" height=\"19\" style=\"fill: rgb(0, 0, 0); fill-opacity: 0;\"/></g><g class=\"traces\" transform=\"translate(0,33.5)\" style=\"opacity: 1;\"><text class=\"legendtext\" text-anchor=\"start\" x=\"40\" y=\"4.680000000000001\" style=\"font-family: 'Open Sans', verdana, arial, sans-serif; font-size: 12px; fill: rgb(42, 63, 95); fill-opacity: 1; white-space: pre;\">Grupo B</text><g class=\"layers\" style=\"opacity: 1;\"><g class=\"legendfill\"/><g class=\"legendlines\"><path class=\"js-line\" d=\"M5,0h30\" style=\"fill: none; stroke: rgb(239, 85, 59); stroke-opacity: 1; stroke-width: 2px;\"/></g><g class=\"legendsymbols\"><g class=\"legendpoints\"/></g></g><rect class=\"legendtoggle\" x=\"0\" y=\"-9.5\" width=\"90\" height=\"19\" style=\"fill: rgb(0, 0, 0); fill-opacity: 0;\"/></g></g></g><rect class=\"scrollbar\" rx=\"20\" ry=\"3\" width=\"0\" height=\"0\" style=\"fill: rgb(128, 139, 164); fill-opacity: 1;\" x=\"0\" y=\"0\"/></g><g class=\"g-gtitle\"><text class=\"gtitle\" x=\"35\" y=\"50\" text-anchor=\"start\" dy=\"0em\" style=\"font-family: 'Open Sans', verdana, arial, sans-serif; font-size: 17px; fill: rgb(42, 63, 95); opacity: 1; white-space: pre;\">Ingreso Acumulado por Grupo</text></g><g class=\"g-xtitle\"><text class=\"xtitle\" x=\"331.5\" y=\"475.909375\" text-anchor=\"middle\" style=\"font-family: 'Open Sans', verdana, arial, sans-serif; font-size: 14px; fill: rgb(42, 63, 95); opacity: 1; white-space: pre;\">Date</text></g><g class=\"g-ytitle\"><text class=\"ytitle\" transform=\"rotate(-90,37.240625,260)\" x=\"37.240625\" y=\"260\" text-anchor=\"middle\" style=\"font-family: 'Open Sans', verdana, arial, sans-serif; font-size: 14px; fill: rgb(42, 63, 95); opacity: 1; white-space: pre;\">Ingreso Acumulado ($)</text></g></g></svg>"
      ]
     },
     "metadata": {},
     "output_type": "display_data"
    }
   ],
   "source": [
    "#creando gráficos de ingreso acumulado por día y grupo de prueba A/B.\n",
    "#DataFrame con pedidos acumulados e ingresos acumulados por día, grupo A\n",
    "cumulative_revenue_A = cumulative_data[cumulative_data['group'] == 'A'][['date', 'revenue', 'orders']]\n",
    "#DataFrame con pedidos acumulados e ingresos acumulados por día, grupo B\n",
    "cumulative_revenue_B = cumulative_data[cumulative_data['group'] == 'B'][['date', 'revenue', 'orders']]\n",
    "\n",
    "#Trazar el gráfico de ingresos del grupo A y B\n",
    "fig4= go.Figure()\n",
    "fig4.add_trace(go.Scatter(x=cumulative_revenue_A['date'], y= cumulative_revenue_A['revenue'],\n",
    "                         mode='lines',\n",
    "                         name='Grupo A'))\n",
    "fig4.add_trace(go.Scatter(x=cumulative_revenue_B['date'], y= cumulative_revenue_B['revenue'],\n",
    "                         mode='lines',\n",
    "                         name='Grupo B'))\n",
    "\n",
    "fig4.update_layout(\n",
    "    title=\"Ingreso Acumulado por Grupo\",\n",
    "    yaxis=dict(\n",
    "        title=dict(text=\"Ingreso Acumulado ($)\"), \n",
    "        \n",
    "    ),\n",
    "    xaxis=dict(\n",
    "        title=dict(text=\"Date\"),\n",
    "    ),\n",
    ")\n",
    "\n",
    "fig4.show()"
   ]
  },
  {
   "cell_type": "markdown",
   "metadata": {},
   "source": [
    "**Gráfico 4.** Muestra el ingreso acumulado y el número de usuarios por grupo\n",
    "- Podemos observar que el grupo B ha tenido, consistentemente, un ingreso acumulado mayor al grupo A.  \n",
    "- Las personas en el grupo B, estarían trayendo más ventas. Esto puede implicar un aumento en el número de pedidos o la existencia de pedidos muy caros en la muestra.\n"
   ]
  },
  {
   "cell_type": "code",
   "execution_count": 50,
   "metadata": {},
   "outputs": [
    {
     "data": {
      "image/svg+xml": [
       "<svg class=\"main-svg\" xmlns=\"http://www.w3.org/2000/svg\" xmlns:xlink=\"http://www.w3.org/1999/xlink\" width=\"700\" height=\"500\" style=\"\" viewBox=\"0 0 700 500\"><rect x=\"0\" y=\"0\" width=\"700\" height=\"500\" style=\"fill: rgb(255, 255, 255); fill-opacity: 1;\"/><defs id=\"defs-ae18b8\"><g class=\"clips\"><clipPath id=\"clipae18b8xyplot\" class=\"plotclip\"><rect width=\"540\" height=\"320\"/></clipPath><clipPath id=\"clipae18b8xy2plot\" class=\"plotclip\"><rect width=\"540\" height=\"320\"/></clipPath><clipPath class=\"axesclip\" id=\"clipae18b8x\"><rect x=\"80\" y=\"0\" width=\"540\" height=\"500\"/></clipPath><clipPath class=\"axesclip\" id=\"clipae18b8y\"><rect x=\"0\" y=\"100\" width=\"700\" height=\"320\"/></clipPath><clipPath class=\"axesclip\" id=\"clipae18b8xy\"><rect x=\"80\" y=\"100\" width=\"540\" height=\"320\"/></clipPath><clipPath class=\"axesclip\" id=\"clipae18b8y2\"><rect x=\"0\" y=\"100\" width=\"700\" height=\"320\"/></clipPath><clipPath class=\"axesclip\" id=\"clipae18b8xy2\"><rect x=\"80\" y=\"100\" width=\"540\" height=\"320\"/></clipPath></g><g class=\"gradients\"/><g class=\"patterns\"/></defs><g class=\"bglayer\"><rect class=\"bg\" x=\"80\" y=\"100\" width=\"540\" height=\"320\" style=\"fill: rgb(229, 236, 246); fill-opacity: 1; stroke-width: 0;\"/></g><g class=\"layer-below\"><g class=\"imagelayer\"/><g class=\"shapelayer\"/></g><g class=\"cartesianlayer\"><g class=\"subplot xy\"><g class=\"layer-subplot\"><g class=\"shapelayer\"/><g class=\"imagelayer\"/></g><g class=\"minor-gridlayer\"><g class=\"x\"/><g class=\"y\"/><g class=\"y2\"/></g><g class=\"gridlayer\"><g class=\"x\"/><g class=\"y\"><path class=\"ygrid crisp\" transform=\"translate(0,348.89)\" d=\"M80,0h540\" style=\"stroke: rgb(255, 255, 255); stroke-opacity: 1; stroke-width: 1px;\"/><path class=\"ygrid crisp\" transform=\"translate(0,277.78)\" d=\"M80,0h540\" style=\"stroke: rgb(255, 255, 255); stroke-opacity: 1; stroke-width: 1px;\"/><path class=\"ygrid crisp\" transform=\"translate(0,206.67000000000002)\" d=\"M80,0h540\" style=\"stroke: rgb(255, 255, 255); stroke-opacity: 1; stroke-width: 1px;\"/><path class=\"ygrid crisp\" transform=\"translate(0,135.56)\" d=\"M80,0h540\" style=\"stroke: rgb(255, 255, 255); stroke-opacity: 1; stroke-width: 1px;\"/></g><g class=\"y2\"><path class=\"y2grid crisp\" transform=\"translate(0,366.67)\" d=\"M80,0h540\" style=\"stroke: rgb(255, 255, 255); stroke-opacity: 1; stroke-width: 1px;\"/><path class=\"y2grid crisp\" transform=\"translate(0,313.33000000000004)\" d=\"M80,0h540\" style=\"stroke: rgb(255, 255, 255); stroke-opacity: 1; stroke-width: 1px;\"/><path class=\"y2grid crisp\" transform=\"translate(0,260)\" d=\"M80,0h540\" style=\"stroke: rgb(255, 255, 255); stroke-opacity: 1; stroke-width: 1px;\"/><path class=\"y2grid crisp\" transform=\"translate(0,206.67000000000002)\" d=\"M80,0h540\" style=\"stroke: rgb(255, 255, 255); stroke-opacity: 1; stroke-width: 1px;\"/><path class=\"y2grid crisp\" transform=\"translate(0,153.32999999999998)\" d=\"M80,0h540\" style=\"stroke: rgb(255, 255, 255); stroke-opacity: 1; stroke-width: 1px;\"/></g></g><g class=\"zerolinelayer\"><path class=\"yzl zl crisp\" transform=\"translate(0,420)\" d=\"M80,0h540\" style=\"stroke: rgb(255, 255, 255); stroke-opacity: 1; stroke-width: 2px;\"/><path class=\"y2zl zl crisp\" transform=\"translate(0,420)\" d=\"M80,0h540\" style=\"stroke: rgb(255, 255, 255); stroke-opacity: 1; stroke-width: 2px;\"/></g><g class=\"layer-between\"><g class=\"shapelayer\"/><g class=\"imagelayer\"/></g><path class=\"xlines-below\"/><path class=\"ylines-below\"/><g class=\"overlines-below\"><path class=\"xy2-x\"/><path class=\"xy2-y\"/></g><g class=\"xaxislayer-below\"/><g class=\"yaxislayer-below\"/><g class=\"overaxes-below\"><g class=\"xy2-x\"/><g class=\"xy2-y\"/></g><g class=\"plot\" transform=\"translate(80,100)\" clip-path=\"url(#clipae18b8xyplot)\"><g class=\"barlayer mlayer\"><g class=\"trace bars\" style=\"opacity: 1;\"><g class=\"points\"><g class=\"point\"><path d=\"M27,320V130.8H243V320Z\" style=\"vector-effect: none; opacity: 1; stroke-width: 0.5px; fill: rgb(99, 110, 250); fill-opacity: 1; stroke: rgb(229, 236, 246); stroke-opacity: 1;\"/><text class=\"bartext bartext-inside\" text-anchor=\"middle\" data-notex=\"1\" x=\"0\" y=\"0\" style=\"font-family: 'Open Sans', verdana, arial, sans-serif; font-size: 12px; fill: rgb(255, 255, 255); fill-opacity: 1; white-space: pre;\" transform=\"translate(134.8125,145.8)\">53212</text></g><g class=\"point\"><path d=\"M297,320V36.8H513V320Z\" style=\"vector-effect: none; opacity: 1; stroke-width: 0.5px; fill: rgb(99, 110, 250); fill-opacity: 1; stroke: rgb(229, 236, 246); stroke-opacity: 1;\"/><text class=\"bartext bartext-inside\" text-anchor=\"middle\" data-notex=\"1\" x=\"0\" y=\"0\" style=\"font-family: 'Open Sans', verdana, arial, sans-serif; font-size: 12px; fill: rgb(255, 255, 255); fill-opacity: 1; white-space: pre;\" transform=\"translate(404.8125,51.8)\">79651.2</text></g></g></g></g></g><g class=\"overplot\"><g class=\"xy2\" transform=\"translate(80,100)\" clip-path=\"url(#clipae18b8xy2plot)\"><g class=\"scatterlayer mlayer\"><g class=\"trace scatter trace3fbd94\" style=\"stroke-miterlimit: 2; opacity: 1;\"><g class=\"fills\"/><g class=\"errorbars\"/><g class=\"lines\"><path class=\"js-line\" d=\"M135,82.67L405,38.4\" style=\"vector-effect: none; fill: none; stroke: rgb(239, 85, 59); stroke-opacity: 1; stroke-width: 2px; opacity: 1;\"/></g><g class=\"points\"><path class=\"point\" transform=\"translate(135,82.67)\" d=\"M3,0A3,3 0 1,1 0,-3A3,3 0 0,1 3,0Z\" style=\"opacity: 1; stroke-width: 0px; fill: rgb(239, 85, 59); fill-opacity: 1;\"/><path class=\"point\" transform=\"translate(405,38.4)\" d=\"M3,0A3,3 0 1,1 0,-3A3,3 0 0,1 3,0Z\" style=\"opacity: 1; stroke-width: 0px; fill: rgb(239, 85, 59); fill-opacity: 1;\"/></g><g class=\"text\"><g class=\"textpoint\" transform=\"translate(0,-7.75)\"><text x=\"135\" y=\"82.67\" text-anchor=\"middle\" style=\"font-family: 'Open Sans', verdana, arial, sans-serif; font-size: 12px; fill: rgb(42, 63, 95); fill-opacity: 1; white-space: pre;\">445</text></g><g class=\"textpoint\" transform=\"translate(0,-7.75)\"><text x=\"405\" y=\"38.4\" text-anchor=\"middle\" style=\"font-family: 'Open Sans', verdana, arial, sans-serif; font-size: 12px; fill: rgb(42, 63, 95); fill-opacity: 1; white-space: pre;\">528</text></g></g></g></g></g></g><path class=\"xlines-above crisp\" d=\"M0,0\" style=\"fill: none;\"/><path class=\"ylines-above crisp\" d=\"M0,0\" style=\"fill: none;\"/><g class=\"overlines-above\"><path class=\"xy2-x crisp\" d=\"M0,0\" style=\"fill: none;\"/><path class=\"xy2-y crisp\" d=\"M0,0\" style=\"fill: none;\"/></g><g class=\"xaxislayer-above\"><g class=\"xtick\"><text text-anchor=\"middle\" x=\"0\" y=\"433\" transform=\"translate(215,0)\" style=\"font-family: 'Open Sans', verdana, arial, sans-serif; font-size: 12px; fill: rgb(42, 63, 95); fill-opacity: 1; white-space: pre; opacity: 1;\">A</text></g><g class=\"xtick\"><text text-anchor=\"middle\" x=\"0\" y=\"433\" transform=\"translate(485,0)\" style=\"font-family: 'Open Sans', verdana, arial, sans-serif; font-size: 12px; fill: rgb(42, 63, 95); fill-opacity: 1; white-space: pre; opacity: 1;\">B</text></g></g><g class=\"yaxislayer-above\"><g class=\"ytick\"><text text-anchor=\"end\" x=\"79\" y=\"4.199999999999999\" transform=\"translate(0,420)\" style=\"font-family: 'Open Sans', verdana, arial, sans-serif; font-size: 12px; fill: rgb(42, 63, 95); fill-opacity: 1; white-space: pre; opacity: 1;\">0</text></g><g class=\"ytick\"><text text-anchor=\"end\" x=\"79\" y=\"4.199999999999999\" style=\"font-family: 'Open Sans', verdana, arial, sans-serif; font-size: 12px; fill: rgb(42, 63, 95); fill-opacity: 1; white-space: pre; opacity: 1;\" transform=\"translate(0,348.89)\">20k</text></g><g class=\"ytick\"><text text-anchor=\"end\" x=\"79\" y=\"4.199999999999999\" style=\"font-family: 'Open Sans', verdana, arial, sans-serif; font-size: 12px; fill: rgb(42, 63, 95); fill-opacity: 1; white-space: pre; opacity: 1;\" transform=\"translate(0,277.78)\">40k</text></g><g class=\"ytick\"><text text-anchor=\"end\" x=\"79\" y=\"4.199999999999999\" style=\"font-family: 'Open Sans', verdana, arial, sans-serif; font-size: 12px; fill: rgb(42, 63, 95); fill-opacity: 1; white-space: pre; opacity: 1;\" transform=\"translate(0,206.67000000000002)\">60k</text></g><g class=\"ytick\"><text text-anchor=\"end\" x=\"79\" y=\"4.199999999999999\" style=\"font-family: 'Open Sans', verdana, arial, sans-serif; font-size: 12px; fill: rgb(42, 63, 95); fill-opacity: 1; white-space: pre; opacity: 1;\" transform=\"translate(0,135.56)\">80k</text></g></g><g class=\"overaxes-above\"><g class=\"xy2-x\"/><g class=\"xy2-y\"><g class=\"y2tick\"><text text-anchor=\"start\" x=\"621\" y=\"4.199999999999999\" transform=\"translate(0,420)\" style=\"font-family: 'Open Sans', verdana, arial, sans-serif; font-size: 12px; fill: rgb(42, 63, 95); fill-opacity: 1; white-space: pre; opacity: 1;\">0</text></g><g class=\"y2tick\"><text text-anchor=\"start\" x=\"621\" y=\"4.199999999999999\" style=\"font-family: 'Open Sans', verdana, arial, sans-serif; font-size: 12px; fill: rgb(42, 63, 95); fill-opacity: 1; white-space: pre; opacity: 1;\" transform=\"translate(0,366.67)\">100</text></g><g class=\"y2tick\"><text text-anchor=\"start\" x=\"621\" y=\"4.199999999999999\" style=\"font-family: 'Open Sans', verdana, arial, sans-serif; font-size: 12px; fill: rgb(42, 63, 95); fill-opacity: 1; white-space: pre; opacity: 1;\" transform=\"translate(0,313.33000000000004)\">200</text></g><g class=\"y2tick\"><text text-anchor=\"start\" x=\"621\" y=\"4.199999999999999\" style=\"font-family: 'Open Sans', verdana, arial, sans-serif; font-size: 12px; fill: rgb(42, 63, 95); fill-opacity: 1; white-space: pre; opacity: 1;\" transform=\"translate(0,260)\">300</text></g><g class=\"y2tick\"><text text-anchor=\"start\" x=\"621\" y=\"4.199999999999999\" style=\"font-family: 'Open Sans', verdana, arial, sans-serif; font-size: 12px; fill: rgb(42, 63, 95); fill-opacity: 1; white-space: pre; opacity: 1;\" transform=\"translate(0,206.67000000000002)\">400</text></g><g class=\"y2tick\"><text text-anchor=\"start\" x=\"621\" y=\"4.199999999999999\" style=\"font-family: 'Open Sans', verdana, arial, sans-serif; font-size: 12px; fill: rgb(42, 63, 95); fill-opacity: 1; white-space: pre; opacity: 1;\" transform=\"translate(0,153.32999999999998)\">500</text></g><g class=\"y2tick\"><text text-anchor=\"start\" x=\"621\" y=\"4.199999999999999\" style=\"font-family: 'Open Sans', verdana, arial, sans-serif; font-size: 12px; fill: rgb(42, 63, 95); fill-opacity: 1; white-space: pre; opacity: 1;\" transform=\"translate(0,100)\">600</text></g></g></g></g><g class=\"subplot xy2\"/></g><g class=\"polarlayer\"/><g class=\"smithlayer\"/><g class=\"ternarylayer\"/><g class=\"geolayer\"/><g class=\"funnelarealayer\"/><g class=\"pielayer\"/><g class=\"iciclelayer\"/><g class=\"treemaplayer\"/><g class=\"sunburstlayer\"/><g class=\"glimages\"/><defs id=\"topdefs-ae18b8\"><g class=\"clips\"/><clipPath id=\"legendae18b8\"><rect width=\"460\" height=\"29\" x=\"0\" y=\"0\"/></clipPath></defs><g class=\"layer-above\"><g class=\"imagelayer\"/><g class=\"shapelayer\"/></g><g class=\"infolayer\"><g class=\"legend\" pointer-events=\"all\" transform=\"translate(80,452)\"><rect class=\"bg\" shape-rendering=\"crispEdges\" style=\"stroke: rgb(68, 68, 68); stroke-opacity: 1; fill: rgb(255, 255, 255); fill-opacity: 1; stroke-width: 0px;\" width=\"460\" height=\"29\" x=\"0\" y=\"0\"/><g class=\"scrollbox\" transform=\"\" clip-path=\"url(#legendae18b8)\"><g class=\"groups\"><g class=\"traces\" transform=\"translate(0,14.5)\" style=\"opacity: 1;\"><text class=\"legendtext\" text-anchor=\"start\" x=\"40\" y=\"4.680000000000001\" style=\"font-family: 'Open Sans', verdana, arial, sans-serif; font-size: 12px; fill: rgb(42, 63, 95); fill-opacity: 1; white-space: pre;\">Ingreso Acumulado por Grupo</text><g class=\"layers\" style=\"opacity: 1;\"><g class=\"legendfill\"/><g class=\"legendlines\"/><g class=\"legendsymbols\"><g class=\"legendpoints\"><path class=\"legendundefined\" d=\"M6,6H-6V-6H6Z\" transform=\"translate(20,0)\" style=\"stroke-width: 0.5px; fill: rgb(99, 110, 250); fill-opacity: 1; stroke: rgb(229, 236, 246); stroke-opacity: 1;\"/></g></g></g><rect class=\"legendtoggle\" x=\"0\" y=\"-9.5\" width=\"224.328125\" height=\"19\" style=\"fill: rgb(0, 0, 0); fill-opacity: 0;\"/></g><g class=\"traces\" transform=\"translate(226.828125,14.5)\" style=\"opacity: 1;\"><text class=\"legendtext\" text-anchor=\"start\" x=\"40\" y=\"4.680000000000001\" style=\"font-family: 'Open Sans', verdana, arial, sans-serif; font-size: 12px; fill: rgb(42, 63, 95); fill-opacity: 1; white-space: pre;\">Número de Usuarios por Grupo</text><g class=\"layers\" style=\"opacity: 1;\"><g class=\"legendfill\"/><g class=\"legendlines\"><path class=\"js-line\" d=\"M5,0h30\" style=\"fill: none; stroke: rgb(239, 85, 59); stroke-opacity: 1; stroke-width: 2px;\"/></g><g class=\"legendsymbols\"><g class=\"legendpoints\"><path class=\"scatterpts\" transform=\"translate(20,0)\" d=\"M3,0A3,3 0 1,1 0,-3A3,3 0 0,1 3,0Z\" style=\"opacity: 1; stroke-width: 0px; fill: rgb(239, 85, 59); fill-opacity: 1;\"/></g></g></g><rect class=\"legendtoggle\" x=\"0\" y=\"-9.5\" width=\"230.25\" height=\"19\" style=\"fill: rgb(0, 0, 0); fill-opacity: 0;\"/></g></g></g><rect class=\"scrollbar\" rx=\"20\" ry=\"3\" width=\"0\" height=\"0\" style=\"fill: rgb(128, 139, 164); fill-opacity: 1;\" x=\"0\" y=\"0\"/></g><g class=\"g-gtitle\"><text class=\"gtitle\" x=\"35\" y=\"50\" text-anchor=\"start\" dy=\"0em\" style=\"font-family: 'Open Sans', verdana, arial, sans-serif; font-size: 17px; fill: rgb(42, 63, 95); opacity: 1; white-space: pre;\">Ingreso Acumulado Total y Número de Usuarios por Grupo Al Final de la Prueba</text></g><g class=\"g-xtitle\"/><g class=\"g-ytitle\"><text class=\"ytitle\" transform=\"rotate(-90,37.240625,260)\" x=\"37.240625\" y=\"260\" text-anchor=\"middle\" style=\"font-family: 'Open Sans', verdana, arial, sans-serif; font-size: 14px; fill: rgb(42, 63, 95); opacity: 1; white-space: pre;\">Ingreso Acumulado Total por Grupo</text></g><g class=\"g-y2title\"><text class=\"y2title\" transform=\"rotate(-90,668.565625,260)\" x=\"668.565625\" y=\"260\" text-anchor=\"middle\" style=\"font-family: 'Open Sans', verdana, arial, sans-serif; font-size: 14px; fill: rgb(42, 63, 95); opacity: 1; white-space: pre;\">Número de Usuarios por Grupo</text></g></g></svg>"
      ]
     },
     "metadata": {},
     "output_type": "display_data"
    }
   ],
   "source": [
    "#Graficando el Ingreso Acumulado Total y el Número de Usuarios:\n",
    "plot_data= orders.groupby('group')['revenue'].sum().reset_index().round(2) #cumsum()?\n",
    "#plot_data\n",
    "plot_data2= orders.groupby('group')['visitor_id'].nunique().reset_index()\n",
    "#plot_data2\n",
    "fig4b = go.Figure(\n",
    "    data=go.Bar(\n",
    "        x=plot_data['group'],\n",
    "        y=plot_data['revenue'],\n",
    "        name=\"Ingreso Acumulado por Grupo\",\n",
    "        #marker=dict(color=\"paleturquoise\"),\n",
    "        text=plot_data['revenue'],\n",
    "        )\n",
    ")\n",
    "\n",
    "fig4b.add_trace(\n",
    "    go.Scatter(\n",
    "        x=plot_data2['group'],\n",
    "        y=plot_data2['visitor_id'],\n",
    "        yaxis=\"y2\",\n",
    "        name=\"Número de Usuarios por Grupo\",\n",
    "        mode='lines+markers+text',\n",
    "        #marker=dict(color=\"crimson\"),\n",
    "        text=plot_data2['visitor_id'],\n",
    "        textposition='top center',\n",
    "    )\n",
    ")\n",
    "\n",
    "fig4b.update_layout(\n",
    "    title=\"Ingreso Acumulado Total y Número de Usuarios por Grupo Al Final de la Prueba\",\n",
    "    legend=dict(orientation=\"h\"),\n",
    "    yaxis=dict(\n",
    "        title=dict(text=\"Ingreso Acumulado Total por Grupo\"),\n",
    "        side=\"left\",\n",
    "        range=[0, 90000],\n",
    "    ),\n",
    "    yaxis2=dict(\n",
    "        title=dict(text=\"Número de Usuarios por Grupo\"),\n",
    "        side=\"right\",\n",
    "        range=[0, 600],\n",
    "        overlaying=\"y\",\n",
    "        #tickmode=\"sync\",\n",
    "    ),\n",
    ")\n",
    "\n",
    "\n",
    "\n",
    "\n",
    "fig4b.show()"
   ]
  },
  {
   "cell_type": "markdown",
   "metadata": {},
   "source": [
    "**Gráfico 4b.** Muestra el ingreso acumulado total y el número de usuarios por grupo al final de la prueba.\n",
    "- Podemos observar que el grupo A generó un ingreso acumulado total de 53.212. Mientras que el grupo B generó 79.651,2.  \n",
    "- Las personas en el grupo B, estarían trayendo más ventas. Sin embargo,  podemos observar que también tienen un mayor número de usuarios. En el grupo A se tiene 445 usuarios. Mientras que, en el grupo B se tiene 528 usuarios. Este factor podría ser un determinante del mayor ingreso en B."
   ]
  },
  {
   "cell_type": "markdown",
   "metadata": {},
   "source": [
    "### 2. Representa gráficamente el tamaño de pedido promedio acumulado por grupo. Haz conclusiones y conjeturas."
   ]
  },
  {
   "cell_type": "markdown",
   "metadata": {},
   "source": [
    "Vamos a trazar el tamaño promedio de compra por grupo. \n",
    ">- Vamos a dividir los ingresos acumulados entre el número acumulado de pedidos:"
   ]
  },
  {
   "cell_type": "code",
   "execution_count": 51,
   "metadata": {},
   "outputs": [
    {
     "data": {
      "image/svg+xml": [
       "<svg class=\"main-svg\" xmlns=\"http://www.w3.org/2000/svg\" xmlns:xlink=\"http://www.w3.org/1999/xlink\" width=\"700\" height=\"500\" style=\"\" viewBox=\"0 0 700 500\"><rect x=\"0\" y=\"0\" width=\"700\" height=\"500\" style=\"fill: rgb(255, 255, 255); fill-opacity: 1;\"/><defs id=\"defs-6be2d1\"><g class=\"clips\"><clipPath id=\"clip6be2d1xyplot\" class=\"plotclip\"><rect width=\"503\" height=\"320\"/></clipPath><clipPath class=\"axesclip\" id=\"clip6be2d1x\"><rect x=\"80\" y=\"0\" width=\"503\" height=\"500\"/></clipPath><clipPath class=\"axesclip\" id=\"clip6be2d1y\"><rect x=\"0\" y=\"100\" width=\"700\" height=\"320\"/></clipPath><clipPath class=\"axesclip\" id=\"clip6be2d1xy\"><rect x=\"80\" y=\"100\" width=\"503\" height=\"320\"/></clipPath></g><g class=\"gradients\"/><g class=\"patterns\"/></defs><g class=\"bglayer\"><rect class=\"bg\" x=\"80\" y=\"100\" width=\"503\" height=\"320\" style=\"fill: rgb(229, 236, 246); fill-opacity: 1; stroke-width: 0;\"/></g><g class=\"layer-below\"><g class=\"imagelayer\"/><g class=\"shapelayer\"/></g><g class=\"cartesianlayer\"><g class=\"subplot xy\"><g class=\"layer-subplot\"><g class=\"shapelayer\"/><g class=\"imagelayer\"/></g><g class=\"minor-gridlayer\"><g class=\"x\"/><g class=\"y\"/></g><g class=\"gridlayer\"><g class=\"x\"><path class=\"xgrid crisp\" transform=\"translate(130.3,0)\" d=\"M0,100v320\" style=\"stroke: rgb(255, 255, 255); stroke-opacity: 1; stroke-width: 1px;\"/><path class=\"xgrid crisp\" transform=\"translate(247.67,0)\" d=\"M0,100v320\" style=\"stroke: rgb(255, 255, 255); stroke-opacity: 1; stroke-width: 1px;\"/><path class=\"xgrid crisp\" transform=\"translate(365.03,0)\" d=\"M0,100v320\" style=\"stroke: rgb(255, 255, 255); stroke-opacity: 1; stroke-width: 1px;\"/><path class=\"xgrid crisp\" transform=\"translate(482.4,0)\" d=\"M0,100v320\" style=\"stroke: rgb(255, 255, 255); stroke-opacity: 1; stroke-width: 1px;\"/></g><g class=\"y\"><path class=\"ygrid crisp\" transform=\"translate(0,395.58)\" d=\"M80,0h503\" style=\"stroke: rgb(255, 255, 255); stroke-opacity: 1; stroke-width: 1px;\"/><path class=\"ygrid crisp\" transform=\"translate(0,341.33000000000004)\" d=\"M80,0h503\" style=\"stroke: rgb(255, 255, 255); stroke-opacity: 1; stroke-width: 1px;\"/><path class=\"ygrid crisp\" transform=\"translate(0,287.08000000000004)\" d=\"M80,0h503\" style=\"stroke: rgb(255, 255, 255); stroke-opacity: 1; stroke-width: 1px;\"/><path class=\"ygrid crisp\" transform=\"translate(0,232.83)\" d=\"M80,0h503\" style=\"stroke: rgb(255, 255, 255); stroke-opacity: 1; stroke-width: 1px;\"/><path class=\"ygrid crisp\" transform=\"translate(0,178.57999999999998)\" d=\"M80,0h503\" style=\"stroke: rgb(255, 255, 255); stroke-opacity: 1; stroke-width: 1px;\"/><path class=\"ygrid crisp\" transform=\"translate(0,124.34)\" d=\"M80,0h503\" style=\"stroke: rgb(255, 255, 255); stroke-opacity: 1; stroke-width: 1px;\"/></g></g><g class=\"zerolinelayer\"/><g class=\"layer-between\"><g class=\"shapelayer\"/><g class=\"imagelayer\"/></g><path class=\"xlines-below\"/><path class=\"ylines-below\"/><g class=\"overlines-below\"/><g class=\"xaxislayer-below\"/><g class=\"yaxislayer-below\"/><g class=\"overaxes-below\"/><g class=\"plot\" transform=\"translate(80,100)\" clip-path=\"url(#clip6be2d1xyplot)\"><g class=\"scatterlayer mlayer\"><g class=\"trace scatter trace152da1\" style=\"stroke-miterlimit: 2; opacity: 1;\"><g class=\"fills\"/><g class=\"errorbars\"/><g class=\"lines\"><path class=\"js-line\" d=\"M0,191.02L16.77,217.12L33.53,230.23L50.3,239.02L67.07,249.45L83.83,261.03L100.6,244.79L117.37,239.09L134.13,217.98L150.9,201.1L167.67,202.29L184.43,179.84L201.2,146.13L217.97,160.69L234.73,158.69L251.5,162.77L268.27,163.84L285.03,168.19L301.8,164.5L318.57,165.79L335.33,161.49L352.1,158.64L368.87,168.12L385.63,164.32L402.4,164.67L419.17,159.65L435.93,157.05L452.7,157.92L469.47,150.79L486.23,149.56L503,149.92\" style=\"vector-effect: none; fill: none; stroke: rgb(99, 110, 250); stroke-opacity: 1; stroke-width: 2px; opacity: 1;\"/></g><g class=\"points\"/><g class=\"text\"/></g><g class=\"trace scatter traceb6d09d\" style=\"stroke-miterlimit: 2; opacity: 1;\"><g class=\"fills\"/><g class=\"errorbars\"/><g class=\"lines\"><path class=\"js-line\" d=\"M0,304L16.77,218.59L33.53,226.92L50.3,213.47L67.07,227.07L83.83,192.96L100.6,169.14L117.37,168.55L134.13,174.31L150.9,182.92L167.67,187.61L184.43,190.43L201.2,191.53L217.97,188.28L234.73,167.06L285.03,170.62L301.8,16L318.57,22.91L335.33,20.95L352.1,28.77L368.87,34.21L385.63,39.18L402.4,42.87L419.17,46.54L435.93,46.1L452.7,58.88L469.47,61.69L486.23,60.59L503,64.08\" style=\"vector-effect: none; fill: none; stroke: rgb(239, 85, 59); stroke-opacity: 1; stroke-width: 2px; opacity: 1;\"/></g><g class=\"points\"/><g class=\"text\"/></g></g></g><g class=\"overplot\"/><path class=\"xlines-above crisp\" d=\"M0,0\" style=\"fill: none;\"/><path class=\"ylines-above crisp\" d=\"M0,0\" style=\"fill: none;\"/><g class=\"overlines-above\"/><g class=\"xaxislayer-above\"><g class=\"xtick\"><text text-anchor=\"middle\" x=\"0\" y=\"433\" transform=\"translate(130.3,0)\" style=\"font-family: 'Open Sans', verdana, arial, sans-serif; font-size: 12px; fill: rgb(42, 63, 95); fill-opacity: 1; white-space: pre; opacity: 1;\"><tspan class=\"line\" dy=\"0em\" x=\"0\" y=\"433\">Aug 4</tspan><tspan class=\"line\" dy=\"1.3em\" x=\"0\" y=\"433\">2019</tspan></text></g><g class=\"xtick\"><text text-anchor=\"middle\" x=\"0\" y=\"433\" style=\"font-family: 'Open Sans', verdana, arial, sans-serif; font-size: 12px; fill: rgb(42, 63, 95); fill-opacity: 1; white-space: pre; opacity: 1;\" transform=\"translate(247.67,0)\">Aug 11</text></g><g class=\"xtick\"><text text-anchor=\"middle\" x=\"0\" y=\"433\" style=\"font-family: 'Open Sans', verdana, arial, sans-serif; font-size: 12px; fill: rgb(42, 63, 95); fill-opacity: 1; white-space: pre; opacity: 1;\" transform=\"translate(365.03,0)\">Aug 18</text></g><g class=\"xtick\"><text text-anchor=\"middle\" x=\"0\" y=\"433\" style=\"font-family: 'Open Sans', verdana, arial, sans-serif; font-size: 12px; fill: rgb(42, 63, 95); fill-opacity: 1; white-space: pre; opacity: 1;\" transform=\"translate(482.4,0)\">Aug 25</text></g></g><g class=\"yaxislayer-above\"><g class=\"ytick\"><text text-anchor=\"end\" x=\"79\" y=\"4.199999999999999\" transform=\"translate(0,395.58)\" style=\"font-family: 'Open Sans', verdana, arial, sans-serif; font-size: 12px; fill: rgb(42, 63, 95); fill-opacity: 1; white-space: pre; opacity: 1;\">60</text></g><g class=\"ytick\"><text text-anchor=\"end\" x=\"79\" y=\"4.199999999999999\" style=\"font-family: 'Open Sans', verdana, arial, sans-serif; font-size: 12px; fill: rgb(42, 63, 95); fill-opacity: 1; white-space: pre; opacity: 1;\" transform=\"translate(0,341.33000000000004)\">80</text></g><g class=\"ytick\"><text text-anchor=\"end\" x=\"79\" y=\"4.199999999999999\" style=\"font-family: 'Open Sans', verdana, arial, sans-serif; font-size: 12px; fill: rgb(42, 63, 95); fill-opacity: 1; white-space: pre; opacity: 1;\" transform=\"translate(0,287.08000000000004)\">100</text></g><g class=\"ytick\"><text text-anchor=\"end\" x=\"79\" y=\"4.199999999999999\" style=\"font-family: 'Open Sans', verdana, arial, sans-serif; font-size: 12px; fill: rgb(42, 63, 95); fill-opacity: 1; white-space: pre; opacity: 1;\" transform=\"translate(0,232.83)\">120</text></g><g class=\"ytick\"><text text-anchor=\"end\" x=\"79\" y=\"4.199999999999999\" style=\"font-family: 'Open Sans', verdana, arial, sans-serif; font-size: 12px; fill: rgb(42, 63, 95); fill-opacity: 1; white-space: pre; opacity: 1;\" transform=\"translate(0,178.57999999999998)\">140</text></g><g class=\"ytick\"><text text-anchor=\"end\" x=\"79\" y=\"4.199999999999999\" style=\"font-family: 'Open Sans', verdana, arial, sans-serif; font-size: 12px; fill: rgb(42, 63, 95); fill-opacity: 1; white-space: pre; opacity: 1;\" transform=\"translate(0,124.34)\">160</text></g></g><g class=\"overaxes-above\"/></g></g><g class=\"polarlayer\"/><g class=\"smithlayer\"/><g class=\"ternarylayer\"/><g class=\"geolayer\"/><g class=\"funnelarealayer\"/><g class=\"pielayer\"/><g class=\"iciclelayer\"/><g class=\"treemaplayer\"/><g class=\"sunburstlayer\"/><g class=\"glimages\"/><defs id=\"topdefs-6be2d1\"><g class=\"clips\"/><clipPath id=\"legend6be2d1\"><rect width=\"95\" height=\"48\" x=\"0\" y=\"0\"/></clipPath></defs><g class=\"layer-above\"><g class=\"imagelayer\"/><g class=\"shapelayer\"/></g><g class=\"infolayer\"><g class=\"legend\" pointer-events=\"all\" transform=\"translate(593.0600000000001,100)\"><rect class=\"bg\" shape-rendering=\"crispEdges\" width=\"95\" height=\"48\" x=\"0\" y=\"0\" style=\"stroke: rgb(68, 68, 68); stroke-opacity: 1; fill: rgb(255, 255, 255); fill-opacity: 1; stroke-width: 0px;\"/><g class=\"scrollbox\" transform=\"\" clip-path=\"url(#legend6be2d1)\"><g class=\"groups\"><g class=\"traces\" transform=\"translate(0,14.5)\" style=\"opacity: 1;\"><text class=\"legendtext\" text-anchor=\"start\" x=\"40\" y=\"4.680000000000001\" style=\"font-family: 'Open Sans', verdana, arial, sans-serif; font-size: 12px; fill: rgb(42, 63, 95); fill-opacity: 1; white-space: pre;\">Grupo A</text><g class=\"layers\" style=\"opacity: 1;\"><g class=\"legendfill\"/><g class=\"legendlines\"><path class=\"js-line\" d=\"M5,0h30\" style=\"fill: none; stroke: rgb(99, 110, 250); stroke-opacity: 1; stroke-width: 2px;\"/></g><g class=\"legendsymbols\"><g class=\"legendpoints\"/></g></g><rect class=\"legendtoggle\" x=\"0\" y=\"-9.5\" width=\"90\" height=\"19\" style=\"fill: rgb(0, 0, 0); fill-opacity: 0;\"/></g><g class=\"traces\" transform=\"translate(0,33.5)\" style=\"opacity: 1;\"><text class=\"legendtext\" text-anchor=\"start\" x=\"40\" y=\"4.680000000000001\" style=\"font-family: 'Open Sans', verdana, arial, sans-serif; font-size: 12px; fill: rgb(42, 63, 95); fill-opacity: 1; white-space: pre;\">Grupo B</text><g class=\"layers\" style=\"opacity: 1;\"><g class=\"legendfill\"/><g class=\"legendlines\"><path class=\"js-line\" d=\"M5,0h30\" style=\"fill: none; stroke: rgb(239, 85, 59); stroke-opacity: 1; stroke-width: 2px;\"/></g><g class=\"legendsymbols\"><g class=\"legendpoints\"/></g></g><rect class=\"legendtoggle\" x=\"0\" y=\"-9.5\" width=\"90\" height=\"19\" style=\"fill: rgb(0, 0, 0); fill-opacity: 0;\"/></g></g></g><rect class=\"scrollbar\" rx=\"20\" ry=\"3\" width=\"0\" height=\"0\" x=\"0\" y=\"0\" style=\"fill: rgb(128, 139, 164); fill-opacity: 1;\"/></g><g class=\"g-gtitle\"><text class=\"gtitle\" x=\"35\" y=\"50\" text-anchor=\"start\" dy=\"0em\" style=\"font-family: 'Open Sans', verdana, arial, sans-serif; font-size: 17px; fill: rgb(42, 63, 95); opacity: 1; white-space: pre;\">Tamaño de Pedido Promedio Acumuado por Grupo</text></g><g class=\"g-xtitle\"><text class=\"xtitle\" x=\"331.5\" y=\"475.909375\" text-anchor=\"middle\" style=\"font-family: 'Open Sans', verdana, arial, sans-serif; font-size: 14px; fill: rgb(42, 63, 95); opacity: 1; white-space: pre;\">Date</text></g><g class=\"g-ytitle\"><text class=\"ytitle\" transform=\"rotate(-90,36.709375,260)\" x=\"36.709375\" y=\"260\" text-anchor=\"middle\" style=\"font-family: 'Open Sans', verdana, arial, sans-serif; font-size: 14px; fill: rgb(42, 63, 95); opacity: 1; white-space: pre;\">Pedido Acumulado ($)</text></g></g></svg>"
      ]
     },
     "metadata": {},
     "output_type": "display_data"
    }
   ],
   "source": [
    "fig5= go.Figure()\n",
    "fig5.add_trace(go.Scatter(x=cumulative_revenue_A['date'], y= cumulative_revenue_A['revenue']/cumulative_revenue_A['orders'],\n",
    "                         mode='lines',\n",
    "                         name='Grupo A'))\n",
    "fig5.add_trace(go.Scatter(x=cumulative_revenue_B['date'], y= cumulative_revenue_B['revenue']/cumulative_revenue_B['orders'],\n",
    "                         mode='lines',\n",
    "                         name='Grupo B'))\n",
    "\n",
    "fig5.update_layout(\n",
    "    title=\"Tamaño de Pedido Promedio Acumuado por Grupo\",\n",
    "    yaxis=dict(\n",
    "        title=dict(text=\"Pedido Acumulado ($)\"), \n",
    "        \n",
    "    ),\n",
    "    xaxis=dict(\n",
    "        title=dict(text=\"Date\"),\n",
    "    ),\n",
    ")\n",
    "\n",
    "fig5.show()"
   ]
  },
  {
   "cell_type": "markdown",
   "metadata": {},
   "source": [
    "**Gráfico 5.** Muestra tamaño de pedido promedio acumulado para grupo\n",
    "- Podemos observar que ambos grupos registran volatilidad en el tamaño de pedido promedio. Sin embargo, se estabiliza al final de la prueba.\n",
    "- El tamaño de pedido promedio en el grupo B es mayor al del grupo A"
   ]
  },
  {
   "cell_type": "code",
   "execution_count": 52,
   "metadata": {},
   "outputs": [
    {
     "data": {
      "image/svg+xml": [
       "<svg class=\"main-svg\" xmlns=\"http://www.w3.org/2000/svg\" xmlns:xlink=\"http://www.w3.org/1999/xlink\" width=\"700\" height=\"500\" style=\"\" viewBox=\"0 0 700 500\"><rect x=\"0\" y=\"0\" width=\"700\" height=\"500\" style=\"fill: rgb(255, 255, 255); fill-opacity: 1;\"/><defs id=\"defs-f42e4b\"><g class=\"clips\"><clipPath id=\"clipf42e4bxyplot\" class=\"plotclip\"><rect width=\"540\" height=\"320\"/></clipPath><clipPath class=\"axesclip\" id=\"clipf42e4bx\"><rect x=\"80\" y=\"0\" width=\"540\" height=\"500\"/></clipPath><clipPath class=\"axesclip\" id=\"clipf42e4by\"><rect x=\"0\" y=\"100\" width=\"700\" height=\"320\"/></clipPath><clipPath class=\"axesclip\" id=\"clipf42e4bxy\"><rect x=\"80\" y=\"100\" width=\"540\" height=\"320\"/></clipPath></g><g class=\"gradients\"/><g class=\"patterns\"/></defs><g class=\"bglayer\"><rect class=\"bg\" x=\"80\" y=\"100\" width=\"540\" height=\"320\" style=\"fill: rgb(229, 236, 246); fill-opacity: 1; stroke-width: 0;\"/></g><g class=\"layer-below\"><g class=\"imagelayer\"/><g class=\"shapelayer\"/></g><g class=\"cartesianlayer\"><g class=\"subplot xy\"><g class=\"layer-subplot\"><g class=\"shapelayer\"/><g class=\"imagelayer\"/></g><g class=\"minor-gridlayer\"><g class=\"x\"/><g class=\"y\"/></g><g class=\"gridlayer\"><g class=\"x\"/><g class=\"y\"><path class=\"ygrid crisp\" transform=\"translate(0,378.17)\" d=\"M80,0h540\" style=\"stroke: rgb(255, 255, 255); stroke-opacity: 1; stroke-width: 1px;\"/><path class=\"ygrid crisp\" transform=\"translate(0,336.34000000000003)\" d=\"M80,0h540\" style=\"stroke: rgb(255, 255, 255); stroke-opacity: 1; stroke-width: 1px;\"/><path class=\"ygrid crisp\" transform=\"translate(0,294.51)\" d=\"M80,0h540\" style=\"stroke: rgb(255, 255, 255); stroke-opacity: 1; stroke-width: 1px;\"/><path class=\"ygrid crisp\" transform=\"translate(0,252.68)\" d=\"M80,0h540\" style=\"stroke: rgb(255, 255, 255); stroke-opacity: 1; stroke-width: 1px;\"/><path class=\"ygrid crisp\" transform=\"translate(0,210.85)\" d=\"M80,0h540\" style=\"stroke: rgb(255, 255, 255); stroke-opacity: 1; stroke-width: 1px;\"/><path class=\"ygrid crisp\" transform=\"translate(0,169.01999999999998)\" d=\"M80,0h540\" style=\"stroke: rgb(255, 255, 255); stroke-opacity: 1; stroke-width: 1px;\"/><path class=\"ygrid crisp\" transform=\"translate(0,127.19)\" d=\"M80,0h540\" style=\"stroke: rgb(255, 255, 255); stroke-opacity: 1; stroke-width: 1px;\"/></g></g><g class=\"zerolinelayer\"><path class=\"yzl zl crisp\" transform=\"translate(0,420)\" d=\"M80,0h540\" style=\"stroke: rgb(255, 255, 255); stroke-opacity: 1; stroke-width: 2px;\"/></g><g class=\"layer-between\"><g class=\"shapelayer\"/><g class=\"imagelayer\"/></g><path class=\"xlines-below\"/><path class=\"ylines-below\"/><g class=\"overlines-below\"/><g class=\"xaxislayer-below\"/><g class=\"yaxislayer-below\"/><g class=\"overaxes-below\"/><g class=\"plot\" transform=\"translate(80,100)\" clip-path=\"url(#clipf42e4bxyplot)\"><g class=\"barlayer mlayer\"><g class=\"trace bars\" style=\"opacity: 1;\"><g class=\"points\"><g class=\"point\"><path d=\"M27,320V82.2H243V320Z\" style=\"vector-effect: none; opacity: 1; stroke-width: 0.5px; fill: rgb(99, 110, 250); fill-opacity: 1; stroke: rgb(229, 236, 246); stroke-opacity: 1;\"/><text class=\"bartext bartext-inside\" text-anchor=\"middle\" data-notex=\"1\" x=\"0\" y=\"0\" style=\"font-family: 'Open Sans', verdana, arial, sans-serif; font-size: 12px; fill: rgb(255, 255, 255); fill-opacity: 1; white-space: pre;\" transform=\"translate(134.8203125,97.2)\">113.7</text></g><g class=\"point\"><path d=\"M297,320V16H513V320Z\" style=\"vector-effect: none; opacity: 1; stroke-width: 0.5px; fill: rgb(99, 110, 250); fill-opacity: 1; stroke: rgb(229, 236, 246); stroke-opacity: 1;\"/><text class=\"bartext bartext-inside\" text-anchor=\"middle\" data-notex=\"1\" x=\"0\" y=\"0\" style=\"font-family: 'Open Sans', verdana, arial, sans-serif; font-size: 12px; fill: rgb(255, 255, 255); fill-opacity: 1; white-space: pre;\" transform=\"translate(404.8125,31)\">145.35</text></g></g></g></g></g><g class=\"overplot\"/><path class=\"xlines-above crisp\" d=\"M0,0\" style=\"fill: none;\"/><path class=\"ylines-above crisp\" d=\"M0,0\" style=\"fill: none;\"/><g class=\"overlines-above\"/><g class=\"xaxislayer-above\"><g class=\"xtick\"><text text-anchor=\"middle\" x=\"0\" y=\"433\" transform=\"translate(215,0)\" style=\"font-family: 'Open Sans', verdana, arial, sans-serif; font-size: 12px; fill: rgb(42, 63, 95); fill-opacity: 1; white-space: pre; opacity: 1;\">A</text></g><g class=\"xtick\"><text text-anchor=\"middle\" x=\"0\" y=\"433\" transform=\"translate(485,0)\" style=\"font-family: 'Open Sans', verdana, arial, sans-serif; font-size: 12px; fill: rgb(42, 63, 95); fill-opacity: 1; white-space: pre; opacity: 1;\">B</text></g></g><g class=\"yaxislayer-above\"><g class=\"ytick\"><text text-anchor=\"end\" x=\"79\" y=\"4.199999999999999\" transform=\"translate(0,420)\" style=\"font-family: 'Open Sans', verdana, arial, sans-serif; font-size: 12px; fill: rgb(42, 63, 95); fill-opacity: 1; white-space: pre; opacity: 1;\">0</text></g><g class=\"ytick\"><text text-anchor=\"end\" x=\"79\" y=\"4.199999999999999\" style=\"font-family: 'Open Sans', verdana, arial, sans-serif; font-size: 12px; fill: rgb(42, 63, 95); fill-opacity: 1; white-space: pre; opacity: 1;\" transform=\"translate(0,378.17)\">20</text></g><g class=\"ytick\"><text text-anchor=\"end\" x=\"79\" y=\"4.199999999999999\" style=\"font-family: 'Open Sans', verdana, arial, sans-serif; font-size: 12px; fill: rgb(42, 63, 95); fill-opacity: 1; white-space: pre; opacity: 1;\" transform=\"translate(0,336.34000000000003)\">40</text></g><g class=\"ytick\"><text text-anchor=\"end\" x=\"79\" y=\"4.199999999999999\" style=\"font-family: 'Open Sans', verdana, arial, sans-serif; font-size: 12px; fill: rgb(42, 63, 95); fill-opacity: 1; white-space: pre; opacity: 1;\" transform=\"translate(0,294.51)\">60</text></g><g class=\"ytick\"><text text-anchor=\"end\" x=\"79\" y=\"4.199999999999999\" style=\"font-family: 'Open Sans', verdana, arial, sans-serif; font-size: 12px; fill: rgb(42, 63, 95); fill-opacity: 1; white-space: pre; opacity: 1;\" transform=\"translate(0,252.68)\">80</text></g><g class=\"ytick\"><text text-anchor=\"end\" x=\"79\" y=\"4.199999999999999\" style=\"font-family: 'Open Sans', verdana, arial, sans-serif; font-size: 12px; fill: rgb(42, 63, 95); fill-opacity: 1; white-space: pre; opacity: 1;\" transform=\"translate(0,210.85)\">100</text></g><g class=\"ytick\"><text text-anchor=\"end\" x=\"79\" y=\"4.199999999999999\" style=\"font-family: 'Open Sans', verdana, arial, sans-serif; font-size: 12px; fill: rgb(42, 63, 95); fill-opacity: 1; white-space: pre; opacity: 1;\" transform=\"translate(0,169.01999999999998)\">120</text></g><g class=\"ytick\"><text text-anchor=\"end\" x=\"79\" y=\"4.199999999999999\" style=\"font-family: 'Open Sans', verdana, arial, sans-serif; font-size: 12px; fill: rgb(42, 63, 95); fill-opacity: 1; white-space: pre; opacity: 1;\" transform=\"translate(0,127.19)\">140</text></g></g><g class=\"overaxes-above\"/></g></g><g class=\"polarlayer\"/><g class=\"smithlayer\"/><g class=\"ternarylayer\"/><g class=\"geolayer\"/><g class=\"funnelarealayer\"/><g class=\"pielayer\"/><g class=\"iciclelayer\"/><g class=\"treemaplayer\"/><g class=\"sunburstlayer\"/><g class=\"glimages\"/><defs id=\"topdefs-f42e4b\"><g class=\"clips\"/></defs><g class=\"layer-above\"><g class=\"imagelayer\"/><g class=\"shapelayer\"/></g><g class=\"infolayer\"><g class=\"g-gtitle\"><text class=\"gtitle\" x=\"35\" y=\"50\" text-anchor=\"start\" dy=\"0em\" style=\"font-family: 'Open Sans', verdana, arial, sans-serif; font-size: 17px; fill: rgb(42, 63, 95); opacity: 1; white-space: pre;\">Tamaño de Pedido Promedio Acumulado Para Cada Grupo al Final de la Prueba</text></g><g class=\"g-xtitle\"><text class=\"xtitle\" x=\"350\" y=\"460.3\" text-anchor=\"middle\" style=\"font-family: 'Open Sans', verdana, arial, sans-serif; font-size: 14px; fill: rgb(42, 63, 95); opacity: 1; white-space: pre;\">group</text></g><g class=\"g-ytitle\"><text class=\"ytitle\" transform=\"rotate(-90,36.709375,260)\" x=\"36.709375\" y=\"260\" text-anchor=\"middle\" style=\"font-family: 'Open Sans', verdana, arial, sans-serif; font-size: 14px; fill: rgb(42, 63, 95); opacity: 1; white-space: pre;\">revenue</text></g></g></svg>"
      ]
     },
     "metadata": {},
     "output_type": "display_data"
    }
   ],
   "source": [
    "#Para ver la compra promedio total para cada grupo:\n",
    "plot_data3= orders.groupby('group')['revenue'].mean().reset_index().round(2)\n",
    "#plot_data3\n",
    "fig5b = px.bar(orders.groupby('group')['revenue'].mean().reset_index().round(2), x='group', y='revenue', \n",
    "                 title='Tamaño de Pedido Promedio Acumulado Para Cada Grupo al Final de la Prueba ',\n",
    "                 #labels= {'revenue': ''},\n",
    "                 text='revenue'\n",
    "                 )\n",
    "fig5b.show()"
   ]
  },
  {
   "cell_type": "markdown",
   "metadata": {},
   "source": [
    "**Gráfico 5b.** Muestra tamaño de pedido promedio acumulado para grupo al final de la prueba.\n",
    "- Podemos observar que el el tamaño de pedido promedio acumulado del grupo B es un 27,83% más grande que el del grupo A.  \n",
    "- Si bien el grupo B tiene una mayor cantidad de usuarios, su ingreso acumulado más alto (en comparación con el grupo A) también está explicado por la diferencia en el tamaño de pedido promedio.  "
   ]
  },
  {
   "cell_type": "markdown",
   "metadata": {},
   "source": [
    "### 3. Representa gráficamente la diferencia relativa en el tamaño de pedido promedio acumulado para el grupo B en comparación con el grupo A. Haz conclusiones y conjeturas."
   ]
  },
  {
   "cell_type": "markdown",
   "metadata": {},
   "source": [
    "Vamos a trazar un gráfico de diferencia relativa para los tamaños promedio de compra.\n",
    "- Agregaremos un eje horizontal"
   ]
  },
  {
   "cell_type": "code",
   "execution_count": 53,
   "metadata": {},
   "outputs": [
    {
     "data": {
      "image/svg+xml": [
       "<svg class=\"main-svg\" xmlns=\"http://www.w3.org/2000/svg\" xmlns:xlink=\"http://www.w3.org/1999/xlink\" width=\"700\" height=\"500\" style=\"\" viewBox=\"0 0 700 500\"><rect x=\"0\" y=\"0\" width=\"700\" height=\"500\" style=\"fill: rgb(255, 255, 255); fill-opacity: 1;\"/><defs id=\"defs-21da84\"><g class=\"clips\"><clipPath id=\"clip21da84xyplot\" class=\"plotclip\"><rect width=\"540\" height=\"320\"/></clipPath><clipPath class=\"axesclip\" id=\"clip21da84x\"><rect x=\"80\" y=\"0\" width=\"540\" height=\"500\"/></clipPath><clipPath class=\"axesclip\" id=\"clip21da84y\"><rect x=\"0\" y=\"100\" width=\"700\" height=\"320\"/></clipPath><clipPath class=\"axesclip\" id=\"clip21da84xy\"><rect x=\"80\" y=\"100\" width=\"540\" height=\"320\"/></clipPath></g><g class=\"gradients\"/><g class=\"patterns\"/></defs><g class=\"bglayer\"><rect class=\"bg\" x=\"80\" y=\"100\" width=\"540\" height=\"320\" style=\"fill: rgb(229, 236, 246); fill-opacity: 1; stroke-width: 0;\"/></g><g class=\"layer-below\"><g class=\"imagelayer\"/><g class=\"shapelayer\"/></g><g class=\"cartesianlayer\"><g class=\"subplot xy\"><g class=\"layer-subplot\"><g class=\"shapelayer\"/><g class=\"imagelayer\"/></g><g class=\"minor-gridlayer\"><g class=\"x\"/><g class=\"y\"/></g><g class=\"gridlayer\"><g class=\"x\"><path class=\"xgrid crisp\" transform=\"translate(158.6,0)\" d=\"M0,100v320\" style=\"stroke: rgb(255, 255, 255); stroke-opacity: 1; stroke-width: 1px;\"/><path class=\"xgrid crisp\" transform=\"translate(270.25,0)\" d=\"M0,100v320\" style=\"stroke: rgb(255, 255, 255); stroke-opacity: 1; stroke-width: 1px;\"/><path class=\"xgrid crisp\" transform=\"translate(381.9,0)\" d=\"M0,100v320\" style=\"stroke: rgb(255, 255, 255); stroke-opacity: 1; stroke-width: 1px;\"/><path class=\"xgrid crisp\" transform=\"translate(493.55,0)\" d=\"M0,100v320\" style=\"stroke: rgb(255, 255, 255); stroke-opacity: 1; stroke-width: 1px;\"/><path class=\"xgrid crisp\" transform=\"translate(605.2,0)\" d=\"M0,100v320\" style=\"stroke: rgb(255, 255, 255); stroke-opacity: 1; stroke-width: 1px;\"/></g><g class=\"y\"><path class=\"ygrid crisp\" transform=\"translate(0,393.4)\" d=\"M80,0h540\" style=\"stroke: rgb(255, 255, 255); stroke-opacity: 1; stroke-width: 1px;\"/><path class=\"ygrid crisp\" transform=\"translate(0,332.95)\" d=\"M80,0h540\" style=\"stroke: rgb(255, 255, 255); stroke-opacity: 1; stroke-width: 1px;\"/><path class=\"ygrid crisp\" transform=\"translate(0,212.05)\" d=\"M80,0h540\" style=\"stroke: rgb(255, 255, 255); stroke-opacity: 1; stroke-width: 1px;\"/><path class=\"ygrid crisp\" transform=\"translate(0,151.61)\" d=\"M80,0h540\" style=\"stroke: rgb(255, 255, 255); stroke-opacity: 1; stroke-width: 1px;\"/></g></g><g class=\"zerolinelayer\"><path class=\"yzl zl crisp\" transform=\"translate(0,272.5)\" d=\"M80,0h540\" style=\"stroke: rgb(255, 255, 255); stroke-opacity: 1; stroke-width: 2px;\"/></g><g class=\"layer-between\"><g class=\"shapelayer\"/><g class=\"imagelayer\"/></g><path class=\"xlines-below\"/><path class=\"ylines-below\"/><g class=\"overlines-below\"/><g class=\"xaxislayer-below\"/><g class=\"yaxislayer-below\"/><g class=\"overaxes-below\"/><g class=\"plot\" transform=\"translate(80,100)\" clip-path=\"url(#clip21da84xyplot)\"><g class=\"scatterlayer mlayer\"><g class=\"trace scatter tracef94b1f\" style=\"stroke-miterlimit: 2; opacity: 1;\"><g class=\"fills\"/><g class=\"errorbars\"/><g class=\"lines\"><path class=\"js-line\" d=\"M30.75,300.25L46.7,174.35L62.65,168.12L78.6,137.29L94.55,140.12L110.5,68.23L126.45,65.43L142.4,75.25L158.35,117.58L174.3,151.15L190.25,155.17L206.2,184L222.15,216.45L238.1,200.52L254.05,180.94L270,178.03L285.95,177.94L301.9,175.03L317.85,19.75L349.75,29.4L365.7,41.53L381.65,33.04L397.6,43.85L413.55,47.14L429.5,58.04L445.45,61.19L461.4,72.86L477.35,84.94L493.3,85.41L509.25,88.38\" style=\"vector-effect: none; fill: none; stroke: rgb(99, 110, 250); stroke-opacity: 1; stroke-width: 2px; opacity: 1;\"/></g><g class=\"points\"><path class=\"point\" transform=\"translate(30.75,300.25)\" d=\"M3,0A3,3 0 1,1 0,-3A3,3 0 0,1 3,0Z\" style=\"opacity: 1; stroke-width: 0px; fill: rgb(99, 110, 250); fill-opacity: 1;\"/><path class=\"point\" transform=\"translate(46.7,174.35)\" d=\"M3,0A3,3 0 1,1 0,-3A3,3 0 0,1 3,0Z\" style=\"opacity: 1; stroke-width: 0px; fill: rgb(99, 110, 250); fill-opacity: 1;\"/><path class=\"point\" transform=\"translate(62.65,168.12)\" d=\"M3,0A3,3 0 1,1 0,-3A3,3 0 0,1 3,0Z\" style=\"opacity: 1; stroke-width: 0px; fill: rgb(99, 110, 250); fill-opacity: 1;\"/><path class=\"point\" transform=\"translate(78.6,137.29)\" d=\"M3,0A3,3 0 1,1 0,-3A3,3 0 0,1 3,0Z\" style=\"opacity: 1; stroke-width: 0px; fill: rgb(99, 110, 250); fill-opacity: 1;\"/><path class=\"point\" transform=\"translate(94.55,140.12)\" d=\"M3,0A3,3 0 1,1 0,-3A3,3 0 0,1 3,0Z\" style=\"opacity: 1; stroke-width: 0px; fill: rgb(99, 110, 250); fill-opacity: 1;\"/><path class=\"point\" transform=\"translate(110.5,68.23)\" d=\"M3,0A3,3 0 1,1 0,-3A3,3 0 0,1 3,0Z\" style=\"opacity: 1; stroke-width: 0px; fill: rgb(99, 110, 250); fill-opacity: 1;\"/><path class=\"point\" transform=\"translate(126.45,65.43)\" d=\"M3,0A3,3 0 1,1 0,-3A3,3 0 0,1 3,0Z\" style=\"opacity: 1; stroke-width: 0px; fill: rgb(99, 110, 250); fill-opacity: 1;\"/><path class=\"point\" transform=\"translate(142.4,75.25)\" d=\"M3,0A3,3 0 1,1 0,-3A3,3 0 0,1 3,0Z\" style=\"opacity: 1; stroke-width: 0px; fill: rgb(99, 110, 250); fill-opacity: 1;\"/><path class=\"point\" transform=\"translate(158.35,117.58)\" d=\"M3,0A3,3 0 1,1 0,-3A3,3 0 0,1 3,0Z\" style=\"opacity: 1; stroke-width: 0px; fill: rgb(99, 110, 250); fill-opacity: 1;\"/><path class=\"point\" transform=\"translate(174.3,151.15)\" d=\"M3,0A3,3 0 1,1 0,-3A3,3 0 0,1 3,0Z\" style=\"opacity: 1; stroke-width: 0px; fill: rgb(99, 110, 250); fill-opacity: 1;\"/><path class=\"point\" transform=\"translate(190.25,155.17)\" d=\"M3,0A3,3 0 1,1 0,-3A3,3 0 0,1 3,0Z\" style=\"opacity: 1; stroke-width: 0px; fill: rgb(99, 110, 250); fill-opacity: 1;\"/><path class=\"point\" transform=\"translate(206.2,184)\" d=\"M3,0A3,3 0 1,1 0,-3A3,3 0 0,1 3,0Z\" style=\"opacity: 1; stroke-width: 0px; fill: rgb(99, 110, 250); fill-opacity: 1;\"/><path class=\"point\" transform=\"translate(222.15,216.45)\" d=\"M3,0A3,3 0 1,1 0,-3A3,3 0 0,1 3,0Z\" style=\"opacity: 1; stroke-width: 0px; fill: rgb(99, 110, 250); fill-opacity: 1;\"/><path class=\"point\" transform=\"translate(238.1,200.52)\" d=\"M3,0A3,3 0 1,1 0,-3A3,3 0 0,1 3,0Z\" style=\"opacity: 1; stroke-width: 0px; fill: rgb(99, 110, 250); fill-opacity: 1;\"/><path class=\"point\" transform=\"translate(254.05,180.94)\" d=\"M3,0A3,3 0 1,1 0,-3A3,3 0 0,1 3,0Z\" style=\"opacity: 1; stroke-width: 0px; fill: rgb(99, 110, 250); fill-opacity: 1;\"/><path class=\"point\" transform=\"translate(270,178.03)\" d=\"M3,0A3,3 0 1,1 0,-3A3,3 0 0,1 3,0Z\" style=\"opacity: 1; stroke-width: 0px; fill: rgb(99, 110, 250); fill-opacity: 1;\"/><path class=\"point\" transform=\"translate(285.95,177.94)\" d=\"M3,0A3,3 0 1,1 0,-3A3,3 0 0,1 3,0Z\" style=\"opacity: 1; stroke-width: 0px; fill: rgb(99, 110, 250); fill-opacity: 1;\"/><path class=\"point\" transform=\"translate(301.9,175.03)\" d=\"M3,0A3,3 0 1,1 0,-3A3,3 0 0,1 3,0Z\" style=\"opacity: 1; stroke-width: 0px; fill: rgb(99, 110, 250); fill-opacity: 1;\"/><path class=\"point\" transform=\"translate(317.85,19.75)\" d=\"M3,0A3,3 0 1,1 0,-3A3,3 0 0,1 3,0Z\" style=\"opacity: 1; stroke-width: 0px; fill: rgb(99, 110, 250); fill-opacity: 1;\"/><path class=\"point\" transform=\"translate(333.8,24.87)\" d=\"M3,0A3,3 0 1,1 0,-3A3,3 0 0,1 3,0Z\" style=\"opacity: 1; stroke-width: 0px; fill: rgb(99, 110, 250); fill-opacity: 1;\"/><path class=\"point\" transform=\"translate(349.75,29.4)\" d=\"M3,0A3,3 0 1,1 0,-3A3,3 0 0,1 3,0Z\" style=\"opacity: 1; stroke-width: 0px; fill: rgb(99, 110, 250); fill-opacity: 1;\"/><path class=\"point\" transform=\"translate(365.7,41.53)\" d=\"M3,0A3,3 0 1,1 0,-3A3,3 0 0,1 3,0Z\" style=\"opacity: 1; stroke-width: 0px; fill: rgb(99, 110, 250); fill-opacity: 1;\"/><path class=\"point\" transform=\"translate(381.65,33.04)\" d=\"M3,0A3,3 0 1,1 0,-3A3,3 0 0,1 3,0Z\" style=\"opacity: 1; stroke-width: 0px; fill: rgb(99, 110, 250); fill-opacity: 1;\"/><path class=\"point\" transform=\"translate(397.6,43.85)\" d=\"M3,0A3,3 0 1,1 0,-3A3,3 0 0,1 3,0Z\" style=\"opacity: 1; stroke-width: 0px; fill: rgb(99, 110, 250); fill-opacity: 1;\"/><path class=\"point\" transform=\"translate(413.55,47.14)\" d=\"M3,0A3,3 0 1,1 0,-3A3,3 0 0,1 3,0Z\" style=\"opacity: 1; stroke-width: 0px; fill: rgb(99, 110, 250); fill-opacity: 1;\"/><path class=\"point\" transform=\"translate(429.5,58.04)\" d=\"M3,0A3,3 0 1,1 0,-3A3,3 0 0,1 3,0Z\" style=\"opacity: 1; stroke-width: 0px; fill: rgb(99, 110, 250); fill-opacity: 1;\"/><path class=\"point\" transform=\"translate(445.45,61.19)\" d=\"M3,0A3,3 0 1,1 0,-3A3,3 0 0,1 3,0Z\" style=\"opacity: 1; stroke-width: 0px; fill: rgb(99, 110, 250); fill-opacity: 1;\"/><path class=\"point\" transform=\"translate(461.4,72.86)\" d=\"M3,0A3,3 0 1,1 0,-3A3,3 0 0,1 3,0Z\" style=\"opacity: 1; stroke-width: 0px; fill: rgb(99, 110, 250); fill-opacity: 1;\"/><path class=\"point\" transform=\"translate(477.35,84.94)\" d=\"M3,0A3,3 0 1,1 0,-3A3,3 0 0,1 3,0Z\" style=\"opacity: 1; stroke-width: 0px; fill: rgb(99, 110, 250); fill-opacity: 1;\"/><path class=\"point\" transform=\"translate(493.3,85.41)\" d=\"M3,0A3,3 0 1,1 0,-3A3,3 0 0,1 3,0Z\" style=\"opacity: 1; stroke-width: 0px; fill: rgb(99, 110, 250); fill-opacity: 1;\"/><path class=\"point\" transform=\"translate(509.25,88.38)\" d=\"M3,0A3,3 0 1,1 0,-3A3,3 0 0,1 3,0Z\" style=\"opacity: 1; stroke-width: 0px; fill: rgb(99, 110, 250); fill-opacity: 1;\"/></g><g class=\"text\"/></g></g></g><g class=\"overplot\"/><path class=\"xlines-above crisp\" d=\"M0,0\" style=\"fill: none;\"/><path class=\"ylines-above crisp\" d=\"M0,0\" style=\"fill: none;\"/><g class=\"overlines-above\"/><g class=\"xaxislayer-above\"><g class=\"xtick\"><text text-anchor=\"middle\" x=\"0\" y=\"433\" transform=\"translate(158.6,0)\" style=\"font-family: 'Open Sans', verdana, arial, sans-serif; font-size: 12px; fill: rgb(42, 63, 95); fill-opacity: 1; white-space: pre; opacity: 1;\"><tspan class=\"line\" dy=\"0em\" x=\"0\" y=\"433\">Aug 4</tspan><tspan class=\"line\" dy=\"1.3em\" x=\"0\" y=\"433\">2019</tspan></text></g><g class=\"xtick\"><text text-anchor=\"middle\" x=\"0\" y=\"433\" style=\"font-family: 'Open Sans', verdana, arial, sans-serif; font-size: 12px; fill: rgb(42, 63, 95); fill-opacity: 1; white-space: pre; opacity: 1;\" transform=\"translate(270.25,0)\">Aug 11</text></g><g class=\"xtick\"><text text-anchor=\"middle\" x=\"0\" y=\"433\" style=\"font-family: 'Open Sans', verdana, arial, sans-serif; font-size: 12px; fill: rgb(42, 63, 95); fill-opacity: 1; white-space: pre; opacity: 1;\" transform=\"translate(381.9,0)\">Aug 18</text></g><g class=\"xtick\"><text text-anchor=\"middle\" x=\"0\" y=\"433\" style=\"font-family: 'Open Sans', verdana, arial, sans-serif; font-size: 12px; fill: rgb(42, 63, 95); fill-opacity: 1; white-space: pre; opacity: 1;\" transform=\"translate(493.55,0)\">Aug 25</text></g><g class=\"xtick\"><text text-anchor=\"middle\" x=\"0\" y=\"433\" style=\"font-family: 'Open Sans', verdana, arial, sans-serif; font-size: 12px; fill: rgb(42, 63, 95); fill-opacity: 1; white-space: pre; opacity: 1;\" transform=\"translate(605.2,0)\">Sep 1</text></g></g><g class=\"yaxislayer-above\"><g class=\"ytick\"><text text-anchor=\"end\" x=\"79\" y=\"4.199999999999999\" transform=\"translate(0,393.4)\" style=\"font-family: 'Open Sans', verdana, arial, sans-serif; font-size: 12px; fill: rgb(42, 63, 95); fill-opacity: 1; white-space: pre; opacity: 1;\">−0.4</text></g><g class=\"ytick\"><text text-anchor=\"end\" x=\"79\" y=\"4.199999999999999\" style=\"font-family: 'Open Sans', verdana, arial, sans-serif; font-size: 12px; fill: rgb(42, 63, 95); fill-opacity: 1; white-space: pre; opacity: 1;\" transform=\"translate(0,332.95)\">−0.2</text></g><g class=\"ytick\"><text text-anchor=\"end\" x=\"79\" y=\"4.199999999999999\" style=\"font-family: 'Open Sans', verdana, arial, sans-serif; font-size: 12px; fill: rgb(42, 63, 95); fill-opacity: 1; white-space: pre; opacity: 1;\" transform=\"translate(0,272.5)\">0</text></g><g class=\"ytick\"><text text-anchor=\"end\" x=\"79\" y=\"4.199999999999999\" style=\"font-family: 'Open Sans', verdana, arial, sans-serif; font-size: 12px; fill: rgb(42, 63, 95); fill-opacity: 1; white-space: pre; opacity: 1;\" transform=\"translate(0,212.05)\">0.2</text></g><g class=\"ytick\"><text text-anchor=\"end\" x=\"79\" y=\"4.199999999999999\" style=\"font-family: 'Open Sans', verdana, arial, sans-serif; font-size: 12px; fill: rgb(42, 63, 95); fill-opacity: 1; white-space: pre; opacity: 1;\" transform=\"translate(0,151.61)\">0.4</text></g></g><g class=\"overaxes-above\"/></g></g><g class=\"polarlayer\"/><g class=\"smithlayer\"/><g class=\"ternarylayer\"/><g class=\"geolayer\"/><g class=\"funnelarealayer\"/><g class=\"pielayer\"/><g class=\"iciclelayer\"/><g class=\"treemaplayer\"/><g class=\"sunburstlayer\"/><g class=\"glimages\"/><defs id=\"topdefs-21da84\"><g class=\"clips\"/></defs><g class=\"layer-above\"><g class=\"imagelayer\"/><g class=\"shapelayer\"><g class=\"shape-group\" data-index=\"0\" clip-path=\"url(#clip21da84y)\"><path data-index=\"0\" fill-rule=\"evenodd\" d=\"M80,272.5L620,272.5\" style=\"opacity: 1; stroke: rgb(0, 0, 0); stroke-opacity: 1; fill: rgb(0, 0, 0); fill-opacity: 0; stroke-dasharray: 9px, 9px; stroke-width: 2px;\"/></g></g></g><g class=\"infolayer\"><g class=\"g-gtitle\"><text class=\"gtitle\" x=\"35\" y=\"50\" text-anchor=\"start\" dy=\"0em\" style=\"font-family: 'Open Sans', verdana, arial, sans-serif; font-size: 17px; fill: rgb(42, 63, 95); opacity: 1; white-space: pre;\">Diferencia Relativa en el Tamaño de Pedido Promedio Acumulado</text></g><g class=\"g-xtitle\"><text class=\"xtitle\" x=\"350\" y=\"475.909375\" text-anchor=\"middle\" style=\"font-family: 'Open Sans', verdana, arial, sans-serif; font-size: 14px; fill: rgb(42, 63, 95); opacity: 1; white-space: pre;\">Date</text></g><g class=\"g-ytitle\"><text class=\"ytitle\" transform=\"rotate(-90,30.146875,260)\" x=\"30.146875\" y=\"260\" text-anchor=\"middle\" style=\"font-family: 'Open Sans', verdana, arial, sans-serif; font-size: 14px; fill: rgb(42, 63, 95); opacity: 1; white-space: pre;\">Diferencia Relativa (%)</text></g></g></svg>"
      ]
     },
     "metadata": {},
     "output_type": "display_data"
    }
   ],
   "source": [
    "#Reunir los datos en un DataFrame:\n",
    "merged_cumulative_revenue= cumulative_revenue_A.merge(cumulative_revenue_B, left_on='date', right_on='date', how='left', suffixes=['A', 'B'])\n",
    "#merged_cumulative_revenue\n",
    "\n",
    "#Trazar un gráfico de diferencia relativa para los tamaños de compra promedio:\n",
    "y= (merged_cumulative_revenue['revenueB'] / merged_cumulative_revenue['ordersB']) / (\n",
    "    merged_cumulative_revenue['revenueA'] / merged_cumulative_revenue['ordersA']) -1\n",
    "\n",
    "fig6=px.line(x=merged_cumulative_revenue['date'], y=y, markers=True,\n",
    "            title='Diferencia Relativa en el Tamaño de Pedido Promedio Acumulado',\n",
    "            labels=dict(x='Date', y='Diferencia Relativa (%)'))\n",
    "fig6.add_hline(y=0, line_dash='dash', line_color='black')\n",
    "fig6.show()"
   ]
  },
  {
   "cell_type": "markdown",
   "metadata": {},
   "source": [
    "**Gráfico 6.** Muestra la diferencia relativa en el tamaño de pedido promedio acumulado para el grupo B en comparación con el grupo A.\n",
    "- Podemos observar bastante volatilidad en cuanto a la diferencia relativa.\n",
    "- En varios puntos., la diferencia entre los segmentos aumenta.\n",
    "- El grafico sugiere la existencia de pedidos grandes y valores atípicos."
   ]
  },
  {
   "cell_type": "markdown",
   "metadata": {},
   "source": [
    "### 4. Calcula la tasa de conversión de cada grupo como la relación entre los pedidos y el número de visitas de cada día. Representa gráficamente las tasas de conversión diarias de los dos grupos y describe la diferencia. Saca conclusiones y haz conjeturas."
   ]
  },
  {
   "cell_type": "code",
   "execution_count": 54,
   "metadata": {},
   "outputs": [
    {
     "data": {
      "image/svg+xml": [
       "<svg class=\"main-svg\" xmlns=\"http://www.w3.org/2000/svg\" xmlns:xlink=\"http://www.w3.org/1999/xlink\" width=\"700\" height=\"500\" style=\"\" viewBox=\"0 0 700 500\"><rect x=\"0\" y=\"0\" width=\"700\" height=\"500\" style=\"fill: rgb(255, 255, 255); fill-opacity: 1;\"/><defs id=\"defs-8f893b\"><g class=\"clips\"><clipPath id=\"clip8f893bxyplot\" class=\"plotclip\"><rect width=\"503\" height=\"320\"/></clipPath><clipPath class=\"axesclip\" id=\"clip8f893bx\"><rect x=\"80\" y=\"0\" width=\"503\" height=\"500\"/></clipPath><clipPath class=\"axesclip\" id=\"clip8f893by\"><rect x=\"0\" y=\"100\" width=\"700\" height=\"320\"/></clipPath><clipPath class=\"axesclip\" id=\"clip8f893bxy\"><rect x=\"80\" y=\"100\" width=\"503\" height=\"320\"/></clipPath></g><g class=\"gradients\"/><g class=\"patterns\"/></defs><g class=\"bglayer\"><rect class=\"bg\" x=\"80\" y=\"100\" width=\"503\" height=\"320\" style=\"fill: rgb(229, 236, 246); fill-opacity: 1; stroke-width: 0;\"/></g><g class=\"layer-below\"><g class=\"imagelayer\"/><g class=\"shapelayer\"/></g><g class=\"cartesianlayer\"><g class=\"subplot xy\"><g class=\"layer-subplot\"><g class=\"shapelayer\"/><g class=\"imagelayer\"/></g><g class=\"minor-gridlayer\"><g class=\"x\"/><g class=\"y\"/></g><g class=\"gridlayer\"><g class=\"x\"><path class=\"xgrid crisp\" transform=\"translate(130.3,0)\" d=\"M0,100v320\" style=\"stroke: rgb(255, 255, 255); stroke-opacity: 1; stroke-width: 1px;\"/><path class=\"xgrid crisp\" transform=\"translate(247.67,0)\" d=\"M0,100v320\" style=\"stroke: rgb(255, 255, 255); stroke-opacity: 1; stroke-width: 1px;\"/><path class=\"xgrid crisp\" transform=\"translate(365.03,0)\" d=\"M0,100v320\" style=\"stroke: rgb(255, 255, 255); stroke-opacity: 1; stroke-width: 1px;\"/><path class=\"xgrid crisp\" transform=\"translate(482.4,0)\" d=\"M0,100v320\" style=\"stroke: rgb(255, 255, 255); stroke-opacity: 1; stroke-width: 1px;\"/></g><g class=\"y\"><path class=\"ygrid crisp\" transform=\"translate(0,400.21)\" d=\"M80,0h503\" style=\"stroke: rgb(255, 255, 255); stroke-opacity: 1; stroke-width: 1px;\"/><path class=\"ygrid crisp\" transform=\"translate(0,351.91999999999996)\" d=\"M80,0h503\" style=\"stroke: rgb(255, 255, 255); stroke-opacity: 1; stroke-width: 1px;\"/><path class=\"ygrid crisp\" transform=\"translate(0,303.64)\" d=\"M80,0h503\" style=\"stroke: rgb(255, 255, 255); stroke-opacity: 1; stroke-width: 1px;\"/><path class=\"ygrid crisp\" transform=\"translate(0,255.36)\" d=\"M80,0h503\" style=\"stroke: rgb(255, 255, 255); stroke-opacity: 1; stroke-width: 1px;\"/><path class=\"ygrid crisp\" transform=\"translate(0,207.07)\" d=\"M80,0h503\" style=\"stroke: rgb(255, 255, 255); stroke-opacity: 1; stroke-width: 1px;\"/><path class=\"ygrid crisp\" transform=\"translate(0,158.79)\" d=\"M80,0h503\" style=\"stroke: rgb(255, 255, 255); stroke-opacity: 1; stroke-width: 1px;\"/><path class=\"ygrid crisp\" transform=\"translate(0,110.5)\" d=\"M80,0h503\" style=\"stroke: rgb(255, 255, 255); stroke-opacity: 1; stroke-width: 1px;\"/></g></g><g class=\"zerolinelayer\"/><g class=\"layer-between\"><g class=\"shapelayer\"/><g class=\"imagelayer\"/></g><path class=\"xlines-below\"/><path class=\"ylines-below\"/><g class=\"overlines-below\"/><g class=\"xaxislayer-below\"/><g class=\"yaxislayer-below\"/><g class=\"overaxes-below\"/><g class=\"plot\" transform=\"translate(80,100)\" clip-path=\"url(#clip8f893bxyplot)\"><g class=\"scatterlayer mlayer\"><g class=\"trace scatter tracea01da1\" style=\"stroke-miterlimit: 2; opacity: 1;\"><g class=\"fills\"/><g class=\"errorbars\"/><g class=\"lines\"><path class=\"js-line\" d=\"M0,107.34L16.77,121.8L33.53,16L50.3,154.04L67.07,159.29L83.83,188.98L100.6,201.62L117.37,216.04L134.13,240.61L150.9,224.21L167.67,253.58L184.43,242.2L201.2,258.88L217.97,263.94L234.73,278.93L251.5,257.26L268.27,267.93L285.03,276.45L301.8,258.89L318.57,268.35L335.33,261.51L352.1,271.54L368.87,257.3L385.63,252.55L402.4,265.69L419.17,269.32L435.93,261.91L452.7,262.2L469.47,259.11L486.23,263.92L503,276.58\" style=\"vector-effect: none; fill: none; stroke: rgb(99, 110, 250); stroke-opacity: 1; stroke-width: 2px; opacity: 1;\"/></g><g class=\"points\"/><g class=\"text\"/></g><g class=\"trace scatter trace320b25\" style=\"stroke-miterlimit: 2; opacity: 1;\"><g class=\"fills\"/><g class=\"errorbars\"/><g class=\"lines\"><path class=\"js-line\" d=\"M0,304L16.77,133.34L33.53,156.56L50.3,241.58L67.07,224.54L83.83,192.47L100.6,177.81L117.37,164.2L134.13,160.42L150.9,118.09L167.67,155.15L184.43,146.49L201.2,156.23L217.97,178.5L234.73,152.84L251.5,139.42L268.27,139.21L285.03,172.93L301.8,158.96L318.57,152.47L335.33,167.02L352.1,163.78L368.87,169.25L385.63,164.45L402.4,177.4L419.17,173.83L435.93,188.51L452.7,183.9L469.47,184.31L486.23,175.18L503,180.22\" style=\"vector-effect: none; fill: none; stroke: rgb(239, 85, 59); stroke-opacity: 1; stroke-width: 2px; opacity: 1;\"/></g><g class=\"points\"/><g class=\"text\"/></g></g></g><g class=\"overplot\"/><path class=\"xlines-above crisp\" d=\"M0,0\" style=\"fill: none;\"/><path class=\"ylines-above crisp\" d=\"M0,0\" style=\"fill: none;\"/><g class=\"overlines-above\"/><g class=\"xaxislayer-above\"><g class=\"xtick\"><text text-anchor=\"middle\" x=\"0\" y=\"433\" transform=\"translate(130.3,0)\" style=\"font-family: 'Open Sans', verdana, arial, sans-serif; font-size: 12px; fill: rgb(42, 63, 95); fill-opacity: 1; white-space: pre; opacity: 1;\"><tspan class=\"line\" dy=\"0em\" x=\"0\" y=\"433\">Aug 4</tspan><tspan class=\"line\" dy=\"1.3em\" x=\"0\" y=\"433\">2019</tspan></text></g><g class=\"xtick\"><text text-anchor=\"middle\" x=\"0\" y=\"433\" style=\"font-family: 'Open Sans', verdana, arial, sans-serif; font-size: 12px; fill: rgb(42, 63, 95); fill-opacity: 1; white-space: pre; opacity: 1;\" transform=\"translate(247.67,0)\">Aug 11</text></g><g class=\"xtick\"><text text-anchor=\"middle\" x=\"0\" y=\"433\" style=\"font-family: 'Open Sans', verdana, arial, sans-serif; font-size: 12px; fill: rgb(42, 63, 95); fill-opacity: 1; white-space: pre; opacity: 1;\" transform=\"translate(365.03,0)\">Aug 18</text></g><g class=\"xtick\"><text text-anchor=\"middle\" x=\"0\" y=\"433\" style=\"font-family: 'Open Sans', verdana, arial, sans-serif; font-size: 12px; fill: rgb(42, 63, 95); fill-opacity: 1; white-space: pre; opacity: 1;\" transform=\"translate(482.4,0)\">Aug 25</text></g></g><g class=\"yaxislayer-above\"><g class=\"ytick\"><text text-anchor=\"end\" x=\"79\" y=\"4.199999999999999\" transform=\"translate(0,400.21)\" style=\"font-family: 'Open Sans', verdana, arial, sans-serif; font-size: 12px; fill: rgb(42, 63, 95); fill-opacity: 1; white-space: pre; opacity: 1;\">0.024</text></g><g class=\"ytick\"><text text-anchor=\"end\" x=\"79\" y=\"4.199999999999999\" style=\"font-family: 'Open Sans', verdana, arial, sans-serif; font-size: 12px; fill: rgb(42, 63, 95); fill-opacity: 1; white-space: pre; opacity: 1;\" transform=\"translate(0,351.91999999999996)\">0.026</text></g><g class=\"ytick\"><text text-anchor=\"end\" x=\"79\" y=\"4.199999999999999\" style=\"font-family: 'Open Sans', verdana, arial, sans-serif; font-size: 12px; fill: rgb(42, 63, 95); fill-opacity: 1; white-space: pre; opacity: 1;\" transform=\"translate(0,303.64)\">0.028</text></g><g class=\"ytick\"><text text-anchor=\"end\" x=\"79\" y=\"4.199999999999999\" style=\"font-family: 'Open Sans', verdana, arial, sans-serif; font-size: 12px; fill: rgb(42, 63, 95); fill-opacity: 1; white-space: pre; opacity: 1;\" transform=\"translate(0,255.36)\">0.03</text></g><g class=\"ytick\"><text text-anchor=\"end\" x=\"79\" y=\"4.199999999999999\" style=\"font-family: 'Open Sans', verdana, arial, sans-serif; font-size: 12px; fill: rgb(42, 63, 95); fill-opacity: 1; white-space: pre; opacity: 1;\" transform=\"translate(0,207.07)\">0.032</text></g><g class=\"ytick\"><text text-anchor=\"end\" x=\"79\" y=\"4.199999999999999\" style=\"font-family: 'Open Sans', verdana, arial, sans-serif; font-size: 12px; fill: rgb(42, 63, 95); fill-opacity: 1; white-space: pre; opacity: 1;\" transform=\"translate(0,158.79)\">0.034</text></g><g class=\"ytick\"><text text-anchor=\"end\" x=\"79\" y=\"4.199999999999999\" style=\"font-family: 'Open Sans', verdana, arial, sans-serif; font-size: 12px; fill: rgb(42, 63, 95); fill-opacity: 1; white-space: pre; opacity: 1;\" transform=\"translate(0,110.5)\">0.036</text></g></g><g class=\"overaxes-above\"/></g></g><g class=\"polarlayer\"/><g class=\"smithlayer\"/><g class=\"ternarylayer\"/><g class=\"geolayer\"/><g class=\"funnelarealayer\"/><g class=\"pielayer\"/><g class=\"iciclelayer\"/><g class=\"treemaplayer\"/><g class=\"sunburstlayer\"/><g class=\"glimages\"/><defs id=\"topdefs-8f893b\"><g class=\"clips\"/><clipPath id=\"legend8f893b\"><rect width=\"95\" height=\"48\" x=\"0\" y=\"0\"/></clipPath></defs><g class=\"layer-above\"><g class=\"imagelayer\"/><g class=\"shapelayer\"><g class=\"shape-group\" data-index=\"0\" clip-path=\"url(#clip8f893by)\"><path data-index=\"0\" fill-rule=\"evenodd\" d=\"M80,301.78999999999996L583,301.78999999999996\" style=\"opacity: 1; stroke: rgb(128, 128, 128); stroke-opacity: 1; fill: rgb(0, 0, 0); fill-opacity: 0; stroke-dasharray: 9px, 9px; stroke-width: 1px;\"/></g></g></g><g class=\"infolayer\"><g class=\"legend\" pointer-events=\"all\" transform=\"translate(593.0600000000001,100)\"><rect class=\"bg\" shape-rendering=\"crispEdges\" width=\"95\" height=\"48\" x=\"0\" y=\"0\" style=\"stroke: rgb(68, 68, 68); stroke-opacity: 1; fill: rgb(255, 255, 255); fill-opacity: 1; stroke-width: 0px;\"/><g class=\"scrollbox\" transform=\"\" clip-path=\"url(#legend8f893b)\"><g class=\"groups\"><g class=\"traces\" transform=\"translate(0,14.5)\" style=\"opacity: 1;\"><text class=\"legendtext\" text-anchor=\"start\" x=\"40\" y=\"4.680000000000001\" style=\"font-family: 'Open Sans', verdana, arial, sans-serif; font-size: 12px; fill: rgb(42, 63, 95); fill-opacity: 1; white-space: pre;\">Grupo A</text><g class=\"layers\" style=\"opacity: 1;\"><g class=\"legendfill\"/><g class=\"legendlines\"><path class=\"js-line\" d=\"M5,0h30\" style=\"fill: none; stroke: rgb(99, 110, 250); stroke-opacity: 1; stroke-width: 2px;\"/></g><g class=\"legendsymbols\"><g class=\"legendpoints\"/></g></g><rect class=\"legendtoggle\" x=\"0\" y=\"-9.5\" width=\"90\" height=\"19\" style=\"fill: rgb(0, 0, 0); fill-opacity: 0;\"/></g><g class=\"traces\" transform=\"translate(0,33.5)\" style=\"opacity: 1;\"><text class=\"legendtext\" text-anchor=\"start\" x=\"40\" y=\"4.680000000000001\" style=\"font-family: 'Open Sans', verdana, arial, sans-serif; font-size: 12px; fill: rgb(42, 63, 95); fill-opacity: 1; white-space: pre;\">Grupo B</text><g class=\"layers\" style=\"opacity: 1;\"><g class=\"legendfill\"/><g class=\"legendlines\"><path class=\"js-line\" d=\"M5,0h30\" style=\"fill: none; stroke: rgb(239, 85, 59); stroke-opacity: 1; stroke-width: 2px;\"/></g><g class=\"legendsymbols\"><g class=\"legendpoints\"/></g></g><rect class=\"legendtoggle\" x=\"0\" y=\"-9.5\" width=\"90\" height=\"19\" style=\"fill: rgb(0, 0, 0); fill-opacity: 0;\"/></g></g></g><rect class=\"scrollbar\" rx=\"20\" ry=\"3\" width=\"0\" height=\"0\" x=\"0\" y=\"0\" style=\"fill: rgb(128, 139, 164); fill-opacity: 1;\"/></g><g class=\"g-gtitle\"><text class=\"gtitle\" x=\"35\" y=\"50\" text-anchor=\"start\" dy=\"0em\" style=\"font-family: 'Open Sans', verdana, arial, sans-serif; font-size: 17px; fill: rgb(42, 63, 95); opacity: 1; white-space: pre;\">Tasa de Conversión Acumulada Diaria por Grupo</text></g><g class=\"g-xtitle\"><text class=\"xtitle\" x=\"331.5\" y=\"475.909375\" text-anchor=\"middle\" style=\"font-family: 'Open Sans', verdana, arial, sans-serif; font-size: 14px; fill: rgb(42, 63, 95); opacity: 1; white-space: pre;\">Date</text></g><g class=\"g-ytitle\"><text class=\"ytitle\" transform=\"rotate(-90,24.709375,260)\" x=\"24.709375\" y=\"260\" text-anchor=\"middle\" style=\"font-family: 'Open Sans', verdana, arial, sans-serif; font-size: 14px; fill: rgb(42, 63, 95); opacity: 1; white-space: pre;\">Tasa de Conversión Acumulada (%)</text></g><g class=\"annotation\" data-index=\"0\" style=\"opacity: 1;\"><g class=\"annotation-text-g\" transform=\"rotate(0,595.83,301.78999999999996)\"><g class=\"cursor-pointer\" transform=\"translate(553,292)\"><rect class=\"bg\" x=\"0.5\" y=\"0.5\" width=\"84\" height=\"18\" style=\"stroke-width: 1px; stroke: rgb(0, 0, 0); stroke-opacity: 0; fill: rgb(0, 0, 0); fill-opacity: 0;\"/><text class=\"annotation-text\" text-anchor=\"start\" x=\"2\" y=\"14\" style=\"font-family: 'Open Sans', verdana, arial, sans-serif; font-size: 12px; fill: rgb(42, 63, 95); fill-opacity: 1; white-space: pre;\">Prom=2,81%</text></g></g></g></g></svg>"
      ]
     },
     "metadata": {},
     "output_type": "display_data"
    }
   ],
   "source": [
    "#Calculando la conversión acumulada:\n",
    "cumulative_data['conversion'] = cumulative_data['orders'] / cumulative_data['visitors']\n",
    "##cumulative_data #sale lo mismo que en merge\n",
    "\n",
    "#Seleccionar datos en el grupo A:\n",
    "cumulative_data_A = cumulative_data[cumulative_data['group'] == 'A'] \n",
    "\n",
    "#Seleccionar datos en el grupo B:\n",
    "cumulative_data_B = cumulative_data[cumulative_data['group'] == 'B'] \n",
    "\n",
    "#Trazar gráficos:\n",
    "fig7= go.Figure()\n",
    "fig7.add_trace(go.Scatter(x=cumulative_data_A['date'], y= cumulative_data_A['conversion'],\n",
    "                         mode='lines',\n",
    "                         name='Grupo A'))\n",
    "fig7.add_trace(go.Scatter(x=cumulative_data_B['date'], y= cumulative_data_B['conversion'],\n",
    "                         mode='lines',\n",
    "                         name='Grupo B'))\n",
    "\n",
    "fig7.add_hline(y=cumulative_data['conversion'].mean(), line_width=1, line_dash=\"dash\", line_color=\"grey\")\n",
    "fig7.add_annotation(xref='paper', y=cumulative_data['conversion'].mean(),\n",
    "                    x=1.11,\n",
    "                    text='Prom=2,81%',\n",
    "                    showarrow=False,\n",
    "                    align=\"left\",\n",
    "                   )\n",
    "fig7.update_layout(\n",
    "    title=\"Tasa de Conversión Acumulada Diaria por Grupo\",\n",
    "    yaxis=dict(\n",
    "        title=dict(text=\"Tasa de Conversión Acumulada (%)\"), \n",
    "        \n",
    "    ),\n",
    "    xaxis=dict(\n",
    "        title=dict(text=\"Date\"),\n",
    "    ),\n",
    ")\n",
    "\n",
    "fig7.show()\n"
   ]
  },
  {
   "cell_type": "markdown",
   "metadata": {},
   "source": [
    "**Gráfico 7.** Muestra la Tasa de conversión acumulada  para cada uno de los grupos.\n",
    "- Podemos observar que al inicio de la prueba el grupo A tenía una tasa de conversión más alta que B.\n",
    "- Gradualmente la tasa de conversión del grupo B fue creciendo y la del A perdiendo.\n",
    "- La tasa de conversión acumulada se estabilizó para ambos grupos, manteniendo al grupo B con una tasa de conversión más alta.\n",
    "- Para ambos grupos, la tasa de conversión se ha fijado al rededor de su valor promedio, pero el grupo A muestra una tendecncia a alejarse."
   ]
  },
  {
   "cell_type": "code",
   "execution_count": 55,
   "metadata": {},
   "outputs": [
    {
     "data": {
      "text/plain": [
       "2.8076612168412955"
      ]
     },
     "execution_count": 55,
     "metadata": {},
     "output_type": "execute_result"
    }
   ],
   "source": [
    "cumulative_data['conversion'].mean()*100"
   ]
  },
  {
   "cell_type": "code",
   "execution_count": 56,
   "metadata": {},
   "outputs": [
    {
     "data": {
      "text/plain": [
       "group\n",
       "A    2.687077\n",
       "B    2.928246\n",
       "Name: conversion, dtype: float64"
      ]
     },
     "execution_count": 56,
     "metadata": {},
     "output_type": "execute_result"
    }
   ],
   "source": [
    "cumulative_data.groupby(['group'])['conversion'].mean()*100"
   ]
  },
  {
   "cell_type": "code",
   "execution_count": 57,
   "metadata": {},
   "outputs": [
    {
     "data": {
      "image/svg+xml": [
       "<svg class=\"main-svg\" xmlns=\"http://www.w3.org/2000/svg\" xmlns:xlink=\"http://www.w3.org/1999/xlink\" width=\"700\" height=\"500\" style=\"\" viewBox=\"0 0 700 500\"><rect x=\"0\" y=\"0\" width=\"700\" height=\"500\" style=\"fill: rgb(255, 255, 255); fill-opacity: 1;\"/><defs id=\"defs-68c12c\"><g class=\"clips\"><clipPath id=\"clip68c12cxyplot\" class=\"plotclip\"><rect width=\"540\" height=\"360\"/></clipPath><clipPath class=\"axesclip\" id=\"clip68c12cx\"><rect x=\"80\" y=\"0\" width=\"540\" height=\"500\"/></clipPath><clipPath class=\"axesclip\" id=\"clip68c12cy\"><rect x=\"0\" y=\"60\" width=\"700\" height=\"360\"/></clipPath><clipPath class=\"axesclip\" id=\"clip68c12cxy\"><rect x=\"80\" y=\"60\" width=\"540\" height=\"360\"/></clipPath></g><g class=\"gradients\"/><g class=\"patterns\"/></defs><g class=\"bglayer\"><rect class=\"bg\" x=\"80\" y=\"60\" width=\"540\" height=\"360\" style=\"fill: rgb(229, 236, 246); fill-opacity: 1; stroke-width: 0;\"/></g><g class=\"layer-below\"><g class=\"imagelayer\"/><g class=\"shapelayer\"/></g><g class=\"cartesianlayer\"><g class=\"subplot xy\"><g class=\"layer-subplot\"><g class=\"shapelayer\"/><g class=\"imagelayer\"/></g><g class=\"minor-gridlayer\"><g class=\"x\"/><g class=\"y\"/></g><g class=\"gridlayer\"><g class=\"x\"><path class=\"xgrid crisp\" transform=\"translate(158.6,0)\" d=\"M0,60v360\" style=\"stroke: rgb(255, 255, 255); stroke-opacity: 1; stroke-width: 1px;\"/><path class=\"xgrid crisp\" transform=\"translate(270.25,0)\" d=\"M0,60v360\" style=\"stroke: rgb(255, 255, 255); stroke-opacity: 1; stroke-width: 1px;\"/><path class=\"xgrid crisp\" transform=\"translate(381.9,0)\" d=\"M0,60v360\" style=\"stroke: rgb(255, 255, 255); stroke-opacity: 1; stroke-width: 1px;\"/><path class=\"xgrid crisp\" transform=\"translate(493.55,0)\" d=\"M0,60v360\" style=\"stroke: rgb(255, 255, 255); stroke-opacity: 1; stroke-width: 1px;\"/><path class=\"xgrid crisp\" transform=\"translate(605.2,0)\" d=\"M0,60v360\" style=\"stroke: rgb(255, 255, 255); stroke-opacity: 1; stroke-width: 1px;\"/></g><g class=\"y\"><path class=\"ygrid crisp\" transform=\"translate(0,395.08)\" d=\"M80,0h540\" style=\"stroke: rgb(255, 255, 255); stroke-opacity: 1; stroke-width: 1px;\"/><path class=\"ygrid crisp\" transform=\"translate(0,331.93)\" d=\"M80,0h540\" style=\"stroke: rgb(255, 255, 255); stroke-opacity: 1; stroke-width: 1px;\"/><path class=\"ygrid crisp\" transform=\"translate(0,268.78999999999996)\" d=\"M80,0h540\" style=\"stroke: rgb(255, 255, 255); stroke-opacity: 1; stroke-width: 1px;\"/><path class=\"ygrid crisp\" transform=\"translate(0,205.64)\" d=\"M80,0h540\" style=\"stroke: rgb(255, 255, 255); stroke-opacity: 1; stroke-width: 1px;\"/><path class=\"ygrid crisp\" transform=\"translate(0,142.5)\" d=\"M80,0h540\" style=\"stroke: rgb(255, 255, 255); stroke-opacity: 1; stroke-width: 1px;\"/><path class=\"ygrid crisp\" transform=\"translate(0,79.35)\" d=\"M80,0h540\" style=\"stroke: rgb(255, 255, 255); stroke-opacity: 1; stroke-width: 1px;\"/></g></g><g class=\"zerolinelayer\"/><g class=\"layer-between\"><g class=\"shapelayer\"/><g class=\"imagelayer\"/></g><path class=\"xlines-below\"/><path class=\"ylines-below\"/><g class=\"overlines-below\"/><g class=\"xaxislayer-below\"/><g class=\"yaxislayer-below\"/><g class=\"overaxes-below\"/><g class=\"plot\" transform=\"translate(80,60)\" clip-path=\"url(#clip68c12cxyplot)\"><g class=\"scatterlayer mlayer\"><g class=\"trace scatter tracef07965\" style=\"stroke-miterlimit: 2; opacity: 1;\"><g class=\"fills\"/><g class=\"errorbars\"/><g class=\"lines\"><path class=\"js-line\" d=\"M30.75,196.23L46.7,204.4L62.65,99.31L78.6,301.35L94.55,214.47L110.5,256.22L126.45,241.34L142.4,253.3L158.35,285.65L174.3,164.93L190.25,301.48L206.2,196.59L222.15,280.04L238.1,252.18L254.05,297.68L270,83.37L285.95,306.27L301.9,275.34L317.85,134.07L333.8,288.41L349.75,202.73L365.7,294.54L381.65,128.37L397.6,190.41L413.55,316.88L429.5,258.29L445.45,193.96L461.4,238.77L477.35,212.18L493.3,282.24L509.25,325.96\" style=\"vector-effect: none; fill: none; stroke: rgb(99, 110, 250); stroke-opacity: 1; stroke-width: 2px; opacity: 1;\"/></g><g class=\"points\"><path class=\"point\" transform=\"translate(30.75,196.23)\" d=\"M3,0A3,3 0 1,1 0,-3A3,3 0 0,1 3,0Z\" style=\"opacity: 1; stroke-width: 0px; fill: rgb(99, 110, 250); fill-opacity: 1;\"/><path class=\"point\" transform=\"translate(46.7,204.4)\" d=\"M3,0A3,3 0 1,1 0,-3A3,3 0 0,1 3,0Z\" style=\"opacity: 1; stroke-width: 0px; fill: rgb(99, 110, 250); fill-opacity: 1;\"/><path class=\"point\" transform=\"translate(62.65,99.31)\" d=\"M3,0A3,3 0 1,1 0,-3A3,3 0 0,1 3,0Z\" style=\"opacity: 1; stroke-width: 0px; fill: rgb(99, 110, 250); fill-opacity: 1;\"/><path class=\"point\" transform=\"translate(78.6,301.35)\" d=\"M3,0A3,3 0 1,1 0,-3A3,3 0 0,1 3,0Z\" style=\"opacity: 1; stroke-width: 0px; fill: rgb(99, 110, 250); fill-opacity: 1;\"/><path class=\"point\" transform=\"translate(94.55,214.47)\" d=\"M3,0A3,3 0 1,1 0,-3A3,3 0 0,1 3,0Z\" style=\"opacity: 1; stroke-width: 0px; fill: rgb(99, 110, 250); fill-opacity: 1;\"/><path class=\"point\" transform=\"translate(110.5,256.22)\" d=\"M3,0A3,3 0 1,1 0,-3A3,3 0 0,1 3,0Z\" style=\"opacity: 1; stroke-width: 0px; fill: rgb(99, 110, 250); fill-opacity: 1;\"/><path class=\"point\" transform=\"translate(126.45,241.34)\" d=\"M3,0A3,3 0 1,1 0,-3A3,3 0 0,1 3,0Z\" style=\"opacity: 1; stroke-width: 0px; fill: rgb(99, 110, 250); fill-opacity: 1;\"/><path class=\"point\" transform=\"translate(142.4,253.3)\" d=\"M3,0A3,3 0 1,1 0,-3A3,3 0 0,1 3,0Z\" style=\"opacity: 1; stroke-width: 0px; fill: rgb(99, 110, 250); fill-opacity: 1;\"/><path class=\"point\" transform=\"translate(158.35,285.65)\" d=\"M3,0A3,3 0 1,1 0,-3A3,3 0 0,1 3,0Z\" style=\"opacity: 1; stroke-width: 0px; fill: rgb(99, 110, 250); fill-opacity: 1;\"/><path class=\"point\" transform=\"translate(174.3,164.93)\" d=\"M3,0A3,3 0 1,1 0,-3A3,3 0 0,1 3,0Z\" style=\"opacity: 1; stroke-width: 0px; fill: rgb(99, 110, 250); fill-opacity: 1;\"/><path class=\"point\" transform=\"translate(190.25,301.48)\" d=\"M3,0A3,3 0 1,1 0,-3A3,3 0 0,1 3,0Z\" style=\"opacity: 1; stroke-width: 0px; fill: rgb(99, 110, 250); fill-opacity: 1;\"/><path class=\"point\" transform=\"translate(206.2,196.59)\" d=\"M3,0A3,3 0 1,1 0,-3A3,3 0 0,1 3,0Z\" style=\"opacity: 1; stroke-width: 0px; fill: rgb(99, 110, 250); fill-opacity: 1;\"/><path class=\"point\" transform=\"translate(222.15,280.04)\" d=\"M3,0A3,3 0 1,1 0,-3A3,3 0 0,1 3,0Z\" style=\"opacity: 1; stroke-width: 0px; fill: rgb(99, 110, 250); fill-opacity: 1;\"/><path class=\"point\" transform=\"translate(238.1,252.18)\" d=\"M3,0A3,3 0 1,1 0,-3A3,3 0 0,1 3,0Z\" style=\"opacity: 1; stroke-width: 0px; fill: rgb(99, 110, 250); fill-opacity: 1;\"/><path class=\"point\" transform=\"translate(254.05,297.68)\" d=\"M3,0A3,3 0 1,1 0,-3A3,3 0 0,1 3,0Z\" style=\"opacity: 1; stroke-width: 0px; fill: rgb(99, 110, 250); fill-opacity: 1;\"/><path class=\"point\" transform=\"translate(270,83.37)\" d=\"M3,0A3,3 0 1,1 0,-3A3,3 0 0,1 3,0Z\" style=\"opacity: 1; stroke-width: 0px; fill: rgb(99, 110, 250); fill-opacity: 1;\"/><path class=\"point\" transform=\"translate(285.95,306.27)\" d=\"M3,0A3,3 0 1,1 0,-3A3,3 0 0,1 3,0Z\" style=\"opacity: 1; stroke-width: 0px; fill: rgb(99, 110, 250); fill-opacity: 1;\"/><path class=\"point\" transform=\"translate(301.9,275.34)\" d=\"M3,0A3,3 0 1,1 0,-3A3,3 0 0,1 3,0Z\" style=\"opacity: 1; stroke-width: 0px; fill: rgb(99, 110, 250); fill-opacity: 1;\"/><path class=\"point\" transform=\"translate(317.85,134.07)\" d=\"M3,0A3,3 0 1,1 0,-3A3,3 0 0,1 3,0Z\" style=\"opacity: 1; stroke-width: 0px; fill: rgb(99, 110, 250); fill-opacity: 1;\"/><path class=\"point\" transform=\"translate(333.8,288.41)\" d=\"M3,0A3,3 0 1,1 0,-3A3,3 0 0,1 3,0Z\" style=\"opacity: 1; stroke-width: 0px; fill: rgb(99, 110, 250); fill-opacity: 1;\"/><path class=\"point\" transform=\"translate(349.75,202.73)\" d=\"M3,0A3,3 0 1,1 0,-3A3,3 0 0,1 3,0Z\" style=\"opacity: 1; stroke-width: 0px; fill: rgb(99, 110, 250); fill-opacity: 1;\"/><path class=\"point\" transform=\"translate(365.7,294.54)\" d=\"M3,0A3,3 0 1,1 0,-3A3,3 0 0,1 3,0Z\" style=\"opacity: 1; stroke-width: 0px; fill: rgb(99, 110, 250); fill-opacity: 1;\"/><path class=\"point\" transform=\"translate(381.65,128.37)\" d=\"M3,0A3,3 0 1,1 0,-3A3,3 0 0,1 3,0Z\" style=\"opacity: 1; stroke-width: 0px; fill: rgb(99, 110, 250); fill-opacity: 1;\"/><path class=\"point\" transform=\"translate(397.6,190.41)\" d=\"M3,0A3,3 0 1,1 0,-3A3,3 0 0,1 3,0Z\" style=\"opacity: 1; stroke-width: 0px; fill: rgb(99, 110, 250); fill-opacity: 1;\"/><path class=\"point\" transform=\"translate(413.55,316.88)\" d=\"M3,0A3,3 0 1,1 0,-3A3,3 0 0,1 3,0Z\" style=\"opacity: 1; stroke-width: 0px; fill: rgb(99, 110, 250); fill-opacity: 1;\"/><path class=\"point\" transform=\"translate(429.5,258.29)\" d=\"M3,0A3,3 0 1,1 0,-3A3,3 0 0,1 3,0Z\" style=\"opacity: 1; stroke-width: 0px; fill: rgb(99, 110, 250); fill-opacity: 1;\"/><path class=\"point\" transform=\"translate(445.45,193.96)\" d=\"M3,0A3,3 0 1,1 0,-3A3,3 0 0,1 3,0Z\" style=\"opacity: 1; stroke-width: 0px; fill: rgb(99, 110, 250); fill-opacity: 1;\"/><path class=\"point\" transform=\"translate(461.4,238.77)\" d=\"M3,0A3,3 0 1,1 0,-3A3,3 0 0,1 3,0Z\" style=\"opacity: 1; stroke-width: 0px; fill: rgb(99, 110, 250); fill-opacity: 1;\"/><path class=\"point\" transform=\"translate(477.35,212.18)\" d=\"M3,0A3,3 0 1,1 0,-3A3,3 0 0,1 3,0Z\" style=\"opacity: 1; stroke-width: 0px; fill: rgb(99, 110, 250); fill-opacity: 1;\"/><path class=\"point\" transform=\"translate(493.3,282.24)\" d=\"M3,0A3,3 0 1,1 0,-3A3,3 0 0,1 3,0Z\" style=\"opacity: 1; stroke-width: 0px; fill: rgb(99, 110, 250); fill-opacity: 1;\"/><path class=\"point\" transform=\"translate(509.25,325.96)\" d=\"M3,0A3,3 0 1,1 0,-3A3,3 0 0,1 3,0Z\" style=\"opacity: 1; stroke-width: 0px; fill: rgb(99, 110, 250); fill-opacity: 1;\"/></g><g class=\"text\"/></g><g class=\"trace scatter trace8657fd\" style=\"stroke-miterlimit: 2; opacity: 1;\"><g class=\"fills\"/><g class=\"errorbars\"/><g class=\"lines\"><path class=\"js-line\" d=\"M30.75,247.67L46.7,148.25L62.65,224.54L78.6,283.42L94.55,210.67L110.5,176.49L126.45,193.38L142.4,185.81L158.35,201.54L174.3,21.75L190.25,293.13L206.2,177.28L222.15,234L238.1,279.72L254.05,96.43L270,123.02L285.95,203.24L301.9,338.25L317.85,125.94L333.8,172.71L349.75,282.72L365.7,194.22L381.65,247.88L397.6,164.35L413.55,286.63L429.5,192.72L445.45,301.75L461.4,185.81L477.35,219.85L493.3,127.6L509.25,248.72\" style=\"vector-effect: none; fill: none; stroke: rgb(239, 85, 59); stroke-opacity: 1; stroke-width: 2px; opacity: 1;\"/></g><g class=\"points\"><path class=\"point\" transform=\"translate(30.75,247.67)\" d=\"M3.9,0L0,3.9L-3.9,0L0,-3.9Z\" style=\"opacity: 1; stroke-width: 0px; fill: rgb(239, 85, 59); fill-opacity: 1;\"/><path class=\"point\" transform=\"translate(46.7,148.25)\" d=\"M3.9,0L0,3.9L-3.9,0L0,-3.9Z\" style=\"opacity: 1; stroke-width: 0px; fill: rgb(239, 85, 59); fill-opacity: 1;\"/><path class=\"point\" transform=\"translate(62.65,224.54)\" d=\"M3.9,0L0,3.9L-3.9,0L0,-3.9Z\" style=\"opacity: 1; stroke-width: 0px; fill: rgb(239, 85, 59); fill-opacity: 1;\"/><path class=\"point\" transform=\"translate(78.6,283.42)\" d=\"M3.9,0L0,3.9L-3.9,0L0,-3.9Z\" style=\"opacity: 1; stroke-width: 0px; fill: rgb(239, 85, 59); fill-opacity: 1;\"/><path class=\"point\" transform=\"translate(94.55,210.67)\" d=\"M3.9,0L0,3.9L-3.9,0L0,-3.9Z\" style=\"opacity: 1; stroke-width: 0px; fill: rgb(239, 85, 59); fill-opacity: 1;\"/><path class=\"point\" transform=\"translate(110.5,176.49)\" d=\"M3.9,0L0,3.9L-3.9,0L0,-3.9Z\" style=\"opacity: 1; stroke-width: 0px; fill: rgb(239, 85, 59); fill-opacity: 1;\"/><path class=\"point\" transform=\"translate(126.45,193.38)\" d=\"M3.9,0L0,3.9L-3.9,0L0,-3.9Z\" style=\"opacity: 1; stroke-width: 0px; fill: rgb(239, 85, 59); fill-opacity: 1;\"/><path class=\"point\" transform=\"translate(142.4,185.81)\" d=\"M3.9,0L0,3.9L-3.9,0L0,-3.9Z\" style=\"opacity: 1; stroke-width: 0px; fill: rgb(239, 85, 59); fill-opacity: 1;\"/><path class=\"point\" transform=\"translate(158.35,201.54)\" d=\"M3.9,0L0,3.9L-3.9,0L0,-3.9Z\" style=\"opacity: 1; stroke-width: 0px; fill: rgb(239, 85, 59); fill-opacity: 1;\"/><path class=\"point\" transform=\"translate(174.3,21.75)\" d=\"M3.9,0L0,3.9L-3.9,0L0,-3.9Z\" style=\"opacity: 1; stroke-width: 0px; fill: rgb(239, 85, 59); fill-opacity: 1;\"/><path class=\"point\" transform=\"translate(190.25,293.13)\" d=\"M3.9,0L0,3.9L-3.9,0L0,-3.9Z\" style=\"opacity: 1; stroke-width: 0px; fill: rgb(239, 85, 59); fill-opacity: 1;\"/><path class=\"point\" transform=\"translate(206.2,177.28)\" d=\"M3.9,0L0,3.9L-3.9,0L0,-3.9Z\" style=\"opacity: 1; stroke-width: 0px; fill: rgb(239, 85, 59); fill-opacity: 1;\"/><path class=\"point\" transform=\"translate(222.15,234)\" d=\"M3.9,0L0,3.9L-3.9,0L0,-3.9Z\" style=\"opacity: 1; stroke-width: 0px; fill: rgb(239, 85, 59); fill-opacity: 1;\"/><path class=\"point\" transform=\"translate(238.1,279.72)\" d=\"M3.9,0L0,3.9L-3.9,0L0,-3.9Z\" style=\"opacity: 1; stroke-width: 0px; fill: rgb(239, 85, 59); fill-opacity: 1;\"/><path class=\"point\" transform=\"translate(254.05,96.43)\" d=\"M3.9,0L0,3.9L-3.9,0L0,-3.9Z\" style=\"opacity: 1; stroke-width: 0px; fill: rgb(239, 85, 59); fill-opacity: 1;\"/><path class=\"point\" transform=\"translate(270,123.02)\" d=\"M3.9,0L0,3.9L-3.9,0L0,-3.9Z\" style=\"opacity: 1; stroke-width: 0px; fill: rgb(239, 85, 59); fill-opacity: 1;\"/><path class=\"point\" transform=\"translate(285.95,203.24)\" d=\"M3.9,0L0,3.9L-3.9,0L0,-3.9Z\" style=\"opacity: 1; stroke-width: 0px; fill: rgb(239, 85, 59); fill-opacity: 1;\"/><path class=\"point\" transform=\"translate(301.9,338.25)\" d=\"M3.9,0L0,3.9L-3.9,0L0,-3.9Z\" style=\"opacity: 1; stroke-width: 0px; fill: rgb(239, 85, 59); fill-opacity: 1;\"/><path class=\"point\" transform=\"translate(317.85,125.94)\" d=\"M3.9,0L0,3.9L-3.9,0L0,-3.9Z\" style=\"opacity: 1; stroke-width: 0px; fill: rgb(239, 85, 59); fill-opacity: 1;\"/><path class=\"point\" transform=\"translate(333.8,172.71)\" d=\"M3.9,0L0,3.9L-3.9,0L0,-3.9Z\" style=\"opacity: 1; stroke-width: 0px; fill: rgb(239, 85, 59); fill-opacity: 1;\"/><path class=\"point\" transform=\"translate(349.75,282.72)\" d=\"M3.9,0L0,3.9L-3.9,0L0,-3.9Z\" style=\"opacity: 1; stroke-width: 0px; fill: rgb(239, 85, 59); fill-opacity: 1;\"/><path class=\"point\" transform=\"translate(365.7,194.22)\" d=\"M3.9,0L0,3.9L-3.9,0L0,-3.9Z\" style=\"opacity: 1; stroke-width: 0px; fill: rgb(239, 85, 59); fill-opacity: 1;\"/><path class=\"point\" transform=\"translate(381.65,247.88)\" d=\"M3.9,0L0,3.9L-3.9,0L0,-3.9Z\" style=\"opacity: 1; stroke-width: 0px; fill: rgb(239, 85, 59); fill-opacity: 1;\"/><path class=\"point\" transform=\"translate(397.6,164.35)\" d=\"M3.9,0L0,3.9L-3.9,0L0,-3.9Z\" style=\"opacity: 1; stroke-width: 0px; fill: rgb(239, 85, 59); fill-opacity: 1;\"/><path class=\"point\" transform=\"translate(413.55,286.63)\" d=\"M3.9,0L0,3.9L-3.9,0L0,-3.9Z\" style=\"opacity: 1; stroke-width: 0px; fill: rgb(239, 85, 59); fill-opacity: 1;\"/><path class=\"point\" transform=\"translate(429.5,192.72)\" d=\"M3.9,0L0,3.9L-3.9,0L0,-3.9Z\" style=\"opacity: 1; stroke-width: 0px; fill: rgb(239, 85, 59); fill-opacity: 1;\"/><path class=\"point\" transform=\"translate(445.45,301.75)\" d=\"M3.9,0L0,3.9L-3.9,0L0,-3.9Z\" style=\"opacity: 1; stroke-width: 0px; fill: rgb(239, 85, 59); fill-opacity: 1;\"/><path class=\"point\" transform=\"translate(461.4,185.81)\" d=\"M3.9,0L0,3.9L-3.9,0L0,-3.9Z\" style=\"opacity: 1; stroke-width: 0px; fill: rgb(239, 85, 59); fill-opacity: 1;\"/><path class=\"point\" transform=\"translate(477.35,219.85)\" d=\"M3.9,0L0,3.9L-3.9,0L0,-3.9Z\" style=\"opacity: 1; stroke-width: 0px; fill: rgb(239, 85, 59); fill-opacity: 1;\"/><path class=\"point\" transform=\"translate(493.3,127.6)\" d=\"M3.9,0L0,3.9L-3.9,0L0,-3.9Z\" style=\"opacity: 1; stroke-width: 0px; fill: rgb(239, 85, 59); fill-opacity: 1;\"/><path class=\"point\" transform=\"translate(509.25,248.72)\" d=\"M3.9,0L0,3.9L-3.9,0L0,-3.9Z\" style=\"opacity: 1; stroke-width: 0px; fill: rgb(239, 85, 59); fill-opacity: 1;\"/></g><g class=\"text\"/></g></g></g><g class=\"overplot\"/><path class=\"xlines-above crisp\" d=\"M0,0\" style=\"fill: none;\"/><path class=\"ylines-above crisp\" d=\"M0,0\" style=\"fill: none;\"/><g class=\"overlines-above\"/><g class=\"xaxislayer-above\"><g class=\"xtick\"><text text-anchor=\"middle\" x=\"0\" y=\"433\" transform=\"translate(158.6,0)\" style=\"font-family: 'Open Sans', verdana, arial, sans-serif; font-size: 12px; fill: rgb(42, 63, 95); fill-opacity: 1; white-space: pre; opacity: 1;\"><tspan class=\"line\" dy=\"0em\" x=\"0\" y=\"433\">Aug 4</tspan><tspan class=\"line\" dy=\"1.3em\" x=\"0\" y=\"433\">2019</tspan></text></g><g class=\"xtick\"><text text-anchor=\"middle\" x=\"0\" y=\"433\" style=\"font-family: 'Open Sans', verdana, arial, sans-serif; font-size: 12px; fill: rgb(42, 63, 95); fill-opacity: 1; white-space: pre; opacity: 1;\" transform=\"translate(270.25,0)\">Aug 11</text></g><g class=\"xtick\"><text text-anchor=\"middle\" x=\"0\" y=\"433\" style=\"font-family: 'Open Sans', verdana, arial, sans-serif; font-size: 12px; fill: rgb(42, 63, 95); fill-opacity: 1; white-space: pre; opacity: 1;\" transform=\"translate(381.9,0)\">Aug 18</text></g><g class=\"xtick\"><text text-anchor=\"middle\" x=\"0\" y=\"433\" style=\"font-family: 'Open Sans', verdana, arial, sans-serif; font-size: 12px; fill: rgb(42, 63, 95); fill-opacity: 1; white-space: pre; opacity: 1;\" transform=\"translate(493.55,0)\">Aug 25</text></g><g class=\"xtick\"><text text-anchor=\"middle\" x=\"0\" y=\"433\" style=\"font-family: 'Open Sans', verdana, arial, sans-serif; font-size: 12px; fill: rgb(42, 63, 95); fill-opacity: 1; white-space: pre; opacity: 1;\" transform=\"translate(605.2,0)\">Sep 1</text></g></g><g class=\"yaxislayer-above\"><g class=\"ytick\"><text text-anchor=\"end\" x=\"79\" y=\"4.199999999999999\" transform=\"translate(0,395.08)\" style=\"font-family: 'Open Sans', verdana, arial, sans-serif; font-size: 12px; fill: rgb(42, 63, 95); fill-opacity: 1; white-space: pre; opacity: 1;\">1</text></g><g class=\"ytick\"><text text-anchor=\"end\" x=\"79\" y=\"4.199999999999999\" style=\"font-family: 'Open Sans', verdana, arial, sans-serif; font-size: 12px; fill: rgb(42, 63, 95); fill-opacity: 1; white-space: pre; opacity: 1;\" transform=\"translate(0,331.93)\">2</text></g><g class=\"ytick\"><text text-anchor=\"end\" x=\"79\" y=\"4.199999999999999\" style=\"font-family: 'Open Sans', verdana, arial, sans-serif; font-size: 12px; fill: rgb(42, 63, 95); fill-opacity: 1; white-space: pre; opacity: 1;\" transform=\"translate(0,268.78999999999996)\">3</text></g><g class=\"ytick\"><text text-anchor=\"end\" x=\"79\" y=\"4.199999999999999\" style=\"font-family: 'Open Sans', verdana, arial, sans-serif; font-size: 12px; fill: rgb(42, 63, 95); fill-opacity: 1; white-space: pre; opacity: 1;\" transform=\"translate(0,205.64)\">4</text></g><g class=\"ytick\"><text text-anchor=\"end\" x=\"79\" y=\"4.199999999999999\" style=\"font-family: 'Open Sans', verdana, arial, sans-serif; font-size: 12px; fill: rgb(42, 63, 95); fill-opacity: 1; white-space: pre; opacity: 1;\" transform=\"translate(0,142.5)\">5</text></g><g class=\"ytick\"><text text-anchor=\"end\" x=\"79\" y=\"4.199999999999999\" style=\"font-family: 'Open Sans', verdana, arial, sans-serif; font-size: 12px; fill: rgb(42, 63, 95); fill-opacity: 1; white-space: pre; opacity: 1;\" transform=\"translate(0,79.35)\">6</text></g></g><g class=\"overaxes-above\"/></g></g><g class=\"polarlayer\"/><g class=\"smithlayer\"/><g class=\"ternarylayer\"/><g class=\"geolayer\"/><g class=\"funnelarealayer\"/><g class=\"pielayer\"/><g class=\"iciclelayer\"/><g class=\"treemaplayer\"/><g class=\"sunburstlayer\"/><g class=\"glimages\"/><defs id=\"topdefs-68c12c\"><g class=\"clips\"/><clipPath id=\"legend68c12c\"><rect width=\"55\" height=\"67\" x=\"0\" y=\"0\"/></clipPath></defs><g class=\"layer-above\"><g class=\"imagelayer\"/><g class=\"shapelayer\"><g class=\"shape-group\" data-index=\"0\" clip-path=\"url(#clip68c12cy)\"><path data-index=\"0\" fill-rule=\"evenodd\" d=\"M80,280.43L620,280.43\" style=\"opacity: 1; stroke: rgb(255, 255, 255); stroke-opacity: 1; fill: rgb(0, 0, 0); fill-opacity: 0; stroke-dasharray: 9px, 9px; stroke-width: 1px;\"/></g></g></g><g class=\"infolayer\"><g class=\"legend\" pointer-events=\"all\" transform=\"translate(630.8,60)\"><rect class=\"bg\" shape-rendering=\"crispEdges\" style=\"stroke: rgb(68, 68, 68); stroke-opacity: 1; fill: rgb(255, 255, 255); fill-opacity: 1; stroke-width: 0px;\" width=\"55\" height=\"67\" x=\"0\" y=\"0\"/><g class=\"scrollbox\" transform=\"\" clip-path=\"url(#legend68c12c)\"><text class=\"legendtitletext\" text-anchor=\"start\" x=\"2\" y=\"18.2\" style=\"font-family: 'Open Sans', verdana, arial, sans-serif; font-size: 14px; fill: rgb(42, 63, 95); fill-opacity: 1; white-space: pre;\">group</text><g class=\"groups\" transform=\"\"><g class=\"traces\" transform=\"translate(0,32.7)\" style=\"opacity: 1;\"><text class=\"legendtext\" text-anchor=\"start\" x=\"40\" y=\"4.680000000000001\" style=\"font-family: 'Open Sans', verdana, arial, sans-serif; font-size: 12px; fill: rgb(42, 63, 95); fill-opacity: 1; white-space: pre;\">A</text><g class=\"layers\" style=\"opacity: 1;\"><g class=\"legendfill\"/><g class=\"legendlines\"><path class=\"js-line\" d=\"M5,0h30\" style=\"fill: none; stroke: rgb(99, 110, 250); stroke-opacity: 1; stroke-width: 2px;\"/></g><g class=\"legendsymbols\"><g class=\"legendpoints\"><path class=\"scatterpts\" transform=\"translate(20,0)\" d=\"M3,0A3,3 0 1,1 0,-3A3,3 0 0,1 3,0Z\" style=\"opacity: 1; stroke-width: 0px; fill: rgb(99, 110, 250); fill-opacity: 1;\"/></g></g></g><rect class=\"legendtoggle\" x=\"0\" y=\"-9.5\" width=\"50\" height=\"19\" style=\"fill: rgb(0, 0, 0); fill-opacity: 0;\"/></g></g><g class=\"groups\" transform=\"\"><g class=\"traces\" transform=\"translate(0,51.7)\" style=\"opacity: 1;\"><text class=\"legendtext\" text-anchor=\"start\" x=\"40\" y=\"4.680000000000001\" style=\"font-family: 'Open Sans', verdana, arial, sans-serif; font-size: 12px; fill: rgb(42, 63, 95); fill-opacity: 1; white-space: pre;\">B</text><g class=\"layers\" style=\"opacity: 1;\"><g class=\"legendfill\"/><g class=\"legendlines\"><path class=\"js-line\" d=\"M5,0h30\" style=\"fill: none; stroke: rgb(239, 85, 59); stroke-opacity: 1; stroke-width: 2px;\"/></g><g class=\"legendsymbols\"><g class=\"legendpoints\"><path class=\"scatterpts\" transform=\"translate(20,0)\" d=\"M3.9,0L0,3.9L-3.9,0L0,-3.9Z\" style=\"opacity: 1; stroke-width: 0px; fill: rgb(239, 85, 59); fill-opacity: 1;\"/></g></g></g><rect class=\"legendtoggle\" x=\"0\" y=\"-9.5\" width=\"50\" height=\"19\" style=\"fill: rgb(0, 0, 0); fill-opacity: 0;\"/></g></g></g><rect class=\"scrollbar\" rx=\"20\" ry=\"3\" width=\"0\" height=\"0\" style=\"fill: rgb(128, 139, 164); fill-opacity: 1;\" x=\"0\" y=\"0\"/></g><g class=\"g-gtitle\"><text class=\"gtitle\" x=\"35\" y=\"30\" text-anchor=\"start\" dy=\"0em\" style=\"font-family: 'Open Sans', verdana, arial, sans-serif; font-size: 17px; fill: rgb(42, 63, 95); opacity: 1; white-space: pre;\">Tasa de Conversión Diaria por Grupo</text></g><g class=\"g-xtitle\"><text class=\"xtitle\" x=\"350\" y=\"475.909375\" text-anchor=\"middle\" style=\"font-family: 'Open Sans', verdana, arial, sans-serif; font-size: 14px; fill: rgb(42, 63, 95); opacity: 1; white-space: pre;\">Fecha</text></g><g class=\"g-ytitle\"><text class=\"ytitle\" transform=\"rotate(-90,51.959375,240)\" x=\"51.959375\" y=\"240\" text-anchor=\"middle\" style=\"font-family: 'Open Sans', verdana, arial, sans-serif; font-size: 14px; fill: rgb(42, 63, 95); opacity: 1; white-space: pre;\">Tasa de Conversión (en %)</text></g><g class=\"annotation\" data-index=\"0\" style=\"opacity: 1;\"><g class=\"annotation-text-g\" transform=\"rotate(0,604.5,280.43)\"><g class=\"cursor-pointer\" transform=\"translate(562,271)\"><rect class=\"bg\" x=\"0.5\" y=\"0.5\" width=\"84\" height=\"18\" style=\"stroke-width: 1px; stroke: rgb(0, 0, 0); stroke-opacity: 0; fill: rgb(0, 0, 0); fill-opacity: 0;\"/><text class=\"annotation-text\" text-anchor=\"start\" x=\"2\" y=\"14\" style=\"font-family: 'Open Sans', verdana, arial, sans-serif; font-size: 12px; fill: rgb(42, 63, 95); fill-opacity: 1; white-space: pre;\">Prom=2,82%</text></g></g></g></g></svg>"
      ]
     },
     "metadata": {},
     "output_type": "display_data"
    }
   ],
   "source": [
    "#Tasa de conversión diaria (No acumulada)\n",
    "# Agrupando orders por fecha y grupo:\n",
    "daily_orders_by_group = (\n",
    "    orders\n",
    "    .groupby(['date', 'group'])['transaction_id']\n",
    "    .count()\n",
    "    .reset_index()\n",
    "    .rename(columns={'transaction_id': 'purchases'})\n",
    "    .sort_values(by=['group', 'date'])\n",
    ")\n",
    "daily_orders_by_group\n",
    "#Haciendo un merge entre ordenes y visitas:\n",
    "merge = visits.merge(daily_orders_by_group, on=['date', 'group'], how='left')\n",
    "merge\n",
    "# Para la tasa de conversión: (compras/visitas)\n",
    "merge['conversion_rate']=merge['purchases'] / merge['visits']\n",
    "merge\n",
    "\n",
    "fig7b= px.line(merge, x='date', y=merge['conversion_rate']*100, color='group', symbol='group',\n",
    "             labels= {'y': 'Tasa de Conversión (en %)', 'date': 'Fecha'})\n",
    "fig7b.update_layout(title='Tasa de Conversión Diaria por Grupo',\n",
    "                  )\n",
    "fig7b.add_hline(y=merge['conversion_rate'].mean()*100, line_width=1, line_dash=\"dash\", line_color=\"white\")\n",
    "fig7b.add_annotation(xref='paper', y=merge['conversion_rate'].mean()*100,\n",
    "                    x=1.05,\n",
    "                    text='Prom=2,82%',\n",
    "                    showarrow=False,\n",
    "                    align=\"left\",\n",
    "                   )\n",
    "\n",
    "fig7b.show()"
   ]
  },
  {
   "cell_type": "markdown",
   "metadata": {},
   "source": [
    "**Gráfico 7b.** Muestra la Tasa de conversión diaria para cada uno de los grupos.\n",
    "- La tasa de conversión promedio para ambos grupos es de 2,82%. donde, Para el grupo A, el promedio es 2,59% y para el grupo B es de 3,04%   \n",
    "- El grupo B tiene una tasa de conversión promedio ligeramnete mayor a la de A y a la media general.   \n",
    "- El grupo B registra el pico más alto en cuantoa tasa de conversión, alcanzando un 5,96% el 10 de agosto de 2019. Por otro lado, el grupo B también registra la tasa de conversión diaria más baja en todo el periodo, bajando hasta un 0,95% el 18 de agosto de 2019.\n",
    "- Podemos observar que el grupo B regsitra una mayor volatilidad en cuanto a variaciones intradía de su tasa de conversión.\n",
    "\n",
    "\n",
    "- ***Este gráfico muestra mucha volatilidad, por lo que es preferible usa el gráfico acumulado***"
   ]
  },
  {
   "cell_type": "code",
   "execution_count": 58,
   "metadata": {},
   "outputs": [
    {
     "name": "stdout",
     "output_type": "stream",
     "text": [
      "2.8157154881959614\n",
      "group\n",
      "A    2.589031\n",
      "B    3.042400\n",
      "Name: conversion_rate, dtype: float64\n"
     ]
    }
   ],
   "source": [
    "print(merge['conversion_rate'].mean()*100)\n",
    "print(merge.groupby(['group'])['conversion_rate'].mean()*100)"
   ]
  },
  {
   "cell_type": "markdown",
   "metadata": {},
   "source": [
    "#### 4.1 Diferencia relativa para las tasas de conversión acumuladas"
   ]
  },
  {
   "cell_type": "code",
   "execution_count": 59,
   "metadata": {},
   "outputs": [
    {
     "data": {
      "image/svg+xml": [
       "<svg class=\"main-svg\" xmlns=\"http://www.w3.org/2000/svg\" xmlns:xlink=\"http://www.w3.org/1999/xlink\" width=\"700\" height=\"500\" style=\"\" viewBox=\"0 0 700 500\"><rect x=\"0\" y=\"0\" width=\"700\" height=\"500\" style=\"fill: rgb(255, 255, 255); fill-opacity: 1;\"/><defs id=\"defs-761ed4\"><g class=\"clips\"><clipPath id=\"clip761ed4xyplot\" class=\"plotclip\"><rect width=\"540\" height=\"320\"/></clipPath><clipPath class=\"axesclip\" id=\"clip761ed4x\"><rect x=\"80\" y=\"0\" width=\"540\" height=\"500\"/></clipPath><clipPath class=\"axesclip\" id=\"clip761ed4y\"><rect x=\"0\" y=\"100\" width=\"700\" height=\"320\"/></clipPath><clipPath class=\"axesclip\" id=\"clip761ed4xy\"><rect x=\"80\" y=\"100\" width=\"540\" height=\"320\"/></clipPath></g><g class=\"gradients\"/><g class=\"patterns\"/></defs><g class=\"bglayer\"><rect class=\"bg\" x=\"80\" y=\"100\" width=\"540\" height=\"320\" style=\"fill: rgb(229, 236, 246); fill-opacity: 1; stroke-width: 0;\"/></g><g class=\"layer-below\"><g class=\"imagelayer\"/><g class=\"shapelayer\"/></g><g class=\"cartesianlayer\"><g class=\"subplot xy\"><g class=\"layer-subplot\"><g class=\"shapelayer\"/><g class=\"imagelayer\"/></g><g class=\"minor-gridlayer\"><g class=\"x\"/><g class=\"y\"/></g><g class=\"gridlayer\"><g class=\"x\"><path class=\"xgrid crisp\" transform=\"translate(134,0)\" d=\"M0,100v320\" style=\"stroke: rgb(255, 255, 255); stroke-opacity: 1; stroke-width: 1px;\"/><path class=\"xgrid crisp\" transform=\"translate(260,0)\" d=\"M0,100v320\" style=\"stroke: rgb(255, 255, 255); stroke-opacity: 1; stroke-width: 1px;\"/><path class=\"xgrid crisp\" transform=\"translate(386,0)\" d=\"M0,100v320\" style=\"stroke: rgb(255, 255, 255); stroke-opacity: 1; stroke-width: 1px;\"/><path class=\"xgrid crisp\" transform=\"translate(512,0)\" d=\"M0,100v320\" style=\"stroke: rgb(255, 255, 255); stroke-opacity: 1; stroke-width: 1px;\"/></g><g class=\"y\"><path class=\"ygrid crisp\" transform=\"translate(0,370.16)\" d=\"M80,0h540\" style=\"stroke: rgb(255, 255, 255); stroke-opacity: 1; stroke-width: 1px;\"/><path class=\"ygrid crisp\" transform=\"translate(0,308.24)\" d=\"M80,0h540\" style=\"stroke: rgb(255, 255, 255); stroke-opacity: 1; stroke-width: 1px;\"/><path class=\"ygrid crisp\" transform=\"translate(0,184.39)\" d=\"M80,0h540\" style=\"stroke: rgb(255, 255, 255); stroke-opacity: 1; stroke-width: 1px;\"/><path class=\"ygrid crisp\" transform=\"translate(0,122.47)\" d=\"M80,0h540\" style=\"stroke: rgb(255, 255, 255); stroke-opacity: 1; stroke-width: 1px;\"/></g></g><g class=\"zerolinelayer\"><path class=\"yzl zl crisp\" transform=\"translate(0,246.31)\" d=\"M80,0h540\" style=\"stroke: rgb(255, 255, 255); stroke-opacity: 1; stroke-width: 2px;\"/></g><g class=\"layer-between\"><g class=\"shapelayer\"/><g class=\"imagelayer\"/></g><path class=\"xlines-below\"/><path class=\"ylines-below\"/><g class=\"overlines-below\"/><g class=\"xaxislayer-below\"/><g class=\"yaxislayer-below\"/><g class=\"overaxes-below\"/><g class=\"plot\" transform=\"translate(80,100)\" clip-path=\"url(#clip761ed4xyplot)\"><g class=\"scatterlayer mlayer\"><g class=\"trace scatter trace3f35ec\" style=\"stroke-miterlimit: 2; opacity: 1;\"><g class=\"fills\"/><g class=\"errorbars\"/><g class=\"lines\"><path class=\"js-line\" d=\"M0,304L18,155.75L36,247.1L54,221.03L72,202.41L90,149.45L108,124.57L126,97.93L144,68.6L162,46.04L180,48.95L198,53.33L216,43.91L234,60.37L252,16.33L270,29.06L288,16L306,40.04L324,46.62L342,28.92L360,51.65L378,36.58L396,58.7L414,59.31L432,57.26L450,49.41L468,72.73L486,67.79L504,71.67L522,57.06L540,47.36\" style=\"vector-effect: none; fill: none; stroke: rgb(99, 110, 250); stroke-opacity: 1; stroke-width: 2px; opacity: 1;\"/></g><g class=\"points\"/><g class=\"text\"/></g></g></g><g class=\"overplot\"/><path class=\"xlines-above crisp\" d=\"M0,0\" style=\"fill: none;\"/><path class=\"ylines-above crisp\" d=\"M0,0\" style=\"fill: none;\"/><g class=\"overlines-above\"/><g class=\"xaxislayer-above\"><g class=\"xtick\"><text text-anchor=\"middle\" x=\"0\" y=\"433\" transform=\"translate(134,0)\" style=\"font-family: 'Open Sans', verdana, arial, sans-serif; font-size: 12px; fill: rgb(42, 63, 95); fill-opacity: 1; white-space: pre; opacity: 1;\"><tspan class=\"line\" dy=\"0em\" x=\"0\" y=\"433\">Aug 4</tspan><tspan class=\"line\" dy=\"1.3em\" x=\"0\" y=\"433\">2019</tspan></text></g><g class=\"xtick\"><text text-anchor=\"middle\" x=\"0\" y=\"433\" style=\"font-family: 'Open Sans', verdana, arial, sans-serif; font-size: 12px; fill: rgb(42, 63, 95); fill-opacity: 1; white-space: pre; opacity: 1;\" transform=\"translate(260,0)\">Aug 11</text></g><g class=\"xtick\"><text text-anchor=\"middle\" x=\"0\" y=\"433\" style=\"font-family: 'Open Sans', verdana, arial, sans-serif; font-size: 12px; fill: rgb(42, 63, 95); fill-opacity: 1; white-space: pre; opacity: 1;\" transform=\"translate(386,0)\">Aug 18</text></g><g class=\"xtick\"><text text-anchor=\"middle\" x=\"0\" y=\"433\" style=\"font-family: 'Open Sans', verdana, arial, sans-serif; font-size: 12px; fill: rgb(42, 63, 95); fill-opacity: 1; white-space: pre; opacity: 1;\" transform=\"translate(512,0)\">Aug 25</text></g></g><g class=\"yaxislayer-above\"><g class=\"ytick\"><text text-anchor=\"end\" x=\"79\" y=\"4.199999999999999\" transform=\"translate(0,370.16)\" style=\"font-family: 'Open Sans', verdana, arial, sans-serif; font-size: 12px; fill: rgb(42, 63, 95); fill-opacity: 1; white-space: pre; opacity: 1;\">−0.2</text></g><g class=\"ytick\"><text text-anchor=\"end\" x=\"79\" y=\"4.199999999999999\" style=\"font-family: 'Open Sans', verdana, arial, sans-serif; font-size: 12px; fill: rgb(42, 63, 95); fill-opacity: 1; white-space: pre; opacity: 1;\" transform=\"translate(0,308.24)\">−0.1</text></g><g class=\"ytick\"><text text-anchor=\"end\" x=\"79\" y=\"4.199999999999999\" style=\"font-family: 'Open Sans', verdana, arial, sans-serif; font-size: 12px; fill: rgb(42, 63, 95); fill-opacity: 1; white-space: pre; opacity: 1;\" transform=\"translate(0,246.31)\">0</text></g><g class=\"ytick\"><text text-anchor=\"end\" x=\"79\" y=\"4.199999999999999\" style=\"font-family: 'Open Sans', verdana, arial, sans-serif; font-size: 12px; fill: rgb(42, 63, 95); fill-opacity: 1; white-space: pre; opacity: 1;\" transform=\"translate(0,184.39)\">0.1</text></g><g class=\"ytick\"><text text-anchor=\"end\" x=\"79\" y=\"4.199999999999999\" style=\"font-family: 'Open Sans', verdana, arial, sans-serif; font-size: 12px; fill: rgb(42, 63, 95); fill-opacity: 1; white-space: pre; opacity: 1;\" transform=\"translate(0,122.47)\">0.2</text></g></g><g class=\"overaxes-above\"/></g></g><g class=\"polarlayer\"/><g class=\"smithlayer\"/><g class=\"ternarylayer\"/><g class=\"geolayer\"/><g class=\"funnelarealayer\"/><g class=\"pielayer\"/><g class=\"iciclelayer\"/><g class=\"treemaplayer\"/><g class=\"sunburstlayer\"/><g class=\"glimages\"/><defs id=\"topdefs-761ed4\"><g class=\"clips\"/></defs><g class=\"layer-above\"><g class=\"imagelayer\"/><g class=\"shapelayer\"><g class=\"shape-group\" data-index=\"0\" clip-path=\"url(#clip761ed4y)\"><path data-index=\"0\" fill-rule=\"evenodd\" d=\"M80,246.31L620,246.31\" style=\"opacity: 1; stroke: rgb(0, 0, 0); stroke-opacity: 1; fill: rgb(0, 0, 0); fill-opacity: 0; stroke-dasharray: 9px, 9px; stroke-width: 2px;\"/></g><g class=\"shape-group\" data-index=\"1\" clip-path=\"url(#clip761ed4y)\"><path data-index=\"1\" fill-rule=\"evenodd\" d=\"M80,184.39L620,184.39\" style=\"opacity: 1; stroke: rgb(128, 128, 128); stroke-opacity: 1; fill: rgb(0, 0, 0); fill-opacity: 0; stroke-dasharray: 9px, 9px; stroke-width: 2px;\"/></g><g class=\"shape-group\" data-index=\"2\" clip-path=\"url(#clip761ed4y)\"><path data-index=\"2\" fill-rule=\"evenodd\" d=\"M80,308.24L620,308.24\" style=\"opacity: 1; stroke: rgb(128, 128, 128); stroke-opacity: 1; fill: rgb(0, 0, 0); fill-opacity: 0; stroke-dasharray: 9px, 9px; stroke-width: 2px;\"/></g></g></g><g class=\"infolayer\"><g class=\"g-gtitle\"><text class=\"gtitle\" x=\"35\" y=\"50\" text-anchor=\"start\" dy=\"0em\" style=\"font-family: 'Open Sans', verdana, arial, sans-serif; font-size: 17px; fill: rgb(42, 63, 95); opacity: 1; white-space: pre;\">Diferencia Relativa para las Tasas de Conversión Acumuladas</text></g><g class=\"g-xtitle\"><text class=\"xtitle\" x=\"350\" y=\"475.909375\" text-anchor=\"middle\" style=\"font-family: 'Open Sans', verdana, arial, sans-serif; font-size: 14px; fill: rgb(42, 63, 95); opacity: 1; white-space: pre;\">Date</text></g><g class=\"g-ytitle\"><text class=\"ytitle\" transform=\"rotate(-90,30.146875,260)\" x=\"30.146875\" y=\"260\" text-anchor=\"middle\" style=\"font-family: 'Open Sans', verdana, arial, sans-serif; font-size: 14px; fill: rgb(42, 63, 95); opacity: 1; white-space: pre;\">Diferencia Relativa Acumulada</text></g></g></svg>"
      ]
     },
     "metadata": {},
     "output_type": "display_data"
    }
   ],
   "source": [
    "#Trazar un gráfico de diferencia relativa para las tasas de conversión acumuladas:\n",
    "merged_cumulative_conversions= cumulative_data_A.merge(cumulative_data_B[['date', 'conversion']], left_on='date', right_on='date', how='left', suffixes=['A', 'B'])\n",
    "#merged_cumulative_revenue\n",
    "\n",
    "#y= (merged_cumulative_conversions['conversionB'] / merged_cumulative_conversions['conversionA'] -1)\n",
    "\n",
    "fig7c=px.line(x=merged_cumulative_conversions['date'], y=(merged_cumulative_conversions['conversionB'] / \n",
    "                                                         merged_cumulative_conversions['conversionA'] -1), \n",
    "            #markers=True,\n",
    "            title='Diferencia Relativa para las Tasas de Conversión Acumuladas',\n",
    "            labels=dict(x='Date',\n",
    "                        y= 'Diferencia Relativa Acumulada'))\n",
    "            \n",
    "fig7c.add_hline(y=0, line_dash='dash', line_color='black')\n",
    "fig7c.add_hline(y=0.1, line_dash='dash', line_color='grey')\n",
    "fig7c.add_hline(y=-0.1, line_dash='dash', line_color='grey')\n",
    "fig7c.show()"
   ]
  },
  {
   "cell_type": "markdown",
   "metadata": {},
   "source": [
    "**Gráfico 7c.** Muestra la diferencia relativa para las Tasas de conversión acumuladas para cada uno de los grupos.\n",
    "- Podemos observar que al inicio de la prueba el grupo B estaba notablemente rezagado, pero de repente tomó la delantera.\n",
    "- El grupo B se ha mantenido estable y con una tasa de conversión mayor que la de A en casi todo el periodo de análisis.\n",
    "- El grupo B se estabilizó 15,98% más que el grupo A."
   ]
  },
  {
   "cell_type": "markdown",
   "metadata": {},
   "source": [
    "### 5. Traza un gráfico de dispersión del número de pedidos por usuario. Haz conclusiones y conjeturas."
   ]
  },
  {
   "cell_type": "code",
   "execution_count": 60,
   "metadata": {},
   "outputs": [
    {
     "data": {
      "text/html": [
       "<div>\n",
       "<style scoped>\n",
       "    .dataframe tbody tr th:only-of-type {\n",
       "        vertical-align: middle;\n",
       "    }\n",
       "\n",
       "    .dataframe tbody tr th {\n",
       "        vertical-align: top;\n",
       "    }\n",
       "\n",
       "    .dataframe thead th {\n",
       "        text-align: right;\n",
       "    }\n",
       "</style>\n",
       "<table border=\"1\" class=\"dataframe\">\n",
       "  <thead>\n",
       "    <tr style=\"text-align: right;\">\n",
       "      <th></th>\n",
       "      <th>visitor_id</th>\n",
       "      <th>transaction_id</th>\n",
       "    </tr>\n",
       "  </thead>\n",
       "  <tbody>\n",
       "    <tr>\n",
       "      <th>0</th>\n",
       "      <td>5114589</td>\n",
       "      <td>1</td>\n",
       "    </tr>\n",
       "    <tr>\n",
       "      <th>1</th>\n",
       "      <td>6958315</td>\n",
       "      <td>1</td>\n",
       "    </tr>\n",
       "    <tr>\n",
       "      <th>2</th>\n",
       "      <td>11685486</td>\n",
       "      <td>1</td>\n",
       "    </tr>\n",
       "    <tr>\n",
       "      <th>3</th>\n",
       "      <td>39475350</td>\n",
       "      <td>1</td>\n",
       "    </tr>\n",
       "    <tr>\n",
       "      <th>4</th>\n",
       "      <td>47206413</td>\n",
       "      <td>1</td>\n",
       "    </tr>\n",
       "    <tr>\n",
       "      <th>...</th>\n",
       "      <td>...</td>\n",
       "      <td>...</td>\n",
       "    </tr>\n",
       "    <tr>\n",
       "      <th>968</th>\n",
       "      <td>4259830713</td>\n",
       "      <td>1</td>\n",
       "    </tr>\n",
       "    <tr>\n",
       "      <th>969</th>\n",
       "      <td>4278982564</td>\n",
       "      <td>1</td>\n",
       "    </tr>\n",
       "    <tr>\n",
       "      <th>970</th>\n",
       "      <td>4279090005</td>\n",
       "      <td>1</td>\n",
       "    </tr>\n",
       "    <tr>\n",
       "      <th>971</th>\n",
       "      <td>4281247801</td>\n",
       "      <td>1</td>\n",
       "    </tr>\n",
       "    <tr>\n",
       "      <th>972</th>\n",
       "      <td>4283872382</td>\n",
       "      <td>1</td>\n",
       "    </tr>\n",
       "  </tbody>\n",
       "</table>\n",
       "<p>973 rows × 2 columns</p>\n",
       "</div>"
      ],
      "text/plain": [
       "     visitor_id  transaction_id\n",
       "0       5114589               1\n",
       "1       6958315               1\n",
       "2      11685486               1\n",
       "3      39475350               1\n",
       "4      47206413               1\n",
       "..          ...             ...\n",
       "968  4259830713               1\n",
       "969  4278982564               1\n",
       "970  4279090005               1\n",
       "971  4281247801               1\n",
       "972  4283872382               1\n",
       "\n",
       "[973 rows x 2 columns]"
      ]
     },
     "execution_count": 60,
     "metadata": {},
     "output_type": "execute_result"
    }
   ],
   "source": [
    "pedidos_por_usuario= orders.groupby('visitor_id')['transaction_id'].count().reset_index()\n",
    "pedidos_por_usuario#['transaction_id'].unique()"
   ]
  },
  {
   "cell_type": "code",
   "execution_count": 61,
   "metadata": {},
   "outputs": [
    {
     "data": {
      "image/svg+xml": [
       "<svg class=\"main-svg\" xmlns=\"http://www.w3.org/2000/svg\" xmlns:xlink=\"http://www.w3.org/1999/xlink\" width=\"700\" height=\"500\" style=\"\" viewBox=\"0 0 700 500\"><rect x=\"0\" y=\"0\" width=\"700\" height=\"500\" style=\"fill: rgb(255, 255, 255); fill-opacity: 1;\"/><defs id=\"defs-bfe1a3\"><g class=\"clips\"><clipPath id=\"clipbfe1a3xyplot\" class=\"plotclip\"><rect width=\"540\" height=\"320\"/></clipPath><clipPath class=\"axesclip\" id=\"clipbfe1a3x\"><rect x=\"80\" y=\"0\" width=\"540\" height=\"500\"/></clipPath><clipPath class=\"axesclip\" id=\"clipbfe1a3y\"><rect x=\"0\" y=\"100\" width=\"700\" height=\"320\"/></clipPath><clipPath class=\"axesclip\" id=\"clipbfe1a3xy\"><rect x=\"80\" y=\"100\" width=\"540\" height=\"320\"/></clipPath></g><g class=\"gradients\"/><g class=\"patterns\"/></defs><g class=\"bglayer\"><rect class=\"bg\" x=\"80\" y=\"100\" width=\"540\" height=\"320\" style=\"fill: rgb(229, 236, 246); fill-opacity: 1; stroke-width: 0;\"/></g><g class=\"layer-below\"><g class=\"imagelayer\"/><g class=\"shapelayer\"/></g><g class=\"cartesianlayer\"><g class=\"subplot xy\"><g class=\"layer-subplot\"><g class=\"shapelayer\"/><g class=\"imagelayer\"/></g><g class=\"minor-gridlayer\"><g class=\"x\"/><g class=\"y\"/></g><g class=\"gridlayer\"><g class=\"x\"><path class=\"xgrid crisp\" transform=\"translate(222.01,0)\" d=\"M0,100v320\" style=\"stroke: rgb(255, 255, 255); stroke-opacity: 1; stroke-width: 1px;\"/><path class=\"xgrid crisp\" transform=\"translate(333.84000000000003,0)\" d=\"M0,100v320\" style=\"stroke: rgb(255, 255, 255); stroke-opacity: 1; stroke-width: 1px;\"/><path class=\"xgrid crisp\" transform=\"translate(445.67,0)\" d=\"M0,100v320\" style=\"stroke: rgb(255, 255, 255); stroke-opacity: 1; stroke-width: 1px;\"/><path class=\"xgrid crisp\" transform=\"translate(557.5,0)\" d=\"M0,100v320\" style=\"stroke: rgb(255, 255, 255); stroke-opacity: 1; stroke-width: 1px;\"/></g><g class=\"y\"><path class=\"ygrid crisp\" transform=\"translate(0,400.25)\" d=\"M80,0h540\" style=\"stroke: rgb(255, 255, 255); stroke-opacity: 1; stroke-width: 1px;\"/><path class=\"ygrid crisp\" transform=\"translate(0,260)\" d=\"M80,0h540\" style=\"stroke: rgb(255, 255, 255); stroke-opacity: 1; stroke-width: 1px;\"/><path class=\"ygrid crisp\" transform=\"translate(0,119.75)\" d=\"M80,0h540\" style=\"stroke: rgb(255, 255, 255); stroke-opacity: 1; stroke-width: 1px;\"/></g></g><g class=\"zerolinelayer\"><path class=\"xzl zl crisp\" transform=\"translate(110.18,0)\" d=\"M0,100v320\" style=\"stroke: rgb(255, 255, 255); stroke-opacity: 1; stroke-width: 2px;\"/></g><g class=\"layer-between\"><g class=\"shapelayer\"/><g class=\"imagelayer\"/></g><path class=\"xlines-below\"/><path class=\"ylines-below\"/><g class=\"overlines-below\"/><g class=\"xaxislayer-below\"/><g class=\"yaxislayer-below\"/><g class=\"overaxes-below\"/><g class=\"plot\" transform=\"translate(80,100)\" clip-path=\"url(#clipbfe1a3xyplot)\"><g class=\"scatterlayer mlayer\"><g class=\"trace scatter trace4c9f8b\" style=\"stroke-miterlimit: 2; opacity: 1;\"><g class=\"fills\"/><g class=\"errorbars\"/><g class=\"lines\"/><g class=\"points\"><path class=\"point\" transform=\"translate(30.75,300.25)\" d=\"M3,0A3,3 0 1,1 0,-3A3,3 0 0,1 3,0Z\" style=\"opacity: 1; stroke-width: 0px; fill: rgb(99, 110, 250); fill-opacity: 1;\"/><path class=\"point\" transform=\"translate(30.96,300.25)\" d=\"M3,0A3,3 0 1,1 0,-3A3,3 0 0,1 3,0Z\" style=\"opacity: 1; stroke-width: 0px; fill: rgb(99, 110, 250); fill-opacity: 1;\"/><path class=\"point\" transform=\"translate(31.48,300.25)\" d=\"M3,0A3,3 0 1,1 0,-3A3,3 0 0,1 3,0Z\" style=\"opacity: 1; stroke-width: 0px; fill: rgb(99, 110, 250); fill-opacity: 1;\"/><path class=\"point\" transform=\"translate(34.59,300.25)\" d=\"M3,0A3,3 0 1,1 0,-3A3,3 0 0,1 3,0Z\" style=\"opacity: 1; stroke-width: 0px; fill: rgb(99, 110, 250); fill-opacity: 1;\"/><path class=\"point\" transform=\"translate(35.46,300.25)\" d=\"M3,0A3,3 0 1,1 0,-3A3,3 0 0,1 3,0Z\" style=\"opacity: 1; stroke-width: 0px; fill: rgb(99, 110, 250); fill-opacity: 1;\"/><path class=\"point\" transform=\"translate(35.56,300.25)\" d=\"M3,0A3,3 0 1,1 0,-3A3,3 0 0,1 3,0Z\" style=\"opacity: 1; stroke-width: 0px; fill: rgb(99, 110, 250); fill-opacity: 1;\"/><path class=\"point\" transform=\"translate(36.27,300.25)\" d=\"M3,0A3,3 0 1,1 0,-3A3,3 0 0,1 3,0Z\" style=\"opacity: 1; stroke-width: 0px; fill: rgb(99, 110, 250); fill-opacity: 1;\"/><path class=\"point\" transform=\"translate(36.55,300.25)\" d=\"M3,0A3,3 0 1,1 0,-3A3,3 0 0,1 3,0Z\" style=\"opacity: 1; stroke-width: 0px; fill: rgb(99, 110, 250); fill-opacity: 1;\"/><path class=\"point\" transform=\"translate(37.64,300.25)\" d=\"M3,0A3,3 0 1,1 0,-3A3,3 0 0,1 3,0Z\" style=\"opacity: 1; stroke-width: 0px; fill: rgb(99, 110, 250); fill-opacity: 1;\"/><path class=\"point\" transform=\"translate(38.12,300.25)\" d=\"M3,0A3,3 0 1,1 0,-3A3,3 0 0,1 3,0Z\" style=\"opacity: 1; stroke-width: 0px; fill: rgb(99, 110, 250); fill-opacity: 1;\"/><path class=\"point\" transform=\"translate(38.98,300.25)\" d=\"M3,0A3,3 0 1,1 0,-3A3,3 0 0,1 3,0Z\" style=\"opacity: 1; stroke-width: 0px; fill: rgb(99, 110, 250); fill-opacity: 1;\"/><path class=\"point\" transform=\"translate(38.99,300.25)\" d=\"M3,0A3,3 0 1,1 0,-3A3,3 0 0,1 3,0Z\" style=\"opacity: 1; stroke-width: 0px; fill: rgb(99, 110, 250); fill-opacity: 1;\"/><path class=\"point\" transform=\"translate(39.7,300.25)\" d=\"M3,0A3,3 0 1,1 0,-3A3,3 0 0,1 3,0Z\" style=\"opacity: 1; stroke-width: 0px; fill: rgb(99, 110, 250); fill-opacity: 1;\"/><path class=\"point\" transform=\"translate(40.01,300.25)\" d=\"M3,0A3,3 0 1,1 0,-3A3,3 0 0,1 3,0Z\" style=\"opacity: 1; stroke-width: 0px; fill: rgb(99, 110, 250); fill-opacity: 1;\"/><path class=\"point\" transform=\"translate(40.36,300.25)\" d=\"M3,0A3,3 0 1,1 0,-3A3,3 0 0,1 3,0Z\" style=\"opacity: 1; stroke-width: 0px; fill: rgb(99, 110, 250); fill-opacity: 1;\"/><path class=\"point\" transform=\"translate(41.69,300.25)\" d=\"M3,0A3,3 0 1,1 0,-3A3,3 0 0,1 3,0Z\" style=\"opacity: 1; stroke-width: 0px; fill: rgb(99, 110, 250); fill-opacity: 1;\"/><path class=\"point\" transform=\"translate(41.88,300.25)\" d=\"M3,0A3,3 0 1,1 0,-3A3,3 0 0,1 3,0Z\" style=\"opacity: 1; stroke-width: 0px; fill: rgb(99, 110, 250); fill-opacity: 1;\"/><path class=\"point\" transform=\"translate(42.44,300.25)\" d=\"M3,0A3,3 0 1,1 0,-3A3,3 0 0,1 3,0Z\" style=\"opacity: 1; stroke-width: 0px; fill: rgb(99, 110, 250); fill-opacity: 1;\"/><path class=\"point\" transform=\"translate(42.85,300.25)\" d=\"M3,0A3,3 0 1,1 0,-3A3,3 0 0,1 3,0Z\" style=\"opacity: 1; stroke-width: 0px; fill: rgb(99, 110, 250); fill-opacity: 1;\"/><path class=\"point\" transform=\"translate(42.98,300.25)\" d=\"M3,0A3,3 0 1,1 0,-3A3,3 0 0,1 3,0Z\" style=\"opacity: 1; stroke-width: 0px; fill: rgb(99, 110, 250); fill-opacity: 1;\"/><path class=\"point\" transform=\"translate(43.33,300.25)\" d=\"M3,0A3,3 0 1,1 0,-3A3,3 0 0,1 3,0Z\" style=\"opacity: 1; stroke-width: 0px; fill: rgb(99, 110, 250); fill-opacity: 1;\"/><path class=\"point\" transform=\"translate(44.76,300.25)\" d=\"M3,0A3,3 0 1,1 0,-3A3,3 0 0,1 3,0Z\" style=\"opacity: 1; stroke-width: 0px; fill: rgb(99, 110, 250); fill-opacity: 1;\"/><path class=\"point\" transform=\"translate(44.96,300.25)\" d=\"M3,0A3,3 0 1,1 0,-3A3,3 0 0,1 3,0Z\" style=\"opacity: 1; stroke-width: 0px; fill: rgb(99, 110, 250); fill-opacity: 1;\"/><path class=\"point\" transform=\"translate(45.27,300.25)\" d=\"M3,0A3,3 0 1,1 0,-3A3,3 0 0,1 3,0Z\" style=\"opacity: 1; stroke-width: 0px; fill: rgb(99, 110, 250); fill-opacity: 1;\"/><path class=\"point\" transform=\"translate(45.64,300.25)\" d=\"M3,0A3,3 0 1,1 0,-3A3,3 0 0,1 3,0Z\" style=\"opacity: 1; stroke-width: 0px; fill: rgb(99, 110, 250); fill-opacity: 1;\"/><path class=\"point\" transform=\"translate(46.78,300.25)\" d=\"M3,0A3,3 0 1,1 0,-3A3,3 0 0,1 3,0Z\" style=\"opacity: 1; stroke-width: 0px; fill: rgb(99, 110, 250); fill-opacity: 1;\"/><path class=\"point\" transform=\"translate(47.12,300.25)\" d=\"M3,0A3,3 0 1,1 0,-3A3,3 0 0,1 3,0Z\" style=\"opacity: 1; stroke-width: 0px; fill: rgb(99, 110, 250); fill-opacity: 1;\"/><path class=\"point\" transform=\"translate(47.22,300.25)\" d=\"M3,0A3,3 0 1,1 0,-3A3,3 0 0,1 3,0Z\" style=\"opacity: 1; stroke-width: 0px; fill: rgb(99, 110, 250); fill-opacity: 1;\"/><path class=\"point\" transform=\"translate(47.46,300.25)\" d=\"M3,0A3,3 0 1,1 0,-3A3,3 0 0,1 3,0Z\" style=\"opacity: 1; stroke-width: 0px; fill: rgb(99, 110, 250); fill-opacity: 1;\"/><path class=\"point\" transform=\"translate(47.49,300.25)\" d=\"M3,0A3,3 0 1,1 0,-3A3,3 0 0,1 3,0Z\" style=\"opacity: 1; stroke-width: 0px; fill: rgb(99, 110, 250); fill-opacity: 1;\"/><path class=\"point\" transform=\"translate(47.8,300.25)\" d=\"M3,0A3,3 0 1,1 0,-3A3,3 0 0,1 3,0Z\" style=\"opacity: 1; stroke-width: 0px; fill: rgb(99, 110, 250); fill-opacity: 1;\"/><path class=\"point\" transform=\"translate(48.34,300.25)\" d=\"M3,0A3,3 0 1,1 0,-3A3,3 0 0,1 3,0Z\" style=\"opacity: 1; stroke-width: 0px; fill: rgb(99, 110, 250); fill-opacity: 1;\"/><path class=\"point\" transform=\"translate(49.35,300.25)\" d=\"M3,0A3,3 0 1,1 0,-3A3,3 0 0,1 3,0Z\" style=\"opacity: 1; stroke-width: 0px; fill: rgb(99, 110, 250); fill-opacity: 1;\"/><path class=\"point\" transform=\"translate(49.44,300.25)\" d=\"M3,0A3,3 0 1,1 0,-3A3,3 0 0,1 3,0Z\" style=\"opacity: 1; stroke-width: 0px; fill: rgb(99, 110, 250); fill-opacity: 1;\"/><path class=\"point\" transform=\"translate(50.11,300.25)\" d=\"M3,0A3,3 0 1,1 0,-3A3,3 0 0,1 3,0Z\" style=\"opacity: 1; stroke-width: 0px; fill: rgb(99, 110, 250); fill-opacity: 1;\"/><path class=\"point\" transform=\"translate(50.3,300.25)\" d=\"M3,0A3,3 0 1,1 0,-3A3,3 0 0,1 3,0Z\" style=\"opacity: 1; stroke-width: 0px; fill: rgb(99, 110, 250); fill-opacity: 1;\"/><path class=\"point\" transform=\"translate(50.44,300.25)\" d=\"M3,0A3,3 0 1,1 0,-3A3,3 0 0,1 3,0Z\" style=\"opacity: 1; stroke-width: 0px; fill: rgb(99, 110, 250); fill-opacity: 1;\"/><path class=\"point\" transform=\"translate(50.62,300.25)\" d=\"M3,0A3,3 0 1,1 0,-3A3,3 0 0,1 3,0Z\" style=\"opacity: 1; stroke-width: 0px; fill: rgb(99, 110, 250); fill-opacity: 1;\"/><path class=\"point\" transform=\"translate(50.85,300.25)\" d=\"M3,0A3,3 0 1,1 0,-3A3,3 0 0,1 3,0Z\" style=\"opacity: 1; stroke-width: 0px; fill: rgb(99, 110, 250); fill-opacity: 1;\"/><path class=\"point\" transform=\"translate(51.16,300.25)\" d=\"M3,0A3,3 0 1,1 0,-3A3,3 0 0,1 3,0Z\" style=\"opacity: 1; stroke-width: 0px; fill: rgb(99, 110, 250); fill-opacity: 1;\"/><path class=\"point\" transform=\"translate(51.64,300.25)\" d=\"M3,0A3,3 0 1,1 0,-3A3,3 0 0,1 3,0Z\" style=\"opacity: 1; stroke-width: 0px; fill: rgb(99, 110, 250); fill-opacity: 1;\"/><path class=\"point\" transform=\"translate(51.98,300.25)\" d=\"M3,0A3,3 0 1,1 0,-3A3,3 0 0,1 3,0Z\" style=\"opacity: 1; stroke-width: 0px; fill: rgb(99, 110, 250); fill-opacity: 1;\"/><path class=\"point\" transform=\"translate(52.04,300.25)\" d=\"M3,0A3,3 0 1,1 0,-3A3,3 0 0,1 3,0Z\" style=\"opacity: 1; stroke-width: 0px; fill: rgb(99, 110, 250); fill-opacity: 1;\"/><path class=\"point\" transform=\"translate(52.53,300.25)\" d=\"M3,0A3,3 0 1,1 0,-3A3,3 0 0,1 3,0Z\" style=\"opacity: 1; stroke-width: 0px; fill: rgb(99, 110, 250); fill-opacity: 1;\"/><path class=\"point\" transform=\"translate(52.73,300.25)\" d=\"M3,0A3,3 0 1,1 0,-3A3,3 0 0,1 3,0Z\" style=\"opacity: 1; stroke-width: 0px; fill: rgb(99, 110, 250); fill-opacity: 1;\"/><path class=\"point\" transform=\"translate(53.07,300.25)\" d=\"M3,0A3,3 0 1,1 0,-3A3,3 0 0,1 3,0Z\" style=\"opacity: 1; stroke-width: 0px; fill: rgb(99, 110, 250); fill-opacity: 1;\"/><path class=\"point\" transform=\"translate(53.3,300.25)\" d=\"M3,0A3,3 0 1,1 0,-3A3,3 0 0,1 3,0Z\" style=\"opacity: 1; stroke-width: 0px; fill: rgb(99, 110, 250); fill-opacity: 1;\"/><path class=\"point\" transform=\"translate(55.08,300.25)\" d=\"M3,0A3,3 0 1,1 0,-3A3,3 0 0,1 3,0Z\" style=\"opacity: 1; stroke-width: 0px; fill: rgb(99, 110, 250); fill-opacity: 1;\"/><path class=\"point\" transform=\"translate(55.7,300.25)\" d=\"M3,0A3,3 0 1,1 0,-3A3,3 0 0,1 3,0Z\" style=\"opacity: 1; stroke-width: 0px; fill: rgb(99, 110, 250); fill-opacity: 1;\"/><path class=\"point\" transform=\"translate(56.32,300.25)\" d=\"M3,0A3,3 0 1,1 0,-3A3,3 0 0,1 3,0Z\" style=\"opacity: 1; stroke-width: 0px; fill: rgb(99, 110, 250); fill-opacity: 1;\"/><path class=\"point\" transform=\"translate(56.5,300.25)\" d=\"M3,0A3,3 0 1,1 0,-3A3,3 0 0,1 3,0Z\" style=\"opacity: 1; stroke-width: 0px; fill: rgb(99, 110, 250); fill-opacity: 1;\"/><path class=\"point\" transform=\"translate(56.66,300.25)\" d=\"M3,0A3,3 0 1,1 0,-3A3,3 0 0,1 3,0Z\" style=\"opacity: 1; stroke-width: 0px; fill: rgb(99, 110, 250); fill-opacity: 1;\"/><path class=\"point\" transform=\"translate(56.9,300.25)\" d=\"M3,0A3,3 0 1,1 0,-3A3,3 0 0,1 3,0Z\" style=\"opacity: 1; stroke-width: 0px; fill: rgb(99, 110, 250); fill-opacity: 1;\"/><path class=\"point\" transform=\"translate(57.42,300.25)\" d=\"M3,0A3,3 0 1,1 0,-3A3,3 0 0,1 3,0Z\" style=\"opacity: 1; stroke-width: 0px; fill: rgb(99, 110, 250); fill-opacity: 1;\"/><path class=\"point\" transform=\"translate(57.97,300.25)\" d=\"M3,0A3,3 0 1,1 0,-3A3,3 0 0,1 3,0Z\" style=\"opacity: 1; stroke-width: 0px; fill: rgb(99, 110, 250); fill-opacity: 1;\"/><path class=\"point\" transform=\"translate(58.12,19.75)\" d=\"M3,0A3,3 0 1,1 0,-3A3,3 0 0,1 3,0Z\" style=\"opacity: 1; stroke-width: 0px; fill: rgb(99, 110, 250); fill-opacity: 1;\"/><path class=\"point\" transform=\"translate(58.47,300.25)\" d=\"M3,0A3,3 0 1,1 0,-3A3,3 0 0,1 3,0Z\" style=\"opacity: 1; stroke-width: 0px; fill: rgb(99, 110, 250); fill-opacity: 1;\"/><path class=\"point\" transform=\"translate(59.1,300.25)\" d=\"M3,0A3,3 0 1,1 0,-3A3,3 0 0,1 3,0Z\" style=\"opacity: 1; stroke-width: 0px; fill: rgb(99, 110, 250); fill-opacity: 1;\"/><path class=\"point\" transform=\"translate(59.25,300.25)\" d=\"M3,0A3,3 0 1,1 0,-3A3,3 0 0,1 3,0Z\" style=\"opacity: 1; stroke-width: 0px; fill: rgb(99, 110, 250); fill-opacity: 1;\"/><path class=\"point\" transform=\"translate(59.75,300.25)\" d=\"M3,0A3,3 0 1,1 0,-3A3,3 0 0,1 3,0Z\" style=\"opacity: 1; stroke-width: 0px; fill: rgb(99, 110, 250); fill-opacity: 1;\"/><path class=\"point\" transform=\"translate(59.94,300.25)\" d=\"M3,0A3,3 0 1,1 0,-3A3,3 0 0,1 3,0Z\" style=\"opacity: 1; stroke-width: 0px; fill: rgb(99, 110, 250); fill-opacity: 1;\"/><path class=\"point\" transform=\"translate(60.9,300.25)\" d=\"M3,0A3,3 0 1,1 0,-3A3,3 0 0,1 3,0Z\" style=\"opacity: 1; stroke-width: 0px; fill: rgb(99, 110, 250); fill-opacity: 1;\"/><path class=\"point\" transform=\"translate(61.2,300.25)\" d=\"M3,0A3,3 0 1,1 0,-3A3,3 0 0,1 3,0Z\" style=\"opacity: 1; stroke-width: 0px; fill: rgb(99, 110, 250); fill-opacity: 1;\"/><path class=\"point\" transform=\"translate(61.5,300.25)\" d=\"M3,0A3,3 0 1,1 0,-3A3,3 0 0,1 3,0Z\" style=\"opacity: 1; stroke-width: 0px; fill: rgb(99, 110, 250); fill-opacity: 1;\"/><path class=\"point\" transform=\"translate(61.66,300.25)\" d=\"M3,0A3,3 0 1,1 0,-3A3,3 0 0,1 3,0Z\" style=\"opacity: 1; stroke-width: 0px; fill: rgb(99, 110, 250); fill-opacity: 1;\"/><path class=\"point\" transform=\"translate(61.74,300.25)\" d=\"M3,0A3,3 0 1,1 0,-3A3,3 0 0,1 3,0Z\" style=\"opacity: 1; stroke-width: 0px; fill: rgb(99, 110, 250); fill-opacity: 1;\"/><path class=\"point\" transform=\"translate(61.95,300.25)\" d=\"M3,0A3,3 0 1,1 0,-3A3,3 0 0,1 3,0Z\" style=\"opacity: 1; stroke-width: 0px; fill: rgb(99, 110, 250); fill-opacity: 1;\"/><path class=\"point\" transform=\"translate(62.05,300.25)\" d=\"M3,0A3,3 0 1,1 0,-3A3,3 0 0,1 3,0Z\" style=\"opacity: 1; stroke-width: 0px; fill: rgb(99, 110, 250); fill-opacity: 1;\"/><path class=\"point\" transform=\"translate(62.61,300.25)\" d=\"M3,0A3,3 0 1,1 0,-3A3,3 0 0,1 3,0Z\" style=\"opacity: 1; stroke-width: 0px; fill: rgb(99, 110, 250); fill-opacity: 1;\"/><path class=\"point\" transform=\"translate(63.19,300.25)\" d=\"M3,0A3,3 0 1,1 0,-3A3,3 0 0,1 3,0Z\" style=\"opacity: 1; stroke-width: 0px; fill: rgb(99, 110, 250); fill-opacity: 1;\"/><path class=\"point\" transform=\"translate(63.34,300.25)\" d=\"M3,0A3,3 0 1,1 0,-3A3,3 0 0,1 3,0Z\" style=\"opacity: 1; stroke-width: 0px; fill: rgb(99, 110, 250); fill-opacity: 1;\"/><path class=\"point\" transform=\"translate(63.76,300.25)\" d=\"M3,0A3,3 0 1,1 0,-3A3,3 0 0,1 3,0Z\" style=\"opacity: 1; stroke-width: 0px; fill: rgb(99, 110, 250); fill-opacity: 1;\"/><path class=\"point\" transform=\"translate(64.81,300.25)\" d=\"M3,0A3,3 0 1,1 0,-3A3,3 0 0,1 3,0Z\" style=\"opacity: 1; stroke-width: 0px; fill: rgb(99, 110, 250); fill-opacity: 1;\"/><path class=\"point\" transform=\"translate(65.76,300.25)\" d=\"M3,0A3,3 0 1,1 0,-3A3,3 0 0,1 3,0Z\" style=\"opacity: 1; stroke-width: 0px; fill: rgb(99, 110, 250); fill-opacity: 1;\"/><path class=\"point\" transform=\"translate(66.09,300.25)\" d=\"M3,0A3,3 0 1,1 0,-3A3,3 0 0,1 3,0Z\" style=\"opacity: 1; stroke-width: 0px; fill: rgb(99, 110, 250); fill-opacity: 1;\"/><path class=\"point\" transform=\"translate(66.54,300.25)\" d=\"M3,0A3,3 0 1,1 0,-3A3,3 0 0,1 3,0Z\" style=\"opacity: 1; stroke-width: 0px; fill: rgb(99, 110, 250); fill-opacity: 1;\"/><path class=\"point\" transform=\"translate(67.02,300.25)\" d=\"M3,0A3,3 0 1,1 0,-3A3,3 0 0,1 3,0Z\" style=\"opacity: 1; stroke-width: 0px; fill: rgb(99, 110, 250); fill-opacity: 1;\"/><path class=\"point\" transform=\"translate(67.05,300.25)\" d=\"M3,0A3,3 0 1,1 0,-3A3,3 0 0,1 3,0Z\" style=\"opacity: 1; stroke-width: 0px; fill: rgb(99, 110, 250); fill-opacity: 1;\"/><path class=\"point\" transform=\"translate(68.56,300.25)\" d=\"M3,0A3,3 0 1,1 0,-3A3,3 0 0,1 3,0Z\" style=\"opacity: 1; stroke-width: 0px; fill: rgb(99, 110, 250); fill-opacity: 1;\"/><path class=\"point\" transform=\"translate(69.58,300.25)\" d=\"M3,0A3,3 0 1,1 0,-3A3,3 0 0,1 3,0Z\" style=\"opacity: 1; stroke-width: 0px; fill: rgb(99, 110, 250); fill-opacity: 1;\"/><path class=\"point\" transform=\"translate(70.32,300.25)\" d=\"M3,0A3,3 0 1,1 0,-3A3,3 0 0,1 3,0Z\" style=\"opacity: 1; stroke-width: 0px; fill: rgb(99, 110, 250); fill-opacity: 1;\"/><path class=\"point\" transform=\"translate(70.8,300.25)\" d=\"M3,0A3,3 0 1,1 0,-3A3,3 0 0,1 3,0Z\" style=\"opacity: 1; stroke-width: 0px; fill: rgb(99, 110, 250); fill-opacity: 1;\"/><path class=\"point\" transform=\"translate(71.18,160)\" d=\"M3,0A3,3 0 1,1 0,-3A3,3 0 0,1 3,0Z\" style=\"opacity: 1; stroke-width: 0px; fill: rgb(99, 110, 250); fill-opacity: 1;\"/><path class=\"point\" transform=\"translate(71.24,300.25)\" d=\"M3,0A3,3 0 1,1 0,-3A3,3 0 0,1 3,0Z\" style=\"opacity: 1; stroke-width: 0px; fill: rgb(99, 110, 250); fill-opacity: 1;\"/><path class=\"point\" transform=\"translate(71.35,300.25)\" d=\"M3,0A3,3 0 1,1 0,-3A3,3 0 0,1 3,0Z\" style=\"opacity: 1; stroke-width: 0px; fill: rgb(99, 110, 250); fill-opacity: 1;\"/><path class=\"point\" transform=\"translate(71.41,300.25)\" d=\"M3,0A3,3 0 1,1 0,-3A3,3 0 0,1 3,0Z\" style=\"opacity: 1; stroke-width: 0px; fill: rgb(99, 110, 250); fill-opacity: 1;\"/><path class=\"point\" transform=\"translate(71.6,300.25)\" d=\"M3,0A3,3 0 1,1 0,-3A3,3 0 0,1 3,0Z\" style=\"opacity: 1; stroke-width: 0px; fill: rgb(99, 110, 250); fill-opacity: 1;\"/><path class=\"point\" transform=\"translate(72.82,300.25)\" d=\"M3,0A3,3 0 1,1 0,-3A3,3 0 0,1 3,0Z\" style=\"opacity: 1; stroke-width: 0px; fill: rgb(99, 110, 250); fill-opacity: 1;\"/><path class=\"point\" transform=\"translate(72.99,300.25)\" d=\"M3,0A3,3 0 1,1 0,-3A3,3 0 0,1 3,0Z\" style=\"opacity: 1; stroke-width: 0px; fill: rgb(99, 110, 250); fill-opacity: 1;\"/><path class=\"point\" transform=\"translate(73.48,300.25)\" d=\"M3,0A3,3 0 1,1 0,-3A3,3 0 0,1 3,0Z\" style=\"opacity: 1; stroke-width: 0px; fill: rgb(99, 110, 250); fill-opacity: 1;\"/><path class=\"point\" transform=\"translate(74.06,300.25)\" d=\"M3,0A3,3 0 1,1 0,-3A3,3 0 0,1 3,0Z\" style=\"opacity: 1; stroke-width: 0px; fill: rgb(99, 110, 250); fill-opacity: 1;\"/><path class=\"point\" transform=\"translate(74.82,300.25)\" d=\"M3,0A3,3 0 1,1 0,-3A3,3 0 0,1 3,0Z\" style=\"opacity: 1; stroke-width: 0px; fill: rgb(99, 110, 250); fill-opacity: 1;\"/><path class=\"point\" transform=\"translate(74.84,300.25)\" d=\"M3,0A3,3 0 1,1 0,-3A3,3 0 0,1 3,0Z\" style=\"opacity: 1; stroke-width: 0px; fill: rgb(99, 110, 250); fill-opacity: 1;\"/><path class=\"point\" transform=\"translate(74.95,300.25)\" d=\"M3,0A3,3 0 1,1 0,-3A3,3 0 0,1 3,0Z\" style=\"opacity: 1; stroke-width: 0px; fill: rgb(99, 110, 250); fill-opacity: 1;\"/><path class=\"point\" transform=\"translate(75.6,160)\" d=\"M3,0A3,3 0 1,1 0,-3A3,3 0 0,1 3,0Z\" style=\"opacity: 1; stroke-width: 0px; fill: rgb(99, 110, 250); fill-opacity: 1;\"/><path class=\"point\" transform=\"translate(75.77,300.25)\" d=\"M3,0A3,3 0 1,1 0,-3A3,3 0 0,1 3,0Z\" style=\"opacity: 1; stroke-width: 0px; fill: rgb(99, 110, 250); fill-opacity: 1;\"/><path class=\"point\" transform=\"translate(76.04,300.25)\" d=\"M3,0A3,3 0 1,1 0,-3A3,3 0 0,1 3,0Z\" style=\"opacity: 1; stroke-width: 0px; fill: rgb(99, 110, 250); fill-opacity: 1;\"/><path class=\"point\" transform=\"translate(76.54,300.25)\" d=\"M3,0A3,3 0 1,1 0,-3A3,3 0 0,1 3,0Z\" style=\"opacity: 1; stroke-width: 0px; fill: rgb(99, 110, 250); fill-opacity: 1;\"/><path class=\"point\" transform=\"translate(76.84,300.25)\" d=\"M3,0A3,3 0 1,1 0,-3A3,3 0 0,1 3,0Z\" style=\"opacity: 1; stroke-width: 0px; fill: rgb(99, 110, 250); fill-opacity: 1;\"/><path class=\"point\" transform=\"translate(77.93,300.25)\" d=\"M3,0A3,3 0 1,1 0,-3A3,3 0 0,1 3,0Z\" style=\"opacity: 1; stroke-width: 0px; fill: rgb(99, 110, 250); fill-opacity: 1;\"/><path class=\"point\" transform=\"translate(78.07,300.25)\" d=\"M3,0A3,3 0 1,1 0,-3A3,3 0 0,1 3,0Z\" style=\"opacity: 1; stroke-width: 0px; fill: rgb(99, 110, 250); fill-opacity: 1;\"/><path class=\"point\" transform=\"translate(78.37,300.25)\" d=\"M3,0A3,3 0 1,1 0,-3A3,3 0 0,1 3,0Z\" style=\"opacity: 1; stroke-width: 0px; fill: rgb(99, 110, 250); fill-opacity: 1;\"/><path class=\"point\" transform=\"translate(78.71,300.25)\" d=\"M3,0A3,3 0 1,1 0,-3A3,3 0 0,1 3,0Z\" style=\"opacity: 1; stroke-width: 0px; fill: rgb(99, 110, 250); fill-opacity: 1;\"/><path class=\"point\" transform=\"translate(79.64,300.25)\" d=\"M3,0A3,3 0 1,1 0,-3A3,3 0 0,1 3,0Z\" style=\"opacity: 1; stroke-width: 0px; fill: rgb(99, 110, 250); fill-opacity: 1;\"/><path class=\"point\" transform=\"translate(80.26,300.25)\" d=\"M3,0A3,3 0 1,1 0,-3A3,3 0 0,1 3,0Z\" style=\"opacity: 1; stroke-width: 0px; fill: rgb(99, 110, 250); fill-opacity: 1;\"/><path class=\"point\" transform=\"translate(80.63,300.25)\" d=\"M3,0A3,3 0 1,1 0,-3A3,3 0 0,1 3,0Z\" style=\"opacity: 1; stroke-width: 0px; fill: rgb(99, 110, 250); fill-opacity: 1;\"/><path class=\"point\" transform=\"translate(81.22,300.25)\" d=\"M3,0A3,3 0 1,1 0,-3A3,3 0 0,1 3,0Z\" style=\"opacity: 1; stroke-width: 0px; fill: rgb(99, 110, 250); fill-opacity: 1;\"/><path class=\"point\" transform=\"translate(81.43,300.25)\" d=\"M3,0A3,3 0 1,1 0,-3A3,3 0 0,1 3,0Z\" style=\"opacity: 1; stroke-width: 0px; fill: rgb(99, 110, 250); fill-opacity: 1;\"/><path class=\"point\" transform=\"translate(82.41,300.25)\" d=\"M3,0A3,3 0 1,1 0,-3A3,3 0 0,1 3,0Z\" style=\"opacity: 1; stroke-width: 0px; fill: rgb(99, 110, 250); fill-opacity: 1;\"/><path class=\"point\" transform=\"translate(82.51,300.25)\" d=\"M3,0A3,3 0 1,1 0,-3A3,3 0 0,1 3,0Z\" style=\"opacity: 1; stroke-width: 0px; fill: rgb(99, 110, 250); fill-opacity: 1;\"/><path class=\"point\" transform=\"translate(82.75,300.25)\" d=\"M3,0A3,3 0 1,1 0,-3A3,3 0 0,1 3,0Z\" style=\"opacity: 1; stroke-width: 0px; fill: rgb(99, 110, 250); fill-opacity: 1;\"/><path class=\"point\" transform=\"translate(82.94,300.25)\" d=\"M3,0A3,3 0 1,1 0,-3A3,3 0 0,1 3,0Z\" style=\"opacity: 1; stroke-width: 0px; fill: rgb(99, 110, 250); fill-opacity: 1;\"/><path class=\"point\" transform=\"translate(83.11,300.25)\" d=\"M3,0A3,3 0 1,1 0,-3A3,3 0 0,1 3,0Z\" style=\"opacity: 1; stroke-width: 0px; fill: rgb(99, 110, 250); fill-opacity: 1;\"/><path class=\"point\" transform=\"translate(85.28,300.25)\" d=\"M3,0A3,3 0 1,1 0,-3A3,3 0 0,1 3,0Z\" style=\"opacity: 1; stroke-width: 0px; fill: rgb(99, 110, 250); fill-opacity: 1;\"/><path class=\"point\" transform=\"translate(85.61,300.25)\" d=\"M3,0A3,3 0 1,1 0,-3A3,3 0 0,1 3,0Z\" style=\"opacity: 1; stroke-width: 0px; fill: rgb(99, 110, 250); fill-opacity: 1;\"/><path class=\"point\" transform=\"translate(87.11,300.25)\" d=\"M3,0A3,3 0 1,1 0,-3A3,3 0 0,1 3,0Z\" style=\"opacity: 1; stroke-width: 0px; fill: rgb(99, 110, 250); fill-opacity: 1;\"/><path class=\"point\" transform=\"translate(88.01,300.25)\" d=\"M3,0A3,3 0 1,1 0,-3A3,3 0 0,1 3,0Z\" style=\"opacity: 1; stroke-width: 0px; fill: rgb(99, 110, 250); fill-opacity: 1;\"/><path class=\"point\" transform=\"translate(88.2,300.25)\" d=\"M3,0A3,3 0 1,1 0,-3A3,3 0 0,1 3,0Z\" style=\"opacity: 1; stroke-width: 0px; fill: rgb(99, 110, 250); fill-opacity: 1;\"/><path class=\"point\" transform=\"translate(88.59,160)\" d=\"M3,0A3,3 0 1,1 0,-3A3,3 0 0,1 3,0Z\" style=\"opacity: 1; stroke-width: 0px; fill: rgb(99, 110, 250); fill-opacity: 1;\"/><path class=\"point\" transform=\"translate(89.48,300.25)\" d=\"M3,0A3,3 0 1,1 0,-3A3,3 0 0,1 3,0Z\" style=\"opacity: 1; stroke-width: 0px; fill: rgb(99, 110, 250); fill-opacity: 1;\"/><path class=\"point\" transform=\"translate(90.1,300.25)\" d=\"M3,0A3,3 0 1,1 0,-3A3,3 0 0,1 3,0Z\" style=\"opacity: 1; stroke-width: 0px; fill: rgb(99, 110, 250); fill-opacity: 1;\"/><path class=\"point\" transform=\"translate(90.3,300.25)\" d=\"M3,0A3,3 0 1,1 0,-3A3,3 0 0,1 3,0Z\" style=\"opacity: 1; stroke-width: 0px; fill: rgb(99, 110, 250); fill-opacity: 1;\"/><path class=\"point\" transform=\"translate(91.09,300.25)\" d=\"M3,0A3,3 0 1,1 0,-3A3,3 0 0,1 3,0Z\" style=\"opacity: 1; stroke-width: 0px; fill: rgb(99, 110, 250); fill-opacity: 1;\"/><path class=\"point\" transform=\"translate(91.12,300.25)\" d=\"M3,0A3,3 0 1,1 0,-3A3,3 0 0,1 3,0Z\" style=\"opacity: 1; stroke-width: 0px; fill: rgb(99, 110, 250); fill-opacity: 1;\"/><path class=\"point\" transform=\"translate(91.81,300.25)\" d=\"M3,0A3,3 0 1,1 0,-3A3,3 0 0,1 3,0Z\" style=\"opacity: 1; stroke-width: 0px; fill: rgb(99, 110, 250); fill-opacity: 1;\"/><path class=\"point\" transform=\"translate(93.61,300.25)\" d=\"M3,0A3,3 0 1,1 0,-3A3,3 0 0,1 3,0Z\" style=\"opacity: 1; stroke-width: 0px; fill: rgb(99, 110, 250); fill-opacity: 1;\"/><path class=\"point\" transform=\"translate(93.98,300.25)\" d=\"M3,0A3,3 0 1,1 0,-3A3,3 0 0,1 3,0Z\" style=\"opacity: 1; stroke-width: 0px; fill: rgb(99, 110, 250); fill-opacity: 1;\"/><path class=\"point\" transform=\"translate(94.18,300.25)\" d=\"M3,0A3,3 0 1,1 0,-3A3,3 0 0,1 3,0Z\" style=\"opacity: 1; stroke-width: 0px; fill: rgb(99, 110, 250); fill-opacity: 1;\"/><path class=\"point\" transform=\"translate(94.3,300.25)\" d=\"M3,0A3,3 0 1,1 0,-3A3,3 0 0,1 3,0Z\" style=\"opacity: 1; stroke-width: 0px; fill: rgb(99, 110, 250); fill-opacity: 1;\"/><path class=\"point\" transform=\"translate(95.32,300.25)\" d=\"M3,0A3,3 0 1,1 0,-3A3,3 0 0,1 3,0Z\" style=\"opacity: 1; stroke-width: 0px; fill: rgb(99, 110, 250); fill-opacity: 1;\"/><path class=\"point\" transform=\"translate(95.42,300.25)\" d=\"M3,0A3,3 0 1,1 0,-3A3,3 0 0,1 3,0Z\" style=\"opacity: 1; stroke-width: 0px; fill: rgb(99, 110, 250); fill-opacity: 1;\"/><path class=\"point\" transform=\"translate(95.48,300.25)\" d=\"M3,0A3,3 0 1,1 0,-3A3,3 0 0,1 3,0Z\" style=\"opacity: 1; stroke-width: 0px; fill: rgb(99, 110, 250); fill-opacity: 1;\"/><path class=\"point\" transform=\"translate(95.72,300.25)\" d=\"M3,0A3,3 0 1,1 0,-3A3,3 0 0,1 3,0Z\" style=\"opacity: 1; stroke-width: 0px; fill: rgb(99, 110, 250); fill-opacity: 1;\"/><path class=\"point\" transform=\"translate(96.14,300.25)\" d=\"M3,0A3,3 0 1,1 0,-3A3,3 0 0,1 3,0Z\" style=\"opacity: 1; stroke-width: 0px; fill: rgb(99, 110, 250); fill-opacity: 1;\"/><path class=\"point\" transform=\"translate(97.34,300.25)\" d=\"M3,0A3,3 0 1,1 0,-3A3,3 0 0,1 3,0Z\" style=\"opacity: 1; stroke-width: 0px; fill: rgb(99, 110, 250); fill-opacity: 1;\"/><path class=\"point\" transform=\"translate(97.38,300.25)\" d=\"M3,0A3,3 0 1,1 0,-3A3,3 0 0,1 3,0Z\" style=\"opacity: 1; stroke-width: 0px; fill: rgb(99, 110, 250); fill-opacity: 1;\"/><path class=\"point\" transform=\"translate(97.38,300.25)\" d=\"M3,0A3,3 0 1,1 0,-3A3,3 0 0,1 3,0Z\" style=\"opacity: 1; stroke-width: 0px; fill: rgb(99, 110, 250); fill-opacity: 1;\"/><path class=\"point\" transform=\"translate(98.24,300.25)\" d=\"M3,0A3,3 0 1,1 0,-3A3,3 0 0,1 3,0Z\" style=\"opacity: 1; stroke-width: 0px; fill: rgb(99, 110, 250); fill-opacity: 1;\"/><path class=\"point\" transform=\"translate(98.51,19.75)\" d=\"M3,0A3,3 0 1,1 0,-3A3,3 0 0,1 3,0Z\" style=\"opacity: 1; stroke-width: 0px; fill: rgb(99, 110, 250); fill-opacity: 1;\"/><path class=\"point\" transform=\"translate(98.68,300.25)\" d=\"M3,0A3,3 0 1,1 0,-3A3,3 0 0,1 3,0Z\" style=\"opacity: 1; stroke-width: 0px; fill: rgb(99, 110, 250); fill-opacity: 1;\"/><path class=\"point\" transform=\"translate(99.49,300.25)\" d=\"M3,0A3,3 0 1,1 0,-3A3,3 0 0,1 3,0Z\" style=\"opacity: 1; stroke-width: 0px; fill: rgb(99, 110, 250); fill-opacity: 1;\"/><path class=\"point\" transform=\"translate(99.67,300.25)\" d=\"M3,0A3,3 0 1,1 0,-3A3,3 0 0,1 3,0Z\" style=\"opacity: 1; stroke-width: 0px; fill: rgb(99, 110, 250); fill-opacity: 1;\"/><path class=\"point\" transform=\"translate(99.85,300.25)\" d=\"M3,0A3,3 0 1,1 0,-3A3,3 0 0,1 3,0Z\" style=\"opacity: 1; stroke-width: 0px; fill: rgb(99, 110, 250); fill-opacity: 1;\"/><path class=\"point\" transform=\"translate(99.88,300.25)\" d=\"M3,0A3,3 0 1,1 0,-3A3,3 0 0,1 3,0Z\" style=\"opacity: 1; stroke-width: 0px; fill: rgb(99, 110, 250); fill-opacity: 1;\"/><path class=\"point\" transform=\"translate(100.09,300.25)\" d=\"M3,0A3,3 0 1,1 0,-3A3,3 0 0,1 3,0Z\" style=\"opacity: 1; stroke-width: 0px; fill: rgb(99, 110, 250); fill-opacity: 1;\"/><path class=\"point\" transform=\"translate(100.32,300.25)\" d=\"M3,0A3,3 0 1,1 0,-3A3,3 0 0,1 3,0Z\" style=\"opacity: 1; stroke-width: 0px; fill: rgb(99, 110, 250); fill-opacity: 1;\"/><path class=\"point\" transform=\"translate(101.13,300.25)\" d=\"M3,0A3,3 0 1,1 0,-3A3,3 0 0,1 3,0Z\" style=\"opacity: 1; stroke-width: 0px; fill: rgb(99, 110, 250); fill-opacity: 1;\"/><path class=\"point\" transform=\"translate(101.3,300.25)\" d=\"M3,0A3,3 0 1,1 0,-3A3,3 0 0,1 3,0Z\" style=\"opacity: 1; stroke-width: 0px; fill: rgb(99, 110, 250); fill-opacity: 1;\"/><path class=\"point\" transform=\"translate(102.07,300.25)\" d=\"M3,0A3,3 0 1,1 0,-3A3,3 0 0,1 3,0Z\" style=\"opacity: 1; stroke-width: 0px; fill: rgb(99, 110, 250); fill-opacity: 1;\"/><path class=\"point\" transform=\"translate(102.12,300.25)\" d=\"M3,0A3,3 0 1,1 0,-3A3,3 0 0,1 3,0Z\" style=\"opacity: 1; stroke-width: 0px; fill: rgb(99, 110, 250); fill-opacity: 1;\"/><path class=\"point\" transform=\"translate(102.36,300.25)\" d=\"M3,0A3,3 0 1,1 0,-3A3,3 0 0,1 3,0Z\" style=\"opacity: 1; stroke-width: 0px; fill: rgb(99, 110, 250); fill-opacity: 1;\"/><path class=\"point\" transform=\"translate(102.9,300.25)\" d=\"M3,0A3,3 0 1,1 0,-3A3,3 0 0,1 3,0Z\" style=\"opacity: 1; stroke-width: 0px; fill: rgb(99, 110, 250); fill-opacity: 1;\"/><path class=\"point\" transform=\"translate(103.42,300.25)\" d=\"M3,0A3,3 0 1,1 0,-3A3,3 0 0,1 3,0Z\" style=\"opacity: 1; stroke-width: 0px; fill: rgb(99, 110, 250); fill-opacity: 1;\"/><path class=\"point\" transform=\"translate(103.65,300.25)\" d=\"M3,0A3,3 0 1,1 0,-3A3,3 0 0,1 3,0Z\" style=\"opacity: 1; stroke-width: 0px; fill: rgb(99, 110, 250); fill-opacity: 1;\"/><path class=\"point\" transform=\"translate(103.94,300.25)\" d=\"M3,0A3,3 0 1,1 0,-3A3,3 0 0,1 3,0Z\" style=\"opacity: 1; stroke-width: 0px; fill: rgb(99, 110, 250); fill-opacity: 1;\"/><path class=\"point\" transform=\"translate(104.74,300.25)\" d=\"M3,0A3,3 0 1,1 0,-3A3,3 0 0,1 3,0Z\" style=\"opacity: 1; stroke-width: 0px; fill: rgb(99, 110, 250); fill-opacity: 1;\"/><path class=\"point\" transform=\"translate(105.29,300.25)\" d=\"M3,0A3,3 0 1,1 0,-3A3,3 0 0,1 3,0Z\" style=\"opacity: 1; stroke-width: 0px; fill: rgb(99, 110, 250); fill-opacity: 1;\"/><path class=\"point\" transform=\"translate(106.04,160)\" d=\"M3,0A3,3 0 1,1 0,-3A3,3 0 0,1 3,0Z\" style=\"opacity: 1; stroke-width: 0px; fill: rgb(99, 110, 250); fill-opacity: 1;\"/><path class=\"point\" transform=\"translate(106.24,300.25)\" d=\"M3,0A3,3 0 1,1 0,-3A3,3 0 0,1 3,0Z\" style=\"opacity: 1; stroke-width: 0px; fill: rgb(99, 110, 250); fill-opacity: 1;\"/><path class=\"point\" transform=\"translate(106.62,300.25)\" d=\"M3,0A3,3 0 1,1 0,-3A3,3 0 0,1 3,0Z\" style=\"opacity: 1; stroke-width: 0px; fill: rgb(99, 110, 250); fill-opacity: 1;\"/><path class=\"point\" transform=\"translate(106.64,300.25)\" d=\"M3,0A3,3 0 1,1 0,-3A3,3 0 0,1 3,0Z\" style=\"opacity: 1; stroke-width: 0px; fill: rgb(99, 110, 250); fill-opacity: 1;\"/><path class=\"point\" transform=\"translate(107.24,300.25)\" d=\"M3,0A3,3 0 1,1 0,-3A3,3 0 0,1 3,0Z\" style=\"opacity: 1; stroke-width: 0px; fill: rgb(99, 110, 250); fill-opacity: 1;\"/><path class=\"point\" transform=\"translate(108.79,300.25)\" d=\"M3,0A3,3 0 1,1 0,-3A3,3 0 0,1 3,0Z\" style=\"opacity: 1; stroke-width: 0px; fill: rgb(99, 110, 250); fill-opacity: 1;\"/><path class=\"point\" transform=\"translate(109.1,300.25)\" d=\"M3,0A3,3 0 1,1 0,-3A3,3 0 0,1 3,0Z\" style=\"opacity: 1; stroke-width: 0px; fill: rgb(99, 110, 250); fill-opacity: 1;\"/><path class=\"point\" transform=\"translate(109.34,300.25)\" d=\"M3,0A3,3 0 1,1 0,-3A3,3 0 0,1 3,0Z\" style=\"opacity: 1; stroke-width: 0px; fill: rgb(99, 110, 250); fill-opacity: 1;\"/><path class=\"point\" transform=\"translate(109.57,300.25)\" d=\"M3,0A3,3 0 1,1 0,-3A3,3 0 0,1 3,0Z\" style=\"opacity: 1; stroke-width: 0px; fill: rgb(99, 110, 250); fill-opacity: 1;\"/><path class=\"point\" transform=\"translate(109.66,300.25)\" d=\"M3,0A3,3 0 1,1 0,-3A3,3 0 0,1 3,0Z\" style=\"opacity: 1; stroke-width: 0px; fill: rgb(99, 110, 250); fill-opacity: 1;\"/><path class=\"point\" transform=\"translate(110.31,300.25)\" d=\"M3,0A3,3 0 1,1 0,-3A3,3 0 0,1 3,0Z\" style=\"opacity: 1; stroke-width: 0px; fill: rgb(99, 110, 250); fill-opacity: 1;\"/><path class=\"point\" transform=\"translate(110.87,300.25)\" d=\"M3,0A3,3 0 1,1 0,-3A3,3 0 0,1 3,0Z\" style=\"opacity: 1; stroke-width: 0px; fill: rgb(99, 110, 250); fill-opacity: 1;\"/><path class=\"point\" transform=\"translate(111.04,300.25)\" d=\"M3,0A3,3 0 1,1 0,-3A3,3 0 0,1 3,0Z\" style=\"opacity: 1; stroke-width: 0px; fill: rgb(99, 110, 250); fill-opacity: 1;\"/><path class=\"point\" transform=\"translate(111.6,300.25)\" d=\"M3,0A3,3 0 1,1 0,-3A3,3 0 0,1 3,0Z\" style=\"opacity: 1; stroke-width: 0px; fill: rgb(99, 110, 250); fill-opacity: 1;\"/><path class=\"point\" transform=\"translate(112.14,300.25)\" d=\"M3,0A3,3 0 1,1 0,-3A3,3 0 0,1 3,0Z\" style=\"opacity: 1; stroke-width: 0px; fill: rgb(99, 110, 250); fill-opacity: 1;\"/><path class=\"point\" transform=\"translate(112.63,300.25)\" d=\"M3,0A3,3 0 1,1 0,-3A3,3 0 0,1 3,0Z\" style=\"opacity: 1; stroke-width: 0px; fill: rgb(99, 110, 250); fill-opacity: 1;\"/><path class=\"point\" transform=\"translate(114.03,300.25)\" d=\"M3,0A3,3 0 1,1 0,-3A3,3 0 0,1 3,0Z\" style=\"opacity: 1; stroke-width: 0px; fill: rgb(99, 110, 250); fill-opacity: 1;\"/><path class=\"point\" transform=\"translate(114.03,300.25)\" d=\"M3,0A3,3 0 1,1 0,-3A3,3 0 0,1 3,0Z\" style=\"opacity: 1; stroke-width: 0px; fill: rgb(99, 110, 250); fill-opacity: 1;\"/><path class=\"point\" transform=\"translate(114.71,300.25)\" d=\"M3,0A3,3 0 1,1 0,-3A3,3 0 0,1 3,0Z\" style=\"opacity: 1; stroke-width: 0px; fill: rgb(99, 110, 250); fill-opacity: 1;\"/><path class=\"point\" transform=\"translate(115.11,160)\" d=\"M3,0A3,3 0 1,1 0,-3A3,3 0 0,1 3,0Z\" style=\"opacity: 1; stroke-width: 0px; fill: rgb(99, 110, 250); fill-opacity: 1;\"/><path class=\"point\" transform=\"translate(118.28,300.25)\" d=\"M3,0A3,3 0 1,1 0,-3A3,3 0 0,1 3,0Z\" style=\"opacity: 1; stroke-width: 0px; fill: rgb(99, 110, 250); fill-opacity: 1;\"/><path class=\"point\" transform=\"translate(118.44,300.25)\" d=\"M3,0A3,3 0 1,1 0,-3A3,3 0 0,1 3,0Z\" style=\"opacity: 1; stroke-width: 0px; fill: rgb(99, 110, 250); fill-opacity: 1;\"/><path class=\"point\" transform=\"translate(118.87,300.25)\" d=\"M3,0A3,3 0 1,1 0,-3A3,3 0 0,1 3,0Z\" style=\"opacity: 1; stroke-width: 0px; fill: rgb(99, 110, 250); fill-opacity: 1;\"/><path class=\"point\" transform=\"translate(120.06,300.25)\" d=\"M3,0A3,3 0 1,1 0,-3A3,3 0 0,1 3,0Z\" style=\"opacity: 1; stroke-width: 0px; fill: rgb(99, 110, 250); fill-opacity: 1;\"/><path class=\"point\" transform=\"translate(121.52,300.25)\" d=\"M3,0A3,3 0 1,1 0,-3A3,3 0 0,1 3,0Z\" style=\"opacity: 1; stroke-width: 0px; fill: rgb(99, 110, 250); fill-opacity: 1;\"/><path class=\"point\" transform=\"translate(122.09,300.25)\" d=\"M3,0A3,3 0 1,1 0,-3A3,3 0 0,1 3,0Z\" style=\"opacity: 1; stroke-width: 0px; fill: rgb(99, 110, 250); fill-opacity: 1;\"/><path class=\"point\" transform=\"translate(123.52,300.25)\" d=\"M3,0A3,3 0 1,1 0,-3A3,3 0 0,1 3,0Z\" style=\"opacity: 1; stroke-width: 0px; fill: rgb(99, 110, 250); fill-opacity: 1;\"/><path class=\"point\" transform=\"translate(123.53,300.25)\" d=\"M3,0A3,3 0 1,1 0,-3A3,3 0 0,1 3,0Z\" style=\"opacity: 1; stroke-width: 0px; fill: rgb(99, 110, 250); fill-opacity: 1;\"/><path class=\"point\" transform=\"translate(123.62,300.25)\" d=\"M3,0A3,3 0 1,1 0,-3A3,3 0 0,1 3,0Z\" style=\"opacity: 1; stroke-width: 0px; fill: rgb(99, 110, 250); fill-opacity: 1;\"/><path class=\"point\" transform=\"translate(123.62,300.25)\" d=\"M3,0A3,3 0 1,1 0,-3A3,3 0 0,1 3,0Z\" style=\"opacity: 1; stroke-width: 0px; fill: rgb(99, 110, 250); fill-opacity: 1;\"/><path class=\"point\" transform=\"translate(125.27,300.25)\" d=\"M3,0A3,3 0 1,1 0,-3A3,3 0 0,1 3,0Z\" style=\"opacity: 1; stroke-width: 0px; fill: rgb(99, 110, 250); fill-opacity: 1;\"/><path class=\"point\" transform=\"translate(125.76,300.25)\" d=\"M3,0A3,3 0 1,1 0,-3A3,3 0 0,1 3,0Z\" style=\"opacity: 1; stroke-width: 0px; fill: rgb(99, 110, 250); fill-opacity: 1;\"/><path class=\"point\" transform=\"translate(125.94,300.25)\" d=\"M3,0A3,3 0 1,1 0,-3A3,3 0 0,1 3,0Z\" style=\"opacity: 1; stroke-width: 0px; fill: rgb(99, 110, 250); fill-opacity: 1;\"/><path class=\"point\" transform=\"translate(125.94,300.25)\" d=\"M3,0A3,3 0 1,1 0,-3A3,3 0 0,1 3,0Z\" style=\"opacity: 1; stroke-width: 0px; fill: rgb(99, 110, 250); fill-opacity: 1;\"/><path class=\"point\" transform=\"translate(126.19,300.25)\" d=\"M3,0A3,3 0 1,1 0,-3A3,3 0 0,1 3,0Z\" style=\"opacity: 1; stroke-width: 0px; fill: rgb(99, 110, 250); fill-opacity: 1;\"/><path class=\"point\" transform=\"translate(126.69,300.25)\" d=\"M3,0A3,3 0 1,1 0,-3A3,3 0 0,1 3,0Z\" style=\"opacity: 1; stroke-width: 0px; fill: rgb(99, 110, 250); fill-opacity: 1;\"/><path class=\"point\" transform=\"translate(127.01,300.25)\" d=\"M3,0A3,3 0 1,1 0,-3A3,3 0 0,1 3,0Z\" style=\"opacity: 1; stroke-width: 0px; fill: rgb(99, 110, 250); fill-opacity: 1;\"/><path class=\"point\" transform=\"translate(127.06,300.25)\" d=\"M3,0A3,3 0 1,1 0,-3A3,3 0 0,1 3,0Z\" style=\"opacity: 1; stroke-width: 0px; fill: rgb(99, 110, 250); fill-opacity: 1;\"/><path class=\"point\" transform=\"translate(127.36,300.25)\" d=\"M3,0A3,3 0 1,1 0,-3A3,3 0 0,1 3,0Z\" style=\"opacity: 1; stroke-width: 0px; fill: rgb(99, 110, 250); fill-opacity: 1;\"/><path class=\"point\" transform=\"translate(127.77,300.25)\" d=\"M3,0A3,3 0 1,1 0,-3A3,3 0 0,1 3,0Z\" style=\"opacity: 1; stroke-width: 0px; fill: rgb(99, 110, 250); fill-opacity: 1;\"/><path class=\"point\" transform=\"translate(128.15,300.25)\" d=\"M3,0A3,3 0 1,1 0,-3A3,3 0 0,1 3,0Z\" style=\"opacity: 1; stroke-width: 0px; fill: rgb(99, 110, 250); fill-opacity: 1;\"/><path class=\"point\" transform=\"translate(128.57,300.25)\" d=\"M3,0A3,3 0 1,1 0,-3A3,3 0 0,1 3,0Z\" style=\"opacity: 1; stroke-width: 0px; fill: rgb(99, 110, 250); fill-opacity: 1;\"/><path class=\"point\" transform=\"translate(129.46,300.25)\" d=\"M3,0A3,3 0 1,1 0,-3A3,3 0 0,1 3,0Z\" style=\"opacity: 1; stroke-width: 0px; fill: rgb(99, 110, 250); fill-opacity: 1;\"/><path class=\"point\" transform=\"translate(129.47,300.25)\" d=\"M3,0A3,3 0 1,1 0,-3A3,3 0 0,1 3,0Z\" style=\"opacity: 1; stroke-width: 0px; fill: rgb(99, 110, 250); fill-opacity: 1;\"/><path class=\"point\" transform=\"translate(129.53,300.25)\" d=\"M3,0A3,3 0 1,1 0,-3A3,3 0 0,1 3,0Z\" style=\"opacity: 1; stroke-width: 0px; fill: rgb(99, 110, 250); fill-opacity: 1;\"/><path class=\"point\" transform=\"translate(129.54,300.25)\" d=\"M3,0A3,3 0 1,1 0,-3A3,3 0 0,1 3,0Z\" style=\"opacity: 1; stroke-width: 0px; fill: rgb(99, 110, 250); fill-opacity: 1;\"/><path class=\"point\" transform=\"translate(130.29,300.25)\" d=\"M3,0A3,3 0 1,1 0,-3A3,3 0 0,1 3,0Z\" style=\"opacity: 1; stroke-width: 0px; fill: rgb(99, 110, 250); fill-opacity: 1;\"/><path class=\"point\" transform=\"translate(131.56,300.25)\" d=\"M3,0A3,3 0 1,1 0,-3A3,3 0 0,1 3,0Z\" style=\"opacity: 1; stroke-width: 0px; fill: rgb(99, 110, 250); fill-opacity: 1;\"/><path class=\"point\" transform=\"translate(131.58,300.25)\" d=\"M3,0A3,3 0 1,1 0,-3A3,3 0 0,1 3,0Z\" style=\"opacity: 1; stroke-width: 0px; fill: rgb(99, 110, 250); fill-opacity: 1;\"/><path class=\"point\" transform=\"translate(131.72,300.25)\" d=\"M3,0A3,3 0 1,1 0,-3A3,3 0 0,1 3,0Z\" style=\"opacity: 1; stroke-width: 0px; fill: rgb(99, 110, 250); fill-opacity: 1;\"/><path class=\"point\" transform=\"translate(131.96,300.25)\" d=\"M3,0A3,3 0 1,1 0,-3A3,3 0 0,1 3,0Z\" style=\"opacity: 1; stroke-width: 0px; fill: rgb(99, 110, 250); fill-opacity: 1;\"/><path class=\"point\" transform=\"translate(132.69,300.25)\" d=\"M3,0A3,3 0 1,1 0,-3A3,3 0 0,1 3,0Z\" style=\"opacity: 1; stroke-width: 0px; fill: rgb(99, 110, 250); fill-opacity: 1;\"/><path class=\"point\" transform=\"translate(132.7,300.25)\" d=\"M3,0A3,3 0 1,1 0,-3A3,3 0 0,1 3,0Z\" style=\"opacity: 1; stroke-width: 0px; fill: rgb(99, 110, 250); fill-opacity: 1;\"/><path class=\"point\" transform=\"translate(133.74,300.25)\" d=\"M3,0A3,3 0 1,1 0,-3A3,3 0 0,1 3,0Z\" style=\"opacity: 1; stroke-width: 0px; fill: rgb(99, 110, 250); fill-opacity: 1;\"/><path class=\"point\" transform=\"translate(133.93,300.25)\" d=\"M3,0A3,3 0 1,1 0,-3A3,3 0 0,1 3,0Z\" style=\"opacity: 1; stroke-width: 0px; fill: rgb(99, 110, 250); fill-opacity: 1;\"/><path class=\"point\" transform=\"translate(134.22,300.25)\" d=\"M3,0A3,3 0 1,1 0,-3A3,3 0 0,1 3,0Z\" style=\"opacity: 1; stroke-width: 0px; fill: rgb(99, 110, 250); fill-opacity: 1;\"/><path class=\"point\" transform=\"translate(134.27,300.25)\" d=\"M3,0A3,3 0 1,1 0,-3A3,3 0 0,1 3,0Z\" style=\"opacity: 1; stroke-width: 0px; fill: rgb(99, 110, 250); fill-opacity: 1;\"/><path class=\"point\" transform=\"translate(134.37,300.25)\" d=\"M3,0A3,3 0 1,1 0,-3A3,3 0 0,1 3,0Z\" style=\"opacity: 1; stroke-width: 0px; fill: rgb(99, 110, 250); fill-opacity: 1;\"/><path class=\"point\" transform=\"translate(134.78,300.25)\" d=\"M3,0A3,3 0 1,1 0,-3A3,3 0 0,1 3,0Z\" style=\"opacity: 1; stroke-width: 0px; fill: rgb(99, 110, 250); fill-opacity: 1;\"/><path class=\"point\" transform=\"translate(134.8,300.25)\" d=\"M3,0A3,3 0 1,1 0,-3A3,3 0 0,1 3,0Z\" style=\"opacity: 1; stroke-width: 0px; fill: rgb(99, 110, 250); fill-opacity: 1;\"/><path class=\"point\" transform=\"translate(135.08,300.25)\" d=\"M3,0A3,3 0 1,1 0,-3A3,3 0 0,1 3,0Z\" style=\"opacity: 1; stroke-width: 0px; fill: rgb(99, 110, 250); fill-opacity: 1;\"/><path class=\"point\" transform=\"translate(135.71,300.25)\" d=\"M3,0A3,3 0 1,1 0,-3A3,3 0 0,1 3,0Z\" style=\"opacity: 1; stroke-width: 0px; fill: rgb(99, 110, 250); fill-opacity: 1;\"/><path class=\"point\" transform=\"translate(136.14,300.25)\" d=\"M3,0A3,3 0 1,1 0,-3A3,3 0 0,1 3,0Z\" style=\"opacity: 1; stroke-width: 0px; fill: rgb(99, 110, 250); fill-opacity: 1;\"/><path class=\"point\" transform=\"translate(136.39,300.25)\" d=\"M3,0A3,3 0 1,1 0,-3A3,3 0 0,1 3,0Z\" style=\"opacity: 1; stroke-width: 0px; fill: rgb(99, 110, 250); fill-opacity: 1;\"/><path class=\"point\" transform=\"translate(136.49,300.25)\" d=\"M3,0A3,3 0 1,1 0,-3A3,3 0 0,1 3,0Z\" style=\"opacity: 1; stroke-width: 0px; fill: rgb(99, 110, 250); fill-opacity: 1;\"/><path class=\"point\" transform=\"translate(136.95,300.25)\" d=\"M3,0A3,3 0 1,1 0,-3A3,3 0 0,1 3,0Z\" style=\"opacity: 1; stroke-width: 0px; fill: rgb(99, 110, 250); fill-opacity: 1;\"/><path class=\"point\" transform=\"translate(137.62,300.25)\" d=\"M3,0A3,3 0 1,1 0,-3A3,3 0 0,1 3,0Z\" style=\"opacity: 1; stroke-width: 0px; fill: rgb(99, 110, 250); fill-opacity: 1;\"/><path class=\"point\" transform=\"translate(137.81,300.25)\" d=\"M3,0A3,3 0 1,1 0,-3A3,3 0 0,1 3,0Z\" style=\"opacity: 1; stroke-width: 0px; fill: rgb(99, 110, 250); fill-opacity: 1;\"/><path class=\"point\" transform=\"translate(139.27,300.25)\" d=\"M3,0A3,3 0 1,1 0,-3A3,3 0 0,1 3,0Z\" style=\"opacity: 1; stroke-width: 0px; fill: rgb(99, 110, 250); fill-opacity: 1;\"/><path class=\"point\" transform=\"translate(139.6,300.25)\" d=\"M3,0A3,3 0 1,1 0,-3A3,3 0 0,1 3,0Z\" style=\"opacity: 1; stroke-width: 0px; fill: rgb(99, 110, 250); fill-opacity: 1;\"/><path class=\"point\" transform=\"translate(139.86,300.25)\" d=\"M3,0A3,3 0 1,1 0,-3A3,3 0 0,1 3,0Z\" style=\"opacity: 1; stroke-width: 0px; fill: rgb(99, 110, 250); fill-opacity: 1;\"/><path class=\"point\" transform=\"translate(140.04,300.25)\" d=\"M3,0A3,3 0 1,1 0,-3A3,3 0 0,1 3,0Z\" style=\"opacity: 1; stroke-width: 0px; fill: rgb(99, 110, 250); fill-opacity: 1;\"/><path class=\"point\" transform=\"translate(140.16,300.25)\" d=\"M3,0A3,3 0 1,1 0,-3A3,3 0 0,1 3,0Z\" style=\"opacity: 1; stroke-width: 0px; fill: rgb(99, 110, 250); fill-opacity: 1;\"/><path class=\"point\" transform=\"translate(140.99,300.25)\" d=\"M3,0A3,3 0 1,1 0,-3A3,3 0 0,1 3,0Z\" style=\"opacity: 1; stroke-width: 0px; fill: rgb(99, 110, 250); fill-opacity: 1;\"/><path class=\"point\" transform=\"translate(140.99,300.25)\" d=\"M3,0A3,3 0 1,1 0,-3A3,3 0 0,1 3,0Z\" style=\"opacity: 1; stroke-width: 0px; fill: rgb(99, 110, 250); fill-opacity: 1;\"/><path class=\"point\" transform=\"translate(141.05,300.25)\" d=\"M3,0A3,3 0 1,1 0,-3A3,3 0 0,1 3,0Z\" style=\"opacity: 1; stroke-width: 0px; fill: rgb(99, 110, 250); fill-opacity: 1;\"/><path class=\"point\" transform=\"translate(141.24,300.25)\" d=\"M3,0A3,3 0 1,1 0,-3A3,3 0 0,1 3,0Z\" style=\"opacity: 1; stroke-width: 0px; fill: rgb(99, 110, 250); fill-opacity: 1;\"/><path class=\"point\" transform=\"translate(141.38,300.25)\" d=\"M3,0A3,3 0 1,1 0,-3A3,3 0 0,1 3,0Z\" style=\"opacity: 1; stroke-width: 0px; fill: rgb(99, 110, 250); fill-opacity: 1;\"/><path class=\"point\" transform=\"translate(141.64,300.25)\" d=\"M3,0A3,3 0 1,1 0,-3A3,3 0 0,1 3,0Z\" style=\"opacity: 1; stroke-width: 0px; fill: rgb(99, 110, 250); fill-opacity: 1;\"/><path class=\"point\" transform=\"translate(141.78,300.25)\" d=\"M3,0A3,3 0 1,1 0,-3A3,3 0 0,1 3,0Z\" style=\"opacity: 1; stroke-width: 0px; fill: rgb(99, 110, 250); fill-opacity: 1;\"/><path class=\"point\" transform=\"translate(142.33,300.25)\" d=\"M3,0A3,3 0 1,1 0,-3A3,3 0 0,1 3,0Z\" style=\"opacity: 1; stroke-width: 0px; fill: rgb(99, 110, 250); fill-opacity: 1;\"/><path class=\"point\" transform=\"translate(143.07,300.25)\" d=\"M3,0A3,3 0 1,1 0,-3A3,3 0 0,1 3,0Z\" style=\"opacity: 1; stroke-width: 0px; fill: rgb(99, 110, 250); fill-opacity: 1;\"/><path class=\"point\" transform=\"translate(143.22,300.25)\" d=\"M3,0A3,3 0 1,1 0,-3A3,3 0 0,1 3,0Z\" style=\"opacity: 1; stroke-width: 0px; fill: rgb(99, 110, 250); fill-opacity: 1;\"/><path class=\"point\" transform=\"translate(143.27,300.25)\" d=\"M3,0A3,3 0 1,1 0,-3A3,3 0 0,1 3,0Z\" style=\"opacity: 1; stroke-width: 0px; fill: rgb(99, 110, 250); fill-opacity: 1;\"/><path class=\"point\" transform=\"translate(143.9,300.25)\" d=\"M3,0A3,3 0 1,1 0,-3A3,3 0 0,1 3,0Z\" style=\"opacity: 1; stroke-width: 0px; fill: rgb(99, 110, 250); fill-opacity: 1;\"/><path class=\"point\" transform=\"translate(144.56,300.25)\" d=\"M3,0A3,3 0 1,1 0,-3A3,3 0 0,1 3,0Z\" style=\"opacity: 1; stroke-width: 0px; fill: rgb(99, 110, 250); fill-opacity: 1;\"/><path class=\"point\" transform=\"translate(145.23,300.25)\" d=\"M3,0A3,3 0 1,1 0,-3A3,3 0 0,1 3,0Z\" style=\"opacity: 1; stroke-width: 0px; fill: rgb(99, 110, 250); fill-opacity: 1;\"/><path class=\"point\" transform=\"translate(145.97,300.25)\" d=\"M3,0A3,3 0 1,1 0,-3A3,3 0 0,1 3,0Z\" style=\"opacity: 1; stroke-width: 0px; fill: rgb(99, 110, 250); fill-opacity: 1;\"/><path class=\"point\" transform=\"translate(147.2,300.25)\" d=\"M3,0A3,3 0 1,1 0,-3A3,3 0 0,1 3,0Z\" style=\"opacity: 1; stroke-width: 0px; fill: rgb(99, 110, 250); fill-opacity: 1;\"/><path class=\"point\" transform=\"translate(147.56,300.25)\" d=\"M3,0A3,3 0 1,1 0,-3A3,3 0 0,1 3,0Z\" style=\"opacity: 1; stroke-width: 0px; fill: rgb(99, 110, 250); fill-opacity: 1;\"/><path class=\"point\" transform=\"translate(147.84,300.25)\" d=\"M3,0A3,3 0 1,1 0,-3A3,3 0 0,1 3,0Z\" style=\"opacity: 1; stroke-width: 0px; fill: rgb(99, 110, 250); fill-opacity: 1;\"/><path class=\"point\" transform=\"translate(148.76,300.25)\" d=\"M3,0A3,3 0 1,1 0,-3A3,3 0 0,1 3,0Z\" style=\"opacity: 1; stroke-width: 0px; fill: rgb(99, 110, 250); fill-opacity: 1;\"/><path class=\"point\" transform=\"translate(149.18,300.25)\" d=\"M3,0A3,3 0 1,1 0,-3A3,3 0 0,1 3,0Z\" style=\"opacity: 1; stroke-width: 0px; fill: rgb(99, 110, 250); fill-opacity: 1;\"/><path class=\"point\" transform=\"translate(149.84,300.25)\" d=\"M3,0A3,3 0 1,1 0,-3A3,3 0 0,1 3,0Z\" style=\"opacity: 1; stroke-width: 0px; fill: rgb(99, 110, 250); fill-opacity: 1;\"/><path class=\"point\" transform=\"translate(149.85,300.25)\" d=\"M3,0A3,3 0 1,1 0,-3A3,3 0 0,1 3,0Z\" style=\"opacity: 1; stroke-width: 0px; fill: rgb(99, 110, 250); fill-opacity: 1;\"/><path class=\"point\" transform=\"translate(150.46,300.25)\" d=\"M3,0A3,3 0 1,1 0,-3A3,3 0 0,1 3,0Z\" style=\"opacity: 1; stroke-width: 0px; fill: rgb(99, 110, 250); fill-opacity: 1;\"/><path class=\"point\" transform=\"translate(152.93,300.25)\" d=\"M3,0A3,3 0 1,1 0,-3A3,3 0 0,1 3,0Z\" style=\"opacity: 1; stroke-width: 0px; fill: rgb(99, 110, 250); fill-opacity: 1;\"/><path class=\"point\" transform=\"translate(153.22,300.25)\" d=\"M3,0A3,3 0 1,1 0,-3A3,3 0 0,1 3,0Z\" style=\"opacity: 1; stroke-width: 0px; fill: rgb(99, 110, 250); fill-opacity: 1;\"/><path class=\"point\" transform=\"translate(154.31,300.25)\" d=\"M3,0A3,3 0 1,1 0,-3A3,3 0 0,1 3,0Z\" style=\"opacity: 1; stroke-width: 0px; fill: rgb(99, 110, 250); fill-opacity: 1;\"/><path class=\"point\" transform=\"translate(154.37,300.25)\" d=\"M3,0A3,3 0 1,1 0,-3A3,3 0 0,1 3,0Z\" style=\"opacity: 1; stroke-width: 0px; fill: rgb(99, 110, 250); fill-opacity: 1;\"/><path class=\"point\" transform=\"translate(154.52,300.25)\" d=\"M3,0A3,3 0 1,1 0,-3A3,3 0 0,1 3,0Z\" style=\"opacity: 1; stroke-width: 0px; fill: rgb(99, 110, 250); fill-opacity: 1;\"/><path class=\"point\" transform=\"translate(155.12,300.25)\" d=\"M3,0A3,3 0 1,1 0,-3A3,3 0 0,1 3,0Z\" style=\"opacity: 1; stroke-width: 0px; fill: rgb(99, 110, 250); fill-opacity: 1;\"/><path class=\"point\" transform=\"translate(155.72,300.25)\" d=\"M3,0A3,3 0 1,1 0,-3A3,3 0 0,1 3,0Z\" style=\"opacity: 1; stroke-width: 0px; fill: rgb(99, 110, 250); fill-opacity: 1;\"/><path class=\"point\" transform=\"translate(156.48,300.25)\" d=\"M3,0A3,3 0 1,1 0,-3A3,3 0 0,1 3,0Z\" style=\"opacity: 1; stroke-width: 0px; fill: rgb(99, 110, 250); fill-opacity: 1;\"/><path class=\"point\" transform=\"translate(158.07,300.25)\" d=\"M3,0A3,3 0 1,1 0,-3A3,3 0 0,1 3,0Z\" style=\"opacity: 1; stroke-width: 0px; fill: rgb(99, 110, 250); fill-opacity: 1;\"/><path class=\"point\" transform=\"translate(158.51,300.25)\" d=\"M3,0A3,3 0 1,1 0,-3A3,3 0 0,1 3,0Z\" style=\"opacity: 1; stroke-width: 0px; fill: rgb(99, 110, 250); fill-opacity: 1;\"/><path class=\"point\" transform=\"translate(158.64,300.25)\" d=\"M3,0A3,3 0 1,1 0,-3A3,3 0 0,1 3,0Z\" style=\"opacity: 1; stroke-width: 0px; fill: rgb(99, 110, 250); fill-opacity: 1;\"/><path class=\"point\" transform=\"translate(158.95,300.25)\" d=\"M3,0A3,3 0 1,1 0,-3A3,3 0 0,1 3,0Z\" style=\"opacity: 1; stroke-width: 0px; fill: rgb(99, 110, 250); fill-opacity: 1;\"/><path class=\"point\" transform=\"translate(159.31,300.25)\" d=\"M3,0A3,3 0 1,1 0,-3A3,3 0 0,1 3,0Z\" style=\"opacity: 1; stroke-width: 0px; fill: rgb(99, 110, 250); fill-opacity: 1;\"/><path class=\"point\" transform=\"translate(159.85,300.25)\" d=\"M3,0A3,3 0 1,1 0,-3A3,3 0 0,1 3,0Z\" style=\"opacity: 1; stroke-width: 0px; fill: rgb(99, 110, 250); fill-opacity: 1;\"/><path class=\"point\" transform=\"translate(160.42,300.25)\" d=\"M3,0A3,3 0 1,1 0,-3A3,3 0 0,1 3,0Z\" style=\"opacity: 1; stroke-width: 0px; fill: rgb(99, 110, 250); fill-opacity: 1;\"/><path class=\"point\" transform=\"translate(161.26,300.25)\" d=\"M3,0A3,3 0 1,1 0,-3A3,3 0 0,1 3,0Z\" style=\"opacity: 1; stroke-width: 0px; fill: rgb(99, 110, 250); fill-opacity: 1;\"/><path class=\"point\" transform=\"translate(161.53,300.25)\" d=\"M3,0A3,3 0 1,1 0,-3A3,3 0 0,1 3,0Z\" style=\"opacity: 1; stroke-width: 0px; fill: rgb(99, 110, 250); fill-opacity: 1;\"/><path class=\"point\" transform=\"translate(161.94,300.25)\" d=\"M3,0A3,3 0 1,1 0,-3A3,3 0 0,1 3,0Z\" style=\"opacity: 1; stroke-width: 0px; fill: rgb(99, 110, 250); fill-opacity: 1;\"/><path class=\"point\" transform=\"translate(162.65,300.25)\" d=\"M3,0A3,3 0 1,1 0,-3A3,3 0 0,1 3,0Z\" style=\"opacity: 1; stroke-width: 0px; fill: rgb(99, 110, 250); fill-opacity: 1;\"/><path class=\"point\" transform=\"translate(164,300.25)\" d=\"M3,0A3,3 0 1,1 0,-3A3,3 0 0,1 3,0Z\" style=\"opacity: 1; stroke-width: 0px; fill: rgb(99, 110, 250); fill-opacity: 1;\"/><path class=\"point\" transform=\"translate(164.12,300.25)\" d=\"M3,0A3,3 0 1,1 0,-3A3,3 0 0,1 3,0Z\" style=\"opacity: 1; stroke-width: 0px; fill: rgb(99, 110, 250); fill-opacity: 1;\"/><path class=\"point\" transform=\"translate(164.13,300.25)\" d=\"M3,0A3,3 0 1,1 0,-3A3,3 0 0,1 3,0Z\" style=\"opacity: 1; stroke-width: 0px; fill: rgb(99, 110, 250); fill-opacity: 1;\"/><path class=\"point\" transform=\"translate(165.05,300.25)\" d=\"M3,0A3,3 0 1,1 0,-3A3,3 0 0,1 3,0Z\" style=\"opacity: 1; stroke-width: 0px; fill: rgb(99, 110, 250); fill-opacity: 1;\"/><path class=\"point\" transform=\"translate(165.67,300.25)\" d=\"M3,0A3,3 0 1,1 0,-3A3,3 0 0,1 3,0Z\" style=\"opacity: 1; stroke-width: 0px; fill: rgb(99, 110, 250); fill-opacity: 1;\"/><path class=\"point\" transform=\"translate(165.74,300.25)\" d=\"M3,0A3,3 0 1,1 0,-3A3,3 0 0,1 3,0Z\" style=\"opacity: 1; stroke-width: 0px; fill: rgb(99, 110, 250); fill-opacity: 1;\"/><path class=\"point\" transform=\"translate(166.12,300.25)\" d=\"M3,0A3,3 0 1,1 0,-3A3,3 0 0,1 3,0Z\" style=\"opacity: 1; stroke-width: 0px; fill: rgb(99, 110, 250); fill-opacity: 1;\"/><path class=\"point\" transform=\"translate(166.34,300.25)\" d=\"M3,0A3,3 0 1,1 0,-3A3,3 0 0,1 3,0Z\" style=\"opacity: 1; stroke-width: 0px; fill: rgb(99, 110, 250); fill-opacity: 1;\"/><path class=\"point\" transform=\"translate(166.51,300.25)\" d=\"M3,0A3,3 0 1,1 0,-3A3,3 0 0,1 3,0Z\" style=\"opacity: 1; stroke-width: 0px; fill: rgb(99, 110, 250); fill-opacity: 1;\"/><path class=\"point\" transform=\"translate(166.78,300.25)\" d=\"M3,0A3,3 0 1,1 0,-3A3,3 0 0,1 3,0Z\" style=\"opacity: 1; stroke-width: 0px; fill: rgb(99, 110, 250); fill-opacity: 1;\"/><path class=\"point\" transform=\"translate(167.12,300.25)\" d=\"M3,0A3,3 0 1,1 0,-3A3,3 0 0,1 3,0Z\" style=\"opacity: 1; stroke-width: 0px; fill: rgb(99, 110, 250); fill-opacity: 1;\"/><path class=\"point\" transform=\"translate(167.16,300.25)\" d=\"M3,0A3,3 0 1,1 0,-3A3,3 0 0,1 3,0Z\" style=\"opacity: 1; stroke-width: 0px; fill: rgb(99, 110, 250); fill-opacity: 1;\"/><path class=\"point\" transform=\"translate(167.27,300.25)\" d=\"M3,0A3,3 0 1,1 0,-3A3,3 0 0,1 3,0Z\" style=\"opacity: 1; stroke-width: 0px; fill: rgb(99, 110, 250); fill-opacity: 1;\"/><path class=\"point\" transform=\"translate(167.68,300.25)\" d=\"M3,0A3,3 0 1,1 0,-3A3,3 0 0,1 3,0Z\" style=\"opacity: 1; stroke-width: 0px; fill: rgb(99, 110, 250); fill-opacity: 1;\"/><path class=\"point\" transform=\"translate(167.72,300.25)\" d=\"M3,0A3,3 0 1,1 0,-3A3,3 0 0,1 3,0Z\" style=\"opacity: 1; stroke-width: 0px; fill: rgb(99, 110, 250); fill-opacity: 1;\"/><path class=\"point\" transform=\"translate(168.45,300.25)\" d=\"M3,0A3,3 0 1,1 0,-3A3,3 0 0,1 3,0Z\" style=\"opacity: 1; stroke-width: 0px; fill: rgb(99, 110, 250); fill-opacity: 1;\"/><path class=\"point\" transform=\"translate(169.73,300.25)\" d=\"M3,0A3,3 0 1,1 0,-3A3,3 0 0,1 3,0Z\" style=\"opacity: 1; stroke-width: 0px; fill: rgb(99, 110, 250); fill-opacity: 1;\"/><path class=\"point\" transform=\"translate(170.34,300.25)\" d=\"M3,0A3,3 0 1,1 0,-3A3,3 0 0,1 3,0Z\" style=\"opacity: 1; stroke-width: 0px; fill: rgb(99, 110, 250); fill-opacity: 1;\"/><path class=\"point\" transform=\"translate(170.39,300.25)\" d=\"M3,0A3,3 0 1,1 0,-3A3,3 0 0,1 3,0Z\" style=\"opacity: 1; stroke-width: 0px; fill: rgb(99, 110, 250); fill-opacity: 1;\"/><path class=\"point\" transform=\"translate(170.57,300.25)\" d=\"M3,0A3,3 0 1,1 0,-3A3,3 0 0,1 3,0Z\" style=\"opacity: 1; stroke-width: 0px; fill: rgb(99, 110, 250); fill-opacity: 1;\"/><path class=\"point\" transform=\"translate(171.27,300.25)\" d=\"M3,0A3,3 0 1,1 0,-3A3,3 0 0,1 3,0Z\" style=\"opacity: 1; stroke-width: 0px; fill: rgb(99, 110, 250); fill-opacity: 1;\"/><path class=\"point\" transform=\"translate(171.46,300.25)\" d=\"M3,0A3,3 0 1,1 0,-3A3,3 0 0,1 3,0Z\" style=\"opacity: 1; stroke-width: 0px; fill: rgb(99, 110, 250); fill-opacity: 1;\"/><path class=\"point\" transform=\"translate(172.21,300.25)\" d=\"M3,0A3,3 0 1,1 0,-3A3,3 0 0,1 3,0Z\" style=\"opacity: 1; stroke-width: 0px; fill: rgb(99, 110, 250); fill-opacity: 1;\"/><path class=\"point\" transform=\"translate(172.73,300.25)\" d=\"M3,0A3,3 0 1,1 0,-3A3,3 0 0,1 3,0Z\" style=\"opacity: 1; stroke-width: 0px; fill: rgb(99, 110, 250); fill-opacity: 1;\"/><path class=\"point\" transform=\"translate(173.89,300.25)\" d=\"M3,0A3,3 0 1,1 0,-3A3,3 0 0,1 3,0Z\" style=\"opacity: 1; stroke-width: 0px; fill: rgb(99, 110, 250); fill-opacity: 1;\"/><path class=\"point\" transform=\"translate(174.9,300.25)\" d=\"M3,0A3,3 0 1,1 0,-3A3,3 0 0,1 3,0Z\" style=\"opacity: 1; stroke-width: 0px; fill: rgb(99, 110, 250); fill-opacity: 1;\"/><path class=\"point\" transform=\"translate(175.97,300.25)\" d=\"M3,0A3,3 0 1,1 0,-3A3,3 0 0,1 3,0Z\" style=\"opacity: 1; stroke-width: 0px; fill: rgb(99, 110, 250); fill-opacity: 1;\"/><path class=\"point\" transform=\"translate(176.26,300.25)\" d=\"M3,0A3,3 0 1,1 0,-3A3,3 0 0,1 3,0Z\" style=\"opacity: 1; stroke-width: 0px; fill: rgb(99, 110, 250); fill-opacity: 1;\"/><path class=\"point\" transform=\"translate(176.42,300.25)\" d=\"M3,0A3,3 0 1,1 0,-3A3,3 0 0,1 3,0Z\" style=\"opacity: 1; stroke-width: 0px; fill: rgb(99, 110, 250); fill-opacity: 1;\"/><path class=\"point\" transform=\"translate(176.69,300.25)\" d=\"M3,0A3,3 0 1,1 0,-3A3,3 0 0,1 3,0Z\" style=\"opacity: 1; stroke-width: 0px; fill: rgb(99, 110, 250); fill-opacity: 1;\"/><path class=\"point\" transform=\"translate(179.26,300.25)\" d=\"M3,0A3,3 0 1,1 0,-3A3,3 0 0,1 3,0Z\" style=\"opacity: 1; stroke-width: 0px; fill: rgb(99, 110, 250); fill-opacity: 1;\"/><path class=\"point\" transform=\"translate(179.49,300.25)\" d=\"M3,0A3,3 0 1,1 0,-3A3,3 0 0,1 3,0Z\" style=\"opacity: 1; stroke-width: 0px; fill: rgb(99, 110, 250); fill-opacity: 1;\"/><path class=\"point\" transform=\"translate(180.23,300.25)\" d=\"M3,0A3,3 0 1,1 0,-3A3,3 0 0,1 3,0Z\" style=\"opacity: 1; stroke-width: 0px; fill: rgb(99, 110, 250); fill-opacity: 1;\"/><path class=\"point\" transform=\"translate(181.14,300.25)\" d=\"M3,0A3,3 0 1,1 0,-3A3,3 0 0,1 3,0Z\" style=\"opacity: 1; stroke-width: 0px; fill: rgb(99, 110, 250); fill-opacity: 1;\"/><path class=\"point\" transform=\"translate(181.36,300.25)\" d=\"M3,0A3,3 0 1,1 0,-3A3,3 0 0,1 3,0Z\" style=\"opacity: 1; stroke-width: 0px; fill: rgb(99, 110, 250); fill-opacity: 1;\"/><path class=\"point\" transform=\"translate(181.66,300.25)\" d=\"M3,0A3,3 0 1,1 0,-3A3,3 0 0,1 3,0Z\" style=\"opacity: 1; stroke-width: 0px; fill: rgb(99, 110, 250); fill-opacity: 1;\"/><path class=\"point\" transform=\"translate(181.95,300.25)\" d=\"M3,0A3,3 0 1,1 0,-3A3,3 0 0,1 3,0Z\" style=\"opacity: 1; stroke-width: 0px; fill: rgb(99, 110, 250); fill-opacity: 1;\"/><path class=\"point\" transform=\"translate(183.16,300.25)\" d=\"M3,0A3,3 0 1,1 0,-3A3,3 0 0,1 3,0Z\" style=\"opacity: 1; stroke-width: 0px; fill: rgb(99, 110, 250); fill-opacity: 1;\"/><path class=\"point\" transform=\"translate(183.8,300.25)\" d=\"M3,0A3,3 0 1,1 0,-3A3,3 0 0,1 3,0Z\" style=\"opacity: 1; stroke-width: 0px; fill: rgb(99, 110, 250); fill-opacity: 1;\"/><path class=\"point\" transform=\"translate(184.22,300.25)\" d=\"M3,0A3,3 0 1,1 0,-3A3,3 0 0,1 3,0Z\" style=\"opacity: 1; stroke-width: 0px; fill: rgb(99, 110, 250); fill-opacity: 1;\"/><path class=\"point\" transform=\"translate(184.3,300.25)\" d=\"M3,0A3,3 0 1,1 0,-3A3,3 0 0,1 3,0Z\" style=\"opacity: 1; stroke-width: 0px; fill: rgb(99, 110, 250); fill-opacity: 1;\"/><path class=\"point\" transform=\"translate(184.41,300.25)\" d=\"M3,0A3,3 0 1,1 0,-3A3,3 0 0,1 3,0Z\" style=\"opacity: 1; stroke-width: 0px; fill: rgb(99, 110, 250); fill-opacity: 1;\"/><path class=\"point\" transform=\"translate(185.36,300.25)\" d=\"M3,0A3,3 0 1,1 0,-3A3,3 0 0,1 3,0Z\" style=\"opacity: 1; stroke-width: 0px; fill: rgb(99, 110, 250); fill-opacity: 1;\"/><path class=\"point\" transform=\"translate(185.41,300.25)\" d=\"M3,0A3,3 0 1,1 0,-3A3,3 0 0,1 3,0Z\" style=\"opacity: 1; stroke-width: 0px; fill: rgb(99, 110, 250); fill-opacity: 1;\"/><path class=\"point\" transform=\"translate(185.49,300.25)\" d=\"M3,0A3,3 0 1,1 0,-3A3,3 0 0,1 3,0Z\" style=\"opacity: 1; stroke-width: 0px; fill: rgb(99, 110, 250); fill-opacity: 1;\"/><path class=\"point\" transform=\"translate(185.7,300.25)\" d=\"M3,0A3,3 0 1,1 0,-3A3,3 0 0,1 3,0Z\" style=\"opacity: 1; stroke-width: 0px; fill: rgb(99, 110, 250); fill-opacity: 1;\"/><path class=\"point\" transform=\"translate(186.21,300.25)\" d=\"M3,0A3,3 0 1,1 0,-3A3,3 0 0,1 3,0Z\" style=\"opacity: 1; stroke-width: 0px; fill: rgb(99, 110, 250); fill-opacity: 1;\"/><path class=\"point\" transform=\"translate(186.35,300.25)\" d=\"M3,0A3,3 0 1,1 0,-3A3,3 0 0,1 3,0Z\" style=\"opacity: 1; stroke-width: 0px; fill: rgb(99, 110, 250); fill-opacity: 1;\"/><path class=\"point\" transform=\"translate(186.43,300.25)\" d=\"M3,0A3,3 0 1,1 0,-3A3,3 0 0,1 3,0Z\" style=\"opacity: 1; stroke-width: 0px; fill: rgb(99, 110, 250); fill-opacity: 1;\"/><path class=\"point\" transform=\"translate(186.58,300.25)\" d=\"M3,0A3,3 0 1,1 0,-3A3,3 0 0,1 3,0Z\" style=\"opacity: 1; stroke-width: 0px; fill: rgb(99, 110, 250); fill-opacity: 1;\"/><path class=\"point\" transform=\"translate(186.97,300.25)\" d=\"M3,0A3,3 0 1,1 0,-3A3,3 0 0,1 3,0Z\" style=\"opacity: 1; stroke-width: 0px; fill: rgb(99, 110, 250); fill-opacity: 1;\"/><path class=\"point\" transform=\"translate(187.25,160)\" d=\"M3,0A3,3 0 1,1 0,-3A3,3 0 0,1 3,0Z\" style=\"opacity: 1; stroke-width: 0px; fill: rgb(99, 110, 250); fill-opacity: 1;\"/><path class=\"point\" transform=\"translate(188.39,300.25)\" d=\"M3,0A3,3 0 1,1 0,-3A3,3 0 0,1 3,0Z\" style=\"opacity: 1; stroke-width: 0px; fill: rgb(99, 110, 250); fill-opacity: 1;\"/><path class=\"point\" transform=\"translate(189.02,300.25)\" d=\"M3,0A3,3 0 1,1 0,-3A3,3 0 0,1 3,0Z\" style=\"opacity: 1; stroke-width: 0px; fill: rgb(99, 110, 250); fill-opacity: 1;\"/><path class=\"point\" transform=\"translate(189.15,300.25)\" d=\"M3,0A3,3 0 1,1 0,-3A3,3 0 0,1 3,0Z\" style=\"opacity: 1; stroke-width: 0px; fill: rgb(99, 110, 250); fill-opacity: 1;\"/><path class=\"point\" transform=\"translate(189.26,300.25)\" d=\"M3,0A3,3 0 1,1 0,-3A3,3 0 0,1 3,0Z\" style=\"opacity: 1; stroke-width: 0px; fill: rgb(99, 110, 250); fill-opacity: 1;\"/><path class=\"point\" transform=\"translate(189.29,300.25)\" d=\"M3,0A3,3 0 1,1 0,-3A3,3 0 0,1 3,0Z\" style=\"opacity: 1; stroke-width: 0px; fill: rgb(99, 110, 250); fill-opacity: 1;\"/><path class=\"point\" transform=\"translate(189.73,300.25)\" d=\"M3,0A3,3 0 1,1 0,-3A3,3 0 0,1 3,0Z\" style=\"opacity: 1; stroke-width: 0px; fill: rgb(99, 110, 250); fill-opacity: 1;\"/><path class=\"point\" transform=\"translate(190.12,300.25)\" d=\"M3,0A3,3 0 1,1 0,-3A3,3 0 0,1 3,0Z\" style=\"opacity: 1; stroke-width: 0px; fill: rgb(99, 110, 250); fill-opacity: 1;\"/><path class=\"point\" transform=\"translate(191.02,300.25)\" d=\"M3,0A3,3 0 1,1 0,-3A3,3 0 0,1 3,0Z\" style=\"opacity: 1; stroke-width: 0px; fill: rgb(99, 110, 250); fill-opacity: 1;\"/><path class=\"point\" transform=\"translate(192.62,300.25)\" d=\"M3,0A3,3 0 1,1 0,-3A3,3 0 0,1 3,0Z\" style=\"opacity: 1; stroke-width: 0px; fill: rgb(99, 110, 250); fill-opacity: 1;\"/><path class=\"point\" transform=\"translate(192.93,300.25)\" d=\"M3,0A3,3 0 1,1 0,-3A3,3 0 0,1 3,0Z\" style=\"opacity: 1; stroke-width: 0px; fill: rgb(99, 110, 250); fill-opacity: 1;\"/><path class=\"point\" transform=\"translate(192.99,300.25)\" d=\"M3,0A3,3 0 1,1 0,-3A3,3 0 0,1 3,0Z\" style=\"opacity: 1; stroke-width: 0px; fill: rgb(99, 110, 250); fill-opacity: 1;\"/><path class=\"point\" transform=\"translate(193.55,300.25)\" d=\"M3,0A3,3 0 1,1 0,-3A3,3 0 0,1 3,0Z\" style=\"opacity: 1; stroke-width: 0px; fill: rgb(99, 110, 250); fill-opacity: 1;\"/><path class=\"point\" transform=\"translate(193.87,300.25)\" d=\"M3,0A3,3 0 1,1 0,-3A3,3 0 0,1 3,0Z\" style=\"opacity: 1; stroke-width: 0px; fill: rgb(99, 110, 250); fill-opacity: 1;\"/><path class=\"point\" transform=\"translate(194.73,300.25)\" d=\"M3,0A3,3 0 1,1 0,-3A3,3 0 0,1 3,0Z\" style=\"opacity: 1; stroke-width: 0px; fill: rgb(99, 110, 250); fill-opacity: 1;\"/><path class=\"point\" transform=\"translate(194.74,300.25)\" d=\"M3,0A3,3 0 1,1 0,-3A3,3 0 0,1 3,0Z\" style=\"opacity: 1; stroke-width: 0px; fill: rgb(99, 110, 250); fill-opacity: 1;\"/><path class=\"point\" transform=\"translate(195.07,300.25)\" d=\"M3,0A3,3 0 1,1 0,-3A3,3 0 0,1 3,0Z\" style=\"opacity: 1; stroke-width: 0px; fill: rgb(99, 110, 250); fill-opacity: 1;\"/><path class=\"point\" transform=\"translate(195.27,300.25)\" d=\"M3,0A3,3 0 1,1 0,-3A3,3 0 0,1 3,0Z\" style=\"opacity: 1; stroke-width: 0px; fill: rgb(99, 110, 250); fill-opacity: 1;\"/><path class=\"point\" transform=\"translate(195.32,300.25)\" d=\"M3,0A3,3 0 1,1 0,-3A3,3 0 0,1 3,0Z\" style=\"opacity: 1; stroke-width: 0px; fill: rgb(99, 110, 250); fill-opacity: 1;\"/><path class=\"point\" transform=\"translate(196.24,300.25)\" d=\"M3,0A3,3 0 1,1 0,-3A3,3 0 0,1 3,0Z\" style=\"opacity: 1; stroke-width: 0px; fill: rgb(99, 110, 250); fill-opacity: 1;\"/><path class=\"point\" transform=\"translate(196.36,300.25)\" d=\"M3,0A3,3 0 1,1 0,-3A3,3 0 0,1 3,0Z\" style=\"opacity: 1; stroke-width: 0px; fill: rgb(99, 110, 250); fill-opacity: 1;\"/><path class=\"point\" transform=\"translate(197.33,300.25)\" d=\"M3,0A3,3 0 1,1 0,-3A3,3 0 0,1 3,0Z\" style=\"opacity: 1; stroke-width: 0px; fill: rgb(99, 110, 250); fill-opacity: 1;\"/><path class=\"point\" transform=\"translate(197.38,300.25)\" d=\"M3,0A3,3 0 1,1 0,-3A3,3 0 0,1 3,0Z\" style=\"opacity: 1; stroke-width: 0px; fill: rgb(99, 110, 250); fill-opacity: 1;\"/><path class=\"point\" transform=\"translate(197.98,300.25)\" d=\"M3,0A3,3 0 1,1 0,-3A3,3 0 0,1 3,0Z\" style=\"opacity: 1; stroke-width: 0px; fill: rgb(99, 110, 250); fill-opacity: 1;\"/><path class=\"point\" transform=\"translate(198.09,300.25)\" d=\"M3,0A3,3 0 1,1 0,-3A3,3 0 0,1 3,0Z\" style=\"opacity: 1; stroke-width: 0px; fill: rgb(99, 110, 250); fill-opacity: 1;\"/><path class=\"point\" transform=\"translate(198.78,300.25)\" d=\"M3,0A3,3 0 1,1 0,-3A3,3 0 0,1 3,0Z\" style=\"opacity: 1; stroke-width: 0px; fill: rgb(99, 110, 250); fill-opacity: 1;\"/><path class=\"point\" transform=\"translate(198.92,300.25)\" d=\"M3,0A3,3 0 1,1 0,-3A3,3 0 0,1 3,0Z\" style=\"opacity: 1; stroke-width: 0px; fill: rgb(99, 110, 250); fill-opacity: 1;\"/><path class=\"point\" transform=\"translate(199.75,300.25)\" d=\"M3,0A3,3 0 1,1 0,-3A3,3 0 0,1 3,0Z\" style=\"opacity: 1; stroke-width: 0px; fill: rgb(99, 110, 250); fill-opacity: 1;\"/><path class=\"point\" transform=\"translate(202.38,300.25)\" d=\"M3,0A3,3 0 1,1 0,-3A3,3 0 0,1 3,0Z\" style=\"opacity: 1; stroke-width: 0px; fill: rgb(99, 110, 250); fill-opacity: 1;\"/><path class=\"point\" transform=\"translate(202.9,300.25)\" d=\"M3,0A3,3 0 1,1 0,-3A3,3 0 0,1 3,0Z\" style=\"opacity: 1; stroke-width: 0px; fill: rgb(99, 110, 250); fill-opacity: 1;\"/><path class=\"point\" transform=\"translate(204.02,300.25)\" d=\"M3,0A3,3 0 1,1 0,-3A3,3 0 0,1 3,0Z\" style=\"opacity: 1; stroke-width: 0px; fill: rgb(99, 110, 250); fill-opacity: 1;\"/><path class=\"point\" transform=\"translate(204.08,300.25)\" d=\"M3,0A3,3 0 1,1 0,-3A3,3 0 0,1 3,0Z\" style=\"opacity: 1; stroke-width: 0px; fill: rgb(99, 110, 250); fill-opacity: 1;\"/><path class=\"point\" transform=\"translate(204.16,300.25)\" d=\"M3,0A3,3 0 1,1 0,-3A3,3 0 0,1 3,0Z\" style=\"opacity: 1; stroke-width: 0px; fill: rgb(99, 110, 250); fill-opacity: 1;\"/><path class=\"point\" transform=\"translate(204.39,300.25)\" d=\"M3,0A3,3 0 1,1 0,-3A3,3 0 0,1 3,0Z\" style=\"opacity: 1; stroke-width: 0px; fill: rgb(99, 110, 250); fill-opacity: 1;\"/><path class=\"point\" transform=\"translate(204.88,300.25)\" d=\"M3,0A3,3 0 1,1 0,-3A3,3 0 0,1 3,0Z\" style=\"opacity: 1; stroke-width: 0px; fill: rgb(99, 110, 250); fill-opacity: 1;\"/><path class=\"point\" transform=\"translate(205.2,300.25)\" d=\"M3,0A3,3 0 1,1 0,-3A3,3 0 0,1 3,0Z\" style=\"opacity: 1; stroke-width: 0px; fill: rgb(99, 110, 250); fill-opacity: 1;\"/><path class=\"point\" transform=\"translate(205.26,300.25)\" d=\"M3,0A3,3 0 1,1 0,-3A3,3 0 0,1 3,0Z\" style=\"opacity: 1; stroke-width: 0px; fill: rgb(99, 110, 250); fill-opacity: 1;\"/><path class=\"point\" transform=\"translate(205.98,300.25)\" d=\"M3,0A3,3 0 1,1 0,-3A3,3 0 0,1 3,0Z\" style=\"opacity: 1; stroke-width: 0px; fill: rgb(99, 110, 250); fill-opacity: 1;\"/><path class=\"point\" transform=\"translate(206.46,300.25)\" d=\"M3,0A3,3 0 1,1 0,-3A3,3 0 0,1 3,0Z\" style=\"opacity: 1; stroke-width: 0px; fill: rgb(99, 110, 250); fill-opacity: 1;\"/><path class=\"point\" transform=\"translate(206.62,300.25)\" d=\"M3,0A3,3 0 1,1 0,-3A3,3 0 0,1 3,0Z\" style=\"opacity: 1; stroke-width: 0px; fill: rgb(99, 110, 250); fill-opacity: 1;\"/><path class=\"point\" transform=\"translate(206.76,300.25)\" d=\"M3,0A3,3 0 1,1 0,-3A3,3 0 0,1 3,0Z\" style=\"opacity: 1; stroke-width: 0px; fill: rgb(99, 110, 250); fill-opacity: 1;\"/><path class=\"point\" transform=\"translate(207,300.25)\" d=\"M3,0A3,3 0 1,1 0,-3A3,3 0 0,1 3,0Z\" style=\"opacity: 1; stroke-width: 0px; fill: rgb(99, 110, 250); fill-opacity: 1;\"/><path class=\"point\" transform=\"translate(207.85,300.25)\" d=\"M3,0A3,3 0 1,1 0,-3A3,3 0 0,1 3,0Z\" style=\"opacity: 1; stroke-width: 0px; fill: rgb(99, 110, 250); fill-opacity: 1;\"/><path class=\"point\" transform=\"translate(208.71,300.25)\" d=\"M3,0A3,3 0 1,1 0,-3A3,3 0 0,1 3,0Z\" style=\"opacity: 1; stroke-width: 0px; fill: rgb(99, 110, 250); fill-opacity: 1;\"/><path class=\"point\" transform=\"translate(208.75,300.25)\" d=\"M3,0A3,3 0 1,1 0,-3A3,3 0 0,1 3,0Z\" style=\"opacity: 1; stroke-width: 0px; fill: rgb(99, 110, 250); fill-opacity: 1;\"/><path class=\"point\" transform=\"translate(208.77,300.25)\" d=\"M3,0A3,3 0 1,1 0,-3A3,3 0 0,1 3,0Z\" style=\"opacity: 1; stroke-width: 0px; fill: rgb(99, 110, 250); fill-opacity: 1;\"/><path class=\"point\" transform=\"translate(209.58,300.25)\" d=\"M3,0A3,3 0 1,1 0,-3A3,3 0 0,1 3,0Z\" style=\"opacity: 1; stroke-width: 0px; fill: rgb(99, 110, 250); fill-opacity: 1;\"/><path class=\"point\" transform=\"translate(209.65,300.25)\" d=\"M3,0A3,3 0 1,1 0,-3A3,3 0 0,1 3,0Z\" style=\"opacity: 1; stroke-width: 0px; fill: rgb(99, 110, 250); fill-opacity: 1;\"/><path class=\"point\" transform=\"translate(209.73,300.25)\" d=\"M3,0A3,3 0 1,1 0,-3A3,3 0 0,1 3,0Z\" style=\"opacity: 1; stroke-width: 0px; fill: rgb(99, 110, 250); fill-opacity: 1;\"/><path class=\"point\" transform=\"translate(209.87,300.25)\" d=\"M3,0A3,3 0 1,1 0,-3A3,3 0 0,1 3,0Z\" style=\"opacity: 1; stroke-width: 0px; fill: rgb(99, 110, 250); fill-opacity: 1;\"/><path class=\"point\" transform=\"translate(210.44,300.25)\" d=\"M3,0A3,3 0 1,1 0,-3A3,3 0 0,1 3,0Z\" style=\"opacity: 1; stroke-width: 0px; fill: rgb(99, 110, 250); fill-opacity: 1;\"/><path class=\"point\" transform=\"translate(210.49,300.25)\" d=\"M3,0A3,3 0 1,1 0,-3A3,3 0 0,1 3,0Z\" style=\"opacity: 1; stroke-width: 0px; fill: rgb(99, 110, 250); fill-opacity: 1;\"/><path class=\"point\" transform=\"translate(211.06,160)\" d=\"M3,0A3,3 0 1,1 0,-3A3,3 0 0,1 3,0Z\" style=\"opacity: 1; stroke-width: 0px; fill: rgb(99, 110, 250); fill-opacity: 1;\"/><path class=\"point\" transform=\"translate(211.6,300.25)\" d=\"M3,0A3,3 0 1,1 0,-3A3,3 0 0,1 3,0Z\" style=\"opacity: 1; stroke-width: 0px; fill: rgb(99, 110, 250); fill-opacity: 1;\"/><path class=\"point\" transform=\"translate(212.19,300.25)\" d=\"M3,0A3,3 0 1,1 0,-3A3,3 0 0,1 3,0Z\" style=\"opacity: 1; stroke-width: 0px; fill: rgb(99, 110, 250); fill-opacity: 1;\"/><path class=\"point\" transform=\"translate(212.53,300.25)\" d=\"M3,0A3,3 0 1,1 0,-3A3,3 0 0,1 3,0Z\" style=\"opacity: 1; stroke-width: 0px; fill: rgb(99, 110, 250); fill-opacity: 1;\"/><path class=\"point\" transform=\"translate(213.02,300.25)\" d=\"M3,0A3,3 0 1,1 0,-3A3,3 0 0,1 3,0Z\" style=\"opacity: 1; stroke-width: 0px; fill: rgb(99, 110, 250); fill-opacity: 1;\"/><path class=\"point\" transform=\"translate(213.34,160)\" d=\"M3,0A3,3 0 1,1 0,-3A3,3 0 0,1 3,0Z\" style=\"opacity: 1; stroke-width: 0px; fill: rgb(99, 110, 250); fill-opacity: 1;\"/><path class=\"point\" transform=\"translate(213.42,300.25)\" d=\"M3,0A3,3 0 1,1 0,-3A3,3 0 0,1 3,0Z\" style=\"opacity: 1; stroke-width: 0px; fill: rgb(99, 110, 250); fill-opacity: 1;\"/><path class=\"point\" transform=\"translate(213.96,300.25)\" d=\"M3,0A3,3 0 1,1 0,-3A3,3 0 0,1 3,0Z\" style=\"opacity: 1; stroke-width: 0px; fill: rgb(99, 110, 250); fill-opacity: 1;\"/><path class=\"point\" transform=\"translate(215.62,300.25)\" d=\"M3,0A3,3 0 1,1 0,-3A3,3 0 0,1 3,0Z\" style=\"opacity: 1; stroke-width: 0px; fill: rgb(99, 110, 250); fill-opacity: 1;\"/><path class=\"point\" transform=\"translate(216.61,300.25)\" d=\"M3,0A3,3 0 1,1 0,-3A3,3 0 0,1 3,0Z\" style=\"opacity: 1; stroke-width: 0px; fill: rgb(99, 110, 250); fill-opacity: 1;\"/><path class=\"point\" transform=\"translate(216.64,300.25)\" d=\"M3,0A3,3 0 1,1 0,-3A3,3 0 0,1 3,0Z\" style=\"opacity: 1; stroke-width: 0px; fill: rgb(99, 110, 250); fill-opacity: 1;\"/><path class=\"point\" transform=\"translate(216.87,300.25)\" d=\"M3,0A3,3 0 1,1 0,-3A3,3 0 0,1 3,0Z\" style=\"opacity: 1; stroke-width: 0px; fill: rgb(99, 110, 250); fill-opacity: 1;\"/><path class=\"point\" transform=\"translate(217.72,300.25)\" d=\"M3,0A3,3 0 1,1 0,-3A3,3 0 0,1 3,0Z\" style=\"opacity: 1; stroke-width: 0px; fill: rgb(99, 110, 250); fill-opacity: 1;\"/><path class=\"point\" transform=\"translate(218.86,300.25)\" d=\"M3,0A3,3 0 1,1 0,-3A3,3 0 0,1 3,0Z\" style=\"opacity: 1; stroke-width: 0px; fill: rgb(99, 110, 250); fill-opacity: 1;\"/><path class=\"point\" transform=\"translate(218.86,300.25)\" d=\"M3,0A3,3 0 1,1 0,-3A3,3 0 0,1 3,0Z\" style=\"opacity: 1; stroke-width: 0px; fill: rgb(99, 110, 250); fill-opacity: 1;\"/><path class=\"point\" transform=\"translate(219.22,300.25)\" d=\"M3,0A3,3 0 1,1 0,-3A3,3 0 0,1 3,0Z\" style=\"opacity: 1; stroke-width: 0px; fill: rgb(99, 110, 250); fill-opacity: 1;\"/><path class=\"point\" transform=\"translate(219.5,300.25)\" d=\"M3,0A3,3 0 1,1 0,-3A3,3 0 0,1 3,0Z\" style=\"opacity: 1; stroke-width: 0px; fill: rgb(99, 110, 250); fill-opacity: 1;\"/><path class=\"point\" transform=\"translate(220.07,300.25)\" d=\"M3,0A3,3 0 1,1 0,-3A3,3 0 0,1 3,0Z\" style=\"opacity: 1; stroke-width: 0px; fill: rgb(99, 110, 250); fill-opacity: 1;\"/><path class=\"point\" transform=\"translate(220.34,300.25)\" d=\"M3,0A3,3 0 1,1 0,-3A3,3 0 0,1 3,0Z\" style=\"opacity: 1; stroke-width: 0px; fill: rgb(99, 110, 250); fill-opacity: 1;\"/><path class=\"point\" transform=\"translate(220.73,300.25)\" d=\"M3,0A3,3 0 1,1 0,-3A3,3 0 0,1 3,0Z\" style=\"opacity: 1; stroke-width: 0px; fill: rgb(99, 110, 250); fill-opacity: 1;\"/><path class=\"point\" transform=\"translate(221.84,300.25)\" d=\"M3,0A3,3 0 1,1 0,-3A3,3 0 0,1 3,0Z\" style=\"opacity: 1; stroke-width: 0px; fill: rgb(99, 110, 250); fill-opacity: 1;\"/><path class=\"point\" transform=\"translate(222.82,300.25)\" d=\"M3,0A3,3 0 1,1 0,-3A3,3 0 0,1 3,0Z\" style=\"opacity: 1; stroke-width: 0px; fill: rgb(99, 110, 250); fill-opacity: 1;\"/><path class=\"point\" transform=\"translate(222.83,300.25)\" d=\"M3,0A3,3 0 1,1 0,-3A3,3 0 0,1 3,0Z\" style=\"opacity: 1; stroke-width: 0px; fill: rgb(99, 110, 250); fill-opacity: 1;\"/><path class=\"point\" transform=\"translate(223.51,300.25)\" d=\"M3,0A3,3 0 1,1 0,-3A3,3 0 0,1 3,0Z\" style=\"opacity: 1; stroke-width: 0px; fill: rgb(99, 110, 250); fill-opacity: 1;\"/><path class=\"point\" transform=\"translate(223.9,300.25)\" d=\"M3,0A3,3 0 1,1 0,-3A3,3 0 0,1 3,0Z\" style=\"opacity: 1; stroke-width: 0px; fill: rgb(99, 110, 250); fill-opacity: 1;\"/><path class=\"point\" transform=\"translate(224.48,300.25)\" d=\"M3,0A3,3 0 1,1 0,-3A3,3 0 0,1 3,0Z\" style=\"opacity: 1; stroke-width: 0px; fill: rgb(99, 110, 250); fill-opacity: 1;\"/><path class=\"point\" transform=\"translate(224.63,300.25)\" d=\"M3,0A3,3 0 1,1 0,-3A3,3 0 0,1 3,0Z\" style=\"opacity: 1; stroke-width: 0px; fill: rgb(99, 110, 250); fill-opacity: 1;\"/><path class=\"point\" transform=\"translate(224.97,300.25)\" d=\"M3,0A3,3 0 1,1 0,-3A3,3 0 0,1 3,0Z\" style=\"opacity: 1; stroke-width: 0px; fill: rgb(99, 110, 250); fill-opacity: 1;\"/><path class=\"point\" transform=\"translate(225.3,300.25)\" d=\"M3,0A3,3 0 1,1 0,-3A3,3 0 0,1 3,0Z\" style=\"opacity: 1; stroke-width: 0px; fill: rgb(99, 110, 250); fill-opacity: 1;\"/><path class=\"point\" transform=\"translate(227.25,300.25)\" d=\"M3,0A3,3 0 1,1 0,-3A3,3 0 0,1 3,0Z\" style=\"opacity: 1; stroke-width: 0px; fill: rgb(99, 110, 250); fill-opacity: 1;\"/><path class=\"point\" transform=\"translate(227.73,300.25)\" d=\"M3,0A3,3 0 1,1 0,-3A3,3 0 0,1 3,0Z\" style=\"opacity: 1; stroke-width: 0px; fill: rgb(99, 110, 250); fill-opacity: 1;\"/><path class=\"point\" transform=\"translate(228,300.25)\" d=\"M3,0A3,3 0 1,1 0,-3A3,3 0 0,1 3,0Z\" style=\"opacity: 1; stroke-width: 0px; fill: rgb(99, 110, 250); fill-opacity: 1;\"/><path class=\"point\" transform=\"translate(228.36,160)\" d=\"M3,0A3,3 0 1,1 0,-3A3,3 0 0,1 3,0Z\" style=\"opacity: 1; stroke-width: 0px; fill: rgb(99, 110, 250); fill-opacity: 1;\"/><path class=\"point\" transform=\"translate(228.66,300.25)\" d=\"M3,0A3,3 0 1,1 0,-3A3,3 0 0,1 3,0Z\" style=\"opacity: 1; stroke-width: 0px; fill: rgb(99, 110, 250); fill-opacity: 1;\"/><path class=\"point\" transform=\"translate(228.71,300.25)\" d=\"M3,0A3,3 0 1,1 0,-3A3,3 0 0,1 3,0Z\" style=\"opacity: 1; stroke-width: 0px; fill: rgb(99, 110, 250); fill-opacity: 1;\"/><path class=\"point\" transform=\"translate(229.42,300.25)\" d=\"M3,0A3,3 0 1,1 0,-3A3,3 0 0,1 3,0Z\" style=\"opacity: 1; stroke-width: 0px; fill: rgb(99, 110, 250); fill-opacity: 1;\"/><path class=\"point\" transform=\"translate(229.54,300.25)\" d=\"M3,0A3,3 0 1,1 0,-3A3,3 0 0,1 3,0Z\" style=\"opacity: 1; stroke-width: 0px; fill: rgb(99, 110, 250); fill-opacity: 1;\"/><path class=\"point\" transform=\"translate(229.94,300.25)\" d=\"M3,0A3,3 0 1,1 0,-3A3,3 0 0,1 3,0Z\" style=\"opacity: 1; stroke-width: 0px; fill: rgb(99, 110, 250); fill-opacity: 1;\"/><path class=\"point\" transform=\"translate(231.02,300.25)\" d=\"M3,0A3,3 0 1,1 0,-3A3,3 0 0,1 3,0Z\" style=\"opacity: 1; stroke-width: 0px; fill: rgb(99, 110, 250); fill-opacity: 1;\"/><path class=\"point\" transform=\"translate(231.81,300.25)\" d=\"M3,0A3,3 0 1,1 0,-3A3,3 0 0,1 3,0Z\" style=\"opacity: 1; stroke-width: 0px; fill: rgb(99, 110, 250); fill-opacity: 1;\"/><path class=\"point\" transform=\"translate(232.32,300.25)\" d=\"M3,0A3,3 0 1,1 0,-3A3,3 0 0,1 3,0Z\" style=\"opacity: 1; stroke-width: 0px; fill: rgb(99, 110, 250); fill-opacity: 1;\"/><path class=\"point\" transform=\"translate(232.65,300.25)\" d=\"M3,0A3,3 0 1,1 0,-3A3,3 0 0,1 3,0Z\" style=\"opacity: 1; stroke-width: 0px; fill: rgb(99, 110, 250); fill-opacity: 1;\"/><path class=\"point\" transform=\"translate(234.15,300.25)\" d=\"M3,0A3,3 0 1,1 0,-3A3,3 0 0,1 3,0Z\" style=\"opacity: 1; stroke-width: 0px; fill: rgb(99, 110, 250); fill-opacity: 1;\"/><path class=\"point\" transform=\"translate(234.39,300.25)\" d=\"M3,0A3,3 0 1,1 0,-3A3,3 0 0,1 3,0Z\" style=\"opacity: 1; stroke-width: 0px; fill: rgb(99, 110, 250); fill-opacity: 1;\"/><path class=\"point\" transform=\"translate(234.43,300.25)\" d=\"M3,0A3,3 0 1,1 0,-3A3,3 0 0,1 3,0Z\" style=\"opacity: 1; stroke-width: 0px; fill: rgb(99, 110, 250); fill-opacity: 1;\"/><path class=\"point\" transform=\"translate(234.92,300.25)\" d=\"M3,0A3,3 0 1,1 0,-3A3,3 0 0,1 3,0Z\" style=\"opacity: 1; stroke-width: 0px; fill: rgb(99, 110, 250); fill-opacity: 1;\"/><path class=\"point\" transform=\"translate(234.92,300.25)\" d=\"M3,0A3,3 0 1,1 0,-3A3,3 0 0,1 3,0Z\" style=\"opacity: 1; stroke-width: 0px; fill: rgb(99, 110, 250); fill-opacity: 1;\"/><path class=\"point\" transform=\"translate(234.96,300.25)\" d=\"M3,0A3,3 0 1,1 0,-3A3,3 0 0,1 3,0Z\" style=\"opacity: 1; stroke-width: 0px; fill: rgb(99, 110, 250); fill-opacity: 1;\"/><path class=\"point\" transform=\"translate(234.97,300.25)\" d=\"M3,0A3,3 0 1,1 0,-3A3,3 0 0,1 3,0Z\" style=\"opacity: 1; stroke-width: 0px; fill: rgb(99, 110, 250); fill-opacity: 1;\"/><path class=\"point\" transform=\"translate(234.98,300.25)\" d=\"M3,0A3,3 0 1,1 0,-3A3,3 0 0,1 3,0Z\" style=\"opacity: 1; stroke-width: 0px; fill: rgb(99, 110, 250); fill-opacity: 1;\"/><path class=\"point\" transform=\"translate(235.05,300.25)\" d=\"M3,0A3,3 0 1,1 0,-3A3,3 0 0,1 3,0Z\" style=\"opacity: 1; stroke-width: 0px; fill: rgb(99, 110, 250); fill-opacity: 1;\"/><path class=\"point\" transform=\"translate(235.14,300.25)\" d=\"M3,0A3,3 0 1,1 0,-3A3,3 0 0,1 3,0Z\" style=\"opacity: 1; stroke-width: 0px; fill: rgb(99, 110, 250); fill-opacity: 1;\"/><path class=\"point\" transform=\"translate(235.43,300.25)\" d=\"M3,0A3,3 0 1,1 0,-3A3,3 0 0,1 3,0Z\" style=\"opacity: 1; stroke-width: 0px; fill: rgb(99, 110, 250); fill-opacity: 1;\"/><path class=\"point\" transform=\"translate(237.15,300.25)\" d=\"M3,0A3,3 0 1,1 0,-3A3,3 0 0,1 3,0Z\" style=\"opacity: 1; stroke-width: 0px; fill: rgb(99, 110, 250); fill-opacity: 1;\"/><path class=\"point\" transform=\"translate(237.96,300.25)\" d=\"M3,0A3,3 0 1,1 0,-3A3,3 0 0,1 3,0Z\" style=\"opacity: 1; stroke-width: 0px; fill: rgb(99, 110, 250); fill-opacity: 1;\"/><path class=\"point\" transform=\"translate(238.1,300.25)\" d=\"M3,0A3,3 0 1,1 0,-3A3,3 0 0,1 3,0Z\" style=\"opacity: 1; stroke-width: 0px; fill: rgb(99, 110, 250); fill-opacity: 1;\"/><path class=\"point\" transform=\"translate(239.27,300.25)\" d=\"M3,0A3,3 0 1,1 0,-3A3,3 0 0,1 3,0Z\" style=\"opacity: 1; stroke-width: 0px; fill: rgb(99, 110, 250); fill-opacity: 1;\"/><path class=\"point\" transform=\"translate(240.31,300.25)\" d=\"M3,0A3,3 0 1,1 0,-3A3,3 0 0,1 3,0Z\" style=\"opacity: 1; stroke-width: 0px; fill: rgb(99, 110, 250); fill-opacity: 1;\"/><path class=\"point\" transform=\"translate(240.67,300.25)\" d=\"M3,0A3,3 0 1,1 0,-3A3,3 0 0,1 3,0Z\" style=\"opacity: 1; stroke-width: 0px; fill: rgb(99, 110, 250); fill-opacity: 1;\"/><path class=\"point\" transform=\"translate(241.61,300.25)\" d=\"M3,0A3,3 0 1,1 0,-3A3,3 0 0,1 3,0Z\" style=\"opacity: 1; stroke-width: 0px; fill: rgb(99, 110, 250); fill-opacity: 1;\"/><path class=\"point\" transform=\"translate(241.92,300.25)\" d=\"M3,0A3,3 0 1,1 0,-3A3,3 0 0,1 3,0Z\" style=\"opacity: 1; stroke-width: 0px; fill: rgb(99, 110, 250); fill-opacity: 1;\"/><path class=\"point\" transform=\"translate(242.76,300.25)\" d=\"M3,0A3,3 0 1,1 0,-3A3,3 0 0,1 3,0Z\" style=\"opacity: 1; stroke-width: 0px; fill: rgb(99, 110, 250); fill-opacity: 1;\"/><path class=\"point\" transform=\"translate(243.72,300.25)\" d=\"M3,0A3,3 0 1,1 0,-3A3,3 0 0,1 3,0Z\" style=\"opacity: 1; stroke-width: 0px; fill: rgb(99, 110, 250); fill-opacity: 1;\"/><path class=\"point\" transform=\"translate(244.62,300.25)\" d=\"M3,0A3,3 0 1,1 0,-3A3,3 0 0,1 3,0Z\" style=\"opacity: 1; stroke-width: 0px; fill: rgb(99, 110, 250); fill-opacity: 1;\"/><path class=\"point\" transform=\"translate(244.76,300.25)\" d=\"M3,0A3,3 0 1,1 0,-3A3,3 0 0,1 3,0Z\" style=\"opacity: 1; stroke-width: 0px; fill: rgb(99, 110, 250); fill-opacity: 1;\"/><path class=\"point\" transform=\"translate(244.91,300.25)\" d=\"M3,0A3,3 0 1,1 0,-3A3,3 0 0,1 3,0Z\" style=\"opacity: 1; stroke-width: 0px; fill: rgb(99, 110, 250); fill-opacity: 1;\"/><path class=\"point\" transform=\"translate(246.61,300.25)\" d=\"M3,0A3,3 0 1,1 0,-3A3,3 0 0,1 3,0Z\" style=\"opacity: 1; stroke-width: 0px; fill: rgb(99, 110, 250); fill-opacity: 1;\"/><path class=\"point\" transform=\"translate(246.83,300.25)\" d=\"M3,0A3,3 0 1,1 0,-3A3,3 0 0,1 3,0Z\" style=\"opacity: 1; stroke-width: 0px; fill: rgb(99, 110, 250); fill-opacity: 1;\"/><path class=\"point\" transform=\"translate(246.92,300.25)\" d=\"M3,0A3,3 0 1,1 0,-3A3,3 0 0,1 3,0Z\" style=\"opacity: 1; stroke-width: 0px; fill: rgb(99, 110, 250); fill-opacity: 1;\"/><path class=\"point\" transform=\"translate(248.13,300.25)\" d=\"M3,0A3,3 0 1,1 0,-3A3,3 0 0,1 3,0Z\" style=\"opacity: 1; stroke-width: 0px; fill: rgb(99, 110, 250); fill-opacity: 1;\"/><path class=\"point\" transform=\"translate(249.14,300.25)\" d=\"M3,0A3,3 0 1,1 0,-3A3,3 0 0,1 3,0Z\" style=\"opacity: 1; stroke-width: 0px; fill: rgb(99, 110, 250); fill-opacity: 1;\"/><path class=\"point\" transform=\"translate(249.86,300.25)\" d=\"M3,0A3,3 0 1,1 0,-3A3,3 0 0,1 3,0Z\" style=\"opacity: 1; stroke-width: 0px; fill: rgb(99, 110, 250); fill-opacity: 1;\"/><path class=\"point\" transform=\"translate(249.9,300.25)\" d=\"M3,0A3,3 0 1,1 0,-3A3,3 0 0,1 3,0Z\" style=\"opacity: 1; stroke-width: 0px; fill: rgb(99, 110, 250); fill-opacity: 1;\"/><path class=\"point\" transform=\"translate(250.18,300.25)\" d=\"M3,0A3,3 0 1,1 0,-3A3,3 0 0,1 3,0Z\" style=\"opacity: 1; stroke-width: 0px; fill: rgb(99, 110, 250); fill-opacity: 1;\"/><path class=\"point\" transform=\"translate(250.23,300.25)\" d=\"M3,0A3,3 0 1,1 0,-3A3,3 0 0,1 3,0Z\" style=\"opacity: 1; stroke-width: 0px; fill: rgb(99, 110, 250); fill-opacity: 1;\"/><path class=\"point\" transform=\"translate(251.59,300.25)\" d=\"M3,0A3,3 0 1,1 0,-3A3,3 0 0,1 3,0Z\" style=\"opacity: 1; stroke-width: 0px; fill: rgb(99, 110, 250); fill-opacity: 1;\"/><path class=\"point\" transform=\"translate(251.79,300.25)\" d=\"M3,0A3,3 0 1,1 0,-3A3,3 0 0,1 3,0Z\" style=\"opacity: 1; stroke-width: 0px; fill: rgb(99, 110, 250); fill-opacity: 1;\"/><path class=\"point\" transform=\"translate(252.22,160)\" d=\"M3,0A3,3 0 1,1 0,-3A3,3 0 0,1 3,0Z\" style=\"opacity: 1; stroke-width: 0px; fill: rgb(99, 110, 250); fill-opacity: 1;\"/><path class=\"point\" transform=\"translate(253.34,300.25)\" d=\"M3,0A3,3 0 1,1 0,-3A3,3 0 0,1 3,0Z\" style=\"opacity: 1; stroke-width: 0px; fill: rgb(99, 110, 250); fill-opacity: 1;\"/><path class=\"point\" transform=\"translate(254.74,300.25)\" d=\"M3,0A3,3 0 1,1 0,-3A3,3 0 0,1 3,0Z\" style=\"opacity: 1; stroke-width: 0px; fill: rgb(99, 110, 250); fill-opacity: 1;\"/><path class=\"point\" transform=\"translate(255.02,300.25)\" d=\"M3,0A3,3 0 1,1 0,-3A3,3 0 0,1 3,0Z\" style=\"opacity: 1; stroke-width: 0px; fill: rgb(99, 110, 250); fill-opacity: 1;\"/><path class=\"point\" transform=\"translate(255.73,300.25)\" d=\"M3,0A3,3 0 1,1 0,-3A3,3 0 0,1 3,0Z\" style=\"opacity: 1; stroke-width: 0px; fill: rgb(99, 110, 250); fill-opacity: 1;\"/><path class=\"point\" transform=\"translate(255.99,300.25)\" d=\"M3,0A3,3 0 1,1 0,-3A3,3 0 0,1 3,0Z\" style=\"opacity: 1; stroke-width: 0px; fill: rgb(99, 110, 250); fill-opacity: 1;\"/><path class=\"point\" transform=\"translate(256.01,300.25)\" d=\"M3,0A3,3 0 1,1 0,-3A3,3 0 0,1 3,0Z\" style=\"opacity: 1; stroke-width: 0px; fill: rgb(99, 110, 250); fill-opacity: 1;\"/><path class=\"point\" transform=\"translate(256.66,160)\" d=\"M3,0A3,3 0 1,1 0,-3A3,3 0 0,1 3,0Z\" style=\"opacity: 1; stroke-width: 0px; fill: rgb(99, 110, 250); fill-opacity: 1;\"/><path class=\"point\" transform=\"translate(257.29,300.25)\" d=\"M3,0A3,3 0 1,1 0,-3A3,3 0 0,1 3,0Z\" style=\"opacity: 1; stroke-width: 0px; fill: rgb(99, 110, 250); fill-opacity: 1;\"/><path class=\"point\" transform=\"translate(257.93,300.25)\" d=\"M3,0A3,3 0 1,1 0,-3A3,3 0 0,1 3,0Z\" style=\"opacity: 1; stroke-width: 0px; fill: rgb(99, 110, 250); fill-opacity: 1;\"/><path class=\"point\" transform=\"translate(258.09,300.25)\" d=\"M3,0A3,3 0 1,1 0,-3A3,3 0 0,1 3,0Z\" style=\"opacity: 1; stroke-width: 0px; fill: rgb(99, 110, 250); fill-opacity: 1;\"/><path class=\"point\" transform=\"translate(258.49,300.25)\" d=\"M3,0A3,3 0 1,1 0,-3A3,3 0 0,1 3,0Z\" style=\"opacity: 1; stroke-width: 0px; fill: rgb(99, 110, 250); fill-opacity: 1;\"/><path class=\"point\" transform=\"translate(258.59,300.25)\" d=\"M3,0A3,3 0 1,1 0,-3A3,3 0 0,1 3,0Z\" style=\"opacity: 1; stroke-width: 0px; fill: rgb(99, 110, 250); fill-opacity: 1;\"/><path class=\"point\" transform=\"translate(258.78,300.25)\" d=\"M3,0A3,3 0 1,1 0,-3A3,3 0 0,1 3,0Z\" style=\"opacity: 1; stroke-width: 0px; fill: rgb(99, 110, 250); fill-opacity: 1;\"/><path class=\"point\" transform=\"translate(258.99,300.25)\" d=\"M3,0A3,3 0 1,1 0,-3A3,3 0 0,1 3,0Z\" style=\"opacity: 1; stroke-width: 0px; fill: rgb(99, 110, 250); fill-opacity: 1;\"/><path class=\"point\" transform=\"translate(259.88,300.25)\" d=\"M3,0A3,3 0 1,1 0,-3A3,3 0 0,1 3,0Z\" style=\"opacity: 1; stroke-width: 0px; fill: rgb(99, 110, 250); fill-opacity: 1;\"/><path class=\"point\" transform=\"translate(261.13,300.25)\" d=\"M3,0A3,3 0 1,1 0,-3A3,3 0 0,1 3,0Z\" style=\"opacity: 1; stroke-width: 0px; fill: rgb(99, 110, 250); fill-opacity: 1;\"/><path class=\"point\" transform=\"translate(261.39,300.25)\" d=\"M3,0A3,3 0 1,1 0,-3A3,3 0 0,1 3,0Z\" style=\"opacity: 1; stroke-width: 0px; fill: rgb(99, 110, 250); fill-opacity: 1;\"/><path class=\"point\" transform=\"translate(261.66,300.25)\" d=\"M3,0A3,3 0 1,1 0,-3A3,3 0 0,1 3,0Z\" style=\"opacity: 1; stroke-width: 0px; fill: rgb(99, 110, 250); fill-opacity: 1;\"/><path class=\"point\" transform=\"translate(262.31,300.25)\" d=\"M3,0A3,3 0 1,1 0,-3A3,3 0 0,1 3,0Z\" style=\"opacity: 1; stroke-width: 0px; fill: rgb(99, 110, 250); fill-opacity: 1;\"/><path class=\"point\" transform=\"translate(262.33,300.25)\" d=\"M3,0A3,3 0 1,1 0,-3A3,3 0 0,1 3,0Z\" style=\"opacity: 1; stroke-width: 0px; fill: rgb(99, 110, 250); fill-opacity: 1;\"/><path class=\"point\" transform=\"translate(263.02,300.25)\" d=\"M3,0A3,3 0 1,1 0,-3A3,3 0 0,1 3,0Z\" style=\"opacity: 1; stroke-width: 0px; fill: rgb(99, 110, 250); fill-opacity: 1;\"/><path class=\"point\" transform=\"translate(263.33,300.25)\" d=\"M3,0A3,3 0 1,1 0,-3A3,3 0 0,1 3,0Z\" style=\"opacity: 1; stroke-width: 0px; fill: rgb(99, 110, 250); fill-opacity: 1;\"/><path class=\"point\" transform=\"translate(264.12,300.25)\" d=\"M3,0A3,3 0 1,1 0,-3A3,3 0 0,1 3,0Z\" style=\"opacity: 1; stroke-width: 0px; fill: rgb(99, 110, 250); fill-opacity: 1;\"/><path class=\"point\" transform=\"translate(264.63,160)\" d=\"M3,0A3,3 0 1,1 0,-3A3,3 0 0,1 3,0Z\" style=\"opacity: 1; stroke-width: 0px; fill: rgb(99, 110, 250); fill-opacity: 1;\"/><path class=\"point\" transform=\"translate(265.93,300.25)\" d=\"M3,0A3,3 0 1,1 0,-3A3,3 0 0,1 3,0Z\" style=\"opacity: 1; stroke-width: 0px; fill: rgb(99, 110, 250); fill-opacity: 1;\"/><path class=\"point\" transform=\"translate(265.94,19.75)\" d=\"M3,0A3,3 0 1,1 0,-3A3,3 0 0,1 3,0Z\" style=\"opacity: 1; stroke-width: 0px; fill: rgb(99, 110, 250); fill-opacity: 1;\"/><path class=\"point\" transform=\"translate(266.7,300.25)\" d=\"M3,0A3,3 0 1,1 0,-3A3,3 0 0,1 3,0Z\" style=\"opacity: 1; stroke-width: 0px; fill: rgb(99, 110, 250); fill-opacity: 1;\"/><path class=\"point\" transform=\"translate(266.78,300.25)\" d=\"M3,0A3,3 0 1,1 0,-3A3,3 0 0,1 3,0Z\" style=\"opacity: 1; stroke-width: 0px; fill: rgb(99, 110, 250); fill-opacity: 1;\"/><path class=\"point\" transform=\"translate(266.78,300.25)\" d=\"M3,0A3,3 0 1,1 0,-3A3,3 0 0,1 3,0Z\" style=\"opacity: 1; stroke-width: 0px; fill: rgb(99, 110, 250); fill-opacity: 1;\"/><path class=\"point\" transform=\"translate(267.85,300.25)\" d=\"M3,0A3,3 0 1,1 0,-3A3,3 0 0,1 3,0Z\" style=\"opacity: 1; stroke-width: 0px; fill: rgb(99, 110, 250); fill-opacity: 1;\"/><path class=\"point\" transform=\"translate(268.26,300.25)\" d=\"M3,0A3,3 0 1,1 0,-3A3,3 0 0,1 3,0Z\" style=\"opacity: 1; stroke-width: 0px; fill: rgb(99, 110, 250); fill-opacity: 1;\"/><path class=\"point\" transform=\"translate(268.92,300.25)\" d=\"M3,0A3,3 0 1,1 0,-3A3,3 0 0,1 3,0Z\" style=\"opacity: 1; stroke-width: 0px; fill: rgb(99, 110, 250); fill-opacity: 1;\"/><path class=\"point\" transform=\"translate(269.28,300.25)\" d=\"M3,0A3,3 0 1,1 0,-3A3,3 0 0,1 3,0Z\" style=\"opacity: 1; stroke-width: 0px; fill: rgb(99, 110, 250); fill-opacity: 1;\"/><path class=\"point\" transform=\"translate(269.29,300.25)\" d=\"M3,0A3,3 0 1,1 0,-3A3,3 0 0,1 3,0Z\" style=\"opacity: 1; stroke-width: 0px; fill: rgb(99, 110, 250); fill-opacity: 1;\"/><path class=\"point\" transform=\"translate(269.44,300.25)\" d=\"M3,0A3,3 0 1,1 0,-3A3,3 0 0,1 3,0Z\" style=\"opacity: 1; stroke-width: 0px; fill: rgb(99, 110, 250); fill-opacity: 1;\"/><path class=\"point\" transform=\"translate(270.25,300.25)\" d=\"M3,0A3,3 0 1,1 0,-3A3,3 0 0,1 3,0Z\" style=\"opacity: 1; stroke-width: 0px; fill: rgb(99, 110, 250); fill-opacity: 1;\"/><path class=\"point\" transform=\"translate(270.39,300.25)\" d=\"M3,0A3,3 0 1,1 0,-3A3,3 0 0,1 3,0Z\" style=\"opacity: 1; stroke-width: 0px; fill: rgb(99, 110, 250); fill-opacity: 1;\"/><path class=\"point\" transform=\"translate(270.9,300.25)\" d=\"M3,0A3,3 0 1,1 0,-3A3,3 0 0,1 3,0Z\" style=\"opacity: 1; stroke-width: 0px; fill: rgb(99, 110, 250); fill-opacity: 1;\"/><path class=\"point\" transform=\"translate(271.05,300.25)\" d=\"M3,0A3,3 0 1,1 0,-3A3,3 0 0,1 3,0Z\" style=\"opacity: 1; stroke-width: 0px; fill: rgb(99, 110, 250); fill-opacity: 1;\"/><path class=\"point\" transform=\"translate(271.32,300.25)\" d=\"M3,0A3,3 0 1,1 0,-3A3,3 0 0,1 3,0Z\" style=\"opacity: 1; stroke-width: 0px; fill: rgb(99, 110, 250); fill-opacity: 1;\"/><path class=\"point\" transform=\"translate(271.53,300.25)\" d=\"M3,0A3,3 0 1,1 0,-3A3,3 0 0,1 3,0Z\" style=\"opacity: 1; stroke-width: 0px; fill: rgb(99, 110, 250); fill-opacity: 1;\"/><path class=\"point\" transform=\"translate(271.98,300.25)\" d=\"M3,0A3,3 0 1,1 0,-3A3,3 0 0,1 3,0Z\" style=\"opacity: 1; stroke-width: 0px; fill: rgb(99, 110, 250); fill-opacity: 1;\"/><path class=\"point\" transform=\"translate(272.04,300.25)\" d=\"M3,0A3,3 0 1,1 0,-3A3,3 0 0,1 3,0Z\" style=\"opacity: 1; stroke-width: 0px; fill: rgb(99, 110, 250); fill-opacity: 1;\"/><path class=\"point\" transform=\"translate(272.68,300.25)\" d=\"M3,0A3,3 0 1,1 0,-3A3,3 0 0,1 3,0Z\" style=\"opacity: 1; stroke-width: 0px; fill: rgb(99, 110, 250); fill-opacity: 1;\"/><path class=\"point\" transform=\"translate(273.02,300.25)\" d=\"M3,0A3,3 0 1,1 0,-3A3,3 0 0,1 3,0Z\" style=\"opacity: 1; stroke-width: 0px; fill: rgb(99, 110, 250); fill-opacity: 1;\"/><path class=\"point\" transform=\"translate(274.94,300.25)\" d=\"M3,0A3,3 0 1,1 0,-3A3,3 0 0,1 3,0Z\" style=\"opacity: 1; stroke-width: 0px; fill: rgb(99, 110, 250); fill-opacity: 1;\"/><path class=\"point\" transform=\"translate(275.68,300.25)\" d=\"M3,0A3,3 0 1,1 0,-3A3,3 0 0,1 3,0Z\" style=\"opacity: 1; stroke-width: 0px; fill: rgb(99, 110, 250); fill-opacity: 1;\"/><path class=\"point\" transform=\"translate(276.37,300.25)\" d=\"M3,0A3,3 0 1,1 0,-3A3,3 0 0,1 3,0Z\" style=\"opacity: 1; stroke-width: 0px; fill: rgb(99, 110, 250); fill-opacity: 1;\"/><path class=\"point\" transform=\"translate(277.42,300.25)\" d=\"M3,0A3,3 0 1,1 0,-3A3,3 0 0,1 3,0Z\" style=\"opacity: 1; stroke-width: 0px; fill: rgb(99, 110, 250); fill-opacity: 1;\"/><path class=\"point\" transform=\"translate(277.76,300.25)\" d=\"M3,0A3,3 0 1,1 0,-3A3,3 0 0,1 3,0Z\" style=\"opacity: 1; stroke-width: 0px; fill: rgb(99, 110, 250); fill-opacity: 1;\"/><path class=\"point\" transform=\"translate(278.22,300.25)\" d=\"M3,0A3,3 0 1,1 0,-3A3,3 0 0,1 3,0Z\" style=\"opacity: 1; stroke-width: 0px; fill: rgb(99, 110, 250); fill-opacity: 1;\"/><path class=\"point\" transform=\"translate(278.35,300.25)\" d=\"M3,0A3,3 0 1,1 0,-3A3,3 0 0,1 3,0Z\" style=\"opacity: 1; stroke-width: 0px; fill: rgb(99, 110, 250); fill-opacity: 1;\"/><path class=\"point\" transform=\"translate(278.84,300.25)\" d=\"M3,0A3,3 0 1,1 0,-3A3,3 0 0,1 3,0Z\" style=\"opacity: 1; stroke-width: 0px; fill: rgb(99, 110, 250); fill-opacity: 1;\"/><path class=\"point\" transform=\"translate(279.59,300.25)\" d=\"M3,0A3,3 0 1,1 0,-3A3,3 0 0,1 3,0Z\" style=\"opacity: 1; stroke-width: 0px; fill: rgb(99, 110, 250); fill-opacity: 1;\"/><path class=\"point\" transform=\"translate(279.72,300.25)\" d=\"M3,0A3,3 0 1,1 0,-3A3,3 0 0,1 3,0Z\" style=\"opacity: 1; stroke-width: 0px; fill: rgb(99, 110, 250); fill-opacity: 1;\"/><path class=\"point\" transform=\"translate(279.76,300.25)\" d=\"M3,0A3,3 0 1,1 0,-3A3,3 0 0,1 3,0Z\" style=\"opacity: 1; stroke-width: 0px; fill: rgb(99, 110, 250); fill-opacity: 1;\"/><path class=\"point\" transform=\"translate(279.8,160)\" d=\"M3,0A3,3 0 1,1 0,-3A3,3 0 0,1 3,0Z\" style=\"opacity: 1; stroke-width: 0px; fill: rgb(99, 110, 250); fill-opacity: 1;\"/><path class=\"point\" transform=\"translate(281.3,300.25)\" d=\"M3,0A3,3 0 1,1 0,-3A3,3 0 0,1 3,0Z\" style=\"opacity: 1; stroke-width: 0px; fill: rgb(99, 110, 250); fill-opacity: 1;\"/><path class=\"point\" transform=\"translate(281.54,300.25)\" d=\"M3,0A3,3 0 1,1 0,-3A3,3 0 0,1 3,0Z\" style=\"opacity: 1; stroke-width: 0px; fill: rgb(99, 110, 250); fill-opacity: 1;\"/><path class=\"point\" transform=\"translate(281.55,300.25)\" d=\"M3,0A3,3 0 1,1 0,-3A3,3 0 0,1 3,0Z\" style=\"opacity: 1; stroke-width: 0px; fill: rgb(99, 110, 250); fill-opacity: 1;\"/><path class=\"point\" transform=\"translate(281.6,300.25)\" d=\"M3,0A3,3 0 1,1 0,-3A3,3 0 0,1 3,0Z\" style=\"opacity: 1; stroke-width: 0px; fill: rgb(99, 110, 250); fill-opacity: 1;\"/><path class=\"point\" transform=\"translate(282.3,300.25)\" d=\"M3,0A3,3 0 1,1 0,-3A3,3 0 0,1 3,0Z\" style=\"opacity: 1; stroke-width: 0px; fill: rgb(99, 110, 250); fill-opacity: 1;\"/><path class=\"point\" transform=\"translate(282.31,300.25)\" d=\"M3,0A3,3 0 1,1 0,-3A3,3 0 0,1 3,0Z\" style=\"opacity: 1; stroke-width: 0px; fill: rgb(99, 110, 250); fill-opacity: 1;\"/><path class=\"point\" transform=\"translate(282.34,300.25)\" d=\"M3,0A3,3 0 1,1 0,-3A3,3 0 0,1 3,0Z\" style=\"opacity: 1; stroke-width: 0px; fill: rgb(99, 110, 250); fill-opacity: 1;\"/><path class=\"point\" transform=\"translate(283.04,300.25)\" d=\"M3,0A3,3 0 1,1 0,-3A3,3 0 0,1 3,0Z\" style=\"opacity: 1; stroke-width: 0px; fill: rgb(99, 110, 250); fill-opacity: 1;\"/><path class=\"point\" transform=\"translate(283.13,300.25)\" d=\"M3,0A3,3 0 1,1 0,-3A3,3 0 0,1 3,0Z\" style=\"opacity: 1; stroke-width: 0px; fill: rgb(99, 110, 250); fill-opacity: 1;\"/><path class=\"point\" transform=\"translate(284.46,300.25)\" d=\"M3,0A3,3 0 1,1 0,-3A3,3 0 0,1 3,0Z\" style=\"opacity: 1; stroke-width: 0px; fill: rgb(99, 110, 250); fill-opacity: 1;\"/><path class=\"point\" transform=\"translate(284.58,300.25)\" d=\"M3,0A3,3 0 1,1 0,-3A3,3 0 0,1 3,0Z\" style=\"opacity: 1; stroke-width: 0px; fill: rgb(99, 110, 250); fill-opacity: 1;\"/><path class=\"point\" transform=\"translate(285,300.25)\" d=\"M3,0A3,3 0 1,1 0,-3A3,3 0 0,1 3,0Z\" style=\"opacity: 1; stroke-width: 0px; fill: rgb(99, 110, 250); fill-opacity: 1;\"/><path class=\"point\" transform=\"translate(285.15,300.25)\" d=\"M3,0A3,3 0 1,1 0,-3A3,3 0 0,1 3,0Z\" style=\"opacity: 1; stroke-width: 0px; fill: rgb(99, 110, 250); fill-opacity: 1;\"/><path class=\"point\" transform=\"translate(285.51,300.25)\" d=\"M3,0A3,3 0 1,1 0,-3A3,3 0 0,1 3,0Z\" style=\"opacity: 1; stroke-width: 0px; fill: rgb(99, 110, 250); fill-opacity: 1;\"/><path class=\"point\" transform=\"translate(286.07,300.25)\" d=\"M3,0A3,3 0 1,1 0,-3A3,3 0 0,1 3,0Z\" style=\"opacity: 1; stroke-width: 0px; fill: rgb(99, 110, 250); fill-opacity: 1;\"/><path class=\"point\" transform=\"translate(286.86,300.25)\" d=\"M3,0A3,3 0 1,1 0,-3A3,3 0 0,1 3,0Z\" style=\"opacity: 1; stroke-width: 0px; fill: rgb(99, 110, 250); fill-opacity: 1;\"/><path class=\"point\" transform=\"translate(287.61,300.25)\" d=\"M3,0A3,3 0 1,1 0,-3A3,3 0 0,1 3,0Z\" style=\"opacity: 1; stroke-width: 0px; fill: rgb(99, 110, 250); fill-opacity: 1;\"/><path class=\"point\" transform=\"translate(287.78,300.25)\" d=\"M3,0A3,3 0 1,1 0,-3A3,3 0 0,1 3,0Z\" style=\"opacity: 1; stroke-width: 0px; fill: rgb(99, 110, 250); fill-opacity: 1;\"/><path class=\"point\" transform=\"translate(287.84,300.25)\" d=\"M3,0A3,3 0 1,1 0,-3A3,3 0 0,1 3,0Z\" style=\"opacity: 1; stroke-width: 0px; fill: rgb(99, 110, 250); fill-opacity: 1;\"/><path class=\"point\" transform=\"translate(288.07,160)\" d=\"M3,0A3,3 0 1,1 0,-3A3,3 0 0,1 3,0Z\" style=\"opacity: 1; stroke-width: 0px; fill: rgb(99, 110, 250); fill-opacity: 1;\"/><path class=\"point\" transform=\"translate(288.25,300.25)\" d=\"M3,0A3,3 0 1,1 0,-3A3,3 0 0,1 3,0Z\" style=\"opacity: 1; stroke-width: 0px; fill: rgb(99, 110, 250); fill-opacity: 1;\"/><path class=\"point\" transform=\"translate(288.32,300.25)\" d=\"M3,0A3,3 0 1,1 0,-3A3,3 0 0,1 3,0Z\" style=\"opacity: 1; stroke-width: 0px; fill: rgb(99, 110, 250); fill-opacity: 1;\"/><path class=\"point\" transform=\"translate(289.27,300.25)\" d=\"M3,0A3,3 0 1,1 0,-3A3,3 0 0,1 3,0Z\" style=\"opacity: 1; stroke-width: 0px; fill: rgb(99, 110, 250); fill-opacity: 1;\"/><path class=\"point\" transform=\"translate(289.88,300.25)\" d=\"M3,0A3,3 0 1,1 0,-3A3,3 0 0,1 3,0Z\" style=\"opacity: 1; stroke-width: 0px; fill: rgb(99, 110, 250); fill-opacity: 1;\"/><path class=\"point\" transform=\"translate(290.56,300.25)\" d=\"M3,0A3,3 0 1,1 0,-3A3,3 0 0,1 3,0Z\" style=\"opacity: 1; stroke-width: 0px; fill: rgb(99, 110, 250); fill-opacity: 1;\"/><path class=\"point\" transform=\"translate(290.61,300.25)\" d=\"M3,0A3,3 0 1,1 0,-3A3,3 0 0,1 3,0Z\" style=\"opacity: 1; stroke-width: 0px; fill: rgb(99, 110, 250); fill-opacity: 1;\"/><path class=\"point\" transform=\"translate(293.78,300.25)\" d=\"M3,0A3,3 0 1,1 0,-3A3,3 0 0,1 3,0Z\" style=\"opacity: 1; stroke-width: 0px; fill: rgb(99, 110, 250); fill-opacity: 1;\"/><path class=\"point\" transform=\"translate(293.96,300.25)\" d=\"M3,0A3,3 0 1,1 0,-3A3,3 0 0,1 3,0Z\" style=\"opacity: 1; stroke-width: 0px; fill: rgb(99, 110, 250); fill-opacity: 1;\"/><path class=\"point\" transform=\"translate(294.25,300.25)\" d=\"M3,0A3,3 0 1,1 0,-3A3,3 0 0,1 3,0Z\" style=\"opacity: 1; stroke-width: 0px; fill: rgb(99, 110, 250); fill-opacity: 1;\"/><path class=\"point\" transform=\"translate(294.83,160)\" d=\"M3,0A3,3 0 1,1 0,-3A3,3 0 0,1 3,0Z\" style=\"opacity: 1; stroke-width: 0px; fill: rgb(99, 110, 250); fill-opacity: 1;\"/><path class=\"point\" transform=\"translate(295.27,300.25)\" d=\"M3,0A3,3 0 1,1 0,-3A3,3 0 0,1 3,0Z\" style=\"opacity: 1; stroke-width: 0px; fill: rgb(99, 110, 250); fill-opacity: 1;\"/><path class=\"point\" transform=\"translate(295.64,300.25)\" d=\"M3,0A3,3 0 1,1 0,-3A3,3 0 0,1 3,0Z\" style=\"opacity: 1; stroke-width: 0px; fill: rgb(99, 110, 250); fill-opacity: 1;\"/><path class=\"point\" transform=\"translate(296.12,300.25)\" d=\"M3,0A3,3 0 1,1 0,-3A3,3 0 0,1 3,0Z\" style=\"opacity: 1; stroke-width: 0px; fill: rgb(99, 110, 250); fill-opacity: 1;\"/><path class=\"point\" transform=\"translate(297.85,300.25)\" d=\"M3,0A3,3 0 1,1 0,-3A3,3 0 0,1 3,0Z\" style=\"opacity: 1; stroke-width: 0px; fill: rgb(99, 110, 250); fill-opacity: 1;\"/><path class=\"point\" transform=\"translate(298.02,300.25)\" d=\"M3,0A3,3 0 1,1 0,-3A3,3 0 0,1 3,0Z\" style=\"opacity: 1; stroke-width: 0px; fill: rgb(99, 110, 250); fill-opacity: 1;\"/><path class=\"point\" transform=\"translate(298.14,300.25)\" d=\"M3,0A3,3 0 1,1 0,-3A3,3 0 0,1 3,0Z\" style=\"opacity: 1; stroke-width: 0px; fill: rgb(99, 110, 250); fill-opacity: 1;\"/><path class=\"point\" transform=\"translate(298.14,300.25)\" d=\"M3,0A3,3 0 1,1 0,-3A3,3 0 0,1 3,0Z\" style=\"opacity: 1; stroke-width: 0px; fill: rgb(99, 110, 250); fill-opacity: 1;\"/><path class=\"point\" transform=\"translate(298.24,300.25)\" d=\"M3,0A3,3 0 1,1 0,-3A3,3 0 0,1 3,0Z\" style=\"opacity: 1; stroke-width: 0px; fill: rgb(99, 110, 250); fill-opacity: 1;\"/><path class=\"point\" transform=\"translate(298.33,160)\" d=\"M3,0A3,3 0 1,1 0,-3A3,3 0 0,1 3,0Z\" style=\"opacity: 1; stroke-width: 0px; fill: rgb(99, 110, 250); fill-opacity: 1;\"/><path class=\"point\" transform=\"translate(298.53,300.25)\" d=\"M3,0A3,3 0 1,1 0,-3A3,3 0 0,1 3,0Z\" style=\"opacity: 1; stroke-width: 0px; fill: rgb(99, 110, 250); fill-opacity: 1;\"/><path class=\"point\" transform=\"translate(299.35,300.25)\" d=\"M3,0A3,3 0 1,1 0,-3A3,3 0 0,1 3,0Z\" style=\"opacity: 1; stroke-width: 0px; fill: rgb(99, 110, 250); fill-opacity: 1;\"/><path class=\"point\" transform=\"translate(299.35,300.25)\" d=\"M3,0A3,3 0 1,1 0,-3A3,3 0 0,1 3,0Z\" style=\"opacity: 1; stroke-width: 0px; fill: rgb(99, 110, 250); fill-opacity: 1;\"/><path class=\"point\" transform=\"translate(299.95,300.25)\" d=\"M3,0A3,3 0 1,1 0,-3A3,3 0 0,1 3,0Z\" style=\"opacity: 1; stroke-width: 0px; fill: rgb(99, 110, 250); fill-opacity: 1;\"/><path class=\"point\" transform=\"translate(299.96,300.25)\" d=\"M3,0A3,3 0 1,1 0,-3A3,3 0 0,1 3,0Z\" style=\"opacity: 1; stroke-width: 0px; fill: rgb(99, 110, 250); fill-opacity: 1;\"/><path class=\"point\" transform=\"translate(300.04,300.25)\" d=\"M3,0A3,3 0 1,1 0,-3A3,3 0 0,1 3,0Z\" style=\"opacity: 1; stroke-width: 0px; fill: rgb(99, 110, 250); fill-opacity: 1;\"/><path class=\"point\" transform=\"translate(300.44,300.25)\" d=\"M3,0A3,3 0 1,1 0,-3A3,3 0 0,1 3,0Z\" style=\"opacity: 1; stroke-width: 0px; fill: rgb(99, 110, 250); fill-opacity: 1;\"/><path class=\"point\" transform=\"translate(300.95,300.25)\" d=\"M3,0A3,3 0 1,1 0,-3A3,3 0 0,1 3,0Z\" style=\"opacity: 1; stroke-width: 0px; fill: rgb(99, 110, 250); fill-opacity: 1;\"/><path class=\"point\" transform=\"translate(301.91,300.25)\" d=\"M3,0A3,3 0 1,1 0,-3A3,3 0 0,1 3,0Z\" style=\"opacity: 1; stroke-width: 0px; fill: rgb(99, 110, 250); fill-opacity: 1;\"/><path class=\"point\" transform=\"translate(302.02,300.25)\" d=\"M3,0A3,3 0 1,1 0,-3A3,3 0 0,1 3,0Z\" style=\"opacity: 1; stroke-width: 0px; fill: rgb(99, 110, 250); fill-opacity: 1;\"/><path class=\"point\" transform=\"translate(303.1,300.25)\" d=\"M3,0A3,3 0 1,1 0,-3A3,3 0 0,1 3,0Z\" style=\"opacity: 1; stroke-width: 0px; fill: rgb(99, 110, 250); fill-opacity: 1;\"/><path class=\"point\" transform=\"translate(303.67,300.25)\" d=\"M3,0A3,3 0 1,1 0,-3A3,3 0 0,1 3,0Z\" style=\"opacity: 1; stroke-width: 0px; fill: rgb(99, 110, 250); fill-opacity: 1;\"/><path class=\"point\" transform=\"translate(303.7,300.25)\" d=\"M3,0A3,3 0 1,1 0,-3A3,3 0 0,1 3,0Z\" style=\"opacity: 1; stroke-width: 0px; fill: rgb(99, 110, 250); fill-opacity: 1;\"/><path class=\"point\" transform=\"translate(304.46,300.25)\" d=\"M3,0A3,3 0 1,1 0,-3A3,3 0 0,1 3,0Z\" style=\"opacity: 1; stroke-width: 0px; fill: rgb(99, 110, 250); fill-opacity: 1;\"/><path class=\"point\" transform=\"translate(304.86,300.25)\" d=\"M3,0A3,3 0 1,1 0,-3A3,3 0 0,1 3,0Z\" style=\"opacity: 1; stroke-width: 0px; fill: rgb(99, 110, 250); fill-opacity: 1;\"/><path class=\"point\" transform=\"translate(305.47,300.25)\" d=\"M3,0A3,3 0 1,1 0,-3A3,3 0 0,1 3,0Z\" style=\"opacity: 1; stroke-width: 0px; fill: rgb(99, 110, 250); fill-opacity: 1;\"/><path class=\"point\" transform=\"translate(305.65,300.25)\" d=\"M3,0A3,3 0 1,1 0,-3A3,3 0 0,1 3,0Z\" style=\"opacity: 1; stroke-width: 0px; fill: rgb(99, 110, 250); fill-opacity: 1;\"/><path class=\"point\" transform=\"translate(306.12,300.25)\" d=\"M3,0A3,3 0 1,1 0,-3A3,3 0 0,1 3,0Z\" style=\"opacity: 1; stroke-width: 0px; fill: rgb(99, 110, 250); fill-opacity: 1;\"/><path class=\"point\" transform=\"translate(306.29,300.25)\" d=\"M3,0A3,3 0 1,1 0,-3A3,3 0 0,1 3,0Z\" style=\"opacity: 1; stroke-width: 0px; fill: rgb(99, 110, 250); fill-opacity: 1;\"/><path class=\"point\" transform=\"translate(307.08,300.25)\" d=\"M3,0A3,3 0 1,1 0,-3A3,3 0 0,1 3,0Z\" style=\"opacity: 1; stroke-width: 0px; fill: rgb(99, 110, 250); fill-opacity: 1;\"/><path class=\"point\" transform=\"translate(308.25,300.25)\" d=\"M3,0A3,3 0 1,1 0,-3A3,3 0 0,1 3,0Z\" style=\"opacity: 1; stroke-width: 0px; fill: rgb(99, 110, 250); fill-opacity: 1;\"/><path class=\"point\" transform=\"translate(308.44,300.25)\" d=\"M3,0A3,3 0 1,1 0,-3A3,3 0 0,1 3,0Z\" style=\"opacity: 1; stroke-width: 0px; fill: rgb(99, 110, 250); fill-opacity: 1;\"/><path class=\"point\" transform=\"translate(308.92,300.25)\" d=\"M3,0A3,3 0 1,1 0,-3A3,3 0 0,1 3,0Z\" style=\"opacity: 1; stroke-width: 0px; fill: rgb(99, 110, 250); fill-opacity: 1;\"/><path class=\"point\" transform=\"translate(310.55,300.25)\" d=\"M3,0A3,3 0 1,1 0,-3A3,3 0 0,1 3,0Z\" style=\"opacity: 1; stroke-width: 0px; fill: rgb(99, 110, 250); fill-opacity: 1;\"/><path class=\"point\" transform=\"translate(311.67,300.25)\" d=\"M3,0A3,3 0 1,1 0,-3A3,3 0 0,1 3,0Z\" style=\"opacity: 1; stroke-width: 0px; fill: rgb(99, 110, 250); fill-opacity: 1;\"/><path class=\"point\" transform=\"translate(311.74,300.25)\" d=\"M3,0A3,3 0 1,1 0,-3A3,3 0 0,1 3,0Z\" style=\"opacity: 1; stroke-width: 0px; fill: rgb(99, 110, 250); fill-opacity: 1;\"/><path class=\"point\" transform=\"translate(312.23,300.25)\" d=\"M3,0A3,3 0 1,1 0,-3A3,3 0 0,1 3,0Z\" style=\"opacity: 1; stroke-width: 0px; fill: rgb(99, 110, 250); fill-opacity: 1;\"/><path class=\"point\" transform=\"translate(312.48,300.25)\" d=\"M3,0A3,3 0 1,1 0,-3A3,3 0 0,1 3,0Z\" style=\"opacity: 1; stroke-width: 0px; fill: rgb(99, 110, 250); fill-opacity: 1;\"/><path class=\"point\" transform=\"translate(313.32,300.25)\" d=\"M3,0A3,3 0 1,1 0,-3A3,3 0 0,1 3,0Z\" style=\"opacity: 1; stroke-width: 0px; fill: rgb(99, 110, 250); fill-opacity: 1;\"/><path class=\"point\" transform=\"translate(313.81,300.25)\" d=\"M3,0A3,3 0 1,1 0,-3A3,3 0 0,1 3,0Z\" style=\"opacity: 1; stroke-width: 0px; fill: rgb(99, 110, 250); fill-opacity: 1;\"/><path class=\"point\" transform=\"translate(314.98,300.25)\" d=\"M3,0A3,3 0 1,1 0,-3A3,3 0 0,1 3,0Z\" style=\"opacity: 1; stroke-width: 0px; fill: rgb(99, 110, 250); fill-opacity: 1;\"/><path class=\"point\" transform=\"translate(315.64,300.25)\" d=\"M3,0A3,3 0 1,1 0,-3A3,3 0 0,1 3,0Z\" style=\"opacity: 1; stroke-width: 0px; fill: rgb(99, 110, 250); fill-opacity: 1;\"/><path class=\"point\" transform=\"translate(316.62,300.25)\" d=\"M3,0A3,3 0 1,1 0,-3A3,3 0 0,1 3,0Z\" style=\"opacity: 1; stroke-width: 0px; fill: rgb(99, 110, 250); fill-opacity: 1;\"/><path class=\"point\" transform=\"translate(317.63,300.25)\" d=\"M3,0A3,3 0 1,1 0,-3A3,3 0 0,1 3,0Z\" style=\"opacity: 1; stroke-width: 0px; fill: rgb(99, 110, 250); fill-opacity: 1;\"/><path class=\"point\" transform=\"translate(317.84,300.25)\" d=\"M3,0A3,3 0 1,1 0,-3A3,3 0 0,1 3,0Z\" style=\"opacity: 1; stroke-width: 0px; fill: rgb(99, 110, 250); fill-opacity: 1;\"/><path class=\"point\" transform=\"translate(317.86,300.25)\" d=\"M3,0A3,3 0 1,1 0,-3A3,3 0 0,1 3,0Z\" style=\"opacity: 1; stroke-width: 0px; fill: rgb(99, 110, 250); fill-opacity: 1;\"/><path class=\"point\" transform=\"translate(318.53,300.25)\" d=\"M3,0A3,3 0 1,1 0,-3A3,3 0 0,1 3,0Z\" style=\"opacity: 1; stroke-width: 0px; fill: rgb(99, 110, 250); fill-opacity: 1;\"/><path class=\"point\" transform=\"translate(318.74,300.25)\" d=\"M3,0A3,3 0 1,1 0,-3A3,3 0 0,1 3,0Z\" style=\"opacity: 1; stroke-width: 0px; fill: rgb(99, 110, 250); fill-opacity: 1;\"/><path class=\"point\" transform=\"translate(318.75,300.25)\" d=\"M3,0A3,3 0 1,1 0,-3A3,3 0 0,1 3,0Z\" style=\"opacity: 1; stroke-width: 0px; fill: rgb(99, 110, 250); fill-opacity: 1;\"/><path class=\"point\" transform=\"translate(319.01,300.25)\" d=\"M3,0A3,3 0 1,1 0,-3A3,3 0 0,1 3,0Z\" style=\"opacity: 1; stroke-width: 0px; fill: rgb(99, 110, 250); fill-opacity: 1;\"/><path class=\"point\" transform=\"translate(319.13,300.25)\" d=\"M3,0A3,3 0 1,1 0,-3A3,3 0 0,1 3,0Z\" style=\"opacity: 1; stroke-width: 0px; fill: rgb(99, 110, 250); fill-opacity: 1;\"/><path class=\"point\" transform=\"translate(319.55,300.25)\" d=\"M3,0A3,3 0 1,1 0,-3A3,3 0 0,1 3,0Z\" style=\"opacity: 1; stroke-width: 0px; fill: rgb(99, 110, 250); fill-opacity: 1;\"/><path class=\"point\" transform=\"translate(320.13,300.25)\" d=\"M3,0A3,3 0 1,1 0,-3A3,3 0 0,1 3,0Z\" style=\"opacity: 1; stroke-width: 0px; fill: rgb(99, 110, 250); fill-opacity: 1;\"/><path class=\"point\" transform=\"translate(321.39,300.25)\" d=\"M3,0A3,3 0 1,1 0,-3A3,3 0 0,1 3,0Z\" style=\"opacity: 1; stroke-width: 0px; fill: rgb(99, 110, 250); fill-opacity: 1;\"/><path class=\"point\" transform=\"translate(321.46,300.25)\" d=\"M3,0A3,3 0 1,1 0,-3A3,3 0 0,1 3,0Z\" style=\"opacity: 1; stroke-width: 0px; fill: rgb(99, 110, 250); fill-opacity: 1;\"/><path class=\"point\" transform=\"translate(321.59,300.25)\" d=\"M3,0A3,3 0 1,1 0,-3A3,3 0 0,1 3,0Z\" style=\"opacity: 1; stroke-width: 0px; fill: rgb(99, 110, 250); fill-opacity: 1;\"/><path class=\"point\" transform=\"translate(321.63,300.25)\" d=\"M3,0A3,3 0 1,1 0,-3A3,3 0 0,1 3,0Z\" style=\"opacity: 1; stroke-width: 0px; fill: rgb(99, 110, 250); fill-opacity: 1;\"/><path class=\"point\" transform=\"translate(321.71,300.25)\" d=\"M3,0A3,3 0 1,1 0,-3A3,3 0 0,1 3,0Z\" style=\"opacity: 1; stroke-width: 0px; fill: rgb(99, 110, 250); fill-opacity: 1;\"/><path class=\"point\" transform=\"translate(322.56,300.25)\" d=\"M3,0A3,3 0 1,1 0,-3A3,3 0 0,1 3,0Z\" style=\"opacity: 1; stroke-width: 0px; fill: rgb(99, 110, 250); fill-opacity: 1;\"/><path class=\"point\" transform=\"translate(322.93,300.25)\" d=\"M3,0A3,3 0 1,1 0,-3A3,3 0 0,1 3,0Z\" style=\"opacity: 1; stroke-width: 0px; fill: rgb(99, 110, 250); fill-opacity: 1;\"/><path class=\"point\" transform=\"translate(322.97,300.25)\" d=\"M3,0A3,3 0 1,1 0,-3A3,3 0 0,1 3,0Z\" style=\"opacity: 1; stroke-width: 0px; fill: rgb(99, 110, 250); fill-opacity: 1;\"/><path class=\"point\" transform=\"translate(323.88,300.25)\" d=\"M3,0A3,3 0 1,1 0,-3A3,3 0 0,1 3,0Z\" style=\"opacity: 1; stroke-width: 0px; fill: rgb(99, 110, 250); fill-opacity: 1;\"/><path class=\"point\" transform=\"translate(324.2,300.25)\" d=\"M3,0A3,3 0 1,1 0,-3A3,3 0 0,1 3,0Z\" style=\"opacity: 1; stroke-width: 0px; fill: rgb(99, 110, 250); fill-opacity: 1;\"/><path class=\"point\" transform=\"translate(324.64,300.25)\" d=\"M3,0A3,3 0 1,1 0,-3A3,3 0 0,1 3,0Z\" style=\"opacity: 1; stroke-width: 0px; fill: rgb(99, 110, 250); fill-opacity: 1;\"/><path class=\"point\" transform=\"translate(324.75,300.25)\" d=\"M3,0A3,3 0 1,1 0,-3A3,3 0 0,1 3,0Z\" style=\"opacity: 1; stroke-width: 0px; fill: rgb(99, 110, 250); fill-opacity: 1;\"/><path class=\"point\" transform=\"translate(325.13,300.25)\" d=\"M3,0A3,3 0 1,1 0,-3A3,3 0 0,1 3,0Z\" style=\"opacity: 1; stroke-width: 0px; fill: rgb(99, 110, 250); fill-opacity: 1;\"/><path class=\"point\" transform=\"translate(325.79,300.25)\" d=\"M3,0A3,3 0 1,1 0,-3A3,3 0 0,1 3,0Z\" style=\"opacity: 1; stroke-width: 0px; fill: rgb(99, 110, 250); fill-opacity: 1;\"/><path class=\"point\" transform=\"translate(326.56,300.25)\" d=\"M3,0A3,3 0 1,1 0,-3A3,3 0 0,1 3,0Z\" style=\"opacity: 1; stroke-width: 0px; fill: rgb(99, 110, 250); fill-opacity: 1;\"/><path class=\"point\" transform=\"translate(326.85,300.25)\" d=\"M3,0A3,3 0 1,1 0,-3A3,3 0 0,1 3,0Z\" style=\"opacity: 1; stroke-width: 0px; fill: rgb(99, 110, 250); fill-opacity: 1;\"/><path class=\"point\" transform=\"translate(327.79,300.25)\" d=\"M3,0A3,3 0 1,1 0,-3A3,3 0 0,1 3,0Z\" style=\"opacity: 1; stroke-width: 0px; fill: rgb(99, 110, 250); fill-opacity: 1;\"/><path class=\"point\" transform=\"translate(328,300.25)\" d=\"M3,0A3,3 0 1,1 0,-3A3,3 0 0,1 3,0Z\" style=\"opacity: 1; stroke-width: 0px; fill: rgb(99, 110, 250); fill-opacity: 1;\"/><path class=\"point\" transform=\"translate(328.02,300.25)\" d=\"M3,0A3,3 0 1,1 0,-3A3,3 0 0,1 3,0Z\" style=\"opacity: 1; stroke-width: 0px; fill: rgb(99, 110, 250); fill-opacity: 1;\"/><path class=\"point\" transform=\"translate(328.1,300.25)\" d=\"M3,0A3,3 0 1,1 0,-3A3,3 0 0,1 3,0Z\" style=\"opacity: 1; stroke-width: 0px; fill: rgb(99, 110, 250); fill-opacity: 1;\"/><path class=\"point\" transform=\"translate(328.33,300.25)\" d=\"M3,0A3,3 0 1,1 0,-3A3,3 0 0,1 3,0Z\" style=\"opacity: 1; stroke-width: 0px; fill: rgb(99, 110, 250); fill-opacity: 1;\"/><path class=\"point\" transform=\"translate(328.37,300.25)\" d=\"M3,0A3,3 0 1,1 0,-3A3,3 0 0,1 3,0Z\" style=\"opacity: 1; stroke-width: 0px; fill: rgb(99, 110, 250); fill-opacity: 1;\"/><path class=\"point\" transform=\"translate(328.6,300.25)\" d=\"M3,0A3,3 0 1,1 0,-3A3,3 0 0,1 3,0Z\" style=\"opacity: 1; stroke-width: 0px; fill: rgb(99, 110, 250); fill-opacity: 1;\"/><path class=\"point\" transform=\"translate(328.66,300.25)\" d=\"M3,0A3,3 0 1,1 0,-3A3,3 0 0,1 3,0Z\" style=\"opacity: 1; stroke-width: 0px; fill: rgb(99, 110, 250); fill-opacity: 1;\"/><path class=\"point\" transform=\"translate(331.61,300.25)\" d=\"M3,0A3,3 0 1,1 0,-3A3,3 0 0,1 3,0Z\" style=\"opacity: 1; stroke-width: 0px; fill: rgb(99, 110, 250); fill-opacity: 1;\"/><path class=\"point\" transform=\"translate(331.68,300.25)\" d=\"M3,0A3,3 0 1,1 0,-3A3,3 0 0,1 3,0Z\" style=\"opacity: 1; stroke-width: 0px; fill: rgb(99, 110, 250); fill-opacity: 1;\"/><path class=\"point\" transform=\"translate(331.74,300.25)\" d=\"M3,0A3,3 0 1,1 0,-3A3,3 0 0,1 3,0Z\" style=\"opacity: 1; stroke-width: 0px; fill: rgb(99, 110, 250); fill-opacity: 1;\"/><path class=\"point\" transform=\"translate(332.01,300.25)\" d=\"M3,0A3,3 0 1,1 0,-3A3,3 0 0,1 3,0Z\" style=\"opacity: 1; stroke-width: 0px; fill: rgb(99, 110, 250); fill-opacity: 1;\"/><path class=\"point\" transform=\"translate(332.12,300.25)\" d=\"M3,0A3,3 0 1,1 0,-3A3,3 0 0,1 3,0Z\" style=\"opacity: 1; stroke-width: 0px; fill: rgb(99, 110, 250); fill-opacity: 1;\"/><path class=\"point\" transform=\"translate(332.2,300.25)\" d=\"M3,0A3,3 0 1,1 0,-3A3,3 0 0,1 3,0Z\" style=\"opacity: 1; stroke-width: 0px; fill: rgb(99, 110, 250); fill-opacity: 1;\"/><path class=\"point\" transform=\"translate(332.48,300.25)\" d=\"M3,0A3,3 0 1,1 0,-3A3,3 0 0,1 3,0Z\" style=\"opacity: 1; stroke-width: 0px; fill: rgb(99, 110, 250); fill-opacity: 1;\"/><path class=\"point\" transform=\"translate(332.72,300.25)\" d=\"M3,0A3,3 0 1,1 0,-3A3,3 0 0,1 3,0Z\" style=\"opacity: 1; stroke-width: 0px; fill: rgb(99, 110, 250); fill-opacity: 1;\"/><path class=\"point\" transform=\"translate(332.84,160)\" d=\"M3,0A3,3 0 1,1 0,-3A3,3 0 0,1 3,0Z\" style=\"opacity: 1; stroke-width: 0px; fill: rgb(99, 110, 250); fill-opacity: 1;\"/><path class=\"point\" transform=\"translate(333.26,300.25)\" d=\"M3,0A3,3 0 1,1 0,-3A3,3 0 0,1 3,0Z\" style=\"opacity: 1; stroke-width: 0px; fill: rgb(99, 110, 250); fill-opacity: 1;\"/><path class=\"point\" transform=\"translate(333.29,300.25)\" d=\"M3,0A3,3 0 1,1 0,-3A3,3 0 0,1 3,0Z\" style=\"opacity: 1; stroke-width: 0px; fill: rgb(99, 110, 250); fill-opacity: 1;\"/><path class=\"point\" transform=\"translate(333.3,300.25)\" d=\"M3,0A3,3 0 1,1 0,-3A3,3 0 0,1 3,0Z\" style=\"opacity: 1; stroke-width: 0px; fill: rgb(99, 110, 250); fill-opacity: 1;\"/><path class=\"point\" transform=\"translate(335.83,160)\" d=\"M3,0A3,3 0 1,1 0,-3A3,3 0 0,1 3,0Z\" style=\"opacity: 1; stroke-width: 0px; fill: rgb(99, 110, 250); fill-opacity: 1;\"/><path class=\"point\" transform=\"translate(336.09,300.25)\" d=\"M3,0A3,3 0 1,1 0,-3A3,3 0 0,1 3,0Z\" style=\"opacity: 1; stroke-width: 0px; fill: rgb(99, 110, 250); fill-opacity: 1;\"/><path class=\"point\" transform=\"translate(336.23,300.25)\" d=\"M3,0A3,3 0 1,1 0,-3A3,3 0 0,1 3,0Z\" style=\"opacity: 1; stroke-width: 0px; fill: rgb(99, 110, 250); fill-opacity: 1;\"/><path class=\"point\" transform=\"translate(336.44,300.25)\" d=\"M3,0A3,3 0 1,1 0,-3A3,3 0 0,1 3,0Z\" style=\"opacity: 1; stroke-width: 0px; fill: rgb(99, 110, 250); fill-opacity: 1;\"/><path class=\"point\" transform=\"translate(336.88,19.75)\" d=\"M3,0A3,3 0 1,1 0,-3A3,3 0 0,1 3,0Z\" style=\"opacity: 1; stroke-width: 0px; fill: rgb(99, 110, 250); fill-opacity: 1;\"/><path class=\"point\" transform=\"translate(336.98,300.25)\" d=\"M3,0A3,3 0 1,1 0,-3A3,3 0 0,1 3,0Z\" style=\"opacity: 1; stroke-width: 0px; fill: rgb(99, 110, 250); fill-opacity: 1;\"/><path class=\"point\" transform=\"translate(337.05,160)\" d=\"M3,0A3,3 0 1,1 0,-3A3,3 0 0,1 3,0Z\" style=\"opacity: 1; stroke-width: 0px; fill: rgb(99, 110, 250); fill-opacity: 1;\"/><path class=\"point\" transform=\"translate(337.65,300.25)\" d=\"M3,0A3,3 0 1,1 0,-3A3,3 0 0,1 3,0Z\" style=\"opacity: 1; stroke-width: 0px; fill: rgb(99, 110, 250); fill-opacity: 1;\"/><path class=\"point\" transform=\"translate(338.68,300.25)\" d=\"M3,0A3,3 0 1,1 0,-3A3,3 0 0,1 3,0Z\" style=\"opacity: 1; stroke-width: 0px; fill: rgb(99, 110, 250); fill-opacity: 1;\"/><path class=\"point\" transform=\"translate(339.01,300.25)\" d=\"M3,0A3,3 0 1,1 0,-3A3,3 0 0,1 3,0Z\" style=\"opacity: 1; stroke-width: 0px; fill: rgb(99, 110, 250); fill-opacity: 1;\"/><path class=\"point\" transform=\"translate(339.17,300.25)\" d=\"M3,0A3,3 0 1,1 0,-3A3,3 0 0,1 3,0Z\" style=\"opacity: 1; stroke-width: 0px; fill: rgb(99, 110, 250); fill-opacity: 1;\"/><path class=\"point\" transform=\"translate(340.15,300.25)\" d=\"M3,0A3,3 0 1,1 0,-3A3,3 0 0,1 3,0Z\" style=\"opacity: 1; stroke-width: 0px; fill: rgb(99, 110, 250); fill-opacity: 1;\"/><path class=\"point\" transform=\"translate(340.19,300.25)\" d=\"M3,0A3,3 0 1,1 0,-3A3,3 0 0,1 3,0Z\" style=\"opacity: 1; stroke-width: 0px; fill: rgb(99, 110, 250); fill-opacity: 1;\"/><path class=\"point\" transform=\"translate(340.65,300.25)\" d=\"M3,0A3,3 0 1,1 0,-3A3,3 0 0,1 3,0Z\" style=\"opacity: 1; stroke-width: 0px; fill: rgb(99, 110, 250); fill-opacity: 1;\"/><path class=\"point\" transform=\"translate(341.63,300.25)\" d=\"M3,0A3,3 0 1,1 0,-3A3,3 0 0,1 3,0Z\" style=\"opacity: 1; stroke-width: 0px; fill: rgb(99, 110, 250); fill-opacity: 1;\"/><path class=\"point\" transform=\"translate(341.69,300.25)\" d=\"M3,0A3,3 0 1,1 0,-3A3,3 0 0,1 3,0Z\" style=\"opacity: 1; stroke-width: 0px; fill: rgb(99, 110, 250); fill-opacity: 1;\"/><path class=\"point\" transform=\"translate(343.49,300.25)\" d=\"M3,0A3,3 0 1,1 0,-3A3,3 0 0,1 3,0Z\" style=\"opacity: 1; stroke-width: 0px; fill: rgb(99, 110, 250); fill-opacity: 1;\"/><path class=\"point\" transform=\"translate(343.67,300.25)\" d=\"M3,0A3,3 0 1,1 0,-3A3,3 0 0,1 3,0Z\" style=\"opacity: 1; stroke-width: 0px; fill: rgb(99, 110, 250); fill-opacity: 1;\"/><path class=\"point\" transform=\"translate(343.88,300.25)\" d=\"M3,0A3,3 0 1,1 0,-3A3,3 0 0,1 3,0Z\" style=\"opacity: 1; stroke-width: 0px; fill: rgb(99, 110, 250); fill-opacity: 1;\"/><path class=\"point\" transform=\"translate(345.44,300.25)\" d=\"M3,0A3,3 0 1,1 0,-3A3,3 0 0,1 3,0Z\" style=\"opacity: 1; stroke-width: 0px; fill: rgb(99, 110, 250); fill-opacity: 1;\"/><path class=\"point\" transform=\"translate(345.47,300.25)\" d=\"M3,0A3,3 0 1,1 0,-3A3,3 0 0,1 3,0Z\" style=\"opacity: 1; stroke-width: 0px; fill: rgb(99, 110, 250); fill-opacity: 1;\"/><path class=\"point\" transform=\"translate(346.76,300.25)\" d=\"M3,0A3,3 0 1,1 0,-3A3,3 0 0,1 3,0Z\" style=\"opacity: 1; stroke-width: 0px; fill: rgb(99, 110, 250); fill-opacity: 1;\"/><path class=\"point\" transform=\"translate(347.55,300.25)\" d=\"M3,0A3,3 0 1,1 0,-3A3,3 0 0,1 3,0Z\" style=\"opacity: 1; stroke-width: 0px; fill: rgb(99, 110, 250); fill-opacity: 1;\"/><path class=\"point\" transform=\"translate(347.89,300.25)\" d=\"M3,0A3,3 0 1,1 0,-3A3,3 0 0,1 3,0Z\" style=\"opacity: 1; stroke-width: 0px; fill: rgb(99, 110, 250); fill-opacity: 1;\"/><path class=\"point\" transform=\"translate(348.43,300.25)\" d=\"M3,0A3,3 0 1,1 0,-3A3,3 0 0,1 3,0Z\" style=\"opacity: 1; stroke-width: 0px; fill: rgb(99, 110, 250); fill-opacity: 1;\"/><path class=\"point\" transform=\"translate(348.51,300.25)\" d=\"M3,0A3,3 0 1,1 0,-3A3,3 0 0,1 3,0Z\" style=\"opacity: 1; stroke-width: 0px; fill: rgb(99, 110, 250); fill-opacity: 1;\"/><path class=\"point\" transform=\"translate(348.87,300.25)\" d=\"M3,0A3,3 0 1,1 0,-3A3,3 0 0,1 3,0Z\" style=\"opacity: 1; stroke-width: 0px; fill: rgb(99, 110, 250); fill-opacity: 1;\"/><path class=\"point\" transform=\"translate(349.3,300.25)\" d=\"M3,0A3,3 0 1,1 0,-3A3,3 0 0,1 3,0Z\" style=\"opacity: 1; stroke-width: 0px; fill: rgb(99, 110, 250); fill-opacity: 1;\"/><path class=\"point\" transform=\"translate(351.01,300.25)\" d=\"M3,0A3,3 0 1,1 0,-3A3,3 0 0,1 3,0Z\" style=\"opacity: 1; stroke-width: 0px; fill: rgb(99, 110, 250); fill-opacity: 1;\"/><path class=\"point\" transform=\"translate(351.18,300.25)\" d=\"M3,0A3,3 0 1,1 0,-3A3,3 0 0,1 3,0Z\" style=\"opacity: 1; stroke-width: 0px; fill: rgb(99, 110, 250); fill-opacity: 1;\"/><path class=\"point\" transform=\"translate(351.3,300.25)\" d=\"M3,0A3,3 0 1,1 0,-3A3,3 0 0,1 3,0Z\" style=\"opacity: 1; stroke-width: 0px; fill: rgb(99, 110, 250); fill-opacity: 1;\"/><path class=\"point\" transform=\"translate(351.52,300.25)\" d=\"M3,0A3,3 0 1,1 0,-3A3,3 0 0,1 3,0Z\" style=\"opacity: 1; stroke-width: 0px; fill: rgb(99, 110, 250); fill-opacity: 1;\"/><path class=\"point\" transform=\"translate(351.69,300.25)\" d=\"M3,0A3,3 0 1,1 0,-3A3,3 0 0,1 3,0Z\" style=\"opacity: 1; stroke-width: 0px; fill: rgb(99, 110, 250); fill-opacity: 1;\"/><path class=\"point\" transform=\"translate(352.35,300.25)\" d=\"M3,0A3,3 0 1,1 0,-3A3,3 0 0,1 3,0Z\" style=\"opacity: 1; stroke-width: 0px; fill: rgb(99, 110, 250); fill-opacity: 1;\"/><path class=\"point\" transform=\"translate(352.58,300.25)\" d=\"M3,0A3,3 0 1,1 0,-3A3,3 0 0,1 3,0Z\" style=\"opacity: 1; stroke-width: 0px; fill: rgb(99, 110, 250); fill-opacity: 1;\"/><path class=\"point\" transform=\"translate(353.24,300.25)\" d=\"M3,0A3,3 0 1,1 0,-3A3,3 0 0,1 3,0Z\" style=\"opacity: 1; stroke-width: 0px; fill: rgb(99, 110, 250); fill-opacity: 1;\"/><path class=\"point\" transform=\"translate(353.62,160)\" d=\"M3,0A3,3 0 1,1 0,-3A3,3 0 0,1 3,0Z\" style=\"opacity: 1; stroke-width: 0px; fill: rgb(99, 110, 250); fill-opacity: 1;\"/><path class=\"point\" transform=\"translate(353.97,300.25)\" d=\"M3,0A3,3 0 1,1 0,-3A3,3 0 0,1 3,0Z\" style=\"opacity: 1; stroke-width: 0px; fill: rgb(99, 110, 250); fill-opacity: 1;\"/><path class=\"point\" transform=\"translate(354.58,300.25)\" d=\"M3,0A3,3 0 1,1 0,-3A3,3 0 0,1 3,0Z\" style=\"opacity: 1; stroke-width: 0px; fill: rgb(99, 110, 250); fill-opacity: 1;\"/><path class=\"point\" transform=\"translate(354.72,300.25)\" d=\"M3,0A3,3 0 1,1 0,-3A3,3 0 0,1 3,0Z\" style=\"opacity: 1; stroke-width: 0px; fill: rgb(99, 110, 250); fill-opacity: 1;\"/><path class=\"point\" transform=\"translate(354.92,300.25)\" d=\"M3,0A3,3 0 1,1 0,-3A3,3 0 0,1 3,0Z\" style=\"opacity: 1; stroke-width: 0px; fill: rgb(99, 110, 250); fill-opacity: 1;\"/><path class=\"point\" transform=\"translate(355.44,300.25)\" d=\"M3,0A3,3 0 1,1 0,-3A3,3 0 0,1 3,0Z\" style=\"opacity: 1; stroke-width: 0px; fill: rgb(99, 110, 250); fill-opacity: 1;\"/><path class=\"point\" transform=\"translate(355.89,300.25)\" d=\"M3,0A3,3 0 1,1 0,-3A3,3 0 0,1 3,0Z\" style=\"opacity: 1; stroke-width: 0px; fill: rgb(99, 110, 250); fill-opacity: 1;\"/><path class=\"point\" transform=\"translate(355.99,300.25)\" d=\"M3,0A3,3 0 1,1 0,-3A3,3 0 0,1 3,0Z\" style=\"opacity: 1; stroke-width: 0px; fill: rgb(99, 110, 250); fill-opacity: 1;\"/><path class=\"point\" transform=\"translate(356.08,300.25)\" d=\"M3,0A3,3 0 1,1 0,-3A3,3 0 0,1 3,0Z\" style=\"opacity: 1; stroke-width: 0px; fill: rgb(99, 110, 250); fill-opacity: 1;\"/><path class=\"point\" transform=\"translate(357.27,300.25)\" d=\"M3,0A3,3 0 1,1 0,-3A3,3 0 0,1 3,0Z\" style=\"opacity: 1; stroke-width: 0px; fill: rgb(99, 110, 250); fill-opacity: 1;\"/><path class=\"point\" transform=\"translate(357.66,300.25)\" d=\"M3,0A3,3 0 1,1 0,-3A3,3 0 0,1 3,0Z\" style=\"opacity: 1; stroke-width: 0px; fill: rgb(99, 110, 250); fill-opacity: 1;\"/><path class=\"point\" transform=\"translate(359.09,300.25)\" d=\"M3,0A3,3 0 1,1 0,-3A3,3 0 0,1 3,0Z\" style=\"opacity: 1; stroke-width: 0px; fill: rgb(99, 110, 250); fill-opacity: 1;\"/><path class=\"point\" transform=\"translate(359.43,300.25)\" d=\"M3,0A3,3 0 1,1 0,-3A3,3 0 0,1 3,0Z\" style=\"opacity: 1; stroke-width: 0px; fill: rgb(99, 110, 250); fill-opacity: 1;\"/><path class=\"point\" transform=\"translate(359.76,300.25)\" d=\"M3,0A3,3 0 1,1 0,-3A3,3 0 0,1 3,0Z\" style=\"opacity: 1; stroke-width: 0px; fill: rgb(99, 110, 250); fill-opacity: 1;\"/><path class=\"point\" transform=\"translate(360.27,300.25)\" d=\"M3,0A3,3 0 1,1 0,-3A3,3 0 0,1 3,0Z\" style=\"opacity: 1; stroke-width: 0px; fill: rgb(99, 110, 250); fill-opacity: 1;\"/><path class=\"point\" transform=\"translate(360.46,300.25)\" d=\"M3,0A3,3 0 1,1 0,-3A3,3 0 0,1 3,0Z\" style=\"opacity: 1; stroke-width: 0px; fill: rgb(99, 110, 250); fill-opacity: 1;\"/><path class=\"point\" transform=\"translate(362.15,300.25)\" d=\"M3,0A3,3 0 1,1 0,-3A3,3 0 0,1 3,0Z\" style=\"opacity: 1; stroke-width: 0px; fill: rgb(99, 110, 250); fill-opacity: 1;\"/><path class=\"point\" transform=\"translate(362.48,300.25)\" d=\"M3,0A3,3 0 1,1 0,-3A3,3 0 0,1 3,0Z\" style=\"opacity: 1; stroke-width: 0px; fill: rgb(99, 110, 250); fill-opacity: 1;\"/><path class=\"point\" transform=\"translate(362.67,300.25)\" d=\"M3,0A3,3 0 1,1 0,-3A3,3 0 0,1 3,0Z\" style=\"opacity: 1; stroke-width: 0px; fill: rgb(99, 110, 250); fill-opacity: 1;\"/><path class=\"point\" transform=\"translate(362.76,300.25)\" d=\"M3,0A3,3 0 1,1 0,-3A3,3 0 0,1 3,0Z\" style=\"opacity: 1; stroke-width: 0px; fill: rgb(99, 110, 250); fill-opacity: 1;\"/><path class=\"point\" transform=\"translate(363.29,300.25)\" d=\"M3,0A3,3 0 1,1 0,-3A3,3 0 0,1 3,0Z\" style=\"opacity: 1; stroke-width: 0px; fill: rgb(99, 110, 250); fill-opacity: 1;\"/><path class=\"point\" transform=\"translate(364.15,300.25)\" d=\"M3,0A3,3 0 1,1 0,-3A3,3 0 0,1 3,0Z\" style=\"opacity: 1; stroke-width: 0px; fill: rgb(99, 110, 250); fill-opacity: 1;\"/><path class=\"point\" transform=\"translate(364.32,300.25)\" d=\"M3,0A3,3 0 1,1 0,-3A3,3 0 0,1 3,0Z\" style=\"opacity: 1; stroke-width: 0px; fill: rgb(99, 110, 250); fill-opacity: 1;\"/><path class=\"point\" transform=\"translate(364.35,19.75)\" d=\"M3,0A3,3 0 1,1 0,-3A3,3 0 0,1 3,0Z\" style=\"opacity: 1; stroke-width: 0px; fill: rgb(99, 110, 250); fill-opacity: 1;\"/><path class=\"point\" transform=\"translate(364.97,300.25)\" d=\"M3,0A3,3 0 1,1 0,-3A3,3 0 0,1 3,0Z\" style=\"opacity: 1; stroke-width: 0px; fill: rgb(99, 110, 250); fill-opacity: 1;\"/><path class=\"point\" transform=\"translate(365.63,300.25)\" d=\"M3,0A3,3 0 1,1 0,-3A3,3 0 0,1 3,0Z\" style=\"opacity: 1; stroke-width: 0px; fill: rgb(99, 110, 250); fill-opacity: 1;\"/><path class=\"point\" transform=\"translate(365.65,300.25)\" d=\"M3,0A3,3 0 1,1 0,-3A3,3 0 0,1 3,0Z\" style=\"opacity: 1; stroke-width: 0px; fill: rgb(99, 110, 250); fill-opacity: 1;\"/><path class=\"point\" transform=\"translate(367.07,300.25)\" d=\"M3,0A3,3 0 1,1 0,-3A3,3 0 0,1 3,0Z\" style=\"opacity: 1; stroke-width: 0px; fill: rgb(99, 110, 250); fill-opacity: 1;\"/><path class=\"point\" transform=\"translate(367.16,300.25)\" d=\"M3,0A3,3 0 1,1 0,-3A3,3 0 0,1 3,0Z\" style=\"opacity: 1; stroke-width: 0px; fill: rgb(99, 110, 250); fill-opacity: 1;\"/><path class=\"point\" transform=\"translate(367.49,300.25)\" d=\"M3,0A3,3 0 1,1 0,-3A3,3 0 0,1 3,0Z\" style=\"opacity: 1; stroke-width: 0px; fill: rgb(99, 110, 250); fill-opacity: 1;\"/><path class=\"point\" transform=\"translate(367.62,300.25)\" d=\"M3,0A3,3 0 1,1 0,-3A3,3 0 0,1 3,0Z\" style=\"opacity: 1; stroke-width: 0px; fill: rgb(99, 110, 250); fill-opacity: 1;\"/><path class=\"point\" transform=\"translate(367.98,300.25)\" d=\"M3,0A3,3 0 1,1 0,-3A3,3 0 0,1 3,0Z\" style=\"opacity: 1; stroke-width: 0px; fill: rgb(99, 110, 250); fill-opacity: 1;\"/><path class=\"point\" transform=\"translate(368.47,300.25)\" d=\"M3,0A3,3 0 1,1 0,-3A3,3 0 0,1 3,0Z\" style=\"opacity: 1; stroke-width: 0px; fill: rgb(99, 110, 250); fill-opacity: 1;\"/><path class=\"point\" transform=\"translate(368.9,300.25)\" d=\"M3,0A3,3 0 1,1 0,-3A3,3 0 0,1 3,0Z\" style=\"opacity: 1; stroke-width: 0px; fill: rgb(99, 110, 250); fill-opacity: 1;\"/><path class=\"point\" transform=\"translate(369.47,300.25)\" d=\"M3,0A3,3 0 1,1 0,-3A3,3 0 0,1 3,0Z\" style=\"opacity: 1; stroke-width: 0px; fill: rgb(99, 110, 250); fill-opacity: 1;\"/><path class=\"point\" transform=\"translate(370.45,300.25)\" d=\"M3,0A3,3 0 1,1 0,-3A3,3 0 0,1 3,0Z\" style=\"opacity: 1; stroke-width: 0px; fill: rgb(99, 110, 250); fill-opacity: 1;\"/><path class=\"point\" transform=\"translate(370.49,300.25)\" d=\"M3,0A3,3 0 1,1 0,-3A3,3 0 0,1 3,0Z\" style=\"opacity: 1; stroke-width: 0px; fill: rgb(99, 110, 250); fill-opacity: 1;\"/><path class=\"point\" transform=\"translate(370.67,300.25)\" d=\"M3,0A3,3 0 1,1 0,-3A3,3 0 0,1 3,0Z\" style=\"opacity: 1; stroke-width: 0px; fill: rgb(99, 110, 250); fill-opacity: 1;\"/><path class=\"point\" transform=\"translate(371.82,300.25)\" d=\"M3,0A3,3 0 1,1 0,-3A3,3 0 0,1 3,0Z\" style=\"opacity: 1; stroke-width: 0px; fill: rgb(99, 110, 250); fill-opacity: 1;\"/><path class=\"point\" transform=\"translate(371.84,300.25)\" d=\"M3,0A3,3 0 1,1 0,-3A3,3 0 0,1 3,0Z\" style=\"opacity: 1; stroke-width: 0px; fill: rgb(99, 110, 250); fill-opacity: 1;\"/><path class=\"point\" transform=\"translate(372.61,300.25)\" d=\"M3,0A3,3 0 1,1 0,-3A3,3 0 0,1 3,0Z\" style=\"opacity: 1; stroke-width: 0px; fill: rgb(99, 110, 250); fill-opacity: 1;\"/><path class=\"point\" transform=\"translate(372.67,300.25)\" d=\"M3,0A3,3 0 1,1 0,-3A3,3 0 0,1 3,0Z\" style=\"opacity: 1; stroke-width: 0px; fill: rgb(99, 110, 250); fill-opacity: 1;\"/><path class=\"point\" transform=\"translate(373.77,300.25)\" d=\"M3,0A3,3 0 1,1 0,-3A3,3 0 0,1 3,0Z\" style=\"opacity: 1; stroke-width: 0px; fill: rgb(99, 110, 250); fill-opacity: 1;\"/><path class=\"point\" transform=\"translate(374.06,300.25)\" d=\"M3,0A3,3 0 1,1 0,-3A3,3 0 0,1 3,0Z\" style=\"opacity: 1; stroke-width: 0px; fill: rgb(99, 110, 250); fill-opacity: 1;\"/><path class=\"point\" transform=\"translate(374.14,300.25)\" d=\"M3,0A3,3 0 1,1 0,-3A3,3 0 0,1 3,0Z\" style=\"opacity: 1; stroke-width: 0px; fill: rgb(99, 110, 250); fill-opacity: 1;\"/><path class=\"point\" transform=\"translate(374.33,160)\" d=\"M3,0A3,3 0 1,1 0,-3A3,3 0 0,1 3,0Z\" style=\"opacity: 1; stroke-width: 0px; fill: rgb(99, 110, 250); fill-opacity: 1;\"/><path class=\"point\" transform=\"translate(374.34,300.25)\" d=\"M3,0A3,3 0 1,1 0,-3A3,3 0 0,1 3,0Z\" style=\"opacity: 1; stroke-width: 0px; fill: rgb(99, 110, 250); fill-opacity: 1;\"/><path class=\"point\" transform=\"translate(375.21,300.25)\" d=\"M3,0A3,3 0 1,1 0,-3A3,3 0 0,1 3,0Z\" style=\"opacity: 1; stroke-width: 0px; fill: rgb(99, 110, 250); fill-opacity: 1;\"/><path class=\"point\" transform=\"translate(375.38,300.25)\" d=\"M3,0A3,3 0 1,1 0,-3A3,3 0 0,1 3,0Z\" style=\"opacity: 1; stroke-width: 0px; fill: rgb(99, 110, 250); fill-opacity: 1;\"/><path class=\"point\" transform=\"translate(376.58,300.25)\" d=\"M3,0A3,3 0 1,1 0,-3A3,3 0 0,1 3,0Z\" style=\"opacity: 1; stroke-width: 0px; fill: rgb(99, 110, 250); fill-opacity: 1;\"/><path class=\"point\" transform=\"translate(377.07,300.25)\" d=\"M3,0A3,3 0 1,1 0,-3A3,3 0 0,1 3,0Z\" style=\"opacity: 1; stroke-width: 0px; fill: rgb(99, 110, 250); fill-opacity: 1;\"/><path class=\"point\" transform=\"translate(377.09,300.25)\" d=\"M3,0A3,3 0 1,1 0,-3A3,3 0 0,1 3,0Z\" style=\"opacity: 1; stroke-width: 0px; fill: rgb(99, 110, 250); fill-opacity: 1;\"/><path class=\"point\" transform=\"translate(377.27,300.25)\" d=\"M3,0A3,3 0 1,1 0,-3A3,3 0 0,1 3,0Z\" style=\"opacity: 1; stroke-width: 0px; fill: rgb(99, 110, 250); fill-opacity: 1;\"/><path class=\"point\" transform=\"translate(377.4,300.25)\" d=\"M3,0A3,3 0 1,1 0,-3A3,3 0 0,1 3,0Z\" style=\"opacity: 1; stroke-width: 0px; fill: rgb(99, 110, 250); fill-opacity: 1;\"/><path class=\"point\" transform=\"translate(378.21,300.25)\" d=\"M3,0A3,3 0 1,1 0,-3A3,3 0 0,1 3,0Z\" style=\"opacity: 1; stroke-width: 0px; fill: rgb(99, 110, 250); fill-opacity: 1;\"/><path class=\"point\" transform=\"translate(378.61,300.25)\" d=\"M3,0A3,3 0 1,1 0,-3A3,3 0 0,1 3,0Z\" style=\"opacity: 1; stroke-width: 0px; fill: rgb(99, 110, 250); fill-opacity: 1;\"/><path class=\"point\" transform=\"translate(378.66,300.25)\" d=\"M3,0A3,3 0 1,1 0,-3A3,3 0 0,1 3,0Z\" style=\"opacity: 1; stroke-width: 0px; fill: rgb(99, 110, 250); fill-opacity: 1;\"/><path class=\"point\" transform=\"translate(378.74,300.25)\" d=\"M3,0A3,3 0 1,1 0,-3A3,3 0 0,1 3,0Z\" style=\"opacity: 1; stroke-width: 0px; fill: rgb(99, 110, 250); fill-opacity: 1;\"/><path class=\"point\" transform=\"translate(378.77,300.25)\" d=\"M3,0A3,3 0 1,1 0,-3A3,3 0 0,1 3,0Z\" style=\"opacity: 1; stroke-width: 0px; fill: rgb(99, 110, 250); fill-opacity: 1;\"/><path class=\"point\" transform=\"translate(378.89,300.25)\" d=\"M3,0A3,3 0 1,1 0,-3A3,3 0 0,1 3,0Z\" style=\"opacity: 1; stroke-width: 0px; fill: rgb(99, 110, 250); fill-opacity: 1;\"/><path class=\"point\" transform=\"translate(378.93,300.25)\" d=\"M3,0A3,3 0 1,1 0,-3A3,3 0 0,1 3,0Z\" style=\"opacity: 1; stroke-width: 0px; fill: rgb(99, 110, 250); fill-opacity: 1;\"/><path class=\"point\" transform=\"translate(379.46,300.25)\" d=\"M3,0A3,3 0 1,1 0,-3A3,3 0 0,1 3,0Z\" style=\"opacity: 1; stroke-width: 0px; fill: rgb(99, 110, 250); fill-opacity: 1;\"/><path class=\"point\" transform=\"translate(379.96,300.25)\" d=\"M3,0A3,3 0 1,1 0,-3A3,3 0 0,1 3,0Z\" style=\"opacity: 1; stroke-width: 0px; fill: rgb(99, 110, 250); fill-opacity: 1;\"/><path class=\"point\" transform=\"translate(380.34,300.25)\" d=\"M3,0A3,3 0 1,1 0,-3A3,3 0 0,1 3,0Z\" style=\"opacity: 1; stroke-width: 0px; fill: rgb(99, 110, 250); fill-opacity: 1;\"/><path class=\"point\" transform=\"translate(380.6,300.25)\" d=\"M3,0A3,3 0 1,1 0,-3A3,3 0 0,1 3,0Z\" style=\"opacity: 1; stroke-width: 0px; fill: rgb(99, 110, 250); fill-opacity: 1;\"/><path class=\"point\" transform=\"translate(381.5,300.25)\" d=\"M3,0A3,3 0 1,1 0,-3A3,3 0 0,1 3,0Z\" style=\"opacity: 1; stroke-width: 0px; fill: rgb(99, 110, 250); fill-opacity: 1;\"/><path class=\"point\" transform=\"translate(382.07,300.25)\" d=\"M3,0A3,3 0 1,1 0,-3A3,3 0 0,1 3,0Z\" style=\"opacity: 1; stroke-width: 0px; fill: rgb(99, 110, 250); fill-opacity: 1;\"/><path class=\"point\" transform=\"translate(382.24,300.25)\" d=\"M3,0A3,3 0 1,1 0,-3A3,3 0 0,1 3,0Z\" style=\"opacity: 1; stroke-width: 0px; fill: rgb(99, 110, 250); fill-opacity: 1;\"/><path class=\"point\" transform=\"translate(382.36,300.25)\" d=\"M3,0A3,3 0 1,1 0,-3A3,3 0 0,1 3,0Z\" style=\"opacity: 1; stroke-width: 0px; fill: rgb(99, 110, 250); fill-opacity: 1;\"/><path class=\"point\" transform=\"translate(383.63,300.25)\" d=\"M3,0A3,3 0 1,1 0,-3A3,3 0 0,1 3,0Z\" style=\"opacity: 1; stroke-width: 0px; fill: rgb(99, 110, 250); fill-opacity: 1;\"/><path class=\"point\" transform=\"translate(383.66,300.25)\" d=\"M3,0A3,3 0 1,1 0,-3A3,3 0 0,1 3,0Z\" style=\"opacity: 1; stroke-width: 0px; fill: rgb(99, 110, 250); fill-opacity: 1;\"/><path class=\"point\" transform=\"translate(383.72,300.25)\" d=\"M3,0A3,3 0 1,1 0,-3A3,3 0 0,1 3,0Z\" style=\"opacity: 1; stroke-width: 0px; fill: rgb(99, 110, 250); fill-opacity: 1;\"/><path class=\"point\" transform=\"translate(384.26,300.25)\" d=\"M3,0A3,3 0 1,1 0,-3A3,3 0 0,1 3,0Z\" style=\"opacity: 1; stroke-width: 0px; fill: rgb(99, 110, 250); fill-opacity: 1;\"/><path class=\"point\" transform=\"translate(384.72,300.25)\" d=\"M3,0A3,3 0 1,1 0,-3A3,3 0 0,1 3,0Z\" style=\"opacity: 1; stroke-width: 0px; fill: rgb(99, 110, 250); fill-opacity: 1;\"/><path class=\"point\" transform=\"translate(384.77,300.25)\" d=\"M3,0A3,3 0 1,1 0,-3A3,3 0 0,1 3,0Z\" style=\"opacity: 1; stroke-width: 0px; fill: rgb(99, 110, 250); fill-opacity: 1;\"/><path class=\"point\" transform=\"translate(385.53,300.25)\" d=\"M3,0A3,3 0 1,1 0,-3A3,3 0 0,1 3,0Z\" style=\"opacity: 1; stroke-width: 0px; fill: rgb(99, 110, 250); fill-opacity: 1;\"/><path class=\"point\" transform=\"translate(385.56,300.25)\" d=\"M3,0A3,3 0 1,1 0,-3A3,3 0 0,1 3,0Z\" style=\"opacity: 1; stroke-width: 0px; fill: rgb(99, 110, 250); fill-opacity: 1;\"/><path class=\"point\" transform=\"translate(386.38,300.25)\" d=\"M3,0A3,3 0 1,1 0,-3A3,3 0 0,1 3,0Z\" style=\"opacity: 1; stroke-width: 0px; fill: rgb(99, 110, 250); fill-opacity: 1;\"/><path class=\"point\" transform=\"translate(386.65,300.25)\" d=\"M3,0A3,3 0 1,1 0,-3A3,3 0 0,1 3,0Z\" style=\"opacity: 1; stroke-width: 0px; fill: rgb(99, 110, 250); fill-opacity: 1;\"/><path class=\"point\" transform=\"translate(388,300.25)\" d=\"M3,0A3,3 0 1,1 0,-3A3,3 0 0,1 3,0Z\" style=\"opacity: 1; stroke-width: 0px; fill: rgb(99, 110, 250); fill-opacity: 1;\"/><path class=\"point\" transform=\"translate(388.9,300.25)\" d=\"M3,0A3,3 0 1,1 0,-3A3,3 0 0,1 3,0Z\" style=\"opacity: 1; stroke-width: 0px; fill: rgb(99, 110, 250); fill-opacity: 1;\"/><path class=\"point\" transform=\"translate(389.44,300.25)\" d=\"M3,0A3,3 0 1,1 0,-3A3,3 0 0,1 3,0Z\" style=\"opacity: 1; stroke-width: 0px; fill: rgb(99, 110, 250); fill-opacity: 1;\"/><path class=\"point\" transform=\"translate(389.52,300.25)\" d=\"M3,0A3,3 0 1,1 0,-3A3,3 0 0,1 3,0Z\" style=\"opacity: 1; stroke-width: 0px; fill: rgb(99, 110, 250); fill-opacity: 1;\"/><path class=\"point\" transform=\"translate(389.57,300.25)\" d=\"M3,0A3,3 0 1,1 0,-3A3,3 0 0,1 3,0Z\" style=\"opacity: 1; stroke-width: 0px; fill: rgb(99, 110, 250); fill-opacity: 1;\"/><path class=\"point\" transform=\"translate(390.15,300.25)\" d=\"M3,0A3,3 0 1,1 0,-3A3,3 0 0,1 3,0Z\" style=\"opacity: 1; stroke-width: 0px; fill: rgb(99, 110, 250); fill-opacity: 1;\"/><path class=\"point\" transform=\"translate(390.49,300.25)\" d=\"M3,0A3,3 0 1,1 0,-3A3,3 0 0,1 3,0Z\" style=\"opacity: 1; stroke-width: 0px; fill: rgb(99, 110, 250); fill-opacity: 1;\"/><path class=\"point\" transform=\"translate(391.33,300.25)\" d=\"M3,0A3,3 0 1,1 0,-3A3,3 0 0,1 3,0Z\" style=\"opacity: 1; stroke-width: 0px; fill: rgb(99, 110, 250); fill-opacity: 1;\"/><path class=\"point\" transform=\"translate(392.19,300.25)\" d=\"M3,0A3,3 0 1,1 0,-3A3,3 0 0,1 3,0Z\" style=\"opacity: 1; stroke-width: 0px; fill: rgb(99, 110, 250); fill-opacity: 1;\"/><path class=\"point\" transform=\"translate(392.42,300.25)\" d=\"M3,0A3,3 0 1,1 0,-3A3,3 0 0,1 3,0Z\" style=\"opacity: 1; stroke-width: 0px; fill: rgb(99, 110, 250); fill-opacity: 1;\"/><path class=\"point\" transform=\"translate(393.17,300.25)\" d=\"M3,0A3,3 0 1,1 0,-3A3,3 0 0,1 3,0Z\" style=\"opacity: 1; stroke-width: 0px; fill: rgb(99, 110, 250); fill-opacity: 1;\"/><path class=\"point\" transform=\"translate(393.75,300.25)\" d=\"M3,0A3,3 0 1,1 0,-3A3,3 0 0,1 3,0Z\" style=\"opacity: 1; stroke-width: 0px; fill: rgb(99, 110, 250); fill-opacity: 1;\"/><path class=\"point\" transform=\"translate(394.15,300.25)\" d=\"M3,0A3,3 0 1,1 0,-3A3,3 0 0,1 3,0Z\" style=\"opacity: 1; stroke-width: 0px; fill: rgb(99, 110, 250); fill-opacity: 1;\"/><path class=\"point\" transform=\"translate(394.2,300.25)\" d=\"M3,0A3,3 0 1,1 0,-3A3,3 0 0,1 3,0Z\" style=\"opacity: 1; stroke-width: 0px; fill: rgb(99, 110, 250); fill-opacity: 1;\"/><path class=\"point\" transform=\"translate(394.81,300.25)\" d=\"M3,0A3,3 0 1,1 0,-3A3,3 0 0,1 3,0Z\" style=\"opacity: 1; stroke-width: 0px; fill: rgb(99, 110, 250); fill-opacity: 1;\"/><path class=\"point\" transform=\"translate(394.86,300.25)\" d=\"M3,0A3,3 0 1,1 0,-3A3,3 0 0,1 3,0Z\" style=\"opacity: 1; stroke-width: 0px; fill: rgb(99, 110, 250); fill-opacity: 1;\"/><path class=\"point\" transform=\"translate(395.09,300.25)\" d=\"M3,0A3,3 0 1,1 0,-3A3,3 0 0,1 3,0Z\" style=\"opacity: 1; stroke-width: 0px; fill: rgb(99, 110, 250); fill-opacity: 1;\"/><path class=\"point\" transform=\"translate(395.31,300.25)\" d=\"M3,0A3,3 0 1,1 0,-3A3,3 0 0,1 3,0Z\" style=\"opacity: 1; stroke-width: 0px; fill: rgb(99, 110, 250); fill-opacity: 1;\"/><path class=\"point\" transform=\"translate(396.96,300.25)\" d=\"M3,0A3,3 0 1,1 0,-3A3,3 0 0,1 3,0Z\" style=\"opacity: 1; stroke-width: 0px; fill: rgb(99, 110, 250); fill-opacity: 1;\"/><path class=\"point\" transform=\"translate(397.15,300.25)\" d=\"M3,0A3,3 0 1,1 0,-3A3,3 0 0,1 3,0Z\" style=\"opacity: 1; stroke-width: 0px; fill: rgb(99, 110, 250); fill-opacity: 1;\"/><path class=\"point\" transform=\"translate(397.22,300.25)\" d=\"M3,0A3,3 0 1,1 0,-3A3,3 0 0,1 3,0Z\" style=\"opacity: 1; stroke-width: 0px; fill: rgb(99, 110, 250); fill-opacity: 1;\"/><path class=\"point\" transform=\"translate(397.39,300.25)\" d=\"M3,0A3,3 0 1,1 0,-3A3,3 0 0,1 3,0Z\" style=\"opacity: 1; stroke-width: 0px; fill: rgb(99, 110, 250); fill-opacity: 1;\"/><path class=\"point\" transform=\"translate(397.97,300.25)\" d=\"M3,0A3,3 0 1,1 0,-3A3,3 0 0,1 3,0Z\" style=\"opacity: 1; stroke-width: 0px; fill: rgb(99, 110, 250); fill-opacity: 1;\"/><path class=\"point\" transform=\"translate(398.01,300.25)\" d=\"M3,0A3,3 0 1,1 0,-3A3,3 0 0,1 3,0Z\" style=\"opacity: 1; stroke-width: 0px; fill: rgb(99, 110, 250); fill-opacity: 1;\"/><path class=\"point\" transform=\"translate(398.14,300.25)\" d=\"M3,0A3,3 0 1,1 0,-3A3,3 0 0,1 3,0Z\" style=\"opacity: 1; stroke-width: 0px; fill: rgb(99, 110, 250); fill-opacity: 1;\"/><path class=\"point\" transform=\"translate(398.6,300.25)\" d=\"M3,0A3,3 0 1,1 0,-3A3,3 0 0,1 3,0Z\" style=\"opacity: 1; stroke-width: 0px; fill: rgb(99, 110, 250); fill-opacity: 1;\"/><path class=\"point\" transform=\"translate(398.65,300.25)\" d=\"M3,0A3,3 0 1,1 0,-3A3,3 0 0,1 3,0Z\" style=\"opacity: 1; stroke-width: 0px; fill: rgb(99, 110, 250); fill-opacity: 1;\"/><path class=\"point\" transform=\"translate(398.67,300.25)\" d=\"M3,0A3,3 0 1,1 0,-3A3,3 0 0,1 3,0Z\" style=\"opacity: 1; stroke-width: 0px; fill: rgb(99, 110, 250); fill-opacity: 1;\"/><path class=\"point\" transform=\"translate(399.44,300.25)\" d=\"M3,0A3,3 0 1,1 0,-3A3,3 0 0,1 3,0Z\" style=\"opacity: 1; stroke-width: 0px; fill: rgb(99, 110, 250); fill-opacity: 1;\"/><path class=\"point\" transform=\"translate(399.73,300.25)\" d=\"M3,0A3,3 0 1,1 0,-3A3,3 0 0,1 3,0Z\" style=\"opacity: 1; stroke-width: 0px; fill: rgb(99, 110, 250); fill-opacity: 1;\"/><path class=\"point\" transform=\"translate(400.27,300.25)\" d=\"M3,0A3,3 0 1,1 0,-3A3,3 0 0,1 3,0Z\" style=\"opacity: 1; stroke-width: 0px; fill: rgb(99, 110, 250); fill-opacity: 1;\"/><path class=\"point\" transform=\"translate(400.35,300.25)\" d=\"M3,0A3,3 0 1,1 0,-3A3,3 0 0,1 3,0Z\" style=\"opacity: 1; stroke-width: 0px; fill: rgb(99, 110, 250); fill-opacity: 1;\"/><path class=\"point\" transform=\"translate(400.59,300.25)\" d=\"M3,0A3,3 0 1,1 0,-3A3,3 0 0,1 3,0Z\" style=\"opacity: 1; stroke-width: 0px; fill: rgb(99, 110, 250); fill-opacity: 1;\"/><path class=\"point\" transform=\"translate(401.42,300.25)\" d=\"M3,0A3,3 0 1,1 0,-3A3,3 0 0,1 3,0Z\" style=\"opacity: 1; stroke-width: 0px; fill: rgb(99, 110, 250); fill-opacity: 1;\"/><path class=\"point\" transform=\"translate(401.47,300.25)\" d=\"M3,0A3,3 0 1,1 0,-3A3,3 0 0,1 3,0Z\" style=\"opacity: 1; stroke-width: 0px; fill: rgb(99, 110, 250); fill-opacity: 1;\"/><path class=\"point\" transform=\"translate(401.57,300.25)\" d=\"M3,0A3,3 0 1,1 0,-3A3,3 0 0,1 3,0Z\" style=\"opacity: 1; stroke-width: 0px; fill: rgb(99, 110, 250); fill-opacity: 1;\"/><path class=\"point\" transform=\"translate(401.81,300.25)\" d=\"M3,0A3,3 0 1,1 0,-3A3,3 0 0,1 3,0Z\" style=\"opacity: 1; stroke-width: 0px; fill: rgb(99, 110, 250); fill-opacity: 1;\"/><path class=\"point\" transform=\"translate(402.81,160)\" d=\"M3,0A3,3 0 1,1 0,-3A3,3 0 0,1 3,0Z\" style=\"opacity: 1; stroke-width: 0px; fill: rgb(99, 110, 250); fill-opacity: 1;\"/><path class=\"point\" transform=\"translate(403.74,300.25)\" d=\"M3,0A3,3 0 1,1 0,-3A3,3 0 0,1 3,0Z\" style=\"opacity: 1; stroke-width: 0px; fill: rgb(99, 110, 250); fill-opacity: 1;\"/><path class=\"point\" transform=\"translate(403.94,300.25)\" d=\"M3,0A3,3 0 1,1 0,-3A3,3 0 0,1 3,0Z\" style=\"opacity: 1; stroke-width: 0px; fill: rgb(99, 110, 250); fill-opacity: 1;\"/><path class=\"point\" transform=\"translate(405.17,300.25)\" d=\"M3,0A3,3 0 1,1 0,-3A3,3 0 0,1 3,0Z\" style=\"opacity: 1; stroke-width: 0px; fill: rgb(99, 110, 250); fill-opacity: 1;\"/><path class=\"point\" transform=\"translate(405.64,300.25)\" d=\"M3,0A3,3 0 1,1 0,-3A3,3 0 0,1 3,0Z\" style=\"opacity: 1; stroke-width: 0px; fill: rgb(99, 110, 250); fill-opacity: 1;\"/><path class=\"point\" transform=\"translate(405.88,300.25)\" d=\"M3,0A3,3 0 1,1 0,-3A3,3 0 0,1 3,0Z\" style=\"opacity: 1; stroke-width: 0px; fill: rgb(99, 110, 250); fill-opacity: 1;\"/><path class=\"point\" transform=\"translate(405.9,300.25)\" d=\"M3,0A3,3 0 1,1 0,-3A3,3 0 0,1 3,0Z\" style=\"opacity: 1; stroke-width: 0px; fill: rgb(99, 110, 250); fill-opacity: 1;\"/><path class=\"point\" transform=\"translate(406.16,160)\" d=\"M3,0A3,3 0 1,1 0,-3A3,3 0 0,1 3,0Z\" style=\"opacity: 1; stroke-width: 0px; fill: rgb(99, 110, 250); fill-opacity: 1;\"/><path class=\"point\" transform=\"translate(406.77,300.25)\" d=\"M3,0A3,3 0 1,1 0,-3A3,3 0 0,1 3,0Z\" style=\"opacity: 1; stroke-width: 0px; fill: rgb(99, 110, 250); fill-opacity: 1;\"/><path class=\"point\" transform=\"translate(407.19,300.25)\" d=\"M3,0A3,3 0 1,1 0,-3A3,3 0 0,1 3,0Z\" style=\"opacity: 1; stroke-width: 0px; fill: rgb(99, 110, 250); fill-opacity: 1;\"/><path class=\"point\" transform=\"translate(407.22,300.25)\" d=\"M3,0A3,3 0 1,1 0,-3A3,3 0 0,1 3,0Z\" style=\"opacity: 1; stroke-width: 0px; fill: rgb(99, 110, 250); fill-opacity: 1;\"/><path class=\"point\" transform=\"translate(407.29,300.25)\" d=\"M3,0A3,3 0 1,1 0,-3A3,3 0 0,1 3,0Z\" style=\"opacity: 1; stroke-width: 0px; fill: rgb(99, 110, 250); fill-opacity: 1;\"/><path class=\"point\" transform=\"translate(408.09,160)\" d=\"M3,0A3,3 0 1,1 0,-3A3,3 0 0,1 3,0Z\" style=\"opacity: 1; stroke-width: 0px; fill: rgb(99, 110, 250); fill-opacity: 1;\"/><path class=\"point\" transform=\"translate(408.16,300.25)\" d=\"M3,0A3,3 0 1,1 0,-3A3,3 0 0,1 3,0Z\" style=\"opacity: 1; stroke-width: 0px; fill: rgb(99, 110, 250); fill-opacity: 1;\"/><path class=\"point\" transform=\"translate(408.89,300.25)\" d=\"M3,0A3,3 0 1,1 0,-3A3,3 0 0,1 3,0Z\" style=\"opacity: 1; stroke-width: 0px; fill: rgb(99, 110, 250); fill-opacity: 1;\"/><path class=\"point\" transform=\"translate(409.5,300.25)\" d=\"M3,0A3,3 0 1,1 0,-3A3,3 0 0,1 3,0Z\" style=\"opacity: 1; stroke-width: 0px; fill: rgb(99, 110, 250); fill-opacity: 1;\"/><path class=\"point\" transform=\"translate(410.01,300.25)\" d=\"M3,0A3,3 0 1,1 0,-3A3,3 0 0,1 3,0Z\" style=\"opacity: 1; stroke-width: 0px; fill: rgb(99, 110, 250); fill-opacity: 1;\"/><path class=\"point\" transform=\"translate(411.48,300.25)\" d=\"M3,0A3,3 0 1,1 0,-3A3,3 0 0,1 3,0Z\" style=\"opacity: 1; stroke-width: 0px; fill: rgb(99, 110, 250); fill-opacity: 1;\"/><path class=\"point\" transform=\"translate(412.56,300.25)\" d=\"M3,0A3,3 0 1,1 0,-3A3,3 0 0,1 3,0Z\" style=\"opacity: 1; stroke-width: 0px; fill: rgb(99, 110, 250); fill-opacity: 1;\"/><path class=\"point\" transform=\"translate(413.08,300.25)\" d=\"M3,0A3,3 0 1,1 0,-3A3,3 0 0,1 3,0Z\" style=\"opacity: 1; stroke-width: 0px; fill: rgb(99, 110, 250); fill-opacity: 1;\"/><path class=\"point\" transform=\"translate(413.47,300.25)\" d=\"M3,0A3,3 0 1,1 0,-3A3,3 0 0,1 3,0Z\" style=\"opacity: 1; stroke-width: 0px; fill: rgb(99, 110, 250); fill-opacity: 1;\"/><path class=\"point\" transform=\"translate(413.67,300.25)\" d=\"M3,0A3,3 0 1,1 0,-3A3,3 0 0,1 3,0Z\" style=\"opacity: 1; stroke-width: 0px; fill: rgb(99, 110, 250); fill-opacity: 1;\"/><path class=\"point\" transform=\"translate(413.81,300.25)\" d=\"M3,0A3,3 0 1,1 0,-3A3,3 0 0,1 3,0Z\" style=\"opacity: 1; stroke-width: 0px; fill: rgb(99, 110, 250); fill-opacity: 1;\"/><path class=\"point\" transform=\"translate(416.13,300.25)\" d=\"M3,0A3,3 0 1,1 0,-3A3,3 0 0,1 3,0Z\" style=\"opacity: 1; stroke-width: 0px; fill: rgb(99, 110, 250); fill-opacity: 1;\"/><path class=\"point\" transform=\"translate(416.59,300.25)\" d=\"M3,0A3,3 0 1,1 0,-3A3,3 0 0,1 3,0Z\" style=\"opacity: 1; stroke-width: 0px; fill: rgb(99, 110, 250); fill-opacity: 1;\"/><path class=\"point\" transform=\"translate(417.39,300.25)\" d=\"M3,0A3,3 0 1,1 0,-3A3,3 0 0,1 3,0Z\" style=\"opacity: 1; stroke-width: 0px; fill: rgb(99, 110, 250); fill-opacity: 1;\"/><path class=\"point\" transform=\"translate(417.49,300.25)\" d=\"M3,0A3,3 0 1,1 0,-3A3,3 0 0,1 3,0Z\" style=\"opacity: 1; stroke-width: 0px; fill: rgb(99, 110, 250); fill-opacity: 1;\"/><path class=\"point\" transform=\"translate(418.19,160)\" d=\"M3,0A3,3 0 1,1 0,-3A3,3 0 0,1 3,0Z\" style=\"opacity: 1; stroke-width: 0px; fill: rgb(99, 110, 250); fill-opacity: 1;\"/><path class=\"point\" transform=\"translate(419,300.25)\" d=\"M3,0A3,3 0 1,1 0,-3A3,3 0 0,1 3,0Z\" style=\"opacity: 1; stroke-width: 0px; fill: rgb(99, 110, 250); fill-opacity: 1;\"/><path class=\"point\" transform=\"translate(421.56,300.25)\" d=\"M3,0A3,3 0 1,1 0,-3A3,3 0 0,1 3,0Z\" style=\"opacity: 1; stroke-width: 0px; fill: rgb(99, 110, 250); fill-opacity: 1;\"/><path class=\"point\" transform=\"translate(422.11,300.25)\" d=\"M3,0A3,3 0 1,1 0,-3A3,3 0 0,1 3,0Z\" style=\"opacity: 1; stroke-width: 0px; fill: rgb(99, 110, 250); fill-opacity: 1;\"/><path class=\"point\" transform=\"translate(422.49,300.25)\" d=\"M3,0A3,3 0 1,1 0,-3A3,3 0 0,1 3,0Z\" style=\"opacity: 1; stroke-width: 0px; fill: rgb(99, 110, 250); fill-opacity: 1;\"/><path class=\"point\" transform=\"translate(422.87,300.25)\" d=\"M3,0A3,3 0 1,1 0,-3A3,3 0 0,1 3,0Z\" style=\"opacity: 1; stroke-width: 0px; fill: rgb(99, 110, 250); fill-opacity: 1;\"/><path class=\"point\" transform=\"translate(422.89,300.25)\" d=\"M3,0A3,3 0 1,1 0,-3A3,3 0 0,1 3,0Z\" style=\"opacity: 1; stroke-width: 0px; fill: rgb(99, 110, 250); fill-opacity: 1;\"/><path class=\"point\" transform=\"translate(424.31,300.25)\" d=\"M3,0A3,3 0 1,1 0,-3A3,3 0 0,1 3,0Z\" style=\"opacity: 1; stroke-width: 0px; fill: rgb(99, 110, 250); fill-opacity: 1;\"/><path class=\"point\" transform=\"translate(424.72,300.25)\" d=\"M3,0A3,3 0 1,1 0,-3A3,3 0 0,1 3,0Z\" style=\"opacity: 1; stroke-width: 0px; fill: rgb(99, 110, 250); fill-opacity: 1;\"/><path class=\"point\" transform=\"translate(426.14,300.25)\" d=\"M3,0A3,3 0 1,1 0,-3A3,3 0 0,1 3,0Z\" style=\"opacity: 1; stroke-width: 0px; fill: rgb(99, 110, 250); fill-opacity: 1;\"/><path class=\"point\" transform=\"translate(427.42,300.25)\" d=\"M3,0A3,3 0 1,1 0,-3A3,3 0 0,1 3,0Z\" style=\"opacity: 1; stroke-width: 0px; fill: rgb(99, 110, 250); fill-opacity: 1;\"/><path class=\"point\" transform=\"translate(429.73,300.25)\" d=\"M3,0A3,3 0 1,1 0,-3A3,3 0 0,1 3,0Z\" style=\"opacity: 1; stroke-width: 0px; fill: rgb(99, 110, 250); fill-opacity: 1;\"/><path class=\"point\" transform=\"translate(429.77,300.25)\" d=\"M3,0A3,3 0 1,1 0,-3A3,3 0 0,1 3,0Z\" style=\"opacity: 1; stroke-width: 0px; fill: rgb(99, 110, 250); fill-opacity: 1;\"/><path class=\"point\" transform=\"translate(430.2,300.25)\" d=\"M3,0A3,3 0 1,1 0,-3A3,3 0 0,1 3,0Z\" style=\"opacity: 1; stroke-width: 0px; fill: rgb(99, 110, 250); fill-opacity: 1;\"/><path class=\"point\" transform=\"translate(430.28,300.25)\" d=\"M3,0A3,3 0 1,1 0,-3A3,3 0 0,1 3,0Z\" style=\"opacity: 1; stroke-width: 0px; fill: rgb(99, 110, 250); fill-opacity: 1;\"/><path class=\"point\" transform=\"translate(431.08,300.25)\" d=\"M3,0A3,3 0 1,1 0,-3A3,3 0 0,1 3,0Z\" style=\"opacity: 1; stroke-width: 0px; fill: rgb(99, 110, 250); fill-opacity: 1;\"/><path class=\"point\" transform=\"translate(431.4,300.25)\" d=\"M3,0A3,3 0 1,1 0,-3A3,3 0 0,1 3,0Z\" style=\"opacity: 1; stroke-width: 0px; fill: rgb(99, 110, 250); fill-opacity: 1;\"/><path class=\"point\" transform=\"translate(431.73,300.25)\" d=\"M3,0A3,3 0 1,1 0,-3A3,3 0 0,1 3,0Z\" style=\"opacity: 1; stroke-width: 0px; fill: rgb(99, 110, 250); fill-opacity: 1;\"/><path class=\"point\" transform=\"translate(431.78,300.25)\" d=\"M3,0A3,3 0 1,1 0,-3A3,3 0 0,1 3,0Z\" style=\"opacity: 1; stroke-width: 0px; fill: rgb(99, 110, 250); fill-opacity: 1;\"/><path class=\"point\" transform=\"translate(432.21,300.25)\" d=\"M3,0A3,3 0 1,1 0,-3A3,3 0 0,1 3,0Z\" style=\"opacity: 1; stroke-width: 0px; fill: rgb(99, 110, 250); fill-opacity: 1;\"/><path class=\"point\" transform=\"translate(432.61,300.25)\" d=\"M3,0A3,3 0 1,1 0,-3A3,3 0 0,1 3,0Z\" style=\"opacity: 1; stroke-width: 0px; fill: rgb(99, 110, 250); fill-opacity: 1;\"/><path class=\"point\" transform=\"translate(432.82,300.25)\" d=\"M3,0A3,3 0 1,1 0,-3A3,3 0 0,1 3,0Z\" style=\"opacity: 1; stroke-width: 0px; fill: rgb(99, 110, 250); fill-opacity: 1;\"/><path class=\"point\" transform=\"translate(433.63,300.25)\" d=\"M3,0A3,3 0 1,1 0,-3A3,3 0 0,1 3,0Z\" style=\"opacity: 1; stroke-width: 0px; fill: rgb(99, 110, 250); fill-opacity: 1;\"/><path class=\"point\" transform=\"translate(434.2,300.25)\" d=\"M3,0A3,3 0 1,1 0,-3A3,3 0 0,1 3,0Z\" style=\"opacity: 1; stroke-width: 0px; fill: rgb(99, 110, 250); fill-opacity: 1;\"/><path class=\"point\" transform=\"translate(434.33,300.25)\" d=\"M3,0A3,3 0 1,1 0,-3A3,3 0 0,1 3,0Z\" style=\"opacity: 1; stroke-width: 0px; fill: rgb(99, 110, 250); fill-opacity: 1;\"/><path class=\"point\" transform=\"translate(434.63,300.25)\" d=\"M3,0A3,3 0 1,1 0,-3A3,3 0 0,1 3,0Z\" style=\"opacity: 1; stroke-width: 0px; fill: rgb(99, 110, 250); fill-opacity: 1;\"/><path class=\"point\" transform=\"translate(435.29,300.25)\" d=\"M3,0A3,3 0 1,1 0,-3A3,3 0 0,1 3,0Z\" style=\"opacity: 1; stroke-width: 0px; fill: rgb(99, 110, 250); fill-opacity: 1;\"/><path class=\"point\" transform=\"translate(435.94,300.25)\" d=\"M3,0A3,3 0 1,1 0,-3A3,3 0 0,1 3,0Z\" style=\"opacity: 1; stroke-width: 0px; fill: rgb(99, 110, 250); fill-opacity: 1;\"/><path class=\"point\" transform=\"translate(436.87,300.25)\" d=\"M3,0A3,3 0 1,1 0,-3A3,3 0 0,1 3,0Z\" style=\"opacity: 1; stroke-width: 0px; fill: rgb(99, 110, 250); fill-opacity: 1;\"/><path class=\"point\" transform=\"translate(436.87,300.25)\" d=\"M3,0A3,3 0 1,1 0,-3A3,3 0 0,1 3,0Z\" style=\"opacity: 1; stroke-width: 0px; fill: rgb(99, 110, 250); fill-opacity: 1;\"/><path class=\"point\" transform=\"translate(436.91,300.25)\" d=\"M3,0A3,3 0 1,1 0,-3A3,3 0 0,1 3,0Z\" style=\"opacity: 1; stroke-width: 0px; fill: rgb(99, 110, 250); fill-opacity: 1;\"/><path class=\"point\" transform=\"translate(437.25,300.25)\" d=\"M3,0A3,3 0 1,1 0,-3A3,3 0 0,1 3,0Z\" style=\"opacity: 1; stroke-width: 0px; fill: rgb(99, 110, 250); fill-opacity: 1;\"/><path class=\"point\" transform=\"translate(437.56,300.25)\" d=\"M3,0A3,3 0 1,1 0,-3A3,3 0 0,1 3,0Z\" style=\"opacity: 1; stroke-width: 0px; fill: rgb(99, 110, 250); fill-opacity: 1;\"/><path class=\"point\" transform=\"translate(438.08,300.25)\" d=\"M3,0A3,3 0 1,1 0,-3A3,3 0 0,1 3,0Z\" style=\"opacity: 1; stroke-width: 0px; fill: rgb(99, 110, 250); fill-opacity: 1;\"/><path class=\"point\" transform=\"translate(438.13,300.25)\" d=\"M3,0A3,3 0 1,1 0,-3A3,3 0 0,1 3,0Z\" style=\"opacity: 1; stroke-width: 0px; fill: rgb(99, 110, 250); fill-opacity: 1;\"/><path class=\"point\" transform=\"translate(439.4,300.25)\" d=\"M3,0A3,3 0 1,1 0,-3A3,3 0 0,1 3,0Z\" style=\"opacity: 1; stroke-width: 0px; fill: rgb(99, 110, 250); fill-opacity: 1;\"/><path class=\"point\" transform=\"translate(439.49,300.25)\" d=\"M3,0A3,3 0 1,1 0,-3A3,3 0 0,1 3,0Z\" style=\"opacity: 1; stroke-width: 0px; fill: rgb(99, 110, 250); fill-opacity: 1;\"/><path class=\"point\" transform=\"translate(439.51,300.25)\" d=\"M3,0A3,3 0 1,1 0,-3A3,3 0 0,1 3,0Z\" style=\"opacity: 1; stroke-width: 0px; fill: rgb(99, 110, 250); fill-opacity: 1;\"/><path class=\"point\" transform=\"translate(439.64,300.25)\" d=\"M3,0A3,3 0 1,1 0,-3A3,3 0 0,1 3,0Z\" style=\"opacity: 1; stroke-width: 0px; fill: rgb(99, 110, 250); fill-opacity: 1;\"/><path class=\"point\" transform=\"translate(439.84,300.25)\" d=\"M3,0A3,3 0 1,1 0,-3A3,3 0 0,1 3,0Z\" style=\"opacity: 1; stroke-width: 0px; fill: rgb(99, 110, 250); fill-opacity: 1;\"/><path class=\"point\" transform=\"translate(440.96,300.25)\" d=\"M3,0A3,3 0 1,1 0,-3A3,3 0 0,1 3,0Z\" style=\"opacity: 1; stroke-width: 0px; fill: rgb(99, 110, 250); fill-opacity: 1;\"/><path class=\"point\" transform=\"translate(442.42,300.25)\" d=\"M3,0A3,3 0 1,1 0,-3A3,3 0 0,1 3,0Z\" style=\"opacity: 1; stroke-width: 0px; fill: rgb(99, 110, 250); fill-opacity: 1;\"/><path class=\"point\" transform=\"translate(443.22,300.25)\" d=\"M3,0A3,3 0 1,1 0,-3A3,3 0 0,1 3,0Z\" style=\"opacity: 1; stroke-width: 0px; fill: rgb(99, 110, 250); fill-opacity: 1;\"/><path class=\"point\" transform=\"translate(443.32,300.25)\" d=\"M3,0A3,3 0 1,1 0,-3A3,3 0 0,1 3,0Z\" style=\"opacity: 1; stroke-width: 0px; fill: rgb(99, 110, 250); fill-opacity: 1;\"/><path class=\"point\" transform=\"translate(444.42,300.25)\" d=\"M3,0A3,3 0 1,1 0,-3A3,3 0 0,1 3,0Z\" style=\"opacity: 1; stroke-width: 0px; fill: rgb(99, 110, 250); fill-opacity: 1;\"/><path class=\"point\" transform=\"translate(444.48,300.25)\" d=\"M3,0A3,3 0 1,1 0,-3A3,3 0 0,1 3,0Z\" style=\"opacity: 1; stroke-width: 0px; fill: rgb(99, 110, 250); fill-opacity: 1;\"/><path class=\"point\" transform=\"translate(445.42,300.25)\" d=\"M3,0A3,3 0 1,1 0,-3A3,3 0 0,1 3,0Z\" style=\"opacity: 1; stroke-width: 0px; fill: rgb(99, 110, 250); fill-opacity: 1;\"/><path class=\"point\" transform=\"translate(446.18,300.25)\" d=\"M3,0A3,3 0 1,1 0,-3A3,3 0 0,1 3,0Z\" style=\"opacity: 1; stroke-width: 0px; fill: rgb(99, 110, 250); fill-opacity: 1;\"/><path class=\"point\" transform=\"translate(446.26,300.25)\" d=\"M3,0A3,3 0 1,1 0,-3A3,3 0 0,1 3,0Z\" style=\"opacity: 1; stroke-width: 0px; fill: rgb(99, 110, 250); fill-opacity: 1;\"/><path class=\"point\" transform=\"translate(446.49,300.25)\" d=\"M3,0A3,3 0 1,1 0,-3A3,3 0 0,1 3,0Z\" style=\"opacity: 1; stroke-width: 0px; fill: rgb(99, 110, 250); fill-opacity: 1;\"/><path class=\"point\" transform=\"translate(446.52,300.25)\" d=\"M3,0A3,3 0 1,1 0,-3A3,3 0 0,1 3,0Z\" style=\"opacity: 1; stroke-width: 0px; fill: rgb(99, 110, 250); fill-opacity: 1;\"/><path class=\"point\" transform=\"translate(446.72,300.25)\" d=\"M3,0A3,3 0 1,1 0,-3A3,3 0 0,1 3,0Z\" style=\"opacity: 1; stroke-width: 0px; fill: rgb(99, 110, 250); fill-opacity: 1;\"/><path class=\"point\" transform=\"translate(447.73,300.25)\" d=\"M3,0A3,3 0 1,1 0,-3A3,3 0 0,1 3,0Z\" style=\"opacity: 1; stroke-width: 0px; fill: rgb(99, 110, 250); fill-opacity: 1;\"/><path class=\"point\" transform=\"translate(447.93,300.25)\" d=\"M3,0A3,3 0 1,1 0,-3A3,3 0 0,1 3,0Z\" style=\"opacity: 1; stroke-width: 0px; fill: rgb(99, 110, 250); fill-opacity: 1;\"/><path class=\"point\" transform=\"translate(447.99,300.25)\" d=\"M3,0A3,3 0 1,1 0,-3A3,3 0 0,1 3,0Z\" style=\"opacity: 1; stroke-width: 0px; fill: rgb(99, 110, 250); fill-opacity: 1;\"/><path class=\"point\" transform=\"translate(448.04,300.25)\" d=\"M3,0A3,3 0 1,1 0,-3A3,3 0 0,1 3,0Z\" style=\"opacity: 1; stroke-width: 0px; fill: rgb(99, 110, 250); fill-opacity: 1;\"/><path class=\"point\" transform=\"translate(448.6,300.25)\" d=\"M3,0A3,3 0 1,1 0,-3A3,3 0 0,1 3,0Z\" style=\"opacity: 1; stroke-width: 0px; fill: rgb(99, 110, 250); fill-opacity: 1;\"/><path class=\"point\" transform=\"translate(449.81,300.25)\" d=\"M3,0A3,3 0 1,1 0,-3A3,3 0 0,1 3,0Z\" style=\"opacity: 1; stroke-width: 0px; fill: rgb(99, 110, 250); fill-opacity: 1;\"/><path class=\"point\" transform=\"translate(451.83,300.25)\" d=\"M3,0A3,3 0 1,1 0,-3A3,3 0 0,1 3,0Z\" style=\"opacity: 1; stroke-width: 0px; fill: rgb(99, 110, 250); fill-opacity: 1;\"/><path class=\"point\" transform=\"translate(452.7,300.25)\" d=\"M3,0A3,3 0 1,1 0,-3A3,3 0 0,1 3,0Z\" style=\"opacity: 1; stroke-width: 0px; fill: rgb(99, 110, 250); fill-opacity: 1;\"/><path class=\"point\" transform=\"translate(453.52,300.25)\" d=\"M3,0A3,3 0 1,1 0,-3A3,3 0 0,1 3,0Z\" style=\"opacity: 1; stroke-width: 0px; fill: rgb(99, 110, 250); fill-opacity: 1;\"/><path class=\"point\" transform=\"translate(453.88,300.25)\" d=\"M3,0A3,3 0 1,1 0,-3A3,3 0 0,1 3,0Z\" style=\"opacity: 1; stroke-width: 0px; fill: rgb(99, 110, 250); fill-opacity: 1;\"/><path class=\"point\" transform=\"translate(454.23,300.25)\" d=\"M3,0A3,3 0 1,1 0,-3A3,3 0 0,1 3,0Z\" style=\"opacity: 1; stroke-width: 0px; fill: rgb(99, 110, 250); fill-opacity: 1;\"/><path class=\"point\" transform=\"translate(454.35,300.25)\" d=\"M3,0A3,3 0 1,1 0,-3A3,3 0 0,1 3,0Z\" style=\"opacity: 1; stroke-width: 0px; fill: rgb(99, 110, 250); fill-opacity: 1;\"/><path class=\"point\" transform=\"translate(454.76,300.25)\" d=\"M3,0A3,3 0 1,1 0,-3A3,3 0 0,1 3,0Z\" style=\"opacity: 1; stroke-width: 0px; fill: rgb(99, 110, 250); fill-opacity: 1;\"/><path class=\"point\" transform=\"translate(456.53,300.25)\" d=\"M3,0A3,3 0 1,1 0,-3A3,3 0 0,1 3,0Z\" style=\"opacity: 1; stroke-width: 0px; fill: rgb(99, 110, 250); fill-opacity: 1;\"/><path class=\"point\" transform=\"translate(456.84,300.25)\" d=\"M3,0A3,3 0 1,1 0,-3A3,3 0 0,1 3,0Z\" style=\"opacity: 1; stroke-width: 0px; fill: rgb(99, 110, 250); fill-opacity: 1;\"/><path class=\"point\" transform=\"translate(457.29,300.25)\" d=\"M3,0A3,3 0 1,1 0,-3A3,3 0 0,1 3,0Z\" style=\"opacity: 1; stroke-width: 0px; fill: rgb(99, 110, 250); fill-opacity: 1;\"/><path class=\"point\" transform=\"translate(458.14,300.25)\" d=\"M3,0A3,3 0 1,1 0,-3A3,3 0 0,1 3,0Z\" style=\"opacity: 1; stroke-width: 0px; fill: rgb(99, 110, 250); fill-opacity: 1;\"/><path class=\"point\" transform=\"translate(459.26,300.25)\" d=\"M3,0A3,3 0 1,1 0,-3A3,3 0 0,1 3,0Z\" style=\"opacity: 1; stroke-width: 0px; fill: rgb(99, 110, 250); fill-opacity: 1;\"/><path class=\"point\" transform=\"translate(461.6,300.25)\" d=\"M3,0A3,3 0 1,1 0,-3A3,3 0 0,1 3,0Z\" style=\"opacity: 1; stroke-width: 0px; fill: rgb(99, 110, 250); fill-opacity: 1;\"/><path class=\"point\" transform=\"translate(461.61,300.25)\" d=\"M3,0A3,3 0 1,1 0,-3A3,3 0 0,1 3,0Z\" style=\"opacity: 1; stroke-width: 0px; fill: rgb(99, 110, 250); fill-opacity: 1;\"/><path class=\"point\" transform=\"translate(461.92,300.25)\" d=\"M3,0A3,3 0 1,1 0,-3A3,3 0 0,1 3,0Z\" style=\"opacity: 1; stroke-width: 0px; fill: rgb(99, 110, 250); fill-opacity: 1;\"/><path class=\"point\" transform=\"translate(462.53,300.25)\" d=\"M3,0A3,3 0 1,1 0,-3A3,3 0 0,1 3,0Z\" style=\"opacity: 1; stroke-width: 0px; fill: rgb(99, 110, 250); fill-opacity: 1;\"/><path class=\"point\" transform=\"translate(463,300.25)\" d=\"M3,0A3,3 0 1,1 0,-3A3,3 0 0,1 3,0Z\" style=\"opacity: 1; stroke-width: 0px; fill: rgb(99, 110, 250); fill-opacity: 1;\"/><path class=\"point\" transform=\"translate(463.4,300.25)\" d=\"M3,0A3,3 0 1,1 0,-3A3,3 0 0,1 3,0Z\" style=\"opacity: 1; stroke-width: 0px; fill: rgb(99, 110, 250); fill-opacity: 1;\"/><path class=\"point\" transform=\"translate(463.42,300.25)\" d=\"M3,0A3,3 0 1,1 0,-3A3,3 0 0,1 3,0Z\" style=\"opacity: 1; stroke-width: 0px; fill: rgb(99, 110, 250); fill-opacity: 1;\"/><path class=\"point\" transform=\"translate(463.76,300.25)\" d=\"M3,0A3,3 0 1,1 0,-3A3,3 0 0,1 3,0Z\" style=\"opacity: 1; stroke-width: 0px; fill: rgb(99, 110, 250); fill-opacity: 1;\"/><path class=\"point\" transform=\"translate(465.36,300.25)\" d=\"M3,0A3,3 0 1,1 0,-3A3,3 0 0,1 3,0Z\" style=\"opacity: 1; stroke-width: 0px; fill: rgb(99, 110, 250); fill-opacity: 1;\"/><path class=\"point\" transform=\"translate(465.61,300.25)\" d=\"M3,0A3,3 0 1,1 0,-3A3,3 0 0,1 3,0Z\" style=\"opacity: 1; stroke-width: 0px; fill: rgb(99, 110, 250); fill-opacity: 1;\"/><path class=\"point\" transform=\"translate(465.96,300.25)\" d=\"M3,0A3,3 0 1,1 0,-3A3,3 0 0,1 3,0Z\" style=\"opacity: 1; stroke-width: 0px; fill: rgb(99, 110, 250); fill-opacity: 1;\"/><path class=\"point\" transform=\"translate(467.04,300.25)\" d=\"M3,0A3,3 0 1,1 0,-3A3,3 0 0,1 3,0Z\" style=\"opacity: 1; stroke-width: 0px; fill: rgb(99, 110, 250); fill-opacity: 1;\"/><path class=\"point\" transform=\"translate(467.12,300.25)\" d=\"M3,0A3,3 0 1,1 0,-3A3,3 0 0,1 3,0Z\" style=\"opacity: 1; stroke-width: 0px; fill: rgb(99, 110, 250); fill-opacity: 1;\"/><path class=\"point\" transform=\"translate(467.26,19.75)\" d=\"M3,0A3,3 0 1,1 0,-3A3,3 0 0,1 3,0Z\" style=\"opacity: 1; stroke-width: 0px; fill: rgb(99, 110, 250); fill-opacity: 1;\"/><path class=\"point\" transform=\"translate(467.36,300.25)\" d=\"M3,0A3,3 0 1,1 0,-3A3,3 0 0,1 3,0Z\" style=\"opacity: 1; stroke-width: 0px; fill: rgb(99, 110, 250); fill-opacity: 1;\"/><path class=\"point\" transform=\"translate(467.52,300.25)\" d=\"M3,0A3,3 0 1,1 0,-3A3,3 0 0,1 3,0Z\" style=\"opacity: 1; stroke-width: 0px; fill: rgb(99, 110, 250); fill-opacity: 1;\"/><path class=\"point\" transform=\"translate(468.31,300.25)\" d=\"M3,0A3,3 0 1,1 0,-3A3,3 0 0,1 3,0Z\" style=\"opacity: 1; stroke-width: 0px; fill: rgb(99, 110, 250); fill-opacity: 1;\"/><path class=\"point\" transform=\"translate(469.38,300.25)\" d=\"M3,0A3,3 0 1,1 0,-3A3,3 0 0,1 3,0Z\" style=\"opacity: 1; stroke-width: 0px; fill: rgb(99, 110, 250); fill-opacity: 1;\"/><path class=\"point\" transform=\"translate(469.56,300.25)\" d=\"M3,0A3,3 0 1,1 0,-3A3,3 0 0,1 3,0Z\" style=\"opacity: 1; stroke-width: 0px; fill: rgb(99, 110, 250); fill-opacity: 1;\"/><path class=\"point\" transform=\"translate(469.9,300.25)\" d=\"M3,0A3,3 0 1,1 0,-3A3,3 0 0,1 3,0Z\" style=\"opacity: 1; stroke-width: 0px; fill: rgb(99, 110, 250); fill-opacity: 1;\"/><path class=\"point\" transform=\"translate(470.34,160)\" d=\"M3,0A3,3 0 1,1 0,-3A3,3 0 0,1 3,0Z\" style=\"opacity: 1; stroke-width: 0px; fill: rgb(99, 110, 250); fill-opacity: 1;\"/><path class=\"point\" transform=\"translate(470.52,300.25)\" d=\"M3,0A3,3 0 1,1 0,-3A3,3 0 0,1 3,0Z\" style=\"opacity: 1; stroke-width: 0px; fill: rgb(99, 110, 250); fill-opacity: 1;\"/><path class=\"point\" transform=\"translate(470.57,300.25)\" d=\"M3,0A3,3 0 1,1 0,-3A3,3 0 0,1 3,0Z\" style=\"opacity: 1; stroke-width: 0px; fill: rgb(99, 110, 250); fill-opacity: 1;\"/><path class=\"point\" transform=\"translate(470.89,300.25)\" d=\"M3,0A3,3 0 1,1 0,-3A3,3 0 0,1 3,0Z\" style=\"opacity: 1; stroke-width: 0px; fill: rgb(99, 110, 250); fill-opacity: 1;\"/><path class=\"point\" transform=\"translate(470.96,160)\" d=\"M3,0A3,3 0 1,1 0,-3A3,3 0 0,1 3,0Z\" style=\"opacity: 1; stroke-width: 0px; fill: rgb(99, 110, 250); fill-opacity: 1;\"/><path class=\"point\" transform=\"translate(470.97,300.25)\" d=\"M3,0A3,3 0 1,1 0,-3A3,3 0 0,1 3,0Z\" style=\"opacity: 1; stroke-width: 0px; fill: rgb(99, 110, 250); fill-opacity: 1;\"/><path class=\"point\" transform=\"translate(471.11,300.25)\" d=\"M3,0A3,3 0 1,1 0,-3A3,3 0 0,1 3,0Z\" style=\"opacity: 1; stroke-width: 0px; fill: rgb(99, 110, 250); fill-opacity: 1;\"/><path class=\"point\" transform=\"translate(471.97,300.25)\" d=\"M3,0A3,3 0 1,1 0,-3A3,3 0 0,1 3,0Z\" style=\"opacity: 1; stroke-width: 0px; fill: rgb(99, 110, 250); fill-opacity: 1;\"/><path class=\"point\" transform=\"translate(472,300.25)\" d=\"M3,0A3,3 0 1,1 0,-3A3,3 0 0,1 3,0Z\" style=\"opacity: 1; stroke-width: 0px; fill: rgb(99, 110, 250); fill-opacity: 1;\"/><path class=\"point\" transform=\"translate(472.36,300.25)\" d=\"M3,0A3,3 0 1,1 0,-3A3,3 0 0,1 3,0Z\" style=\"opacity: 1; stroke-width: 0px; fill: rgb(99, 110, 250); fill-opacity: 1;\"/><path class=\"point\" transform=\"translate(472.68,300.25)\" d=\"M3,0A3,3 0 1,1 0,-3A3,3 0 0,1 3,0Z\" style=\"opacity: 1; stroke-width: 0px; fill: rgb(99, 110, 250); fill-opacity: 1;\"/><path class=\"point\" transform=\"translate(473.89,19.75)\" d=\"M3,0A3,3 0 1,1 0,-3A3,3 0 0,1 3,0Z\" style=\"opacity: 1; stroke-width: 0px; fill: rgb(99, 110, 250); fill-opacity: 1;\"/><path class=\"point\" transform=\"translate(474.98,300.25)\" d=\"M3,0A3,3 0 1,1 0,-3A3,3 0 0,1 3,0Z\" style=\"opacity: 1; stroke-width: 0px; fill: rgb(99, 110, 250); fill-opacity: 1;\"/><path class=\"point\" transform=\"translate(475.16,300.25)\" d=\"M3,0A3,3 0 1,1 0,-3A3,3 0 0,1 3,0Z\" style=\"opacity: 1; stroke-width: 0px; fill: rgb(99, 110, 250); fill-opacity: 1;\"/><path class=\"point\" transform=\"translate(475.92,300.25)\" d=\"M3,0A3,3 0 1,1 0,-3A3,3 0 0,1 3,0Z\" style=\"opacity: 1; stroke-width: 0px; fill: rgb(99, 110, 250); fill-opacity: 1;\"/><path class=\"point\" transform=\"translate(476.73,300.25)\" d=\"M3,0A3,3 0 1,1 0,-3A3,3 0 0,1 3,0Z\" style=\"opacity: 1; stroke-width: 0px; fill: rgb(99, 110, 250); fill-opacity: 1;\"/><path class=\"point\" transform=\"translate(476.88,300.25)\" d=\"M3,0A3,3 0 1,1 0,-3A3,3 0 0,1 3,0Z\" style=\"opacity: 1; stroke-width: 0px; fill: rgb(99, 110, 250); fill-opacity: 1;\"/><path class=\"point\" transform=\"translate(477.77,300.25)\" d=\"M3,0A3,3 0 1,1 0,-3A3,3 0 0,1 3,0Z\" style=\"opacity: 1; stroke-width: 0px; fill: rgb(99, 110, 250); fill-opacity: 1;\"/><path class=\"point\" transform=\"translate(477.91,300.25)\" d=\"M3,0A3,3 0 1,1 0,-3A3,3 0 0,1 3,0Z\" style=\"opacity: 1; stroke-width: 0px; fill: rgb(99, 110, 250); fill-opacity: 1;\"/><path class=\"point\" transform=\"translate(478.2,300.25)\" d=\"M3,0A3,3 0 1,1 0,-3A3,3 0 0,1 3,0Z\" style=\"opacity: 1; stroke-width: 0px; fill: rgb(99, 110, 250); fill-opacity: 1;\"/><path class=\"point\" transform=\"translate(478.51,300.25)\" d=\"M3,0A3,3 0 1,1 0,-3A3,3 0 0,1 3,0Z\" style=\"opacity: 1; stroke-width: 0px; fill: rgb(99, 110, 250); fill-opacity: 1;\"/><path class=\"point\" transform=\"translate(478.94,300.25)\" d=\"M3,0A3,3 0 1,1 0,-3A3,3 0 0,1 3,0Z\" style=\"opacity: 1; stroke-width: 0px; fill: rgb(99, 110, 250); fill-opacity: 1;\"/><path class=\"point\" transform=\"translate(479.09,300.25)\" d=\"M3,0A3,3 0 1,1 0,-3A3,3 0 0,1 3,0Z\" style=\"opacity: 1; stroke-width: 0px; fill: rgb(99, 110, 250); fill-opacity: 1;\"/><path class=\"point\" transform=\"translate(479.41,300.25)\" d=\"M3,0A3,3 0 1,1 0,-3A3,3 0 0,1 3,0Z\" style=\"opacity: 1; stroke-width: 0px; fill: rgb(99, 110, 250); fill-opacity: 1;\"/><path class=\"point\" transform=\"translate(479.61,300.25)\" d=\"M3,0A3,3 0 1,1 0,-3A3,3 0 0,1 3,0Z\" style=\"opacity: 1; stroke-width: 0px; fill: rgb(99, 110, 250); fill-opacity: 1;\"/><path class=\"point\" transform=\"translate(480.57,300.25)\" d=\"M3,0A3,3 0 1,1 0,-3A3,3 0 0,1 3,0Z\" style=\"opacity: 1; stroke-width: 0px; fill: rgb(99, 110, 250); fill-opacity: 1;\"/><path class=\"point\" transform=\"translate(480.59,300.25)\" d=\"M3,0A3,3 0 1,1 0,-3A3,3 0 0,1 3,0Z\" style=\"opacity: 1; stroke-width: 0px; fill: rgb(99, 110, 250); fill-opacity: 1;\"/><path class=\"point\" transform=\"translate(481.25,300.25)\" d=\"M3,0A3,3 0 1,1 0,-3A3,3 0 0,1 3,0Z\" style=\"opacity: 1; stroke-width: 0px; fill: rgb(99, 110, 250); fill-opacity: 1;\"/><path class=\"point\" transform=\"translate(481.65,300.25)\" d=\"M3,0A3,3 0 1,1 0,-3A3,3 0 0,1 3,0Z\" style=\"opacity: 1; stroke-width: 0px; fill: rgb(99, 110, 250); fill-opacity: 1;\"/><path class=\"point\" transform=\"translate(481.66,300.25)\" d=\"M3,0A3,3 0 1,1 0,-3A3,3 0 0,1 3,0Z\" style=\"opacity: 1; stroke-width: 0px; fill: rgb(99, 110, 250); fill-opacity: 1;\"/><path class=\"point\" transform=\"translate(481.77,300.25)\" d=\"M3,0A3,3 0 1,1 0,-3A3,3 0 0,1 3,0Z\" style=\"opacity: 1; stroke-width: 0px; fill: rgb(99, 110, 250); fill-opacity: 1;\"/><path class=\"point\" transform=\"translate(481.85,300.25)\" d=\"M3,0A3,3 0 1,1 0,-3A3,3 0 0,1 3,0Z\" style=\"opacity: 1; stroke-width: 0px; fill: rgb(99, 110, 250); fill-opacity: 1;\"/><path class=\"point\" transform=\"translate(484.44,300.25)\" d=\"M3,0A3,3 0 1,1 0,-3A3,3 0 0,1 3,0Z\" style=\"opacity: 1; stroke-width: 0px; fill: rgb(99, 110, 250); fill-opacity: 1;\"/><path class=\"point\" transform=\"translate(484.52,300.25)\" d=\"M3,0A3,3 0 1,1 0,-3A3,3 0 0,1 3,0Z\" style=\"opacity: 1; stroke-width: 0px; fill: rgb(99, 110, 250); fill-opacity: 1;\"/><path class=\"point\" transform=\"translate(486.06,300.25)\" d=\"M3,0A3,3 0 1,1 0,-3A3,3 0 0,1 3,0Z\" style=\"opacity: 1; stroke-width: 0px; fill: rgb(99, 110, 250); fill-opacity: 1;\"/><path class=\"point\" transform=\"translate(486.34,300.25)\" d=\"M3,0A3,3 0 1,1 0,-3A3,3 0 0,1 3,0Z\" style=\"opacity: 1; stroke-width: 0px; fill: rgb(99, 110, 250); fill-opacity: 1;\"/><path class=\"point\" transform=\"translate(487.29,300.25)\" d=\"M3,0A3,3 0 1,1 0,-3A3,3 0 0,1 3,0Z\" style=\"opacity: 1; stroke-width: 0px; fill: rgb(99, 110, 250); fill-opacity: 1;\"/><path class=\"point\" transform=\"translate(488.15,300.25)\" d=\"M3,0A3,3 0 1,1 0,-3A3,3 0 0,1 3,0Z\" style=\"opacity: 1; stroke-width: 0px; fill: rgb(99, 110, 250); fill-opacity: 1;\"/><path class=\"point\" transform=\"translate(488.6,300.25)\" d=\"M3,0A3,3 0 1,1 0,-3A3,3 0 0,1 3,0Z\" style=\"opacity: 1; stroke-width: 0px; fill: rgb(99, 110, 250); fill-opacity: 1;\"/><path class=\"point\" transform=\"translate(488.77,300.25)\" d=\"M3,0A3,3 0 1,1 0,-3A3,3 0 0,1 3,0Z\" style=\"opacity: 1; stroke-width: 0px; fill: rgb(99, 110, 250); fill-opacity: 1;\"/><path class=\"point\" transform=\"translate(489.73,160)\" d=\"M3,0A3,3 0 1,1 0,-3A3,3 0 0,1 3,0Z\" style=\"opacity: 1; stroke-width: 0px; fill: rgb(99, 110, 250); fill-opacity: 1;\"/><path class=\"point\" transform=\"translate(492.38,300.25)\" d=\"M3,0A3,3 0 1,1 0,-3A3,3 0 0,1 3,0Z\" style=\"opacity: 1; stroke-width: 0px; fill: rgb(99, 110, 250); fill-opacity: 1;\"/><path class=\"point\" transform=\"translate(492.49,300.25)\" d=\"M3,0A3,3 0 1,1 0,-3A3,3 0 0,1 3,0Z\" style=\"opacity: 1; stroke-width: 0px; fill: rgb(99, 110, 250); fill-opacity: 1;\"/><path class=\"point\" transform=\"translate(492.58,160)\" d=\"M3,0A3,3 0 1,1 0,-3A3,3 0 0,1 3,0Z\" style=\"opacity: 1; stroke-width: 0px; fill: rgb(99, 110, 250); fill-opacity: 1;\"/><path class=\"point\" transform=\"translate(493.46,300.25)\" d=\"M3,0A3,3 0 1,1 0,-3A3,3 0 0,1 3,0Z\" style=\"opacity: 1; stroke-width: 0px; fill: rgb(99, 110, 250); fill-opacity: 1;\"/><path class=\"point\" transform=\"translate(493.65,300.25)\" d=\"M3,0A3,3 0 1,1 0,-3A3,3 0 0,1 3,0Z\" style=\"opacity: 1; stroke-width: 0px; fill: rgb(99, 110, 250); fill-opacity: 1;\"/><path class=\"point\" transform=\"translate(493.72,300.25)\" d=\"M3,0A3,3 0 1,1 0,-3A3,3 0 0,1 3,0Z\" style=\"opacity: 1; stroke-width: 0px; fill: rgb(99, 110, 250); fill-opacity: 1;\"/><path class=\"point\" transform=\"translate(495.11,300.25)\" d=\"M3,0A3,3 0 1,1 0,-3A3,3 0 0,1 3,0Z\" style=\"opacity: 1; stroke-width: 0px; fill: rgb(99, 110, 250); fill-opacity: 1;\"/><path class=\"point\" transform=\"translate(495.83,300.25)\" d=\"M3,0A3,3 0 1,1 0,-3A3,3 0 0,1 3,0Z\" style=\"opacity: 1; stroke-width: 0px; fill: rgb(99, 110, 250); fill-opacity: 1;\"/><path class=\"point\" transform=\"translate(496.14,300.25)\" d=\"M3,0A3,3 0 1,1 0,-3A3,3 0 0,1 3,0Z\" style=\"opacity: 1; stroke-width: 0px; fill: rgb(99, 110, 250); fill-opacity: 1;\"/><path class=\"point\" transform=\"translate(496.48,300.25)\" d=\"M3,0A3,3 0 1,1 0,-3A3,3 0 0,1 3,0Z\" style=\"opacity: 1; stroke-width: 0px; fill: rgb(99, 110, 250); fill-opacity: 1;\"/><path class=\"point\" transform=\"translate(496.73,300.25)\" d=\"M3,0A3,3 0 1,1 0,-3A3,3 0 0,1 3,0Z\" style=\"opacity: 1; stroke-width: 0px; fill: rgb(99, 110, 250); fill-opacity: 1;\"/><path class=\"point\" transform=\"translate(497,300.25)\" d=\"M3,0A3,3 0 1,1 0,-3A3,3 0 0,1 3,0Z\" style=\"opacity: 1; stroke-width: 0px; fill: rgb(99, 110, 250); fill-opacity: 1;\"/><path class=\"point\" transform=\"translate(497.28,300.25)\" d=\"M3,0A3,3 0 1,1 0,-3A3,3 0 0,1 3,0Z\" style=\"opacity: 1; stroke-width: 0px; fill: rgb(99, 110, 250); fill-opacity: 1;\"/><path class=\"point\" transform=\"translate(497.44,300.25)\" d=\"M3,0A3,3 0 1,1 0,-3A3,3 0 0,1 3,0Z\" style=\"opacity: 1; stroke-width: 0px; fill: rgb(99, 110, 250); fill-opacity: 1;\"/><path class=\"point\" transform=\"translate(497.75,300.25)\" d=\"M3,0A3,3 0 1,1 0,-3A3,3 0 0,1 3,0Z\" style=\"opacity: 1; stroke-width: 0px; fill: rgb(99, 110, 250); fill-opacity: 1;\"/><path class=\"point\" transform=\"translate(498.39,300.25)\" d=\"M3,0A3,3 0 1,1 0,-3A3,3 0 0,1 3,0Z\" style=\"opacity: 1; stroke-width: 0px; fill: rgb(99, 110, 250); fill-opacity: 1;\"/><path class=\"point\" transform=\"translate(499.23,300.25)\" d=\"M3,0A3,3 0 1,1 0,-3A3,3 0 0,1 3,0Z\" style=\"opacity: 1; stroke-width: 0px; fill: rgb(99, 110, 250); fill-opacity: 1;\"/><path class=\"point\" transform=\"translate(500.49,300.25)\" d=\"M3,0A3,3 0 1,1 0,-3A3,3 0 0,1 3,0Z\" style=\"opacity: 1; stroke-width: 0px; fill: rgb(99, 110, 250); fill-opacity: 1;\"/><path class=\"point\" transform=\"translate(501.36,300.25)\" d=\"M3,0A3,3 0 1,1 0,-3A3,3 0 0,1 3,0Z\" style=\"opacity: 1; stroke-width: 0px; fill: rgb(99, 110, 250); fill-opacity: 1;\"/><path class=\"point\" transform=\"translate(501.67,300.25)\" d=\"M3,0A3,3 0 1,1 0,-3A3,3 0 0,1 3,0Z\" style=\"opacity: 1; stroke-width: 0px; fill: rgb(99, 110, 250); fill-opacity: 1;\"/><path class=\"point\" transform=\"translate(502.52,300.25)\" d=\"M3,0A3,3 0 1,1 0,-3A3,3 0 0,1 3,0Z\" style=\"opacity: 1; stroke-width: 0px; fill: rgb(99, 110, 250); fill-opacity: 1;\"/><path class=\"point\" transform=\"translate(502.6,300.25)\" d=\"M3,0A3,3 0 1,1 0,-3A3,3 0 0,1 3,0Z\" style=\"opacity: 1; stroke-width: 0px; fill: rgb(99, 110, 250); fill-opacity: 1;\"/><path class=\"point\" transform=\"translate(502.98,300.25)\" d=\"M3,0A3,3 0 1,1 0,-3A3,3 0 0,1 3,0Z\" style=\"opacity: 1; stroke-width: 0px; fill: rgb(99, 110, 250); fill-opacity: 1;\"/><path class=\"point\" transform=\"translate(503.1,300.25)\" d=\"M3,0A3,3 0 1,1 0,-3A3,3 0 0,1 3,0Z\" style=\"opacity: 1; stroke-width: 0px; fill: rgb(99, 110, 250); fill-opacity: 1;\"/><path class=\"point\" transform=\"translate(503.36,300.25)\" d=\"M3,0A3,3 0 1,1 0,-3A3,3 0 0,1 3,0Z\" style=\"opacity: 1; stroke-width: 0px; fill: rgb(99, 110, 250); fill-opacity: 1;\"/><path class=\"point\" transform=\"translate(504.07,300.25)\" d=\"M3,0A3,3 0 1,1 0,-3A3,3 0 0,1 3,0Z\" style=\"opacity: 1; stroke-width: 0px; fill: rgb(99, 110, 250); fill-opacity: 1;\"/><path class=\"point\" transform=\"translate(504.77,300.25)\" d=\"M3,0A3,3 0 1,1 0,-3A3,3 0 0,1 3,0Z\" style=\"opacity: 1; stroke-width: 0px; fill: rgb(99, 110, 250); fill-opacity: 1;\"/><path class=\"point\" transform=\"translate(505.58,300.25)\" d=\"M3,0A3,3 0 1,1 0,-3A3,3 0 0,1 3,0Z\" style=\"opacity: 1; stroke-width: 0px; fill: rgb(99, 110, 250); fill-opacity: 1;\"/><path class=\"point\" transform=\"translate(505.59,300.25)\" d=\"M3,0A3,3 0 1,1 0,-3A3,3 0 0,1 3,0Z\" style=\"opacity: 1; stroke-width: 0px; fill: rgb(99, 110, 250); fill-opacity: 1;\"/><path class=\"point\" transform=\"translate(506.37,300.25)\" d=\"M3,0A3,3 0 1,1 0,-3A3,3 0 0,1 3,0Z\" style=\"opacity: 1; stroke-width: 0px; fill: rgb(99, 110, 250); fill-opacity: 1;\"/><path class=\"point\" transform=\"translate(506.56,300.25)\" d=\"M3,0A3,3 0 1,1 0,-3A3,3 0 0,1 3,0Z\" style=\"opacity: 1; stroke-width: 0px; fill: rgb(99, 110, 250); fill-opacity: 1;\"/><path class=\"point\" transform=\"translate(508.7,300.25)\" d=\"M3,0A3,3 0 1,1 0,-3A3,3 0 0,1 3,0Z\" style=\"opacity: 1; stroke-width: 0px; fill: rgb(99, 110, 250); fill-opacity: 1;\"/><path class=\"point\" transform=\"translate(508.72,300.25)\" d=\"M3,0A3,3 0 1,1 0,-3A3,3 0 0,1 3,0Z\" style=\"opacity: 1; stroke-width: 0px; fill: rgb(99, 110, 250); fill-opacity: 1;\"/><path class=\"point\" transform=\"translate(508.96,300.25)\" d=\"M3,0A3,3 0 1,1 0,-3A3,3 0 0,1 3,0Z\" style=\"opacity: 1; stroke-width: 0px; fill: rgb(99, 110, 250); fill-opacity: 1;\"/><path class=\"point\" transform=\"translate(509.25,300.25)\" d=\"M3,0A3,3 0 1,1 0,-3A3,3 0 0,1 3,0Z\" style=\"opacity: 1; stroke-width: 0px; fill: rgb(99, 110, 250); fill-opacity: 1;\"/></g><g class=\"text\"/></g></g></g><g class=\"overplot\"/><path class=\"xlines-above crisp\" d=\"M0,0\" style=\"fill: none;\"/><path class=\"ylines-above crisp\" d=\"M0,0\" style=\"fill: none;\"/><g class=\"overlines-above\"/><g class=\"xaxislayer-above\"><g class=\"xtick\"><text text-anchor=\"middle\" x=\"0\" y=\"433\" transform=\"translate(110.18,0)\" style=\"font-family: 'Open Sans', verdana, arial, sans-serif; font-size: 12px; fill: rgb(42, 63, 95); fill-opacity: 1; white-space: pre; opacity: 1;\">0</text></g><g class=\"xtick\"><text text-anchor=\"middle\" x=\"0\" y=\"433\" style=\"font-family: 'Open Sans', verdana, arial, sans-serif; font-size: 12px; fill: rgb(42, 63, 95); fill-opacity: 1; white-space: pre; opacity: 1;\" transform=\"translate(222.01,0)\">1B</text></g><g class=\"xtick\"><text text-anchor=\"middle\" x=\"0\" y=\"433\" style=\"font-family: 'Open Sans', verdana, arial, sans-serif; font-size: 12px; fill: rgb(42, 63, 95); fill-opacity: 1; white-space: pre; opacity: 1;\" transform=\"translate(333.84000000000003,0)\">2B</text></g><g class=\"xtick\"><text text-anchor=\"middle\" x=\"0\" y=\"433\" style=\"font-family: 'Open Sans', verdana, arial, sans-serif; font-size: 12px; fill: rgb(42, 63, 95); fill-opacity: 1; white-space: pre; opacity: 1;\" transform=\"translate(445.67,0)\">3B</text></g><g class=\"xtick\"><text text-anchor=\"middle\" x=\"0\" y=\"433\" style=\"font-family: 'Open Sans', verdana, arial, sans-serif; font-size: 12px; fill: rgb(42, 63, 95); fill-opacity: 1; white-space: pre; opacity: 1;\" transform=\"translate(557.5,0)\">4B</text></g></g><g class=\"yaxislayer-above\"><g class=\"ytick\"><text text-anchor=\"end\" x=\"79\" y=\"4.199999999999999\" transform=\"translate(0,400.25)\" style=\"font-family: 'Open Sans', verdana, arial, sans-serif; font-size: 12px; fill: rgb(42, 63, 95); fill-opacity: 1; white-space: pre; opacity: 1;\">1</text></g><g class=\"ytick\"><text text-anchor=\"end\" x=\"79\" y=\"4.199999999999999\" style=\"font-family: 'Open Sans', verdana, arial, sans-serif; font-size: 12px; fill: rgb(42, 63, 95); fill-opacity: 1; white-space: pre; opacity: 1;\" transform=\"translate(0,260)\">2</text></g><g class=\"ytick\"><text text-anchor=\"end\" x=\"79\" y=\"4.199999999999999\" style=\"font-family: 'Open Sans', verdana, arial, sans-serif; font-size: 12px; fill: rgb(42, 63, 95); fill-opacity: 1; white-space: pre; opacity: 1;\" transform=\"translate(0,119.75)\">3</text></g></g><g class=\"overaxes-above\"/></g></g><g class=\"polarlayer\"/><g class=\"smithlayer\"/><g class=\"ternarylayer\"/><g class=\"geolayer\"/><g class=\"funnelarealayer\"/><g class=\"pielayer\"/><g class=\"iciclelayer\"/><g class=\"treemaplayer\"/><g class=\"sunburstlayer\"/><g class=\"glimages\"/><defs id=\"topdefs-bfe1a3\"><g class=\"clips\"/></defs><g class=\"layer-above\"><g class=\"imagelayer\"/><g class=\"shapelayer\"/></g><g class=\"infolayer\"><g class=\"g-gtitle\"><text class=\"gtitle\" x=\"35\" y=\"50\" text-anchor=\"start\" dy=\"0em\" style=\"font-family: 'Open Sans', verdana, arial, sans-serif; font-size: 17px; fill: rgb(42, 63, 95); opacity: 1; white-space: pre;\">Número de Pedidos por Usuario</text></g><g class=\"g-xtitle\"><text class=\"xtitle\" x=\"350\" y=\"460.3\" text-anchor=\"middle\" style=\"font-family: 'Open Sans', verdana, arial, sans-serif; font-size: 14px; fill: rgb(42, 63, 95); opacity: 1; white-space: pre;\">Número de Usuarios</text></g><g class=\"g-ytitle\"><text class=\"ytitle\" transform=\"rotate(-90,51.959375,260)\" x=\"51.959375\" y=\"260\" text-anchor=\"middle\" style=\"font-family: 'Open Sans', verdana, arial, sans-serif; font-size: 14px; fill: rgb(42, 63, 95); opacity: 1; white-space: pre;\">Pedidos por Usuario</text></g></g></svg>"
      ]
     },
     "metadata": {},
     "output_type": "display_data"
    }
   ],
   "source": [
    "fig8=px.scatter(pedidos_por_usuario, x='visitor_id', y='transaction_id',\n",
    "                title='Número de Pedidos por Usuario',\n",
    "                labels= {'transaction_id': 'Pedidos por Usuario', 'visitor_id': 'Número de Usuarios'}\n",
    ")\n",
    "fig8.update_yaxes(tickvals=[1, 2, 3])\n",
    "\n",
    "fig8.show()"
   ]
  },
  {
   "cell_type": "markdown",
   "metadata": {},
   "source": [
    "**Gráfico 8.** Muestra el número de pedidos por usuario.\n",
    "- La cantidad mínima de pedidos por usuario es de 1. Mientras que la cantidad máxima es de 3.\n",
    "- La mayor proporción de usuarios realizó un solo pedido durante el periodo.  \n",
    "- Una cantidad muy pequeña de usuarios realizó más de 2 pedidos."
   ]
  },
  {
   "cell_type": "markdown",
   "metadata": {},
   "source": [
    "### 6. Calcula los percentiles 95 y 99 para el número de pedidos por usuario. Define el punto en el cual un punto de datos se convierte en una anomalía."
   ]
  },
  {
   "cell_type": "code",
   "execution_count": 62,
   "metadata": {},
   "outputs": [
    {
     "data": {
      "text/plain": [
       "array([1., 2.])"
      ]
     },
     "execution_count": 62,
     "metadata": {},
     "output_type": "execute_result"
    }
   ],
   "source": [
    "np.percentile(pedidos_por_usuario['transaction_id'], [95, 99])"
   ]
  },
  {
   "cell_type": "code",
   "execution_count": 63,
   "metadata": {},
   "outputs": [
    {
     "data": {
      "text/plain": [
       "0.95    1.0\n",
       "0.99    2.0\n",
       "Name: transaction_id, dtype: float64"
      ]
     },
     "execution_count": 63,
     "metadata": {},
     "output_type": "execute_result"
    }
   ],
   "source": [
    "pedidos_por_usuario['transaction_id'].quantile(q=[0.95, 0.99])"
   ]
  },
  {
   "cell_type": "markdown",
   "metadata": {},
   "source": [
    "Con el cálculo de los percentiles 95 y 99 podemos observar que:\n",
    "- No más del 5% de los usuarios hacen más de 1 pedido.\n",
    "- No más del 1% de los usuarios hacen más de 2 pedidos. \n",
    "\n",
    "Confirmamos que, en efecto, la mayor proporción de usuarios realizan UN solo pedido."
   ]
  },
  {
   "cell_type": "markdown",
   "metadata": {},
   "source": [
    "### 7. Traza un gráfico de dispersión de los precios de los pedidos. Haz conclusiones y conjeturas."
   ]
  },
  {
   "cell_type": "code",
   "execution_count": 64,
   "metadata": {},
   "outputs": [
    {
     "data": {
      "image/svg+xml": [
       "<svg class=\"main-svg\" xmlns=\"http://www.w3.org/2000/svg\" xmlns:xlink=\"http://www.w3.org/1999/xlink\" width=\"700\" height=\"500\" style=\"\" viewBox=\"0 0 700 500\"><rect x=\"0\" y=\"0\" width=\"700\" height=\"500\" style=\"fill: rgb(255, 255, 255); fill-opacity: 1;\"/><defs id=\"defs-cb373e\"><g class=\"clips\"><clipPath id=\"clipcb373exyplot\" class=\"plotclip\"><rect width=\"540\" height=\"320\"/></clipPath><clipPath class=\"axesclip\" id=\"clipcb373ex\"><rect x=\"80\" y=\"0\" width=\"540\" height=\"500\"/></clipPath><clipPath class=\"axesclip\" id=\"clipcb373ey\"><rect x=\"0\" y=\"100\" width=\"700\" height=\"320\"/></clipPath><clipPath class=\"axesclip\" id=\"clipcb373exy\"><rect x=\"80\" y=\"100\" width=\"540\" height=\"320\"/></clipPath></g><g class=\"gradients\"/><g class=\"patterns\"/></defs><g class=\"bglayer\"><rect class=\"bg\" x=\"80\" y=\"100\" width=\"540\" height=\"320\" style=\"fill: rgb(229, 236, 246); fill-opacity: 1; stroke-width: 0;\"/></g><g class=\"layer-below\"><g class=\"imagelayer\"/><g class=\"shapelayer\"/></g><g class=\"cartesianlayer\"><g class=\"subplot xy\"><g class=\"layer-subplot\"><g class=\"shapelayer\"/><g class=\"imagelayer\"/></g><g class=\"minor-gridlayer\"><g class=\"x\"/><g class=\"y\"/></g><g class=\"gridlayer\"><g class=\"x\"><path class=\"xgrid crisp\" transform=\"translate(222.24,0)\" d=\"M0,100v320\" style=\"stroke: rgb(255, 255, 255); stroke-opacity: 1; stroke-width: 1px;\"/><path class=\"xgrid crisp\" transform=\"translate(333.84000000000003,0)\" d=\"M0,100v320\" style=\"stroke: rgb(255, 255, 255); stroke-opacity: 1; stroke-width: 1px;\"/><path class=\"xgrid crisp\" transform=\"translate(445.44,0)\" d=\"M0,100v320\" style=\"stroke: rgb(255, 255, 255); stroke-opacity: 1; stroke-width: 1px;\"/><path class=\"xgrid crisp\" transform=\"translate(557.05,0)\" d=\"M0,100v320\" style=\"stroke: rgb(255, 255, 255); stroke-opacity: 1; stroke-width: 1px;\"/></g><g class=\"y\"><path class=\"ygrid crisp\" transform=\"translate(0,329.9)\" d=\"M80,0h540\" style=\"stroke: rgb(255, 255, 255); stroke-opacity: 1; stroke-width: 1px;\"/><path class=\"ygrid crisp\" transform=\"translate(0,259.47)\" d=\"M80,0h540\" style=\"stroke: rgb(255, 255, 255); stroke-opacity: 1; stroke-width: 1px;\"/><path class=\"ygrid crisp\" transform=\"translate(0,189.05)\" d=\"M80,0h540\" style=\"stroke: rgb(255, 255, 255); stroke-opacity: 1; stroke-width: 1px;\"/><path class=\"ygrid crisp\" transform=\"translate(0,118.63)\" d=\"M80,0h540\" style=\"stroke: rgb(255, 255, 255); stroke-opacity: 1; stroke-width: 1px;\"/></g></g><g class=\"zerolinelayer\"><path class=\"xzl zl crisp\" transform=\"translate(110.63,0)\" d=\"M0,100v320\" style=\"stroke: rgb(255, 255, 255); stroke-opacity: 1; stroke-width: 2px;\"/><path class=\"yzl zl crisp\" transform=\"translate(0,400.32)\" d=\"M80,0h540\" style=\"stroke: rgb(255, 255, 255); stroke-opacity: 1; stroke-width: 2px;\"/></g><g class=\"layer-between\"><g class=\"shapelayer\"/><g class=\"imagelayer\"/></g><path class=\"xlines-below\"/><path class=\"ylines-below\"/><g class=\"overlines-below\"/><g class=\"xaxislayer-below\"/><g class=\"yaxislayer-below\"/><g class=\"overaxes-below\"/><g class=\"plot\" transform=\"translate(80,100)\" clip-path=\"url(#clipcb373exyplot)\"/><g class=\"overplot\"/><path class=\"xlines-above crisp\" d=\"M0,0\" style=\"fill: none;\"/><path class=\"ylines-above crisp\" d=\"M0,0\" style=\"fill: none;\"/><g class=\"overlines-above\"/><g class=\"xaxislayer-above\"><g class=\"xtick\"><text text-anchor=\"middle\" x=\"0\" y=\"433\" transform=\"translate(110.63,0)\" style=\"font-family: 'Open Sans', verdana, arial, sans-serif; font-size: 12px; fill: rgb(42, 63, 95); fill-opacity: 1; white-space: pre; opacity: 1;\">0</text></g><g class=\"xtick\"><text text-anchor=\"middle\" x=\"0\" y=\"433\" style=\"font-family: 'Open Sans', verdana, arial, sans-serif; font-size: 12px; fill: rgb(42, 63, 95); fill-opacity: 1; white-space: pre; opacity: 1;\" transform=\"translate(222.24,0)\">1B</text></g><g class=\"xtick\"><text text-anchor=\"middle\" x=\"0\" y=\"433\" style=\"font-family: 'Open Sans', verdana, arial, sans-serif; font-size: 12px; fill: rgb(42, 63, 95); fill-opacity: 1; white-space: pre; opacity: 1;\" transform=\"translate(333.84000000000003,0)\">2B</text></g><g class=\"xtick\"><text text-anchor=\"middle\" x=\"0\" y=\"433\" style=\"font-family: 'Open Sans', verdana, arial, sans-serif; font-size: 12px; fill: rgb(42, 63, 95); fill-opacity: 1; white-space: pre; opacity: 1;\" transform=\"translate(445.44,0)\">3B</text></g><g class=\"xtick\"><text text-anchor=\"middle\" x=\"0\" y=\"433\" style=\"font-family: 'Open Sans', verdana, arial, sans-serif; font-size: 12px; fill: rgb(42, 63, 95); fill-opacity: 1; white-space: pre; opacity: 1;\" transform=\"translate(557.05,0)\">4B</text></g></g><g class=\"yaxislayer-above\"><g class=\"ytick\"><text text-anchor=\"end\" x=\"79\" y=\"4.199999999999999\" transform=\"translate(0,400.32)\" style=\"font-family: 'Open Sans', verdana, arial, sans-serif; font-size: 12px; fill: rgb(42, 63, 95); fill-opacity: 1; white-space: pre; opacity: 1;\">0</text></g><g class=\"ytick\"><text text-anchor=\"end\" x=\"79\" y=\"4.199999999999999\" style=\"font-family: 'Open Sans', verdana, arial, sans-serif; font-size: 12px; fill: rgb(42, 63, 95); fill-opacity: 1; white-space: pre; opacity: 1;\" transform=\"translate(0,329.9)\">5k</text></g><g class=\"ytick\"><text text-anchor=\"end\" x=\"79\" y=\"4.199999999999999\" style=\"font-family: 'Open Sans', verdana, arial, sans-serif; font-size: 12px; fill: rgb(42, 63, 95); fill-opacity: 1; white-space: pre; opacity: 1;\" transform=\"translate(0,259.47)\">10k</text></g><g class=\"ytick\"><text text-anchor=\"end\" x=\"79\" y=\"4.199999999999999\" style=\"font-family: 'Open Sans', verdana, arial, sans-serif; font-size: 12px; fill: rgb(42, 63, 95); fill-opacity: 1; white-space: pre; opacity: 1;\" transform=\"translate(0,189.05)\">15k</text></g><g class=\"ytick\"><text text-anchor=\"end\" x=\"79\" y=\"4.199999999999999\" style=\"font-family: 'Open Sans', verdana, arial, sans-serif; font-size: 12px; fill: rgb(42, 63, 95); fill-opacity: 1; white-space: pre; opacity: 1;\" transform=\"translate(0,118.63)\">20k</text></g></g><g class=\"overaxes-above\"/></g></g><g class=\"polarlayer\"/><g class=\"smithlayer\"/><g class=\"ternarylayer\"/><g class=\"geolayer\"/><g class=\"funnelarealayer\"/><g class=\"pielayer\"/><g class=\"iciclelayer\"/><g class=\"treemaplayer\"/><g class=\"sunburstlayer\"/><g class=\"glimages\"><image xmlns=\"http://www.w3.org/2000/svg\" xlink:href=\"data:image/png;base64,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\" preserveAspectRatio=\"none\" x=\"0\" y=\"0\" width=\"700px\" height=\"500px\"/><image xmlns=\"http://www.w3.org/2000/svg\" xlink:href=\"data:image/png;base64,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\" preserveAspectRatio=\"none\" x=\"0\" y=\"0\" width=\"700px\" height=\"500px\"/></g><defs id=\"topdefs-cb373e\"><g class=\"clips\"/></defs><g class=\"layer-above\"><g class=\"imagelayer\"/><g class=\"shapelayer\"><g class=\"shape-group\" data-index=\"0\" clip-path=\"url(#clipcb373ey)\"><path data-index=\"0\" fill-rule=\"evenodd\" d=\"M80,399.61L620,399.61\" style=\"opacity: 1; stroke: rgb(255, 0, 0); stroke-opacity: 1; fill: rgb(0, 0, 0); fill-opacity: 0; stroke-dasharray: 9px, 9px; stroke-width: 1px;\"/></g></g></g><g class=\"infolayer\"><g class=\"g-gtitle\"><text class=\"gtitle\" x=\"35\" y=\"50\" text-anchor=\"start\" dy=\"0em\" style=\"font-family: 'Open Sans', verdana, arial, sans-serif; font-size: 17px; fill: rgb(42, 63, 95); opacity: 1; white-space: pre;\">Precios de los Pedidos</text></g><g class=\"g-xtitle\"><text class=\"xtitle\" x=\"350\" y=\"460.3\" text-anchor=\"middle\" style=\"font-family: 'Open Sans', verdana, arial, sans-serif; font-size: 14px; fill: rgb(42, 63, 95); opacity: 1; white-space: pre;\">Pedidos</text></g><g class=\"g-ytitle\"><text class=\"ytitle\" transform=\"rotate(-90,37.240625,260)\" x=\"37.240625\" y=\"260\" text-anchor=\"middle\" style=\"font-family: 'Open Sans', verdana, arial, sans-serif; font-size: 14px; fill: rgb(42, 63, 95); opacity: 1; white-space: pre;\">Precio ($)</text></g><g class=\"annotation\" data-index=\"0\" style=\"opacity: 1;\"><g class=\"annotation-text-g\" transform=\"rotate(0,620,399.61)\"><g class=\"cursor-pointer\" transform=\"translate(593,390)\"><rect class=\"bg\" x=\"0.5\" y=\"0.5\" width=\"53\" height=\"18\" style=\"stroke-width: 1px; stroke: rgb(0, 0, 0); stroke-opacity: 0; fill: rgb(0, 0, 0); fill-opacity: 0;\"/><text class=\"annotation-text\" text-anchor=\"start\" x=\"2\" y=\"14\" style=\"font-family: 'Open Sans', verdana, arial, sans-serif; font-size: 12px; fill: rgb(255, 0, 0); fill-opacity: 1; white-space: pre;\">Mediana</text></g></g></g></g></svg>"
      ]
     },
     "metadata": {},
     "output_type": "display_data"
    }
   ],
   "source": [
    "#Precios de los pedidos por usuarios (por transaccion)\n",
    "fig9=px.scatter(orders.sort_values(by='revenue'), x='transaction_id', y='revenue',\n",
    "                title='Precios de los Pedidos',\n",
    "                labels= {'transaction_id': 'Pedidos', 'revenue': 'Precio ($)'}\n",
    ")\n",
    "\n",
    "fig9.add_hline(y=orders['revenue'].median(), line_width=1, line_dash=\"dash\", line_color=\"red\")\n",
    "#fig9.update_yaxes(tickvals=[1, 2, 3])\n",
    "fig9.add_annotation(xref='paper', y=orders['revenue'].median(),\n",
    "                    x=1.05,\n",
    "                    text='Mediana',\n",
    "                    showarrow=False,\n",
    "                    align=\"left\",\n",
    "                    font=dict(\n",
    "                        color='red'\n",
    "                   )\n",
    ")\n",
    "\n",
    "fig9.show()"
   ]
  },
  {
   "cell_type": "markdown",
   "metadata": {},
   "source": [
    "**Gráfico 9.** Muestra la dispersión de los precios de los pedidos .\n",
    "- podemos observar que la mayor proporción de las transacciones tiene un precio al rededor de la mediana de 50,1.\n",
    "- La media se eleva a 130,77 porque existen algunas tranascciones con precios muy altos, estos son valores atípicos. \n",
    "- Se podría establecer el límite para pedidos anormales entre 1.000 a 1.500 "
   ]
  },
  {
   "cell_type": "code",
   "execution_count": 65,
   "metadata": {},
   "outputs": [
    {
     "name": "stdout",
     "output_type": "stream",
     "text": [
      "130.77086614173228\n",
      "50.1\n",
      "0    20.2\n",
      "Name: revenue, dtype: float64\n"
     ]
    }
   ],
   "source": [
    "print(orders['revenue'].mean())\n",
    "print(orders['revenue'].median())\n",
    "print(orders['revenue'].mode())"
   ]
  },
  {
   "cell_type": "code",
   "execution_count": 66,
   "metadata": {},
   "outputs": [
    {
     "data": {
      "image/svg+xml": [
       "<svg class=\"main-svg\" xmlns=\"http://www.w3.org/2000/svg\" xmlns:xlink=\"http://www.w3.org/1999/xlink\" width=\"700\" height=\"500\" style=\"\" viewBox=\"0 0 700 500\"><rect x=\"0\" y=\"0\" width=\"700\" height=\"500\" style=\"fill: rgb(255, 255, 255); fill-opacity: 1;\"/><defs id=\"defs-dd2262\"><g class=\"clips\"><clipPath id=\"clipdd2262xyplot\" class=\"plotclip\"><rect width=\"540\" height=\"320\"/></clipPath><clipPath class=\"axesclip\" id=\"clipdd2262x\"><rect x=\"80\" y=\"0\" width=\"540\" height=\"500\"/></clipPath><clipPath class=\"axesclip\" id=\"clipdd2262y\"><rect x=\"0\" y=\"100\" width=\"700\" height=\"320\"/></clipPath><clipPath class=\"axesclip\" id=\"clipdd2262xy\"><rect x=\"80\" y=\"100\" width=\"540\" height=\"320\"/></clipPath></g><g class=\"gradients\"/><g class=\"patterns\"/></defs><g class=\"bglayer\"><rect class=\"bg\" x=\"80\" y=\"100\" width=\"540\" height=\"320\" style=\"fill: rgb(229, 236, 246); fill-opacity: 1; stroke-width: 0;\"/></g><g class=\"layer-below\"><g class=\"imagelayer\"/><g class=\"shapelayer\"/></g><g class=\"cartesianlayer\"><g class=\"subplot xy\"><g class=\"layer-subplot\"><g class=\"shapelayer\"/><g class=\"imagelayer\"/></g><g class=\"minor-gridlayer\"><g class=\"x\"/><g class=\"y\"/></g><g class=\"gridlayer\"><g class=\"x\"><path class=\"xgrid crisp\" transform=\"translate(158.6,0)\" d=\"M0,100v320\" style=\"stroke: rgb(255, 255, 255); stroke-opacity: 1; stroke-width: 1px;\"/><path class=\"xgrid crisp\" transform=\"translate(270.25,0)\" d=\"M0,100v320\" style=\"stroke: rgb(255, 255, 255); stroke-opacity: 1; stroke-width: 1px;\"/><path class=\"xgrid crisp\" transform=\"translate(381.9,0)\" d=\"M0,100v320\" style=\"stroke: rgb(255, 255, 255); stroke-opacity: 1; stroke-width: 1px;\"/><path class=\"xgrid crisp\" transform=\"translate(493.55,0)\" d=\"M0,100v320\" style=\"stroke: rgb(255, 255, 255); stroke-opacity: 1; stroke-width: 1px;\"/><path class=\"xgrid crisp\" transform=\"translate(605.2,0)\" d=\"M0,100v320\" style=\"stroke: rgb(255, 255, 255); stroke-opacity: 1; stroke-width: 1px;\"/></g><g class=\"y\"><path class=\"ygrid crisp\" transform=\"translate(0,329.9)\" d=\"M80,0h540\" style=\"stroke: rgb(255, 255, 255); stroke-opacity: 1; stroke-width: 1px;\"/><path class=\"ygrid crisp\" transform=\"translate(0,259.47)\" d=\"M80,0h540\" style=\"stroke: rgb(255, 255, 255); stroke-opacity: 1; stroke-width: 1px;\"/><path class=\"ygrid crisp\" transform=\"translate(0,189.05)\" d=\"M80,0h540\" style=\"stroke: rgb(255, 255, 255); stroke-opacity: 1; stroke-width: 1px;\"/><path class=\"ygrid crisp\" transform=\"translate(0,118.63)\" d=\"M80,0h540\" style=\"stroke: rgb(255, 255, 255); stroke-opacity: 1; stroke-width: 1px;\"/></g></g><g class=\"zerolinelayer\"><path class=\"yzl zl crisp\" transform=\"translate(0,400.32)\" d=\"M80,0h540\" style=\"stroke: rgb(255, 255, 255); stroke-opacity: 1; stroke-width: 2px;\"/></g><g class=\"layer-between\"><g class=\"shapelayer\"/><g class=\"imagelayer\"/></g><path class=\"xlines-below\"/><path class=\"ylines-below\"/><g class=\"overlines-below\"/><g class=\"xaxislayer-below\"/><g class=\"yaxislayer-below\"/><g class=\"overaxes-below\"/><g class=\"plot\" transform=\"translate(80,100)\" clip-path=\"url(#clipdd2262xyplot)\"/><g class=\"overplot\"/><path class=\"xlines-above crisp\" d=\"M0,0\" style=\"fill: none;\"/><path class=\"ylines-above crisp\" d=\"M0,0\" style=\"fill: none;\"/><g class=\"overlines-above\"/><g class=\"xaxislayer-above\"><g class=\"xtick\"><text text-anchor=\"middle\" x=\"0\" y=\"433\" transform=\"translate(158.6,0)\" style=\"font-family: 'Open Sans', verdana, arial, sans-serif; font-size: 12px; fill: rgb(42, 63, 95); fill-opacity: 1; white-space: pre; opacity: 1;\"><tspan class=\"line\" dy=\"0em\" x=\"0\" y=\"433\">Aug 4</tspan><tspan class=\"line\" dy=\"1.3em\" x=\"0\" y=\"433\">2019</tspan></text></g><g class=\"xtick\"><text text-anchor=\"middle\" x=\"0\" y=\"433\" style=\"font-family: 'Open Sans', verdana, arial, sans-serif; font-size: 12px; fill: rgb(42, 63, 95); fill-opacity: 1; white-space: pre; opacity: 1;\" transform=\"translate(270.25,0)\">Aug 11</text></g><g class=\"xtick\"><text text-anchor=\"middle\" x=\"0\" y=\"433\" style=\"font-family: 'Open Sans', verdana, arial, sans-serif; font-size: 12px; fill: rgb(42, 63, 95); fill-opacity: 1; white-space: pre; opacity: 1;\" transform=\"translate(381.9,0)\">Aug 18</text></g><g class=\"xtick\"><text text-anchor=\"middle\" x=\"0\" y=\"433\" style=\"font-family: 'Open Sans', verdana, arial, sans-serif; font-size: 12px; fill: rgb(42, 63, 95); fill-opacity: 1; white-space: pre; opacity: 1;\" transform=\"translate(493.55,0)\">Aug 25</text></g><g class=\"xtick\"><text text-anchor=\"middle\" x=\"0\" y=\"433\" style=\"font-family: 'Open Sans', verdana, arial, sans-serif; font-size: 12px; fill: rgb(42, 63, 95); fill-opacity: 1; white-space: pre; opacity: 1;\" transform=\"translate(605.2,0)\">Sep 1</text></g></g><g class=\"yaxislayer-above\"><g class=\"ytick\"><text text-anchor=\"end\" x=\"79\" y=\"4.199999999999999\" transform=\"translate(0,400.32)\" style=\"font-family: 'Open Sans', verdana, arial, sans-serif; font-size: 12px; fill: rgb(42, 63, 95); fill-opacity: 1; white-space: pre; opacity: 1;\">0</text></g><g class=\"ytick\"><text text-anchor=\"end\" x=\"79\" y=\"4.199999999999999\" style=\"font-family: 'Open Sans', verdana, arial, sans-serif; font-size: 12px; fill: rgb(42, 63, 95); fill-opacity: 1; white-space: pre; opacity: 1;\" transform=\"translate(0,329.9)\">5k</text></g><g class=\"ytick\"><text text-anchor=\"end\" x=\"79\" y=\"4.199999999999999\" style=\"font-family: 'Open Sans', verdana, arial, sans-serif; font-size: 12px; fill: rgb(42, 63, 95); fill-opacity: 1; white-space: pre; opacity: 1;\" transform=\"translate(0,259.47)\">10k</text></g><g class=\"ytick\"><text text-anchor=\"end\" x=\"79\" y=\"4.199999999999999\" style=\"font-family: 'Open Sans', verdana, arial, sans-serif; font-size: 12px; fill: rgb(42, 63, 95); fill-opacity: 1; white-space: pre; opacity: 1;\" transform=\"translate(0,189.05)\">15k</text></g><g class=\"ytick\"><text text-anchor=\"end\" x=\"79\" y=\"4.199999999999999\" style=\"font-family: 'Open Sans', verdana, arial, sans-serif; font-size: 12px; fill: rgb(42, 63, 95); fill-opacity: 1; white-space: pre; opacity: 1;\" transform=\"translate(0,118.63)\">20k</text></g></g><g class=\"overaxes-above\"/></g></g><g class=\"polarlayer\"/><g class=\"smithlayer\"/><g class=\"ternarylayer\"/><g class=\"geolayer\"/><g class=\"funnelarealayer\"/><g class=\"pielayer\"/><g class=\"iciclelayer\"/><g class=\"treemaplayer\"/><g class=\"sunburstlayer\"/><g class=\"glimages\"><image xmlns=\"http://www.w3.org/2000/svg\" xlink:href=\"data:image/png;base64,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\" preserveAspectRatio=\"none\" x=\"0\" y=\"0\" width=\"700px\" height=\"500px\"/><image xmlns=\"http://www.w3.org/2000/svg\" xlink:href=\"data:image/png;base64,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\" preserveAspectRatio=\"none\" x=\"0\" y=\"0\" width=\"700px\" height=\"500px\"/></g><defs id=\"topdefs-dd2262\"><g class=\"clips\"/></defs><g class=\"layer-above\"><g class=\"imagelayer\"/><g class=\"shapelayer\"><g class=\"shape-group\" data-index=\"0\" clip-path=\"url(#clipdd2262y)\"><path data-index=\"0\" fill-rule=\"evenodd\" d=\"M80,399.61L620,399.61\" style=\"opacity: 1; stroke: rgb(255, 0, 0); stroke-opacity: 1; fill: rgb(0, 0, 0); fill-opacity: 0; stroke-dasharray: 9px, 9px; stroke-width: 1px;\"/></g></g></g><g class=\"infolayer\"><g class=\"g-gtitle\"><text class=\"gtitle\" x=\"35\" y=\"50\" text-anchor=\"start\" dy=\"0em\" style=\"font-family: 'Open Sans', verdana, arial, sans-serif; font-size: 17px; fill: rgb(42, 63, 95); opacity: 1; white-space: pre;\">Precios de los Pedidos Diarios</text></g><g class=\"g-xtitle\"><text class=\"xtitle\" x=\"350\" y=\"475.909375\" text-anchor=\"middle\" style=\"font-family: 'Open Sans', verdana, arial, sans-serif; font-size: 14px; fill: rgb(42, 63, 95); opacity: 1; white-space: pre;\">Fecha</text></g><g class=\"g-ytitle\"><text class=\"ytitle\" transform=\"rotate(-90,37.240625,260)\" x=\"37.240625\" y=\"260\" text-anchor=\"middle\" style=\"font-family: 'Open Sans', verdana, arial, sans-serif; font-size: 14px; fill: rgb(42, 63, 95); opacity: 1; white-space: pre;\">Precio ($)</text></g><g class=\"annotation\" data-index=\"0\" style=\"opacity: 1;\"><g class=\"annotation-text-g\" transform=\"rotate(0,620,399.61)\"><g class=\"cursor-pointer\" transform=\"translate(593,390)\"><rect class=\"bg\" x=\"0.5\" y=\"0.5\" width=\"53\" height=\"18\" style=\"stroke-width: 1px; stroke: rgb(0, 0, 0); stroke-opacity: 0; fill: rgb(0, 0, 0); fill-opacity: 0;\"/><text class=\"annotation-text\" text-anchor=\"start\" x=\"2\" y=\"14\" style=\"font-family: 'Open Sans', verdana, arial, sans-serif; font-size: 12px; fill: rgb(255, 0, 0); fill-opacity: 1; white-space: pre;\">Mediana</text></g></g></g></g></svg>"
      ]
     },
     "metadata": {},
     "output_type": "display_data"
    }
   ],
   "source": [
    "#Precios de los pedidos por usuarios (por fecha)\n",
    "fig9b=px.scatter(orders.sort_values(by='revenue'), x='date', y='revenue',\n",
    "                title='Precios de los Pedidos Diarios',\n",
    "                labels= {'date': 'Fecha', 'revenue': 'Precio ($)'}\n",
    ")\n",
    "fig9b.add_hline(y=orders['revenue'].median(), line_width=1, line_dash=\"dash\", line_color=\"red\")\n",
    "#fig9b.add_hline(y=orders['revenue'].mean(), line_width=1, line_dash=\"dash\", line_color=\"blue\")\n",
    "#fig9.update_yaxes(tickvals=[1, 2, 3])\n",
    "fig9b.add_annotation(xref='paper', y=orders['revenue'].median(),\n",
    "                    x=1.05,\n",
    "                    text='Mediana',\n",
    "                    showarrow=False,\n",
    "                    align=\"left\",\n",
    "                    font=dict(\n",
    "                        color='red'\n",
    "                   )\n",
    ")\n",
    "\n",
    "fig9b.show()"
   ]
  },
  {
   "cell_type": "markdown",
   "metadata": {},
   "source": [
    "**Gráfico 9b.** Muestra la dispersión de los precios de los pedidos por fecha (diarios).\n",
    "- Podemos observar que la mayoría de los dás se realizan pedidos con precios cercanos a la mediana.\n",
    "- La media se ve afectada por valores en los precios que resultan ser atípicos. Por ejemplo, el 19 de agosto se registra una venta de 19.904,4 unidades monetarias.  \n"
   ]
  },
  {
   "cell_type": "code",
   "execution_count": 67,
   "metadata": {},
   "outputs": [
    {
     "name": "stdout",
     "output_type": "stream",
     "text": [
      "19920.4\n",
      "5.0\n"
     ]
    }
   ],
   "source": [
    "print(orders['revenue'].max())\n",
    "print(orders['revenue'].min())"
   ]
  },
  {
   "cell_type": "markdown",
   "metadata": {},
   "source": [
    "### 8. Calcula los percentiles 95 y 99 de los precios de los pedidos. Define el punto en el cual un punto de datos se convierte en una anomalía."
   ]
  },
  {
   "cell_type": "code",
   "execution_count": 68,
   "metadata": {},
   "outputs": [
    {
     "data": {
      "text/plain": [
       "0.50     50.100\n",
       "0.95    414.275\n",
       "0.99    830.300\n",
       "Name: revenue, dtype: float64"
      ]
     },
     "execution_count": 68,
     "metadata": {},
     "output_type": "execute_result"
    }
   ],
   "source": [
    "orders['revenue'].quantile(q=[0.5, 0.95, 0.99])"
   ]
  },
  {
   "cell_type": "markdown",
   "metadata": {},
   "source": [
    "Con el cálculo de los percentiles 95 y 99 de los precios de los pedidos podemos observar que:\n",
    "- No más del 5% de los usuarios hacen compras mayores a 414.27 unidades monetarias.\n",
    "- No más del 1% de los usuarios hacen compras mayores a 830.3 unidades monetarias.\n",
    "- No más del 50% de los usuarios hacen compras mayores a 50.1 unidades monetarias.\n",
    "\n",
    "Confirmamos que, en efecto, la mayor proporción de usuarios realizan compras con precios cercanos a la mediana (50.1)."
   ]
  },
  {
   "cell_type": "markdown",
   "metadata": {},
   "source": [
    "### 9. Encuentra la significancia estadística de la diferencia en la conversión entre los grupos utilizando los datos en bruto. Haz conclusiones y conjeturas."
   ]
  },
  {
   "cell_type": "code",
   "execution_count": 69,
   "metadata": {},
   "outputs": [],
   "source": [
    "#Utilizando los datos sin procesar (datos antes de eliminar las anomalías):"
   ]
  },
  {
   "cell_type": "code",
   "execution_count": 70,
   "metadata": {},
   "outputs": [
    {
     "data": {
      "text/html": [
       "<div>\n",
       "<style scoped>\n",
       "    .dataframe tbody tr th:only-of-type {\n",
       "        vertical-align: middle;\n",
       "    }\n",
       "\n",
       "    .dataframe tbody tr th {\n",
       "        vertical-align: top;\n",
       "    }\n",
       "\n",
       "    .dataframe thead th {\n",
       "        text-align: right;\n",
       "    }\n",
       "</style>\n",
       "<table border=\"1\" class=\"dataframe\">\n",
       "  <thead>\n",
       "    <tr style=\"text-align: right;\">\n",
       "      <th></th>\n",
       "      <th>user_id</th>\n",
       "      <th>orders</th>\n",
       "    </tr>\n",
       "  </thead>\n",
       "  <tbody>\n",
       "    <tr>\n",
       "      <th>0</th>\n",
       "      <td>5114589</td>\n",
       "      <td>1</td>\n",
       "    </tr>\n",
       "    <tr>\n",
       "      <th>1</th>\n",
       "      <td>6958315</td>\n",
       "      <td>1</td>\n",
       "    </tr>\n",
       "    <tr>\n",
       "      <th>2</th>\n",
       "      <td>39475350</td>\n",
       "      <td>1</td>\n",
       "    </tr>\n",
       "    <tr>\n",
       "      <th>3</th>\n",
       "      <td>47206413</td>\n",
       "      <td>1</td>\n",
       "    </tr>\n",
       "    <tr>\n",
       "      <th>4</th>\n",
       "      <td>48147722</td>\n",
       "      <td>1</td>\n",
       "    </tr>\n",
       "    <tr>\n",
       "      <th>...</th>\n",
       "      <td>...</td>\n",
       "      <td>...</td>\n",
       "    </tr>\n",
       "    <tr>\n",
       "      <th>523</th>\n",
       "      <td>4251115836</td>\n",
       "      <td>1</td>\n",
       "    </tr>\n",
       "    <tr>\n",
       "      <th>524</th>\n",
       "      <td>4258103007</td>\n",
       "      <td>1</td>\n",
       "    </tr>\n",
       "    <tr>\n",
       "      <th>525</th>\n",
       "      <td>4279090005</td>\n",
       "      <td>1</td>\n",
       "    </tr>\n",
       "    <tr>\n",
       "      <th>526</th>\n",
       "      <td>4281247801</td>\n",
       "      <td>1</td>\n",
       "    </tr>\n",
       "    <tr>\n",
       "      <th>527</th>\n",
       "      <td>4283872382</td>\n",
       "      <td>1</td>\n",
       "    </tr>\n",
       "  </tbody>\n",
       "</table>\n",
       "<p>528 rows × 2 columns</p>\n",
       "</div>"
      ],
      "text/plain": [
       "        user_id  orders\n",
       "0       5114589       1\n",
       "1       6958315       1\n",
       "2      39475350       1\n",
       "3      47206413       1\n",
       "4      48147722       1\n",
       "..          ...     ...\n",
       "523  4251115836       1\n",
       "524  4258103007       1\n",
       "525  4279090005       1\n",
       "526  4281247801       1\n",
       "527  4283872382       1\n",
       "\n",
       "[528 rows x 2 columns]"
      ]
     },
     "execution_count": 70,
     "metadata": {},
     "output_type": "execute_result"
    }
   ],
   "source": [
    "#Creando las variables ordersByUsersA y ordersByUsersB para almacenar las columnas ['userId', 'orders']. \n",
    "#Para los usuarios con al menos un pedido, indicar el número de pedidos realizados.\n",
    "orders_by_users_a = (\n",
    "    orders[orders['group'] == 'A']\n",
    "    .groupby('visitor_id', as_index=False)\n",
    "    .agg({'transaction_id' : pd.Series.nunique})\n",
    ")\n",
    "orders_by_users_a.columns=['user_id', 'orders']\n",
    "#orders_by_users_a\n",
    "orders_by_users_b = (\n",
    "    orders[orders['group'] == 'B']\n",
    "    .groupby('visitor_id', as_index=False)\n",
    "    .agg({'transaction_id' : pd.Series.nunique})\n",
    ")\n",
    "orders_by_users_b.columns=['user_id', 'orders']\n",
    "orders_by_users_b"
   ]
  },
  {
   "cell_type": "code",
   "execution_count": 71,
   "metadata": {},
   "outputs": [
    {
     "name": "stdout",
     "output_type": "stream",
     "text": [
      "Valor p: 0.011\n",
      "Diferencia relativa en la conversión entre los grupos: 0.160\n"
     ]
    }
   ],
   "source": [
    "#Ahora declararemos las variables sampleA y sampleB, con usuarios de diferentes grupos y números de pedidos correspondientes. \n",
    "#Los que no pidieron nada tendrán un 0. \n",
    "#Esto es necesario para preparar las muestras para la prueba de Mann-Whitney.\n",
    "sample_A = pd.concat(\n",
    "    [\n",
    "       orders_by_users_a['orders'],\n",
    "       pd.Series(\n",
    "           0,\n",
    "           index=np.arange(\n",
    "               visits[visits['group'] == 'A']['visits'].sum()\n",
    "               - len(orders_by_users_a['orders'])\n",
    "           ),\n",
    "           name='orders',\n",
    "       ),\n",
    "    ],\n",
    "    axis=0,\n",
    ")\n",
    "#sample_A #almacena una muestra donde cada elemento es el número de pedidos realizados por cierto usuario, incluidos los ceros. Entonces, el número de elementos de sample_a es el número de usuarios, y la suma de todos los elementos es el número de pedidos.\n",
    "sample_B = pd.concat(\n",
    "    [\n",
    "       orders_by_users_b['orders'],\n",
    "       pd.Series(\n",
    "           0,\n",
    "           index=np.arange(\n",
    "               visits[visits['group'] == 'B']['visits'].sum()\n",
    "               - len(orders_by_users_b['orders'])\n",
    "           ),\n",
    "           name='orders',\n",
    "       ),\n",
    "    ],\n",
    "    axis=0,\n",
    ")\n",
    "#sample_B\n",
    "\n",
    "print(f\"Valor p: \"'{0:.3f}'.format(stats.mannwhitneyu(sample_A, sample_B)[1]))\n",
    "print(f\"Diferencia relativa en la conversión entre los grupos: \"'{0:.3f}'.format(sample_B.mean() / sample_A.mean() -1)) "
   ]
  },
  {
   "cell_type": "code",
   "execution_count": 72,
   "metadata": {},
   "outputs": [
    {
     "name": "stdout",
     "output_type": "stream",
     "text": [
      "p-value:  0.011018084110014696\n",
      "Hipótesis nula rechazada: Existen diferencias significativas entre las distribuciones de los dos grupos comparados\n"
     ]
    }
   ],
   "source": [
    "#La prueba no paramétrica de Wilcoxon-Mann-Whitney:\n",
    "\n",
    "alpha = .05 #nivel de significación\n",
    "\n",
    "results = stats.mannwhitneyu(sample_A, sample_B)\n",
    "\n",
    "print('p-value: ', results.pvalue)\n",
    "\n",
    "if (results.pvalue < alpha):\n",
    "    print(\"Hipótesis nula rechazada: Existen diferencias significativas entre las distribuciones de los dos grupos comparados\")\n",
    "else:\n",
    "    print(\"No se pudo rechazar la hipótesis nula: No podemos sacar conclusiones sobre la diferencia\")"
   ]
  },
  {
   "cell_type": "markdown",
   "metadata": {},
   "source": [
    "- El valor p es menor a 0.05 por lo que rechazamos la hiótesis nula. \n",
    "- El análisis de datos sin procesar mostró que las tasas de conversión de los grupos tienen diferencias estadísticamente significativas\n",
    "- La ganancia de conversión relativa del grupo B en comparación con el grupo A es del 16%"
   ]
  },
  {
   "cell_type": "markdown",
   "metadata": {},
   "source": [
    "### 10. Encuentra la significancia estadística de la diferencia en el tamaño promedio de pedido entre los grupos utilizando los datos en bruto. Haz conclusiones y conjeturas."
   ]
  },
  {
   "cell_type": "code",
   "execution_count": 73,
   "metadata": {},
   "outputs": [
    {
     "name": "stdout",
     "output_type": "stream",
     "text": [
      "Valor p: 0.862\n",
      "Diferencia relativa en el tamaño promedio de pedido entre los grupos: 0.278\n"
     ]
    }
   ],
   "source": [
    "#Para calcular la importancia estadística de la diferencia en el tamaño medio de los pedidos de los segmentos, \n",
    "#pasaremos los datos sobre los ingresos al criterio mannwhitneyu().\n",
    "#También encontraremos la diferencia relativa en el tamaño promedio de pedido entre los grupos:\n",
    "\n",
    "print(f\"Valor p: \"'{0:.3f}'.format(stats.mannwhitneyu(orders[orders['group']=='A']['revenue'], orders[orders['group']=='B']['revenue'])[1]))\n",
    "print(f\"Diferencia relativa en el tamaño promedio de pedido entre los grupos: \"'{0:.3f}'.format(orders[orders['group']=='B']['revenue'].mean()/orders[orders['group']=='A']['revenue'].mean()-1))\n"
   ]
  },
  {
   "cell_type": "markdown",
   "metadata": {},
   "source": [
    "- El valor p es superior a 0.05 por lo que no hay motivo para rechazar la hipótesis nula.\n",
    "- No existen diferencias estadísticamente significativas entre los tamaños de pedido promedio de los grupos.\n",
    "- La diferencia relativa en el tamaño promedio de pedido entre los grupos es de 27,8%\n",
    "- El tamaño de pedido promedio para el grupo B es 27,8% más grande que para el grupo A."
   ]
  },
  {
   "cell_type": "markdown",
   "metadata": {},
   "source": [
    "### 11. Encuentra la significancia estadística de la diferencia en la conversión entre los grupos utilizando los datos filtrados. Haz conclusiones y conjeturas."
   ]
  },
  {
   "cell_type": "markdown",
   "metadata": {},
   "source": [
    "1° Eliminar anomalías en los datos\n",
    "\n",
    "    Se considerará usuarios anómalos a aquellos que realizaron 2 o más pedidos o un medido mayor a $500. Así, se eliminará  el 1% de los usuarios con más pedidos y del 1% al 5% de los usuarios con los pedidos más caros."
   ]
  },
  {
   "cell_type": "code",
   "execution_count": 74,
   "metadata": {},
   "outputs": [
    {
     "name": "stdout",
     "output_type": "stream",
     "text": [
      "937    148427295\n",
      "792    204675465\n",
      "33     249864742\n",
      "586    358944393\n",
      "557    382846391\n",
      "dtype: int64\n",
      "(44,)\n"
     ]
    }
   ],
   "source": [
    "#Detectando valores anómalos \n",
    "#Creando slices de datos con los usuarios que realizaron más de dos pedidos \n",
    "#Creando slices de datos con los usuarios que realizaron pedidos por más de $500\n",
    "#Encontrando el número total de usuarios anómalos con el método shape()\n",
    "\n",
    "users_with_many_orders= pd.concat(\n",
    "    [\n",
    "        orders_by_users_a[orders_by_users_a['orders'] > 2]['user_id'],\n",
    "        orders_by_users_b[orders_by_users_b['orders'] > 2]['user_id'],\n",
    "    ],\n",
    "    axis=0,\n",
    ")\n",
    "users_with_expensive_orders = orders[orders['revenue'] > 500]['visitor_id']   \n",
    "\n",
    "abnormal_users= (\n",
    "    pd.concat([users_with_many_orders, users_with_expensive_orders], axis=0)\n",
    "    .drop_duplicates()\n",
    "    .sort_values()\n",
    ")\n",
    "print(abnormal_users.head()) \n",
    "print(abnormal_users.shape)\n",
    "#Se tiene un conjunto de usuarios anómalos\n",
    "#Después de eliminarlos, será el momento de calcular la significancia estadística.\n",
    "#Se necesita saber si los datos filtrados muestran alguna diferencia significativa entre los grupos"
   ]
  },
  {
   "cell_type": "markdown",
   "metadata": {},
   "source": [
    "En total se tienen 44 valores anómalos"
   ]
  },
  {
   "cell_type": "code",
   "execution_count": 75,
   "metadata": {},
   "outputs": [
    {
     "name": "stdout",
     "output_type": "stream",
     "text": [
      "Valor p: 0.007\n",
      "Diferencia relativa en la conversión entre los grupos: 0.193\n"
     ]
    }
   ],
   "source": [
    "#Eliminando los valores anómalos y calculando la significancia estadística de la diferencia de en la conversión:\n",
    "sample_A_filtered = pd.concat(\n",
    "    [\n",
    "        orders_by_users_a[\n",
    "            np.logical_not(orders_by_users_a['user_id'].isin(abnormal_users))\n",
    "        ]['orders'],\n",
    "        pd.Series(\n",
    "            0,\n",
    "            index=np.arange(\n",
    "                visits[visits['group'] == 'A']['visits'].sum()\n",
    "                - len(orders_by_users_a['orders'])\n",
    "            ),\n",
    "            name='orders',\n",
    "        ),\n",
    "    ],\n",
    "    axis=0,\n",
    ")\n",
    "\n",
    "sample_B_filtered = pd.concat(\n",
    "    [\n",
    "        orders_by_users_b[\n",
    "            np.logical_not(orders_by_users_b['user_id'].isin(abnormal_users))\n",
    "        ]['orders'],\n",
    "        pd.Series(\n",
    "            0,\n",
    "            index=np.arange(\n",
    "                visits[visits['group'] == 'B']['visits'].sum()\n",
    "                - len(orders_by_users_b['orders'])\n",
    "            ),\n",
    "            name='orders',\n",
    "        ),\n",
    "    ],\n",
    "    axis=0,\n",
    ")\n",
    "\n",
    "print(f\"Valor p: \"'{0:.3f}'.format(stats.mannwhitneyu(sample_A_filtered, sample_B_filtered)[1]))\n",
    "print(f\"Diferencia relativa en la conversión entre los grupos: \"'{0:.3f}'.format(sample_B_filtered.mean() / sample_A_filtered.mean() -1)) "
   ]
  },
  {
   "cell_type": "code",
   "execution_count": 76,
   "metadata": {},
   "outputs": [
    {
     "name": "stdout",
     "output_type": "stream",
     "text": [
      "p-value:  0.007458529152385988\n",
      "Hipótesis nula rechazada: existen diferencias significativas entre las distribuciones de los dos grupos comparados\n"
     ]
    }
   ],
   "source": [
    "#La prueba no paramétrica de Wilcoxon-Mann-Whitney:\n",
    "\n",
    "alpha = .05 #nivel de significación\n",
    "\n",
    "results2 = stats.mannwhitneyu(sample_A_filtered, sample_B_filtered)\n",
    "\n",
    "print('p-value: ', results2.pvalue)\n",
    "\n",
    "if (results.pvalue < alpha):\n",
    "    print(\"Hipótesis nula rechazada: existen diferencias significativas entre las distribuciones de los dos grupos comparados\")\n",
    "else:\n",
    "    print(\"No se pudo rechazar la hipótesis nula: no podemos sacar conclusiones sobre la diferencia\")"
   ]
  },
  {
   "cell_type": "markdown",
   "metadata": {},
   "source": [
    "Los resultados de conversión casi no cambiaron:\n",
    "- El valor p es menos a 0.05 por lo que rechazamos la hipótesis nula.\n",
    "- El análisis de datos sin procesar mostró que las tasas de conversión de los grupos tienen diferencias estadísticamente significativas.\n",
    "- La ganancia de conversión relativa del grupo B en comparación con el grupo A con los datos filtrados es del 19,3%"
   ]
  },
  {
   "cell_type": "markdown",
   "metadata": {},
   "source": [
    "### 12. Encuentra la significancia estadística de la diferencia en el tamaño promedio de pedido entre los grupos utilizando los datos filtrados. Haz conclusiones y conjeturas."
   ]
  },
  {
   "cell_type": "code",
   "execution_count": 77,
   "metadata": {},
   "outputs": [
    {
     "name": "stdout",
     "output_type": "stream",
     "text": [
      "Valor p: 0.889\n",
      "Diferencia relativa en el tamaño promedio de pedido entre los grupos: -0.001\n"
     ]
    }
   ],
   "source": [
    "print(f\"Valor p: \"'{0:.3f}'.format(stats.mannwhitneyu(\n",
    "    orders[np.logical_and(\n",
    "        orders['group']=='A',\n",
    "        np.logical_not(orders['visitor_id'].isin(abnormal_users)))]['revenue'],\n",
    "    orders[np.logical_and(\n",
    "        orders['group']=='B',\n",
    "        np.logical_not(orders['visitor_id'].isin(abnormal_users)))]['revenue'])[1]))\n",
    "\n",
    "print(f\"Diferencia relativa en el tamaño promedio de pedido entre los grupos: \"'{0:.3f}'.format(\n",
    "    orders[np.logical_and(orders['group']=='B', np.logical_not(orders['visitor_id'].isin(abnormal_users)))]['revenue'].mean()/\n",
    "    orders[np.logical_and(\n",
    "        orders['group']=='A', \n",
    "        np.logical_not(orders['visitor_id'].isin(abnormal_users)))]['revenue'].mean()-1))"
   ]
  },
  {
   "cell_type": "markdown",
   "metadata": {},
   "source": [
    "- El valor p aumetó ligeramente, pasando de 0.862 a 0.889.\n",
    "- El valor p es superior a 0.05 por lo que no hay motivo para rechazar la hipótesis nula.\n",
    "- No existen diferencias estadísticamente significativas entre los tamaños de pedido promedio de los grupos.\n",
    "- La diferencia relativa en el tamaño promedio de pedido entre los grupos sufrió una gran variación, pasando de 27,8% a -0,1%\n",
    "- Ahora, el tamaño de pedido promedio para el grupo B es 0,1% más pequeña que para el grupo A."
   ]
  },
  {
   "cell_type": "markdown",
   "metadata": {},
   "source": [
    "### Conclusiones\n",
    "\n",
    "- Hay una diferencia estadísticamente significativa en la conversión entre los grupos, según los datos sin procesar y filtrados.\n",
    "- Ni los datos sin procesar ni los filtrados revelaron diferencias estadísticamente significativas en el tamaño promedio de los pedidos entre los grupos.\n",
    "- El gráfico de la diferencia de conversión entre los grupos muestra que los resultados del grupo B son mejores que los del grupo A: tienen tendencia a crecer o se estabilizaron alrededor de la media ***Ver Gráfico 7***.\n",
    "- El gráfico de la diferencia en el tamaño promedio de compra muestra fluctuaciones: fue este gráfico el que te permitió detectar anomalías. Adicionalmente nos muestra que los resultados del grupo B se estabilizaron y actualmente son un 27,83% más altos que los del grupo A ***Ver Gráfico 6***."
   ]
  },
  {
   "cell_type": "markdown",
   "metadata": {},
   "source": [
    "### 13. Toma una decisión basada en los resultados de la prueba. Las decisiones posibles son: 1. Para la prueba, considera a uno de los grupos como líder. 2. Para la prueba, concluye que no hay diferencia entre los grupos. 3. Continúa la prueba."
   ]
  },
  {
   "cell_type": "markdown",
   "metadata": {},
   "source": [
    "A considerar:\n",
    "\n",
    "- 1. Existe una diferencia significativa en la tasa de conversión para ambos grupos. Por lo tanto podemos concluír que el grupo B es lider. Al tener una mayor tasa de conversión, (el grupo B) está conviertiendo más visitas en ventas que el grupo A.\n",
    "- 2. Al no existir diferecnias significativas en el tamaño promedio de los pedidos, interpretamos que ningún grupo está endiendo productos mucho mas caros que otros.\n",
    "- 3. El volumen de ventas totales depende de el número de compradores por el tamaño de compra promedio \n",
    "\n",
    "Entonces:\n",
    "\n",
    "- 1. El grupo B genera más ventas.\n",
    "- 2. Ambos grupos tienen un tamaño promedio de ventas similar.\n",
    "- 3. La diferencia en las ventas de ambos grupos está explicada unicamente por la diferencia en el número de compradores de cada grupo. El grupo B convierte más visitantes en compradores. El orto lado de la ecuacion (tamaño promedio) se mantiene constante (al no haber diferencias significativas).\n",
    "\n",
    "Por lo tanto:\n",
    "\n",
    "> Paramos la prueba y concluímos que fue exitosa. Consideramos al Grupo B como lider. "
   ]
  }
 ],
 "metadata": {
  "ExecuteTimeLog": [
   {
    "duration": 7692,
    "start_time": "2024-06-29T18:53:02.558Z"
   },
   {
    "duration": 5,
    "start_time": "2024-06-29T18:55:46.605Z"
   },
   {
    "duration": 2626,
    "start_time": "2024-06-29T18:56:05.470Z"
   },
   {
    "duration": 8,
    "start_time": "2024-06-29T18:59:51.340Z"
   },
   {
    "duration": 2652,
    "start_time": "2024-06-29T19:00:04.328Z"
   },
   {
    "duration": 7,
    "start_time": "2024-06-29T19:00:08.629Z"
   },
   {
    "duration": 4,
    "start_time": "2024-06-29T19:00:20.258Z"
   },
   {
    "duration": 1450,
    "start_time": "2024-06-29T19:01:47.220Z"
   },
   {
    "duration": 17,
    "start_time": "2024-06-29T19:06:50.830Z"
   },
   {
    "duration": 13,
    "start_time": "2024-06-29T19:08:18.201Z"
   },
   {
    "duration": 9,
    "start_time": "2024-06-29T19:08:26.235Z"
   },
   {
    "duration": 1334,
    "start_time": "2024-06-29T19:09:04.530Z"
   },
   {
    "duration": 92,
    "start_time": "2024-06-29T19:09:12.316Z"
   },
   {
    "duration": 6,
    "start_time": "2024-06-29T19:09:25.469Z"
   },
   {
    "duration": 22,
    "start_time": "2024-06-29T19:09:38.648Z"
   },
   {
    "duration": 94,
    "start_time": "2024-06-29T19:09:42.163Z"
   },
   {
    "duration": 6,
    "start_time": "2024-06-29T19:10:01.068Z"
   },
   {
    "duration": 13,
    "start_time": "2024-06-29T19:10:08.872Z"
   },
   {
    "duration": 9,
    "start_time": "2024-06-29T19:10:20.433Z"
   },
   {
    "duration": 12,
    "start_time": "2024-06-29T19:16:07.127Z"
   },
   {
    "duration": 14,
    "start_time": "2024-06-29T19:16:14.439Z"
   },
   {
    "duration": 16,
    "start_time": "2024-06-29T19:24:13.260Z"
   },
   {
    "duration": 15,
    "start_time": "2024-06-29T19:25:28.596Z"
   },
   {
    "duration": 6,
    "start_time": "2024-06-29T19:30:17.608Z"
   },
   {
    "duration": 9,
    "start_time": "2024-06-29T19:30:31.243Z"
   },
   {
    "duration": 11,
    "start_time": "2024-06-29T19:30:40.600Z"
   },
   {
    "duration": 8,
    "start_time": "2024-06-29T19:34:41.372Z"
   },
   {
    "duration": 3,
    "start_time": "2024-06-29T19:35:39.332Z"
   },
   {
    "duration": 8,
    "start_time": "2024-06-29T19:35:46.456Z"
   },
   {
    "duration": 7,
    "start_time": "2024-06-29T19:35:50.302Z"
   },
   {
    "duration": 6,
    "start_time": "2024-06-29T19:38:05.228Z"
   },
   {
    "duration": 23,
    "start_time": "2024-06-29T19:43:22.497Z"
   },
   {
    "duration": 9,
    "start_time": "2024-06-29T19:43:33.073Z"
   },
   {
    "duration": 7,
    "start_time": "2024-06-29T19:45:51.493Z"
   },
   {
    "duration": 9,
    "start_time": "2024-06-29T19:46:18.512Z"
   },
   {
    "duration": 10,
    "start_time": "2024-06-29T19:46:38.309Z"
   },
   {
    "duration": 9,
    "start_time": "2024-06-29T19:46:43.885Z"
   },
   {
    "duration": 8,
    "start_time": "2024-06-29T19:46:47.925Z"
   },
   {
    "duration": 7,
    "start_time": "2024-06-29T19:49:53.365Z"
   },
   {
    "duration": 7,
    "start_time": "2024-06-29T19:50:16.985Z"
   },
   {
    "duration": 8,
    "start_time": "2024-06-29T19:50:20.267Z"
   },
   {
    "duration": 23,
    "start_time": "2024-06-29T19:56:38.883Z"
   },
   {
    "duration": 13,
    "start_time": "2024-06-29T19:57:45.741Z"
   },
   {
    "duration": 11,
    "start_time": "2024-06-29T19:58:14.131Z"
   },
   {
    "duration": 18,
    "start_time": "2024-06-29T19:58:21.243Z"
   },
   {
    "duration": 10,
    "start_time": "2024-06-29T19:59:08.244Z"
   },
   {
    "duration": 7,
    "start_time": "2024-06-29T19:59:52.047Z"
   },
   {
    "duration": 19,
    "start_time": "2024-06-29T20:00:07.258Z"
   },
   {
    "duration": 24,
    "start_time": "2024-06-29T20:00:29.103Z"
   },
   {
    "duration": 27,
    "start_time": "2024-06-29T20:01:35.690Z"
   },
   {
    "duration": 22,
    "start_time": "2024-06-29T20:02:29.287Z"
   },
   {
    "duration": 20,
    "start_time": "2024-06-29T20:03:21.276Z"
   },
   {
    "duration": 19,
    "start_time": "2024-06-29T20:04:13.408Z"
   },
   {
    "duration": 20,
    "start_time": "2024-06-29T20:05:19.130Z"
   },
   {
    "duration": 19,
    "start_time": "2024-06-29T20:05:47.954Z"
   },
   {
    "duration": 6,
    "start_time": "2024-06-29T20:06:40.388Z"
   },
   {
    "duration": 9,
    "start_time": "2024-06-29T20:07:17.971Z"
   },
   {
    "duration": 19,
    "start_time": "2024-06-29T20:07:22.352Z"
   },
   {
    "duration": 23,
    "start_time": "2024-06-29T20:48:15.967Z"
   },
   {
    "duration": 83,
    "start_time": "2024-06-29T21:13:44.189Z"
   },
   {
    "duration": 77,
    "start_time": "2024-06-29T21:14:07.526Z"
   },
   {
    "duration": 87,
    "start_time": "2024-06-29T21:14:12.062Z"
   },
   {
    "duration": 81,
    "start_time": "2024-06-29T21:15:02.514Z"
   },
   {
    "duration": 78,
    "start_time": "2024-06-29T21:22:05.540Z"
   },
   {
    "duration": 9,
    "start_time": "2024-06-29T21:22:18.334Z"
   },
   {
    "duration": 82,
    "start_time": "2024-06-29T21:22:32.684Z"
   },
   {
    "duration": 82,
    "start_time": "2024-06-29T21:25:42.216Z"
   },
   {
    "duration": 1481,
    "start_time": "2024-06-29T21:25:52.319Z"
   },
   {
    "duration": 23,
    "start_time": "2024-06-29T21:25:53.804Z"
   },
   {
    "duration": 14,
    "start_time": "2024-06-29T21:25:53.832Z"
   },
   {
    "duration": 15,
    "start_time": "2024-06-29T21:25:53.850Z"
   },
   {
    "duration": 17,
    "start_time": "2024-06-29T21:25:53.871Z"
   },
   {
    "duration": 9,
    "start_time": "2024-06-29T21:25:53.931Z"
   },
   {
    "duration": 15,
    "start_time": "2024-06-29T21:25:53.944Z"
   },
   {
    "duration": 9,
    "start_time": "2024-06-29T21:25:53.963Z"
   },
   {
    "duration": 53,
    "start_time": "2024-06-29T21:25:53.978Z"
   },
   {
    "duration": 11,
    "start_time": "2024-06-29T21:25:54.035Z"
   },
   {
    "duration": 14,
    "start_time": "2024-06-29T21:25:54.051Z"
   },
   {
    "duration": 8,
    "start_time": "2024-06-29T21:25:54.069Z"
   },
   {
    "duration": 54,
    "start_time": "2024-06-29T21:25:54.081Z"
   },
   {
    "duration": 8,
    "start_time": "2024-06-29T21:25:54.140Z"
   },
   {
    "duration": 11,
    "start_time": "2024-06-29T21:25:54.151Z"
   },
   {
    "duration": 21,
    "start_time": "2024-06-29T21:25:54.164Z"
   },
   {
    "duration": 10,
    "start_time": "2024-06-29T21:25:54.232Z"
   },
   {
    "duration": 6,
    "start_time": "2024-06-29T21:25:54.246Z"
   },
   {
    "duration": 16,
    "start_time": "2024-06-29T21:25:54.255Z"
   },
   {
    "duration": 8,
    "start_time": "2024-06-29T21:31:33.231Z"
   },
   {
    "duration": 797,
    "start_time": "2024-06-29T21:50:15.020Z"
   },
   {
    "duration": 24,
    "start_time": "2024-06-29T21:50:22.864Z"
   },
   {
    "duration": 42,
    "start_time": "2024-06-29T21:50:43.029Z"
   },
   {
    "duration": 24,
    "start_time": "2024-06-29T21:50:48.781Z"
   },
   {
    "duration": 6,
    "start_time": "2024-06-29T21:51:45.213Z"
   },
   {
    "duration": 20,
    "start_time": "2024-06-29T21:51:54.933Z"
   },
   {
    "duration": 21,
    "start_time": "2024-06-29T21:56:03.596Z"
   },
   {
    "duration": 10,
    "start_time": "2024-06-29T22:06:41.607Z"
   },
   {
    "duration": 6,
    "start_time": "2024-06-29T22:06:48.406Z"
   },
   {
    "duration": 6,
    "start_time": "2024-06-29T22:07:24.766Z"
   },
   {
    "duration": 10,
    "start_time": "2024-06-29T22:07:27.166Z"
   },
   {
    "duration": 7,
    "start_time": "2024-06-29T22:07:32.869Z"
   },
   {
    "duration": 10,
    "start_time": "2024-06-29T22:07:42.756Z"
   },
   {
    "duration": 544,
    "start_time": "2024-06-29T22:12:57.026Z"
   },
   {
    "duration": 18,
    "start_time": "2024-06-29T22:13:03.826Z"
   },
   {
    "duration": 20,
    "start_time": "2024-06-29T22:13:16.625Z"
   },
   {
    "duration": 12,
    "start_time": "2024-06-29T22:14:21.426Z"
   },
   {
    "duration": 12,
    "start_time": "2024-06-29T22:14:30.721Z"
   },
   {
    "duration": 10,
    "start_time": "2024-06-29T22:15:16.215Z"
   },
   {
    "duration": 12,
    "start_time": "2024-06-29T22:15:25.335Z"
   },
   {
    "duration": 10,
    "start_time": "2024-06-29T22:15:30.766Z"
   },
   {
    "duration": 12,
    "start_time": "2024-06-29T22:15:46.697Z"
   },
   {
    "duration": 24,
    "start_time": "2024-06-29T22:18:32.018Z"
   },
   {
    "duration": 12,
    "start_time": "2024-06-29T22:18:49.008Z"
   },
   {
    "duration": 18,
    "start_time": "2024-06-29T22:20:59.368Z"
   },
   {
    "duration": 14,
    "start_time": "2024-06-29T23:24:10.510Z"
   },
   {
    "duration": 13,
    "start_time": "2024-06-29T23:33:30.492Z"
   },
   {
    "duration": 17,
    "start_time": "2024-06-29T23:44:16.203Z"
   },
   {
    "duration": 12,
    "start_time": "2024-06-29T23:44:35.166Z"
   },
   {
    "duration": 13,
    "start_time": "2024-06-29T23:44:39.014Z"
   },
   {
    "duration": 21,
    "start_time": "2024-06-29T23:44:52.151Z"
   },
   {
    "duration": 19,
    "start_time": "2024-06-29T23:54:02.609Z"
   },
   {
    "duration": 5191,
    "start_time": "2024-06-30T16:21:29.436Z"
   },
   {
    "duration": 28,
    "start_time": "2024-06-30T16:21:34.631Z"
   },
   {
    "duration": 14,
    "start_time": "2024-06-30T16:21:34.662Z"
   },
   {
    "duration": 13,
    "start_time": "2024-06-30T16:21:34.680Z"
   },
   {
    "duration": 16,
    "start_time": "2024-06-30T16:21:34.714Z"
   },
   {
    "duration": 6,
    "start_time": "2024-06-30T16:21:34.733Z"
   },
   {
    "duration": 17,
    "start_time": "2024-06-30T16:21:34.742Z"
   },
   {
    "duration": 8,
    "start_time": "2024-06-30T16:21:34.762Z"
   },
   {
    "duration": 10,
    "start_time": "2024-06-30T16:21:34.813Z"
   },
   {
    "duration": 11,
    "start_time": "2024-06-30T16:21:34.829Z"
   },
   {
    "duration": 13,
    "start_time": "2024-06-30T16:21:34.844Z"
   },
   {
    "duration": 7,
    "start_time": "2024-06-30T16:21:34.860Z"
   },
   {
    "duration": 55,
    "start_time": "2024-06-30T16:21:34.870Z"
   },
   {
    "duration": 8,
    "start_time": "2024-06-30T16:21:34.929Z"
   },
   {
    "duration": 9,
    "start_time": "2024-06-30T16:21:34.940Z"
   },
   {
    "duration": 13,
    "start_time": "2024-06-30T16:21:34.952Z"
   },
   {
    "duration": 55,
    "start_time": "2024-06-30T16:21:34.968Z"
   },
   {
    "duration": 7,
    "start_time": "2024-06-30T16:21:35.026Z"
   },
   {
    "duration": 22,
    "start_time": "2024-06-30T16:21:35.037Z"
   },
   {
    "duration": 63,
    "start_time": "2024-06-30T16:21:35.063Z"
   },
   {
    "duration": 18,
    "start_time": "2024-06-30T16:21:35.129Z"
   },
   {
    "duration": 20,
    "start_time": "2024-06-30T16:21:35.151Z"
   },
   {
    "duration": 48,
    "start_time": "2024-06-30T16:21:35.174Z"
   },
   {
    "duration": 23,
    "start_time": "2024-06-30T16:23:04.200Z"
   },
   {
    "duration": 10,
    "start_time": "2024-06-30T16:27:30.466Z"
   },
   {
    "duration": 11,
    "start_time": "2024-06-30T16:27:33.674Z"
   },
   {
    "duration": 13,
    "start_time": "2024-06-30T16:27:59.090Z"
   },
   {
    "duration": 427,
    "start_time": "2024-06-30T16:29:22.154Z"
   },
   {
    "duration": 26,
    "start_time": "2024-06-30T16:29:25.738Z"
   },
   {
    "duration": 7,
    "start_time": "2024-06-30T16:29:29.291Z"
   },
   {
    "duration": 5191,
    "start_time": "2024-07-03T23:31:25.561Z"
   },
   {
    "duration": 26,
    "start_time": "2024-07-03T23:31:30.756Z"
   },
   {
    "duration": 13,
    "start_time": "2024-07-03T23:31:30.785Z"
   },
   {
    "duration": 14,
    "start_time": "2024-07-03T23:31:30.813Z"
   },
   {
    "duration": 17,
    "start_time": "2024-07-03T23:31:30.832Z"
   },
   {
    "duration": 7,
    "start_time": "2024-07-03T23:31:30.855Z"
   },
   {
    "duration": 56,
    "start_time": "2024-07-03T23:31:30.865Z"
   },
   {
    "duration": 10,
    "start_time": "2024-07-03T23:31:30.924Z"
   },
   {
    "duration": 9,
    "start_time": "2024-07-03T23:31:30.937Z"
   },
   {
    "duration": 12,
    "start_time": "2024-07-03T23:31:30.949Z"
   },
   {
    "duration": 50,
    "start_time": "2024-07-03T23:31:30.967Z"
   },
   {
    "duration": 5,
    "start_time": "2024-07-03T23:31:31.021Z"
   },
   {
    "duration": 14,
    "start_time": "2024-07-03T23:31:31.029Z"
   },
   {
    "duration": 8,
    "start_time": "2024-07-03T23:31:31.050Z"
   },
   {
    "duration": 54,
    "start_time": "2024-07-03T23:31:31.060Z"
   },
   {
    "duration": 9,
    "start_time": "2024-07-03T23:31:31.117Z"
   },
   {
    "duration": 20,
    "start_time": "2024-07-03T23:31:31.129Z"
   },
   {
    "duration": 6,
    "start_time": "2024-07-03T23:31:31.153Z"
   },
   {
    "duration": 63,
    "start_time": "2024-07-03T23:31:31.163Z"
   },
   {
    "duration": 23,
    "start_time": "2024-07-03T23:31:31.230Z"
   },
   {
    "duration": 19,
    "start_time": "2024-07-03T23:31:31.256Z"
   },
   {
    "duration": 49,
    "start_time": "2024-07-03T23:31:31.278Z"
   },
   {
    "duration": 14,
    "start_time": "2024-07-03T23:31:31.330Z"
   },
   {
    "duration": 7,
    "start_time": "2024-07-03T23:31:31.346Z"
   },
   {
    "duration": 0,
    "start_time": "2024-07-03T23:31:31.356Z"
   },
   {
    "duration": 0,
    "start_time": "2024-07-03T23:31:31.359Z"
   },
   {
    "duration": 0,
    "start_time": "2024-07-03T23:31:31.362Z"
   },
   {
    "duration": 0,
    "start_time": "2024-07-03T23:31:31.365Z"
   },
   {
    "duration": 17,
    "start_time": "2024-07-03T23:39:41.997Z"
   },
   {
    "duration": 19,
    "start_time": "2024-07-03T23:45:15.855Z"
   },
   {
    "duration": 19,
    "start_time": "2024-07-03T23:46:18.292Z"
   },
   {
    "duration": 5,
    "start_time": "2024-07-04T00:47:25.847Z"
   },
   {
    "duration": 20,
    "start_time": "2024-07-04T00:47:30.747Z"
   },
   {
    "duration": 11,
    "start_time": "2024-07-04T00:48:01.930Z"
   },
   {
    "duration": 13,
    "start_time": "2024-07-04T00:48:04.315Z"
   },
   {
    "duration": 8,
    "start_time": "2024-07-04T00:48:10.612Z"
   },
   {
    "duration": 5084,
    "start_time": "2024-07-04T14:18:30.653Z"
   },
   {
    "duration": 33,
    "start_time": "2024-07-04T14:18:35.742Z"
   },
   {
    "duration": 13,
    "start_time": "2024-07-04T14:18:35.778Z"
   },
   {
    "duration": 13,
    "start_time": "2024-07-04T14:18:35.795Z"
   },
   {
    "duration": 31,
    "start_time": "2024-07-04T14:18:35.812Z"
   },
   {
    "duration": 6,
    "start_time": "2024-07-04T14:18:35.846Z"
   },
   {
    "duration": 13,
    "start_time": "2024-07-04T14:18:35.857Z"
   },
   {
    "duration": 7,
    "start_time": "2024-07-04T14:18:35.874Z"
   },
   {
    "duration": 53,
    "start_time": "2024-07-04T14:18:35.884Z"
   },
   {
    "duration": 7,
    "start_time": "2024-07-04T14:18:35.943Z"
   },
   {
    "duration": 19,
    "start_time": "2024-07-04T14:18:35.954Z"
   },
   {
    "duration": 7,
    "start_time": "2024-07-04T14:18:35.977Z"
   },
   {
    "duration": 58,
    "start_time": "2024-07-04T14:18:35.987Z"
   },
   {
    "duration": 9,
    "start_time": "2024-07-04T14:18:36.049Z"
   },
   {
    "duration": 11,
    "start_time": "2024-07-04T14:18:36.062Z"
   },
   {
    "duration": 56,
    "start_time": "2024-07-04T14:18:36.076Z"
   },
   {
    "duration": 19,
    "start_time": "2024-07-04T14:18:36.135Z"
   },
   {
    "duration": 7,
    "start_time": "2024-07-04T14:18:36.156Z"
   },
   {
    "duration": 20,
    "start_time": "2024-07-04T14:18:36.166Z"
   },
   {
    "duration": 20,
    "start_time": "2024-07-04T14:18:36.230Z"
   },
   {
    "duration": 6,
    "start_time": "2024-07-04T14:18:36.253Z"
   },
   {
    "duration": 18,
    "start_time": "2024-07-04T14:18:36.262Z"
   },
   {
    "duration": 48,
    "start_time": "2024-07-04T14:18:36.282Z"
   },
   {
    "duration": 7,
    "start_time": "2024-07-04T14:18:36.333Z"
   },
   {
    "duration": 0,
    "start_time": "2024-07-04T14:18:36.343Z"
   },
   {
    "duration": 0,
    "start_time": "2024-07-04T14:18:36.344Z"
   },
   {
    "duration": 0,
    "start_time": "2024-07-04T14:18:36.346Z"
   },
   {
    "duration": 0,
    "start_time": "2024-07-04T14:18:36.349Z"
   },
   {
    "duration": 11,
    "start_time": "2024-07-04T14:18:44.202Z"
   },
   {
    "duration": 14,
    "start_time": "2024-07-04T14:18:46.702Z"
   },
   {
    "duration": 7,
    "start_time": "2024-07-04T14:18:50.877Z"
   },
   {
    "duration": 10,
    "start_time": "2024-07-04T14:29:06.746Z"
   },
   {
    "duration": 396,
    "start_time": "2024-07-04T14:33:29.693Z"
   },
   {
    "duration": 405,
    "start_time": "2024-07-04T14:33:38.054Z"
   },
   {
    "duration": 26,
    "start_time": "2024-07-04T14:34:24.173Z"
   },
   {
    "duration": 14,
    "start_time": "2024-07-04T14:34:28.385Z"
   },
   {
    "duration": 16,
    "start_time": "2024-07-04T14:39:35.718Z"
   },
   {
    "duration": 17,
    "start_time": "2024-07-04T14:46:03.483Z"
   },
   {
    "duration": 501,
    "start_time": "2024-07-04T14:58:55.210Z"
   },
   {
    "duration": 79,
    "start_time": "2024-07-04T15:01:32.873Z"
   },
   {
    "duration": 76,
    "start_time": "2024-07-04T15:01:47.446Z"
   },
   {
    "duration": 798,
    "start_time": "2024-07-04T15:02:52.638Z"
   },
   {
    "duration": 29,
    "start_time": "2024-07-04T15:03:09.790Z"
   },
   {
    "duration": 170,
    "start_time": "2024-07-04T15:03:14.577Z"
   },
   {
    "duration": 7,
    "start_time": "2024-07-04T15:03:41.517Z"
   },
   {
    "duration": 77,
    "start_time": "2024-07-04T15:03:48.105Z"
   },
   {
    "duration": 30,
    "start_time": "2024-07-04T15:06:18.420Z"
   },
   {
    "duration": 25,
    "start_time": "2024-07-04T15:07:07.483Z"
   },
   {
    "duration": 178,
    "start_time": "2024-07-04T15:07:21.219Z"
   },
   {
    "duration": 177,
    "start_time": "2024-07-04T15:07:44.098Z"
   },
   {
    "duration": 26,
    "start_time": "2024-07-04T15:08:24.234Z"
   },
   {
    "duration": 167,
    "start_time": "2024-07-04T15:08:53.750Z"
   },
   {
    "duration": 170,
    "start_time": "2024-07-04T15:09:29.318Z"
   },
   {
    "duration": 166,
    "start_time": "2024-07-04T15:10:00.734Z"
   },
   {
    "duration": 171,
    "start_time": "2024-07-04T15:10:04.366Z"
   },
   {
    "duration": 81,
    "start_time": "2024-07-04T15:10:21.678Z"
   },
   {
    "duration": 15,
    "start_time": "2024-07-04T15:11:00.051Z"
   },
   {
    "duration": 4,
    "start_time": "2024-07-04T15:44:04.995Z"
   },
   {
    "duration": 11,
    "start_time": "2024-07-04T15:50:18.734Z"
   },
   {
    "duration": 11,
    "start_time": "2024-07-04T15:52:25.824Z"
   },
   {
    "duration": 11,
    "start_time": "2024-07-04T15:52:33.586Z"
   },
   {
    "duration": 17,
    "start_time": "2024-07-04T15:53:00.373Z"
   },
   {
    "duration": 12,
    "start_time": "2024-07-04T15:53:49.061Z"
   },
   {
    "duration": 11,
    "start_time": "2024-07-04T15:54:07.681Z"
   },
   {
    "duration": 11,
    "start_time": "2024-07-04T15:54:13.058Z"
   },
   {
    "duration": 6,
    "start_time": "2024-07-04T15:54:40.310Z"
   },
   {
    "duration": 7,
    "start_time": "2024-07-04T15:54:50.719Z"
   },
   {
    "duration": 7,
    "start_time": "2024-07-04T15:55:25.086Z"
   },
   {
    "duration": 11,
    "start_time": "2024-07-04T15:56:03.731Z"
   },
   {
    "duration": 12,
    "start_time": "2024-07-04T15:56:10.115Z"
   },
   {
    "duration": 12,
    "start_time": "2024-07-04T15:56:15.307Z"
   },
   {
    "duration": 11,
    "start_time": "2024-07-04T16:01:35.704Z"
   },
   {
    "duration": 13,
    "start_time": "2024-07-04T16:01:45.636Z"
   },
   {
    "duration": 10,
    "start_time": "2024-07-04T16:04:26.150Z"
   },
   {
    "duration": 974,
    "start_time": "2024-07-04T16:04:31.466Z"
   },
   {
    "duration": 111,
    "start_time": "2024-07-04T16:05:11.808Z"
   },
   {
    "duration": 122,
    "start_time": "2024-07-04T16:05:43.136Z"
   },
   {
    "duration": 117,
    "start_time": "2024-07-04T16:07:29.925Z"
   },
   {
    "duration": 174,
    "start_time": "2024-07-04T16:14:49.001Z"
   },
   {
    "duration": 80,
    "start_time": "2024-07-04T16:15:22.466Z"
   },
   {
    "duration": 40,
    "start_time": "2024-07-04T16:20:47.941Z"
   },
   {
    "duration": 37,
    "start_time": "2024-07-04T16:20:58.319Z"
   },
   {
    "duration": 113,
    "start_time": "2024-07-04T16:21:40.883Z"
   },
   {
    "duration": 108,
    "start_time": "2024-07-04T16:21:55.117Z"
   },
   {
    "duration": 37,
    "start_time": "2024-07-04T16:22:37.997Z"
   },
   {
    "duration": 118,
    "start_time": "2024-07-04T16:27:30.931Z"
   },
   {
    "duration": 40,
    "start_time": "2024-07-04T16:30:44.905Z"
   },
   {
    "duration": 40,
    "start_time": "2024-07-04T16:31:37.634Z"
   },
   {
    "duration": 37,
    "start_time": "2024-07-04T16:31:53.466Z"
   },
   {
    "duration": 106,
    "start_time": "2024-07-04T16:32:31.383Z"
   },
   {
    "duration": 110,
    "start_time": "2024-07-04T16:32:44.304Z"
   },
   {
    "duration": 75,
    "start_time": "2024-07-04T17:18:56.459Z"
   },
   {
    "duration": 9,
    "start_time": "2024-07-04T17:19:59.706Z"
   },
   {
    "duration": 97,
    "start_time": "2024-07-04T17:20:29.086Z"
   },
   {
    "duration": 94,
    "start_time": "2024-07-04T17:20:49.142Z"
   },
   {
    "duration": 100,
    "start_time": "2024-07-04T17:21:10.687Z"
   },
   {
    "duration": 436,
    "start_time": "2024-07-04T17:21:39.613Z"
   },
   {
    "duration": 229,
    "start_time": "2024-07-04T17:21:46.475Z"
   },
   {
    "duration": 114,
    "start_time": "2024-07-04T17:22:44.892Z"
   },
   {
    "duration": 94,
    "start_time": "2024-07-04T17:22:49.565Z"
   },
   {
    "duration": 190,
    "start_time": "2024-07-04T17:23:11.967Z"
   },
   {
    "duration": 74,
    "start_time": "2024-07-04T17:23:20.117Z"
   },
   {
    "duration": 16,
    "start_time": "2024-07-04T17:29:01.211Z"
   },
   {
    "duration": 61,
    "start_time": "2024-07-04T17:29:52.318Z"
   },
   {
    "duration": 145,
    "start_time": "2024-07-04T17:30:08.566Z"
   },
   {
    "duration": 15,
    "start_time": "2024-07-04T17:30:25.703Z"
   },
   {
    "duration": 16,
    "start_time": "2024-07-04T17:31:44.132Z"
   },
   {
    "duration": 16,
    "start_time": "2024-07-04T17:32:24.015Z"
   },
   {
    "duration": 17,
    "start_time": "2024-07-04T17:33:22.221Z"
   },
   {
    "duration": 26,
    "start_time": "2024-07-04T17:33:49.678Z"
   },
   {
    "duration": 74,
    "start_time": "2024-07-04T17:34:27.030Z"
   },
   {
    "duration": 69,
    "start_time": "2024-07-04T17:38:48.733Z"
   },
   {
    "duration": 69,
    "start_time": "2024-07-04T17:40:10.865Z"
   },
   {
    "duration": 65,
    "start_time": "2024-07-04T17:40:27.781Z"
   },
   {
    "duration": 174,
    "start_time": "2024-07-04T17:40:50.637Z"
   },
   {
    "duration": 65,
    "start_time": "2024-07-04T17:40:59.858Z"
   },
   {
    "duration": 64,
    "start_time": "2024-07-04T17:41:05.441Z"
   },
   {
    "duration": 131,
    "start_time": "2024-07-04T17:43:31.638Z"
   },
   {
    "duration": 64,
    "start_time": "2024-07-04T17:43:44.161Z"
   },
   {
    "duration": 66,
    "start_time": "2024-07-04T17:44:38.981Z"
   },
   {
    "duration": 67,
    "start_time": "2024-07-04T17:45:19.917Z"
   },
   {
    "duration": 36,
    "start_time": "2024-07-04T17:45:30.467Z"
   },
   {
    "duration": 28,
    "start_time": "2024-07-04T17:46:15.414Z"
   },
   {
    "duration": 81,
    "start_time": "2024-07-04T17:46:21.985Z"
   },
   {
    "duration": 7,
    "start_time": "2024-07-04T17:47:54.577Z"
   },
   {
    "duration": 6,
    "start_time": "2024-07-04T17:48:34.273Z"
   },
   {
    "duration": 14,
    "start_time": "2024-07-04T17:48:43.073Z"
   },
   {
    "duration": 6,
    "start_time": "2024-07-04T17:48:55.147Z"
   },
   {
    "duration": 7,
    "start_time": "2024-07-04T17:49:24.889Z"
   },
   {
    "duration": 28,
    "start_time": "2024-07-04T17:49:38.665Z"
   },
   {
    "duration": 255,
    "start_time": "2024-07-04T17:49:49.862Z"
   },
   {
    "duration": 7,
    "start_time": "2024-07-04T17:52:33.869Z"
   },
   {
    "duration": 62,
    "start_time": "2024-07-04T17:55:59.821Z"
   },
   {
    "duration": 6,
    "start_time": "2024-07-04T17:56:03.922Z"
   },
   {
    "duration": 5,
    "start_time": "2024-07-04T17:56:31.043Z"
   },
   {
    "duration": 5,
    "start_time": "2024-07-04T17:56:36.062Z"
   },
   {
    "duration": 10,
    "start_time": "2024-07-04T17:56:39.026Z"
   },
   {
    "duration": 8,
    "start_time": "2024-07-04T17:58:26.702Z"
   },
   {
    "duration": 12,
    "start_time": "2024-07-04T17:58:37.863Z"
   },
   {
    "duration": 6,
    "start_time": "2024-07-04T17:58:48.542Z"
   },
   {
    "duration": 19,
    "start_time": "2024-07-04T18:14:08.847Z"
   },
   {
    "duration": 18,
    "start_time": "2024-07-04T18:14:30.783Z"
   },
   {
    "duration": 28,
    "start_time": "2024-07-04T18:15:52.931Z"
   },
   {
    "duration": 6,
    "start_time": "2024-07-04T18:16:00.864Z"
   },
   {
    "duration": 3,
    "start_time": "2024-07-04T18:16:43.963Z"
   },
   {
    "duration": 24,
    "start_time": "2024-07-04T18:17:26.709Z"
   },
   {
    "duration": 30,
    "start_time": "2024-07-04T18:17:43.718Z"
   },
   {
    "duration": 18,
    "start_time": "2024-07-04T18:18:54.759Z"
   },
   {
    "duration": 6,
    "start_time": "2024-07-04T18:19:29.941Z"
   },
   {
    "duration": 19,
    "start_time": "2024-07-04T18:19:34.191Z"
   },
   {
    "duration": 83,
    "start_time": "2024-07-04T18:23:18.574Z"
   },
   {
    "duration": 71,
    "start_time": "2024-07-04T18:23:21.947Z"
   },
   {
    "duration": 26,
    "start_time": "2024-07-04T18:25:44.872Z"
   },
   {
    "duration": 183,
    "start_time": "2024-07-04T18:25:54.391Z"
   },
   {
    "duration": 66,
    "start_time": "2024-07-04T18:26:15.955Z"
   },
   {
    "duration": 4,
    "start_time": "2024-07-04T18:28:37.126Z"
   },
   {
    "duration": 19,
    "start_time": "2024-07-04T18:28:53.918Z"
   },
   {
    "duration": 13,
    "start_time": "2024-07-04T18:29:48.162Z"
   },
   {
    "duration": 8,
    "start_time": "2024-07-04T18:30:32.292Z"
   },
   {
    "duration": 11,
    "start_time": "2024-07-04T18:31:04.381Z"
   },
   {
    "duration": 10,
    "start_time": "2024-07-04T18:31:14.932Z"
   },
   {
    "duration": 15,
    "start_time": "2024-07-04T18:32:04.899Z"
   },
   {
    "duration": 7,
    "start_time": "2024-07-04T18:36:40.078Z"
   },
   {
    "duration": 68,
    "start_time": "2024-07-04T18:37:00.494Z"
   },
   {
    "duration": 13,
    "start_time": "2024-07-04T18:38:46.591Z"
   },
   {
    "duration": 5,
    "start_time": "2024-07-04T18:40:17.285Z"
   },
   {
    "duration": 23,
    "start_time": "2024-07-04T18:40:21.779Z"
   },
   {
    "duration": 81,
    "start_time": "2024-07-04T18:40:42.876Z"
   },
   {
    "duration": 65,
    "start_time": "2024-07-04T18:41:21.390Z"
   },
   {
    "duration": 73,
    "start_time": "2024-07-04T18:42:08.620Z"
   },
   {
    "duration": 17,
    "start_time": "2024-07-04T18:46:00.653Z"
   },
   {
    "duration": 81,
    "start_time": "2024-07-04T18:47:22.728Z"
   },
   {
    "duration": 68,
    "start_time": "2024-07-04T18:51:02.070Z"
   },
   {
    "duration": 110,
    "start_time": "2024-07-04T18:51:46.520Z"
   },
   {
    "duration": 106,
    "start_time": "2024-07-04T18:52:02.792Z"
   },
   {
    "duration": 72,
    "start_time": "2024-07-04T18:52:10.067Z"
   },
   {
    "duration": 70,
    "start_time": "2024-07-04T18:56:25.491Z"
   },
   {
    "duration": 68,
    "start_time": "2024-07-04T19:23:09.813Z"
   },
   {
    "duration": 23,
    "start_time": "2024-07-04T19:35:52.227Z"
   },
   {
    "duration": 17,
    "start_time": "2024-07-04T19:41:03.613Z"
   },
   {
    "duration": 27,
    "start_time": "2024-07-04T19:41:09.285Z"
   },
   {
    "duration": 18,
    "start_time": "2024-07-04T19:41:11.777Z"
   },
   {
    "duration": 9,
    "start_time": "2024-07-04T19:41:56.862Z"
   },
   {
    "duration": 13,
    "start_time": "2024-07-04T19:48:05.950Z"
   },
   {
    "duration": 172,
    "start_time": "2024-07-04T19:48:27.614Z"
   },
   {
    "duration": 186,
    "start_time": "2024-07-04T19:48:41.717Z"
   },
   {
    "duration": 175,
    "start_time": "2024-07-04T19:48:57.080Z"
   },
   {
    "duration": 177,
    "start_time": "2024-07-04T19:49:33.326Z"
   },
   {
    "duration": 172,
    "start_time": "2024-07-04T19:49:36.542Z"
   },
   {
    "duration": 23,
    "start_time": "2024-07-04T19:49:46.931Z"
   },
   {
    "duration": 19,
    "start_time": "2024-07-04T19:49:49.994Z"
   },
   {
    "duration": 27,
    "start_time": "2024-07-04T19:50:56.378Z"
   },
   {
    "duration": 13,
    "start_time": "2024-07-04T19:51:00.408Z"
   },
   {
    "duration": 6,
    "start_time": "2024-07-04T19:51:23.992Z"
   },
   {
    "duration": 12,
    "start_time": "2024-07-04T19:51:32.785Z"
   },
   {
    "duration": 64,
    "start_time": "2024-07-04T19:51:41.425Z"
   },
   {
    "duration": 62,
    "start_time": "2024-07-04T19:54:15.224Z"
   },
   {
    "duration": 26,
    "start_time": "2024-07-04T19:54:23.966Z"
   },
   {
    "duration": 34,
    "start_time": "2024-07-04T19:54:31.750Z"
   },
   {
    "duration": 17,
    "start_time": "2024-07-04T19:55:26.854Z"
   },
   {
    "duration": 32,
    "start_time": "2024-07-04T19:55:29.701Z"
   },
   {
    "duration": 176,
    "start_time": "2024-07-04T19:55:37.494Z"
   },
   {
    "duration": 64,
    "start_time": "2024-07-04T19:55:53.330Z"
   },
   {
    "duration": 19,
    "start_time": "2024-07-04T20:04:11.669Z"
   },
   {
    "duration": 14,
    "start_time": "2024-07-04T20:05:15.980Z"
   },
   {
    "duration": 24,
    "start_time": "2024-07-04T20:05:24.074Z"
   },
   {
    "duration": 24,
    "start_time": "2024-07-04T20:05:30.310Z"
   },
   {
    "duration": 26,
    "start_time": "2024-07-04T20:05:36.579Z"
   },
   {
    "duration": 23,
    "start_time": "2024-07-04T20:05:40.467Z"
   },
   {
    "duration": 23,
    "start_time": "2024-07-04T20:05:43.242Z"
   },
   {
    "duration": 25,
    "start_time": "2024-07-04T20:06:15.371Z"
   },
   {
    "duration": 17,
    "start_time": "2024-07-04T20:07:44.895Z"
   },
   {
    "duration": 5,
    "start_time": "2024-07-04T20:08:27.258Z"
   },
   {
    "duration": 9,
    "start_time": "2024-07-04T20:08:35.738Z"
   },
   {
    "duration": 7,
    "start_time": "2024-07-04T20:10:13.920Z"
   },
   {
    "duration": 14,
    "start_time": "2024-07-04T20:10:20.548Z"
   },
   {
    "duration": 16,
    "start_time": "2024-07-04T20:13:31.507Z"
   },
   {
    "duration": 16,
    "start_time": "2024-07-04T20:14:28.010Z"
   },
   {
    "duration": 12,
    "start_time": "2024-07-04T20:15:55.571Z"
   },
   {
    "duration": 90,
    "start_time": "2024-07-04T20:16:27.409Z"
   },
   {
    "duration": 18,
    "start_time": "2024-07-04T20:16:40.645Z"
   },
   {
    "duration": 19,
    "start_time": "2024-07-04T20:17:49.364Z"
   },
   {
    "duration": 18,
    "start_time": "2024-07-04T20:18:50.718Z"
   },
   {
    "duration": 11,
    "start_time": "2024-07-04T20:25:29.773Z"
   },
   {
    "duration": 43,
    "start_time": "2024-07-04T20:25:35.230Z"
   },
   {
    "duration": 500,
    "start_time": "2024-07-04T20:25:50.550Z"
   },
   {
    "duration": 26,
    "start_time": "2024-07-04T20:26:29.926Z"
   },
   {
    "duration": 165,
    "start_time": "2024-07-04T20:28:10.202Z"
   },
   {
    "duration": 173,
    "start_time": "2024-07-04T20:28:57.791Z"
   },
   {
    "duration": 14,
    "start_time": "2024-07-04T20:29:50.211Z"
   },
   {
    "duration": 15,
    "start_time": "2024-07-04T20:30:09.315Z"
   },
   {
    "duration": 9,
    "start_time": "2024-07-04T20:30:29.252Z"
   },
   {
    "duration": 16,
    "start_time": "2024-07-04T20:30:40.346Z"
   },
   {
    "duration": 10,
    "start_time": "2024-07-04T20:33:08.034Z"
   },
   {
    "duration": 11,
    "start_time": "2024-07-04T20:34:06.408Z"
   },
   {
    "duration": 10,
    "start_time": "2024-07-04T20:34:40.731Z"
   },
   {
    "duration": 12,
    "start_time": "2024-07-04T20:36:47.131Z"
   },
   {
    "duration": 151,
    "start_time": "2024-07-04T20:38:35.363Z"
   },
   {
    "duration": 19,
    "start_time": "2024-07-04T20:40:42.517Z"
   },
   {
    "duration": 17,
    "start_time": "2024-07-04T20:41:19.646Z"
   },
   {
    "duration": 34,
    "start_time": "2024-07-04T20:41:37.365Z"
   },
   {
    "duration": 18,
    "start_time": "2024-07-04T20:41:50.773Z"
   },
   {
    "duration": 93,
    "start_time": "2024-07-04T20:44:26.488Z"
   },
   {
    "duration": 158,
    "start_time": "2024-07-04T20:44:34.108Z"
   },
   {
    "duration": 25,
    "start_time": "2024-07-04T20:44:44.167Z"
   },
   {
    "duration": 26,
    "start_time": "2024-07-04T20:45:06.636Z"
   },
   {
    "duration": 25,
    "start_time": "2024-07-04T20:45:39.450Z"
   },
   {
    "duration": 27,
    "start_time": "2024-07-04T20:46:03.299Z"
   },
   {
    "duration": 100,
    "start_time": "2024-07-04T20:46:37.348Z"
   },
   {
    "duration": 28,
    "start_time": "2024-07-04T20:47:04.557Z"
   },
   {
    "duration": 25,
    "start_time": "2024-07-04T20:47:59.669Z"
   },
   {
    "duration": 25,
    "start_time": "2024-07-04T20:48:27.719Z"
   },
   {
    "duration": 443,
    "start_time": "2024-07-04T20:48:39.212Z"
   },
   {
    "duration": 28,
    "start_time": "2024-07-04T20:49:11.255Z"
   },
   {
    "duration": 28,
    "start_time": "2024-07-04T20:51:05.355Z"
   },
   {
    "duration": 68,
    "start_time": "2024-07-04T20:51:12.315Z"
   },
   {
    "duration": 26,
    "start_time": "2024-07-04T20:52:43.067Z"
   },
   {
    "duration": 24,
    "start_time": "2024-07-04T20:54:49.285Z"
   },
   {
    "duration": 44,
    "start_time": "2024-07-04T20:55:25.420Z"
   },
   {
    "duration": 31,
    "start_time": "2024-07-04T20:56:05.895Z"
   },
   {
    "duration": 24,
    "start_time": "2024-07-04T20:56:32.062Z"
   },
   {
    "duration": 28,
    "start_time": "2024-07-04T20:57:01.719Z"
   },
   {
    "duration": 24,
    "start_time": "2024-07-04T20:57:40.584Z"
   },
   {
    "duration": 30,
    "start_time": "2024-07-04T20:58:53.839Z"
   },
   {
    "duration": 25,
    "start_time": "2024-07-04T20:59:19.355Z"
   },
   {
    "duration": 27,
    "start_time": "2024-07-04T21:02:38.291Z"
   },
   {
    "duration": 25,
    "start_time": "2024-07-04T21:03:19.798Z"
   },
   {
    "duration": 10,
    "start_time": "2024-07-04T21:06:05.547Z"
   },
   {
    "duration": 25,
    "start_time": "2024-07-04T21:06:13.443Z"
   },
   {
    "duration": 24,
    "start_time": "2024-07-04T21:06:47.259Z"
   },
   {
    "duration": 306,
    "start_time": "2024-07-04T21:08:21.285Z"
   },
   {
    "duration": 25,
    "start_time": "2024-07-04T21:08:34.859Z"
   },
   {
    "duration": 169,
    "start_time": "2024-07-04T21:08:58.067Z"
   },
   {
    "duration": 210,
    "start_time": "2024-07-04T21:10:03.608Z"
   },
   {
    "duration": 26,
    "start_time": "2024-07-04T21:10:21.119Z"
   },
   {
    "duration": 27,
    "start_time": "2024-07-04T21:10:31.456Z"
   },
   {
    "duration": 25,
    "start_time": "2024-07-04T21:10:42.732Z"
   },
   {
    "duration": 7,
    "start_time": "2024-07-04T21:11:57.151Z"
   },
   {
    "duration": 6,
    "start_time": "2024-07-04T21:12:08.675Z"
   },
   {
    "duration": 24,
    "start_time": "2024-07-04T21:13:11.112Z"
   },
   {
    "duration": 11,
    "start_time": "2024-07-04T21:15:20.845Z"
   },
   {
    "duration": 26,
    "start_time": "2024-07-04T21:15:29.317Z"
   },
   {
    "duration": 5097,
    "start_time": "2024-07-06T20:15:01.963Z"
   },
   {
    "duration": 28,
    "start_time": "2024-07-06T20:15:07.064Z"
   },
   {
    "duration": 4,
    "start_time": "2024-07-06T20:15:07.095Z"
   },
   {
    "duration": 15,
    "start_time": "2024-07-06T20:15:07.104Z"
   },
   {
    "duration": 14,
    "start_time": "2024-07-06T20:15:07.122Z"
   },
   {
    "duration": 15,
    "start_time": "2024-07-06T20:15:07.139Z"
   },
   {
    "duration": 46,
    "start_time": "2024-07-06T20:15:07.157Z"
   },
   {
    "duration": 15,
    "start_time": "2024-07-06T20:15:07.206Z"
   },
   {
    "duration": 7,
    "start_time": "2024-07-06T20:15:07.224Z"
   },
   {
    "duration": 9,
    "start_time": "2024-07-06T20:15:07.237Z"
   },
   {
    "duration": 52,
    "start_time": "2024-07-06T20:15:07.249Z"
   },
   {
    "duration": 19,
    "start_time": "2024-07-06T20:15:07.304Z"
   },
   {
    "duration": 6,
    "start_time": "2024-07-06T20:15:07.326Z"
   },
   {
    "duration": 15,
    "start_time": "2024-07-06T20:15:07.335Z"
   },
   {
    "duration": 53,
    "start_time": "2024-07-06T20:15:07.353Z"
   },
   {
    "duration": 9,
    "start_time": "2024-07-06T20:15:07.409Z"
   },
   {
    "duration": 10,
    "start_time": "2024-07-06T20:15:07.421Z"
   },
   {
    "duration": 20,
    "start_time": "2024-07-06T20:15:07.434Z"
   },
   {
    "duration": 48,
    "start_time": "2024-07-06T20:15:07.457Z"
   },
   {
    "duration": 21,
    "start_time": "2024-07-06T20:15:07.508Z"
   },
   {
    "duration": 22,
    "start_time": "2024-07-06T20:15:07.531Z"
   },
   {
    "duration": 46,
    "start_time": "2024-07-06T20:15:07.556Z"
   },
   {
    "duration": 20,
    "start_time": "2024-07-06T20:15:07.605Z"
   },
   {
    "duration": 439,
    "start_time": "2024-07-06T20:15:07.628Z"
   },
   {
    "duration": 0,
    "start_time": "2024-07-06T20:15:08.071Z"
   },
   {
    "duration": 0,
    "start_time": "2024-07-06T20:15:08.073Z"
   },
   {
    "duration": 0,
    "start_time": "2024-07-06T20:15:08.074Z"
   },
   {
    "duration": 0,
    "start_time": "2024-07-06T20:15:08.076Z"
   },
   {
    "duration": 0,
    "start_time": "2024-07-06T20:15:08.078Z"
   },
   {
    "duration": 0,
    "start_time": "2024-07-06T20:15:08.080Z"
   },
   {
    "duration": 0,
    "start_time": "2024-07-06T20:15:08.103Z"
   },
   {
    "duration": 0,
    "start_time": "2024-07-06T20:15:08.104Z"
   },
   {
    "duration": 0,
    "start_time": "2024-07-06T20:15:08.108Z"
   },
   {
    "duration": 0,
    "start_time": "2024-07-06T20:15:08.110Z"
   },
   {
    "duration": 0,
    "start_time": "2024-07-06T20:15:08.112Z"
   },
   {
    "duration": 0,
    "start_time": "2024-07-06T20:15:08.114Z"
   },
   {
    "duration": 0,
    "start_time": "2024-07-06T20:15:08.116Z"
   },
   {
    "duration": 0,
    "start_time": "2024-07-06T20:15:08.118Z"
   },
   {
    "duration": 0,
    "start_time": "2024-07-06T20:15:08.119Z"
   },
   {
    "duration": 0,
    "start_time": "2024-07-06T20:15:08.122Z"
   },
   {
    "duration": 17,
    "start_time": "2024-07-06T20:18:01.190Z"
   },
   {
    "duration": 21,
    "start_time": "2024-07-06T20:18:02.757Z"
   },
   {
    "duration": 9,
    "start_time": "2024-07-06T20:18:04.182Z"
   },
   {
    "duration": 19,
    "start_time": "2024-07-06T20:18:04.394Z"
   },
   {
    "duration": 7,
    "start_time": "2024-07-06T20:18:04.535Z"
   },
   {
    "duration": 11,
    "start_time": "2024-07-06T20:18:05.358Z"
   },
   {
    "duration": 16,
    "start_time": "2024-07-06T20:18:05.530Z"
   },
   {
    "duration": 14,
    "start_time": "2024-07-06T20:18:05.670Z"
   },
   {
    "duration": 687,
    "start_time": "2024-07-06T20:18:05.826Z"
   },
   {
    "duration": 23,
    "start_time": "2024-07-06T20:18:06.517Z"
   },
   {
    "duration": 72,
    "start_time": "2024-07-06T20:18:06.611Z"
   },
   {
    "duration": 101,
    "start_time": "2024-07-06T20:18:07.226Z"
   },
   {
    "duration": 25,
    "start_time": "2024-07-06T20:18:08.126Z"
   },
   {
    "duration": 12,
    "start_time": "2024-07-06T20:18:08.154Z"
   },
   {
    "duration": 68,
    "start_time": "2024-07-06T20:18:08.173Z"
   },
   {
    "duration": 18,
    "start_time": "2024-07-06T20:20:47.834Z"
   },
   {
    "duration": 15,
    "start_time": "2024-07-06T20:21:54.331Z"
   },
   {
    "duration": 808,
    "start_time": "2024-07-06T20:24:05.268Z"
   },
   {
    "duration": 73,
    "start_time": "2024-07-06T20:24:19.935Z"
   },
   {
    "duration": 52,
    "start_time": "2024-07-06T20:24:40.191Z"
   },
   {
    "duration": 70,
    "start_time": "2024-07-06T20:25:52.122Z"
   },
   {
    "duration": 9,
    "start_time": "2024-07-06T22:06:37.013Z"
   },
   {
    "duration": 10,
    "start_time": "2024-07-06T22:09:24.606Z"
   },
   {
    "duration": 68,
    "start_time": "2024-07-06T22:10:20.468Z"
   },
   {
    "duration": 70,
    "start_time": "2024-07-06T22:10:57.115Z"
   },
   {
    "duration": 88,
    "start_time": "2024-07-06T22:11:57.594Z"
   },
   {
    "duration": 89,
    "start_time": "2024-07-06T22:12:45.734Z"
   },
   {
    "duration": 73,
    "start_time": "2024-07-06T22:12:54.800Z"
   },
   {
    "duration": 9,
    "start_time": "2024-07-06T22:14:41.925Z"
   },
   {
    "duration": 68,
    "start_time": "2024-07-06T22:14:51.222Z"
   },
   {
    "duration": 191,
    "start_time": "2024-07-06T22:16:09.099Z"
   },
   {
    "duration": 90,
    "start_time": "2024-07-06T22:16:14.003Z"
   },
   {
    "duration": 87,
    "start_time": "2024-07-06T22:16:24.418Z"
   },
   {
    "duration": 71,
    "start_time": "2024-07-06T22:18:58.620Z"
   },
   {
    "duration": 9,
    "start_time": "2024-07-06T22:19:31.428Z"
   },
   {
    "duration": 7,
    "start_time": "2024-07-06T22:19:36.559Z"
   },
   {
    "duration": 9,
    "start_time": "2024-07-06T22:19:51.864Z"
   },
   {
    "duration": 74,
    "start_time": "2024-07-06T22:20:05.655Z"
   },
   {
    "duration": 79,
    "start_time": "2024-07-07T00:21:40.950Z"
   },
   {
    "duration": 9,
    "start_time": "2024-07-07T00:27:09.830Z"
   },
   {
    "duration": 32,
    "start_time": "2024-07-07T00:27:21.392Z"
   },
   {
    "duration": 9,
    "start_time": "2024-07-07T00:28:33.505Z"
   },
   {
    "duration": 6,
    "start_time": "2024-07-07T00:28:40.902Z"
   },
   {
    "duration": 5,
    "start_time": "2024-07-07T00:28:45.023Z"
   },
   {
    "duration": 25,
    "start_time": "2024-07-07T00:29:54.230Z"
   },
   {
    "duration": 589,
    "start_time": "2024-07-07T00:30:11.014Z"
   },
   {
    "duration": 849,
    "start_time": "2024-07-07T00:30:24.221Z"
   },
   {
    "duration": 12,
    "start_time": "2024-07-07T00:30:34.463Z"
   },
   {
    "duration": 64,
    "start_time": "2024-07-07T00:30:57.986Z"
   },
   {
    "duration": 11,
    "start_time": "2024-07-07T00:31:07.890Z"
   },
   {
    "duration": 10,
    "start_time": "2024-07-07T00:31:26.019Z"
   },
   {
    "duration": 9,
    "start_time": "2024-07-07T00:32:01.138Z"
   },
   {
    "duration": 8,
    "start_time": "2024-07-07T00:32:11.863Z"
   },
   {
    "duration": 8,
    "start_time": "2024-07-07T00:32:20.689Z"
   },
   {
    "duration": 12,
    "start_time": "2024-07-07T00:32:40.148Z"
   },
   {
    "duration": 14,
    "start_time": "2024-07-07T00:32:49.947Z"
   },
   {
    "duration": 220,
    "start_time": "2024-07-07T00:34:47.395Z"
   },
   {
    "duration": 88,
    "start_time": "2024-07-07T00:35:14.975Z"
   },
   {
    "duration": 1126,
    "start_time": "2024-07-07T00:35:54.734Z"
   },
   {
    "duration": 10,
    "start_time": "2024-07-07T00:36:20.079Z"
   },
   {
    "duration": 4,
    "start_time": "2024-07-07T00:37:13.512Z"
   },
   {
    "duration": 8,
    "start_time": "2024-07-07T00:37:17.343Z"
   },
   {
    "duration": 14,
    "start_time": "2024-07-07T00:37:30.191Z"
   },
   {
    "duration": 26,
    "start_time": "2024-07-07T00:37:38.023Z"
   },
   {
    "duration": 7,
    "start_time": "2024-07-07T00:37:45.055Z"
   },
   {
    "duration": 4,
    "start_time": "2024-07-07T00:39:17.462Z"
   },
   {
    "duration": 7,
    "start_time": "2024-07-07T00:39:23.067Z"
   },
   {
    "duration": 7,
    "start_time": "2024-07-07T00:39:31.291Z"
   },
   {
    "duration": 40,
    "start_time": "2024-07-07T00:39:39.252Z"
   },
   {
    "duration": 7,
    "start_time": "2024-07-07T00:39:45.316Z"
   },
   {
    "duration": 7,
    "start_time": "2024-07-07T00:39:56.975Z"
   },
   {
    "duration": 10,
    "start_time": "2024-07-07T00:40:12.207Z"
   },
   {
    "duration": 7,
    "start_time": "2024-07-07T00:40:22.092Z"
   },
   {
    "duration": 8,
    "start_time": "2024-07-07T00:40:39.062Z"
   },
   {
    "duration": 16,
    "start_time": "2024-07-07T00:40:59.827Z"
   },
   {
    "duration": 15,
    "start_time": "2024-07-07T00:41:30.683Z"
   },
   {
    "duration": 7,
    "start_time": "2024-07-07T00:41:55.875Z"
   },
   {
    "duration": 10,
    "start_time": "2024-07-07T00:42:02.943Z"
   },
   {
    "duration": 9,
    "start_time": "2024-07-07T00:42:15.587Z"
   },
   {
    "duration": 72,
    "start_time": "2024-07-07T00:42:54.111Z"
   },
   {
    "duration": 1349,
    "start_time": "2024-07-07T00:43:17.116Z"
   },
   {
    "duration": 228,
    "start_time": "2024-07-07T00:43:33.960Z"
   },
   {
    "duration": 234,
    "start_time": "2024-07-07T00:43:43.935Z"
   },
   {
    "duration": 84,
    "start_time": "2024-07-07T00:44:05.154Z"
   },
   {
    "duration": 245,
    "start_time": "2024-07-07T00:44:26.009Z"
   },
   {
    "duration": 10,
    "start_time": "2024-07-07T00:45:52.428Z"
   },
   {
    "duration": 80,
    "start_time": "2024-07-07T00:45:58.349Z"
   },
   {
    "duration": 77,
    "start_time": "2024-07-07T00:46:36.757Z"
   },
   {
    "duration": 25,
    "start_time": "2024-07-07T00:47:11.906Z"
   },
   {
    "duration": 81,
    "start_time": "2024-07-07T00:47:18.604Z"
   },
   {
    "duration": 8,
    "start_time": "2024-07-07T00:47:34.829Z"
   },
   {
    "duration": 14,
    "start_time": "2024-07-07T00:49:16.220Z"
   },
   {
    "duration": 18,
    "start_time": "2024-07-07T00:49:21.539Z"
   },
   {
    "duration": 20,
    "start_time": "2024-07-07T00:49:43.490Z"
   },
   {
    "duration": 19,
    "start_time": "2024-07-07T00:49:48.930Z"
   },
   {
    "duration": 74,
    "start_time": "2024-07-07T00:50:48.999Z"
   },
   {
    "duration": 10,
    "start_time": "2024-07-07T00:50:59.372Z"
   },
   {
    "duration": 8,
    "start_time": "2024-07-07T00:51:53.215Z"
   },
   {
    "duration": 8,
    "start_time": "2024-07-07T00:52:44.999Z"
   },
   {
    "duration": 86,
    "start_time": "2024-07-07T00:54:15.956Z"
   },
   {
    "duration": 74,
    "start_time": "2024-07-07T00:54:20.659Z"
   },
   {
    "duration": 70,
    "start_time": "2024-07-07T00:54:31.533Z"
   },
   {
    "duration": 72,
    "start_time": "2024-07-07T00:55:07.022Z"
   },
   {
    "duration": 75,
    "start_time": "2024-07-07T00:55:16.542Z"
   },
   {
    "duration": 264,
    "start_time": "2024-07-07T00:55:36.445Z"
   },
   {
    "duration": 97,
    "start_time": "2024-07-07T00:55:42.582Z"
   },
   {
    "duration": 89,
    "start_time": "2024-07-07T00:56:28.130Z"
   },
   {
    "duration": 71,
    "start_time": "2024-07-07T00:57:04.471Z"
   },
   {
    "duration": 75,
    "start_time": "2024-07-07T00:57:18.963Z"
   },
   {
    "duration": 72,
    "start_time": "2024-07-07T00:58:44.991Z"
   },
   {
    "duration": 73,
    "start_time": "2024-07-07T01:00:52.800Z"
   },
   {
    "duration": 75,
    "start_time": "2024-07-07T01:11:14.354Z"
   },
   {
    "duration": 5070,
    "start_time": "2024-07-07T20:57:16.399Z"
   },
   {
    "duration": 23,
    "start_time": "2024-07-07T20:57:21.473Z"
   },
   {
    "duration": 4,
    "start_time": "2024-07-07T20:57:21.498Z"
   },
   {
    "duration": 24,
    "start_time": "2024-07-07T20:57:21.505Z"
   },
   {
    "duration": 13,
    "start_time": "2024-07-07T20:57:21.534Z"
   },
   {
    "duration": 14,
    "start_time": "2024-07-07T20:57:21.551Z"
   },
   {
    "duration": 7,
    "start_time": "2024-07-07T20:57:21.569Z"
   },
   {
    "duration": 56,
    "start_time": "2024-07-07T20:57:21.580Z"
   },
   {
    "duration": 7,
    "start_time": "2024-07-07T20:57:21.639Z"
   },
   {
    "duration": 9,
    "start_time": "2024-07-07T20:57:21.649Z"
   },
   {
    "duration": 7,
    "start_time": "2024-07-07T20:57:21.661Z"
   },
   {
    "duration": 28,
    "start_time": "2024-07-07T20:57:21.723Z"
   },
   {
    "duration": 10,
    "start_time": "2024-07-07T20:57:21.754Z"
   },
   {
    "duration": 20,
    "start_time": "2024-07-07T20:57:21.773Z"
   },
   {
    "duration": 30,
    "start_time": "2024-07-07T20:57:21.796Z"
   },
   {
    "duration": 10,
    "start_time": "2024-07-07T20:57:21.829Z"
   },
   {
    "duration": 9,
    "start_time": "2024-07-07T20:57:21.842Z"
   },
   {
    "duration": 21,
    "start_time": "2024-07-07T20:57:21.853Z"
   },
   {
    "duration": 52,
    "start_time": "2024-07-07T20:57:21.876Z"
   },
   {
    "duration": 21,
    "start_time": "2024-07-07T20:57:21.931Z"
   },
   {
    "duration": 19,
    "start_time": "2024-07-07T20:57:21.955Z"
   },
   {
    "duration": 46,
    "start_time": "2024-07-07T20:57:21.977Z"
   },
   {
    "duration": 21,
    "start_time": "2024-07-07T20:57:22.026Z"
   },
   {
    "duration": 431,
    "start_time": "2024-07-07T20:57:22.050Z"
   },
   {
    "duration": 0,
    "start_time": "2024-07-07T20:57:22.484Z"
   },
   {
    "duration": 0,
    "start_time": "2024-07-07T20:57:22.487Z"
   },
   {
    "duration": 0,
    "start_time": "2024-07-07T20:57:22.489Z"
   },
   {
    "duration": 0,
    "start_time": "2024-07-07T20:57:22.491Z"
   },
   {
    "duration": 0,
    "start_time": "2024-07-07T20:57:22.493Z"
   },
   {
    "duration": 0,
    "start_time": "2024-07-07T20:57:22.496Z"
   },
   {
    "duration": 0,
    "start_time": "2024-07-07T20:57:22.498Z"
   },
   {
    "duration": 0,
    "start_time": "2024-07-07T20:57:22.499Z"
   },
   {
    "duration": 0,
    "start_time": "2024-07-07T20:57:22.500Z"
   },
   {
    "duration": 0,
    "start_time": "2024-07-07T20:57:22.501Z"
   },
   {
    "duration": 0,
    "start_time": "2024-07-07T20:57:22.524Z"
   },
   {
    "duration": 0,
    "start_time": "2024-07-07T20:57:22.526Z"
   },
   {
    "duration": 0,
    "start_time": "2024-07-07T20:57:22.528Z"
   },
   {
    "duration": 0,
    "start_time": "2024-07-07T20:57:22.530Z"
   },
   {
    "duration": 0,
    "start_time": "2024-07-07T20:57:22.532Z"
   },
   {
    "duration": 0,
    "start_time": "2024-07-07T20:57:22.534Z"
   },
   {
    "duration": 0,
    "start_time": "2024-07-07T20:57:22.536Z"
   },
   {
    "duration": 0,
    "start_time": "2024-07-07T20:57:22.538Z"
   },
   {
    "duration": 0,
    "start_time": "2024-07-07T20:57:22.545Z"
   },
   {
    "duration": 0,
    "start_time": "2024-07-07T20:57:22.547Z"
   },
   {
    "duration": 12,
    "start_time": "2024-07-07T20:57:50.075Z"
   },
   {
    "duration": 17,
    "start_time": "2024-07-07T20:57:50.948Z"
   },
   {
    "duration": 10,
    "start_time": "2024-07-07T20:57:52.275Z"
   },
   {
    "duration": 15,
    "start_time": "2024-07-07T20:57:52.438Z"
   },
   {
    "duration": 7,
    "start_time": "2024-07-07T20:57:52.594Z"
   },
   {
    "duration": 11,
    "start_time": "2024-07-07T20:57:53.356Z"
   },
   {
    "duration": 19,
    "start_time": "2024-07-07T20:57:53.507Z"
   },
   {
    "duration": 14,
    "start_time": "2024-07-07T20:57:53.671Z"
   },
   {
    "duration": 557,
    "start_time": "2024-07-07T20:57:53.819Z"
   },
   {
    "duration": 21,
    "start_time": "2024-07-07T20:57:54.459Z"
   },
   {
    "duration": 69,
    "start_time": "2024-07-07T20:57:54.959Z"
   },
   {
    "duration": 75,
    "start_time": "2024-07-07T20:57:55.082Z"
   },
   {
    "duration": 15,
    "start_time": "2024-07-07T20:57:55.216Z"
   },
   {
    "duration": 13,
    "start_time": "2024-07-07T20:57:55.262Z"
   },
   {
    "duration": 31,
    "start_time": "2024-07-07T20:57:55.302Z"
   },
   {
    "duration": 19,
    "start_time": "2024-07-07T20:57:55.579Z"
   },
   {
    "duration": 72,
    "start_time": "2024-07-07T20:57:55.604Z"
   },
   {
    "duration": 19,
    "start_time": "2024-07-07T20:57:55.682Z"
   },
   {
    "duration": 105,
    "start_time": "2024-07-07T20:57:55.705Z"
   },
   {
    "duration": 18,
    "start_time": "2024-07-07T21:00:00.819Z"
   },
   {
    "duration": 14,
    "start_time": "2024-07-07T21:00:05.860Z"
   },
   {
    "duration": 19,
    "start_time": "2024-07-07T21:11:44.971Z"
   },
   {
    "duration": 18,
    "start_time": "2024-07-07T21:12:17.255Z"
   },
   {
    "duration": 19,
    "start_time": "2024-07-07T21:13:11.724Z"
   },
   {
    "duration": 24,
    "start_time": "2024-07-07T21:13:30.108Z"
   },
   {
    "duration": 32,
    "start_time": "2024-07-07T21:13:52.480Z"
   },
   {
    "duration": 21,
    "start_time": "2024-07-07T21:23:53.848Z"
   },
   {
    "duration": 4950,
    "start_time": "2024-07-08T15:44:12.880Z"
   },
   {
    "duration": 31,
    "start_time": "2024-07-08T15:44:17.834Z"
   },
   {
    "duration": 6,
    "start_time": "2024-07-08T15:44:17.867Z"
   },
   {
    "duration": 14,
    "start_time": "2024-07-08T15:44:17.877Z"
   },
   {
    "duration": 39,
    "start_time": "2024-07-08T15:44:17.897Z"
   },
   {
    "duration": 19,
    "start_time": "2024-07-08T15:44:17.939Z"
   },
   {
    "duration": 7,
    "start_time": "2024-07-08T15:44:17.960Z"
   },
   {
    "duration": 14,
    "start_time": "2024-07-08T15:44:17.970Z"
   },
   {
    "duration": 45,
    "start_time": "2024-07-08T15:44:17.987Z"
   },
   {
    "duration": 8,
    "start_time": "2024-07-08T15:44:18.035Z"
   },
   {
    "duration": 8,
    "start_time": "2024-07-08T15:44:18.046Z"
   },
   {
    "duration": 18,
    "start_time": "2024-07-08T15:44:18.057Z"
   },
   {
    "duration": 6,
    "start_time": "2024-07-08T15:44:18.078Z"
   },
   {
    "duration": 15,
    "start_time": "2024-07-08T15:44:18.135Z"
   },
   {
    "duration": 9,
    "start_time": "2024-07-08T15:44:18.152Z"
   },
   {
    "duration": 8,
    "start_time": "2024-07-08T15:44:18.164Z"
   },
   {
    "duration": 57,
    "start_time": "2024-07-08T15:44:18.175Z"
   },
   {
    "duration": 19,
    "start_time": "2024-07-08T15:44:18.235Z"
   },
   {
    "duration": 6,
    "start_time": "2024-07-08T15:44:18.258Z"
   },
   {
    "duration": 19,
    "start_time": "2024-07-08T15:44:18.268Z"
   },
   {
    "duration": 20,
    "start_time": "2024-07-08T15:44:18.330Z"
   },
   {
    "duration": 7,
    "start_time": "2024-07-08T15:44:18.353Z"
   },
   {
    "duration": 21,
    "start_time": "2024-07-08T15:44:18.364Z"
   },
   {
    "duration": 445,
    "start_time": "2024-07-08T15:44:18.389Z"
   },
   {
    "duration": 0,
    "start_time": "2024-07-08T15:44:18.837Z"
   },
   {
    "duration": 0,
    "start_time": "2024-07-08T15:44:18.839Z"
   },
   {
    "duration": 0,
    "start_time": "2024-07-08T15:44:18.842Z"
   },
   {
    "duration": 0,
    "start_time": "2024-07-08T15:44:18.845Z"
   },
   {
    "duration": 0,
    "start_time": "2024-07-08T15:44:18.848Z"
   },
   {
    "duration": 0,
    "start_time": "2024-07-08T15:44:18.849Z"
   },
   {
    "duration": 0,
    "start_time": "2024-07-08T15:44:18.851Z"
   },
   {
    "duration": 0,
    "start_time": "2024-07-08T15:44:18.853Z"
   },
   {
    "duration": 0,
    "start_time": "2024-07-08T15:44:18.855Z"
   },
   {
    "duration": 0,
    "start_time": "2024-07-08T15:44:18.857Z"
   },
   {
    "duration": 0,
    "start_time": "2024-07-08T15:44:18.860Z"
   },
   {
    "duration": 0,
    "start_time": "2024-07-08T15:44:18.862Z"
   },
   {
    "duration": 0,
    "start_time": "2024-07-08T15:44:18.864Z"
   },
   {
    "duration": 0,
    "start_time": "2024-07-08T15:44:18.865Z"
   },
   {
    "duration": 0,
    "start_time": "2024-07-08T15:44:18.866Z"
   },
   {
    "duration": 0,
    "start_time": "2024-07-08T15:44:18.868Z"
   },
   {
    "duration": 0,
    "start_time": "2024-07-08T15:44:18.870Z"
   },
   {
    "duration": 0,
    "start_time": "2024-07-08T15:44:18.871Z"
   },
   {
    "duration": 0,
    "start_time": "2024-07-08T15:44:18.873Z"
   },
   {
    "duration": 0,
    "start_time": "2024-07-08T15:44:18.935Z"
   },
   {
    "duration": 0,
    "start_time": "2024-07-08T15:44:18.937Z"
   },
   {
    "duration": 0,
    "start_time": "2024-07-08T15:44:18.939Z"
   },
   {
    "duration": 0,
    "start_time": "2024-07-08T15:44:18.942Z"
   },
   {
    "duration": 0,
    "start_time": "2024-07-08T15:44:18.945Z"
   },
   {
    "duration": 3,
    "start_time": "2024-07-08T15:44:45.428Z"
   },
   {
    "duration": 19,
    "start_time": "2024-07-08T15:44:48.472Z"
   },
   {
    "duration": 22,
    "start_time": "2024-07-08T15:44:48.630Z"
   },
   {
    "duration": 12,
    "start_time": "2024-07-08T15:44:49.172Z"
   },
   {
    "duration": 16,
    "start_time": "2024-07-08T15:44:49.313Z"
   },
   {
    "duration": 10,
    "start_time": "2024-07-08T15:44:49.435Z"
   },
   {
    "duration": 11,
    "start_time": "2024-07-08T15:44:50.124Z"
   },
   {
    "duration": 19,
    "start_time": "2024-07-08T15:44:50.256Z"
   },
   {
    "duration": 17,
    "start_time": "2024-07-08T15:44:50.424Z"
   },
   {
    "duration": 626,
    "start_time": "2024-07-08T15:44:50.584Z"
   },
   {
    "duration": 21,
    "start_time": "2024-07-08T15:44:51.323Z"
   },
   {
    "duration": 78,
    "start_time": "2024-07-08T15:44:51.460Z"
   },
   {
    "duration": 78,
    "start_time": "2024-07-08T15:44:52.536Z"
   },
   {
    "duration": 15,
    "start_time": "2024-07-08T15:44:53.126Z"
   },
   {
    "duration": 12,
    "start_time": "2024-07-08T15:44:53.395Z"
   },
   {
    "duration": 35,
    "start_time": "2024-07-08T15:44:53.555Z"
   },
   {
    "duration": 14,
    "start_time": "2024-07-08T15:44:53.987Z"
   },
   {
    "duration": 65,
    "start_time": "2024-07-08T15:44:54.140Z"
   },
   {
    "duration": 20,
    "start_time": "2024-07-08T15:44:54.548Z"
   },
   {
    "duration": 102,
    "start_time": "2024-07-08T15:44:54.713Z"
   },
   {
    "duration": 17,
    "start_time": "2024-07-08T15:44:55.171Z"
   },
   {
    "duration": 13,
    "start_time": "2024-07-08T15:44:55.331Z"
   },
   {
    "duration": 22,
    "start_time": "2024-07-08T15:44:55.467Z"
   },
   {
    "duration": 21,
    "start_time": "2024-07-08T15:44:55.771Z"
   },
   {
    "duration": 17,
    "start_time": "2024-07-08T15:46:34.092Z"
   },
   {
    "duration": 19,
    "start_time": "2024-07-08T15:46:38.805Z"
   },
   {
    "duration": 18,
    "start_time": "2024-07-08T15:59:19.040Z"
   },
   {
    "duration": 74,
    "start_time": "2024-07-08T16:01:37.076Z"
   },
   {
    "duration": 70,
    "start_time": "2024-07-08T16:04:54.410Z"
   },
   {
    "duration": 73,
    "start_time": "2024-07-08T16:05:28.474Z"
   },
   {
    "duration": 194,
    "start_time": "2024-07-08T16:07:01.774Z"
   },
   {
    "duration": 70,
    "start_time": "2024-07-08T16:07:26.442Z"
   },
   {
    "duration": 25,
    "start_time": "2024-07-08T16:09:02.802Z"
   },
   {
    "duration": 26,
    "start_time": "2024-07-08T16:09:24.868Z"
   },
   {
    "duration": 24,
    "start_time": "2024-07-08T16:09:37.205Z"
   },
   {
    "duration": 280,
    "start_time": "2024-07-08T16:10:17.635Z"
   },
   {
    "duration": 313,
    "start_time": "2024-07-08T16:10:41.100Z"
   },
   {
    "duration": 70,
    "start_time": "2024-07-08T16:11:05.989Z"
   },
   {
    "duration": 566,
    "start_time": "2024-07-08T16:14:24.135Z"
   },
   {
    "duration": 72,
    "start_time": "2024-07-08T16:18:09.803Z"
   },
   {
    "duration": 138,
    "start_time": "2024-07-08T16:18:25.395Z"
   },
   {
    "duration": 133,
    "start_time": "2024-07-08T16:19:06.032Z"
   },
   {
    "duration": 75,
    "start_time": "2024-07-08T16:19:12.732Z"
   },
   {
    "duration": 74,
    "start_time": "2024-07-08T16:20:17.091Z"
   },
   {
    "duration": 207,
    "start_time": "2024-07-08T16:34:02.314Z"
   },
   {
    "duration": 8,
    "start_time": "2024-07-08T16:34:46.125Z"
   },
   {
    "duration": 7,
    "start_time": "2024-07-08T16:34:50.628Z"
   },
   {
    "duration": 7,
    "start_time": "2024-07-08T16:35:00.307Z"
   },
   {
    "duration": 95,
    "start_time": "2024-07-08T17:44:37.221Z"
   },
   {
    "duration": 764,
    "start_time": "2024-07-08T17:44:53.309Z"
   },
   {
    "duration": 76,
    "start_time": "2024-07-08T17:45:20.263Z"
   },
   {
    "duration": 81,
    "start_time": "2024-07-08T17:45:31.839Z"
   },
   {
    "duration": 76,
    "start_time": "2024-07-08T17:45:40.489Z"
   },
   {
    "duration": 115,
    "start_time": "2024-07-08T17:45:45.582Z"
   },
   {
    "duration": 79,
    "start_time": "2024-07-08T17:46:02.425Z"
   },
   {
    "duration": 79,
    "start_time": "2024-07-08T17:46:24.953Z"
   },
   {
    "duration": 77,
    "start_time": "2024-07-08T17:49:24.470Z"
   },
   {
    "duration": 78,
    "start_time": "2024-07-08T17:49:58.517Z"
   },
   {
    "duration": 99,
    "start_time": "2024-07-08T17:50:16.299Z"
   },
   {
    "duration": 77,
    "start_time": "2024-07-08T17:50:28.339Z"
   },
   {
    "duration": 80,
    "start_time": "2024-07-08T17:50:38.862Z"
   },
   {
    "duration": 78,
    "start_time": "2024-07-08T17:50:57.777Z"
   },
   {
    "duration": 79,
    "start_time": "2024-07-08T17:51:25.990Z"
   },
   {
    "duration": 82,
    "start_time": "2024-07-08T17:51:33.078Z"
   },
   {
    "duration": 83,
    "start_time": "2024-07-08T17:51:42.182Z"
   },
   {
    "duration": 78,
    "start_time": "2024-07-08T17:52:00.898Z"
   },
   {
    "duration": 743,
    "start_time": "2024-07-08T17:53:43.000Z"
   },
   {
    "duration": 94,
    "start_time": "2024-07-08T17:53:57.002Z"
   },
   {
    "duration": 579,
    "start_time": "2024-07-08T17:55:09.278Z"
   },
   {
    "duration": 225,
    "start_time": "2024-07-08T17:55:19.810Z"
   },
   {
    "duration": 77,
    "start_time": "2024-07-08T17:55:44.150Z"
   },
   {
    "duration": 78,
    "start_time": "2024-07-08T17:56:34.126Z"
   },
   {
    "duration": 223,
    "start_time": "2024-07-08T17:59:08.975Z"
   },
   {
    "duration": 80,
    "start_time": "2024-07-08T17:59:16.814Z"
   },
   {
    "duration": 11,
    "start_time": "2024-07-08T17:59:30.902Z"
   },
   {
    "duration": 79,
    "start_time": "2024-07-08T17:59:35.122Z"
   },
   {
    "duration": 96,
    "start_time": "2024-07-08T17:59:41.967Z"
   },
   {
    "duration": 85,
    "start_time": "2024-07-08T17:59:47.051Z"
   },
   {
    "duration": 78,
    "start_time": "2024-07-08T17:59:51.078Z"
   },
   {
    "duration": 78,
    "start_time": "2024-07-08T17:59:56.067Z"
   },
   {
    "duration": 25,
    "start_time": "2024-07-08T18:00:26.891Z"
   },
   {
    "duration": 8,
    "start_time": "2024-07-08T18:00:30.528Z"
   },
   {
    "duration": 5,
    "start_time": "2024-07-08T18:02:51.439Z"
   },
   {
    "duration": 7,
    "start_time": "2024-07-08T18:03:00.358Z"
   },
   {
    "duration": 14,
    "start_time": "2024-07-08T18:03:05.007Z"
   },
   {
    "duration": 9,
    "start_time": "2024-07-08T18:03:22.902Z"
   },
   {
    "duration": 11,
    "start_time": "2024-07-08T18:03:34.655Z"
   },
   {
    "duration": 9,
    "start_time": "2024-07-08T18:03:44.166Z"
   },
   {
    "duration": 8,
    "start_time": "2024-07-08T18:05:14.658Z"
   },
   {
    "duration": 8,
    "start_time": "2024-07-08T18:05:25.119Z"
   },
   {
    "duration": 80,
    "start_time": "2024-07-08T18:19:08.601Z"
   },
   {
    "duration": 98,
    "start_time": "2024-07-08T18:19:25.921Z"
   },
   {
    "duration": 64,
    "start_time": "2024-07-08T18:22:12.759Z"
   },
   {
    "duration": 66,
    "start_time": "2024-07-08T18:22:25.425Z"
   },
   {
    "duration": 63,
    "start_time": "2024-07-08T18:22:46.156Z"
   },
   {
    "duration": 68,
    "start_time": "2024-07-08T18:23:10.794Z"
   },
   {
    "duration": 17,
    "start_time": "2024-07-08T18:25:08.271Z"
   },
   {
    "duration": 16,
    "start_time": "2024-07-08T18:25:30.630Z"
   },
   {
    "duration": 425,
    "start_time": "2024-07-08T18:29:57.274Z"
   },
   {
    "duration": 25,
    "start_time": "2024-07-08T18:38:56.383Z"
   },
   {
    "duration": 18,
    "start_time": "2024-07-08T18:39:26.187Z"
   },
   {
    "duration": 24,
    "start_time": "2024-07-08T18:39:29.363Z"
   },
   {
    "duration": 15,
    "start_time": "2024-07-08T18:39:32.891Z"
   },
   {
    "duration": 27,
    "start_time": "2024-07-08T18:39:41.019Z"
   },
   {
    "duration": 67,
    "start_time": "2024-07-08T18:40:35.287Z"
   },
   {
    "duration": 22,
    "start_time": "2024-07-08T18:41:14.539Z"
   },
   {
    "duration": 62,
    "start_time": "2024-07-08T18:41:17.427Z"
   },
   {
    "duration": 25,
    "start_time": "2024-07-08T18:42:29.617Z"
   },
   {
    "duration": 62,
    "start_time": "2024-07-08T18:42:33.984Z"
   },
   {
    "duration": 10,
    "start_time": "2024-07-08T18:46:51.673Z"
   },
   {
    "duration": 9,
    "start_time": "2024-07-08T18:52:03.727Z"
   },
   {
    "duration": 25,
    "start_time": "2024-07-08T18:52:11.974Z"
   },
   {
    "duration": 25,
    "start_time": "2024-07-08T18:52:17.205Z"
   },
   {
    "duration": 26,
    "start_time": "2024-07-08T18:52:21.389Z"
   },
   {
    "duration": 28,
    "start_time": "2024-07-08T18:52:27.932Z"
   },
   {
    "duration": 14,
    "start_time": "2024-07-08T18:52:30.605Z"
   },
   {
    "duration": 10,
    "start_time": "2024-07-08T18:52:42.053Z"
   },
   {
    "duration": 14,
    "start_time": "2024-07-08T18:53:01.951Z"
   },
   {
    "duration": 24,
    "start_time": "2024-07-08T18:55:30.506Z"
   },
   {
    "duration": 75,
    "start_time": "2024-07-08T18:55:36.161Z"
   },
   {
    "duration": 201,
    "start_time": "2024-07-08T18:56:09.275Z"
   },
   {
    "duration": 15,
    "start_time": "2024-07-08T18:59:37.919Z"
   },
   {
    "duration": 66,
    "start_time": "2024-07-08T19:01:08.972Z"
   },
   {
    "duration": 65,
    "start_time": "2024-07-08T19:03:44.165Z"
   },
   {
    "duration": 78,
    "start_time": "2024-07-08T19:07:02.194Z"
   },
   {
    "duration": 5,
    "start_time": "2024-07-08T19:07:30.062Z"
   },
   {
    "duration": 1152,
    "start_time": "2024-07-08T19:07:34.470Z"
   },
   {
    "duration": 6,
    "start_time": "2024-07-08T19:08:28.767Z"
   },
   {
    "duration": 68,
    "start_time": "2024-07-08T19:08:33.321Z"
   },
   {
    "duration": 69,
    "start_time": "2024-07-08T19:10:37.790Z"
   },
   {
    "duration": 70,
    "start_time": "2024-07-08T19:10:58.415Z"
   },
   {
    "duration": 67,
    "start_time": "2024-07-08T19:11:26.443Z"
   },
   {
    "duration": 7181,
    "start_time": "2024-07-08T21:28:08.940Z"
   },
   {
    "duration": 48,
    "start_time": "2024-07-08T21:28:16.126Z"
   },
   {
    "duration": 4,
    "start_time": "2024-07-08T21:28:16.178Z"
   },
   {
    "duration": 15,
    "start_time": "2024-07-08T21:28:16.188Z"
   },
   {
    "duration": 16,
    "start_time": "2024-07-08T21:28:16.207Z"
   },
   {
    "duration": 19,
    "start_time": "2024-07-08T21:28:16.226Z"
   },
   {
    "duration": 7,
    "start_time": "2024-07-08T21:28:16.249Z"
   },
   {
    "duration": 51,
    "start_time": "2024-07-08T21:28:16.260Z"
   },
   {
    "duration": 12,
    "start_time": "2024-07-08T21:28:16.317Z"
   },
   {
    "duration": 15,
    "start_time": "2024-07-08T21:28:16.340Z"
   },
   {
    "duration": 16,
    "start_time": "2024-07-08T21:28:16.362Z"
   },
   {
    "duration": 41,
    "start_time": "2024-07-08T21:28:16.385Z"
   },
   {
    "duration": 15,
    "start_time": "2024-07-08T21:28:16.430Z"
   },
   {
    "duration": 17,
    "start_time": "2024-07-08T21:28:16.449Z"
   },
   {
    "duration": 9,
    "start_time": "2024-07-08T21:28:16.470Z"
   },
   {
    "duration": 37,
    "start_time": "2024-07-08T21:28:16.482Z"
   },
   {
    "duration": 17,
    "start_time": "2024-07-08T21:28:16.526Z"
   },
   {
    "duration": 29,
    "start_time": "2024-07-08T21:28:16.546Z"
   },
   {
    "duration": 32,
    "start_time": "2024-07-08T21:28:16.581Z"
   },
   {
    "duration": 29,
    "start_time": "2024-07-08T21:28:16.618Z"
   },
   {
    "duration": 32,
    "start_time": "2024-07-08T21:28:16.651Z"
   },
   {
    "duration": 27,
    "start_time": "2024-07-08T21:28:16.687Z"
   },
   {
    "duration": 44,
    "start_time": "2024-07-08T21:28:16.718Z"
   },
   {
    "duration": 6,
    "start_time": "2024-07-08T21:28:16.773Z"
   },
   {
    "duration": 4,
    "start_time": "2024-07-08T21:28:16.790Z"
   },
   {
    "duration": 24,
    "start_time": "2024-07-08T21:28:16.803Z"
   },
   {
    "duration": 35,
    "start_time": "2024-07-08T21:28:16.832Z"
   },
   {
    "duration": 18,
    "start_time": "2024-07-08T21:28:16.886Z"
   },
   {
    "duration": 32,
    "start_time": "2024-07-08T21:28:16.915Z"
   },
   {
    "duration": 14,
    "start_time": "2024-07-08T21:28:16.958Z"
   },
   {
    "duration": 20,
    "start_time": "2024-07-08T21:28:16.983Z"
   },
   {
    "duration": 25,
    "start_time": "2024-07-08T21:28:17.014Z"
   },
   {
    "duration": 23,
    "start_time": "2024-07-08T21:28:17.052Z"
   },
   {
    "duration": 774,
    "start_time": "2024-07-08T21:28:17.086Z"
   },
   {
    "duration": 44,
    "start_time": "2024-07-08T21:28:17.873Z"
   },
   {
    "duration": 131,
    "start_time": "2024-07-08T21:28:17.921Z"
   },
   {
    "duration": 127,
    "start_time": "2024-07-08T21:28:18.056Z"
   },
   {
    "duration": 30,
    "start_time": "2024-07-08T21:28:18.187Z"
   },
   {
    "duration": 18,
    "start_time": "2024-07-08T21:28:18.221Z"
   },
   {
    "duration": 65,
    "start_time": "2024-07-08T21:28:18.244Z"
   },
   {
    "duration": 19,
    "start_time": "2024-07-08T21:28:18.313Z"
   },
   {
    "duration": 121,
    "start_time": "2024-07-08T21:28:18.337Z"
   },
   {
    "duration": 25,
    "start_time": "2024-07-08T21:28:18.462Z"
   },
   {
    "duration": 209,
    "start_time": "2024-07-08T21:28:18.514Z"
   },
   {
    "duration": 29,
    "start_time": "2024-07-08T21:28:18.728Z"
   },
   {
    "duration": 24,
    "start_time": "2024-07-08T21:28:18.760Z"
   },
   {
    "duration": 40,
    "start_time": "2024-07-08T21:28:18.788Z"
   },
   {
    "duration": 24,
    "start_time": "2024-07-08T21:28:18.831Z"
   },
   {
    "duration": 54,
    "start_time": "2024-07-08T21:28:18.859Z"
   },
   {
    "duration": 149,
    "start_time": "2024-07-08T21:28:18.917Z"
   },
   {
    "duration": 7,
    "start_time": "2024-07-08T21:28:19.070Z"
   },
   {
    "duration": 11,
    "start_time": "2024-07-08T21:28:19.080Z"
   },
   {
    "duration": 1444,
    "start_time": "2024-07-08T21:28:19.095Z"
   },
   {
    "duration": 0,
    "start_time": "2024-07-08T21:28:20.543Z"
   },
   {
    "duration": 0,
    "start_time": "2024-07-08T21:28:20.546Z"
   },
   {
    "duration": 24,
    "start_time": "2024-07-08T21:28:59.352Z"
   },
   {
    "duration": 209,
    "start_time": "2024-07-08T21:29:00.252Z"
   },
   {
    "duration": 63,
    "start_time": "2024-07-08T21:41:58.118Z"
   },
   {
    "duration": 7,
    "start_time": "2024-07-08T21:42:07.703Z"
   },
   {
    "duration": 11,
    "start_time": "2024-07-08T21:43:17.915Z"
   },
   {
    "duration": 16,
    "start_time": "2024-07-08T21:49:09.551Z"
   },
   {
    "duration": 14,
    "start_time": "2024-07-08T21:50:38.450Z"
   },
   {
    "duration": 17,
    "start_time": "2024-07-08T21:51:51.442Z"
   },
   {
    "duration": 76,
    "start_time": "2024-07-08T21:54:18.375Z"
   },
   {
    "duration": 65,
    "start_time": "2024-07-08T21:54:48.240Z"
   },
   {
    "duration": 68,
    "start_time": "2024-07-08T21:55:17.151Z"
   },
   {
    "duration": 78,
    "start_time": "2024-07-08T21:55:52.608Z"
   },
   {
    "duration": 67,
    "start_time": "2024-07-08T21:57:07.389Z"
   },
   {
    "duration": 6,
    "start_time": "2024-07-08T21:57:49.188Z"
   },
   {
    "duration": 9,
    "start_time": "2024-07-08T21:58:01.013Z"
   },
   {
    "duration": 67,
    "start_time": "2024-07-08T21:58:23.294Z"
   },
   {
    "duration": 71,
    "start_time": "2024-07-08T21:59:07.894Z"
   },
   {
    "duration": 69,
    "start_time": "2024-07-08T22:00:32.792Z"
   },
   {
    "duration": 67,
    "start_time": "2024-07-08T22:01:54.242Z"
   },
   {
    "duration": 5536,
    "start_time": "2024-07-09T17:39:04.275Z"
   },
   {
    "duration": 37,
    "start_time": "2024-07-09T17:39:09.815Z"
   },
   {
    "duration": 4,
    "start_time": "2024-07-09T17:39:09.856Z"
   },
   {
    "duration": 25,
    "start_time": "2024-07-09T17:39:09.867Z"
   },
   {
    "duration": 14,
    "start_time": "2024-07-09T17:39:09.896Z"
   },
   {
    "duration": 16,
    "start_time": "2024-07-09T17:39:09.914Z"
   },
   {
    "duration": 8,
    "start_time": "2024-07-09T17:39:09.934Z"
   },
   {
    "duration": 62,
    "start_time": "2024-07-09T17:39:09.946Z"
   },
   {
    "duration": 9,
    "start_time": "2024-07-09T17:39:10.011Z"
   },
   {
    "duration": 10,
    "start_time": "2024-07-09T17:39:10.028Z"
   },
   {
    "duration": 48,
    "start_time": "2024-07-09T17:39:10.045Z"
   },
   {
    "duration": 22,
    "start_time": "2024-07-09T17:39:10.096Z"
   },
   {
    "duration": 7,
    "start_time": "2024-07-09T17:39:10.121Z"
   },
   {
    "duration": 58,
    "start_time": "2024-07-09T17:39:10.131Z"
   },
   {
    "duration": 12,
    "start_time": "2024-07-09T17:39:10.193Z"
   },
   {
    "duration": 10,
    "start_time": "2024-07-09T17:39:10.209Z"
   },
   {
    "duration": 9,
    "start_time": "2024-07-09T17:39:10.223Z"
   },
   {
    "duration": 69,
    "start_time": "2024-07-09T17:39:10.244Z"
   },
   {
    "duration": 8,
    "start_time": "2024-07-09T17:39:10.316Z"
   },
   {
    "duration": 22,
    "start_time": "2024-07-09T17:39:10.327Z"
   },
   {
    "duration": 52,
    "start_time": "2024-07-09T17:39:10.352Z"
   },
   {
    "duration": 9,
    "start_time": "2024-07-09T17:39:10.408Z"
   },
   {
    "duration": 27,
    "start_time": "2024-07-09T17:39:10.421Z"
   },
   {
    "duration": 3,
    "start_time": "2024-07-09T17:39:10.491Z"
   },
   {
    "duration": 4,
    "start_time": "2024-07-09T17:39:10.497Z"
   },
   {
    "duration": 14,
    "start_time": "2024-07-09T17:39:10.504Z"
   },
   {
    "duration": 21,
    "start_time": "2024-07-09T17:39:10.521Z"
   },
   {
    "duration": 13,
    "start_time": "2024-07-09T17:39:10.592Z"
   },
   {
    "duration": 13,
    "start_time": "2024-07-09T17:39:10.609Z"
   },
   {
    "duration": 9,
    "start_time": "2024-07-09T17:39:10.627Z"
   },
   {
    "duration": 52,
    "start_time": "2024-07-09T17:39:10.640Z"
   },
   {
    "duration": 19,
    "start_time": "2024-07-09T17:39:10.696Z"
   },
   {
    "duration": 16,
    "start_time": "2024-07-09T17:39:10.718Z"
   },
   {
    "duration": 625,
    "start_time": "2024-07-09T17:39:10.737Z"
   },
   {
    "duration": 48,
    "start_time": "2024-07-09T17:39:11.365Z"
   },
   {
    "duration": 124,
    "start_time": "2024-07-09T17:39:11.417Z"
   },
   {
    "duration": 119,
    "start_time": "2024-07-09T17:39:11.545Z"
   },
   {
    "duration": 25,
    "start_time": "2024-07-09T17:39:11.668Z"
   },
   {
    "duration": 15,
    "start_time": "2024-07-09T17:39:11.699Z"
   },
   {
    "duration": 37,
    "start_time": "2024-07-09T17:39:11.716Z"
   },
   {
    "duration": 50,
    "start_time": "2024-07-09T17:39:11.756Z"
   },
   {
    "duration": 113,
    "start_time": "2024-07-09T17:39:11.809Z"
   },
   {
    "duration": 24,
    "start_time": "2024-07-09T17:39:11.926Z"
   },
   {
    "duration": 122,
    "start_time": "2024-07-09T17:39:11.953Z"
   },
   {
    "duration": 28,
    "start_time": "2024-07-09T17:39:12.081Z"
   },
   {
    "duration": 16,
    "start_time": "2024-07-09T17:39:12.112Z"
   },
   {
    "duration": 59,
    "start_time": "2024-07-09T17:39:12.131Z"
   },
   {
    "duration": 21,
    "start_time": "2024-07-09T17:39:12.194Z"
   },
   {
    "duration": 19,
    "start_time": "2024-07-09T17:39:12.219Z"
   },
   {
    "duration": 153,
    "start_time": "2024-07-09T17:39:12.242Z"
   },
   {
    "duration": 8,
    "start_time": "2024-07-09T17:39:12.398Z"
   },
   {
    "duration": 9,
    "start_time": "2024-07-09T17:39:12.410Z"
   },
   {
    "duration": 19,
    "start_time": "2024-07-09T17:39:12.422Z"
   },
   {
    "duration": 129,
    "start_time": "2024-07-09T17:39:12.444Z"
   },
   {
    "duration": 19,
    "start_time": "2024-07-09T17:39:12.577Z"
   },
   {
    "duration": 11,
    "start_time": "2024-07-09T17:39:12.605Z"
   },
   {
    "duration": 114,
    "start_time": "2024-07-09T17:39:12.620Z"
   },
   {
    "duration": 99,
    "start_time": "2024-07-09T17:39:12.738Z"
   },
   {
    "duration": 7,
    "start_time": "2024-07-09T17:39:12.840Z"
   },
   {
    "duration": 16,
    "start_time": "2024-07-09T17:39:12.851Z"
   },
   {
    "duration": 43,
    "start_time": "2024-07-09T17:39:12.869Z"
   },
   {
    "duration": 73,
    "start_time": "2024-07-09T17:45:18.519Z"
   },
   {
    "duration": 92,
    "start_time": "2024-07-09T17:45:22.463Z"
   },
   {
    "duration": 9,
    "start_time": "2024-07-09T17:46:25.346Z"
   },
   {
    "duration": 9,
    "start_time": "2024-07-09T17:46:32.267Z"
   },
   {
    "duration": 8,
    "start_time": "2024-07-09T17:46:40.578Z"
   },
   {
    "duration": 6,
    "start_time": "2024-07-09T17:46:49.281Z"
   },
   {
    "duration": 6,
    "start_time": "2024-07-09T17:46:58.582Z"
   },
   {
    "duration": 8,
    "start_time": "2024-07-09T17:47:37.683Z"
   },
   {
    "duration": 7,
    "start_time": "2024-07-09T17:49:47.011Z"
   },
   {
    "duration": 79,
    "start_time": "2024-07-09T17:50:50.376Z"
   },
   {
    "duration": 1450,
    "start_time": "2024-07-09T17:51:23.744Z"
   },
   {
    "duration": 174,
    "start_time": "2024-07-09T17:56:17.308Z"
   },
   {
    "duration": 82,
    "start_time": "2024-07-09T17:56:29.235Z"
   },
   {
    "duration": 9,
    "start_time": "2024-07-09T17:56:42.686Z"
   },
   {
    "duration": 5,
    "start_time": "2024-07-09T17:57:03.529Z"
   },
   {
    "duration": 84,
    "start_time": "2024-07-09T17:57:10.065Z"
   },
   {
    "duration": 75,
    "start_time": "2024-07-09T17:57:46.249Z"
   },
   {
    "duration": 73,
    "start_time": "2024-07-09T17:59:03.957Z"
   },
   {
    "duration": 79,
    "start_time": "2024-07-09T17:59:29.245Z"
   },
   {
    "duration": 81,
    "start_time": "2024-07-09T18:00:53.853Z"
   },
   {
    "duration": 17,
    "start_time": "2024-07-09T18:04:54.546Z"
   },
   {
    "duration": 7,
    "start_time": "2024-07-09T18:05:11.705Z"
   },
   {
    "duration": 7,
    "start_time": "2024-07-09T18:06:19.742Z"
   },
   {
    "duration": 913,
    "start_time": "2024-07-09T18:08:18.328Z"
   },
   {
    "duration": 9,
    "start_time": "2024-07-09T18:08:27.102Z"
   },
   {
    "duration": 9,
    "start_time": "2024-07-09T18:10:20.555Z"
   },
   {
    "duration": 10,
    "start_time": "2024-07-09T18:10:41.534Z"
   },
   {
    "duration": 10,
    "start_time": "2024-07-09T18:10:57.635Z"
   },
   {
    "duration": 79,
    "start_time": "2024-07-09T18:12:53.818Z"
   },
   {
    "duration": 7,
    "start_time": "2024-07-09T19:37:47.947Z"
   },
   {
    "duration": 3,
    "start_time": "2024-07-09T21:41:36.954Z"
   },
   {
    "duration": 20,
    "start_time": "2024-07-09T21:41:39.202Z"
   },
   {
    "duration": 120,
    "start_time": "2024-07-09T22:00:38.383Z"
   },
   {
    "duration": 128,
    "start_time": "2024-07-09T22:01:18.207Z"
   },
   {
    "duration": 105,
    "start_time": "2024-07-09T22:02:07.107Z"
   },
   {
    "duration": 137,
    "start_time": "2024-07-09T22:04:07.164Z"
   },
   {
    "duration": 110,
    "start_time": "2024-07-09T22:04:51.554Z"
   },
   {
    "duration": 819,
    "start_time": "2024-07-09T22:05:56.111Z"
   },
   {
    "duration": 154,
    "start_time": "2024-07-09T22:06:15.055Z"
   },
   {
    "duration": 131,
    "start_time": "2024-07-09T22:06:22.967Z"
   },
   {
    "duration": 168,
    "start_time": "2024-07-09T22:07:52.099Z"
   },
   {
    "duration": 113,
    "start_time": "2024-07-09T22:07:57.707Z"
   },
   {
    "duration": 125,
    "start_time": "2024-07-09T22:08:14.384Z"
   },
   {
    "duration": 173,
    "start_time": "2024-07-09T22:08:19.283Z"
   },
   {
    "duration": 117,
    "start_time": "2024-07-09T22:08:57.093Z"
   },
   {
    "duration": 175,
    "start_time": "2024-07-09T22:10:00.366Z"
   },
   {
    "duration": 165,
    "start_time": "2024-07-09T22:10:05.285Z"
   },
   {
    "duration": 108,
    "start_time": "2024-07-09T22:10:10.533Z"
   },
   {
    "duration": 112,
    "start_time": "2024-07-09T22:14:57.610Z"
   },
   {
    "duration": 143,
    "start_time": "2024-07-09T22:15:12.118Z"
   },
   {
    "duration": 124,
    "start_time": "2024-07-09T22:15:20.678Z"
   },
   {
    "duration": 120,
    "start_time": "2024-07-09T22:15:25.185Z"
   },
   {
    "duration": 110,
    "start_time": "2024-07-09T22:16:18.526Z"
   },
   {
    "duration": 241,
    "start_time": "2024-07-09T22:17:46.573Z"
   },
   {
    "duration": 18,
    "start_time": "2024-07-09T22:21:02.746Z"
   },
   {
    "duration": 91,
    "start_time": "2024-07-09T22:23:11.182Z"
   },
   {
    "duration": 15,
    "start_time": "2024-07-09T22:23:36.142Z"
   },
   {
    "duration": 214,
    "start_time": "2024-07-09T22:33:55.820Z"
   },
   {
    "duration": 211,
    "start_time": "2024-07-09T22:34:11.706Z"
   },
   {
    "duration": 207,
    "start_time": "2024-07-09T22:34:19.108Z"
   },
   {
    "duration": 233,
    "start_time": "2024-07-09T22:34:24.474Z"
   },
   {
    "duration": 16,
    "start_time": "2024-07-09T22:44:01.786Z"
   },
   {
    "duration": 11,
    "start_time": "2024-07-09T22:44:10.700Z"
   },
   {
    "duration": 13,
    "start_time": "2024-07-09T22:44:22.666Z"
   },
   {
    "duration": 16,
    "start_time": "2024-07-09T22:44:37.491Z"
   },
   {
    "duration": 37,
    "start_time": "2024-07-09T22:46:09.214Z"
   },
   {
    "duration": 5,
    "start_time": "2024-07-09T22:46:29.990Z"
   },
   {
    "duration": 64,
    "start_time": "2024-07-09T22:46:36.286Z"
   },
   {
    "duration": 37,
    "start_time": "2024-07-09T22:47:00.954Z"
   },
   {
    "duration": 38,
    "start_time": "2024-07-09T22:47:33.698Z"
   },
   {
    "duration": 36,
    "start_time": "2024-07-09T22:47:38.151Z"
   },
   {
    "duration": 62,
    "start_time": "2024-07-09T22:50:04.156Z"
   },
   {
    "duration": 40,
    "start_time": "2024-07-09T22:50:11.652Z"
   },
   {
    "duration": 38,
    "start_time": "2024-07-09T22:52:00.451Z"
   },
   {
    "duration": 28,
    "start_time": "2024-07-09T22:55:30.902Z"
   },
   {
    "duration": 32,
    "start_time": "2024-07-09T22:56:27.133Z"
   },
   {
    "duration": 16,
    "start_time": "2024-07-09T23:17:53.624Z"
   },
   {
    "duration": 7,
    "start_time": "2024-07-09T23:22:31.707Z"
   },
   {
    "duration": 37,
    "start_time": "2024-07-09T23:26:52.307Z"
   },
   {
    "duration": 34,
    "start_time": "2024-07-09T23:27:04.123Z"
   },
   {
    "duration": 29,
    "start_time": "2024-07-09T23:27:19.102Z"
   },
   {
    "duration": 7,
    "start_time": "2024-07-09T23:27:26.969Z"
   },
   {
    "duration": 5,
    "start_time": "2024-07-09T23:27:36.883Z"
   },
   {
    "duration": 13,
    "start_time": "2024-07-09T23:42:10.617Z"
   },
   {
    "duration": 14,
    "start_time": "2024-07-09T23:42:15.986Z"
   },
   {
    "duration": 15,
    "start_time": "2024-07-09T23:42:18.939Z"
   },
   {
    "duration": 18,
    "start_time": "2024-07-10T00:06:22.049Z"
   },
   {
    "duration": 23,
    "start_time": "2024-07-10T00:06:58.002Z"
   },
   {
    "duration": 6,
    "start_time": "2024-07-10T00:07:12.986Z"
   },
   {
    "duration": 91,
    "start_time": "2024-07-10T00:07:16.173Z"
   },
   {
    "duration": 14,
    "start_time": "2024-07-10T00:07:51.044Z"
   },
   {
    "duration": 21,
    "start_time": "2024-07-10T00:08:12.154Z"
   },
   {
    "duration": 28,
    "start_time": "2024-07-10T00:08:28.594Z"
   },
   {
    "duration": 20,
    "start_time": "2024-07-10T00:08:34.914Z"
   },
   {
    "duration": 27,
    "start_time": "2024-07-10T00:08:51.258Z"
   },
   {
    "duration": 17,
    "start_time": "2024-07-10T00:08:57.834Z"
   },
   {
    "duration": 36,
    "start_time": "2024-07-10T00:09:15.946Z"
   },
   {
    "duration": 8,
    "start_time": "2024-07-10T00:09:18.811Z"
   },
   {
    "duration": 9,
    "start_time": "2024-07-10T00:09:29.272Z"
   },
   {
    "duration": 7,
    "start_time": "2024-07-10T00:11:19.737Z"
   },
   {
    "duration": 13,
    "start_time": "2024-07-10T00:11:23.352Z"
   },
   {
    "duration": 44,
    "start_time": "2024-07-10T00:11:28.617Z"
   },
   {
    "duration": 14,
    "start_time": "2024-07-10T00:11:32.352Z"
   },
   {
    "duration": 14,
    "start_time": "2024-07-10T00:12:23.721Z"
   },
   {
    "duration": 13,
    "start_time": "2024-07-10T00:12:28.676Z"
   },
   {
    "duration": 15,
    "start_time": "2024-07-10T00:12:37.014Z"
   },
   {
    "duration": 6,
    "start_time": "2024-07-10T00:15:16.538Z"
   },
   {
    "duration": 254,
    "start_time": "2024-07-10T00:15:24.401Z"
   },
   {
    "duration": 86,
    "start_time": "2024-07-10T00:15:35.930Z"
   },
   {
    "duration": 90,
    "start_time": "2024-07-10T00:16:11.821Z"
   },
   {
    "duration": 7,
    "start_time": "2024-07-10T00:16:30.377Z"
   },
   {
    "duration": 29,
    "start_time": "2024-07-10T00:16:38.507Z"
   },
   {
    "duration": 97,
    "start_time": "2024-07-10T00:16:51.107Z"
   },
   {
    "duration": 8,
    "start_time": "2024-07-10T00:17:04.096Z"
   },
   {
    "duration": 7,
    "start_time": "2024-07-10T00:18:02.655Z"
   },
   {
    "duration": 16,
    "start_time": "2024-07-10T00:20:21.288Z"
   },
   {
    "duration": 12,
    "start_time": "2024-07-10T00:21:26.474Z"
   },
   {
    "duration": 16,
    "start_time": "2024-07-10T00:24:47.642Z"
   },
   {
    "duration": 7,
    "start_time": "2024-07-10T00:24:55.948Z"
   },
   {
    "duration": 17,
    "start_time": "2024-07-10T00:25:29.711Z"
   },
   {
    "duration": 16,
    "start_time": "2024-07-10T00:26:24.065Z"
   },
   {
    "duration": 15,
    "start_time": "2024-07-10T00:28:56.821Z"
   },
   {
    "duration": 11,
    "start_time": "2024-07-10T00:33:37.692Z"
   },
   {
    "duration": 15,
    "start_time": "2024-07-10T00:34:43.969Z"
   },
   {
    "duration": 10,
    "start_time": "2024-07-10T00:38:13.747Z"
   },
   {
    "duration": 8,
    "start_time": "2024-07-10T00:39:50.117Z"
   },
   {
    "duration": 14,
    "start_time": "2024-07-10T00:39:55.329Z"
   },
   {
    "duration": 10,
    "start_time": "2024-07-10T00:41:03.208Z"
   },
   {
    "duration": 23,
    "start_time": "2024-07-10T00:41:09.486Z"
   },
   {
    "duration": 46,
    "start_time": "2024-07-10T00:43:26.395Z"
   },
   {
    "duration": 34,
    "start_time": "2024-07-10T00:45:42.629Z"
   },
   {
    "duration": 14,
    "start_time": "2024-07-10T00:54:42.253Z"
   },
   {
    "duration": 7,
    "start_time": "2024-07-10T01:01:12.604Z"
   },
   {
    "duration": 8,
    "start_time": "2024-07-10T01:01:23.341Z"
   },
   {
    "duration": 37,
    "start_time": "2024-07-10T01:01:28.258Z"
   },
   {
    "duration": 101,
    "start_time": "2024-07-10T01:01:51.876Z"
   },
   {
    "duration": 42,
    "start_time": "2024-07-10T01:03:38.627Z"
   },
   {
    "duration": 42,
    "start_time": "2024-07-10T01:03:57.643Z"
   },
   {
    "duration": 22,
    "start_time": "2024-07-10T01:04:16.392Z"
   },
   {
    "duration": 13,
    "start_time": "2024-07-10T02:08:56.061Z"
   },
   {
    "duration": 11,
    "start_time": "2024-07-10T02:08:58.323Z"
   },
   {
    "duration": 87,
    "start_time": "2024-07-10T02:09:27.338Z"
   },
   {
    "duration": 71,
    "start_time": "2024-07-10T02:09:44.978Z"
   },
   {
    "duration": 12,
    "start_time": "2024-07-10T02:11:59.373Z"
   },
   {
    "duration": 13,
    "start_time": "2024-07-10T02:12:04.106Z"
   },
   {
    "duration": 12,
    "start_time": "2024-07-10T02:12:09.137Z"
   },
   {
    "duration": 3,
    "start_time": "2024-07-10T02:24:37.157Z"
   },
   {
    "duration": 16,
    "start_time": "2024-07-10T02:26:08.370Z"
   },
   {
    "duration": 19,
    "start_time": "2024-07-10T02:26:41.331Z"
   },
   {
    "duration": 7,
    "start_time": "2024-07-10T02:27:27.168Z"
   },
   {
    "duration": 16,
    "start_time": "2024-07-10T02:32:38.579Z"
   },
   {
    "duration": 14,
    "start_time": "2024-07-10T02:32:43.869Z"
   },
   {
    "duration": 4161,
    "start_time": "2024-07-10T02:51:24.313Z"
   },
   {
    "duration": 15,
    "start_time": "2024-07-10T02:53:07.838Z"
   },
   {
    "duration": 11,
    "start_time": "2024-07-10T02:53:11.214Z"
   },
   {
    "duration": 6735,
    "start_time": "2024-07-10T02:54:46.890Z"
   },
   {
    "duration": 10,
    "start_time": "2024-07-10T02:59:03.082Z"
   },
   {
    "duration": 6282,
    "start_time": "2024-07-10T02:59:10.199Z"
   },
   {
    "duration": 18,
    "start_time": "2024-07-10T03:00:02.718Z"
   },
   {
    "duration": 396,
    "start_time": "2024-07-10T03:00:10.263Z"
   },
   {
    "duration": 431,
    "start_time": "2024-07-10T03:08:54.925Z"
   },
   {
    "duration": 14,
    "start_time": "2024-07-10T03:09:17.218Z"
   },
   {
    "duration": 6786,
    "start_time": "2024-07-10T03:09:21.442Z"
   },
   {
    "duration": 452,
    "start_time": "2024-07-10T03:09:33.558Z"
   },
   {
    "duration": 16,
    "start_time": "2024-07-10T03:09:56.773Z"
   },
   {
    "duration": 18,
    "start_time": "2024-07-10T03:10:03.278Z"
   },
   {
    "duration": 417,
    "start_time": "2024-07-10T03:10:07.499Z"
   },
   {
    "duration": 404,
    "start_time": "2024-07-10T03:10:13.459Z"
   },
   {
    "duration": 17,
    "start_time": "2024-07-10T03:15:52.670Z"
   },
   {
    "duration": 7,
    "start_time": "2024-07-10T03:20:06.651Z"
   },
   {
    "duration": 35,
    "start_time": "2024-07-10T03:20:34.710Z"
   },
   {
    "duration": 23,
    "start_time": "2024-07-10T03:28:20.104Z"
   },
   {
    "duration": 23,
    "start_time": "2024-07-10T03:28:42.877Z"
   },
   {
    "duration": 21,
    "start_time": "2024-07-10T03:28:52.994Z"
   },
   {
    "duration": 111,
    "start_time": "2024-07-10T03:29:06.898Z"
   },
   {
    "duration": 125,
    "start_time": "2024-07-10T03:30:33.946Z"
   },
   {
    "duration": 17,
    "start_time": "2024-07-10T03:30:48.564Z"
   },
   {
    "duration": 29,
    "start_time": "2024-07-10T03:30:58.680Z"
   },
   {
    "duration": 18,
    "start_time": "2024-07-10T03:31:19.663Z"
   },
   {
    "duration": 14,
    "start_time": "2024-07-10T03:35:49.114Z"
   },
   {
    "duration": 17,
    "start_time": "2024-07-10T03:42:33.691Z"
   },
   {
    "duration": 15,
    "start_time": "2024-07-10T03:42:42.395Z"
   },
   {
    "duration": 25,
    "start_time": "2024-07-10T03:50:39.578Z"
   },
   {
    "duration": 8,
    "start_time": "2024-07-10T03:51:15.898Z"
   },
   {
    "duration": 14,
    "start_time": "2024-07-10T03:51:21.271Z"
   },
   {
    "duration": 25,
    "start_time": "2024-07-10T03:51:27.298Z"
   },
   {
    "duration": 9,
    "start_time": "2024-07-10T03:53:05.518Z"
   },
   {
    "duration": 20,
    "start_time": "2024-07-10T03:54:37.968Z"
   },
   {
    "duration": 36,
    "start_time": "2024-07-10T03:56:50.241Z"
   },
   {
    "duration": 18,
    "start_time": "2024-07-10T03:57:04.698Z"
   },
   {
    "duration": 15,
    "start_time": "2024-07-10T03:58:46.116Z"
   },
   {
    "duration": 14,
    "start_time": "2024-07-10T03:59:17.814Z"
   },
   {
    "duration": 8,
    "start_time": "2024-07-10T03:59:41.598Z"
   },
   {
    "duration": 9,
    "start_time": "2024-07-10T03:59:47.341Z"
   },
   {
    "duration": 72,
    "start_time": "2024-07-10T03:59:53.774Z"
   },
   {
    "duration": 7,
    "start_time": "2024-07-10T04:00:01.238Z"
   },
   {
    "duration": 73,
    "start_time": "2024-07-10T04:01:34.559Z"
   },
   {
    "duration": 78,
    "start_time": "2024-07-10T04:04:54.713Z"
   },
   {
    "duration": 87,
    "start_time": "2024-07-10T04:05:26.601Z"
   },
   {
    "duration": 73,
    "start_time": "2024-07-10T04:05:46.209Z"
   },
   {
    "duration": 9,
    "start_time": "2024-07-10T04:06:35.950Z"
   },
   {
    "duration": 6,
    "start_time": "2024-07-10T04:06:54.671Z"
   },
   {
    "duration": 83,
    "start_time": "2024-07-10T04:07:06.198Z"
   },
   {
    "duration": 74,
    "start_time": "2024-07-10T04:07:19.115Z"
   },
   {
    "duration": 70,
    "start_time": "2024-07-10T04:11:10.467Z"
   },
   {
    "duration": 71,
    "start_time": "2024-07-10T04:11:39.323Z"
   },
   {
    "duration": 93,
    "start_time": "2024-07-10T04:13:19.455Z"
   },
   {
    "duration": 387,
    "start_time": "2024-07-10T04:14:30.543Z"
   },
   {
    "duration": 81,
    "start_time": "2024-07-10T04:14:50.503Z"
   },
   {
    "duration": 83,
    "start_time": "2024-07-10T04:19:00.779Z"
   },
   {
    "duration": 8,
    "start_time": "2024-07-10T04:19:20.131Z"
   },
   {
    "duration": 21,
    "start_time": "2024-07-10T04:24:53.444Z"
   },
   {
    "duration": 28,
    "start_time": "2024-07-10T04:25:43.292Z"
   },
   {
    "duration": 27,
    "start_time": "2024-07-10T04:28:14.408Z"
   },
   {
    "duration": 29,
    "start_time": "2024-07-10T04:28:17.649Z"
   },
   {
    "duration": 29,
    "start_time": "2024-07-10T04:29:36.454Z"
   },
   {
    "duration": 21,
    "start_time": "2024-07-10T04:30:46.784Z"
   },
   {
    "duration": 27,
    "start_time": "2024-07-10T04:31:37.332Z"
   },
   {
    "duration": 25,
    "start_time": "2024-07-10T04:31:54.096Z"
   },
   {
    "duration": 18,
    "start_time": "2024-07-10T04:34:15.990Z"
   },
   {
    "duration": 92,
    "start_time": "2024-07-10T04:34:36.305Z"
   },
   {
    "duration": 265,
    "start_time": "2024-07-10T04:35:43.252Z"
   },
   {
    "duration": 18,
    "start_time": "2024-07-10T04:45:20.062Z"
   },
   {
    "duration": 21,
    "start_time": "2024-07-10T04:45:26.919Z"
   },
   {
    "duration": 107,
    "start_time": "2024-07-10T04:52:14.525Z"
   },
   {
    "duration": 25,
    "start_time": "2024-07-10T04:52:23.828Z"
   },
   {
    "duration": 6,
    "start_time": "2024-07-10T04:52:39.048Z"
   },
   {
    "duration": 7,
    "start_time": "2024-07-10T04:52:42.806Z"
   },
   {
    "duration": 26,
    "start_time": "2024-07-10T04:52:58.028Z"
   },
   {
    "duration": 25,
    "start_time": "2024-07-10T04:53:13.332Z"
   },
   {
    "duration": 26,
    "start_time": "2024-07-10T04:53:16.540Z"
   },
   {
    "duration": 32,
    "start_time": "2024-07-10T05:04:25.762Z"
   },
   {
    "duration": 75,
    "start_time": "2024-07-10T05:13:57.086Z"
   },
   {
    "duration": 102,
    "start_time": "2024-07-10T05:14:40.671Z"
   },
   {
    "duration": 80,
    "start_time": "2024-07-10T05:15:14.808Z"
   },
   {
    "duration": 85,
    "start_time": "2024-07-10T05:16:00.232Z"
   },
   {
    "duration": 9,
    "start_time": "2024-07-10T05:17:06.003Z"
   },
   {
    "duration": 9,
    "start_time": "2024-07-10T05:17:23.891Z"
   },
   {
    "duration": 8,
    "start_time": "2024-07-10T05:17:30.268Z"
   },
   {
    "duration": 8,
    "start_time": "2024-07-10T05:17:40.067Z"
   },
   {
    "duration": 10,
    "start_time": "2024-07-10T05:18:03.051Z"
   },
   {
    "duration": 10,
    "start_time": "2024-07-10T05:18:06.216Z"
   },
   {
    "duration": 8,
    "start_time": "2024-07-10T05:18:16.518Z"
   },
   {
    "duration": 9,
    "start_time": "2024-07-10T05:18:21.065Z"
   },
   {
    "duration": 9,
    "start_time": "2024-07-10T05:18:54.047Z"
   },
   {
    "duration": 97,
    "start_time": "2024-07-10T05:20:13.351Z"
   },
   {
    "duration": 92,
    "start_time": "2024-07-10T05:20:22.703Z"
   },
   {
    "duration": 86,
    "start_time": "2024-07-10T05:20:30.183Z"
   },
   {
    "duration": 97,
    "start_time": "2024-07-10T05:20:32.431Z"
   },
   {
    "duration": 106,
    "start_time": "2024-07-10T05:20:34.788Z"
   },
   {
    "duration": 17,
    "start_time": "2024-07-10T05:25:08.047Z"
   },
   {
    "duration": 85,
    "start_time": "2024-07-10T05:25:11.488Z"
   },
   {
    "duration": 19,
    "start_time": "2024-07-10T05:27:10.480Z"
   },
   {
    "duration": 20,
    "start_time": "2024-07-10T05:29:18.186Z"
   },
   {
    "duration": 19,
    "start_time": "2024-07-10T05:29:33.493Z"
   },
   {
    "duration": 5237,
    "start_time": "2024-07-10T16:06:43.091Z"
   },
   {
    "duration": 29,
    "start_time": "2024-07-10T16:06:48.333Z"
   },
   {
    "duration": 4,
    "start_time": "2024-07-10T16:06:48.365Z"
   },
   {
    "duration": 13,
    "start_time": "2024-07-10T16:06:48.372Z"
   },
   {
    "duration": 13,
    "start_time": "2024-07-10T16:06:48.405Z"
   },
   {
    "duration": 14,
    "start_time": "2024-07-10T16:06:48.422Z"
   },
   {
    "duration": 7,
    "start_time": "2024-07-10T16:06:48.439Z"
   },
   {
    "duration": 56,
    "start_time": "2024-07-10T16:06:48.449Z"
   },
   {
    "duration": 8,
    "start_time": "2024-07-10T16:06:48.508Z"
   },
   {
    "duration": 8,
    "start_time": "2024-07-10T16:06:48.519Z"
   },
   {
    "duration": 8,
    "start_time": "2024-07-10T16:06:48.530Z"
   },
   {
    "duration": 63,
    "start_time": "2024-07-10T16:06:48.541Z"
   },
   {
    "duration": 6,
    "start_time": "2024-07-10T16:06:48.608Z"
   },
   {
    "duration": 15,
    "start_time": "2024-07-10T16:06:48.622Z"
   },
   {
    "duration": 7,
    "start_time": "2024-07-10T16:06:48.641Z"
   },
   {
    "duration": 52,
    "start_time": "2024-07-10T16:06:48.652Z"
   },
   {
    "duration": 11,
    "start_time": "2024-07-10T16:06:48.707Z"
   },
   {
    "duration": 19,
    "start_time": "2024-07-10T16:06:48.723Z"
   },
   {
    "duration": 7,
    "start_time": "2024-07-10T16:06:48.745Z"
   },
   {
    "duration": 61,
    "start_time": "2024-07-10T16:06:48.755Z"
   },
   {
    "duration": 22,
    "start_time": "2024-07-10T16:06:48.822Z"
   },
   {
    "duration": 8,
    "start_time": "2024-07-10T16:06:48.848Z"
   },
   {
    "duration": 55,
    "start_time": "2024-07-10T16:06:48.863Z"
   },
   {
    "duration": 4,
    "start_time": "2024-07-10T16:06:48.925Z"
   },
   {
    "duration": 4,
    "start_time": "2024-07-10T16:06:48.932Z"
   },
   {
    "duration": 11,
    "start_time": "2024-07-10T16:06:48.940Z"
   },
   {
    "duration": 54,
    "start_time": "2024-07-10T16:06:48.954Z"
   },
   {
    "duration": 10,
    "start_time": "2024-07-10T16:06:49.011Z"
   },
   {
    "duration": 13,
    "start_time": "2024-07-10T16:06:49.025Z"
   },
   {
    "duration": 7,
    "start_time": "2024-07-10T16:06:49.042Z"
   },
   {
    "duration": 59,
    "start_time": "2024-07-10T16:06:49.052Z"
   },
   {
    "duration": 16,
    "start_time": "2024-07-10T16:06:49.114Z"
   },
   {
    "duration": 15,
    "start_time": "2024-07-10T16:06:49.134Z"
   },
   {
    "duration": 605,
    "start_time": "2024-07-10T16:06:49.152Z"
   },
   {
    "duration": 42,
    "start_time": "2024-07-10T16:06:49.760Z"
   },
   {
    "duration": 129,
    "start_time": "2024-07-10T16:06:49.805Z"
   },
   {
    "duration": 103,
    "start_time": "2024-07-10T16:06:49.937Z"
   },
   {
    "duration": 16,
    "start_time": "2024-07-10T16:06:50.043Z"
   },
   {
    "duration": 39,
    "start_time": "2024-07-10T16:06:50.063Z"
   },
   {
    "duration": 13,
    "start_time": "2024-07-10T16:06:50.105Z"
   },
   {
    "duration": 30,
    "start_time": "2024-07-10T16:06:50.130Z"
   },
   {
    "duration": 40,
    "start_time": "2024-07-10T16:06:50.163Z"
   },
   {
    "duration": 7,
    "start_time": "2024-07-10T16:06:50.206Z"
   },
   {
    "duration": 426,
    "start_time": "2024-07-10T16:06:50.217Z"
   },
   {
    "duration": 19,
    "start_time": "2024-07-10T16:06:50.647Z"
   },
   {
    "duration": 4,
    "start_time": "2024-07-10T16:06:50.669Z"
   },
   {
    "duration": 37,
    "start_time": "2024-07-10T16:06:50.675Z"
   },
   {
    "duration": 89,
    "start_time": "2024-07-10T16:06:50.716Z"
   },
   {
    "duration": 6,
    "start_time": "2024-07-10T16:06:50.809Z"
   },
   {
    "duration": 14,
    "start_time": "2024-07-10T16:06:50.819Z"
   },
   {
    "duration": 4,
    "start_time": "2024-07-10T16:06:50.836Z"
   },
   {
    "duration": 65,
    "start_time": "2024-07-10T16:06:50.844Z"
   },
   {
    "duration": 101,
    "start_time": "2024-07-10T16:06:50.913Z"
   },
   {
    "duration": 3,
    "start_time": "2024-07-10T16:06:51.018Z"
   },
   {
    "duration": 117,
    "start_time": "2024-07-10T16:06:51.025Z"
   },
   {
    "duration": 4,
    "start_time": "2024-07-10T16:06:51.146Z"
   },
   {
    "duration": 23,
    "start_time": "2024-07-10T16:06:51.155Z"
   },
   {
    "duration": 15,
    "start_time": "2024-07-10T16:06:51.203Z"
   },
   {
    "duration": 21,
    "start_time": "2024-07-10T16:06:51.221Z"
   },
   {
    "duration": 60,
    "start_time": "2024-07-10T16:06:51.246Z"
   },
   {
    "duration": 18,
    "start_time": "2024-07-10T16:06:51.310Z"
   },
   {
    "duration": 114,
    "start_time": "2024-07-10T16:06:51.331Z"
   },
   {
    "duration": 6,
    "start_time": "2024-07-10T16:06:51.449Z"
   },
   {
    "duration": 9,
    "start_time": "2024-07-10T16:06:51.459Z"
   },
   {
    "duration": 32,
    "start_time": "2024-07-10T16:06:51.471Z"
   },
   {
    "duration": 32,
    "start_time": "2024-07-10T16:06:51.506Z"
   },
   {
    "duration": 7,
    "start_time": "2024-07-10T16:06:51.542Z"
   },
   {
    "duration": 129,
    "start_time": "2024-07-10T16:06:51.553Z"
   },
   {
    "duration": 4,
    "start_time": "2024-07-10T16:06:51.685Z"
   },
   {
    "duration": 16,
    "start_time": "2024-07-10T16:06:51.704Z"
   },
   {
    "duration": 108,
    "start_time": "2024-07-10T16:06:51.724Z"
   },
   {
    "duration": 8,
    "start_time": "2024-07-10T16:06:51.835Z"
   },
   {
    "duration": 10,
    "start_time": "2024-07-10T16:06:51.847Z"
   },
   {
    "duration": 120,
    "start_time": "2024-07-10T16:06:51.860Z"
   },
   {
    "duration": 8,
    "start_time": "2024-07-10T16:06:51.983Z"
   },
   {
    "duration": 98,
    "start_time": "2024-07-10T16:06:52.004Z"
   },
   {
    "duration": 6,
    "start_time": "2024-07-10T16:06:52.105Z"
   },
   {
    "duration": 12,
    "start_time": "2024-07-10T16:06:52.115Z"
   },
   {
    "duration": 4,
    "start_time": "2024-07-10T16:06:52.130Z"
   },
   {
    "duration": 287,
    "start_time": "2024-07-10T16:06:52.137Z"
   },
   {
    "duration": 40,
    "start_time": "2024-07-10T16:06:52.427Z"
   },
   {
    "duration": 55,
    "start_time": "2024-07-10T16:06:52.471Z"
   },
   {
    "duration": 14,
    "start_time": "2024-07-10T16:06:52.529Z"
   },
   {
    "duration": 13,
    "start_time": "2024-07-10T16:06:52.545Z"
   },
   {
    "duration": 69,
    "start_time": "2024-07-10T16:06:52.561Z"
   },
   {
    "duration": 32,
    "start_time": "2024-07-10T16:06:52.633Z"
   },
   {
    "duration": 41,
    "start_time": "2024-07-10T16:06:52.669Z"
   },
   {
    "duration": 14,
    "start_time": "2024-07-10T16:06:52.715Z"
   },
   {
    "duration": 13,
    "start_time": "2024-07-10T16:06:52.733Z"
   },
   {
    "duration": 13,
    "start_time": "2024-07-10T16:06:52.749Z"
   },
   {
    "duration": 8,
    "start_time": "2024-07-10T16:06:52.803Z"
   },
   {
    "duration": 18,
    "start_time": "2024-07-10T16:06:52.816Z"
   },
   {
    "duration": 8,
    "start_time": "2024-07-10T16:06:52.837Z"
   },
   {
    "duration": 53,
    "start_time": "2024-07-10T16:06:52.848Z"
   },
   {
    "duration": 13,
    "start_time": "2024-07-10T16:06:52.904Z"
   },
   {
    "duration": 12,
    "start_time": "2024-07-10T16:06:52.921Z"
   },
   {
    "duration": 13,
    "start_time": "2024-07-10T16:06:52.936Z"
   },
   {
    "duration": 50,
    "start_time": "2024-07-10T16:06:52.952Z"
   },
   {
    "duration": 21,
    "start_time": "2024-07-10T16:06:53.004Z"
   },
   {
    "duration": 18,
    "start_time": "2024-07-10T16:06:53.028Z"
   },
   {
    "duration": 88,
    "start_time": "2024-07-10T16:09:08.154Z"
   },
   {
    "duration": 22,
    "start_time": "2024-07-10T16:09:45.126Z"
   },
   {
    "duration": 30,
    "start_time": "2024-07-10T16:12:33.570Z"
   },
   {
    "duration": 23,
    "start_time": "2024-07-10T16:12:58.915Z"
   },
   {
    "duration": 18,
    "start_time": "2024-07-10T16:14:05.427Z"
   },
   {
    "duration": 30,
    "start_time": "2024-07-10T16:14:28.344Z"
   },
   {
    "duration": 9,
    "start_time": "2024-07-10T16:22:59.057Z"
   },
   {
    "duration": 575,
    "start_time": "2024-07-10T17:51:00.205Z"
   },
   {
    "duration": 23,
    "start_time": "2024-07-10T17:51:15.149Z"
   },
   {
    "duration": 8,
    "start_time": "2024-07-10T17:51:59.331Z"
   },
   {
    "duration": 1150,
    "start_time": "2024-07-10T17:53:32.701Z"
   },
   {
    "duration": 6,
    "start_time": "2024-07-10T17:53:50.797Z"
   },
   {
    "duration": 30,
    "start_time": "2024-07-10T17:54:22.389Z"
   },
   {
    "duration": 10,
    "start_time": "2024-07-10T17:54:26.537Z"
   },
   {
    "duration": 9,
    "start_time": "2024-07-10T17:55:01.152Z"
   },
   {
    "duration": 33,
    "start_time": "2024-07-10T18:05:10.412Z"
   },
   {
    "duration": 32,
    "start_time": "2024-07-10T18:05:46.159Z"
   },
   {
    "duration": 35,
    "start_time": "2024-07-10T18:07:26.902Z"
   },
   {
    "duration": 44,
    "start_time": "2024-07-10T18:08:09.398Z"
   },
   {
    "duration": 70,
    "start_time": "2024-07-10T18:11:35.689Z"
   },
   {
    "duration": 80,
    "start_time": "2024-07-10T18:14:19.518Z"
   },
   {
    "duration": 19,
    "start_time": "2024-07-10T18:18:07.227Z"
   },
   {
    "duration": 20,
    "start_time": "2024-07-10T18:18:33.795Z"
   },
   {
    "duration": 105,
    "start_time": "2024-07-10T18:19:04.440Z"
   },
   {
    "duration": 110,
    "start_time": "2024-07-10T18:19:11.002Z"
   },
   {
    "duration": 112,
    "start_time": "2024-07-10T18:20:28.165Z"
   },
   {
    "duration": 6,
    "start_time": "2024-07-10T18:22:49.879Z"
   },
   {
    "duration": 6,
    "start_time": "2024-07-10T18:22:54.987Z"
   },
   {
    "duration": 277,
    "start_time": "2024-07-10T18:22:59.991Z"
   },
   {
    "duration": 9,
    "start_time": "2024-07-10T18:23:07.897Z"
   },
   {
    "duration": 126,
    "start_time": "2024-07-10T18:24:39.481Z"
   },
   {
    "duration": 22,
    "start_time": "2024-07-10T18:27:41.674Z"
   },
   {
    "duration": 17,
    "start_time": "2024-07-10T18:27:44.775Z"
   },
   {
    "duration": 21,
    "start_time": "2024-07-10T18:28:07.911Z"
   },
   {
    "duration": 591,
    "start_time": "2024-07-10T18:31:27.374Z"
   },
   {
    "duration": 13,
    "start_time": "2024-07-10T18:31:38.518Z"
   },
   {
    "duration": 91,
    "start_time": "2024-07-10T18:32:55.443Z"
   },
   {
    "duration": 88,
    "start_time": "2024-07-10T18:34:11.142Z"
   },
   {
    "duration": 7,
    "start_time": "2024-07-10T18:36:12.554Z"
   },
   {
    "duration": 8,
    "start_time": "2024-07-10T18:36:27.125Z"
   },
   {
    "duration": 28,
    "start_time": "2024-07-10T18:36:42.992Z"
   },
   {
    "duration": 90,
    "start_time": "2024-07-10T18:39:07.779Z"
   },
   {
    "duration": 80,
    "start_time": "2024-07-10T18:40:14.210Z"
   },
   {
    "duration": 83,
    "start_time": "2024-07-10T18:40:42.084Z"
   },
   {
    "duration": 19,
    "start_time": "2024-07-10T18:44:34.509Z"
   },
   {
    "duration": 8,
    "start_time": "2024-07-10T19:05:04.313Z"
   },
   {
    "duration": 36,
    "start_time": "2024-07-10T19:28:09.802Z"
   },
   {
    "duration": 71,
    "start_time": "2024-07-10T19:28:30.690Z"
   },
   {
    "duration": 1437,
    "start_time": "2024-07-10T19:33:04.251Z"
   },
   {
    "duration": 27,
    "start_time": "2024-07-10T19:33:05.695Z"
   },
   {
    "duration": 7,
    "start_time": "2024-07-10T19:33:05.724Z"
   },
   {
    "duration": 13,
    "start_time": "2024-07-10T19:33:05.734Z"
   },
   {
    "duration": 13,
    "start_time": "2024-07-10T19:33:05.753Z"
   },
   {
    "duration": 43,
    "start_time": "2024-07-10T19:33:05.773Z"
   },
   {
    "duration": 7,
    "start_time": "2024-07-10T19:33:05.820Z"
   },
   {
    "duration": 14,
    "start_time": "2024-07-10T19:33:05.831Z"
   },
   {
    "duration": 11,
    "start_time": "2024-07-10T19:33:05.848Z"
   },
   {
    "duration": 10,
    "start_time": "2024-07-10T19:33:05.901Z"
   },
   {
    "duration": 8,
    "start_time": "2024-07-10T19:33:05.914Z"
   },
   {
    "duration": 23,
    "start_time": "2024-07-10T19:33:05.925Z"
   },
   {
    "duration": 22,
    "start_time": "2024-07-10T19:33:05.953Z"
   },
   {
    "duration": 33,
    "start_time": "2024-07-10T19:33:05.986Z"
   },
   {
    "duration": 8,
    "start_time": "2024-07-10T19:33:06.022Z"
   },
   {
    "duration": 10,
    "start_time": "2024-07-10T19:33:06.034Z"
   },
   {
    "duration": 60,
    "start_time": "2024-07-10T19:33:06.048Z"
   },
   {
    "duration": 25,
    "start_time": "2024-07-10T19:33:06.112Z"
   },
   {
    "duration": 8,
    "start_time": "2024-07-10T19:33:06.140Z"
   },
   {
    "duration": 21,
    "start_time": "2024-07-10T19:33:06.151Z"
   },
   {
    "duration": 22,
    "start_time": "2024-07-10T19:33:06.201Z"
   },
   {
    "duration": 10,
    "start_time": "2024-07-10T19:33:06.227Z"
   },
   {
    "duration": 26,
    "start_time": "2024-07-10T19:33:06.240Z"
   },
   {
    "duration": 33,
    "start_time": "2024-07-10T19:33:06.269Z"
   },
   {
    "duration": 4,
    "start_time": "2024-07-10T19:33:06.305Z"
   },
   {
    "duration": 13,
    "start_time": "2024-07-10T19:33:06.312Z"
   },
   {
    "duration": 20,
    "start_time": "2024-07-10T19:33:06.328Z"
   },
   {
    "duration": 52,
    "start_time": "2024-07-10T19:33:06.352Z"
   },
   {
    "duration": 16,
    "start_time": "2024-07-10T19:33:06.407Z"
   },
   {
    "duration": 10,
    "start_time": "2024-07-10T19:33:06.426Z"
   },
   {
    "duration": 12,
    "start_time": "2024-07-10T19:33:06.441Z"
   },
   {
    "duration": 61,
    "start_time": "2024-07-10T19:33:06.456Z"
   },
   {
    "duration": 14,
    "start_time": "2024-07-10T19:33:06.522Z"
   },
   {
    "duration": 590,
    "start_time": "2024-07-10T19:33:06.540Z"
   },
   {
    "duration": 20,
    "start_time": "2024-07-10T19:33:07.133Z"
   },
   {
    "duration": 146,
    "start_time": "2024-07-10T19:33:07.156Z"
   },
   {
    "duration": 77,
    "start_time": "2024-07-10T19:33:07.306Z"
   },
   {
    "duration": 9,
    "start_time": "2024-07-10T19:33:07.403Z"
   },
   {
    "duration": 448,
    "start_time": "2024-07-10T19:33:07.416Z"
   },
   {
    "duration": 40,
    "start_time": "2024-07-10T19:33:07.870Z"
   },
   {
    "duration": 38,
    "start_time": "2024-07-10T19:33:07.921Z"
   },
   {
    "duration": 43,
    "start_time": "2024-07-10T19:33:07.962Z"
   },
   {
    "duration": 101,
    "start_time": "2024-07-10T19:33:08.009Z"
   },
   {
    "duration": 117,
    "start_time": "2024-07-10T19:33:08.112Z"
   },
   {
    "duration": 625,
    "start_time": "2024-07-10T19:33:08.233Z"
   },
   {
    "duration": 0,
    "start_time": "2024-07-10T19:33:08.861Z"
   },
   {
    "duration": 0,
    "start_time": "2024-07-10T19:33:08.864Z"
   },
   {
    "duration": 0,
    "start_time": "2024-07-10T19:33:08.866Z"
   },
   {
    "duration": 0,
    "start_time": "2024-07-10T19:33:08.868Z"
   },
   {
    "duration": 0,
    "start_time": "2024-07-10T19:33:08.871Z"
   },
   {
    "duration": 0,
    "start_time": "2024-07-10T19:33:08.873Z"
   },
   {
    "duration": 0,
    "start_time": "2024-07-10T19:33:08.875Z"
   },
   {
    "duration": 1,
    "start_time": "2024-07-10T19:33:08.877Z"
   },
   {
    "duration": 0,
    "start_time": "2024-07-10T19:33:08.902Z"
   },
   {
    "duration": 0,
    "start_time": "2024-07-10T19:33:08.903Z"
   },
   {
    "duration": 0,
    "start_time": "2024-07-10T19:33:08.907Z"
   },
   {
    "duration": 0,
    "start_time": "2024-07-10T19:33:08.909Z"
   },
   {
    "duration": 0,
    "start_time": "2024-07-10T19:33:08.911Z"
   },
   {
    "duration": 0,
    "start_time": "2024-07-10T19:33:08.913Z"
   },
   {
    "duration": 0,
    "start_time": "2024-07-10T19:33:08.914Z"
   },
   {
    "duration": 0,
    "start_time": "2024-07-10T19:33:08.916Z"
   },
   {
    "duration": 0,
    "start_time": "2024-07-10T19:33:08.918Z"
   },
   {
    "duration": 0,
    "start_time": "2024-07-10T19:33:08.920Z"
   },
   {
    "duration": 0,
    "start_time": "2024-07-10T19:33:08.922Z"
   },
   {
    "duration": 0,
    "start_time": "2024-07-10T19:33:08.924Z"
   },
   {
    "duration": 0,
    "start_time": "2024-07-10T19:33:08.925Z"
   },
   {
    "duration": 0,
    "start_time": "2024-07-10T19:33:08.927Z"
   },
   {
    "duration": 0,
    "start_time": "2024-07-10T19:33:08.934Z"
   },
   {
    "duration": 32,
    "start_time": "2024-07-10T19:34:48.495Z"
   },
   {
    "duration": 1403,
    "start_time": "2024-07-10T19:35:00.188Z"
   },
   {
    "duration": 21,
    "start_time": "2024-07-10T19:35:01.601Z"
   },
   {
    "duration": 4,
    "start_time": "2024-07-10T19:35:01.625Z"
   },
   {
    "duration": 14,
    "start_time": "2024-07-10T19:35:01.633Z"
   },
   {
    "duration": 14,
    "start_time": "2024-07-10T19:35:01.652Z"
   },
   {
    "duration": 47,
    "start_time": "2024-07-10T19:35:01.669Z"
   },
   {
    "duration": 7,
    "start_time": "2024-07-10T19:35:01.718Z"
   },
   {
    "duration": 14,
    "start_time": "2024-07-10T19:35:01.728Z"
   },
   {
    "duration": 8,
    "start_time": "2024-07-10T19:35:01.745Z"
   },
   {
    "duration": 47,
    "start_time": "2024-07-10T19:35:01.756Z"
   },
   {
    "duration": 8,
    "start_time": "2024-07-10T19:35:01.806Z"
   },
   {
    "duration": 21,
    "start_time": "2024-07-10T19:35:01.819Z"
   },
   {
    "duration": 11,
    "start_time": "2024-07-10T19:35:01.843Z"
   },
   {
    "duration": 52,
    "start_time": "2024-07-10T19:35:01.861Z"
   },
   {
    "duration": 8,
    "start_time": "2024-07-10T19:35:01.916Z"
   },
   {
    "duration": 9,
    "start_time": "2024-07-10T19:35:01.927Z"
   },
   {
    "duration": 9,
    "start_time": "2024-07-10T19:35:01.939Z"
   },
   {
    "duration": 65,
    "start_time": "2024-07-10T19:35:01.951Z"
   },
   {
    "duration": 7,
    "start_time": "2024-07-10T19:35:02.021Z"
   },
   {
    "duration": 20,
    "start_time": "2024-07-10T19:35:02.032Z"
   },
   {
    "duration": 51,
    "start_time": "2024-07-10T19:35:02.055Z"
   },
   {
    "duration": 8,
    "start_time": "2024-07-10T19:35:02.112Z"
   },
   {
    "duration": 20,
    "start_time": "2024-07-10T19:35:02.123Z"
   },
   {
    "duration": 4,
    "start_time": "2024-07-10T19:35:02.147Z"
   },
   {
    "duration": 4,
    "start_time": "2024-07-10T19:35:02.157Z"
   },
   {
    "duration": 13,
    "start_time": "2024-07-10T19:35:02.201Z"
   },
   {
    "duration": 18,
    "start_time": "2024-07-10T19:35:02.218Z"
   },
   {
    "duration": 14,
    "start_time": "2024-07-10T19:35:02.239Z"
   },
   {
    "duration": 49,
    "start_time": "2024-07-10T19:35:02.259Z"
   },
   {
    "duration": 8,
    "start_time": "2024-07-10T19:35:02.314Z"
   },
   {
    "duration": 11,
    "start_time": "2024-07-10T19:35:02.326Z"
   },
   {
    "duration": 18,
    "start_time": "2024-07-10T19:35:02.339Z"
   },
   {
    "duration": 46,
    "start_time": "2024-07-10T19:35:02.360Z"
   },
   {
    "duration": 563,
    "start_time": "2024-07-10T19:35:02.410Z"
   },
   {
    "duration": 29,
    "start_time": "2024-07-10T19:35:02.976Z"
   },
   {
    "duration": 131,
    "start_time": "2024-07-10T19:35:03.008Z"
   },
   {
    "duration": 80,
    "start_time": "2024-07-10T19:35:03.142Z"
   },
   {
    "duration": 8,
    "start_time": "2024-07-10T19:35:03.226Z"
   },
   {
    "duration": 447,
    "start_time": "2024-07-10T19:35:03.238Z"
   },
   {
    "duration": 37,
    "start_time": "2024-07-10T19:35:03.691Z"
   },
   {
    "duration": 38,
    "start_time": "2024-07-10T19:35:03.741Z"
   },
   {
    "duration": 37,
    "start_time": "2024-07-10T19:35:03.782Z"
   },
   {
    "duration": 102,
    "start_time": "2024-07-10T19:35:03.822Z"
   },
   {
    "duration": 105,
    "start_time": "2024-07-10T19:35:03.927Z"
   },
   {
    "duration": 33,
    "start_time": "2024-07-10T19:35:04.036Z"
   },
   {
    "duration": 33,
    "start_time": "2024-07-10T19:35:04.072Z"
   },
   {
    "duration": 9,
    "start_time": "2024-07-10T19:35:04.109Z"
   },
   {
    "duration": 118,
    "start_time": "2024-07-10T19:35:04.121Z"
   },
   {
    "duration": 7,
    "start_time": "2024-07-10T19:35:04.241Z"
   },
   {
    "duration": 107,
    "start_time": "2024-07-10T19:35:04.252Z"
   },
   {
    "duration": 19,
    "start_time": "2024-07-10T19:35:04.362Z"
   },
   {
    "duration": 90,
    "start_time": "2024-07-10T19:35:04.401Z"
   },
   {
    "duration": 12,
    "start_time": "2024-07-10T19:35:04.503Z"
   },
   {
    "duration": 10,
    "start_time": "2024-07-10T19:35:04.521Z"
   },
   {
    "duration": 107,
    "start_time": "2024-07-10T19:35:04.534Z"
   },
   {
    "duration": 10,
    "start_time": "2024-07-10T19:35:04.643Z"
   },
   {
    "duration": 97,
    "start_time": "2024-07-10T19:35:04.656Z"
   },
   {
    "duration": 6,
    "start_time": "2024-07-10T19:35:04.756Z"
   },
   {
    "duration": 36,
    "start_time": "2024-07-10T19:35:04.765Z"
   },
   {
    "duration": 4,
    "start_time": "2024-07-10T19:35:04.804Z"
   },
   {
    "duration": 265,
    "start_time": "2024-07-10T19:35:04.811Z"
   },
   {
    "duration": 52,
    "start_time": "2024-07-10T19:35:05.079Z"
   },
   {
    "duration": 32,
    "start_time": "2024-07-10T19:35:05.134Z"
   },
   {
    "duration": 40,
    "start_time": "2024-07-10T19:35:05.169Z"
   },
   {
    "duration": 14,
    "start_time": "2024-07-10T19:35:05.214Z"
   },
   {
    "duration": 40,
    "start_time": "2024-07-10T19:35:05.231Z"
   },
   {
    "duration": 32,
    "start_time": "2024-07-10T19:35:05.302Z"
   },
   {
    "duration": 19,
    "start_time": "2024-07-10T19:35:05.336Z"
   },
   {
    "duration": 1433,
    "start_time": "2024-07-16T06:21:30.542Z"
   },
   {
    "duration": 28,
    "start_time": "2024-07-16T06:21:31.979Z"
   },
   {
    "duration": 4,
    "start_time": "2024-07-16T06:21:32.009Z"
   },
   {
    "duration": 12,
    "start_time": "2024-07-16T06:21:32.018Z"
   },
   {
    "duration": 13,
    "start_time": "2024-07-16T06:21:32.033Z"
   },
   {
    "duration": 15,
    "start_time": "2024-07-16T06:21:32.049Z"
   },
   {
    "duration": 6,
    "start_time": "2024-07-16T06:21:32.105Z"
   },
   {
    "duration": 14,
    "start_time": "2024-07-16T06:21:32.114Z"
   },
   {
    "duration": 8,
    "start_time": "2024-07-16T06:21:32.131Z"
   },
   {
    "duration": 8,
    "start_time": "2024-07-16T06:21:32.146Z"
   },
   {
    "duration": 51,
    "start_time": "2024-07-16T06:21:32.157Z"
   },
   {
    "duration": 18,
    "start_time": "2024-07-16T06:21:32.212Z"
   },
   {
    "duration": 6,
    "start_time": "2024-07-16T06:21:32.233Z"
   },
   {
    "duration": 16,
    "start_time": "2024-07-16T06:21:32.242Z"
   },
   {
    "duration": 46,
    "start_time": "2024-07-16T06:21:32.261Z"
   },
   {
    "duration": 10,
    "start_time": "2024-07-16T06:21:32.311Z"
   },
   {
    "duration": 10,
    "start_time": "2024-07-16T06:21:32.324Z"
   },
   {
    "duration": 19,
    "start_time": "2024-07-16T06:21:32.336Z"
   },
   {
    "duration": 52,
    "start_time": "2024-07-16T06:21:32.358Z"
   },
   {
    "duration": 19,
    "start_time": "2024-07-16T06:21:32.413Z"
   },
   {
    "duration": 19,
    "start_time": "2024-07-16T06:21:32.435Z"
   },
   {
    "duration": 7,
    "start_time": "2024-07-16T06:21:32.457Z"
   },
   {
    "duration": 20,
    "start_time": "2024-07-16T06:21:32.507Z"
   },
   {
    "duration": 3,
    "start_time": "2024-07-16T06:21:32.530Z"
   },
   {
    "duration": 4,
    "start_time": "2024-07-16T06:21:32.536Z"
   },
   {
    "duration": 12,
    "start_time": "2024-07-16T06:21:32.544Z"
   },
   {
    "duration": 58,
    "start_time": "2024-07-16T06:21:32.561Z"
   },
   {
    "duration": 11,
    "start_time": "2024-07-16T06:21:32.629Z"
   },
   {
    "duration": 14,
    "start_time": "2024-07-16T06:21:32.643Z"
   },
   {
    "duration": 46,
    "start_time": "2024-07-16T06:21:32.660Z"
   },
   {
    "duration": 11,
    "start_time": "2024-07-16T06:21:32.709Z"
   },
   {
    "duration": 15,
    "start_time": "2024-07-16T06:21:32.724Z"
   },
   {
    "duration": 14,
    "start_time": "2024-07-16T06:21:32.742Z"
   },
   {
    "duration": 583,
    "start_time": "2024-07-16T06:21:32.759Z"
   },
   {
    "duration": 19,
    "start_time": "2024-07-16T06:21:33.345Z"
   },
   {
    "duration": 142,
    "start_time": "2024-07-16T06:21:33.367Z"
   },
   {
    "duration": 72,
    "start_time": "2024-07-16T06:21:33.512Z"
   },
   {
    "duration": 23,
    "start_time": "2024-07-16T06:21:33.587Z"
   },
   {
    "duration": 414,
    "start_time": "2024-07-16T06:21:33.613Z"
   },
   {
    "duration": 24,
    "start_time": "2024-07-16T06:21:34.030Z"
   },
   {
    "duration": 69,
    "start_time": "2024-07-16T06:21:34.056Z"
   },
   {
    "duration": 18,
    "start_time": "2024-07-16T06:21:34.128Z"
   },
   {
    "duration": 91,
    "start_time": "2024-07-16T06:21:34.149Z"
   },
   {
    "duration": 95,
    "start_time": "2024-07-16T06:21:34.243Z"
   },
   {
    "duration": 34,
    "start_time": "2024-07-16T06:21:34.341Z"
   },
   {
    "duration": 28,
    "start_time": "2024-07-16T06:21:34.378Z"
   },
   {
    "duration": 10,
    "start_time": "2024-07-16T06:21:34.409Z"
   },
   {
    "duration": 115,
    "start_time": "2024-07-16T06:21:34.423Z"
   },
   {
    "duration": 7,
    "start_time": "2024-07-16T06:21:34.542Z"
   },
   {
    "duration": 112,
    "start_time": "2024-07-16T06:21:34.552Z"
   },
   {
    "duration": 17,
    "start_time": "2024-07-16T06:21:34.669Z"
   },
   {
    "duration": 86,
    "start_time": "2024-07-16T06:21:34.688Z"
   },
   {
    "duration": 30,
    "start_time": "2024-07-16T06:21:34.776Z"
   },
   {
    "duration": 9,
    "start_time": "2024-07-16T06:21:34.809Z"
   },
   {
    "duration": 100,
    "start_time": "2024-07-16T06:21:34.821Z"
   },
   {
    "duration": 7,
    "start_time": "2024-07-16T06:21:34.924Z"
   },
   {
    "duration": 102,
    "start_time": "2024-07-16T06:21:34.934Z"
   },
   {
    "duration": 6,
    "start_time": "2024-07-16T06:21:35.039Z"
   },
   {
    "duration": 11,
    "start_time": "2024-07-16T06:21:35.048Z"
   },
   {
    "duration": 4,
    "start_time": "2024-07-16T06:21:35.061Z"
   },
   {
    "duration": 259,
    "start_time": "2024-07-16T06:21:35.068Z"
   },
   {
    "duration": 38,
    "start_time": "2024-07-16T06:21:35.331Z"
   },
   {
    "duration": 51,
    "start_time": "2024-07-16T06:21:35.372Z"
   },
   {
    "duration": 15,
    "start_time": "2024-07-16T06:21:35.426Z"
   },
   {
    "duration": 12,
    "start_time": "2024-07-16T06:21:35.444Z"
   },
   {
    "duration": 76,
    "start_time": "2024-07-16T06:21:35.459Z"
   },
   {
    "duration": 33,
    "start_time": "2024-07-16T06:21:35.538Z"
   },
   {
    "duration": 42,
    "start_time": "2024-07-16T06:21:35.574Z"
   },
   {
    "duration": 5612,
    "start_time": "2024-07-17T17:37:40.912Z"
   },
   {
    "duration": 49,
    "start_time": "2024-07-17T17:37:46.529Z"
   },
   {
    "duration": 8,
    "start_time": "2024-07-17T17:37:46.581Z"
   },
   {
    "duration": 14,
    "start_time": "2024-07-17T17:37:46.594Z"
   },
   {
    "duration": 31,
    "start_time": "2024-07-17T17:37:46.611Z"
   },
   {
    "duration": 28,
    "start_time": "2024-07-17T17:37:46.649Z"
   },
   {
    "duration": 17,
    "start_time": "2024-07-17T17:37:46.685Z"
   },
   {
    "duration": 24,
    "start_time": "2024-07-17T17:37:46.708Z"
   },
   {
    "duration": 16,
    "start_time": "2024-07-17T17:37:46.736Z"
   },
   {
    "duration": 21,
    "start_time": "2024-07-17T17:37:46.761Z"
   },
   {
    "duration": 27,
    "start_time": "2024-07-17T17:37:46.786Z"
   },
   {
    "duration": 44,
    "start_time": "2024-07-17T17:37:46.817Z"
   },
   {
    "duration": 8,
    "start_time": "2024-07-17T17:37:46.866Z"
   },
   {
    "duration": 30,
    "start_time": "2024-07-17T17:37:46.877Z"
   },
   {
    "duration": 16,
    "start_time": "2024-07-17T17:37:46.911Z"
   },
   {
    "duration": 14,
    "start_time": "2024-07-17T17:37:46.936Z"
   },
   {
    "duration": 20,
    "start_time": "2024-07-17T17:37:46.956Z"
   },
   {
    "duration": 44,
    "start_time": "2024-07-17T17:37:46.981Z"
   },
   {
    "duration": 16,
    "start_time": "2024-07-17T17:37:47.030Z"
   },
   {
    "duration": 28,
    "start_time": "2024-07-17T17:37:47.050Z"
   },
   {
    "duration": 28,
    "start_time": "2024-07-17T17:37:47.081Z"
   },
   {
    "duration": 16,
    "start_time": "2024-07-17T17:37:47.126Z"
   },
   {
    "duration": 35,
    "start_time": "2024-07-17T17:37:47.148Z"
   },
   {
    "duration": 3,
    "start_time": "2024-07-17T17:37:47.186Z"
   },
   {
    "duration": 6,
    "start_time": "2024-07-17T17:37:47.193Z"
   },
   {
    "duration": 33,
    "start_time": "2024-07-17T17:37:47.203Z"
   },
   {
    "duration": 19,
    "start_time": "2024-07-17T17:37:47.240Z"
   },
   {
    "duration": 14,
    "start_time": "2024-07-17T17:37:47.269Z"
   },
   {
    "duration": 46,
    "start_time": "2024-07-17T17:37:47.287Z"
   },
   {
    "duration": 10,
    "start_time": "2024-07-17T17:37:47.342Z"
   },
   {
    "duration": 13,
    "start_time": "2024-07-17T17:37:47.355Z"
   },
   {
    "duration": 25,
    "start_time": "2024-07-17T17:37:47.371Z"
   },
   {
    "duration": 36,
    "start_time": "2024-07-17T17:37:47.401Z"
   },
   {
    "duration": 623,
    "start_time": "2024-07-17T17:37:47.440Z"
   },
   {
    "duration": 25,
    "start_time": "2024-07-17T17:37:48.066Z"
   },
   {
    "duration": 110,
    "start_time": "2024-07-17T17:37:48.094Z"
   },
   {
    "duration": 104,
    "start_time": "2024-07-17T17:37:48.208Z"
   },
   {
    "duration": 8,
    "start_time": "2024-07-17T17:37:48.315Z"
   },
   {
    "duration": 468,
    "start_time": "2024-07-17T17:37:48.326Z"
   },
   {
    "duration": 36,
    "start_time": "2024-07-17T17:37:48.798Z"
   },
   {
    "duration": 40,
    "start_time": "2024-07-17T17:37:48.838Z"
   },
   {
    "duration": 53,
    "start_time": "2024-07-17T17:37:48.881Z"
   },
   {
    "duration": 76,
    "start_time": "2024-07-17T17:37:48.937Z"
   },
   {
    "duration": 94,
    "start_time": "2024-07-17T17:37:49.017Z"
   },
   {
    "duration": 52,
    "start_time": "2024-07-17T17:37:49.124Z"
   },
   {
    "duration": 11,
    "start_time": "2024-07-17T17:37:49.180Z"
   },
   {
    "duration": 15,
    "start_time": "2024-07-17T17:37:49.196Z"
   },
   {
    "duration": 116,
    "start_time": "2024-07-17T17:37:49.214Z"
   },
   {
    "duration": 12,
    "start_time": "2024-07-17T17:37:49.332Z"
   },
   {
    "duration": 119,
    "start_time": "2024-07-17T17:37:49.348Z"
   },
   {
    "duration": 21,
    "start_time": "2024-07-17T17:37:49.474Z"
   },
   {
    "duration": 98,
    "start_time": "2024-07-17T17:37:49.499Z"
   },
   {
    "duration": 8,
    "start_time": "2024-07-17T17:37:49.601Z"
   },
   {
    "duration": 10,
    "start_time": "2024-07-17T17:37:49.624Z"
   },
   {
    "duration": 154,
    "start_time": "2024-07-17T17:37:49.641Z"
   },
   {
    "duration": 11,
    "start_time": "2024-07-17T17:37:49.799Z"
   },
   {
    "duration": 100,
    "start_time": "2024-07-17T17:37:49.816Z"
   },
   {
    "duration": 15,
    "start_time": "2024-07-17T17:37:49.919Z"
   },
   {
    "duration": 22,
    "start_time": "2024-07-17T17:37:49.941Z"
   },
   {
    "duration": 4,
    "start_time": "2024-07-17T17:37:49.966Z"
   },
   {
    "duration": 243,
    "start_time": "2024-07-17T17:37:49.972Z"
   },
   {
    "duration": 63,
    "start_time": "2024-07-17T17:37:50.218Z"
   },
   {
    "duration": 49,
    "start_time": "2024-07-17T17:37:50.284Z"
   },
   {
    "duration": 27,
    "start_time": "2024-07-17T17:37:50.336Z"
   },
   {
    "duration": 20,
    "start_time": "2024-07-17T17:37:50.371Z"
   },
   {
    "duration": 45,
    "start_time": "2024-07-17T17:37:50.394Z"
   },
   {
    "duration": 37,
    "start_time": "2024-07-17T17:37:50.442Z"
   },
   {
    "duration": 18,
    "start_time": "2024-07-17T17:37:50.487Z"
   },
   {
    "duration": 1478,
    "start_time": "2024-07-18T03:30:48.333Z"
   },
   {
    "duration": 25,
    "start_time": "2024-07-18T03:30:49.814Z"
   },
   {
    "duration": 4,
    "start_time": "2024-07-18T03:30:49.842Z"
   },
   {
    "duration": 14,
    "start_time": "2024-07-18T03:30:49.852Z"
   },
   {
    "duration": 42,
    "start_time": "2024-07-18T03:30:49.869Z"
   },
   {
    "duration": 16,
    "start_time": "2024-07-18T03:30:49.915Z"
   },
   {
    "duration": 7,
    "start_time": "2024-07-18T03:30:49.935Z"
   },
   {
    "duration": 57,
    "start_time": "2024-07-18T03:30:49.945Z"
   },
   {
    "duration": 7,
    "start_time": "2024-07-18T03:30:50.005Z"
   },
   {
    "duration": 8,
    "start_time": "2024-07-18T03:30:50.019Z"
   },
   {
    "duration": 8,
    "start_time": "2024-07-18T03:30:50.031Z"
   },
   {
    "duration": 63,
    "start_time": "2024-07-18T03:30:50.043Z"
   },
   {
    "duration": 6,
    "start_time": "2024-07-18T03:30:50.109Z"
   },
   {
    "duration": 15,
    "start_time": "2024-07-18T03:30:50.118Z"
   },
   {
    "duration": 7,
    "start_time": "2024-07-18T03:30:50.136Z"
   },
   {
    "duration": 56,
    "start_time": "2024-07-18T03:30:50.147Z"
   },
   {
    "duration": 10,
    "start_time": "2024-07-18T03:30:50.206Z"
   },
   {
    "duration": 20,
    "start_time": "2024-07-18T03:30:50.219Z"
   },
   {
    "duration": 7,
    "start_time": "2024-07-18T03:30:50.242Z"
   },
   {
    "duration": 67,
    "start_time": "2024-07-18T03:30:50.253Z"
   },
   {
    "duration": 20,
    "start_time": "2024-07-18T03:30:50.324Z"
   },
   {
    "duration": 7,
    "start_time": "2024-07-18T03:30:50.347Z"
   },
   {
    "duration": 57,
    "start_time": "2024-07-18T03:30:50.357Z"
   },
   {
    "duration": 4,
    "start_time": "2024-07-18T03:30:50.416Z"
   },
   {
    "duration": 4,
    "start_time": "2024-07-18T03:30:50.423Z"
   },
   {
    "duration": 11,
    "start_time": "2024-07-18T03:30:50.431Z"
   },
   {
    "duration": 16,
    "start_time": "2024-07-18T03:30:50.445Z"
   },
   {
    "duration": 10,
    "start_time": "2024-07-18T03:30:50.509Z"
   },
   {
    "duration": 15,
    "start_time": "2024-07-18T03:30:50.522Z"
   },
   {
    "duration": 8,
    "start_time": "2024-07-18T03:30:50.540Z"
   },
   {
    "duration": 11,
    "start_time": "2024-07-18T03:30:50.601Z"
   },
   {
    "duration": 18,
    "start_time": "2024-07-18T03:30:50.615Z"
   },
   {
    "duration": 15,
    "start_time": "2024-07-18T03:30:50.637Z"
   },
   {
    "duration": 599,
    "start_time": "2024-07-18T03:30:50.655Z"
   },
   {
    "duration": 44,
    "start_time": "2024-07-18T03:30:51.258Z"
   },
   {
    "duration": 104,
    "start_time": "2024-07-18T03:30:51.305Z"
   },
   {
    "duration": 92,
    "start_time": "2024-07-18T03:30:51.412Z"
   },
   {
    "duration": 8,
    "start_time": "2024-07-18T03:30:51.507Z"
   },
   {
    "duration": 484,
    "start_time": "2024-07-18T03:30:51.519Z"
   },
   {
    "duration": 27,
    "start_time": "2024-07-18T03:30:52.007Z"
   },
   {
    "duration": 78,
    "start_time": "2024-07-18T03:30:52.038Z"
   },
   {
    "duration": 20,
    "start_time": "2024-07-18T03:30:52.119Z"
   },
   {
    "duration": 107,
    "start_time": "2024-07-18T03:30:52.141Z"
   },
   {
    "duration": 104,
    "start_time": "2024-07-18T03:30:52.252Z"
   },
   {
    "duration": 49,
    "start_time": "2024-07-18T03:30:52.359Z"
   },
   {
    "duration": 8,
    "start_time": "2024-07-18T03:30:52.411Z"
   },
   {
    "duration": 10,
    "start_time": "2024-07-18T03:30:52.423Z"
   },
   {
    "duration": 131,
    "start_time": "2024-07-18T03:30:52.436Z"
   },
   {
    "duration": 8,
    "start_time": "2024-07-18T03:30:52.571Z"
   },
   {
    "duration": 103,
    "start_time": "2024-07-18T03:30:52.602Z"
   },
   {
    "duration": 16,
    "start_time": "2024-07-18T03:30:52.709Z"
   },
   {
    "duration": 104,
    "start_time": "2024-07-18T03:30:52.727Z"
   },
   {
    "duration": 8,
    "start_time": "2024-07-18T03:30:52.835Z"
   },
   {
    "duration": 10,
    "start_time": "2024-07-18T03:30:52.847Z"
   },
   {
    "duration": 131,
    "start_time": "2024-07-18T03:30:52.861Z"
   },
   {
    "duration": 8,
    "start_time": "2024-07-18T03:30:53.002Z"
   },
   {
    "duration": 100,
    "start_time": "2024-07-18T03:30:53.013Z"
   },
   {
    "duration": 5,
    "start_time": "2024-07-18T03:30:53.116Z"
   },
   {
    "duration": 10,
    "start_time": "2024-07-18T03:30:53.125Z"
   },
   {
    "duration": 4,
    "start_time": "2024-07-18T03:30:53.140Z"
   },
   {
    "duration": 294,
    "start_time": "2024-07-18T03:30:53.147Z"
   },
   {
    "duration": 60,
    "start_time": "2024-07-18T03:30:53.444Z"
   },
   {
    "duration": 33,
    "start_time": "2024-07-18T03:30:53.507Z"
   },
   {
    "duration": 14,
    "start_time": "2024-07-18T03:30:53.543Z"
   },
   {
    "duration": 45,
    "start_time": "2024-07-18T03:30:53.560Z"
   },
   {
    "duration": 40,
    "start_time": "2024-07-18T03:30:53.608Z"
   },
   {
    "duration": 60,
    "start_time": "2024-07-18T03:30:53.651Z"
   },
   {
    "duration": 19,
    "start_time": "2024-07-18T03:30:53.714Z"
   },
   {
    "duration": 1504,
    "start_time": "2024-07-19T02:03:28.131Z"
   },
   {
    "duration": 20,
    "start_time": "2024-07-19T02:03:29.639Z"
   },
   {
    "duration": 4,
    "start_time": "2024-07-19T02:03:29.662Z"
   },
   {
    "duration": 14,
    "start_time": "2024-07-19T02:03:29.670Z"
   },
   {
    "duration": 46,
    "start_time": "2024-07-19T02:03:29.687Z"
   },
   {
    "duration": 18,
    "start_time": "2024-07-19T02:03:29.736Z"
   },
   {
    "duration": 8,
    "start_time": "2024-07-19T02:03:29.757Z"
   },
   {
    "duration": 16,
    "start_time": "2024-07-19T02:03:29.768Z"
   },
   {
    "duration": 50,
    "start_time": "2024-07-19T02:03:29.787Z"
   },
   {
    "duration": 10,
    "start_time": "2024-07-19T02:03:29.844Z"
   },
   {
    "duration": 8,
    "start_time": "2024-07-19T02:03:29.857Z"
   },
   {
    "duration": 62,
    "start_time": "2024-07-19T02:03:29.870Z"
   },
   {
    "duration": 6,
    "start_time": "2024-07-19T02:03:29.935Z"
   },
   {
    "duration": 16,
    "start_time": "2024-07-19T02:03:29.945Z"
   },
   {
    "duration": 8,
    "start_time": "2024-07-19T02:03:29.965Z"
   },
   {
    "duration": 9,
    "start_time": "2024-07-19T02:03:29.976Z"
   },
   {
    "duration": 52,
    "start_time": "2024-07-19T02:03:29.987Z"
   },
   {
    "duration": 20,
    "start_time": "2024-07-19T02:03:30.042Z"
   },
   {
    "duration": 7,
    "start_time": "2024-07-19T02:03:30.066Z"
   },
   {
    "duration": 64,
    "start_time": "2024-07-19T02:03:30.076Z"
   },
   {
    "duration": 21,
    "start_time": "2024-07-19T02:03:30.143Z"
   },
   {
    "duration": 7,
    "start_time": "2024-07-19T02:03:30.167Z"
   },
   {
    "duration": 56,
    "start_time": "2024-07-19T02:03:30.177Z"
   },
   {
    "duration": 4,
    "start_time": "2024-07-19T02:03:30.235Z"
   },
   {
    "duration": 4,
    "start_time": "2024-07-19T02:03:30.242Z"
   },
   {
    "duration": 12,
    "start_time": "2024-07-19T02:03:30.249Z"
   },
   {
    "duration": 18,
    "start_time": "2024-07-19T02:03:30.264Z"
   },
   {
    "duration": 10,
    "start_time": "2024-07-19T02:03:30.336Z"
   },
   {
    "duration": 14,
    "start_time": "2024-07-19T02:03:30.349Z"
   },
   {
    "duration": 7,
    "start_time": "2024-07-19T02:03:30.367Z"
   },
   {
    "duration": 11,
    "start_time": "2024-07-19T02:03:30.377Z"
   },
   {
    "duration": 16,
    "start_time": "2024-07-19T02:03:30.429Z"
   },
   {
    "duration": 15,
    "start_time": "2024-07-19T02:03:30.448Z"
   },
   {
    "duration": 574,
    "start_time": "2024-07-19T02:03:30.466Z"
   },
   {
    "duration": 20,
    "start_time": "2024-07-19T02:03:31.043Z"
   },
   {
    "duration": 132,
    "start_time": "2024-07-19T02:03:31.066Z"
   },
   {
    "duration": 105,
    "start_time": "2024-07-19T02:03:31.202Z"
   },
   {
    "duration": 20,
    "start_time": "2024-07-19T02:03:31.312Z"
   },
   {
    "duration": 487,
    "start_time": "2024-07-19T02:03:31.335Z"
   },
   {
    "duration": 27,
    "start_time": "2024-07-19T02:03:31.830Z"
   },
   {
    "duration": 40,
    "start_time": "2024-07-19T02:03:31.860Z"
   },
   {
    "duration": 50,
    "start_time": "2024-07-19T02:03:31.903Z"
   },
   {
    "duration": 193,
    "start_time": "2024-07-19T02:03:31.957Z"
   },
   {
    "duration": 116,
    "start_time": "2024-07-19T02:03:32.154Z"
   },
   {
    "duration": 36,
    "start_time": "2024-07-19T02:03:32.273Z"
   },
   {
    "duration": 14,
    "start_time": "2024-07-19T02:03:32.334Z"
   },
   {
    "duration": 10,
    "start_time": "2024-07-19T02:03:32.352Z"
   },
   {
    "duration": 156,
    "start_time": "2024-07-19T02:03:32.365Z"
   },
   {
    "duration": 21,
    "start_time": "2024-07-19T02:03:32.524Z"
   },
   {
    "duration": 123,
    "start_time": "2024-07-19T02:03:32.549Z"
   },
   {
    "duration": 17,
    "start_time": "2024-07-19T02:03:32.675Z"
   },
   {
    "duration": 116,
    "start_time": "2024-07-19T02:03:32.696Z"
   },
   {
    "duration": 18,
    "start_time": "2024-07-19T02:03:32.815Z"
   },
   {
    "duration": 10,
    "start_time": "2024-07-19T02:03:32.838Z"
   },
   {
    "duration": 100,
    "start_time": "2024-07-19T02:03:32.851Z"
   },
   {
    "duration": 8,
    "start_time": "2024-07-19T02:03:32.953Z"
   },
   {
    "duration": 102,
    "start_time": "2024-07-19T02:03:32.964Z"
   },
   {
    "duration": 5,
    "start_time": "2024-07-19T02:03:33.070Z"
   },
   {
    "duration": 10,
    "start_time": "2024-07-19T02:03:33.078Z"
   },
   {
    "duration": 40,
    "start_time": "2024-07-19T02:03:33.092Z"
   },
   {
    "duration": 254,
    "start_time": "2024-07-19T02:03:33.135Z"
   },
   {
    "duration": 55,
    "start_time": "2024-07-19T02:03:33.391Z"
   },
   {
    "duration": 39,
    "start_time": "2024-07-19T02:03:33.450Z"
   },
   {
    "duration": 38,
    "start_time": "2024-07-19T02:03:33.492Z"
   },
   {
    "duration": 13,
    "start_time": "2024-07-19T02:03:33.533Z"
   },
   {
    "duration": 48,
    "start_time": "2024-07-19T02:03:33.549Z"
   },
   {
    "duration": 68,
    "start_time": "2024-07-19T02:03:33.600Z"
   },
   {
    "duration": 21,
    "start_time": "2024-07-19T02:03:33.672Z"
   },
   {
    "duration": 18,
    "start_time": "2024-07-19T02:04:34.974Z"
   },
   {
    "duration": 1463,
    "start_time": "2024-07-19T15:05:36.322Z"
   },
   {
    "duration": 27,
    "start_time": "2024-07-19T15:05:37.789Z"
   },
   {
    "duration": 4,
    "start_time": "2024-07-19T15:05:37.819Z"
   },
   {
    "duration": 13,
    "start_time": "2024-07-19T15:05:37.829Z"
   },
   {
    "duration": 15,
    "start_time": "2024-07-19T15:05:37.847Z"
   },
   {
    "duration": 16,
    "start_time": "2024-07-19T15:05:37.865Z"
   },
   {
    "duration": 45,
    "start_time": "2024-07-19T15:05:37.885Z"
   },
   {
    "duration": 14,
    "start_time": "2024-07-19T15:05:37.934Z"
   },
   {
    "duration": 8,
    "start_time": "2024-07-19T15:05:37.951Z"
   },
   {
    "duration": 9,
    "start_time": "2024-07-19T15:05:37.963Z"
   },
   {
    "duration": 8,
    "start_time": "2024-07-19T15:05:37.974Z"
   },
   {
    "duration": 19,
    "start_time": "2024-07-19T15:05:38.031Z"
   },
   {
    "duration": 6,
    "start_time": "2024-07-19T15:05:38.054Z"
   },
   {
    "duration": 14,
    "start_time": "2024-07-19T15:05:38.067Z"
   },
   {
    "duration": 48,
    "start_time": "2024-07-19T15:05:38.084Z"
   },
   {
    "duration": 9,
    "start_time": "2024-07-19T15:05:38.136Z"
   },
   {
    "duration": 10,
    "start_time": "2024-07-19T15:05:38.149Z"
   },
   {
    "duration": 20,
    "start_time": "2024-07-19T15:05:38.162Z"
   },
   {
    "duration": 51,
    "start_time": "2024-07-19T15:05:38.185Z"
   },
   {
    "duration": 21,
    "start_time": "2024-07-19T15:05:38.240Z"
   },
   {
    "duration": 20,
    "start_time": "2024-07-19T15:05:38.266Z"
   },
   {
    "duration": 43,
    "start_time": "2024-07-19T15:05:38.289Z"
   },
   {
    "duration": 19,
    "start_time": "2024-07-19T15:05:38.335Z"
   },
   {
    "duration": 4,
    "start_time": "2024-07-19T15:05:38.358Z"
   },
   {
    "duration": 3,
    "start_time": "2024-07-19T15:05:38.366Z"
   },
   {
    "duration": 12,
    "start_time": "2024-07-19T15:05:38.372Z"
   },
   {
    "duration": 60,
    "start_time": "2024-07-19T15:05:38.387Z"
   },
   {
    "duration": 16,
    "start_time": "2024-07-19T15:05:38.454Z"
   },
   {
    "duration": 18,
    "start_time": "2024-07-19T15:05:38.473Z"
   },
   {
    "duration": 38,
    "start_time": "2024-07-19T15:05:38.495Z"
   },
   {
    "duration": 10,
    "start_time": "2024-07-19T15:05:38.537Z"
   },
   {
    "duration": 17,
    "start_time": "2024-07-19T15:05:38.550Z"
   },
   {
    "duration": 15,
    "start_time": "2024-07-19T15:05:38.570Z"
   },
   {
    "duration": 567,
    "start_time": "2024-07-19T15:05:38.631Z"
   },
   {
    "duration": 30,
    "start_time": "2024-07-19T15:05:39.202Z"
   },
   {
    "duration": 124,
    "start_time": "2024-07-19T15:05:39.235Z"
   },
   {
    "duration": 83,
    "start_time": "2024-07-19T15:05:39.362Z"
   },
   {
    "duration": 8,
    "start_time": "2024-07-19T15:05:39.448Z"
   },
   {
    "duration": 455,
    "start_time": "2024-07-19T15:05:39.460Z"
   },
   {
    "duration": 36,
    "start_time": "2024-07-19T15:05:39.919Z"
   },
   {
    "duration": 34,
    "start_time": "2024-07-19T15:05:39.964Z"
   },
   {
    "duration": 42,
    "start_time": "2024-07-19T15:05:40.002Z"
   },
   {
    "duration": 97,
    "start_time": "2024-07-19T15:05:40.048Z"
   },
   {
    "duration": 102,
    "start_time": "2024-07-19T15:05:40.148Z"
   },
   {
    "duration": 32,
    "start_time": "2024-07-19T15:05:40.253Z"
   },
   {
    "duration": 7,
    "start_time": "2024-07-19T15:05:40.288Z"
   },
   {
    "duration": 9,
    "start_time": "2024-07-19T15:05:40.330Z"
   },
   {
    "duration": 108,
    "start_time": "2024-07-19T15:05:40.342Z"
   },
   {
    "duration": 7,
    "start_time": "2024-07-19T15:05:40.453Z"
   },
   {
    "duration": 110,
    "start_time": "2024-07-19T15:05:40.464Z"
   },
   {
    "duration": 16,
    "start_time": "2024-07-19T15:05:40.577Z"
   },
   {
    "duration": 92,
    "start_time": "2024-07-19T15:05:40.595Z"
   },
   {
    "duration": 7,
    "start_time": "2024-07-19T15:05:40.690Z"
   },
   {
    "duration": 35,
    "start_time": "2024-07-19T15:05:40.700Z"
   },
   {
    "duration": 94,
    "start_time": "2024-07-19T15:05:40.739Z"
   },
   {
    "duration": 8,
    "start_time": "2024-07-19T15:05:40.836Z"
   },
   {
    "duration": 102,
    "start_time": "2024-07-19T15:05:40.850Z"
   },
   {
    "duration": 7,
    "start_time": "2024-07-19T15:05:40.955Z"
   },
   {
    "duration": 13,
    "start_time": "2024-07-19T15:05:40.965Z"
   },
   {
    "duration": 4,
    "start_time": "2024-07-19T15:05:40.982Z"
   },
   {
    "duration": 238,
    "start_time": "2024-07-19T15:05:41.031Z"
   },
   {
    "duration": 38,
    "start_time": "2024-07-19T15:05:41.272Z"
   },
   {
    "duration": 32,
    "start_time": "2024-07-19T15:05:41.329Z"
   },
   {
    "duration": 14,
    "start_time": "2024-07-19T15:05:41.364Z"
   },
   {
    "duration": 14,
    "start_time": "2024-07-19T15:05:41.381Z"
   },
   {
    "duration": 41,
    "start_time": "2024-07-19T15:05:41.430Z"
   },
   {
    "duration": 31,
    "start_time": "2024-07-19T15:05:41.473Z"
   },
   {
    "duration": 19,
    "start_time": "2024-07-19T15:05:41.530Z"
   },
   {
    "duration": 1451,
    "start_time": "2024-07-25T20:51:30.431Z"
   },
   {
    "duration": 25,
    "start_time": "2024-07-25T20:51:31.885Z"
   },
   {
    "duration": 4,
    "start_time": "2024-07-25T20:51:31.912Z"
   },
   {
    "duration": 17,
    "start_time": "2024-07-25T20:51:31.920Z"
   },
   {
    "duration": 13,
    "start_time": "2024-07-25T20:51:31.940Z"
   },
   {
    "duration": 14,
    "start_time": "2024-07-25T20:51:31.956Z"
   },
   {
    "duration": 5,
    "start_time": "2024-07-25T20:51:31.973Z"
   },
   {
    "duration": 69,
    "start_time": "2024-07-25T20:51:31.981Z"
   },
   {
    "duration": 8,
    "start_time": "2024-07-25T20:51:32.054Z"
   },
   {
    "duration": 10,
    "start_time": "2024-07-25T20:51:32.070Z"
   },
   {
    "duration": 8,
    "start_time": "2024-07-25T20:51:32.083Z"
   },
   {
    "duration": 21,
    "start_time": "2024-07-25T20:51:32.130Z"
   },
   {
    "duration": 7,
    "start_time": "2024-07-25T20:51:32.153Z"
   },
   {
    "duration": 15,
    "start_time": "2024-07-25T20:51:32.163Z"
   },
   {
    "duration": 10,
    "start_time": "2024-07-25T20:51:32.181Z"
   },
   {
    "duration": 10,
    "start_time": "2024-07-25T20:51:32.230Z"
   },
   {
    "duration": 12,
    "start_time": "2024-07-25T20:51:32.244Z"
   },
   {
    "duration": 19,
    "start_time": "2024-07-25T20:51:32.259Z"
   },
   {
    "duration": 6,
    "start_time": "2024-07-25T20:51:32.281Z"
   },
   {
    "duration": 59,
    "start_time": "2024-07-25T20:51:32.290Z"
   },
   {
    "duration": 20,
    "start_time": "2024-07-25T20:51:32.352Z"
   },
   {
    "duration": 9,
    "start_time": "2024-07-25T20:51:32.375Z"
   },
   {
    "duration": 67,
    "start_time": "2024-07-25T20:51:32.388Z"
   },
   {
    "duration": 3,
    "start_time": "2024-07-25T20:51:32.459Z"
   },
   {
    "duration": 5,
    "start_time": "2024-07-25T20:51:32.464Z"
   },
   {
    "duration": 12,
    "start_time": "2024-07-25T20:51:32.472Z"
   },
   {
    "duration": 60,
    "start_time": "2024-07-25T20:51:32.488Z"
   },
   {
    "duration": 9,
    "start_time": "2024-07-25T20:51:32.559Z"
   },
   {
    "duration": 14,
    "start_time": "2024-07-25T20:51:32.572Z"
   },
   {
    "duration": 41,
    "start_time": "2024-07-25T20:51:32.589Z"
   },
   {
    "duration": 12,
    "start_time": "2024-07-25T20:51:32.633Z"
   },
   {
    "duration": 17,
    "start_time": "2024-07-25T20:51:32.648Z"
   },
   {
    "duration": 16,
    "start_time": "2024-07-25T20:51:32.668Z"
   },
   {
    "duration": 573,
    "start_time": "2024-07-25T20:51:32.687Z"
   },
   {
    "duration": 19,
    "start_time": "2024-07-25T20:51:33.263Z"
   },
   {
    "duration": 110,
    "start_time": "2024-07-25T20:51:33.284Z"
   },
   {
    "duration": 99,
    "start_time": "2024-07-25T20:51:33.397Z"
   },
   {
    "duration": 8,
    "start_time": "2024-07-25T20:51:33.499Z"
   },
   {
    "duration": 429,
    "start_time": "2024-07-25T20:51:33.511Z"
   },
   {
    "duration": 25,
    "start_time": "2024-07-25T20:51:33.943Z"
   },
   {
    "duration": 62,
    "start_time": "2024-07-25T20:51:33.970Z"
   },
   {
    "duration": 18,
    "start_time": "2024-07-25T20:51:34.036Z"
   },
   {
    "duration": 93,
    "start_time": "2024-07-25T20:51:34.056Z"
   },
   {
    "duration": 96,
    "start_time": "2024-07-25T20:51:34.152Z"
   },
   {
    "duration": 31,
    "start_time": "2024-07-25T20:51:34.251Z"
   },
   {
    "duration": 6,
    "start_time": "2024-07-25T20:51:34.286Z"
   },
   {
    "duration": 37,
    "start_time": "2024-07-25T20:51:34.295Z"
   },
   {
    "duration": 110,
    "start_time": "2024-07-25T20:51:34.335Z"
   },
   {
    "duration": 7,
    "start_time": "2024-07-25T20:51:34.449Z"
   },
   {
    "duration": 109,
    "start_time": "2024-07-25T20:51:34.459Z"
   },
   {
    "duration": 16,
    "start_time": "2024-07-25T20:51:34.571Z"
   },
   {
    "duration": 98,
    "start_time": "2024-07-25T20:51:34.591Z"
   },
   {
    "duration": 8,
    "start_time": "2024-07-25T20:51:34.692Z"
   },
   {
    "duration": 34,
    "start_time": "2024-07-25T20:51:34.703Z"
   },
   {
    "duration": 93,
    "start_time": "2024-07-25T20:51:34.740Z"
   },
   {
    "duration": 8,
    "start_time": "2024-07-25T20:51:34.836Z"
   },
   {
    "duration": 98,
    "start_time": "2024-07-25T20:51:34.847Z"
   },
   {
    "duration": 5,
    "start_time": "2024-07-25T20:51:34.949Z"
   },
   {
    "duration": 9,
    "start_time": "2024-07-25T20:51:34.958Z"
   },
   {
    "duration": 4,
    "start_time": "2024-07-25T20:51:34.971Z"
   },
   {
    "duration": 287,
    "start_time": "2024-07-25T20:51:34.977Z"
   },
   {
    "duration": 39,
    "start_time": "2024-07-25T20:51:35.267Z"
   },
   {
    "duration": 50,
    "start_time": "2024-07-25T20:51:35.309Z"
   },
   {
    "duration": 16,
    "start_time": "2024-07-25T20:51:35.361Z"
   },
   {
    "duration": 14,
    "start_time": "2024-07-25T20:51:35.380Z"
   },
   {
    "duration": 40,
    "start_time": "2024-07-25T20:51:35.432Z"
   },
   {
    "duration": 31,
    "start_time": "2024-07-25T20:51:35.475Z"
   },
   {
    "duration": 18,
    "start_time": "2024-07-25T20:51:35.531Z"
   },
   {
    "duration": 1513,
    "start_time": "2024-07-29T15:18:28.892Z"
   },
   {
    "duration": 28,
    "start_time": "2024-07-29T15:18:30.408Z"
   },
   {
    "duration": 5,
    "start_time": "2024-07-29T15:18:30.438Z"
   },
   {
    "duration": 14,
    "start_time": "2024-07-29T15:18:30.448Z"
   },
   {
    "duration": 37,
    "start_time": "2024-07-29T15:18:30.465Z"
   },
   {
    "duration": 16,
    "start_time": "2024-07-29T15:18:30.506Z"
   },
   {
    "duration": 10,
    "start_time": "2024-07-29T15:18:30.525Z"
   },
   {
    "duration": 15,
    "start_time": "2024-07-29T15:18:30.538Z"
   },
   {
    "duration": 48,
    "start_time": "2024-07-29T15:18:30.557Z"
   },
   {
    "duration": 8,
    "start_time": "2024-07-29T15:18:30.612Z"
   },
   {
    "duration": 9,
    "start_time": "2024-07-29T15:18:30.624Z"
   },
   {
    "duration": 66,
    "start_time": "2024-07-29T15:18:30.636Z"
   },
   {
    "duration": 6,
    "start_time": "2024-07-29T15:18:30.705Z"
   },
   {
    "duration": 15,
    "start_time": "2024-07-29T15:18:30.715Z"
   },
   {
    "duration": 8,
    "start_time": "2024-07-29T15:18:30.734Z"
   },
   {
    "duration": 57,
    "start_time": "2024-07-29T15:18:30.746Z"
   },
   {
    "duration": 9,
    "start_time": "2024-07-29T15:18:30.807Z"
   },
   {
    "duration": 22,
    "start_time": "2024-07-29T15:18:30.820Z"
   },
   {
    "duration": 7,
    "start_time": "2024-07-29T15:18:30.845Z"
   },
   {
    "duration": 62,
    "start_time": "2024-07-29T15:18:30.856Z"
   },
   {
    "duration": 22,
    "start_time": "2024-07-29T15:18:30.921Z"
   },
   {
    "duration": 8,
    "start_time": "2024-07-29T15:18:30.946Z"
   },
   {
    "duration": 64,
    "start_time": "2024-07-29T15:18:30.957Z"
   },
   {
    "duration": 3,
    "start_time": "2024-07-29T15:18:31.024Z"
   },
   {
    "duration": 4,
    "start_time": "2024-07-29T15:18:31.031Z"
   },
   {
    "duration": 12,
    "start_time": "2024-07-29T15:18:31.038Z"
   },
   {
    "duration": 62,
    "start_time": "2024-07-29T15:18:31.053Z"
   },
   {
    "duration": 12,
    "start_time": "2024-07-29T15:18:31.126Z"
   },
   {
    "duration": 14,
    "start_time": "2024-07-29T15:18:31.141Z"
   },
   {
    "duration": 45,
    "start_time": "2024-07-29T15:18:31.159Z"
   },
   {
    "duration": 12,
    "start_time": "2024-07-29T15:18:31.208Z"
   },
   {
    "duration": 16,
    "start_time": "2024-07-29T15:18:31.224Z"
   },
   {
    "duration": 58,
    "start_time": "2024-07-29T15:18:31.244Z"
   },
   {
    "duration": 573,
    "start_time": "2024-07-29T15:18:31.305Z"
   },
   {
    "duration": 24,
    "start_time": "2024-07-29T15:18:31.881Z"
   },
   {
    "duration": 123,
    "start_time": "2024-07-29T15:18:31.908Z"
   },
   {
    "duration": 88,
    "start_time": "2024-07-29T15:18:32.034Z"
   },
   {
    "duration": 8,
    "start_time": "2024-07-29T15:18:32.125Z"
   },
   {
    "duration": 442,
    "start_time": "2024-07-29T15:18:32.137Z"
   },
   {
    "duration": 34,
    "start_time": "2024-07-29T15:18:32.582Z"
   },
   {
    "duration": 39,
    "start_time": "2024-07-29T15:18:32.619Z"
   },
   {
    "duration": 48,
    "start_time": "2024-07-29T15:18:32.661Z"
   },
   {
    "duration": 107,
    "start_time": "2024-07-29T15:18:32.712Z"
   },
   {
    "duration": 100,
    "start_time": "2024-07-29T15:18:32.822Z"
   },
   {
    "duration": 39,
    "start_time": "2024-07-29T15:18:32.926Z"
   },
   {
    "duration": 7,
    "start_time": "2024-07-29T15:18:32.969Z"
   },
   {
    "duration": 11,
    "start_time": "2024-07-29T15:18:33.003Z"
   },
   {
    "duration": 130,
    "start_time": "2024-07-29T15:18:33.018Z"
   },
   {
    "duration": 9,
    "start_time": "2024-07-29T15:18:33.151Z"
   },
   {
    "duration": 118,
    "start_time": "2024-07-29T15:18:33.163Z"
   },
   {
    "duration": 31,
    "start_time": "2024-07-29T15:18:33.284Z"
   },
   {
    "duration": 99,
    "start_time": "2024-07-29T15:18:33.318Z"
   },
   {
    "duration": 7,
    "start_time": "2024-07-29T15:18:33.420Z"
   },
   {
    "duration": 11,
    "start_time": "2024-07-29T15:18:33.430Z"
   },
   {
    "duration": 123,
    "start_time": "2024-07-29T15:18:33.444Z"
   },
   {
    "duration": 9,
    "start_time": "2024-07-29T15:18:33.570Z"
   },
   {
    "duration": 79,
    "start_time": "2024-07-29T15:18:33.601Z"
   },
   {
    "duration": 20,
    "start_time": "2024-07-29T15:18:33.683Z"
   },
   {
    "duration": 11,
    "start_time": "2024-07-29T15:18:33.707Z"
   },
   {
    "duration": 3,
    "start_time": "2024-07-29T15:18:33.722Z"
   },
   {
    "duration": 285,
    "start_time": "2024-07-29T15:18:33.729Z"
   },
   {
    "duration": 41,
    "start_time": "2024-07-29T15:18:34.018Z"
   },
   {
    "duration": 61,
    "start_time": "2024-07-29T15:18:34.062Z"
   },
   {
    "duration": 15,
    "start_time": "2024-07-29T15:18:34.126Z"
   },
   {
    "duration": 15,
    "start_time": "2024-07-29T15:18:34.144Z"
   },
   {
    "duration": 76,
    "start_time": "2024-07-29T15:18:34.162Z"
   },
   {
    "duration": 32,
    "start_time": "2024-07-29T15:18:34.241Z"
   },
   {
    "duration": 20,
    "start_time": "2024-07-29T15:18:34.303Z"
   },
   {
    "duration": 877,
    "start_time": "2024-09-19T19:59:13.119Z"
   },
   {
    "duration": 23,
    "start_time": "2024-09-19T19:59:13.998Z"
   },
   {
    "duration": 2,
    "start_time": "2024-09-19T19:59:14.023Z"
   },
   {
    "duration": 7,
    "start_time": "2024-09-19T19:59:14.027Z"
   },
   {
    "duration": 8,
    "start_time": "2024-09-19T19:59:14.035Z"
   },
   {
    "duration": 8,
    "start_time": "2024-09-19T19:59:14.046Z"
   },
   {
    "duration": 3,
    "start_time": "2024-09-19T19:59:14.056Z"
   },
   {
    "duration": 8,
    "start_time": "2024-09-19T19:59:14.070Z"
   },
   {
    "duration": 4,
    "start_time": "2024-09-19T19:59:14.079Z"
   },
   {
    "duration": 6,
    "start_time": "2024-09-19T19:59:14.087Z"
   },
   {
    "duration": 4,
    "start_time": "2024-09-19T19:59:14.095Z"
   },
   {
    "duration": 10,
    "start_time": "2024-09-19T19:59:14.101Z"
   },
   {
    "duration": 3,
    "start_time": "2024-09-19T19:59:14.113Z"
   },
   {
    "duration": 7,
    "start_time": "2024-09-19T19:59:14.118Z"
   },
   {
    "duration": 47,
    "start_time": "2024-09-19T19:59:14.127Z"
   },
   {
    "duration": 4,
    "start_time": "2024-09-19T19:59:14.176Z"
   },
   {
    "duration": 5,
    "start_time": "2024-09-19T19:59:14.182Z"
   },
   {
    "duration": 11,
    "start_time": "2024-09-19T19:59:14.188Z"
   },
   {
    "duration": 4,
    "start_time": "2024-09-19T19:59:14.200Z"
   },
   {
    "duration": 10,
    "start_time": "2024-09-19T19:59:14.205Z"
   },
   {
    "duration": 9,
    "start_time": "2024-09-19T19:59:14.217Z"
   },
   {
    "duration": 5,
    "start_time": "2024-09-19T19:59:14.270Z"
   },
   {
    "duration": 12,
    "start_time": "2024-09-19T19:59:14.276Z"
   },
   {
    "duration": 3,
    "start_time": "2024-09-19T19:59:14.289Z"
   },
   {
    "duration": 2,
    "start_time": "2024-09-19T19:59:14.293Z"
   },
   {
    "duration": 6,
    "start_time": "2024-09-19T19:59:14.297Z"
   },
   {
    "duration": 9,
    "start_time": "2024-09-19T19:59:14.304Z"
   },
   {
    "duration": 5,
    "start_time": "2024-09-19T19:59:14.319Z"
   },
   {
    "duration": 8,
    "start_time": "2024-09-19T19:59:14.369Z"
   },
   {
    "duration": 4,
    "start_time": "2024-09-19T19:59:14.379Z"
   },
   {
    "duration": 7,
    "start_time": "2024-09-19T19:59:14.385Z"
   },
   {
    "duration": 8,
    "start_time": "2024-09-19T19:59:14.393Z"
   },
   {
    "duration": 8,
    "start_time": "2024-09-19T19:59:14.403Z"
   },
   {
    "duration": 372,
    "start_time": "2024-09-19T19:59:14.412Z"
   },
   {
    "duration": 13,
    "start_time": "2024-09-19T19:59:14.786Z"
   },
   {
    "duration": 70,
    "start_time": "2024-09-19T19:59:14.800Z"
   },
   {
    "duration": 48,
    "start_time": "2024-09-19T19:59:14.873Z"
   },
   {
    "duration": 5,
    "start_time": "2024-09-19T19:59:14.923Z"
   },
   {
    "duration": 233,
    "start_time": "2024-09-19T19:59:14.929Z"
   },
   {
    "duration": 13,
    "start_time": "2024-09-19T19:59:15.169Z"
   },
   {
    "duration": 18,
    "start_time": "2024-09-19T19:59:15.183Z"
   },
   {
    "duration": 9,
    "start_time": "2024-09-19T19:59:15.203Z"
   },
   {
    "duration": 60,
    "start_time": "2024-09-19T19:59:15.214Z"
   },
   {
    "duration": 41,
    "start_time": "2024-09-19T19:59:15.276Z"
   },
   {
    "duration": 17,
    "start_time": "2024-09-19T19:59:15.319Z"
   },
   {
    "duration": 4,
    "start_time": "2024-09-19T19:59:15.338Z"
   },
   {
    "duration": 31,
    "start_time": "2024-09-19T19:59:15.343Z"
   },
   {
    "duration": 47,
    "start_time": "2024-09-19T19:59:15.376Z"
   },
   {
    "duration": 5,
    "start_time": "2024-09-19T19:59:15.424Z"
   },
   {
    "duration": 66,
    "start_time": "2024-09-19T19:59:15.430Z"
   },
   {
    "duration": 9,
    "start_time": "2024-09-19T19:59:15.497Z"
   },
   {
    "duration": 36,
    "start_time": "2024-09-19T19:59:15.507Z"
   },
   {
    "duration": 28,
    "start_time": "2024-09-19T19:59:15.545Z"
   },
   {
    "duration": 6,
    "start_time": "2024-09-19T19:59:15.574Z"
   },
   {
    "duration": 41,
    "start_time": "2024-09-19T19:59:15.581Z"
   },
   {
    "duration": 6,
    "start_time": "2024-09-19T19:59:15.624Z"
   },
   {
    "duration": 69,
    "start_time": "2024-09-19T19:59:15.632Z"
   },
   {
    "duration": 3,
    "start_time": "2024-09-19T19:59:15.703Z"
   },
   {
    "duration": 5,
    "start_time": "2024-09-19T19:59:15.708Z"
   },
   {
    "duration": 2,
    "start_time": "2024-09-19T19:59:15.715Z"
   },
   {
    "duration": 139,
    "start_time": "2024-09-19T19:59:15.718Z"
   },
   {
    "duration": 19,
    "start_time": "2024-09-19T19:59:15.871Z"
   },
   {
    "duration": 16,
    "start_time": "2024-09-19T19:59:15.891Z"
   },
   {
    "duration": 9,
    "start_time": "2024-09-19T19:59:15.910Z"
   },
   {
    "duration": 7,
    "start_time": "2024-09-19T19:59:15.921Z"
   },
   {
    "duration": 56,
    "start_time": "2024-09-19T19:59:15.931Z"
   },
   {
    "duration": 16,
    "start_time": "2024-09-19T19:59:15.992Z"
   },
   {
    "duration": 11,
    "start_time": "2024-09-19T19:59:16.010Z"
   },
   {
    "duration": 852,
    "start_time": "2024-09-20T22:32:40.377Z"
   },
   {
    "duration": 25,
    "start_time": "2024-09-20T22:32:41.233Z"
   },
   {
    "duration": 2,
    "start_time": "2024-09-20T22:32:41.260Z"
   },
   {
    "duration": 8,
    "start_time": "2024-09-20T22:32:41.265Z"
   },
   {
    "duration": 7,
    "start_time": "2024-09-20T22:32:41.275Z"
   },
   {
    "duration": 10,
    "start_time": "2024-09-20T22:32:41.284Z"
   },
   {
    "duration": 4,
    "start_time": "2024-09-20T22:32:41.305Z"
   },
   {
    "duration": 8,
    "start_time": "2024-09-20T22:32:41.310Z"
   },
   {
    "duration": 5,
    "start_time": "2024-09-20T22:32:41.319Z"
   },
   {
    "duration": 4,
    "start_time": "2024-09-20T22:32:41.328Z"
   },
   {
    "duration": 5,
    "start_time": "2024-09-20T22:32:41.333Z"
   },
   {
    "duration": 10,
    "start_time": "2024-09-20T22:32:41.339Z"
   },
   {
    "duration": 4,
    "start_time": "2024-09-20T22:32:41.350Z"
   },
   {
    "duration": 51,
    "start_time": "2024-09-20T22:32:41.356Z"
   },
   {
    "duration": 5,
    "start_time": "2024-09-20T22:32:41.408Z"
   },
   {
    "duration": 6,
    "start_time": "2024-09-20T22:32:41.415Z"
   },
   {
    "duration": 5,
    "start_time": "2024-09-20T22:32:41.423Z"
   },
   {
    "duration": 11,
    "start_time": "2024-09-20T22:32:41.430Z"
   },
   {
    "duration": 4,
    "start_time": "2024-09-20T22:32:41.443Z"
   },
   {
    "duration": 9,
    "start_time": "2024-09-20T22:32:41.449Z"
   },
   {
    "duration": 50,
    "start_time": "2024-09-20T22:32:41.460Z"
   },
   {
    "duration": 4,
    "start_time": "2024-09-20T22:32:41.512Z"
   },
   {
    "duration": 10,
    "start_time": "2024-09-20T22:32:41.518Z"
   },
   {
    "duration": 2,
    "start_time": "2024-09-20T22:32:41.530Z"
   },
   {
    "duration": 2,
    "start_time": "2024-09-20T22:32:41.533Z"
   },
   {
    "duration": 7,
    "start_time": "2024-09-20T22:32:41.537Z"
   },
   {
    "duration": 9,
    "start_time": "2024-09-20T22:32:41.545Z"
   },
   {
    "duration": 46,
    "start_time": "2024-09-20T22:32:41.560Z"
   },
   {
    "duration": 9,
    "start_time": "2024-09-20T22:32:41.608Z"
   },
   {
    "duration": 5,
    "start_time": "2024-09-20T22:32:41.619Z"
   },
   {
    "duration": 6,
    "start_time": "2024-09-20T22:32:41.626Z"
   },
   {
    "duration": 9,
    "start_time": "2024-09-20T22:32:41.634Z"
   },
   {
    "duration": 9,
    "start_time": "2024-09-20T22:32:41.644Z"
   },
   {
    "duration": 378,
    "start_time": "2024-09-20T22:32:41.654Z"
   },
   {
    "duration": 12,
    "start_time": "2024-09-20T22:32:42.034Z"
   },
   {
    "duration": 65,
    "start_time": "2024-09-20T22:32:42.048Z"
   },
   {
    "duration": 37,
    "start_time": "2024-09-20T22:32:42.115Z"
   },
   {
    "duration": 4,
    "start_time": "2024-09-20T22:32:42.154Z"
   },
   {
    "duration": 237,
    "start_time": "2024-09-20T22:32:42.160Z"
   },
   {
    "duration": 15,
    "start_time": "2024-09-20T22:32:42.404Z"
   },
   {
    "duration": 28,
    "start_time": "2024-09-20T22:32:42.422Z"
   },
   {
    "duration": 11,
    "start_time": "2024-09-20T22:32:42.451Z"
   },
   {
    "duration": 65,
    "start_time": "2024-09-20T22:32:42.463Z"
   },
   {
    "duration": 40,
    "start_time": "2024-09-20T22:32:42.530Z"
   },
   {
    "duration": 34,
    "start_time": "2024-09-20T22:32:42.572Z"
   },
   {
    "duration": 7,
    "start_time": "2024-09-20T22:32:42.608Z"
   },
   {
    "duration": 7,
    "start_time": "2024-09-20T22:32:42.616Z"
   },
   {
    "duration": 47,
    "start_time": "2024-09-20T22:32:42.625Z"
   },
   {
    "duration": 5,
    "start_time": "2024-09-20T22:32:42.674Z"
   },
   {
    "duration": 69,
    "start_time": "2024-09-20T22:32:42.681Z"
   },
   {
    "duration": 9,
    "start_time": "2024-09-20T22:32:42.753Z"
   },
   {
    "duration": 62,
    "start_time": "2024-09-20T22:32:42.764Z"
   },
   {
    "duration": 5,
    "start_time": "2024-09-20T22:32:42.829Z"
   },
   {
    "duration": 6,
    "start_time": "2024-09-20T22:32:42.837Z"
   },
   {
    "duration": 66,
    "start_time": "2024-09-20T22:32:42.846Z"
   },
   {
    "duration": 6,
    "start_time": "2024-09-20T22:32:42.914Z"
   },
   {
    "duration": 39,
    "start_time": "2024-09-20T22:32:42.922Z"
   },
   {
    "duration": 3,
    "start_time": "2024-09-20T22:32:42.963Z"
   },
   {
    "duration": 6,
    "start_time": "2024-09-20T22:32:42.967Z"
   },
   {
    "duration": 31,
    "start_time": "2024-09-20T22:32:42.974Z"
   },
   {
    "duration": 132,
    "start_time": "2024-09-20T22:32:43.007Z"
   },
   {
    "duration": 20,
    "start_time": "2024-09-20T22:32:43.140Z"
   },
   {
    "duration": 16,
    "start_time": "2024-09-20T22:32:43.162Z"
   },
   {
    "duration": 28,
    "start_time": "2024-09-20T22:32:43.179Z"
   },
   {
    "duration": 8,
    "start_time": "2024-09-20T22:32:43.209Z"
   },
   {
    "duration": 20,
    "start_time": "2024-09-20T22:32:43.219Z"
   },
   {
    "duration": 16,
    "start_time": "2024-09-20T22:32:43.240Z"
   },
   {
    "duration": 10,
    "start_time": "2024-09-20T22:32:43.258Z"
   },
   {
    "duration": 830,
    "start_time": "2024-09-22T19:26:48.208Z"
   },
   {
    "duration": 26,
    "start_time": "2024-09-22T19:26:49.040Z"
   },
   {
    "duration": 3,
    "start_time": "2024-09-22T19:26:49.067Z"
   },
   {
    "duration": 9,
    "start_time": "2024-09-22T19:26:49.072Z"
   },
   {
    "duration": 7,
    "start_time": "2024-09-22T19:26:49.083Z"
   },
   {
    "duration": 8,
    "start_time": "2024-09-22T19:26:49.092Z"
   },
   {
    "duration": 3,
    "start_time": "2024-09-22T19:26:49.102Z"
   },
   {
    "duration": 28,
    "start_time": "2024-09-22T19:26:49.107Z"
   },
   {
    "duration": 4,
    "start_time": "2024-09-22T19:26:49.137Z"
   },
   {
    "duration": 4,
    "start_time": "2024-09-22T19:26:49.143Z"
   },
   {
    "duration": 5,
    "start_time": "2024-09-22T19:26:49.149Z"
   },
   {
    "duration": 10,
    "start_time": "2024-09-22T19:26:49.156Z"
   },
   {
    "duration": 3,
    "start_time": "2024-09-22T19:26:49.168Z"
   },
   {
    "duration": 8,
    "start_time": "2024-09-22T19:26:49.175Z"
   },
   {
    "duration": 5,
    "start_time": "2024-09-22T19:26:49.184Z"
   },
   {
    "duration": 5,
    "start_time": "2024-09-22T19:26:49.232Z"
   },
   {
    "duration": 5,
    "start_time": "2024-09-22T19:26:49.239Z"
   },
   {
    "duration": 10,
    "start_time": "2024-09-22T19:26:49.245Z"
   },
   {
    "duration": 4,
    "start_time": "2024-09-22T19:26:49.257Z"
   },
   {
    "duration": 10,
    "start_time": "2024-09-22T19:26:49.262Z"
   },
   {
    "duration": 10,
    "start_time": "2024-09-22T19:26:49.273Z"
   },
   {
    "duration": 3,
    "start_time": "2024-09-22T19:26:49.285Z"
   },
   {
    "duration": 10,
    "start_time": "2024-09-22T19:26:49.332Z"
   },
   {
    "duration": 2,
    "start_time": "2024-09-22T19:26:49.344Z"
   },
   {
    "duration": 3,
    "start_time": "2024-09-22T19:26:49.347Z"
   },
   {
    "duration": 6,
    "start_time": "2024-09-22T19:26:49.353Z"
   },
   {
    "duration": 9,
    "start_time": "2024-09-22T19:26:49.360Z"
   },
   {
    "duration": 6,
    "start_time": "2024-09-22T19:26:49.370Z"
   },
   {
    "duration": 8,
    "start_time": "2024-09-22T19:26:49.377Z"
   },
   {
    "duration": 45,
    "start_time": "2024-09-22T19:26:49.386Z"
   },
   {
    "duration": 8,
    "start_time": "2024-09-22T19:26:49.433Z"
   },
   {
    "duration": 9,
    "start_time": "2024-09-22T19:26:49.443Z"
   },
   {
    "duration": 8,
    "start_time": "2024-09-22T19:26:49.453Z"
   },
   {
    "duration": 349,
    "start_time": "2024-09-22T19:26:49.463Z"
   },
   {
    "duration": 20,
    "start_time": "2024-09-22T19:26:49.813Z"
   },
   {
    "duration": 36,
    "start_time": "2024-09-22T19:26:49.836Z"
   },
   {
    "duration": 69,
    "start_time": "2024-09-22T19:26:49.874Z"
   },
   {
    "duration": 4,
    "start_time": "2024-09-22T19:26:49.945Z"
   },
   {
    "duration": 222,
    "start_time": "2024-09-22T19:26:49.951Z"
   },
   {
    "duration": 12,
    "start_time": "2024-09-22T19:26:50.175Z"
   },
   {
    "duration": 18,
    "start_time": "2024-09-22T19:26:50.193Z"
   },
   {
    "duration": 26,
    "start_time": "2024-09-22T19:26:50.212Z"
   },
   {
    "duration": 35,
    "start_time": "2024-09-22T19:26:50.240Z"
   },
   {
    "duration": 61,
    "start_time": "2024-09-22T19:26:50.276Z"
   },
   {
    "duration": 17,
    "start_time": "2024-09-22T19:26:50.339Z"
   },
   {
    "duration": 4,
    "start_time": "2024-09-22T19:26:50.357Z"
   },
   {
    "duration": 5,
    "start_time": "2024-09-22T19:26:50.363Z"
   },
   {
    "duration": 73,
    "start_time": "2024-09-22T19:26:50.370Z"
   },
   {
    "duration": 4,
    "start_time": "2024-09-22T19:26:50.445Z"
   },
   {
    "duration": 46,
    "start_time": "2024-09-22T19:26:50.451Z"
   },
   {
    "duration": 8,
    "start_time": "2024-09-22T19:26:50.499Z"
   },
   {
    "duration": 57,
    "start_time": "2024-09-22T19:26:50.509Z"
   },
   {
    "duration": 4,
    "start_time": "2024-09-22T19:26:50.568Z"
   },
   {
    "duration": 8,
    "start_time": "2024-09-22T19:26:50.574Z"
   },
   {
    "duration": 66,
    "start_time": "2024-09-22T19:26:50.583Z"
   },
   {
    "duration": 4,
    "start_time": "2024-09-22T19:26:50.650Z"
   },
   {
    "duration": 38,
    "start_time": "2024-09-22T19:26:50.656Z"
   },
   {
    "duration": 3,
    "start_time": "2024-09-22T19:26:50.696Z"
   },
   {
    "duration": 32,
    "start_time": "2024-09-22T19:26:50.700Z"
   },
   {
    "duration": 2,
    "start_time": "2024-09-22T19:26:50.734Z"
   },
   {
    "duration": 127,
    "start_time": "2024-09-22T19:26:50.737Z"
   },
   {
    "duration": 18,
    "start_time": "2024-09-22T19:26:50.866Z"
   },
   {
    "duration": 15,
    "start_time": "2024-09-22T19:26:50.886Z"
   },
   {
    "duration": 29,
    "start_time": "2024-09-22T19:26:50.902Z"
   },
   {
    "duration": 7,
    "start_time": "2024-09-22T19:26:50.933Z"
   },
   {
    "duration": 19,
    "start_time": "2024-09-22T19:26:50.942Z"
   },
   {
    "duration": 16,
    "start_time": "2024-09-22T19:26:50.963Z"
   },
   {
    "duration": 11,
    "start_time": "2024-09-22T19:26:50.981Z"
   },
   {
    "duration": 12,
    "start_time": "2024-09-22T19:32:19.425Z"
   },
   {
    "duration": 9,
    "start_time": "2024-09-22T19:43:30.233Z"
   },
   {
    "duration": 11,
    "start_time": "2024-09-22T19:43:49.734Z"
   },
   {
    "duration": 10,
    "start_time": "2024-09-22T19:47:50.653Z"
   },
   {
    "duration": 889,
    "start_time": "2024-10-21T21:47:35.025Z"
   },
   {
    "duration": 16,
    "start_time": "2024-10-21T21:47:35.916Z"
   },
   {
    "duration": 2,
    "start_time": "2024-10-21T21:47:35.934Z"
   },
   {
    "duration": 8,
    "start_time": "2024-10-21T21:47:35.939Z"
   },
   {
    "duration": 8,
    "start_time": "2024-10-21T21:47:35.949Z"
   },
   {
    "duration": 9,
    "start_time": "2024-10-21T21:47:35.959Z"
   },
   {
    "duration": 4,
    "start_time": "2024-10-21T21:47:35.969Z"
   },
   {
    "duration": 36,
    "start_time": "2024-10-21T21:47:35.975Z"
   },
   {
    "duration": 6,
    "start_time": "2024-10-21T21:47:36.013Z"
   },
   {
    "duration": 8,
    "start_time": "2024-10-21T21:47:36.023Z"
   },
   {
    "duration": 5,
    "start_time": "2024-10-21T21:47:36.034Z"
   },
   {
    "duration": 11,
    "start_time": "2024-10-21T21:47:36.042Z"
   },
   {
    "duration": 4,
    "start_time": "2024-10-21T21:47:36.055Z"
   },
   {
    "duration": 8,
    "start_time": "2024-10-21T21:47:36.061Z"
   },
   {
    "duration": 6,
    "start_time": "2024-10-21T21:47:36.106Z"
   },
   {
    "duration": 12,
    "start_time": "2024-10-21T21:47:36.114Z"
   },
   {
    "duration": 7,
    "start_time": "2024-10-21T21:47:36.128Z"
   },
   {
    "duration": 12,
    "start_time": "2024-10-21T21:47:36.137Z"
   },
   {
    "duration": 4,
    "start_time": "2024-10-21T21:47:36.151Z"
   },
   {
    "duration": 9,
    "start_time": "2024-10-21T21:47:36.157Z"
   },
   {
    "duration": 43,
    "start_time": "2024-10-21T21:47:36.168Z"
   },
   {
    "duration": 4,
    "start_time": "2024-10-21T21:47:36.212Z"
   },
   {
    "duration": 11,
    "start_time": "2024-10-21T21:47:36.219Z"
   },
   {
    "duration": 2,
    "start_time": "2024-10-21T21:47:36.231Z"
   },
   {
    "duration": 3,
    "start_time": "2024-10-21T21:47:36.235Z"
   },
   {
    "duration": 7,
    "start_time": "2024-10-21T21:47:36.240Z"
   },
   {
    "duration": 10,
    "start_time": "2024-10-21T21:47:36.249Z"
   },
   {
    "duration": 6,
    "start_time": "2024-10-21T21:47:36.265Z"
   },
   {
    "duration": 19,
    "start_time": "2024-10-21T21:47:36.309Z"
   },
   {
    "duration": 6,
    "start_time": "2024-10-21T21:47:36.330Z"
   },
   {
    "duration": 8,
    "start_time": "2024-10-21T21:47:36.340Z"
   },
   {
    "duration": 12,
    "start_time": "2024-10-21T21:47:36.350Z"
   },
   {
    "duration": 11,
    "start_time": "2024-10-21T21:47:36.363Z"
   },
   {
    "duration": 359,
    "start_time": "2024-10-21T21:47:36.376Z"
   },
   {
    "duration": 14,
    "start_time": "2024-10-21T21:47:36.737Z"
   },
   {
    "duration": 75,
    "start_time": "2024-10-21T21:47:36.752Z"
   },
   {
    "duration": 40,
    "start_time": "2024-10-21T21:47:36.829Z"
   },
   {
    "duration": 37,
    "start_time": "2024-10-21T21:47:36.871Z"
   },
   {
    "duration": 233,
    "start_time": "2024-10-21T21:47:36.912Z"
   },
   {
    "duration": 13,
    "start_time": "2024-10-21T21:47:37.147Z"
   },
   {
    "duration": 18,
    "start_time": "2024-10-21T21:47:37.162Z"
   },
   {
    "duration": 27,
    "start_time": "2024-10-21T21:47:37.181Z"
   },
   {
    "duration": 42,
    "start_time": "2024-10-21T21:47:37.210Z"
   },
   {
    "duration": 57,
    "start_time": "2024-10-21T21:47:37.255Z"
   },
   {
    "duration": 21,
    "start_time": "2024-10-21T21:47:37.314Z"
   },
   {
    "duration": 5,
    "start_time": "2024-10-21T21:47:37.337Z"
   },
   {
    "duration": 5,
    "start_time": "2024-10-21T21:47:37.344Z"
   },
   {
    "duration": 81,
    "start_time": "2024-10-21T21:47:37.352Z"
   },
   {
    "duration": 8,
    "start_time": "2024-10-21T21:47:37.435Z"
   },
   {
    "duration": 45,
    "start_time": "2024-10-21T21:47:37.445Z"
   },
   {
    "duration": 25,
    "start_time": "2024-10-21T21:47:37.492Z"
   },
   {
    "duration": 46,
    "start_time": "2024-10-21T21:47:37.519Z"
   },
   {
    "duration": 4,
    "start_time": "2024-10-21T21:47:37.566Z"
   },
   {
    "duration": 5,
    "start_time": "2024-10-21T21:47:37.572Z"
   },
   {
    "duration": 82,
    "start_time": "2024-10-21T21:47:37.579Z"
   },
   {
    "duration": 4,
    "start_time": "2024-10-21T21:47:37.663Z"
   },
   {
    "duration": 72,
    "start_time": "2024-10-21T21:47:37.669Z"
   },
   {
    "duration": 3,
    "start_time": "2024-10-21T21:47:37.743Z"
   },
   {
    "duration": 10,
    "start_time": "2024-10-21T21:47:37.748Z"
   },
   {
    "duration": 2,
    "start_time": "2024-10-21T21:47:37.761Z"
   },
   {
    "duration": 164,
    "start_time": "2024-10-21T21:47:37.765Z"
   },
   {
    "duration": 31,
    "start_time": "2024-10-21T21:47:37.931Z"
   },
   {
    "duration": 15,
    "start_time": "2024-10-21T21:47:37.963Z"
   },
   {
    "duration": 30,
    "start_time": "2024-10-21T21:47:37.979Z"
   },
   {
    "duration": 12,
    "start_time": "2024-10-21T21:47:38.010Z"
   },
   {
    "duration": 31,
    "start_time": "2024-10-21T21:47:38.024Z"
   },
   {
    "duration": 16,
    "start_time": "2024-10-21T21:47:38.057Z"
   },
   {
    "duration": 31,
    "start_time": "2024-10-21T21:47:38.074Z"
   },
   {
    "duration": 3626,
    "start_time": "2024-10-24T22:55:50.647Z"
   },
   {
    "duration": 25,
    "start_time": "2024-10-24T22:55:54.277Z"
   },
   {
    "duration": 3,
    "start_time": "2024-10-24T22:55:54.304Z"
   },
   {
    "duration": 11,
    "start_time": "2024-10-24T22:55:54.313Z"
   },
   {
    "duration": 12,
    "start_time": "2024-10-24T22:55:54.326Z"
   },
   {
    "duration": 14,
    "start_time": "2024-10-24T22:55:54.341Z"
   },
   {
    "duration": 6,
    "start_time": "2024-10-24T22:55:54.358Z"
   },
   {
    "duration": 13,
    "start_time": "2024-10-24T22:55:54.366Z"
   },
   {
    "duration": 31,
    "start_time": "2024-10-24T22:55:54.381Z"
   },
   {
    "duration": 9,
    "start_time": "2024-10-24T22:55:54.416Z"
   },
   {
    "duration": 8,
    "start_time": "2024-10-24T22:55:54.427Z"
   },
   {
    "duration": 17,
    "start_time": "2024-10-24T22:55:54.437Z"
   },
   {
    "duration": 5,
    "start_time": "2024-10-24T22:55:54.457Z"
   },
   {
    "duration": 47,
    "start_time": "2024-10-24T22:55:54.464Z"
   },
   {
    "duration": 7,
    "start_time": "2024-10-24T22:55:54.514Z"
   },
   {
    "duration": 7,
    "start_time": "2024-10-24T22:55:54.524Z"
   },
   {
    "duration": 8,
    "start_time": "2024-10-24T22:55:54.532Z"
   },
   {
    "duration": 18,
    "start_time": "2024-10-24T22:55:54.544Z"
   },
   {
    "duration": 6,
    "start_time": "2024-10-24T22:55:54.564Z"
   },
   {
    "duration": 48,
    "start_time": "2024-10-24T22:55:54.572Z"
   },
   {
    "duration": 14,
    "start_time": "2024-10-24T22:55:54.622Z"
   },
   {
    "duration": 6,
    "start_time": "2024-10-24T22:55:54.639Z"
   },
   {
    "duration": 18,
    "start_time": "2024-10-24T22:55:54.648Z"
   },
   {
    "duration": 2,
    "start_time": "2024-10-24T22:55:54.668Z"
   },
   {
    "duration": 38,
    "start_time": "2024-10-24T22:55:54.672Z"
   },
   {
    "duration": 11,
    "start_time": "2024-10-24T22:55:54.714Z"
   },
   {
    "duration": 16,
    "start_time": "2024-10-24T22:55:54.727Z"
   },
   {
    "duration": 10,
    "start_time": "2024-10-24T22:55:54.760Z"
   },
   {
    "duration": 10,
    "start_time": "2024-10-24T22:55:54.773Z"
   },
   {
    "duration": 29,
    "start_time": "2024-10-24T22:55:54.785Z"
   },
   {
    "duration": 9,
    "start_time": "2024-10-24T22:55:54.817Z"
   },
   {
    "duration": 15,
    "start_time": "2024-10-24T22:55:54.829Z"
   },
   {
    "duration": 12,
    "start_time": "2024-10-24T22:55:54.846Z"
   },
   {
    "duration": 510,
    "start_time": "2024-10-24T22:55:54.861Z"
   },
   {
    "duration": 17,
    "start_time": "2024-10-24T22:55:55.373Z"
   },
   {
    "duration": 70,
    "start_time": "2024-10-24T22:55:55.392Z"
   },
   {
    "duration": 84,
    "start_time": "2024-10-24T22:55:55.465Z"
   },
   {
    "duration": 6,
    "start_time": "2024-10-24T22:55:55.551Z"
   },
   {
    "duration": 304,
    "start_time": "2024-10-24T22:55:55.559Z"
   },
   {
    "duration": 14,
    "start_time": "2024-10-24T22:55:55.865Z"
   },
   {
    "duration": 40,
    "start_time": "2024-10-24T22:55:55.882Z"
   },
   {
    "duration": 15,
    "start_time": "2024-10-24T22:55:55.924Z"
   },
   {
    "duration": 44,
    "start_time": "2024-10-24T22:55:55.942Z"
   },
   {
    "duration": 83,
    "start_time": "2024-10-24T22:55:55.988Z"
   },
   {
    "duration": 17,
    "start_time": "2024-10-24T22:55:56.072Z"
   },
   {
    "duration": 20,
    "start_time": "2024-10-24T22:55:56.091Z"
   },
   {
    "duration": 9,
    "start_time": "2024-10-24T22:55:56.113Z"
   },
   {
    "duration": 62,
    "start_time": "2024-10-24T22:55:56.124Z"
   },
   {
    "duration": 6,
    "start_time": "2024-10-24T22:55:56.209Z"
   },
   {
    "duration": 65,
    "start_time": "2024-10-24T22:55:56.217Z"
   },
   {
    "duration": 10,
    "start_time": "2024-10-24T22:55:56.283Z"
   },
   {
    "duration": 73,
    "start_time": "2024-10-24T22:55:56.294Z"
   },
   {
    "duration": 7,
    "start_time": "2024-10-24T22:55:56.369Z"
   },
   {
    "duration": 7,
    "start_time": "2024-10-24T22:55:56.378Z"
   },
   {
    "duration": 84,
    "start_time": "2024-10-24T22:55:56.386Z"
   },
   {
    "duration": 4,
    "start_time": "2024-10-24T22:55:56.472Z"
   },
   {
    "duration": 68,
    "start_time": "2024-10-24T22:55:56.479Z"
   },
   {
    "duration": 4,
    "start_time": "2024-10-24T22:55:56.549Z"
   },
   {
    "duration": 6,
    "start_time": "2024-10-24T22:55:56.556Z"
   },
   {
    "duration": 2,
    "start_time": "2024-10-24T22:55:56.564Z"
   },
   {
    "duration": 197,
    "start_time": "2024-10-24T22:55:56.568Z"
   },
   {
    "duration": 21,
    "start_time": "2024-10-24T22:55:56.767Z"
   },
   {
    "duration": 39,
    "start_time": "2024-10-24T22:55:56.790Z"
   },
   {
    "duration": 15,
    "start_time": "2024-10-24T22:55:56.830Z"
   },
   {
    "duration": 10,
    "start_time": "2024-10-24T22:55:56.847Z"
   },
   {
    "duration": 22,
    "start_time": "2024-10-24T22:55:56.859Z"
   },
   {
    "duration": 42,
    "start_time": "2024-10-24T22:55:56.883Z"
   },
   {
    "duration": 17,
    "start_time": "2024-10-24T22:55:56.927Z"
   }
  ],
  "kernelspec": {
   "display_name": "Python 3",
   "language": "python",
   "name": "python3"
  },
  "language_info": {
   "codemirror_mode": {
    "name": "ipython",
    "version": 3
   },
   "file_extension": ".py",
   "mimetype": "text/x-python",
   "name": "python",
   "nbconvert_exporter": "python",
   "pygments_lexer": "ipython3",
   "version": "3.12.2"
  },
  "toc": {
   "base_numbering": "1",
   "nav_menu": {},
   "number_sections": false,
   "sideBar": true,
   "skip_h1_title": false,
   "title_cell": "Table of Contents",
   "title_sidebar": "Contents",
   "toc_cell": true,
   "toc_position": {
    "height": "calc(100% - 180px)",
    "left": "10px",
    "top": "150px",
    "width": "328.547px"
   },
   "toc_section_display": true,
   "toc_window_display": true
  }
 },
 "nbformat": 4,
 "nbformat_minor": 2
}
